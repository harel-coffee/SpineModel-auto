{
 "cells": [
  {
   "cell_type": "code",
   "execution_count": 1,
   "metadata": {},
   "outputs": [],
   "source": [
    "from scipy.integrate import quad\n",
    "from numpy import *\n",
    "from matplotlib.pylab import *\n",
    "import matplotlib as mpl\n",
    "%matplotlib inline\n",
    "#from pandas.core import *\n",
    "import pandas as pd\n",
    "\n",
    "import pickle\n",
    "import scipy.interpolate as intpl"
   ]
  },
  {
   "cell_type": "code",
   "execution_count": 2,
   "metadata": {},
   "outputs": [],
   "source": [
    "import sys\n",
    "sys.path.append('/export/home1/users/bssn/serna/environments/neuron/bin',)"
   ]
  },
  {
   "cell_type": "code",
   "execution_count": 3,
   "metadata": {},
   "outputs": [],
   "source": [
    "import salib \n"
   ]
  },
  {
   "cell_type": "code",
   "execution_count": 4,
   "metadata": {},
   "outputs": [],
   "source": [
    "import itertools"
   ]
  },
  {
   "cell_type": "code",
   "execution_count": 5,
   "metadata": {},
   "outputs": [],
   "source": [
    "folder = \"/mnt/data/spinemodel/conditions/\"\n",
    "condition = \"1000_70_65\"\n",
    "#Jupyters: Proper Spine Model - Inhibition.ipynb\n",
    "with open(folder+\"dis_baselinev3_\"+condition+\"sh.pickle\",\"rb\") as f:\n",
    "    vavgDiS,mesDiS,vtracsDiS,vtracsDDiS,vtracsSDiS,CtracsDiS = pickle.load(f)\n",
    "\n",
    "with open(folder+\"All_baseline_datasetv3_\"+condition+\"sh.pickle\",\"rb\") as f:\n",
    "    vavgT,mesT,vtracsT,vtracsDT,vtracsST,CtracsT,me2T,_,dataT = pickle.load(f)\n",
    "\n",
    "with open(folder+\"dis_ga_glu02v3_\"+condition+\"sh.pickle\",\"rb\") as f:\n",
    "    dis,mes1,mes01 = pickle.load(f)\n",
    "\n",
    "with open(folder+\"dis_glu_ga02v3_\"+condition+\"sh.pickle\",\"rb\") as f:\n",
    "    dis,mes,mes0,times,times0 = pickle.load(f)"
   ]
  },
  {
   "cell_type": "code",
   "execution_count": 6,
   "metadata": {},
   "outputs": [],
   "source": [
    "labels = ['A1','Dss','Rneck']#,'meanDhead']\n",
    "labelsmod = labels\n",
    "labels = ['A1','maxDhead','Dss','Lneck','Lhead','meanDneck_trunc70pc']\n",
    "labelmorph = labels"
   ]
  },
  {
   "cell_type": "code",
   "execution_count": 7,
   "metadata": {},
   "outputs": [
    {
     "data": {
      "text/plain": [
       "(dict_keys(['#Sp', '#Bch', 'Dsb', 'Dss', 'd_interSp', 'Vtot', 'Vh', 'Ln', 'SA', 'nPSD', 'A1', 'A2', 'GPHN_SNR', 'DiS-EMchk', 'Lneck', 'maxDneck', 'minDneck', 'meanDneck', 'Rneck', 'Lhead', 'maxDhead', 'minDhead', 'meanDhead', 'Ah', 'Rhead', 'meanDneck_trunc70pc', 'L', 'D', 'AhA0', 'Rmorph']),\n",
       " (10002, 384))"
      ]
     },
     "execution_count": 7,
     "metadata": {},
     "output_type": "execute_result"
    }
   ],
   "source": [
    "dataT.keys(),vtracsST.shape"
   ]
  },
  {
   "cell_type": "code",
   "execution_count": 95,
   "metadata": {},
   "outputs": [
    {
     "data": {
      "text/plain": [
       "(384,)"
      ]
     },
     "execution_count": 95,
     "metadata": {},
     "output_type": "execute_result"
    }
   ],
   "source": [
    "dataT['A1'].shape"
   ]
  },
  {
   "cell_type": "code",
   "execution_count": 8,
   "metadata": {},
   "outputs": [],
   "source": [
    "pddataT = pd.DataFrame(dataT, columns= list(dataT.keys()))"
   ]
  },
  {
   "cell_type": "code",
   "execution_count": 9,
   "metadata": {},
   "outputs": [],
   "source": [
    "from bootstrap_unshr import btset_cd\n",
    "\n",
    "nsp = 1000000\n",
    "sps = btset_cd(cd='Sp',size=nsp)"
   ]
  },
  {
   "cell_type": "code",
   "execution_count": 10,
   "metadata": {},
   "outputs": [
    {
     "data": {
      "text/plain": [
       "dict_keys(['#Sp', '#Bch', 'Dsb', 'Dss', 'd_interSp', 'Vtot', 'Vh', 'Ln', 'SA', 'nPSD', 'A1', 'A2', 'GPHN_SNR', 'DiS-EMchk', 'Lneck', 'maxDneck', 'minDneck', 'meanDneck', 'Rneck', 'Lhead', 'maxDhead', 'minDhead', 'meanDhead', 'Ah', 'Rhead', 'meanDneck_trunc70pc', 'L', 'D', 'AhA0'])"
      ]
     },
     "execution_count": 10,
     "metadata": {},
     "output_type": "execute_result"
    }
   ],
   "source": [
    "sps.keys()"
   ]
  },
  {
   "cell_type": "code",
   "execution_count": 11,
   "metadata": {},
   "outputs": [
    {
     "name": "stdout",
     "output_type": "stream",
     "text": [
      "[3.67245612e+00 1.44755168e-01 8.20235395e+01 2.11602387e+02] [[3.67245612e+00 1.44755168e-01 8.20235395e+01 2.11602387e+02]]\n"
     ]
    }
   ],
   "source": [
    "#dataA = np.column_stack((sps['A1'],sps['Dss'],sps['Rneck']))\n",
    "# Me habia olvidado de la respuesta \n",
    "dataA = np.column_stack((mesT[:,1]-mesT[:,2],)+tuple(pddataT[key] \n",
    "                                               for key in labelsmod))\n",
    "\n",
    "def rescale(x):\n",
    "    xme, xst = x.mean(0, keepdims = True), x.std(0, keepdims = True)\n",
    "    xt = (x-xme)/xst\n",
    "    return xt, (xme,xst)\n",
    "\n",
    "def undorescale(x,xme,xst):\n",
    "    xt = x*xst+xme\n",
    "    return xt\n",
    "\n",
    "dataA, datpar = rescale(dataA)\n",
    "print(undorescale(dataA,*datpar).mean(0),datpar[0])"
   ]
  },
  {
   "cell_type": "code",
   "execution_count": 96,
   "metadata": {},
   "outputs": [],
   "source": [
    "histogramdd?"
   ]
  },
  {
   "cell_type": "code",
   "execution_count": 160,
   "metadata": {},
   "outputs": [
    {
     "name": "stdout",
     "output_type": "stream",
     "text": [
      "0.009428709104247026 (30, 19, 18, 17) (30, 19, 18, 17) (30, 19, 18, 17) (30, 19, 18, 17) (30, 19, 18, 17)\n"
     ]
    },
    {
     "data": {
      "text/plain": [
       "(0.9999999999999997,\n",
       " 1.0,\n",
       " (1.0027666064081076,\n",
       "  1.0002768980372327,\n",
       "  0.9953091881345394,\n",
       "  0.9939385903751493))"
      ]
     },
     "execution_count": 160,
     "metadata": {},
     "output_type": "execute_result"
    }
   ],
   "source": [
    "hf = histogramdd(dataA, bins = (30,19,18,17), normed = True)\n",
    "hxms = []\n",
    "dx = 1.0\n",
    "for i, hx in enumerate(hf[1]):\n",
    "    hxm = (hx[1:]+hx[:-1])*.5\n",
    "    hxms.append(hxm)\n",
    "    dx = dx*(hx[1]-hx[0])\n",
    "XX = meshgrid(*hxms, indexing='ij')\n",
    "print(dx, hf[0].shape, *tuple(Xt.shape for Xt in XX))\n",
    "var(dataA[:,2]), hf[0].sum()*dx, tuple((Xt**2*hf[0]).sum()/hf[0].sum() for Xt in XX)"
   ]
  },
  {
   "cell_type": "code",
   "execution_count": 161,
   "metadata": {},
   "outputs": [],
   "source": [
    "h = hf[0]\n",
    "hxs = {}\n",
    "hxm = {}\n",
    "dxs = {}\n",
    "dx = 1.0\n",
    "for i, hx in enumerate(hf[1]):\n",
    "    hxs[i] = hx\n",
    "    hxm[i] = (hx[1:]+hx[:-1])*.5\n",
    "    dxs[i] = (hx[1]-hx[0]) \n",
    "    dx = dx*(hx[1]-hx[0])"
   ]
  },
  {
   "cell_type": "code",
   "execution_count": 162,
   "metadata": {},
   "outputs": [
    {
     "name": "stdout",
     "output_type": "stream",
     "text": [
      "0.007073521423461335 0.4996727667199588\n"
     ]
    },
    {
     "name": "stderr",
     "output_type": "stream",
     "text": [
      "/export/home1/users/bssn/serna/environments/neuron/lib/python3.6/site-packages/ipykernel_launcher.py:16: RuntimeWarning: invalid value encountered in double_scalars\n",
      "  app.launch_new_instance()\n"
     ]
    }
   ],
   "source": [
    "ncol = 1\n",
    "hfun = hxs[0]\n",
    "nfun = h.shape[0]\n",
    "h = hf[0]\n",
    "# loop\n",
    "hx = hxs[ncol]\n",
    "nx = h.shape[ncol]\n",
    "\n",
    "Eygx = np.zeros(nx)\n",
    "for ix in range(nx):\n",
    "    ht = np.take(h, ix, axis=ncol) # np.take(h,ix, axis = ncol)\n",
    "    hxms = [hxm[i] for i in range(4) if i != ncol]\n",
    "\n",
    "    XX = meshgrid(*hxms , indexing='ij')\n",
    "    Eygx[ix] = sum(XX[0]*ht)/sum(ht)\n",
    "\n",
    "ht = h.sum(axis = tuple([i for i in range(4) if i != ncol]))\n",
    "hx = hxm[ncol]\n",
    "xme = np.nansum(Eygx*ht/sum(ht))\n",
    "xva = np.nansum((Eygx-xme)**2*ht/sum(ht))\n",
    "print(xme, xva)"
   ]
  },
  {
   "cell_type": "code",
   "execution_count": 194,
   "metadata": {},
   "outputs": [],
   "source": [
    "def sensitivityidcs(y, pd, labels, ylabel = 'Y', ns = None):\n",
    "    alabels = [ylabel]+labels\n",
    "    data = np.column_stack((y,)+tuple(pd[key] \n",
    "                                                   for key in labels))\n",
    "    data, datpar = rescale(data)\n",
    "\n",
    "    ncols = len(alabels)\n",
    "    if ns is None:\n",
    "        ns = [21]*ncols\n",
    "        \n",
    "    # We create n-dimensional histogram\n",
    "    hf = histogramdd(data, bins = ns, normed = True)\n",
    "\n",
    "    \n",
    "    # Histogram\n",
    "    h = hf[0]\n",
    "    hxs = {}\n",
    "    hxm = {}\n",
    "    # x breaks\n",
    "    # print(h.shape)\n",
    "    me = 0.0\n",
    "    va = 0.0\n",
    "    dx = 1.0\n",
    "    dxs = {}\n",
    "    for i, hx in enumerate(hf[1]):\n",
    "        hxs[i] = hx\n",
    "        hxm[i] = (hx[1:]+hx[:-1])*.5\n",
    "        dxs[i] = hx[1]-hx[0]\n",
    "        dx = dx*(hx[1]-hx[0])\n",
    "    #print('variance')\n",
    "    #h = hf[0]\n",
    "    idcs = {}\n",
    "    hfun = hxs[0]\n",
    "    nfun = h.shape[0]\n",
    "    for ncol in range(ncols):\n",
    "        hx = hxs[ncol]\n",
    "        nx = h.shape[ncol]\n",
    "\n",
    "        Eygx = np.zeros(nx)\n",
    "        hxms = [hxm[i] for i in range(ncols) if i != ncol]\n",
    "        XX = meshgrid(*hxms, indexing = 'ij')\n",
    "        for ix in range(nx):\n",
    "            ht = np.take(h, ix, axis=ncol) # np.take(h,ix, axis = ncol)\n",
    "            Eygx[ix] = sum(XX[0]*ht)/sum(ht)\n",
    "        \n",
    "        ht = h.sum(axis = tuple([i for i in range(ncols) if i != ncol]))\n",
    "        hx = hxm[ncol]\n",
    "        xme = np.nansum(Eygx*ht)/np.nansum(ht)\n",
    "        xva = np.nansum((Eygx-xme)**2*ht)/np.nansum(ht)\n",
    "        #print(xme)\n",
    "        idcs[alabels[ncol]] = xva\n",
    "    return idcs"
   ]
  },
  {
   "cell_type": "code",
   "execution_count": 195,
   "metadata": {},
   "outputs": [
    {
     "name": "stderr",
     "output_type": "stream",
     "text": [
      "/export/home1/users/bssn/serna/environments/neuron/lib/python3.6/site-packages/ipykernel_launcher.py:44: RuntimeWarning: invalid value encountered in double_scalars\n"
     ]
    },
    {
     "data": {
      "text/plain": [
       "{'Vsp/Vsh': 0.13450529244822546,\n",
       " 'A1': 0.1519093137007572,\n",
       " 'Dss': 0.03560843536388895,\n",
       " 'Rneck': 0.9437078457823006}"
      ]
     },
     "execution_count": 195,
     "metadata": {},
     "output_type": "execute_result"
    }
   ],
   "source": [
    "sensitivityidcs(mesT[:,1]/mesT[:,2], pddataT, labelsmod,\n",
    "                ylabel = 'Vsp/Vsh', ns = [31,11,15,12])"
   ]
  },
  {
   "cell_type": "code",
   "execution_count": null,
   "metadata": {},
   "outputs": [],
   "source": []
  },
  {
   "cell_type": "code",
   "execution_count": 176,
   "metadata": {},
   "outputs": [
    {
     "name": "stderr",
     "output_type": "stream",
     "text": [
      "/export/home1/users/bssn/serna/environments/neuron/lib/python3.6/site-packages/ipykernel_launcher.py:43: RuntimeWarning: invalid value encountered in double_scalars\n"
     ]
    }
   ],
   "source": [
    "labelst = labelsmod\n",
    "\n",
    "\n",
    "#Sobol indices\n",
    "def returnSidcs(labels, ns = 30):\n",
    "    datI = dis[labels[0]]\n",
    "    for l in labels[1:]:\n",
    "        datI = column_stack((datI,dis[l]))\n",
    "\n",
    "    datI = pd.DataFrame(datI, columns =labels )\n",
    "\n",
    "    nmod = len(labels)+1\n",
    "    Sidx = {}\n",
    "\n",
    "    Sidx['Vsoma'] = sensitivityidcs(mesT[:,3], pddataT, labels,\n",
    "                    ylabel = 'Vsoma', ns = [ns]*nmod)\n",
    "    Sidx['Vsp'] = sensitivityidcs(mesT[:,1], pddataT, labels,\n",
    "                    ylabel = 'Vsp', ns = [ns]*nmod)\n",
    "    Sidx['Vsp-Vsh'] = sensitivityidcs(mesT[:,1]-mesT[:,2], pddataT,labels,\n",
    "                    ylabel = 'Vsp-Vsh', ns = [ns]*nmod)\n",
    "    Sidx['Vsp/Vsh'] =sensitivityidcs(mesT[:,1]/mesT[:,2], pddataT,labels,\n",
    "                    ylabel = 'Vsp/Vsh', ns = [ns]*nmod)\n",
    "    Sidx['C'] =sensitivityidcs(mesT[:,4], pddataT, labels,\n",
    "                    ylabel = 'C', ns = [ns]*nmod)\n",
    "    Sidx['Sv'] =sensitivityidcs(mes1[:,1]/mes01[:,1], datI, labels,\n",
    "                    ylabel = 'Sv', ns = [ns]*nmod)\n",
    "    Sidx['Sc'] = sensitivityidcs(mes1[:,4]/mes01[:,4], datI, labels,\n",
    "                    ylabel = 'Sc', ns = [ns]*nmod)\n",
    "    Sidx['St'] = sensitivityidcs(times/times0, datI, labels,\n",
    "                    ylabel = 'St', ns = [ns]*nmod)\n",
    "    return Sidx\n",
    "\n",
    "Sidcsmod = returnSidcs(labelsmod)"
   ]
  },
  {
   "cell_type": "code",
   "execution_count": 177,
   "metadata": {},
   "outputs": [
    {
     "name": "stderr",
     "output_type": "stream",
     "text": [
      "/export/home1/users/bssn/serna/environments/neuron/lib/python3.6/site-packages/ipykernel_launcher.py:43: RuntimeWarning: invalid value encountered in double_scalars\n"
     ]
    }
   ],
   "source": [
    "Sidcsmorph = returnSidcs(labelmorph, ns = 11)"
   ]
  },
  {
   "cell_type": "code",
   "execution_count": 20,
   "metadata": {},
   "outputs": [
    {
     "data": {
      "text/plain": [
       "((37, 9), (384, 30))"
      ]
     },
     "execution_count": 20,
     "metadata": {},
     "output_type": "execute_result"
    }
   ],
   "source": [
    "mes1.shape, pddataT.shape"
   ]
  },
  {
   "cell_type": "code",
   "execution_count": 178,
   "metadata": {},
   "outputs": [
    {
     "name": "stdout",
     "output_type": "stream",
     "text": [
      "Quantity\t A1      Dss      Rneck\n",
      "Vsoma\t\t 0.7657  0.0943  0.1400      1.1797\n",
      "Vsp\t\t 0.7613  0.0843  0.1544      0.9721\n",
      "Vsp-Vsh\t\t 0.5422  0.0872  0.3706      0.9249\n",
      "Vsp/Vsh\t\t 0.2055  0.0602  0.7343      1.3026\n",
      "C\t\t 0.7589  0.0665  0.1746      1.1936\n",
      "Sv\t\t 0.3513  0.3037  0.3450      1.7153\n",
      "Sc\t\t 0.2569  0.2906  0.4526      1.9095\n",
      "St\t\t 0.4338  0.3763  0.1899      1.7147\n"
     ]
    }
   ],
   "source": [
    "\n",
    "labels = labelsmod\n",
    "print('Quantity\\t '+'      '.join([label for label in labels]))\n",
    "for key in Sidcsmod.keys():\n",
    "    Sidcs = Sidcsmod[key]\n",
    "    formattext = '{:.4f}  '*3+' '\n",
    "    sobol = np.array([Sidcs[key2] for key2 in labels])\n",
    "    ssum = sobol.sum()\n",
    "    sobol = sobol/ssum\n",
    "    print('{}\\t\\t '.format(key)+formattext.format(*sobol)+'   {:.4f}'.format(ssum) )"
   ]
  },
  {
   "cell_type": "code",
   "execution_count": 179,
   "metadata": {},
   "outputs": [
    {
     "name": "stdout",
     "output_type": "stream",
     "text": [
      "Quantity \tA1 \tDss \tRneck\n",
      "Vsoma \t0.7657 \t0.0943 \t0.1400 \t 1.1797 \t\n",
      "Vsp \t0.7613 \t0.0843 \t0.1544 \t 0.9721 \t\n",
      "Vsp-Vsh \t0.5422 \t0.0872 \t0.3706 \t 0.9249 \t\n",
      "Vsp/Vsh \t0.2055 \t0.0602 \t0.7343 \t 1.3026 \t\n",
      "C \t0.7589 \t0.0665 \t0.1746 \t 1.1936 \t\n",
      "Sv \t0.3513 \t0.3037 \t0.3450 \t 1.7153 \t\n",
      "Sc \t0.2569 \t0.2906 \t0.4526 \t 1.9095 \t\n",
      "St \t0.4338 \t0.3763 \t0.1899 \t 1.7147 \t\n"
     ]
    }
   ],
   "source": [
    "labels = labelsmod\n",
    "print('Quantity \\t'+' \\t'.join([label for label in labels]))\n",
    "for key in Sidcsmod.keys():\n",
    "    Sidcs = Sidcsmod[key]\n",
    "    formattext = '{:.4f} \\t'*3+' '\n",
    "    sobol = np.array([Sidcs[key2] for key2 in labels])\n",
    "    ssum = sobol.sum()\n",
    "    sobol = sobol/ssum\n",
    "    print('{} \\t'.format(key)+formattext.format(*sobol)+'{:.4f} \\t'.format(ssum) )"
   ]
  },
  {
   "cell_type": "code",
   "execution_count": 180,
   "metadata": {},
   "outputs": [
    {
     "name": "stdout",
     "output_type": "stream",
     "text": [
      "Quantity\t A1      maxDhead      Dss      Lneck      Lhead      meanDneck_trunc70pc\n",
      "Vsoma\t\t 0.5168  0.2913  0.0440  0.0166  0.0127  0.1185      1.6191\n",
      "Vsp\t\t 0.6040  0.2482  0.0370  0.0708  0.0245  0.0156      1.1179\n",
      "Vsp-Vsh\t\t 0.5524  0.0940  0.0386  0.2091  0.0220  0.0839      0.7702\n",
      "Vsp/Vsh\t\t 0.1001  0.1404  0.0176  0.3832  0.0081  0.3506      1.4596\n",
      "C\t\t 0.6496  0.0931  0.0644  0.0709  0.0536  0.0684      1.2505\n",
      "Sv\t\t 0.1620  0.1012  0.1405  0.2475  0.1723  0.1764      1.8657\n",
      "Sc\t\t 0.2510  0.2326  0.1962  0.1311  0.0948  0.0943      1.5629\n",
      "St\t\t 0.2416  0.1918  0.2674  0.0528  0.1692  0.0772      1.7383\n"
     ]
    }
   ],
   "source": [
    "labels = labelmorph\n",
    "print('Quantity\\t '+'      '.join([label for label in labels]))\n",
    "for key in Sidcsmorph.keys():\n",
    "    Sidcs = Sidcsmorph[key]\n",
    "    formattext = '{:.4f}  '*len(labels)+' '\n",
    "    sobol = np.array([Sidcs[key2] for key2 in labels])\n",
    "    ssum = sobol.sum()\n",
    "    sobol = sobol/ssum\n",
    "    print('{}\\t\\t '.format(key)+formattext.format(*sobol)+'   {:.4f}'.format(ssum) )"
   ]
  },
  {
   "cell_type": "code",
   "execution_count": 181,
   "metadata": {},
   "outputs": [
    {
     "name": "stdout",
     "output_type": "stream",
     "text": [
      "Quantity A1 maxDhead Dss Lneck Lhead meanDneck_trunc70pc\n",
      "Vsoma 0.5168 0.2913 0.0440 0.0166 0.0127 0.1185  1.6191 \n",
      "Vsp 0.6040 0.2482 0.0370 0.0708 0.0245 0.0156  1.1179 \n",
      "Vsp-Vsh 0.5524 0.0940 0.0386 0.2091 0.0220 0.0839  0.7702 \n",
      "Vsp/Vsh 0.1001 0.1404 0.0176 0.3832 0.0081 0.3506  1.4596 \n",
      "C 0.6496 0.0931 0.0644 0.0709 0.0536 0.0684  1.2505 \n",
      "Sv 0.1620 0.1012 0.1405 0.2475 0.1723 0.1764  1.8657 \n",
      "Sc 0.2510 0.2326 0.1962 0.1311 0.0948 0.0943  1.5629 \n",
      "St 0.2416 0.1918 0.2674 0.0528 0.1692 0.0772  1.7383 \n"
     ]
    }
   ],
   "source": [
    "labels = labelmorph\n",
    "print('Quantity '+' '.join([label for label in labels]))\n",
    "for key in Sidcsmorph.keys():\n",
    "    Sidcs = Sidcsmorph[key]\n",
    "    formattext = '{:.4f} '*len(labels)+' '\n",
    "    sobol = np.array([Sidcs[key2] for key2 in labels])\n",
    "    ssum = sobol.sum()\n",
    "    sobol = sobol/ssum\n",
    "    print('{} '.format(key)+formattext.format(*sobol)+'{:.4f} '.format(ssum) )"
   ]
  },
  {
   "cell_type": "code",
   "execution_count": null,
   "metadata": {},
   "outputs": [],
   "source": []
  },
  {
   "cell_type": "code",
   "execution_count": null,
   "metadata": {},
   "outputs": [],
   "source": []
  }
 ],
 "metadata": {
  "kernelspec": {
   "display_name": "neuron",
   "language": "python",
   "name": "neuron"
  },
  "language_info": {
   "codemirror_mode": {
    "name": "ipython",
    "version": 3
   },
   "file_extension": ".py",
   "mimetype": "text/x-python",
   "name": "python",
   "nbconvert_exporter": "python",
   "pygments_lexer": "ipython3",
   "version": "3.6.5"
  }
 },
 "nbformat": 4,
 "nbformat_minor": 2
}
