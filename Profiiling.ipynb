{
 "cells": [
  {
   "cell_type": "code",
   "execution_count": 1,
   "metadata": {},
   "outputs": [],
   "source": [
    "from numpy import *\n",
    "from matplotlib.pylab import *\n",
    "%matplotlib inline"
   ]
  },
  {
   "cell_type": "code",
   "execution_count": 2,
   "metadata": {},
   "outputs": [],
   "source": [
    "import pickle\n"
   ]
  },
  {
   "cell_type": "code",
   "execution_count": 3,
   "metadata": {},
   "outputs": [],
   "source": [
    "with open(\"data_Fullset/Fullset.pkl\",\"rb\") as f:\n",
    "    data = pickle.load(f)"
   ]
  },
  {
   "cell_type": "code",
   "execution_count": 4,
   "metadata": {},
   "outputs": [],
   "source": [
    "def ellipsoid(a= 1,b = 1, alpha=0,  np = 101):\n",
    "    th = linspace(alpha,2*pi-alpha,np)\n",
    "    x = a*sin(th+pi)\n",
    "    y = b*cos(th+pi)\n",
    "    return((x,y))\n",
    "\n",
    "def simplesp(D0,D1,Dn,Ln):\n",
    "    db = D1/2.0#/D0\n",
    "    dnb = min(Dn/D1,1)\n",
    "    alpha = arcsin(dnb)\n",
    "    xe,ye = ellipsoid(db,D0/2.0,alpha)\n",
    "    y0n = linspace(0,-Ln,3)-D0/2.0\n",
    "    x0nl = y0n*0-Dn/2.0\n",
    "    x0nr = y0n*0+Dn/2.0\n",
    "    x = concatenate((x0nl,xe,x0nr))\n",
    "    y = concatenate((y0n,ye,y0n))\n",
    "    return((x,y))\n",
    "\n",
    "def kinksp(D0,D1,Dn,Ln,Dnmin):\n",
    "    db = D1/2.0#/D0\n",
    "    dnb = min(Dn/D1,1)\n",
    "    alpha = arcsin(dnb)\n",
    "    xe,ye = ellipsoid(db,D0/2.0,alpha)\n",
    "    headbase = -D0*cos(alpha)/2.0\n",
    "    y0n = linspace(0,-Ln,100)+headbase\n",
    "    yb = linspace(0,-Ln,3)+headbase\n",
    "    x0 = Dnmin+(y0n-yb[1])**2/(Ln/2)**2*(Dn-Dnmin)\n",
    "    x0nl = y0n*0-x0/2.0\n",
    "    x0nr = y0n*0+x0/2.0\n",
    "    sel = arange(len(y0n),0,-1)-1\n",
    "    x = concatenate((x0nl,xe,x0nr))\n",
    "    y = concatenate((y0n[sel],ye,y0n))\n",
    "    return((x,y))\n",
    "\n",
    "def generatesp(i,lplot = False):\n",
    "    D0 = data['Lhead'][i]\n",
    "    D1 = data['maxDhead'][i]/1e3\n",
    "    Dn = data['meanDneck'][i]/1e3\n",
    "    Ln = data['Lneck'][i]\n",
    "    sp = kinksp(D0,D1,Dn,Ln,data['minDneck'][i]/1e3)\n",
    "    if lplot == True:\n",
    "        plot(sp[0],sp[1],'-')\n",
    "    return(sp)"
   ]
  },
  {
   "cell_type": "code",
   "execution_count": 5,
   "metadata": {
    "scrolled": true
   },
   "outputs": [],
   "source": [
    "#xkcd()"
   ]
  },
  {
   "cell_type": "code",
   "execution_count": 10,
   "metadata": {},
   "outputs": [],
   "source": [
    "D0 = data['Lhead']\n",
    "D1 = data['maxDhead']/1e3\n",
    "Dn = data['meanDneck']/1e3\n",
    "Dm = data['minDneck']/1e3\n",
    "Ln = data['Lneck']\n",
    "\n",
    "D0s = [D0[4],D0[37],D0[28],D0[28]]\n",
    "D1s = [D1[4],D1[37],D1[28],D1[28]]\n",
    "Dns = [Dn[4],Dn[37],Dn[28],Dn[28]]\n",
    "Dms = [Dm[4],Dm[37],Dm[28],Dm[28]]\n",
    "\n",
    "Lns = [Ln[4],Ln[37],Ln[4],Ln[28]]"
   ]
  },
  {
   "cell_type": "code",
   "execution_count": 11,
   "metadata": {},
   "outputs": [
    {
     "data": {
      "text/plain": [
       "Text(-0.4,0.08,'0.1 $\\\\mu$ m')"
      ]
     },
     "execution_count": 11,
     "metadata": {},
     "output_type": "execute_result"
    },
    {
     "data": {
      "image/png": "[encoded data removed]",
      "text/plain": [
       "<Figure size 576x360 with 4 Axes>"
      ]
     },
     "metadata": {},
     "output_type": "display_data"
    }
   ],
   "source": [
    "fig,ax = subplots(1,4,figsize = (2*4,5*1))\n",
    "D0 = data['Lhead'].mean()\n",
    "D1 = data['maxDhead'].mean()/1e3\n",
    "Dn = data['meanDneck'].mean()/1e3\n",
    "Ln = data['Lneck'].mean()\n",
    "sp = kinksp(D0,D1,Dn,Ln,mean(data['minDneck']/1e3))\n",
    "\n",
    "for i in range(2):\n",
    "    for j in range(2):\n",
    "        D0 = D0s[i+j*2]\n",
    "        D1 = D1s[i+j*2]\n",
    "        Dn = Dns[i+j*2]\n",
    "        Ln = Lns[i+j*2]\n",
    "        Dm = Dms[i+j*2]\n",
    "        sp = kinksp(D0,D1,Dn,Ln,Dm)\n",
    "        ax[i+2*j].plot(sp[0],sp[1]-min(sp[1]))\n",
    "        ax[i+2*j].set_xlim(-.5,.5)\n",
    "        ax[i+2*j].set_ylim(0,4)\n",
    "        ax[i+2*j].axis('off')\n",
    "        ax[i+2*j].axis('off')\n",
    "ax[0].vlines(-0.4,0.05,1.05)\n",
    "ax[0].plot(linspace(-0.4,-0.3),linspace(-0.4,-0.3)*0+0.05,'k')\n",
    "ax[0].annotate('1 $\\mu$ m',xy = (-0.4,0.5))\n",
    "ax[0].annotate('0.1 $\\mu$ m',xy = (-0.4,0.08))"
   ]
  },
  {
   "cell_type": "code",
   "execution_count": 13,
   "metadata": {
    "scrolled": false
   },
   "outputs": [
    {
     "data": {
      "text/plain": [
       "<Figure size 576x1440 with 0 Axes>"
      ]
     },
     "metadata": {},
     "output_type": "display_data"
    },
    {
     "data": {
      "text/plain": [
       "<Figure size 576x1440 with 0 Axes>"
      ]
     },
     "metadata": {},
     "output_type": "display_data"
    },
    {
     "data": {
      "text/plain": [
       "<Figure size 576x1440 with 0 Axes>"
      ]
     },
     "metadata": {},
     "output_type": "display_data"
    },
    {
     "data": {
      "text/plain": [
       "<Figure size 576x1440 with 0 Axes>"
      ]
     },
     "metadata": {},
     "output_type": "display_data"
    }
   ],
   "source": [
    "#figure(figsize=(2,5))\n",
    "for k in range(4):\n",
    "    fig,ax = subplots(4,4,figsize = (2*4,5*4))\n",
    "    for i in range(4):\n",
    "        for j in range(4):\n",
    "            sp = generatesp(randint(170))\n",
    "            ax[i,j].plot(sp[0],sp[1]-min(sp[1]))\n",
    "            ax[i,j].set_xlim(-.5,.5)\n",
    "            ax[i,j].set_ylim(0,max(3,max(sp[1])*1.05))\n",
    "            ax[i,j].axis('off')\n",
    "    #fig.savefig('spines_'+str(k)+'.png')\n",
    "    fig.clear()"
   ]
  },
  {
   "cell_type": "code",
   "execution_count": 16,
   "metadata": {},
   "outputs": [],
   "source": [
    "import os, sys\n",
    "folder = \"profiles/\"\n"
   ]
  },
  {
   "cell_type": "code",
   "execution_count": 21,
   "metadata": {},
   "outputs": [
    {
     "ename": "KeyError",
     "evalue": "'k1'",
     "output_type": "error",
     "traceback": [
      "\u001b[0;31m---------------------------------------------------------------------------\u001b[0m",
      "\u001b[0;31mKeyError\u001b[0m                                  Traceback (most recent call last)",
      "\u001b[0;32m<ipython-input-21-7f1048c06187>\u001b[0m in \u001b[0;36m<module>\u001b[0;34m()\u001b[0m\n\u001b[1;32m      1\u001b[0m \u001b[0mspines\u001b[0m \u001b[0;34m=\u001b[0m \u001b[0;34m{\u001b[0m\u001b[0;34m}\u001b[0m\u001b[0;34m\u001b[0m\u001b[0m\n\u001b[0;32m----> 2\u001b[0;31m \u001b[0mspines\u001b[0m\u001b[0;34m[\u001b[0m\u001b[0;34m'k1'\u001b[0m\u001b[0;34m]\u001b[0m\u001b[0;34m[\u001b[0m\u001b[0;34m'Head'\u001b[0m\u001b[0;34m]\u001b[0m \u001b[0;34m=\u001b[0m \u001b[0;34m{\u001b[0m\u001b[0;34m}\u001b[0m\u001b[0;34m\u001b[0m\u001b[0m\n\u001b[0m",
      "\u001b[0;31mKeyError\u001b[0m: 'k1'"
     ]
    }
   ],
   "source": [
    "spines = {}\n"
   ]
  },
  {
   "cell_type": "code",
   "execution_count": 84,
   "metadata": {},
   "outputs": [],
   "source": [
    "files = os.listdir(folder)\n",
    "files.sort()\n",
    "spines = {}\n",
    "for fl in files:\n",
    "    if fl[-4:] == '.dat' and fl.find('px') > -1:\n",
    "        spchs = fl.split('.')[0].split('_')\n",
    "        spname = spchs[-1]\n",
    "        if spname not in spines.keys():\n",
    "            spines[spname] = {'Head':{}, 'Neck':{}}\n",
    "        spfeat = spchs[0]\n",
    "        if spfeat == 'Head':\n",
    "            spfea2 = spchs[1]\n",
    "            spines[spname][spfeat][spfea2] = loadtxt(folder+fl)\n",
    "        else:\n",
    "            spines[spname]['Neck'][spfeat] = loadtxt(folder+fl)\n",
    "    \n"
   ]
  },
  {
   "cell_type": "code",
   "execution_count": 85,
   "metadata": {},
   "outputs": [
    {
     "data": {
      "text/plain": [
       "dict_keys(['sA', 'sB', 'sC', 'sD', 'sE', 'sF', 'sG', 'sH', 'sI', 'sJ', 'sK'])"
      ]
     },
     "execution_count": 85,
     "metadata": {},
     "output_type": "execute_result"
    }
   ],
   "source": [
    "spines.keys()"
   ]
  },
  {
   "cell_type": "code",
   "execution_count": 97,
   "metadata": {},
   "outputs": [
    {
     "data": {
      "image/png": "[encoded data removed]",
      "text/plain": [
       "<Figure size 576x288 with 4 Axes>"
      ]
     },
     "metadata": {},
     "output_type": "display_data"
    },
    {
     "data": {
      "image/png": "[encoded data removed]",
      "text/plain": [
       "<Figure size 576x288 with 4 Axes>"
      ]
     },
     "metadata": {},
     "output_type": "display_data"
    },
    {
     "data": {
      "image/png": "[encoded data removed]",
      "text/plain": [
       "<Figure size 576x288 with 4 Axes>"
      ]
     },
     "metadata": {},
     "output_type": "display_data"
    }
   ],
   "source": [
    "pxdim = 2.5e-3\n",
    "xfmax = 3\n",
    "axs = []\n",
    "for ik,spk in enumerate(spines.keys()):\n",
    "    sp = spines[spk]\n",
    "    try:\n",
    "        rH, dH = 1.0*sp['Head']['path'],1.0*sp['Head']['diam']\n",
    "        rN, dN = 1.0*sp['Neck']['path'],1.0*sp['Neck']['diam']\n",
    "    except Exception as e:\n",
    "        print(e)\n",
    "        \n",
    "    rH = rH[::-1,:]\n",
    "    dH = dH[::-1]\n",
    "    \n",
    "    rN0 = rN[:1,:]\n",
    "    rN = rN-rN0+rH[-1:,:]\n",
    "    \n",
    "    rf = row_stack((rH,rN))\n",
    "    df = concatenate((dH,dN))\n",
    "    \n",
    "    dx = sqrt(((rf[1:,:]-rf[:-1,:])**2).sum(axis=1))\n",
    "    #xf = concatenate(([0],dx.cumsum()))\n",
    "    xf = dx.cumsum()\n",
    "    \n",
    "    xf = xf[::-1]\n",
    "    #df = df[]\n",
    "    #break\n",
    "    i = ik%4\n",
    "    if i==0:\n",
    "        fig,ax = subplots(1,4,figsize = (2*4,4))\n",
    "        ax[0].plot(linspace(-0.7+.05,-0.7+.20+.05),linspace(-0.7,-0.7+.20)*0+0.5,'k-')\n",
    "        ax[0].plot(linspace(0.5,.5+.20)*0-0.7+.05,linspace(0.5,.5+.20),'k-')\n",
    "        ax[0].annotate('200 nm', xy = (-0.7+.05,.6))\n",
    "    #or i in range(4):\n",
    "        #for j in range(4):\n",
    "        #sp = generatesp(randint(170))\n",
    "    ax[i].plot(df*pxdim/2.0,xf*pxdim,'C0')\n",
    "    ax[i].plot(-df*pxdim/2.0,xf*pxdim,'C0')\n",
    "    ax[i].set_xlim(-1.2,1.2)\n",
    "    xfmax = max(xfmax,max(xf*pxdim)*1.05)\n",
    "    ax[i].set_ylim(0,xfmax)\n",
    "    ax[i].axis('off')\n",
    "    if i==3:\n",
    "        axs.append(ax)\n",
    "\n",
    "for j in range(i,4):\n",
    "    ax[j].axis('off')\n",
    "    \n",
    "for ax in axs:\n",
    "    for i in range(4):\n",
    "        ax[i].set_ylim(0,xfmax)"
   ]
  },
  {
   "cell_type": "code",
   "execution_count": null,
   "metadata": {},
   "outputs": [],
   "source": []
  }
 ],
 "metadata": {
  "kernelspec": {
   "display_name": "deepl",
   "language": "python",
   "name": "deepl"
  },
  "language_info": {
   "codemirror_mode": {
    "name": "ipython",
    "version": 3
   },
   "file_extension": ".py",
   "mimetype": "text/x-python",
   "name": "python",
   "nbconvert_exporter": "python",
   "pygments_lexer": "ipython3",
   "version": "3.6.5"
  }
 },
 "nbformat": 4,
 "nbformat_minor": 2
}
