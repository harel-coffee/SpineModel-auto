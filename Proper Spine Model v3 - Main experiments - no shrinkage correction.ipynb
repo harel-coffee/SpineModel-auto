{
 "cells": [
  {
   "cell_type": "markdown",
   "metadata": {},
   "source": [
    "# Spine Model\n"
   ]
  },
  {
   "cell_type": "code",
   "execution_count": 1,
   "metadata": {},
   "outputs": [
    {
     "name": "stdout",
     "output_type": "stream",
     "text": [
      "\t0 \n",
      "\t1 \n",
      "\t1 \n",
      "\t1 \n",
      "\t1 \n",
      "20.0 29.78380012512207 1871.3713533814052 15.707963267948966\n",
      "Topology:\n",
      "\n",
      "|-|       soma(0-1)\n",
      "   `|       dendA1prox(0-1)\n",
      "     `|       dendA1(0-1)\n",
      "       `|       dendShaft(0-1)\n",
      "         `|       dendA2(0-1)\n",
      "        `|       NSpne000(0-1)\n",
      "          `|       Spne000(0-1)\n",
      "   `|       dendB1(0-1)\n",
      "\n",
      "1.0\n"
     ]
    }
   ],
   "source": [
    "from numpy import *   #ones, cumsum, sum, isscalar\n",
    "from matplotlib.pylab import * \n",
    "%matplotlib inline\n",
    "plotose = True\n",
    "import pickle\n",
    "\n",
    "import PS_lib as lb\n",
    "import PS_storage as st\n",
    "import PS_tools as tools\n",
    "\n",
    "from bootstrap_unshr import btset_cd, generateplots, btShInh, btShInhwpos\n",
    "from data_Fullset import SCxL23 as exppar\n",
    "\n",
    "# Parameter definitions\n",
    "# Data is stored here      \n",
    "data = st.dataStorage() # some default parameters defined.\n",
    "data.dt = 0.05\n",
    "data.NMDA = False\n",
    "\n",
    "# Definition of the model.\n",
    "lb.h.dt = data.dt\n",
    "NMDA = data.NMDA\n",
    "model = lb.loadNeuron(\"ball-2sticks.hoc\",axon=False)\n",
    "\n",
    "# Adding piece of dendritic branch with spine\n",
    "model.addDend(name=\"dendShaft\",locus=\"dendA1\",L=4.0,D=1.5,ilocus=1)\n",
    "model.addSpne(locus=\"dendShaft\",ilocus=0.5,L=1.0,D=1.0,Lneck=1.0,Dneck=0.15)\n",
    "# Temperature of the neuron\n",
    "lb.h.celsius = model.temperature\n",
    "model.addDend(name=\"dendA2\",locus=3,L=10.0,D=0.5,ilocus=1)\n",
    "data.model = model.__dict__\n",
    "\n",
    "model.soma.L = 20\n",
    "#model.comp['B1'].L = 200\n",
    "#model.comp['B1'].diam = 10\n",
    "print(model.soma.L,model.soma.diam,model.soma(0.5).area(),model.dend[-1](0.5).area())\n",
    "\n",
    "print(\"Topology:\")\n",
    "print(lb.h.topology())\n",
    "\n"
   ]
  },
  {
   "cell_type": "markdown",
   "metadata": {},
   "source": [
    "### Bootstrapping spines and synapses\n",
    "\n"
   ]
  },
  {
   "cell_type": "code",
   "execution_count": 2,
   "metadata": {
    "scrolled": false
   },
   "outputs": [
    {
     "name": "stdout",
     "output_type": "stream",
     "text": [
      "Area Volume Ah Vh\n",
      "0.9420943213403559 0.13743923835609 0.6311251465244689 0.07669001443989704\n"
     ]
    }
   ],
   "source": [
    "nsp = 500\n",
    "dis = btset_cd(cd='DiS',size=nsp)\n",
    "sis = btset_cd(cd='SiS',size=nsp)\n",
    "sps = btset_cd(cd='Sp',size=nsp)\n",
    "\n",
    "dis['Rneck'] = dis['Rneck']#*2\n",
    "sis['Rneck'] = sis['Rneck']#*2\n",
    "sps['Rneck'] = sps['Rneck']#*2\n",
    "\n",
    "iPSDsh = btShInh(size=nsp)\n",
    "\n",
    "\n",
    "sp = model.spne[0]\n",
    "sp.L = dis[\"L\"].mean()\n",
    "sp.diam = dis[\"D\"].mean()\n",
    "\n",
    "print(\"Area Volume Ah Vh\")\n",
    "print(sp(0.5).area(),sp(0.5).volume(),dis[\"Ah\"][0]/dis[\"AhA0\"][0],dis[\"Vh\"][0])"
   ]
  },
  {
   "cell_type": "code",
   "execution_count": 3,
   "metadata": {},
   "outputs": [],
   "source": [
    "gtrG = exppar.gtrG\n",
    "gtrA = exppar.gtrA\n",
    "gtrN = exppar.gtrN\n"
   ]
  },
  {
   "cell_type": "markdown",
   "metadata": {},
   "source": [
    "### Excitatory synapse \n",
    "\n",
    "We need to define the arrival time and dynamics. These parameters may be modified later"
   ]
  },
  {
   "cell_type": "code",
   "execution_count": 4,
   "metadata": {},
   "outputs": [],
   "source": [
    "model.AMPAlist = []\n",
    "model.ncAMPAlist = []\n",
    "\n",
    "AMPA = lb.h.Exp2Syn(1,sec = model.spne[0])\n",
    "tau1  = exppar.AMPAtaus[0]\n",
    "tau2 = exppar.AMPAtaus[1]\n",
    "AMPA.tau1 = tau1\n",
    "AMPA.tau2 = tau2\n",
    "\n",
    "gmax = gtrA*sps['A1'].mean()\n",
    "stimE=lb.h.NetStim();stimE.number = 1; \n",
    "NC = lb.h.NetCon(stimE,AMPA,0,0,gmax)\n",
    "\n",
    "model.AMPAlist.append(AMPA)\n",
    "model.ncAMPAlist.append(NC)\n",
    "NC.delay = 10\n",
    "\n",
    "# NMDA part\n",
    "gmaxN = gtrN*sps['A1'].mean()\n",
    "lb.add_NMDAsyns(model, locs=[[0,0.5]], gmax=gmaxN,tau2=20.0)  \n",
    "NMDA = model.NMDAlist[0]\n",
    "NCN = model.ncNMDAlist[0]\n",
    "stimN=lb.h.NetStim();stimN.number = 1;\n",
    "NCN = lb.h.NetCon(stimN,NMDA,0,0,gmaxN)\n",
    "model.ncNMDAlist[0] = NCN\n",
    "NMDA.tau1 = exppar.NMDAtaus[0]\n",
    "NMDA.tau2 = exppar.NMDAtaus[1]"
   ]
  },
  {
   "cell_type": "markdown",
   "metadata": {},
   "source": [
    "### Inhibitory synapse"
   ]
  },
  {
   "cell_type": "code",
   "execution_count": 5,
   "metadata": {},
   "outputs": [],
   "source": [
    "gmaxG = gtrG*dis['A2'].mean()\n",
    "GABA, NCG = lb.add_GABAsyns(model, locs=[[0,1]], spne=True, gmax=gmaxG,tau1=exppar.GABAtaus[0],tau2=exppar.GABAtaus[1])  \n",
    "\n",
    "\n",
    "inhOutside = exppar.inhOutside\n",
    "if inhOutside:\n",
    "    gmaxG = gtrG*iPSDsh.mean()\n",
    "    GABA2, NCG2 = lb.add_GABAsynscomp(model, model.comp['dendShaft'], loc = 0.1, gmax=gmaxG,tau1=exppar.GABAtaus[0],tau2=exppar.GABAtaus[1])  \n"
   ]
  },
  {
   "cell_type": "markdown",
   "metadata": {},
   "source": [
    "# Recordings"
   ]
  },
  {
   "cell_type": "code",
   "execution_count": 6,
   "metadata": {},
   "outputs": [],
   "source": [
    "trec, vrec = lb.h.Vector(), lb.h.Vector()\n",
    "gRec, iRec,  vspneRec = [], [], []\n",
    "gNMDA_rec, iNMDA_rec = [], []\n",
    "trec.record(lb.h._ref_t)\n",
    "vrec.record(model.soma(0.5)._ref_v)\n",
    "\n",
    "\n",
    "#n=0\n",
    "vDendRec = []\n",
    "vRecn = {}\n",
    "#For all dendrites\n",
    "for dend in model.dend:\n",
    "    #Adding vectors for Voltage, and Calcium\n",
    "    vDendRec.append(lb.h.Vector())\n",
    "    # Placing recording at mid-point in the dendritic branch\n",
    "    vDendRec[-1].record(dend(0.5)._ref_v)\n",
    "    vRecn[dend.name()] = vDendRec[-1]\n",
    "    # NO CALCIUM!?!?!\n",
    "#Probably better to organize them in a dictionary        \n",
    "vDendRec[1].record(model.dend[1](1.0)._ref_v)\n",
    "\n",
    "# Spine voltage recording stuff\n",
    "vspneRec.append(lb.h.Vector())\n",
    "vspneRec.append(lb.h.Vector())\n",
    "sp = model.spne[0]\n",
    "vspneRec[0].record(sp(0.5)._ref_v)\n",
    "sp = model.neck[0]\n",
    "vspneRec[1].record(sp(0.5)._ref_v)\n",
    "\n",
    "# Calcim\n",
    "\n",
    "caDendRec = []\n",
    "caRecn = {}\n",
    "sp = model.spne[0]\n",
    "caDendRec.append(lb.h.Vector())\n",
    "caDendRec.append(lb.h.Vector())\n",
    "caDendRec.append(lb.h.Vector())\n",
    "caDendRec[0].record(sp(0.5)._ref_ica) \n",
    "caDendRec[1].record(model.NMDAlist[0]._ref_i)\n",
    "caDendRec[2].record(sp(1.0)._ref_cai) \n",
    "caRecn['sp ica'] = caDendRec[0]\n",
    "caRecn['sp iNMDA'] = caDendRec[1]\n",
    "caRecn['sp Ca'] = caDendRec[2]\n"
   ]
  },
  {
   "cell_type": "code",
   "execution_count": 7,
   "metadata": {},
   "outputs": [],
   "source": [
    "vDendEL = []\n",
    "dend = model.dend[1]\n",
    "for i in range(10):\n",
    "    vDendEL.append(lb.h.Vector())\n",
    "    vDendEL[-1].record(dend((i+1.0)/10.0)._ref_v)"
   ]
  },
  {
   "cell_type": "code",
   "execution_count": 8,
   "metadata": {},
   "outputs": [],
   "source": [
    "vDendEL2 = []\n",
    "dend = model.dend[-1]\n",
    "for i in range(10):\n",
    "    vDendEL2.append(lb.h.Vector())\n",
    "    vDendEL2[-1].record(dend((i+1.0)/10.0)._ref_v)"
   ]
  },
  {
   "cell_type": "code",
   "execution_count": 9,
   "metadata": {},
   "outputs": [
    {
     "data": {
      "text/plain": [
       "Vector[34]"
      ]
     },
     "execution_count": 9,
     "metadata": {},
     "output_type": "execute_result"
    }
   ],
   "source": [
    "iRec.append(lb.h.Vector())\n",
    "iRec.append(lb.h.Vector())\n",
    "currentAMPA = iRec[0]\n",
    "\n",
    "currentGABA = iRec[1]\n",
    "iRec.append(lb.h.Vector())\n",
    "currentNMDA = iRec[-1]\n",
    "currentNMDA.record(NMDA._ref_i)\n"
   ]
  },
  {
   "cell_type": "code",
   "execution_count": 10,
   "metadata": {
    "scrolled": true
   },
   "outputs": [
    {
     "data": {
      "text/plain": [
       "Vector[33]"
      ]
     },
     "execution_count": 10,
     "metadata": {},
     "output_type": "execute_result"
    }
   ],
   "source": [
    "currentAMPA.record(AMPA._ref_i)\n",
    "currentGABA.record(GABA._ref_i)"
   ]
  },
  {
   "cell_type": "code",
   "execution_count": 11,
   "metadata": {},
   "outputs": [
    {
     "data": {
      "text/plain": [
       "Vector[35]"
      ]
     },
     "execution_count": 11,
     "metadata": {},
     "output_type": "execute_result"
    }
   ],
   "source": [
    "iRec.append(lb.h.Vector())\n",
    "currentGABA2 = iRec[-1]\n",
    "currentGABA2.record(GABA2._ref_i)\n"
   ]
  },
  {
   "cell_type": "markdown",
   "metadata": {},
   "source": [
    "## Small tuning parameters for dendrite?"
   ]
  },
  {
   "cell_type": "code",
   "execution_count": 12,
   "metadata": {},
   "outputs": [],
   "source": [
    "dendsizeL0 = exppar.dendsizeL0\n",
    "dendsizeL = max(max(max(dis['Dss'])+5,max(sis['Dss'])+5),150)\n",
    "neck = model.neck[0]\n",
    "Rneck = neck.L*1e-6/(neck.diam*1e-6/2.0)**2/pi*neck.Ra/100\n",
    "dend = model.comp['dendA1prox']\n",
    "dend.L = exppar.dendsizeL0\n",
    "dend.diam = exppar.denddiam0"
   ]
  },
  {
   "cell_type": "code",
   "execution_count": 13,
   "metadata": {},
   "outputs": [],
   "source": [
    "dendA2 = model.comp['dendA2']\n",
    "dendA1 = model.comp['dendA1']\n",
    "dendsh = model.comp['dendShaft']\n",
    "\n",
    "dendA2.L = 1.0"
   ]
  },
  {
   "cell_type": "code",
   "execution_count": 14,
   "metadata": {},
   "outputs": [],
   "source": [
    "dendsh.diam = exppar.dendDiam\n",
    "dendA1.diam = exppar.dendDiam\n",
    "dendA2.diam = exppar.dendDiam   "
   ]
  },
  {
   "cell_type": "code",
   "execution_count": 15,
   "metadata": {},
   "outputs": [],
   "source": [
    "model.RM = exppar.rm\n",
    "for sec in lb.h.allsec():\n",
    "    sec.Ra = exppar.ra\n",
    "    sec.cm = 1.0\n",
    "    sec.g_pas = 1.0/model.RM\n",
    "\n",
    "factor = exppar.factor2nddend\n",
    "model.comp['dendB1'].cm = factor\n",
    "model.comp['dendB1'].g_pas = factor/model.RM\n",
    "model.comp['dendB1'].L = exppar.len2nddend\n",
    "model.comp['dendB1'].diam = 1"
   ]
  },
  {
   "cell_type": "code",
   "execution_count": 16,
   "metadata": {},
   "outputs": [
    {
     "name": "stdout",
     "output_type": "stream",
     "text": [
      "1.8561776804179615\n",
      "0.9785890241344449 2.8347667045524063\n"
     ]
    }
   ],
   "source": [
    "rhosp = 1.3\n",
    "diamneck = sps['meanDneck'].mean()/1e3\n",
    "dendareaperL = rhosp*(mean(sps['Ah'])+(pi*diamneck))\n",
    "factor = dendareaperL/(pi*dendA1.diam)\n",
    "print(factor)\n",
    "factorsp = factor\n",
    "factordd = (pi*dendA1.diam-(pi*diamneck**2/4.0)*rhosp)/(pi*dendA1.diam)\n",
    "print(factordd,factordd+factorsp)\n",
    "\n",
    "factor = factordd+factorsp\n",
    "factor = exppar.factorspinesdend\n",
    "dendA2.cm = factor\n",
    "dendA1.cm = factor\n",
    "\n",
    "dendA2.g_pas = factor/model.RM\n",
    "dendA1.g_pas = factor/model.RM"
   ]
  },
  {
   "cell_type": "code",
   "execution_count": 17,
   "metadata": {},
   "outputs": [
    {
     "name": "stdout",
     "output_type": "stream",
     "text": [
      "10 10\n"
     ]
    }
   ],
   "source": [
    "dendA1.nseg = int(dendA1.L//10)+1\n",
    "dendA2.nseg = int(dendA2.L//10)+1\n",
    "\n",
    "dendA1.nseg = 10\n",
    "dendA2.nseg = 10\n",
    "print(dendA1.nseg,dendA2.nseg)"
   ]
  },
  {
   "cell_type": "code",
   "execution_count": 18,
   "metadata": {},
   "outputs": [],
   "source": [
    "lb.init_active(model, axon=False, soma=False, dend=False, dendNa=False,\n",
    "                dendCa=False,spne=True)"
   ]
  },
  {
   "cell_type": "code",
   "execution_count": 19,
   "metadata": {
    "scrolled": false
   },
   "outputs": [],
   "source": [
    "Rdendprox = model.comp['dendA1prox'].L*1e-6/2.0*model.comp['dendA1prox'].Ra/100/(pi*(model.comp['dendA1prox'].diam*1e-6/2.0)**2)\n",
    "diam0 = 0.15\n",
    "\n",
    "def simulateSet(model,spn,tG = 500,ton = 50,\n",
    "                toffset = 50,t_stop = 250, EL = -65,\n",
    "                btsr = None,VDCC = array([0.,0,0,0]), \n",
    "                dendrec = True,inhOutside= False, iPSDsh = None):\n",
    "    if btsr is None:\n",
    "        btsr = ones(9)==0\n",
    "    model.E_PAS = EL\n",
    "    model.soma.e_pas = model.E_PAS\n",
    "    for dendp in model.dend:\n",
    "        dendp.e_pas = model.E_PAS\n",
    "    for sp in model.spne:\n",
    "        sp.e_pas = model.E_PAS\n",
    "\n",
    "    dendsh = model.comp['dendShaft']\n",
    "    dendA1 = model.comp['dendA1']\n",
    "    dendA2 = model.comp['dendA2']\n",
    "    neck = model.neck[0]\n",
    "    sp = model.spne[0]\n",
    "\n",
    "    dshL = dendsh.L\n",
    "    dendsizeL = dendsh.L+dendA1.L+dendA2.L\n",
    "    data = column_stack((spn[\"A1\"],spn[\"A1\"],spn[\"A2\"],spn[\"Rneck\"],spn[\"Dss\"],spn[\"L\"],spn[\"D\"],spn[\"Ln\"],spn[\"AhA0\"], spn[\"meanDneck\"]/1e3))\n",
    "    if isnan(data).sum()>0:\n",
    "        raise \"There are nans do something about it\"\n",
    "    for i in range(9):\n",
    "        if ~btsr[i]:\n",
    "            data[:,i] = data[:,i].mean()\n",
    "         \n",
    "    nsp = data.shape[0]\n",
    "    if iPSDsh is None:\n",
    "        iPSDsh = zeros(nsp)\n",
    "    mes = zeros((nsp,9))\n",
    "    me2 = zeros((nsp,11))\n",
    "    me3 = zeros((nsp,10))\n",
    "\n",
    "    iad = 2\n",
    "    vavg = zeros((int(t_stop/lb.h.dt)+iad,7))\n",
    "    vtracs = zeros((int(t_stop/lb.h.dt)+iad,nsp))\n",
    "    Ctracs = zeros((int(t_stop/lb.h.dt)+iad,nsp))\n",
    "    vtracsD = zeros((int(t_stop/lb.h.dt)+iad,nsp))\n",
    "    vtracsS = zeros((int(t_stop/lb.h.dt)+iad,nsp))\n",
    "    for i in arange(nsp):\n",
    "        NC.weight[0]  = data[i,0] *gtrA#/2\n",
    "        NCN.weight[0] = data[i,1] *gtrN#*0#*0\n",
    "        NCG.weight[0] = data[i,2] *gtrG#*0\n",
    "        NCG2.weight[0] = iPSDsh[i] *gtrG#*0\n",
    "        #print(NC.weight[0],data[i,0],gtrA)\n",
    "        if inhOutside:\n",
    "            NCG.weight[0] = 0.0\n",
    "        else:\n",
    "            NCG2.weight[0] = 0.0\n",
    "                    \n",
    "        neck.L = data[i,7]  \n",
    "        Rneck0 = neck.Ra*neck.L/(diam0)**2*0.04/pi\n",
    "        #print(Rneck0,data[i,3])\n",
    "        neck.diam = diam0*sqrt(Rneck0/data[i,3])\n",
    "        \n",
    "        # neck.diam = data[i,9]\n",
    "        # Rneck = neck.Ra*neck.L/(neck.diam)**2*0.04/pi\n",
    "        # neck.Ra = data[i,3]*(neck.diam)**2*pi/0.04/neck.L\n",
    "        \n",
    "        posD = data[i,4]\n",
    "        \n",
    "        dendA1.L = posD-dshL/2\n",
    "        dendA2.L = dendsizeL-posD-dshL/2\n",
    "\n",
    "        \n",
    "        # A = pi*D**2\n",
    "        sp.L = data[i,5]\n",
    "        sp.diam = data[i,6]\n",
    "        sp.cm = data[i,8]\n",
    "        sp.g_pas = data[i,8]/model.RM\n",
    "        spvol = sp(0.5).volume()\n",
    "        spineArea =  sp(0.5).area()#sp.L*sp.diam+1.8*sp.diam**2/4 # um^2\n",
    "        \n",
    "        CaTcond = 1e-3# pS\n",
    "        sp.pbar_caL13PS = VDCC[0]*CaTcond#/spineArea\n",
    "        sp.pbar_caLPS = VDCC[1]*CaTcond#/spineArea\n",
    "        sp.pbar_canPS = VDCC[2]*CaTcond#/spineArea\n",
    "        sp.pcaqbar_caqPS = VDCC[3]*CaTcond#/spineArea\n",
    "        \n",
    "        \n",
    "        NC.delay = toffset+ton-50\n",
    "        NCN.delay = toffset+ton-50\n",
    "        NCG.delay = toffset+tG#toffset+tG#-50\n",
    "        NCG2.delay = toffset+tG#toffset+tG#-50\n",
    "\n",
    "        for il in range(10):\n",
    "            f = 1-7.5*il/dendA1.L\n",
    "            #f = 0.5\n",
    "            if f>=0:\n",
    "                vDendEL[il].record(dendA1(f)._ref_v)\n",
    "            else:\n",
    "                vDendEL[il].record(dendA1(0.0)._ref_v)\n",
    "        \n",
    "        for il in range(10):\n",
    "            f = 7.5*il/dendA2.L\n",
    "            #f = 0.5\n",
    "            if f<=1:\n",
    "                vDendEL2[il].record(dendA2(f)._ref_v)\n",
    "            else:\n",
    "                vDendEL2[il].record(dendA2(1.0)._ref_v)\n",
    "                \n",
    "        lb.h.finitialize(model.E_PAS)\n",
    "        \n",
    "                    \n",
    "        lb.neuron.run(t_stop)\n",
    "        \n",
    "        \n",
    "        current = abs((array(vDendRec[0])-array(vrec[0]))/Rdendprox)\n",
    "        \n",
    "        vtracs[:,i] = array(vspneRec[0]) \n",
    "        if dendrec:\n",
    "            vtracsD[:,i] = array(vDendRec[1])\n",
    "        else:\n",
    "            vtracsD[:,i] = array(vDendEL[2])\n",
    "            \n",
    "        vtracsS[:,i] = array(vrec) \n",
    "\n",
    "        vavg[:,0] += array(vspneRec[0]) \n",
    "        vavg[:,1] += array(vspneRec[0])**2\n",
    "        vavg[:,2] += array(vDendRec[1]) \n",
    "        vavg[:,3] += array(vDendRec[1])**2\n",
    "        vavg[:,4] += array(vrec) \n",
    "        vavg[:,5] += array(vrec)**2\n",
    "        vavg[:,6] += 1\n",
    "            \n",
    "        cat = array(caDendRec[-1])/1e-3\n",
    "        Ctracs[:,i] = cat-cat[0] \n",
    "        if inhOutside:\n",
    "            aG = abs(array(currentGABA2)).argmax()\n",
    "            maxGABA = array(currentGABA2)[aG]\n",
    "        else:\n",
    "            aG = abs(array(currentGABA)).argmax()\n",
    "            maxGABA = array(currentGABA)[aG]\n",
    "\n",
    "            \n",
    "        #aG = abs(array(currentGABA)).argmax()\n",
    "        aA = abs(array(currentAMPA)).argmax()\n",
    "        aN = abs(array(currentNMDA)).argmax()\n",
    "        \n",
    "        mes[i,:] = [data[i,3],max(vspneRec[0])-EL,\n",
    "                    max(vDendRec[3])-EL,max(vrec)-EL,\n",
    "                    max(cat)-cat[0],maxGABA,\n",
    "                    array(currentAMPA)[aA],max(abs(current)),\n",
    "                    array(currentNMDA)[aN]]\n",
    "        me2[i,0] = max(vDendRec[3])\n",
    "        me2[i,1:] = [max(vD) for vD in vDendEL]\n",
    "        me3[i,:] = [max(vD) for vD in vDendEL2]\n",
    "\n",
    "        #plot(trec,array(caDendRec[-1])/1e-3)\n",
    "        #ylabel(\"[Ca] (uM)\")\n",
    "        #figure()\n",
    "        #plot(trec,vspneRec[0])\n",
    "        #break\n",
    "        \n",
    "    vavg[:,:5] = vavg[:,:5]/vavg[0,6]\n",
    "    vavg[:,1] = sqrt(vavg[:,1]-vavg[:,0]**2)#/sqrt(vavg[0,6])\n",
    "    vavg[:,3] = sqrt(vavg[:,3]-vavg[:,2]**2)#/sqrt(vavg[0,6])\n",
    "    vavg[:,5] = sqrt(vavg[:,5]-vavg[:,4]**2)#/sqrt(vavg[0,6])\n",
    "    return(vavg,mes,vtracs,vtracsD,vtracsS,\n",
    "           Ctracs,me2,me3,array(trec))"
   ]
  },
  {
   "cell_type": "code",
   "execution_count": 20,
   "metadata": {},
   "outputs": [],
   "source": [
    "VDCCa =  array([0.04023183, 0.08000483, 0.03416801, 0.02747762] )\n",
    "EL0 = -70"
   ]
  },
  {
   "cell_type": "code",
   "execution_count": 21,
   "metadata": {
    "scrolled": true
   },
   "outputs": [],
   "source": [
    "#vavg0,mes0,vtracs0,vtracsD0,vtracsS0,Ctracs0,me20,me30, trec = simulateSet(model,dis,tG = 100,ton = 50,toffset = 100,t_stop = 500, EL = EL0,btsr = ones(9)==1,VDCC = VDCCa, dendrec=False)\n",
    "#plot(arange(vtracs0.shape[0])*lb.h.dt,vtracs0[:,0])"
   ]
  },
  {
   "cell_type": "code",
   "execution_count": 22,
   "metadata": {},
   "outputs": [],
   "source": [
    "from PS_tools import *"
   ]
  },
  {
   "cell_type": "markdown",
   "metadata": {},
   "source": [
    "# Baseline conditions"
   ]
  },
  {
   "cell_type": "code",
   "execution_count": 23,
   "metadata": {},
   "outputs": [
    {
     "name": "stdout",
     "output_type": "stream",
     "text": [
      "(390,)\n",
      "(390,)\n",
      "['#Sp', '#Bch', 'Dsb', 'Dss', 'd_interSp', 'Vtot', 'Vh', 'Ln', 'SA', 'nPSD', 'A1', 'A2', 'GPHN_SNR', 'DiS-EMchk', 'Lneck', 'maxDneck', 'minDneck', 'meanDneck', 'Rneck', 'Lhead', 'maxDhead', 'minDhead', 'meanDhead', 'Ah', 'Rhead', 'meanDneck_trunc70pc', 'L', 'D', 'AhA0']\n",
      "['#Sp', '#Bch', 'Dsb', 'Vtot', 'Vh', 'SA', 'nPSD', 'A1', 'Lneck', 'maxDneck', 'minDneck', 'meanDneck', 'Rneck', 'Lhead', 'maxDhead', 'minDhead', 'meanDhead', 'Ah', 'Rhead', 'meanDneck_trunc70pc', 'L', 'D', 'AhA0']\n",
      "#Sp 390\n",
      "#Bch 390\n",
      "Dsb 390\n",
      "Vtot 389\n",
      "Vh 389\n",
      "SA 390\n",
      "nPSD 390\n",
      "A1 384\n",
      "Lneck 390\n",
      "maxDneck 390\n",
      "minDneck 390\n",
      "meanDneck 390\n",
      "Rneck 390\n",
      "Lhead 390\n",
      "maxDhead 390\n",
      "minDhead 390\n",
      "meanDhead 390\n",
      "Ah 390\n",
      "Rhead 390\n",
      "meanDneck_trunc70pc 390\n",
      "L 390\n",
      "D 389\n",
      "AhA0 389\n",
      "(384,)\n"
     ]
    },
    {
     "name": "stderr",
     "output_type": "stream",
     "text": [
      "/export/home1/users/bssn/serna/environments/neuron/lib/python3.6/site-packages/pandas/core/computation/expressions.py:183: UserWarning: evaluating in Python space because the '*' operator is not supported by numexpr for the bool dtype, use '&' instead\n",
      "  .format(op=op_str, alt_op=unsupported[op_str]))\n"
     ]
    }
   ],
   "source": [
    "from bootstrap_unshr import dataset,datasetfile\n",
    "with open(datasetfile,\"rb\") as f:\n",
    "    data = pickle.load(f)\n",
    "spdata = dataset(data,noise=0.0)\n",
    "print(spdata['A1'].shape)\n",
    "spdata['A2'][isnan(spdata['A2'])] = 0.0\n",
    "#spdata['Rneck'] = spdata['Rneck']\n",
    "print(spdata['A2'].shape)\n",
    "\n",
    "sel = ones(spdata['A2'].shape[0]) == 1\n",
    "keys = list(spdata.keys())\n",
    "print(keys)\n",
    "keys.pop(12)\n",
    "keys.pop(11)\n",
    "keys.pop(7)\n",
    "keys.pop(3)\n",
    "keys.pop(9)\n",
    "keys.pop(3)\n",
    "print(keys)\n",
    "\n",
    "for key in keys:\n",
    "    sel = sel*isfinite(spdata[key])\n",
    "    print(key, isfinite(spdata[key]).sum())\n",
    "for key in spdata.keys():\n",
    "    spdata[key] = spdata[key][sel]\n",
    "    #print(key,':',isfinite(spdata[key]).sum())\n",
    "dendsizeL = max(max(spdata['Dss'])+5,150)\n",
    "print(spdata['A1'].shape)"
   ]
  },
  {
   "cell_type": "code",
   "execution_count": 24,
   "metadata": {},
   "outputs": [],
   "source": [
    "folderstore = '/mnt/data/spinemodel/'"
   ]
  },
  {
   "cell_type": "code",
   "execution_count": 25,
   "metadata": {},
   "outputs": [
    {
     "data": {
      "text/plain": [
       "(array([1.44146500e-03, 2.60836524e-03, 3.15749476e-03, 3.22613595e-03,\n",
       "        2.88293000e-03, 3.15749476e-03, 2.33380047e-03, 2.67700643e-03,\n",
       "        2.74564762e-03, 1.16690024e-03, 7.55053095e-04, 1.30418262e-03,\n",
       "        9.60976666e-04, 1.51010619e-03, 1.02961786e-03, 8.23694285e-04,\n",
       "        5.49129523e-04, 3.43205952e-04, 2.05923571e-04, 1.37282381e-04,\n",
       "        6.86411904e-05, 0.00000000e+00, 0.00000000e+00, 0.00000000e+00,\n",
       "        0.00000000e+00, 0.00000000e+00, 0.00000000e+00, 0.00000000e+00,\n",
       "        1.37282381e-04, 2.05923571e-04, 2.05923571e-04, 6.86411904e-05,\n",
       "        0.00000000e+00, 2.05923571e-04, 1.37282381e-04, 0.00000000e+00,\n",
       "        6.86411904e-05, 6.86411904e-05, 6.86411904e-05, 0.00000000e+00,\n",
       "        6.86411904e-05]),\n",
       " array([  93.13256265,  122.26958647,  151.40661028,  180.5436341 ,\n",
       "         209.68065792,  238.81768174,  267.95470555,  297.09172937,\n",
       "         326.22875319,  355.36577701,  384.50280083,  413.63982464,\n",
       "         442.77684846,  471.91387228,  501.0508961 ,  530.18791992,\n",
       "         559.32494373,  588.46196755,  617.59899137,  646.73601519,\n",
       "         675.87303901,  705.01006282,  734.14708664,  763.28411046,\n",
       "         792.42113428,  821.5581581 ,  850.69518191,  879.83220573,\n",
       "         908.96922955,  938.10625337,  967.24327718,  996.380301  ,\n",
       "        1025.51732482, 1054.65434864, 1083.79137246, 1112.92839627,\n",
       "        1142.06542009, 1171.20244391, 1200.33946773, 1229.47649155,\n",
       "        1258.61351536, 1287.75053918]),\n",
       " <a list of 41 Patch objects>)"
      ]
     },
     "execution_count": 25,
     "metadata": {},
     "output_type": "execute_result"
    },
    {
     "data": {
      "image/png": "[encoded data removed]",
      "text/plain": [
       "<Figure size 432x288 with 1 Axes>"
      ]
     },
     "metadata": {
      "needs_background": "light"
     },
     "output_type": "display_data"
    }
   ],
   "source": [
    "hist((spdata['A1']*gtrA)/1e-6/11.0,41,alpha = 0.5, density = True)\n",
    "hist((iPSDsh*gtrG)*3/1e-6/25,41,alpha = 0.5, density = True)"
   ]
  },
  {
   "cell_type": "code",
   "execution_count": 26,
   "metadata": {},
   "outputs": [
    {
     "data": {
      "text/plain": [
       "0.25055316933489524"
      ]
     },
     "execution_count": 26,
     "metadata": {},
     "output_type": "execute_result"
    }
   ],
   "source": [
    "770/236.4/13.0"
   ]
  },
  {
   "cell_type": "code",
   "execution_count": 27,
   "metadata": {},
   "outputs": [
    {
     "data": {
      "text/plain": [
       "(29.246452409119897, 8754.818125965081)"
      ]
     },
     "execution_count": 27,
     "metadata": {},
     "output_type": "execute_result"
    }
   ],
   "source": [
    "(spdata['A1']*gtrA).mean()/1e-6/11.0,(iPSDsh*gtrG).mean()/1e-6/236.4*770"
   ]
  },
  {
   "cell_type": "code",
   "execution_count": 28,
   "metadata": {
    "scrolled": true
   },
   "outputs": [
    {
     "name": "stderr",
     "output_type": "stream",
     "text": [
      "/export/home1/users/bssn/serna/environments/neuron/lib/python3.6/site-packages/ipykernel_launcher.py:161: RuntimeWarning: invalid value encountered in sqrt\n",
      "/export/home1/users/bssn/serna/environments/neuron/lib/python3.6/site-packages/ipykernel_launcher.py:162: RuntimeWarning: invalid value encountered in sqrt\n"
     ]
    }
   ],
   "source": [
    "td = 500\n",
    "res = simulateSet(model,spdata,tG = td,ton = 50,\n",
    "                  toffset = 70,t_stop = 500, \n",
    "                  EL = EL0,btsr = ones(9)==1,\n",
    "                  VDCC = VDCCa,dendrec=False)\n",
    "\n",
    "vavg,mes,vtracs,vtracsD,vtracsS,Ctracs,me2,me3,_ = res\n",
    "with open(folderstore+\"All_baseline_datasetv3_nosh.pickle\",\"wb\") as f:\n",
    "    pickle.dump([vavg,mes,vtracs,vtracsD,vtracsS,\n",
    "                 Ctracs,me2,me3,spdata],f) \n",
    " "
   ]
  },
  {
   "cell_type": "code",
   "execution_count": 29,
   "metadata": {},
   "outputs": [
    {
     "name": "stdout",
     "output_type": "stream",
     "text": [
      "<uEPSP> = 0.36\n"
     ]
    }
   ],
   "source": [
    "print('<uEPSP> = %.2f' % (mes[:,3].mean()))\n"
   ]
  },
  {
   "cell_type": "code",
   "execution_count": 30,
   "metadata": {},
   "outputs": [
    {
     "name": "stderr",
     "output_type": "stream",
     "text": [
      "/export/home1/users/bssn/serna/environments/neuron/lib/python3.6/site-packages/ipykernel_launcher.py:161: RuntimeWarning: invalid value encountered in sqrt\n",
      "/export/home1/users/bssn/serna/environments/neuron/lib/python3.6/site-packages/ipykernel_launcher.py:162: RuntimeWarning: invalid value encountered in sqrt\n"
     ]
    }
   ],
   "source": [
    "td = 500\n",
    "res = simulateSet(model,spdata,tG = td,ton = 50,\n",
    "                  toffset = 70,t_stop = 500, \n",
    "                  EL = EL0,btsr = ones(9)==1,\n",
    "                  VDCC = VDCCa,dendrec=False)\n",
    "\n",
    "vavg,mes,vtracs,vtracsD,vtracsS,Ctracs,me2,me3,_ = res"
   ]
  },
  {
   "cell_type": "code",
   "execution_count": 31,
   "metadata": {},
   "outputs": [],
   "source": [
    "pp0 = 0.2\n",
    "pp1 = 0.8\n",
    "vtt = clip(vtracs-EL0,0,100)\n",
    "times0 = get_FWHMtimes(vtt, v0 =0, dt = lb.h.dt)\n",
    "t9010r = get_p0p1times(vtt,p0=pp0,p1= pp1, dt = lb.h.dt)\n",
    "t90100 = get_postp0p1times(vtt,p0=pp0,p1= pp1, dt = lb.h.dt)\n",
    "\n",
    "vtt = clip(vtracsS-EL0,0,100)\n",
    "times0S = get_FWHMtimes(vtt, v0 =0, dt = lb.h.dt)\n",
    "t9010rS = get_p0p1times(vtt,p0=pp0,p1= pp1, dt = lb.h.dt)\n",
    "t90100S = get_postp0p1times(vtt,p0=pp0,p1= pp1, dt = lb.h.dt)\n",
    "\n",
    "vtt = clip(vtracsD-EL0,0,100)\n",
    "times0D = get_FWHMtimes(vtt, v0 =0, dt = lb.h.dt)\n",
    "t9010rD = get_p0p1times(vtt,p0=pp0,p1= pp1, dt = lb.h.dt)\n",
    "t90100D = get_postp0p1times(vtt,p0=pp0,p1= pp1, dt = lb.h.dt)\n",
    "\n",
    "vtt = clip(Ctracs,0,100)\n",
    "times0C = get_FWHMtimes(vtt, v0 =0, dt = lb.h.dt)\n",
    "t9010rC = get_p0p1times(vtt,p0=pp0,p1= pp1, dt = lb.h.dt)\n",
    "t90100C = get_postp0p1times(vtt,p0=pp0,p1= pp1, dt = lb.h.dt)\n",
    "with open(folderstore+\"All_baseline_datasetv3_times_nosh.pickle\",\"wb\") as f:\n",
    "    pickle.dump([t90100, t90100S, t90100D, t90100C,\n",
    "                t9010r, t9010rS, t9010rD, t9010rC],f) "
   ]
  },
  {
   "cell_type": "code",
   "execution_count": 32,
   "metadata": {},
   "outputs": [],
   "source": [
    "from bootstrap_unshr import  ShInhwpos,btShInhwpos"
   ]
  },
  {
   "cell_type": "code",
   "execution_count": 33,
   "metadata": {},
   "outputs": [],
   "source": [
    "iPSDsh, posish = ShInhwpos(noise=0.0)\n"
   ]
  },
  {
   "cell_type": "code",
   "execution_count": 34,
   "metadata": {
    "scrolled": false
   },
   "outputs": [],
   "source": [
    "nishPSD = iPSDsh.shape[0]\n",
    "spdatash = {}\n",
    "for key in spdata.keys():\n",
    "    spdatash[key] = array(spdata[key])[:nishPSD]\n",
    "spdatash['A1'] = spdatash['A1']\n",
    "spdatash['A2'] = spdatash['A2']*0+spdata['A2'].mean()\n",
    "spdatash['Dss'] = posish"
   ]
  },
  {
   "cell_type": "code",
   "execution_count": 35,
   "metadata": {
    "scrolled": true
   },
   "outputs": [
    {
     "name": "stderr",
     "output_type": "stream",
     "text": [
      "/export/home1/users/bssn/serna/environments/neuron/lib/python3.6/site-packages/ipykernel_launcher.py:161: RuntimeWarning: invalid value encountered in sqrt\n",
      "/export/home1/users/bssn/serna/environments/neuron/lib/python3.6/site-packages/ipykernel_launcher.py:162: RuntimeWarning: invalid value encountered in sqrt\n"
     ]
    }
   ],
   "source": [
    "GABA.e = 0.0\n",
    "GABA2.e = 0.0\n",
    "\n",
    "gtrA = 0.0\n",
    "gtrN = 0.0\n",
    "gtrG = exppar.gtrG\n",
    "\n",
    "res = simulateSet(model,spdatash,tG = 0,ton = 50,toffset = 70,\n",
    "                  t_stop = 500, EL = EL0,btsr = ones(9)==1,\n",
    "                  VDCC = VDCCa,dendrec=False,\n",
    "                  inhOutside = True,iPSDsh=iPSDsh)\n",
    "\n",
    "vavg,messh,vtracs,vtracsD,vtracsS,Ctracs,me2,me3,_ = res\n",
    "\n",
    "\n",
    "res = simulateSet(model,spdata,tG = 0,ton = 50,toffset = 70,\n",
    "                  t_stop = 500, EL = EL0,btsr = ones(9)==1,\n",
    "                  VDCC = VDCCa,dendrec=False,\n",
    "                  inhOutside = False)\n",
    "\n",
    "vavg,mesDiS,vtracs,vtracsD,vtracsS,Ctracs,me2,me3,_ = res\n",
    "gtrA = exppar.gtrA\n",
    "gtrN = exppar.gtrN\n",
    "gtrG = exppar.gtrG\n",
    "GABA.e = -70.0\n",
    "GABA2.e = -70.0"
   ]
  },
  {
   "cell_type": "code",
   "execution_count": 36,
   "metadata": {},
   "outputs": [],
   "source": [
    "with open(folderstore+\"All_baseline_depinhv3_nosh.pickle\",\"wb\") as f:\n",
    "    pickle.dump([messh,iPSDsh,posish,mesDiS,spdata],f) \n",
    " "
   ]
  },
  {
   "cell_type": "code",
   "execution_count": 37,
   "metadata": {},
   "outputs": [
    {
     "name": "stdout",
     "output_type": "stream",
     "text": [
      "[ 11  12  22  35  38  44  62  67  70  80  81  84  98 102 115 126 135 157\n",
      " 163 184 185 208 209 214 222 225 236 248 253 264 296 299 321 360 362 366\n",
      " 379]\n"
     ]
    }
   ],
   "source": [
    "sel = np.arange(len(spdata['A2']))[spdata['A2']>0]\n",
    "print(sel)"
   ]
  },
  {
   "cell_type": "code",
   "execution_count": 38,
   "metadata": {},
   "outputs": [],
   "source": [
    "import pandas as pd"
   ]
  },
  {
   "cell_type": "code",
   "execution_count": 39,
   "metadata": {},
   "outputs": [],
   "source": [
    "pd_spdata = pd.DataFrame(spdata)"
   ]
  },
  {
   "cell_type": "code",
   "execution_count": 40,
   "metadata": {},
   "outputs": [],
   "source": [
    "dis =  pd_spdata[pd_spdata['A2']>0]"
   ]
  },
  {
   "cell_type": "code",
   "execution_count": 41,
   "metadata": {},
   "outputs": [
    {
     "name": "stderr",
     "output_type": "stream",
     "text": [
      "/export/home1/users/bssn/serna/environments/neuron/lib/python3.6/site-packages/ipykernel_launcher.py:1: SettingWithCopyWarning: \n",
      "A value is trying to be set on a copy of a slice from a DataFrame.\n",
      "Try using .loc[row_indexer,col_indexer] = value instead\n",
      "\n",
      "See the caveats in the documentation: http://pandas.pydata.org/pandas-docs/stable/indexing.html#indexing-view-versus-copy\n",
      "  \"\"\"Entry point for launching an IPython kernel.\n"
     ]
    }
   ],
   "source": [
    "dis['Rneck'] = dis['Rneck']*300/250\n",
    "#hist(dis['Rneck'])"
   ]
  },
  {
   "cell_type": "code",
   "execution_count": 42,
   "metadata": {},
   "outputs": [],
   "source": [
    " \n",
    "def getint(x):\n",
    "    xc = x*1.0\n",
    "    xc.sort()\n",
    "    sh = xc.shape[0]\n",
    "    xmed = xc[sh//2]\n",
    "    s0= int(sh*(1-.6827)/2)\n",
    "    s1 = sh-s0\n",
    "    x0 = xc[s0]\n",
    "    x1 = xc[s1]\n",
    "    s0b= int(sh*(1-.95)/2)\n",
    "    s1b = sh-s0b\n",
    "    try:\n",
    "        x0b = xc[s0b]\n",
    "        x1b = xc[s1b]\n",
    "    except:\n",
    "        x0b, x1b = xc[0], xc[-1]\n",
    "    return((xmed,x0,x1,x0b,x1b))\n",
    "    "
   ]
  },
  {
   "cell_type": "code",
   "execution_count": 43,
   "metadata": {},
   "outputs": [
    {
     "name": "stderr",
     "output_type": "stream",
     "text": [
      "/export/home1/users/bssn/serna/environments/neuron/lib/python3.6/site-packages/ipykernel_launcher.py:161: RuntimeWarning: invalid value encountered in sqrt\n",
      "/export/home1/users/bssn/serna/environments/neuron/lib/python3.6/site-packages/ipykernel_launcher.py:162: RuntimeWarning: invalid value encountered in sqrt\n"
     ]
    }
   ],
   "source": [
    "#spdata['Rneck'] = Rneck0#*2\n",
    "tdels = [-49,-30,-20,-15,-10,-7.5,-5,-3.5,-2,-1,-0.5,0,0.5,1.0,2.0,2.75,3.5,5.0,7.5,10.0,15.0,20.,30.,50]\n",
    "dtime = zeros((len(tdels),20))\n",
    "dtime2 = zeros((len(tdels),20))\n",
    "data = zeros((len(tdels),20))\n",
    "data2 = zeros((len(tdels),20))\n",
    "datam = zeros((len(tdels),8))\n",
    "dendsizeL = max(max(dis['Dss'])+5,150)\n",
    "\n",
    "times_biexp = False\n",
    "pp0 = 0.2\n",
    "pp1 = 0.8\n",
    "\n",
    "EL0 = -70\n",
    "vavg0,mes0,vtracs0,vtracsD0,vtracsS0,Ctracs0,me20,me30, trec = simulateSet(model,dis,tG = 100,ton = 50,toffset = 100,t_stop = 500, EL = EL0,btsr = ones(9)==1,VDCC = VDCCa)\n",
    "\n",
    "vtt = clip(vtracs0-EL0,0,100)\n",
    "times0 = get_FWHMtimes(vtt, v0 =0, dt = lb.h.dt)\n",
    "t90100 = get_postp0p1times(vtt,p0=pp0,p1= pp1, dt = lb.h.dt)\n",
    "\n",
    "vtt = clip(vtracsS0-EL0,0,100)\n",
    "times0S = get_FWHMtimes(vtt, v0 =0, dt = lb.h.dt)\n",
    "t90100S = get_postp0p1times(vtt,p0=pp0,p1= pp1, dt = lb.h.dt)\n",
    "\n",
    "vtt = clip(vtracsD0-EL0,0,100)\n",
    "times0D = get_FWHMtimes(vtt, v0 =0, dt = lb.h.dt)\n",
    "t90100D = get_postp0p1times(vtt,p0=pp0,p1= pp1, dt = lb.h.dt)\n",
    "\n",
    "vtt = clip(Ctracs0,0,100)\n",
    "times0C = get_FWHMtimes(vtt, v0 =0, dt = lb.h.dt)\n",
    "t90100C = get_postp0p1times(vtt,p0=pp0,p1= pp1, dt = lb.h.dt)\n",
    "\n",
    "\n",
    "for i,td in enumerate(tdels):\n",
    "    vavg,mes,vtracs,vtracsD,vtracsS,Ctracs,me2,me3,_ = simulateSet(model,dis,tG = td,ton = 50,toffset = 100,t_stop = 500, EL = EL0,btsr = ones(9)==1,VDCC = VDCCa)\n",
    "    \n",
    "    # EPSP in spine head\n",
    "    vtt = clip(vtracs-EL0,0,100)\n",
    "    times = get_FWHMtimes(vtt, v0 =0, dt = lb.h.dt)\n",
    "    t9010 = get_postp0p1times(vtt,p0=pp0,p1= pp1, dt = lb.h.dt)\n",
    "    dtime[i,:5] = getint(times/times0)\n",
    "    dtime2[i,:5] = getint(t9010/t90100)\n",
    "\n",
    "\n",
    "    # EPSP In the soma\n",
    "    vtt = clip(vtracsS-EL0,0,100)\n",
    "    times = get_FWHMtimes(vtt, v0 =0, dt = lb.h.dt)\n",
    "    t9010 = get_postp0p1times(vtt,p0=pp0,p1= pp1, dt = lb.h.dt)\n",
    "    dtime[i,5:10] = getint(times/times0S)\n",
    "    dtime2[i,5:10] = getint(t9010/t90100S)\n",
    "    \n",
    "    # EPSP In the soma\n",
    "    vtt = clip(vtracsD-EL0,0,100)\n",
    "    times = get_FWHMtimes(vtt, v0 =0, dt = lb.h.dt)\n",
    "    t9010 = get_postp0p1times(vtt,p0=pp0,p1= pp1, dt = lb.h.dt)\n",
    "    dtime[i,15:20] = getint(times/times0D)\n",
    "    dtime2[i,15:20] = getint(t9010/t90100D)\n",
    "    \n",
    "    # For calcium in spine\n",
    "    vtt = clip(Ctracs,0,100)\n",
    "    times = get_FWHMtimes(vtt, v0 =0, dt = lb.h.dt)\n",
    "    t9010 = get_postp0p1times(vtt,p0=pp0,p1= pp1, dt = lb.h.dt)\n",
    "    dtime[i,10:15] = getint(times/times0C)\n",
    "    dtime2[i,10:15] = getint(t9010/t90100C)\n",
    "    \n",
    "    # Statistics\n",
    "    #data[i,:] = mes.mean(axis=0)\n",
    "    #datt0 = mes[:,1:5]/mes0[:,1:5]\n",
    "    #data2[i,:] = concatenate((datt0.mean(axis=0),datt0.std(axis=0)))\n",
    "    for j in range(1,5):\n",
    "        data[i,(5*(j-1)):(5*(j))] = getint(mes[:,j])\n",
    "        data2[i,(5*(j-1)):(5*(j))] = getint(mes[:,j]/mes0[:,j])\n",
    "        datam[i,(2*(j-1)):(2*(j))] = ((mes[:,j]/mes0[:,j]).mean(),(mes[:,j]/mes0[:,j]).std())\n",
    "\n",
    "with open(folderstore+\"inhibition_v3_nosh.pickle\",\"wb\") as f:\n",
    "    pickle.dump([tdels,data2,data,dtime,dtime2,datam],f)"
   ]
  },
  {
   "cell_type": "code",
   "execution_count": 44,
   "metadata": {},
   "outputs": [
    {
     "name": "stdout",
     "output_type": "stream",
     "text": [
      "(37,)\n"
     ]
    }
   ],
   "source": [
    "\n",
    "vtt = clip(vtracs0-EL0,0,100)\n",
    "times0 = get_FWHMtimes(vtt, v0 =0, dt = lb.h.dt)\n",
    "print(times0.shape)"
   ]
  },
  {
   "cell_type": "code",
   "execution_count": 45,
   "metadata": {},
   "outputs": [
    {
     "data": {
      "image/png": "[encoded data removed]",
      "text/plain": [
       "<Figure size 432x288 with 1 Axes>"
      ]
     },
     "metadata": {
      "needs_background": "light"
     },
     "output_type": "display_data"
    },
    {
     "data": {
      "image/png": "[encoded data removed]",
      "text/plain": [
       "<Figure size 432x288 with 1 Axes>"
      ]
     },
     "metadata": {
      "needs_background": "light"
     },
     "output_type": "display_data"
    }
   ],
   "source": [
    "if plotose:\n",
    "    inhtimDis = data2\n",
    "\n",
    "    sh = len(tdels)\n",
    "    vm,sl,sv = 1-inhtimDis[:sh,1*5],1-inhtimDis[:sh,1*5+1],1-inhtimDis[:sh,1*5+2]\n",
    "    plot(tdels,vm,'C1.-',label='Axo-sp\\n inhibition')\n",
    "    fill_between(tdels,sl,sv,alpha=0.5,color='C1')\n",
    "    vlines(0,0,0.1)\n",
    "    figure()\n",
    "    vm,sl,sv = 1-inhtimDis[:sh,3*5],1-inhtimDis[:sh,3*5+1],1-inhtimDis[:sh,3*5+2]\n",
    "    sl2,sv2 = 1-inhtimDis[:sh,3*5+3],1-inhtimDis[:sh,3*5+4]\n",
    "\n",
    "    plot(tdels,vm,'C1.-',label='Axo-sp\\n inhibition')\n",
    "    fill_between(tdels,sl,sv,alpha=0.5,color='C1')\n",
    "    fill_between(tdels,sl2,sv2,alpha=0.15,color='C1')\n",
    "\n",
    "    vlines(0,0,0.1)\n",
    "    ylim(0,0.1)"
   ]
  },
  {
   "cell_type": "code",
   "execution_count": 62,
   "metadata": {},
   "outputs": [
    {
     "data": {
      "text/plain": [
       "(0.40511268243243237, 0.7679695426229507, 38.39847713114752)"
      ]
     },
     "execution_count": 62,
     "metadata": {},
     "output_type": "execute_result"
    }
   ],
   "source": [
    "(dis['A2']*gtrG).mean()/1e-3,(iPSDsh*gtrG).mean()/1e-3, ((iPSDsh*gtrG)/1e-3/(20.0*1e-3)).mean()"
   ]
  },
  {
   "cell_type": "code",
   "execution_count": 48,
   "metadata": {},
   "outputs": [
    {
     "data": {
      "text/plain": [
       "89.59644663934426"
      ]
     },
     "execution_count": 48,
     "metadata": {},
     "output_type": "execute_result"
    },
    {
     "data": {
      "image/png": "[encoded data removed]",
      "text/plain": [
       "<Figure size 432x288 with 1 Axes>"
      ]
     },
     "metadata": {
      "needs_background": "light"
     },
     "output_type": "display_data"
    }
   ],
   "source": [
    "hist((iPSDsh*gtrG)/1e-3/(30.0*1e-3))\n",
    "((iPSDsh*gtrG)/1e-3/(30.0*1e-3)).mean()"
   ]
  },
  {
   "cell_type": "code",
   "execution_count": 47,
   "metadata": {},
   "outputs": [
    {
     "data": {
      "text/plain": [
       "(array([208.,  88.,  39.,  32.,   9.,   3.,   2.,   0.,   1.,   2.]),\n",
       " array([  2.43643041,  22.26921961,  42.10200882,  61.93479802,\n",
       "         81.76758722, 101.60037643, 121.43316563, 141.26595484,\n",
       "        161.09874404, 180.93153324, 200.76432245]),\n",
       " <a list of 10 Patch objects>)"
      ]
     },
     "execution_count": 47,
     "metadata": {},
     "output_type": "execute_result"
    },
    {
     "data": {
      "image/png": "[encoded data removed]",
      "text/plain": [
       "<Figure size 432x288 with 1 Axes>"
      ]
     },
     "metadata": {
      "needs_background": "light"
     },
     "output_type": "display_data"
    }
   ],
   "source": [
    "hist((spdata['A1']*gtrA)/1e-3/(11.0*1e-3))\n"
   ]
  },
  {
   "cell_type": "code",
   "execution_count": 49,
   "metadata": {},
   "outputs": [
    {
     "data": {
      "text/plain": [
       "(array([nan, nan, nan, nan, nan, nan, nan, nan, nan, nan, nan, nan, nan,\n",
       "        nan, nan, nan, nan, nan, nan, nan, nan, nan, nan, nan]),\n",
       " array([nan, nan, nan, nan, nan, nan, nan, nan, nan, nan, nan, nan, nan,\n",
       "        nan, nan, nan, nan, nan, nan, nan, nan, nan, nan, nan]))"
      ]
     },
     "execution_count": 49,
     "metadata": {},
     "output_type": "execute_result"
    }
   ],
   "source": [
    "sl2,sv2"
   ]
  },
  {
   "cell_type": "markdown",
   "metadata": {},
   "source": [
    "gtrG, gtrA = x4 (x8), x3"
   ]
  },
  {
   "cell_type": "code",
   "execution_count": 43,
   "metadata": {},
   "outputs": [
    {
     "data": {
      "image/png": "[encoded data removed]",
      "text/plain": [
       "<Figure size 432x288 with 1 Axes>"
      ]
     },
     "metadata": {
      "needs_background": "light"
     },
     "output_type": "display_data"
    },
    {
     "data": {
      "image/png": "[encoded data removed]",
      "text/plain": [
       "<Figure size 432x288 with 1 Axes>"
      ]
     },
     "metadata": {
      "needs_background": "light"
     },
     "output_type": "display_data"
    }
   ],
   "source": [
    "if plotose:\n",
    "    inhtimDis = data2\n",
    "\n",
    "    sh = len(tdels)\n",
    "    vm,sl,sv = 1-inhtimDis[:sh,1*5],1-inhtimDis[:sh,1*5+1],1-inhtimDis[:sh,1*5+2]\n",
    "    plot(tdels,vm,'C1.-',label='Axo-sp\\n inhibition')\n",
    "    fill_between(tdels,sl,sv,alpha=0.5,color='C1')\n",
    "    vlines(0,0,0.1)\n",
    "    figure()\n",
    "    vm,sl,sv = 1-inhtimDis[:sh,3*5],1-inhtimDis[:sh,3*5+1],1-inhtimDis[:sh,3*5+2]\n",
    "    plot(tdels,vm,'C1.-',label='Axo-sp\\n inhibition')\n",
    "    fill_between(tdels,sl,sv,alpha=0.5,color='C1')\n",
    "    vlines(0,0,0.1)\n",
    "    ylim(0,0.15)"
   ]
  },
  {
   "cell_type": "markdown",
   "metadata": {},
   "source": [
    "This is with GABAergic synapse  gtrG = 0.018/4.0"
   ]
  },
  {
   "cell_type": "code",
   "execution_count": 43,
   "metadata": {},
   "outputs": [
    {
     "data": {
      "image/png": "[encoded data removed]",
      "text/plain": [
       "<Figure size 432x288 with 1 Axes>"
      ]
     },
     "metadata": {
      "needs_background": "light"
     },
     "output_type": "display_data"
    },
    {
     "data": {
      "image/png": "[encoded data removed]",
      "text/plain": [
       "<Figure size 432x288 with 1 Axes>"
      ]
     },
     "metadata": {
      "needs_background": "light"
     },
     "output_type": "display_data"
    }
   ],
   "source": [
    "if plotose:\n",
    "    inhtimDis = data2\n",
    "\n",
    "    sh = len(tdels)\n",
    "    vm,sl,sv = 1-inhtimDis[:sh,1*5],1-inhtimDis[:sh,1*5+1],1-inhtimDis[:sh,1*5+2]\n",
    "    plot(tdels,vm,'C1.-',label='Axo-sp\\n inhibition')\n",
    "    fill_between(tdels,sl,sv,alpha=0.5,color='C1')\n",
    "    vlines(0,0,0.1)\n",
    "    figure()\n",
    "    vm,sl,sv = 1-inhtimDis[:sh,3*5],1-inhtimDis[:sh,3*5+1],1-inhtimDis[:sh,3*5+2]\n",
    "    plot(tdels,vm,'C1.-',label='Axo-sp\\n inhibition')\n",
    "    fill_between(tdels,sl,sv,alpha=0.5,color='C1')\n",
    "    vlines(0,0,0.1)\n",
    "    ylim(0,0.15)"
   ]
  },
  {
   "cell_type": "markdown",
   "metadata": {},
   "source": [
    "This is with GABAergic synapse  gtrG = 0.018"
   ]
  },
  {
   "cell_type": "code",
   "execution_count": 43,
   "metadata": {},
   "outputs": [
    {
     "data": {
      "image/png": "[encoded data removed]",
      "text/plain": [
       "<Figure size 432x288 with 1 Axes>"
      ]
     },
     "metadata": {
      "needs_background": "light"
     },
     "output_type": "display_data"
    },
    {
     "data": {
      "image/png": "[encoded data removed]",
      "text/plain": [
       "<Figure size 432x288 with 1 Axes>"
      ]
     },
     "metadata": {
      "needs_background": "light"
     },
     "output_type": "display_data"
    }
   ],
   "source": [
    "if plotose:\n",
    "    inhtimDis = data2\n",
    "\n",
    "    sh = len(tdels)\n",
    "    vm,sl,sv = 1-inhtimDis[:sh,1*5],1-inhtimDis[:sh,1*5+1],1-inhtimDis[:sh,1*5+2]\n",
    "    plot(tdels,vm,'C1.-',label='Axo-sp\\n inhibition')\n",
    "    fill_between(tdels,sl,sv,alpha=0.5,color='C1')\n",
    "    vlines(0,0,0.1)\n",
    "    figure()\n",
    "    vm,sl,sv = 1-inhtimDis[:sh,3*5],1-inhtimDis[:sh,3*5+1],1-inhtimDis[:sh,3*5+2]\n",
    "    plot(tdels,vm,'C1.-',label='Axo-sp\\n inhibition')\n",
    "    fill_between(tdels,sl,sv,alpha=0.5,color='C1')\n",
    "    vlines(0,0,0.1)\n",
    "    ylim(0,0.15)"
   ]
  },
  {
   "cell_type": "markdown",
   "metadata": {},
   "source": [
    "This is with GABAergic synapse *4 (actually x8), gtrG = 0.072"
   ]
  },
  {
   "cell_type": "code",
   "execution_count": 43,
   "metadata": {},
   "outputs": [
    {
     "data": {
      "image/png": "[encoded data removed]",
      "text/plain": [
       "<Figure size 432x288 with 1 Axes>"
      ]
     },
     "metadata": {
      "needs_background": "light"
     },
     "output_type": "display_data"
    },
    {
     "data": {
      "image/png": "[encoded data removed]",
      "text/plain": [
       "<Figure size 432x288 with 1 Axes>"
      ]
     },
     "metadata": {
      "needs_background": "light"
     },
     "output_type": "display_data"
    }
   ],
   "source": [
    "if plotose:\n",
    "    inhtimDis = data2\n",
    "\n",
    "    sh = len(tdels)\n",
    "    vm,sl,sv = 1-inhtimDis[:sh,1*5],1-inhtimDis[:sh,1*5+1],1-inhtimDis[:sh,1*5+2]\n",
    "    plot(tdels,vm,'C1.-',label='Axo-sp\\n inhibition')\n",
    "    fill_between(tdels,sl,sv,alpha=0.5,color='C1')\n",
    "    vlines(0,0,0.1)\n",
    "    figure()\n",
    "    vm,sl,sv = 1-inhtimDis[:sh,3*5],1-inhtimDis[:sh,3*5+1],1-inhtimDis[:sh,3*5+2]\n",
    "    plot(tdels,vm,'C1.-',label='Axo-sp\\n inhibition')\n",
    "    fill_between(tdels,sl,sv,alpha=0.5,color='C1')\n",
    "    vlines(0,0,0.1)\n",
    "    ylim(0,0.15)"
   ]
  },
  {
   "cell_type": "code",
   "execution_count": 40,
   "metadata": {},
   "outputs": [
    {
     "name": "stderr",
     "output_type": "stream",
     "text": [
      "/export/home1/users/bssn/serna/environments/neuron/lib/python3.6/site-packages/ipykernel_launcher.py:161: RuntimeWarning: invalid value encountered in sqrt\n",
      "/export/home1/users/bssn/serna/environments/neuron/lib/python3.6/site-packages/ipykernel_launcher.py:162: RuntimeWarning: invalid value encountered in sqrt\n",
      "/export/home1/users/bssn/serna/HBP/SpineModel/PS_tools.py:6: RuntimeWarning: invalid value encountered in double_scalars\n",
      "  numtt = (t2/t1)**(te/t1)-(t2/t1)**(te/t2)\n"
     ]
    }
   ],
   "source": [
    "td = 10\n",
    "vavg,mes,vtracs,vtracsD,vtracsS,Ctracs,me2,me3,_ = simulateSet(model,dis,tG = td,ton = 50,toffset = 70,t_stop = 500, EL = EL0,btsr = ones(9)==1,VDCC = VDCCa)\n",
    "with open(folderstore+\"dis_glu_ga10v3_nosh.pickle\",\"wb\") as f:\n",
    "    pickle.dump([vavg,mes,vtracs,vtracsD,vtracsS,Ctracs],f) \n",
    "    \n",
    "td = -10\n",
    "vavg,mes,vtracs,vtracsD,vtracsS,Ctracs,me2,me3,_ = simulateSet(model,dis,tG = td,ton = 50,toffset = 70,t_stop = 500, EL = EL0,btsr = ones(9)==1,VDCC = VDCCa)\n",
    "with open(folderstore+\"dis_ga_glu10v3_nosh.pickle\",\"wb\") as f:\n",
    "    pickle.dump([vavg,mes,vtracs,vtracsD,vtracsS,Ctracs],f) \n",
    "      \n",
    "td = 5\n",
    "vavg,mes,vtracs,vtracsD,vtracsS,Ctracs,me2,me3,_ = simulateSet(model,dis,tG = td,ton = 50,toffset = 70,t_stop = 500, EL = EL0,btsr = ones(9)==1,VDCC = VDCCa)\n",
    "with open(folderstore+\"dis_glu_ga05v3_nosh.pickle\",\"wb\") as f:\n",
    "    pickle.dump([vavg,mes,vtracs,vtracsD,vtracsS,Ctracs],f) \n",
    "    \n",
    "td = -5\n",
    "vavg,mes,vtracs,vtracsD,vtracsS,Ctracs,me2,me3,_ = simulateSet(model,dis,tG = td,ton = 50,toffset = 70,t_stop = 500, EL = EL0,btsr = ones(9)==1,VDCC = VDCCa)\n",
    "with open(folderstore+\"dis_ga_glu05v3_nosh.pickle\",\"wb\") as f:\n",
    "    pickle.dump([vavg,mes,vtracs,vtracsD,vtracsS,Ctracs],f) \n",
    "    \n",
    "    \n",
    "td = 500\n",
    "vavg,mes,vtracs,vtracsD,vtracsS,Ctracs,me2,me3,_ = simulateSet(model,dis,tG = td,ton = 50,toffset = 70,t_stop = 500, EL = EL0,btsr = ones(9)==1,VDCC = VDCCa)\n",
    "with open(folderstore+\"dis_baselinev3_nosh.pickle\",\"wb\") as f:\n",
    "    pickle.dump([vavg,mes,vtracs,vtracsD,vtracsS,Ctracs],f) \n",
    "    \n",
    "td = 500\n",
    "\n",
    "vavg0,mes0,vtracs0,vtracsD0,vtracsS0,Ctracs0,me20,me30,_ = simulateSet(model,dis,tG = td,ton = 50,toffset = 70,t_stop = 500, EL = EL0,btsr = ones(9)==1,VDCC = VDCCa,dendrec=False)\n",
    "   \n",
    "td = -2\n",
    "vavg,mes,vtracs,vtracsD,vtracsS,Ctracs,me2,me3,_ = simulateSet(model,dis,tG = td,ton = 50,toffset = 70,t_stop = 500, EL = EL0,btsr = ones(9)==1,VDCC = VDCCa)\n",
    "with open(folderstore+\"dis_ga_glu02v3_nosh.pickle\",\"wb\") as f:\n",
    "    pickle.dump([dis,mes,mes0],f) \n",
    "\n",
    "td = 2\n",
    "vavg,mes,vtracs,vtracsD,vtracsS,Ctracs,me2,me3,_ = simulateSet(model,dis,tG = td,ton = 50,toffset = 70,t_stop = 500, EL = EL0,btsr = ones(9)==1,VDCC = VDCCa)\n",
    "\n",
    "vtt = clip(vtracs0-EL0,0,100)\n",
    "if times_biexp:\n",
    "    times0 = get_atimes(vtt,ton=3000)\n",
    "else:\n",
    "    times0, tt, trise = get_atimes(vtt,ton=3000)\n",
    "    times0 = get_FWHMtimes(vtt, v0 =0, dt = lb.h.dt)\n",
    "\n",
    "vtt = clip(vtracs-EL0,0,100)\n",
    "if times_biexp:\n",
    "    times = get_atimes(vtt,ton=3000)\n",
    "else:\n",
    "    times, tt, trise = get_atimes(vtt,ton=3000)\n",
    "    times = get_FWHMtimes(vtt, v0 =0, dt = lb.h.dt)\n",
    "\n",
    "with open(folderstore+\"dis_glu_ga02v3_nosh.pickle\",\"wb\") as f:\n",
    "    pickle.dump([dis,mes,mes0,times,times0],f) \n",
    "    \n",
    "    "
   ]
  },
  {
   "cell_type": "code",
   "execution_count": 41,
   "metadata": {},
   "outputs": [
    {
     "name": "stderr",
     "output_type": "stream",
     "text": [
      "/export/home1/users/bssn/serna/environments/neuron/lib/python3.6/site-packages/ipykernel_launcher.py:161: RuntimeWarning: invalid value encountered in sqrt\n",
      "/export/home1/users/bssn/serna/environments/neuron/lib/python3.6/site-packages/ipykernel_launcher.py:162: RuntimeWarning: invalid value encountered in sqrt\n"
     ]
    }
   ],
   "source": [
    "#spdata['Rneck'] = Rneck0#*2\n",
    "tdels = [-49,-30,-20,-15,-10,-7.5,-5,-3.5,-2,-1,-0.5,0,0.5,1.0,2.0,2.75,3.5,5.0,7.5,10.0,15.0,20.,30.,50]\n",
    "dtime = zeros((len(tdels),20))\n",
    "dtime2 = zeros((len(tdels),20))\n",
    "data = zeros((len(tdels),20))\n",
    "data2 = zeros((len(tdels),20))\n",
    "datam = zeros((len(tdels),8))\n",
    "sps = btset_cd(cd='Sp',size=nsp)\n",
    "sps['A2'] = 0.0*sps['A1']\n",
    "iPSDsh, posish = btShInhwpos(nsp)\n",
    "\n",
    "dendsizeL = max(max(sps['Dss'])+5,150)\n",
    "pp0 = 0.2\n",
    "pp1 = 0.8\n",
    "times_biexp = False\n",
    "\n",
    "EL0 = -70\n",
    "res = simulateSet(model,sps,tG = 100,ton = 50,\n",
    "                  toffset = 100,t_stop = 500, \n",
    "                  EL = EL0,btsr = ones(9)==1,VDCC = VDCCa,inhOutside= True, iPSDsh = iPSDsh)\n",
    "vavg0,mes0,vtracs0,vtracsD0,vtracsS0,Ctracs0,me20,me30, trec = res\n",
    "\n",
    "vtt = clip(vtracs0-EL0,0,100)\n",
    "times0 = get_FWHMtimes(vtt, v0 =0, dt = lb.h.dt)\n",
    "t90100 = get_postp0p1times(vtt,p0=pp0,p1= pp1, dt = lb.h.dt)\n",
    "\n",
    "vtt = clip(vtracsS0-EL0,0,100)\n",
    "times0S = get_FWHMtimes(vtt, v0 =0, dt = lb.h.dt)\n",
    "t90100S = get_postp0p1times(vtt,p0=pp0,p1= pp1, dt = lb.h.dt)\n",
    "\n",
    "vtt = clip(vtracsD0-EL0,0,100)\n",
    "times0D = get_FWHMtimes(vtt, v0 =0, dt = lb.h.dt)\n",
    "t90100D = get_postp0p1times(vtt,p0=pp0,p1= pp1, dt = lb.h.dt)\n",
    "\n",
    "vtt = clip(Ctracs0,0,100)\n",
    "times0C = get_FWHMtimes(vtt, v0 =0, dt = lb.h.dt)\n",
    "t90100C = get_postp0p1times(vtt,p0=pp0,p1= pp1, dt = lb.h.dt)\n",
    "\n",
    "\n",
    "\n",
    "for i,td in enumerate(tdels):\n",
    "    res = simulateSet(model,sps,tG = td,ton = 50,\n",
    "                      toffset = 100,t_stop = 500, \n",
    "                      EL = EL0,btsr = ones(9)==1,\n",
    "                      VDCC = VDCCa,inhOutside= True, iPSDsh = iPSDsh)\n",
    "    vavg,mes,vtracs,vtracsD,vtracsS,Ctracs,me2,me3,_  = res\n",
    "    # EPSP in spine head\n",
    "    vtt = clip(vtracs-EL0,0,100)\n",
    "    times = get_FWHMtimes(vtt, v0 =0, dt = lb.h.dt)\n",
    "    t9010 = get_postp0p1times(vtt,p0=pp0,p1= pp1, dt = lb.h.dt)\n",
    "    dtime[i,:5] = getint(times/times0)\n",
    "    dtime2[i,:5] = getint(t9010/t90100)\n",
    "\n",
    "\n",
    "    # EPSP In the soma\n",
    "    vtt = clip(vtracsS-EL0,0,100)\n",
    "    times = get_FWHMtimes(vtt, v0 =0, dt = lb.h.dt)\n",
    "    t9010 = get_postp0p1times(vtt,p0=pp0,p1= pp1, dt = lb.h.dt)\n",
    "    dtime[i,5:10] = getint(times/times0S)\n",
    "    dtime2[i,5:10] = getint(t9010/t90100S)\n",
    "    \n",
    "    # EPSP In the soma\n",
    "    vtt = clip(vtracsD-EL0,0,100)\n",
    "    times = get_FWHMtimes(vtt, v0 =0, dt = lb.h.dt)\n",
    "    t9010 = get_postp0p1times(vtt,p0=pp0,p1= pp1, dt = lb.h.dt)\n",
    "    dtime[i,15:20] = getint(times/times0D)\n",
    "    dtime2[i,15:20] = getint(t9010/t90100D)\n",
    "    \n",
    "    # For calcium in spine\n",
    "    vtt = clip(Ctracs,0,100)\n",
    "    times = get_FWHMtimes(vtt, v0 =0, dt = lb.h.dt)\n",
    "    t9010 = get_postp0p1times(vtt,p0=pp0,p1= pp1, dt = lb.h.dt)\n",
    "    dtime[i,10:15] = getint(times/times0C)\n",
    "    dtime2[i,10:15] = getint(t9010/t90100C)\n",
    "    \n",
    "    # Statistics\n",
    "    #data[i,:] = mes.mean(axis=0)\n",
    "    #datt0 = mes[:,1:5]/mes0[:,1:5]\n",
    "    #data2[i,:] = concatenate((datt0.mean(axis=0),datt0.std(axis=0)))\n",
    "    for j in range(1,5):\n",
    "        data[i,(5*(j-1)):(5*(j))] = getint(mes[:,j])\n",
    "        data2[i,(5*(j-1)):(5*(j))] = getint(mes[:,j]/mes0[:,j])\n",
    "        datam[i,(2*(j-1)):(2*(j))] = ((mes[:,j]/mes0[:,j]).mean(),(mes[:,j]/mes0[:,j]).std())\n",
    "\n",
    "with open(folderstore+\"inhibition_v3_outPSD_nosh.pickle\",\"wb\") as f:\n",
    "    pickle.dump([tdels,data2,data,dtime,dtime2,datam],f)"
   ]
  },
  {
   "cell_type": "code",
   "execution_count": null,
   "metadata": {},
   "outputs": [],
   "source": []
  }
 ],
 "metadata": {
  "kernelspec": {
   "display_name": "neuron",
   "language": "python",
   "name": "neuron"
  },
  "language_info": {
   "codemirror_mode": {
    "name": "ipython",
    "version": 3
   },
   "file_extension": ".py",
   "mimetype": "text/x-python",
   "name": "python",
   "nbconvert_exporter": "python",
   "pygments_lexer": "ipython3",
   "version": "3.6.5"
  }
 },
 "nbformat": 4,
 "nbformat_minor": 2
}
