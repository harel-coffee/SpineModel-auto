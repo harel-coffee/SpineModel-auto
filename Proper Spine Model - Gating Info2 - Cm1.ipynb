{
 "cells": [
  {
   "cell_type": "markdown",
   "metadata": {},
   "source": [
    "# Spine Model\n"
   ]
  },
  {
   "cell_type": "code",
   "execution_count": 1,
   "metadata": {},
   "outputs": [
    {
     "name": "stdout",
     "output_type": "stream",
     "text": [
      "\t0 \n",
      "\t1 \n",
      "\t1 \n",
      "\t1 \n",
      "\t1 \n",
      "20.0 29.78380012512207 1871.3713533814052 6283.185307179586\n",
      "Topology:\n",
      "\n",
      "|-|       soma(0-1)\n",
      "   `|       dendA1c(0-1)\n",
      "     `|       dendA1(0-1)\n",
      "       `|       DendE(0-1)\n",
      "         `|       DendN(0-1)\n",
      "        `|       NSpne001(0-1)\n",
      "          `|       Spne001(0-1)\n",
      "        `|       NSpne000(0-1)\n",
      "          `|       Spne000(0-1)\n",
      "   `|       dendB1(0-1)\n",
      "\n",
      "1.0\n"
     ]
    }
   ],
   "source": [
    "from numpy import *   #ones, cumsum, sum, isscalar\n",
    "from matplotlib.pylab import * \n",
    "%matplotlib inline\n",
    "plotose = True\n",
    "import pickle\n",
    "\n",
    "import PS_lib as lb\n",
    "import PS_storage as st\n",
    "from bootstrap import btset_cd, generateplots, btShInh\n",
    "\n",
    "\n",
    "# Parameter definitions\n",
    "# Data is stored here      \n",
    "data = st.dataStorage() # some default parameters defined.\n",
    "data.dt = 0.05\n",
    "data.NMDA = False\n",
    "\n",
    "# Definition of the model.\n",
    "lb.h.dt = data.dt\n",
    "NMDA = data.NMDA\n",
    "model = lb.loadNeuron(\"Basic2.hoc\",axon=False)\n",
    "\n",
    "# Adding piece of dendritic branch with spine\n",
    "model.addDend(name=\"DendE\",locus=\"dendA1\",L=4.0,D=1.5,ilocus=1)\n",
    "model.addSpne(locus=\"DendE\",ilocus=0.3333,L=1.0,D=1.0,Lneck=1.0,Dneck=0.15)\n",
    "# Temperature of the neuron\n",
    "lb.h.celsius = model.temperature\n",
    "model.addDend(name=\"DendN\",locus=3,L=240.0,D=0.5,ilocus=1)\n",
    "data.model = model.__dict__\n",
    "\n",
    "model.soma.L = 20\n",
    "model.dend[-1].L = 200\n",
    "model.dend[-1].diam = 10\n",
    "model.addSpne(locus=\"DendE\",ilocus=0.6666,L=1.0,D=1.0,Lneck=1.0,Dneck=0.15)\n",
    "\n",
    "print(model.soma.L,model.soma.diam,model.soma(0.5).area(),model.dend[-1](0.5).area())\n",
    "\n",
    "print(\"Topology:\")\n",
    "print(lb.h.topology())\n"
   ]
  },
  {
   "cell_type": "code",
   "execution_count": 2,
   "metadata": {},
   "outputs": [],
   "source": [
    "#with open(\"data_Fullset/Fullset.pkl\",\"rb\") as f:\n",
    "#    data = pickle.load(f)\n",
    "    \n",
    "dataf = {\n",
    "\"inh shaft\": (-2.01288, 0.606754),\n",
    "\"SiS\": {\n",
    "\"Dss\": (248, 1.0),\n",
    "\"Vh\": (-2.84134 , 0.943684),\n",
    "\"A1\": (-0.2329858,0.41,1.0),\n",
    "\"Ah\": (-0.9274113,1.32,0.66666666667),\n",
    "\"Rh\":  (1.92772, 0.604723),\n",
    "\"Rn\":(4.03436, 1.00208)\n",
    "},\n",
    "\"DiS\": {\n",
    "\"Dss\": (248, 1.0),\n",
    "\"Vh\": (-2.0554,0.742202),\n",
    "\"A1\": (-0.2329858,0.41,1.0),\n",
    "\"Ah\": (-0.9274113,1.32,0.66666666667),\n",
    "\"Rh\": (1.59667,0.436302),  \n",
    "\"Rn\": (3.89941,1.13159),\n",
    "\"A2\": ( -2.54262,0.531551)\n",
    "},\n",
    "}"
   ]
  },
  {
   "cell_type": "markdown",
   "metadata": {},
   "source": [
    "### Recording places\n",
    "\n",
    "We set recording vectors in all dendritic compartments, spine included"
   ]
  },
  {
   "cell_type": "code",
   "execution_count": 3,
   "metadata": {
    "scrolled": false
   },
   "outputs": [],
   "source": [
    "nsp = 500\n",
    "dis = btset_cd(cd='DiS',size=nsp)\n",
    "sis = btset_cd(cd='SiS',size=nsp)\n",
    "sps = btset_cd(cd='Sp',size=nsp)\n",
    "\n",
    "#generateplots(dis,corplot=True)"
   ]
  },
  {
   "cell_type": "code",
   "execution_count": 4,
   "metadata": {
    "scrolled": false
   },
   "outputs": [
    {
     "data": {
      "image/png": "[encoded data removed]",
      "text/plain": [
       "<Figure size 432x288 with 1 Axes>"
      ]
     },
     "metadata": {
      "needs_background": "light"
     },
     "output_type": "display_data"
    }
   ],
   "source": [
    "nsp = 500\n",
    "p = dataf[\"inh shaft\"]\n",
    "iPSDsh = clip(exp(randn(nsp)*p[1]+p[0]),0,1.0)\n",
    "figure()\n",
    "h = hist(iPSDsh,31)\n",
    "xlabel(\"iPSD shaft ($\\mu m^2$)\",fontsize=14)\n",
    "\n",
    "iPSDsh = btShInh(size=500)\n",
    "h = hist(iPSDsh,31)\n"
   ]
  },
  {
   "cell_type": "code",
   "execution_count": 5,
   "metadata": {},
   "outputs": [],
   "source": [
    "\n",
    "rhGABAR = 500 # Receptors/um2\n",
    "rhAMPAR = 1000 # Receptors/um2\n",
    "rhNMDAR = 10 # Receptors/um2\n",
    "\n",
    "gtrG = rhGABAR*30e-6*2/5.0\n",
    "gtrA = rhAMPAR*11e-6*2/5.0\n",
    "gtrN = rhNMDAR*30e-6/16.0\n",
    "\n",
    "figureplot=False\n",
    "if figureplot:\n",
    "    fig, ax = subplots(nrows=1,ncols=4,figsize=(20,5))\n",
    "    fig.suptitle(\"Number of Receptors\",fontsize = 20)\n",
    "\n",
    "    ax[0].hist(sis['A1']*rhAMPAR,31)\n",
    "    ax[0].set_xlabel(\"#AMPAR in Sis\")\n",
    "    ax[1].hist(dis['A1']*rhAMPAR,31)\n",
    "    ax[1].set_xlabel(\"#AMPAR in Dis\")\n",
    "    ax[2].hist(dis['A2']*rhGABAR,31)\n",
    "    ax[2].set_xlabel(\"#GABAAR in Dis\")\n",
    "    ax[3].hist(iPSDsh*rhGABAR,31)\n",
    "    ax[3].set_xlabel(\"#GABAAR in shaft\")\n",
    "\n",
    "    fig, ax = subplots(nrows=1,ncols=4,figsize=(20,5))\n",
    "    fig.suptitle(\"Max Current\",fontsize = 20)\n",
    "\n",
    "\n",
    "    ax[0].hist(sis['A1']*gtrA/1e-6,31)\n",
    "    ax[0].set_xlabel(\"I$_{max}$ (pA)\")\n",
    "    ax[1].hist(dis['A1']*gtrA/1e-6,31)\n",
    "    ax[1].set_xlabel(\"I$_{max}$ (pA)\")\n",
    "    ax[2].hist(dis['A2']*gtrG/1e-6,31)\n",
    "    ax[2].set_xlabel(\"I$_{max}$ (pA)\")\n",
    "    ax[3].hist(iPSDsh*gtrG/1e-6,31)\n",
    "    ax[3].set_xlabel(\"I$_{max}$ (pA)\")\n",
    "    #savefig(\"D_maxI.png\",bbox_inches='tight',pad_inches = 0)\n"
   ]
  },
  {
   "cell_type": "code",
   "execution_count": 6,
   "metadata": {},
   "outputs": [
    {
     "name": "stdout",
     "output_type": "stream",
     "text": [
      "1.0 1.5\n",
      "200.24984394500785 1.5000000000000002\n",
      "50.15974481593781 1.5\n",
      "4.0 1.5\n",
      "200.0 10.0\n"
     ]
    }
   ],
   "source": [
    "for dend in model.dend:\n",
    "    print(dend.L,dend.diam)"
   ]
  },
  {
   "cell_type": "code",
   "execution_count": 7,
   "metadata": {},
   "outputs": [],
   "source": [
    "sp0 = model.spne[0]\n",
    "sp0.L = dis[\"L\"][0]\n",
    "sp0.diam = dis[\"D\"][0]\n",
    "sp1 = model.spne[1]\n",
    "sp1.L = dis[\"L\"][1]\n",
    "sp1.diam = dis[\"D\"][1]\n"
   ]
  },
  {
   "cell_type": "markdown",
   "metadata": {},
   "source": [
    "### Excitatory synapse \n",
    "\n",
    "We need to define the arrival time and dynamics. These parameters may be modified later"
   ]
  },
  {
   "cell_type": "code",
   "execution_count": 8,
   "metadata": {},
   "outputs": [],
   "source": [
    "lb.init_active(model, axon=False, soma=False, dend=False, dendNa=False,\n",
    "                dendCa=False,spne=True)"
   ]
  },
  {
   "cell_type": "code",
   "execution_count": 9,
   "metadata": {},
   "outputs": [],
   "source": [
    "model.AMPAlist = []\n",
    "model.ncAMPAlist = []\n",
    "\n",
    "tau1  = 0.5\n",
    "tau2 = 3.0\n",
    "nampa = 50\n",
    "gmax = 15*nampa/1e6\n",
    "nnmda = 2\n",
    "gmaxN = 50*nnmda/1e6\n",
    "\n",
    "AMPA0 = lb.h.Exp2Syn(1,sec = model.spne[0])\n",
    "AMPA0.tau1 = tau1\n",
    "AMPA0.tau2 = tau2\n",
    "\n",
    "stimE0=lb.h.NetStim();stimE0.number = 1; \n",
    "NC0 = lb.h.NetCon(stimE0,AMPA0,0,0,gmax)\n",
    "model.AMPAlist.append(AMPA0)\n",
    "model.ncAMPAlist.append(NC0)\n",
    "NC0.delay = 10\n",
    "\n",
    "# NMDA part\n",
    "lb.add_NMDAsyns(model, locs=[[0,0.5]], gmax=gmaxN,tau2=20.0)  \n",
    "NMDA0 = model.NMDAlist[0]\n",
    "NCN0 = model.ncNMDAlist[0]\n",
    "stimN0=lb.h.NetStim();stimN0.number = 1;"
   ]
  },
  {
   "cell_type": "code",
   "execution_count": 10,
   "metadata": {},
   "outputs": [],
   "source": [
    "NCN0 = lb.h.NetCon(stimN0,NMDA0,0,0,gmaxN)\n",
    "model.ncNMDAlist[0] = NCN0\n",
    "NMDA0.tau1 = 2.0\n",
    "NMDA0.tau2 = 30.0"
   ]
  },
  {
   "cell_type": "code",
   "execution_count": 11,
   "metadata": {},
   "outputs": [],
   "source": [
    "AMPA1 = lb.h.Exp2Syn(1,sec = model.spne[1])\n",
    "AMPA1.tau1 = tau1\n",
    "AMPA1.tau2 = tau2\n",
    "\n",
    "stimE1=lb.h.NetStim();stimE1.number = 1; \n",
    "NC1 = lb.h.NetCon(stimE1,AMPA1,0,0,gmax)\n",
    "model.AMPAlist.append(AMPA1)\n",
    "model.ncAMPAlist.append(NC1)\n",
    "NC1.delay = 10\n",
    "\n",
    "# NMDA part\n",
    "lb.add_NMDAsyns(model, locs=[[1,0.5]], gmax=gmaxN,tau2=20.0)  \n",
    "NMDA1 = model.NMDAlist[0]\n",
    "NCN1 = model.ncNMDAlist[0]\n",
    "stimN1=lb.h.NetStim();stimN1.number = 1;\n"
   ]
  },
  {
   "cell_type": "markdown",
   "metadata": {},
   "source": [
    "### Inhibitory synapse"
   ]
  },
  {
   "cell_type": "code",
   "execution_count": 12,
   "metadata": {},
   "outputs": [],
   "source": [
    "nGABA = 35\n",
    "gmaxG = nGABA*30e-6\n",
    "GABA, NCG = lb.add_GABAsyns(model, locs=[[0,1]], spne=True, gmax=gmaxG,tau1=1.5,tau2=15.0)  \n"
   ]
  },
  {
   "cell_type": "code",
   "execution_count": 13,
   "metadata": {},
   "outputs": [],
   "source": [
    "dendshaft = model.dend[-2]\n",
    "\n",
    "nGABA = 35\n",
    "gmaxG = nGABA*30e-6\n",
    "GABAsh, NCGsh = lb.add_GABAsynscomp(model, dendshaft, loc = 0.3333, gmax=gmaxG,tau1=1.5,tau2=20.0)  \n"
   ]
  },
  {
   "cell_type": "code",
   "execution_count": 14,
   "metadata": {},
   "outputs": [
    {
     "data": {
      "text/plain": [
       "[dendA1c, dendA1, dendB1, DendE, DendN]"
      ]
     },
     "execution_count": 14,
     "metadata": {},
     "output_type": "execute_result"
    }
   ],
   "source": [
    "model.dend"
   ]
  },
  {
   "cell_type": "code",
   "execution_count": 15,
   "metadata": {},
   "outputs": [
    {
     "data": {
      "text/plain": [
       "Vector[17]"
      ]
     },
     "execution_count": 15,
     "metadata": {},
     "output_type": "execute_result"
    }
   ],
   "source": [
    "trec, vrec = lb.h.Vector(), lb.h.Vector()\n",
    "gRec, iRec,  vspneRec = [], [], []\n",
    "gNMDA_rec, iNMDA_rec = [], []\n",
    "trec.record(lb.h._ref_t)\n",
    "vrec.record(model.soma(0.5)._ref_v)\n",
    "\n",
    "\n",
    "#n=0\n",
    "vDendRec = []\n",
    "caDendRec = []\n",
    "#For all dendrites\n",
    "for dend in model.dend:\n",
    "    #Adding vectors for Voltage, and Calcium\n",
    "    vDendRec.append(lb.h.Vector())\n",
    "    caDendRec.append(lb.h.Vector())\n",
    "    # Placing recording at mid-point in the dendritic branch\n",
    "    vDendRec[-1].record(dend(0.5)._ref_v)\n",
    "    # NO CALCIUM!?!?!\n",
    "#Probably better to organize them in a dictionary        \n",
    "vDendRec[1].record(model.dend[1](1.0)._ref_v)\n",
    "\n",
    "# Spine voltage recording stuff\n",
    "vspneRec.append(lb.h.Vector())\n",
    "vspneRec.append(lb.h.Vector())\n",
    "sp0 = model.spne[0]\n",
    "vspneRec[0].record(sp0(0.5)._ref_v)\n",
    "sp1 = model.spne[1]\n",
    "vspneRec[1].record(sp1(0.5)._ref_v)\n",
    "\n",
    "# Calcim\n",
    "\n",
    "caDendRec = {}\n",
    "caDendRec['sp0 iCa'] = lb.h.Vector()\n",
    "caDendRec['sp1 iCa'] = lb.h.Vector()\n",
    "caDendRec['sp0 Ca'] = lb.h.Vector()\n",
    "caDendRec['sp1 Ca'] = lb.h.Vector()\n",
    "caDendRec['sp0 iCa'].record(sp0(0.5)._ref_ica) \n",
    "caDendRec['sp1 iCa'].record(sp1(0.5)._ref_ica) \n",
    "caDendRec['sp0 Ca'].record(sp1(1.0)._ref_cai)\n",
    "caDendRec['sp1 Ca'].record(sp0(1.0)._ref_cai) \n"
   ]
  },
  {
   "cell_type": "code",
   "execution_count": 16,
   "metadata": {},
   "outputs": [],
   "source": [
    "vDendEL = []\n",
    "dend = model.dend[1]\n",
    "for i in range(10):\n",
    "    vDendEL.append(lb.h.Vector())\n",
    "    vDendEL[-1].record(dend((i+1.0)/10.0)._ref_v)"
   ]
  },
  {
   "cell_type": "code",
   "execution_count": 17,
   "metadata": {},
   "outputs": [],
   "source": [
    "vDendEL2 = []\n",
    "dend = model.dend[-1]\n",
    "for i in range(10):\n",
    "    vDendEL2.append(lb.h.Vector())\n",
    "    vDendEL2[-1].record(dend((i+1.0)/10.0)._ref_v)"
   ]
  },
  {
   "cell_type": "code",
   "execution_count": 18,
   "metadata": {},
   "outputs": [
    {
     "data": {
      "text/plain": [
       "[dendA1c, dendA1, dendB1, DendE, DendN]"
      ]
     },
     "execution_count": 18,
     "metadata": {},
     "output_type": "execute_result"
    }
   ],
   "source": [
    "model.dend"
   ]
  },
  {
   "cell_type": "code",
   "execution_count": 19,
   "metadata": {},
   "outputs": [],
   "source": [
    "iRec.append(lb.h.Vector())\n",
    "iRec.append(lb.h.Vector())\n",
    "currentAMPA = iRec[0]\n",
    "currentGABA = iRec[1]"
   ]
  },
  {
   "cell_type": "code",
   "execution_count": 20,
   "metadata": {},
   "outputs": [
    {
     "data": {
      "text/plain": [
       "Vector[39]"
      ]
     },
     "execution_count": 20,
     "metadata": {},
     "output_type": "execute_result"
    }
   ],
   "source": [
    "currentAMPA.record(AMPA0._ref_i)\n",
    "currentGABA.record(GABA._ref_i)"
   ]
  },
  {
   "cell_type": "code",
   "execution_count": 21,
   "metadata": {},
   "outputs": [
    {
     "name": "stdout",
     "output_type": "stream",
     "text": [
      "10.0 1.0\n",
      "183.20131327627294 0.6999999880790709 31.830988618379067\n",
      "1.0 0.7 626.8798780457402\n",
      "The resistance of neck and the dendritic impedance are 141.47 and 630 MΩ (resp.)\n"
     ]
    }
   ],
   "source": [
    "dendsizeL0 = 10\n",
    "dendsizeL = max(max(max(dis['Dss'])+10,max(sis['Dss'])+10),180)\n",
    "neck = model.neck[0]\n",
    "Rneck = neck.L*1e-6/(neck.diam*1e-6/2.0)**2/pi*neck.Ra/100\n",
    "dend = model.dend[0]\n",
    "dend.L = dendsizeL0\n",
    "dend.diam = 1.0\n",
    "print(dend.L,dend.diam)\n",
    "Rdend = dend.L*1e-6/(dend.diam*1e-6/2.0)**2/pi*dend.Ra/100\n",
    "Rdendf = Rdend\n",
    "dend = model.dend[1]\n",
    "dendc = model.dend[1]\n",
    "dendc.L = dendsizeL\n",
    "dend.diam = 0.7\n",
    "print(dend.L,dend.diam,Rdend/1e6)\n",
    "Rdend +=dend.L*1e-6/2.0/(dend.diam*1e-6/2.0)**2/pi*dend.Ra/100\n",
    "dend = model.dend[-2]\n",
    "dend.diam = 0.7\n",
    "dendsh = model.dend[-2]\n",
    "dend.L = 1\n",
    "print(dend.L,dend.diam,Rdend/1e6)\n",
    "Rdend +=dend.L*1e-6/2.0/(dend.diam*1e-6/2.0)**2/pi*dend.Ra/100\n",
    "Rdendf +=dend.L*1e-6/2.0/(dend.diam*1e-6/2.0)**2/pi*dend.Ra/100\n",
    "print(\"The resistance of neck and the dendritic impedance are %.2f and %2.f MΩ (resp.)\" %(Rneck/1e6,Rdend/1e6))"
   ]
  },
  {
   "cell_type": "code",
   "execution_count": 22,
   "metadata": {},
   "outputs": [],
   "source": [
    "dendsizeL = max(max(max(dis['Dss'])+10,max(sis['Dss'])+10),177)\n",
    "# Total sum is at least 180 um"
   ]
  },
  {
   "cell_type": "code",
   "execution_count": 23,
   "metadata": {},
   "outputs": [],
   "source": [
    "#model.soma.diam = model.soma.L\n",
    "dendN = model.dend[-1]\n",
    "dendN.L = 1\n",
    "dendp2 = dendN\n",
    "dendp1 = dendc"
   ]
  },
  {
   "cell_type": "code",
   "execution_count": 24,
   "metadata": {},
   "outputs": [
    {
     "data": {
      "text/plain": [
       "1.0"
      ]
     },
     "execution_count": 24,
     "metadata": {},
     "output_type": "execute_result"
    }
   ],
   "source": [
    "dendp2.L"
   ]
  },
  {
   "cell_type": "code",
   "execution_count": 25,
   "metadata": {},
   "outputs": [],
   "source": [
    "dendsizeL = max(max(max(dis['Dss'])+10,max(sis['Dss'])+10),177)\n",
    "dendp1.L = dendsizeL-10\n",
    "dendp2.L = 8 \n",
    "dendsh.L = 2\n",
    "dendsh.diam = 0.7\n",
    "dendc.diam = 0.7\n",
    "dendN.diam = 0.7        "
   ]
  },
  {
   "cell_type": "code",
   "execution_count": 26,
   "metadata": {},
   "outputs": [
    {
     "name": "stdout",
     "output_type": "stream",
     "text": [
      "3.530702475330721\n"
     ]
    }
   ],
   "source": [
    "rhosp = 1.3\n",
    "dendareaperL = rhosp*mean(sps['Ah'])+(pi*0.5)\n",
    "factor = dendareaperL/(pi*0.5)\n",
    "print(factor)\n",
    "#dendN.cm = 3.5\n",
    "#dendc.cm = 3.5\n",
    "dendN.cm = 1.\n",
    "dendc.cm = 1."
   ]
  },
  {
   "cell_type": "code",
   "execution_count": 27,
   "metadata": {},
   "outputs": [
    {
     "name": "stdout",
     "output_type": "stream",
     "text": [
      "10 10\n"
     ]
    }
   ],
   "source": [
    "dendc.nseg = int(dendc.L//10)+1\n",
    "dendN.nseg = int(dendN.L//10)+1\n",
    "dendsh.nseg = 10\n",
    "dendc.nseg = 10\n",
    "dendN.nseg = 10\n",
    "print(dendc.nseg,dendN.nseg)"
   ]
  },
  {
   "cell_type": "markdown",
   "metadata": {},
   "source": [
    "## Plots\n",
    "\n",
    "xkcd is to give it non serious appearance"
   ]
  },
  {
   "cell_type": "code",
   "execution_count": 28,
   "metadata": {},
   "outputs": [],
   "source": [
    "gtrG = rhGABAR*30e-6*2/5.0\n",
    "gtrA = rhAMPAR*11e-6*3/5.0\n",
    "gtrN = rhNMDAR*30e-6*1.0/16.0/4.0/1.27*50*5"
   ]
  },
  {
   "cell_type": "code",
   "execution_count": 29,
   "metadata": {},
   "outputs": [
    {
     "name": "stdout",
     "output_type": "stream",
     "text": [
      "141.4710605261292\n"
     ]
    }
   ],
   "source": [
    "diam0 = 0.15\n",
    "Rneck0 = Rneck/1e6\n",
    "Cm0 = model.CM\n",
    "print(Rneck0)"
   ]
  },
  {
   "cell_type": "code",
   "execution_count": 30,
   "metadata": {},
   "outputs": [
    {
     "name": "stdout",
     "output_type": "stream",
     "text": [
      "141.4710605261292\n"
     ]
    }
   ],
   "source": [
    "Rneck = neck.Ra*neck.L/(neck.diam)**2*0.04/pi\n",
    "print(Rneck)"
   ]
  },
  {
   "cell_type": "code",
   "execution_count": 31,
   "metadata": {},
   "outputs": [
    {
     "data": {
      "text/plain": [
       "0.1888432048787559"
      ]
     },
     "execution_count": 31,
     "metadata": {},
     "output_type": "execute_result"
    }
   ],
   "source": [
    "min(sps['Ln'])"
   ]
  },
  {
   "cell_type": "code",
   "execution_count": 32,
   "metadata": {
    "scrolled": false
   },
   "outputs": [],
   "source": [
    "def simulateSet(model,spn,spn2,tG = 500,ton = 50,dton2 = 0,toffset = 50,t_stop = 250, EL = -65,btsr = None,VDCC = array([0.,0,0,0]), inh = 'in', silent = None):\n",
    "    if btsr is None:\n",
    "        btsr = ones(9)==0\n",
    "    model.E_PAS = EL\n",
    "    model.soma.e_pas = model.E_PAS\n",
    "    for dendp in model.dend:\n",
    "        dendp.e_pas = model.E_PAS\n",
    "    for sp in model.spne:\n",
    "        sp.e_pas = model.E_PAS\n",
    "\n",
    "    dendsh = model.dend[-2]\n",
    "    dendc = model.dend[1]\n",
    "    dendN = model.dend[-1]\n",
    "    neck0 = model.neck[0]\n",
    "    sp0 = model.spne[0]\n",
    "    neck1 = model.neck[1]\n",
    "    sp1 = model.spne[1]\n",
    "    \n",
    "    dshL = dendsh.L\n",
    "    dendsizeL = dendsh.L+dendc.L+dendN.L\n",
    "    data = column_stack((spn[\"A1\"],spn[\"A1\"],spn[\"A2\"],spn[\"Rneck\"],spn[\"Dss\"],spn[\"L\"],spn[\"D\"],spn[\"Ln\"],spn[\"AhA0\"]))\n",
    "    data2 = column_stack((spn2[\"A1\"],spn2[\"Rneck\"],spn2[\"L\"],spn2[\"D\"],spn2[\"Ln\"],spn2[\"AhA0\"]))\n",
    "    if isnan(data).sum()>0:\n",
    "        raise \"There are nans do something about it\"\n",
    "    for i in range(9):\n",
    "        if ~btsr[i]:\n",
    "            data[:,i] = data[:,i].mean()\n",
    "        \n",
    "    \n",
    "    mes = zeros((nsp,9))\n",
    "    me2 = zeros((nsp,11))\n",
    "    me3 = zeros((nsp,10))\n",
    "\n",
    "    iad = 2\n",
    "    vavg = zeros((int(t_stop/lb.h.dt)+iad,7))\n",
    "    vtracs = zeros((int(t_stop/lb.h.dt)+iad,500))\n",
    "    Ctracs = zeros((int(t_stop/lb.h.dt)+iad,500))\n",
    "    vtracs2 = zeros((int(t_stop/lb.h.dt)+iad,500))\n",
    "    Ctracs2 = zeros((int(t_stop/lb.h.dt)+iad,500))\n",
    "    vtracsD = zeros((int(t_stop/lb.h.dt)+iad,500))\n",
    "    vtracsS = zeros((int(t_stop/lb.h.dt)+iad,500))\n",
    "    for i in arange(nsp):\n",
    "        NC0.weight[0]  = data[i,0] *gtrA#/2\n",
    "        NCN0.weight[0] = data[i,1] *gtrN#*0#*0\n",
    "        \n",
    "        \n",
    "        if inh == 'in':\n",
    "            NCG.weight[0] = data[i,2] *gtrG#*0\n",
    "            NCGsh.weight[0] = 0.0*iPSDsh[i] *gtrG\n",
    "        elif inh =='out':\n",
    "            NCG.weight[0] = 0.0* data[i,2] *gtrG#*0\n",
    "            NCGsh.weight[0] = iPSDsh[i] *gtrG\n",
    "        else:\n",
    "            NCG.weight[0] = data[i,2] *gtrG#*0\n",
    "            NCGsh.weight[0] = iPSDsh[i] *gtrG\n",
    "            \n",
    "        NC1.weight[0]  = data2[i,0] *gtrA#/2\n",
    "        NCN1.weight[0] = data2[i,0] *gtrN#*0#*0\n",
    "        #NCG1.weight[0] = data2[i,0] *gtrG#*0\n",
    "        if silent == 'sp0':\n",
    "            NC0.weight[0] = 0\n",
    "            NCN0.weight[0] = 0\n",
    "        elif silent == 'sp1':\n",
    "            NC1.weight[0]  = 0\n",
    "            NCN1.weight[0] = 0\n",
    "            \n",
    "            \n",
    "        neck0.L = data[i,7]  \n",
    "        Rneck0 = neck.Ra*neck0.L/(diam0)**2*0.04/pi\n",
    "        #print(Rneck0,data[i,3])\n",
    "        neck0.diam = diam0*sqrt(Rneck0/data[i,3])\n",
    "        \n",
    "        neck1.L = data2[i,2]  \n",
    "        Rneck1 = neck.Ra*neck1.L/(diam0)**2*0.04/pi\n",
    "        #print(Rneck0,data[i,3])\n",
    "        neck1.diam = diam0*sqrt(Rneck1/data[i,1])\n",
    "        \n",
    "        \n",
    "        posD = data[i,4]\n",
    "        \n",
    "        dendc.L = posD-dshL/2\n",
    "        dendN.L = max(dendsizeL-posD-dshL/2,2)\n",
    "\n",
    "        \n",
    "        # A = pi*D**2\n",
    "        sp0.L = data[i,5]\n",
    "        sp0.diam = data[i,6]\n",
    "        sp0.cm = data[i,8]\n",
    "        #spvol = sp0(0.5).volume()\n",
    "        #spineArea =  sp0(0.5).area()#sp.L*sp.diam+1.8*sp.diam**2/4 # um^2\n",
    "        \n",
    "        CaTcond = 1e-3# pS\n",
    "        sp0.pbar_caL13PS = VDCC[0]*CaTcond#/spineArea\n",
    "        sp0.pbar_caLPS = VDCC[1]*CaTcond#/spineArea\n",
    "        sp0.pbar_canPS = VDCC[2]*CaTcond#/spineArea\n",
    "        sp0.pcaqbar_caqPS = VDCC[3]*CaTcond#/spineArea\n",
    "        \n",
    "        sp1.L = data2[i,2]\n",
    "        sp1.diam = data2[i,3]\n",
    "        sp1.cm = data2[i,5]\n",
    "        \n",
    "        CaTcond = 1e-3# pS\n",
    "        sp1.pbar_caL13PS = VDCC[0]*CaTcond#/spineArea\n",
    "        sp1.pbar_caLPS = VDCC[1]*CaTcond#/spineArea\n",
    "        sp1.pbar_canPS = VDCC[2]*CaTcond#/spineArea\n",
    "        sp1.pcaqbar_caqPS = VDCC[3]*CaTcond#/spineArea\n",
    "        \n",
    "        \n",
    "        NC0.delay = toffset+ton-50\n",
    "        NCN0.delay = toffset+ton-50\n",
    "        NCG.delay = toffset+tG#toffset+tG#-50\n",
    "        NCGsh.delay = toffset+tG#toffset+tG#-50\n",
    "\n",
    "        NC1.delay = toffset+ton+dton2-50\n",
    "        NCN1.delay = toffset+ton+dton2-50\n",
    "        \n",
    "        for il in range(10):\n",
    "            f = 1-7.5*il/dendc.L\n",
    "            #f = 0.5\n",
    "            if f>=0:\n",
    "                vDendEL[il].record(dendc(f)._ref_v)\n",
    "            else:\n",
    "                vDendEL[il].record(dendc(0.0)._ref_v)\n",
    "        \n",
    "        for il in range(10):\n",
    "            f = 7.5*il/dendc.L\n",
    "            #f = 0.5\n",
    "            if f<=1:\n",
    "                vDendEL2[il].record(dendN(f)._ref_v)\n",
    "            else:\n",
    "                vDendEL2[il].record(dendN(1.0)._ref_v)\n",
    "                \n",
    "        lb.h.finitialize(model.E_PAS)\n",
    "        \n",
    "        \n",
    "\n",
    "                    \n",
    "        #print(data[i,:])\n",
    "        lb.neuron.run(t_stop)\n",
    "        \n",
    "        #plot(trec,vspneRec[0])    \n",
    "        \n",
    "        current = abs((array(vDendRec[1])-array(vrec[0]))/Rdend)\n",
    "        \n",
    "        vtracs[:,i] = array(vspneRec[0]) \n",
    "        vtracs2[:,i] = array(vspneRec[1]) \n",
    "\n",
    "        vtracsD[:,i] = array(vDendRec[1])\n",
    "        #vtracsD[:,i] = array(vDendEL[0])\n",
    "        vtracsS[:,i] = array(vrec) \n",
    "\n",
    "        vavg[:,0] += array(vspneRec[0]) \n",
    "        vavg[:,1] += array(vspneRec[0])**2\n",
    "        vavg[:,2] += array(vDendRec[1]) \n",
    "        vavg[:,3] += array(vDendRec[1])**2\n",
    "        vavg[:,4] += array(vrec) \n",
    "        vavg[:,5] += array(vrec)**2\n",
    "        vavg[:,6] += 1\n",
    "            \n",
    "        cat = array(caDendRec['sp0 Ca'])/1e-3\n",
    "        Ctracs[:,i] = cat-cat[0] \n",
    "        cat = array(caDendRec['sp1 Ca'])/1e-3\n",
    "        Ctracs2[:,i] = cat-cat[0] \n",
    "        aG = abs(array(currentGABA)).argmax()\n",
    "        aA = abs(array(currentAMPA)).argmax()\n",
    "        \n",
    "        mes[i,:] = [data[i,3],max(vspneRec[0])-EL,max(vDendRec[3])-EL,max(vrec)-EL,max(cat)-cat[0],array(currentGABA)[aG],array(currentAMPA)[aA],max(vspneRec[1])-EL,max(current)]\n",
    "        me2[i,0] = max(vDendRec[3])\n",
    "        me2[i,1:] = [max(vD) for vD in vDendEL]\n",
    "        me3[i,:] = [max(vD) for vD in vDendEL2]\n",
    "\n",
    "        #plot(trec,array(caDendRec[-1])/1e-3)\n",
    "        #ylabel(\"[Ca] (uM)\")\n",
    "        #figure()\n",
    "        #plot(trec,vspneRec[0])\n",
    "        #break\n",
    "        \n",
    "    vavg[:,:5] = vavg[:,:5]/vavg[0,6]\n",
    "    vavg[:,1] = sqrt(vavg[:,1]-vavg[:,0]**2)#/sqrt(vavg[0,6])\n",
    "    vavg[:,3] = sqrt(vavg[:,3]-vavg[:,2]**2)#/sqrt(vavg[0,6])\n",
    "    vavg[:,5] = sqrt(vavg[:,5]-vavg[:,4]**2)#/sqrt(vavg[0,6])\n",
    "    return(vavg,mes,vtracs,vtracsD,vtracsS,Ctracs,me2,me3,array(trec),vtracs2,Ctracs2)"
   ]
  },
  {
   "cell_type": "code",
   "execution_count": 33,
   "metadata": {
    "scrolled": true
   },
   "outputs": [],
   "source": [
    "VDCCa =  array([0.04023183, 0.08000483, 0.03416801, 0.02747762] )\n"
   ]
  },
  {
   "cell_type": "code",
   "execution_count": 34,
   "metadata": {},
   "outputs": [],
   "source": [
    "#vavg0,mes0,vtracs0,vtracsD0,vtracsS0,Ctracs0,me20,me30, trec,vtracs2,Ctracs2 = simulateSet(model,dis,sis,tG = 10,ton = 50,dton2 = 15,toffset = 100,t_stop = 500, EL = -70,btsr = ones(9)==1,VDCC = VDCCa, inh = 'in',silent = 'sp0')\n",
    "#plot(arange(vtracs0.shape[0])*lb.h.dt,vtracs0[:,2])\n",
    "#plot(arange(vtracs0.shape[0])*lb.h.dt,vtracs2[:,2])\n",
    "#plot(arange(vtracs0.shape[0])*lb.h.dt,vtracsD0[:,2])"
   ]
  },
  {
   "cell_type": "code",
   "execution_count": 35,
   "metadata": {},
   "outputs": [],
   "source": [
    "vavg0,mes0,vtracs0b,vtracsD0b,vtracsS0b,Ctracs0,me20,me30, trec,vtracs2b,Ctracs2b = simulateSet(model,dis,sis,tG = 500,ton = 50,dton2 = 15,toffset = 100,t_stop = 500, EL = -70,btsr = ones(9)==1,VDCC = VDCCa, inh = 'in',silent = 'sp0')"
   ]
  },
  {
   "cell_type": "code",
   "execution_count": 36,
   "metadata": {},
   "outputs": [
    {
     "ename": "NameError",
     "evalue": "name 'vtracs0' is not defined",
     "output_type": "error",
     "traceback": [
      "\u001b[0;31m---------------------------------------------------------------------------\u001b[0m",
      "\u001b[0;31mNameError\u001b[0m                                 Traceback (most recent call last)",
      "\u001b[0;32m<ipython-input-36-af77d16ff3dd>\u001b[0m in \u001b[0;36m<module>\u001b[0;34m\u001b[0m\n\u001b[0;32m----> 1\u001b[0;31m \u001b[0mplot\u001b[0m\u001b[0;34m(\u001b[0m\u001b[0marange\u001b[0m\u001b[0;34m(\u001b[0m\u001b[0mvtracs0\u001b[0m\u001b[0;34m.\u001b[0m\u001b[0mshape\u001b[0m\u001b[0;34m[\u001b[0m\u001b[0;36m0\u001b[0m\u001b[0;34m]\u001b[0m\u001b[0;34m)\u001b[0m\u001b[0;34m*\u001b[0m\u001b[0mlb\u001b[0m\u001b[0;34m.\u001b[0m\u001b[0mh\u001b[0m\u001b[0;34m.\u001b[0m\u001b[0mdt\u001b[0m\u001b[0;34m,\u001b[0m\u001b[0mvtracs0\u001b[0m\u001b[0;34m[\u001b[0m\u001b[0;34m:\u001b[0m\u001b[0;34m,\u001b[0m\u001b[0;36m2\u001b[0m\u001b[0;34m]\u001b[0m\u001b[0;34m)\u001b[0m\u001b[0;34m\u001b[0m\u001b[0m\n\u001b[0m\u001b[1;32m      2\u001b[0m \u001b[0mplot\u001b[0m\u001b[0;34m(\u001b[0m\u001b[0marange\u001b[0m\u001b[0;34m(\u001b[0m\u001b[0mvtracs0\u001b[0m\u001b[0;34m.\u001b[0m\u001b[0mshape\u001b[0m\u001b[0;34m[\u001b[0m\u001b[0;36m0\u001b[0m\u001b[0;34m]\u001b[0m\u001b[0;34m)\u001b[0m\u001b[0;34m*\u001b[0m\u001b[0mlb\u001b[0m\u001b[0;34m.\u001b[0m\u001b[0mh\u001b[0m\u001b[0;34m.\u001b[0m\u001b[0mdt\u001b[0m\u001b[0;34m,\u001b[0m\u001b[0mvtracs2\u001b[0m\u001b[0;34m[\u001b[0m\u001b[0;34m:\u001b[0m\u001b[0;34m,\u001b[0m\u001b[0;36m2\u001b[0m\u001b[0;34m]\u001b[0m\u001b[0;34m)\u001b[0m\u001b[0;34m\u001b[0m\u001b[0m\n\u001b[1;32m      3\u001b[0m \u001b[0mplot\u001b[0m\u001b[0;34m(\u001b[0m\u001b[0marange\u001b[0m\u001b[0;34m(\u001b[0m\u001b[0mvtracs0\u001b[0m\u001b[0;34m.\u001b[0m\u001b[0mshape\u001b[0m\u001b[0;34m[\u001b[0m\u001b[0;36m0\u001b[0m\u001b[0;34m]\u001b[0m\u001b[0;34m)\u001b[0m\u001b[0;34m*\u001b[0m\u001b[0mlb\u001b[0m\u001b[0;34m.\u001b[0m\u001b[0mh\u001b[0m\u001b[0;34m.\u001b[0m\u001b[0mdt\u001b[0m\u001b[0;34m,\u001b[0m\u001b[0mvtracsD0\u001b[0m\u001b[0;34m[\u001b[0m\u001b[0;34m:\u001b[0m\u001b[0;34m,\u001b[0m\u001b[0;36m2\u001b[0m\u001b[0;34m]\u001b[0m\u001b[0;34m)\u001b[0m\u001b[0;34m\u001b[0m\u001b[0m\n\u001b[1;32m      4\u001b[0m \u001b[0mplot\u001b[0m\u001b[0;34m(\u001b[0m\u001b[0marange\u001b[0m\u001b[0;34m(\u001b[0m\u001b[0mvtracs0\u001b[0m\u001b[0;34m.\u001b[0m\u001b[0mshape\u001b[0m\u001b[0;34m[\u001b[0m\u001b[0;36m0\u001b[0m\u001b[0;34m]\u001b[0m\u001b[0;34m)\u001b[0m\u001b[0;34m*\u001b[0m\u001b[0mlb\u001b[0m\u001b[0;34m.\u001b[0m\u001b[0mh\u001b[0m\u001b[0;34m.\u001b[0m\u001b[0mdt\u001b[0m\u001b[0;34m,\u001b[0m\u001b[0mvtracs2b\u001b[0m\u001b[0;34m[\u001b[0m\u001b[0;34m:\u001b[0m\u001b[0;34m,\u001b[0m\u001b[0;36m2\u001b[0m\u001b[0;34m]\u001b[0m\u001b[0;34m)\u001b[0m\u001b[0;34m\u001b[0m\u001b[0m\n",
      "\u001b[0;31mNameError\u001b[0m: name 'vtracs0' is not defined"
     ]
    }
   ],
   "source": [
    "plot(arange(vtracs0.shape[0])*lb.h.dt,vtracs0[:,2])\n",
    "plot(arange(vtracs0.shape[0])*lb.h.dt,vtracs2[:,2])\n",
    "plot(arange(vtracs0.shape[0])*lb.h.dt,vtracsD0[:,2])\n",
    "plot(arange(vtracs0.shape[0])*lb.h.dt,vtracs2b[:,2])\n"
   ]
  },
  {
   "cell_type": "code",
   "execution_count": 37,
   "metadata": {},
   "outputs": [],
   "source": [
    "vavg0,mes0,vtracs0c,vtracsD0c,vtracsS0c,Ctracs0,me20,me30, trec,vtracs2c,Ctracs2c = simulateSet(model,dis,sis,tG = 10,ton = 50,dton2 = 15,toffset = 100,t_stop = 500, EL = -70,btsr = ones(9)==1,VDCC = VDCCa, inh = 'out',silent = 'sp0')"
   ]
  },
  {
   "cell_type": "code",
   "execution_count": 37,
   "metadata": {},
   "outputs": [],
   "source": [
    "from scipy.signal import find_peaks"
   ]
  },
  {
   "cell_type": "code",
   "execution_count": null,
   "metadata": {},
   "outputs": [],
   "source": [
    "#plot(arange(vtracs0.shape[0])*lb.h.dt,vtracs0[:,0])\n",
    "plot(arange(vtracs0.shape[0])*lb.h.dt,vtracs2[:,0])\n",
    "#plot(arange(vtracs0.shape[0])*lb.h.dt,vtracsD0[:,0])\n",
    "#plot(arange(vtracs0.shape[0])*lb.h.dt,vtracs2b[:,0])\n",
    "plot(arange(vtracs0.shape[0])*lb.h.dt,vtracs2c[:,0])\n",
    "figure()\n",
    "plot(arange(vtracs0.shape[0])*lb.h.dt,vtracsS0[:,0])\n",
    "plot(arange(vtracs0.shape[0])*lb.h.dt,vtracsS0b[:,0])\n",
    "plot(arange(vtracs0.shape[0])*lb.h.dt,vtracsS0c[:,0])\n"
   ]
  },
  {
   "cell_type": "code",
   "execution_count": null,
   "metadata": {},
   "outputs": [],
   "source": [
    "sel = find_peaks(vtracs2c[:,0],height=-64)\n",
    "sel"
   ]
  },
  {
   "cell_type": "code",
   "execution_count": null,
   "metadata": {},
   "outputs": [],
   "source": [
    "lpeaks = list(map(lambda x: (find_peaks(x-min(x),height=.5)[1]['peak_heights'].max(), min(x)) , vtracs2c.transpose()))"
   ]
  },
  {
   "cell_type": "code",
   "execution_count": null,
   "metadata": {},
   "outputs": [],
   "source": [
    "vt = 1.0*vtracs2b\n",
    "lpeaks = list(map(lambda x: (find_peaks(x-min(x),height=.5)[1]['peak_heights'].max(), min(x)) , vt.transpose()))\n",
    "apeaks = array(lpeaks)\n",
    "apeaks[:,0] = apeaks[:,0]+apeaks[:,1]\n",
    "hist(apeaks[:,0]+65,bins=51,label= 'baseline',alpha=0.7)\n",
    "ap0 = apeaks[:,0]\n",
    "vt = 1.0*vtracs2c\n",
    "lpeaks = list(map(lambda x: (find_peaks(x-min(x),height=.5)[1]['peak_heights'].max(), min(x)) , vt.transpose()))\n",
    "apeaks = array(lpeaks)\n",
    "apeaks[:,0] = apeaks[:,0]+apeaks[:,1]\n",
    "hist(apeaks[:,0]+65,bins=51,label= 'SiS',alpha=0.7)\n",
    "ap0 = column_stack((ap0,apeaks[:,0]))\n",
    "\n",
    "vt = 1.0*vtracs2\n",
    "lpeaks = list(map(lambda x: (find_peaks(x-min(x),height=.5)[1]['peak_heights'].max(), min(x)) , vt.transpose()))\n",
    "apeaks = array(lpeaks)\n",
    "apeaks[:,0] = apeaks[:,0]+apeaks[:,1]\n",
    "hist(apeaks[:,0]+65,bins=51,label= 'DiS',alpha=0.7)\n",
    "ap0 = column_stack((ap0,apeaks[:,0]))\n",
    "legend()\n",
    "ap0 = ap0+70"
   ]
  },
  {
   "cell_type": "code",
   "execution_count": null,
   "metadata": {},
   "outputs": [],
   "source": [
    "\n",
    "hist(ap0[:,1]/ap0[:,0],51,label='SiS',color = 'C1')\n",
    "hist(ap0[:,2]/ap0[:,0],51,label='DiS',color = 'C2',alpha=0.7)\n",
    "legend()\n",
    "figure()\n",
    "hist(ap0[:,2]-ap0[:,1],51,alpha=0.7)\n",
    "\n",
    "print(mean(ap0[:,1]/ap0[:,0]),mean(ap0[:,2]/ap0[:,0]))\n",
    "print(mean((ap0[:,1]-ap0[:,2])/ap0[:,0]))"
   ]
  },
  {
   "cell_type": "code",
   "execution_count": null,
   "metadata": {},
   "outputs": [],
   "source": []
  },
  {
   "cell_type": "code",
   "execution_count": null,
   "metadata": {},
   "outputs": [],
   "source": [
    "vt = 1.0*vtracsS0b\n",
    "lpeaks = list(map(lambda x: (find_peaks(x-min(x),height=.02)[1]['peak_heights'].max(), min(x)) , vt.transpose()))\n",
    "apeaks = array(lpeaks)\n",
    "apeaks[:,0] = apeaks[:,0]+apeaks[:,1]\n",
    "hist(apeaks[:,0]+65,bins=51,label= 'baseline',alpha=0.7)\n",
    "apS = apeaks[:,0]\n",
    "vt = 1.0*vtracsS0c\n",
    "lpeaks = list(map(lambda x: (find_peaks(x-min(x),height=.02)[1]['peak_heights'].max(), min(x)) , vt.transpose()))\n",
    "apeaks = array(lpeaks)\n",
    "apeaks[:,0] = apeaks[:,0]+apeaks[:,1]\n",
    "hist(apeaks[:,0]+65,bins=51,label= 'SiS',alpha=0.7)\n",
    "apS = column_stack((apS,apeaks[:,0]))\n",
    "\n",
    "vt = 1.0*vtracsS0\n",
    "lpeaks = list(map(lambda x: (find_peaks(x-min(x),height=.02)[1]['peak_heights'].max(), min(x)) , vt.transpose()))\n",
    "apeaks = array(lpeaks)\n",
    "apeaks[:,0] = apeaks[:,0]+apeaks[:,1]\n",
    "hist(apeaks[:,0]+65,bins=51,label= 'DiS',alpha=0.7)\n",
    "apS = column_stack((apS,apeaks[:,0]))\n",
    "legend()\n",
    "apS= apS+70"
   ]
  },
  {
   "cell_type": "code",
   "execution_count": null,
   "metadata": {},
   "outputs": [],
   "source": [
    "hist(apS[:,1]/apS[:,0],51,label='SiS',color = 'C1')\n",
    "hist(apS[:,2]/apS[:,0],51,label='DiS',color = 'C2',alpha=0.7)\n",
    "legend()\n",
    "figure()\n",
    "hist(apS[:,2]-apS[:,1],51,alpha=0.7)\n",
    "\n",
    "print(mean(apS[:,1]/apS[:,0]),mean(apS[:,2]/apS[:,0]))\n",
    "print(mean((apS[:,1]-apS[:,2])/apS[:,0]))"
   ]
  },
  {
   "cell_type": "code",
   "execution_count": null,
   "metadata": {},
   "outputs": [],
   "source": [
    "#plot(arange(vtracs0.shape[0])*lb.h.dt,vtracs0[:,0])\n",
    "plot(arange(vtracs0.shape[0])*lb.h.dt,vtracs2[:,1])\n",
    "#plot(arange(vtracs0.shape[0])*lb.h.dt,vtracsD0[:,0])\n",
    "#plot(arange(vtracs0.shape[0])*lb.h.dt,vtracs2b[:,0])\n",
    "plot(arange(vtracs0.shape[0])*lb.h.dt,vtracs2c[:,1])\n",
    "plot(arange(vtracs0.shape[0])*lb.h.dt,vtracs2b[:,1])\n"
   ]
  },
  {
   "cell_type": "code",
   "execution_count": null,
   "metadata": {},
   "outputs": [],
   "source": [
    "trec = arange(vtracs0.shape[0])*lb.h.dt\n",
    "sel = trec>100+50+15\n",
    "vv0 = vtracs2b[sel,:].max(axis=0)\n",
    "vvDiS = vtracs2[sel,:].max(axis=0)\n",
    "vvSiS = vtracs2c[sel,:].max(axis=0)\n",
    "#hist(vvDiS/vv0,51)\n",
    "hist(vvSiS/vv0-vvDiS/vv0,51,alpha=0.7)"
   ]
  },
  {
   "cell_type": "code",
   "execution_count": 38,
   "metadata": {},
   "outputs": [],
   "source": [
    "def getvpeaks(vtracs2b,vtracs2,vtracs2c, th = 0.5, plotose = False,):\n",
    "    vt = 1.0*vtracs2b\n",
    "    lpeaks = list(map(lambda x: (find_peaks(x-min(x),height=th)[1]['peak_heights'].max(), min(x)) , vt.transpose()))\n",
    "    apeaks = array(lpeaks)\n",
    "    apeaks[:,0] = apeaks[:,0]+apeaks[:,1]\n",
    "    if plotose:\n",
    "        hist(apeaks[:,0]+65,bins=51,label= 'baseline',alpha=0.7)\n",
    "    ap0 = apeaks[:,0]\n",
    "    vt = 1.0*vtracs2c\n",
    "    lpeaks = list(map(lambda x: (find_peaks(x-min(x),height=th)[1]['peak_heights'].max(), min(x)) , vt.transpose()))\n",
    "    apeaks = array(lpeaks)\n",
    "    apeaks[:,0] = apeaks[:,0]+apeaks[:,1]\n",
    "    if plotose:\n",
    "        hist(apeaks[:,0]+65,bins=51,label= 'SiS',alpha=0.7)\n",
    "    ap0 = column_stack((ap0,apeaks[:,0]))\n",
    "\n",
    "    vt = 1.0*vtracs2\n",
    "    lpeaks = list(map(lambda x: (find_peaks(x-min(x),height=th)[1]['peak_heights'].max(), min(x)) , vt.transpose()))\n",
    "    apeaks = array(lpeaks)\n",
    "    apeaks[:,0] = apeaks[:,0]+apeaks[:,1]\n",
    "    if plotose:\n",
    "        hist(apeaks[:,0]+65,bins=51,label= 'DiS',alpha=0.7)\n",
    "        legend()\n",
    "    ap0 = column_stack((ap0,apeaks[:,0]))\n",
    "    ap0 = ap0\n",
    "    return(ap0)"
   ]
  },
  {
   "cell_type": "code",
   "execution_count": 49,
   "metadata": {},
   "outputs": [
    {
     "name": "stdout",
     "output_type": "stream",
     "text": [
      "0\n",
      "5\n",
      "10\n",
      "15\n",
      "20\n",
      "25\n",
      "30\n",
      "35\n",
      "40\n",
      "45\n"
     ]
    }
   ],
   "source": [
    "nsp = 500\n",
    "\n",
    "for i in range(50):\n",
    "    vavg0,mes0,vtracs0,vtracsD0,vtracsS0,Ctracs0,me20,me30, trec,vtracs2,Ctracs2 = simulateSet(model,dis,sps,tG = 10,ton = 50,dton2 = 15,toffset = 100,t_stop = 500, EL = -70,btsr = ones(9)==1,VDCC = VDCCa, inh = 'in',silent = 'sp0')\n",
    "    vavg0,mes0,vtracs0b,vtracsD0b,vtracsS0b,Ctracs0b,me20,me30, trec,vtracs2b,Ctracs2b = simulateSet(model,dis,sps,tG = 500,ton = 50,dton2 = 15,toffset = 100,t_stop = 500, EL = -70,btsr = ones(9)==1,VDCC = VDCCa, inh = 'in',silent = 'sp0')\n",
    "    vavg0,mes0,vtracs0c,vtracsD0c,vtracsS0c,Ctracs0c,me20,me30, trec,vtracs2c,Ctracs2c = simulateSet(model,dis,sps,tG = 10,ton = 50,dton2 = 15,toffset = 100,t_stop = 500, EL = -70,btsr = ones(9)==1,VDCC = VDCCa, inh = 'out',silent = 'sp0')\n",
    "\n",
    "    ap0 = getvpeaks(vtracs2b,vtracs2,vtracs2c, th = 0.5, plotose = False)\n",
    "    apS = getvpeaks(vtracsS0b,vtracsS0,vtracsS0c, th = 0.02, plotose = False)\n",
    "    apD = getvpeaks(vtracsD0b,vtracsD0,vtracsD0c, th = 0.02, plotose = False)\n",
    "    apC = getvpeaks(Ctracs0b,Ctracs0,Ctracs0c, th = 0., plotose = False)\n",
    "    \n",
    "    if i == 0:\n",
    "        fap0 = ap0+70\n",
    "        fapS = apS+70\n",
    "        fapD = apD+70\n",
    "        fapC = apC\n",
    "    else:\n",
    "        fap0 = row_stack((fap0,ap0+70))\n",
    "        fapS = row_stack((fapS,apS+70))\n",
    "        fapD = row_stack((fapD,apD+70))\n",
    "        fapC = row_stack((fapC,apC))\n",
    "        \n",
    "    dis = btset_cd(cd='DiS',size=nsp)\n",
    "    sps = btset_cd(cd='Sp',size=nsp)\n",
    "\n",
    "    iPSDsh = btShInh(size=500)\n",
    "    \n",
    "    dendsizeL = max(max(dis['Dss'])+10,177)\n",
    "    dendp1.L = dendsizeL-10\n",
    "    dendp2.L = 8 \n",
    "    dendsh.L = 2     \n",
    "\n",
    "    if i%5 == 0: \n",
    "        print(i)\n",
    "        with open(\"gatinginfo_0_temp_cm1.pickle\",\"wb\") as f:\n",
    "            pickle.dump([fapS,fapD,fap0,fapC],f)\n"
   ]
  },
  {
   "cell_type": "code",
   "execution_count": 50,
   "metadata": {},
   "outputs": [
    {
     "name": "stdout",
     "output_type": "stream",
     "text": [
      "0.6776534302895849 0.7966547161808929\n",
      "-0.1190012858913079\n"
     ]
    },
    {
     "data": {
      "image/png": "[encoded data removed]",
      "text/plain": [
       "<Figure size 432x288 with 1 Axes>"
      ]
     },
     "metadata": {
      "needs_background": "light"
     },
     "output_type": "display_data"
    },
    {
     "data": {
      "image/png": "[encoded data removed]",
      "text/plain": [
       "<Figure size 432x288 with 1 Axes>"
      ]
     },
     "metadata": {
      "needs_background": "light"
     },
     "output_type": "display_data"
    }
   ],
   "source": [
    "hist(fapS[:,1]/fapS[:,0],51,label='SiS',color = 'C1')\n",
    "hist(fapS[:,2]/fapS[:,0],51,label='DiS',color = 'C2',alpha=0.7)\n",
    "legend()\n",
    "figure()\n",
    "hist((fapS[:,2]-fapS[:,1])/fapS[:,0],51,alpha=0.7)\n",
    "\n",
    "print(mean(fapS[:,1]/fapS[:,0]),mean(fapS[:,2]/fapS[:,0]))\n",
    "print(mean((fapS[:,1]-fapS[:,2])/fapS[:,0]))"
   ]
  },
  {
   "cell_type": "code",
   "execution_count": 51,
   "metadata": {},
   "outputs": [
    {
     "data": {
      "image/png": "[encoded data removed]",
      "text/plain": [
       "<Figure size 432x288 with 1 Axes>"
      ]
     },
     "metadata": {
      "needs_background": "light"
     },
     "output_type": "display_data"
    },
    {
     "data": {
      "image/png": "[encoded data removed]",
      "text/plain": [
       "<Figure size 432x288 with 1 Axes>"
      ]
     },
     "metadata": {
      "needs_background": "light"
     },
     "output_type": "display_data"
    }
   ],
   "source": [
    "hist(fapD[:,1]/fapD[:,0],51,label='SiS',color = 'C1')\n",
    "hist(fapD[:,2]/fapD[:,0],51,label='DiS',color = 'C2',alpha=0.7)\n",
    "legend()\n",
    "figure()\n",
    "ht =hist((fapD[:,2]-fapD[:,1])/fapD[:,0],51,alpha=0.7)"
   ]
  },
  {
   "cell_type": "code",
   "execution_count": 52,
   "metadata": {},
   "outputs": [
    {
     "data": {
      "image/png": "[encoded data removed]",
      "text/plain": [
       "<Figure size 432x288 with 1 Axes>"
      ]
     },
     "metadata": {
      "needs_background": "light"
     },
     "output_type": "display_data"
    },
    {
     "data": {
      "image/png": "[encoded data removed]",
      "text/plain": [
       "<Figure size 432x288 with 1 Axes>"
      ]
     },
     "metadata": {
      "needs_background": "light"
     },
     "output_type": "display_data"
    }
   ],
   "source": [
    "hist(fap0[:,1]/fap0[:,0],51,label='SiS',color = 'C1')\n",
    "hist(fap0[:,2]/fap0[:,0],51,label='DiS',color = 'C2',alpha=0.7)\n",
    "legend()\n",
    "figure()\n",
    "ht = hist((fap0[:,2]-fap0[:,1])/fap0[:,0],51,alpha=0.7)"
   ]
  },
  {
   "cell_type": "code",
   "execution_count": 53,
   "metadata": {},
   "outputs": [],
   "source": [
    "with open(\"gatinginfo_0_cm1.pickle\",\"wb\") as f:\n",
    "    pickle.dump([fapS,fapD,fap0,fapC],f)\n"
   ]
  },
  {
   "cell_type": "code",
   "execution_count": 54,
   "metadata": {},
   "outputs": [],
   "source": [
    "fapS0,fapD0,fap00,fapC0 = fapS*1.0,fapD*1.0,fap0*1.0,fapC*1.0"
   ]
  },
  {
   "cell_type": "code",
   "execution_count": 55,
   "metadata": {
    "scrolled": false
   },
   "outputs": [
    {
     "name": "stdout",
     "output_type": "stream",
     "text": [
      "0\n",
      "5\n",
      "10\n",
      "15\n",
      "20\n",
      "25\n",
      "30\n",
      "35\n",
      "40\n",
      "45\n"
     ]
    }
   ],
   "source": [
    "nsp = 500\n",
    "\n",
    "for i in range(50):\n",
    "    vavg0,mes0,vtracs0,vtracsD0,vtracsS0,Ctracs0,me20,me30, trec,vtracs2,Ctracs2 = simulateSet(model,dis,sps,tG = -5,ton = 50,dton2 = 15,toffset = 100,t_stop = 500, EL = -70,btsr = ones(9)==1,VDCC = VDCCa, inh = 'in',silent = 'sp1')\n",
    "    vavg0,mes0,vtracs0b,vtracsD0b,vtracsS0b,Ctracs0b,me20,me30, trec,vtracs2b,Ctracs2b = simulateSet(model,dis,sps,tG = 500,ton = 50,dton2 = 15,toffset = 100,t_stop = 500, EL = -70,btsr = ones(9)==1,VDCC = VDCCa, inh = 'in',silent = 'sp1')\n",
    "    vavg0,mes0,vtracs0c,vtracsD0c,vtracsS0c,Ctracs0c,me20,me30, trec,vtracs2c,Ctracs2c = simulateSet(model,dis,sps,tG = -5,ton = 50,dton2 = 15,toffset = 100,t_stop = 500, EL = -70,btsr = ones(9)==1,VDCC = VDCCa, inh = 'out',silent = 'sp1')\n",
    "\n",
    "    ap0 = getvpeaks(vtracs0b,vtracs0,vtracs0c, th = 0.5, plotose = False)\n",
    "    apS = getvpeaks(vtracsS0b,vtracsS0,vtracsS0c, th = 0.02, plotose = False)\n",
    "    apD = getvpeaks(vtracsD0b,vtracsD0,vtracsD0c, th = 0.02, plotose = False)\n",
    "    apC = getvpeaks(Ctracs0b,Ctracs0,Ctracs0c, th = 0.00, plotose = False)\n",
    "    \n",
    "    if i == 0:\n",
    "        fap0 = ap0+70\n",
    "        fapS = apS+70\n",
    "        fapD = apD+70\n",
    "        fapC = apC\n",
    "    else:\n",
    "        fap0 = row_stack((fap0,ap0+70))\n",
    "        fapS = row_stack((fapS,apS+70))\n",
    "        fapD = row_stack((fapD,apD+70))\n",
    "        fapC = row_stack((fapC,apC))\n",
    "        \n",
    "    dis = btset_cd(cd='DiS',size=nsp)\n",
    "    sps = btset_cd(cd='Sp',size=nsp)\n",
    "\n",
    "    iPSDsh = btShInh(size=500)\n",
    "\n",
    "    if i%5 == 0: \n",
    "        print(i)\n",
    "        with open(\"gatinginfo_u_temp_cm1.pickle\",\"wb\") as f:\n",
    "            pickle.dump([fapS,fapD,fap0,fapC],f)\n"
   ]
  },
  {
   "cell_type": "code",
   "execution_count": 56,
   "metadata": {},
   "outputs": [
    {
     "data": {
      "text/plain": [
       "157.65932570124588"
      ]
     },
     "execution_count": 56,
     "metadata": {},
     "output_type": "execute_result"
    }
   ],
   "source": [
    "model.dend[1].L\n",
    "model.dend[-1].L\n",
    "dis['Dss'].max()"
   ]
  },
  {
   "cell_type": "code",
   "execution_count": 57,
   "metadata": {},
   "outputs": [],
   "source": [
    "with open(\"gatinginfo_u_cm1.pickle\",\"wb\") as f:\n",
    "    pickle.dump([fapS,fapD,fap0,fapC],f)"
   ]
  },
  {
   "cell_type": "code",
   "execution_count": 58,
   "metadata": {},
   "outputs": [],
   "source": [
    "vavg0,mes0,vtracs0,vtracsD0,vtracsS0,Ctracs0,me20,me30, trec,vtracs2,Ctracs2 = simulateSet(model,dis,sps,tG = -5,ton = 50,dton2 = 15,toffset = 100,t_stop = 500, EL = -70,btsr = ones(9)==1,VDCC = VDCCa, inh = 'in',silent = 'sp1')\n",
    "vavg0,mes0,vtracs0b,vtracsD0b,vtracsS0b,Ctracs0b,me20,me30, trec,vtracs2b,Ctracs2b = simulateSet(model,dis,sps,tG = 500,ton = 50,dton2 = 15,toffset = 100,t_stop = 500, EL = -70,btsr = ones(9)==1,VDCC = VDCCa, inh = 'in',silent = 'sp1')\n",
    "vavg0,mes0,vtracs0c,vtracsD0c,vtracsS0c,Ctracs0c,me20,me30, trec,vtracs2c,Ctracs2c = simulateSet(model,dis,sps,tG = -5,ton = 50,dton2 = 15,toffset = 100,t_stop = 500, EL = -70,btsr = ones(9)==1,VDCC = VDCCa, inh = 'out',silent = 'sp1')"
   ]
  },
  {
   "cell_type": "code",
   "execution_count": 59,
   "metadata": {},
   "outputs": [
    {
     "data": {
      "text/plain": [
       "416"
      ]
     },
     "execution_count": 59,
     "metadata": {},
     "output_type": "execute_result"
    }
   ],
   "source": [
    "argmax(vtracs0b.max(axis=0)-vtracs0.max(axis=0))"
   ]
  },
  {
   "cell_type": "code",
   "execution_count": 60,
   "metadata": {},
   "outputs": [
    {
     "data": {
      "text/plain": [
       "<matplotlib.legend.Legend at 0x7f93cdc7f588>"
      ]
     },
     "execution_count": 60,
     "metadata": {},
     "output_type": "execute_result"
    },
    {
     "data": {
      "image/png": "[encoded data removed]",
      "text/plain": [
       "<Figure size 432x288 with 1 Axes>"
      ]
     },
     "metadata": {
      "needs_background": "light"
     },
     "output_type": "display_data"
    }
   ],
   "source": [
    "plot(vtracs0[:,342],label='DiS')\n",
    "plot(vtracs0b[:,342],label='DiS no inh')\n",
    "plot(vtracs0c[:,342],label='DiS inh out')\n",
    "plot(vtracs2[:,342],label='DiS - sp1')\n",
    "#plot(vtracs2b[:,342],label='DiS no inh- sp1')\n",
    "plot(vtracs2c[:,342],label='DiS inh out - sp1')\n",
    "\n",
    "legend()"
   ]
  },
  {
   "cell_type": "code",
   "execution_count": 61,
   "metadata": {},
   "outputs": [
    {
     "data": {
      "text/plain": [
       "(140, 200)"
      ]
     },
     "execution_count": 61,
     "metadata": {},
     "output_type": "execute_result"
    },
    {
     "data": {
      "image/png": "[encoded data removed]",
      "text/plain": [
       "<Figure size 432x288 with 1 Axes>"
      ]
     },
     "metadata": {
      "needs_background": "light"
     },
     "output_type": "display_data"
    }
   ],
   "source": [
    "plot(arange(vtracs0.shape[0])*lb.h.dt,vtracs0[:,342]-vtracs0c[:,342])\n",
    "xlim(140,200)"
   ]
  },
  {
   "cell_type": "code",
   "execution_count": 62,
   "metadata": {},
   "outputs": [
    {
     "data": {
      "text/plain": [
       "(0.07557631893486712, 0.05641388804000037, 90.1621292599992)"
      ]
     },
     "execution_count": 62,
     "metadata": {},
     "output_type": "execute_result"
    }
   ],
   "source": [
    "iPSDsh[342], dis['A2'][342], dis['Rneck'][342]"
   ]
  },
  {
   "cell_type": "code",
   "execution_count": null,
   "metadata": {},
   "outputs": [],
   "source": []
  },
  {
   "cell_type": "code",
   "execution_count": 63,
   "metadata": {},
   "outputs": [
    {
     "data": {
      "text/plain": [
       "(array([ 2.,  2.,  1.,  0.,  1.,  1.,  3.,  6.,  5.,  9.,  9., 11., 18.,\n",
       "        10., 20., 27., 35., 37., 48., 34., 24., 29., 22., 23., 25., 20.,\n",
       "        15.,  8.,  6.,  7.,  5.,  8.,  8.,  6.,  3.,  1.,  4.,  1.,  2.,\n",
       "         0.,  2.,  1.,  0.,  0.,  0.,  0.,  0.,  0.,  0.,  0.,  1.]),\n",
       " array([-7.67921352, -7.24538652, -6.81155952, -6.37773251, -5.94390551,\n",
       "        -5.51007851, -5.07625151, -4.6424245 , -4.2085975 , -3.7747705 ,\n",
       "        -3.3409435 , -2.90711649, -2.47328949, -2.03946249, -1.60563548,\n",
       "        -1.17180848, -0.73798148, -0.30415448,  0.12967253,  0.56349953,\n",
       "         0.99732653,  1.43115354,  1.86498054,  2.29880754,  2.73263454,\n",
       "         3.16646155,  3.60028855,  4.03411555,  4.46794256,  4.90176956,\n",
       "         5.33559656,  5.76942356,  6.20325057,  6.63707757,  7.07090457,\n",
       "         7.50473157,  7.93855858,  8.37238558,  8.80621258,  9.24003959,\n",
       "         9.67386659, 10.10769359, 10.54152059, 10.9753476 , 11.4091746 ,\n",
       "        11.8430016 , 12.27682861, 12.71065561, 13.14448261, 13.57830961,\n",
       "        14.01213662, 14.44596362]),\n",
       " <a list of 51 Patch objects>)"
      ]
     },
     "execution_count": 63,
     "metadata": {},
     "output_type": "execute_result"
    },
    {
     "data": {
      "image/png": "[encoded data removed]",
      "text/plain": [
       "<Figure size 432x288 with 1 Axes>"
      ]
     },
     "metadata": {
      "needs_background": "light"
     },
     "output_type": "display_data"
    }
   ],
   "source": [
    "hist(vtracs0.max(axis=0)-vtracs0c.max(axis=0),51)"
   ]
  },
  {
   "cell_type": "code",
   "execution_count": 64,
   "metadata": {},
   "outputs": [
    {
     "data": {
      "text/plain": [
       "0.3"
      ]
     },
     "execution_count": 64,
     "metadata": {},
     "output_type": "execute_result"
    }
   ],
   "source": [
    "45/150"
   ]
  },
  {
   "cell_type": "code",
   "execution_count": 39,
   "metadata": {},
   "outputs": [
    {
     "name": "stdout",
     "output_type": "stream",
     "text": [
      "0\n",
      "5\n",
      "10\n"
     ]
    },
    {
     "ename": "KeyboardInterrupt",
     "evalue": "",
     "output_type": "error",
     "traceback": [
      "\u001b[0;31m---------------------------------------------------------------------------\u001b[0m",
      "\u001b[0;31mKeyboardInterrupt\u001b[0m                         Traceback (most recent call last)",
      "\u001b[0;32m<ipython-input-39-70da2f9a5703>\u001b[0m in \u001b[0;36m<module>\u001b[0;34m\u001b[0m\n\u001b[1;32m      2\u001b[0m \u001b[0;34m\u001b[0m\u001b[0m\n\u001b[1;32m      3\u001b[0m \u001b[0;32mfor\u001b[0m \u001b[0mi\u001b[0m \u001b[0;32min\u001b[0m \u001b[0mrange\u001b[0m\u001b[0;34m(\u001b[0m\u001b[0;36m50\u001b[0m\u001b[0;34m)\u001b[0m\u001b[0;34m:\u001b[0m\u001b[0;34m\u001b[0m\u001b[0m\n\u001b[0;32m----> 4\u001b[0;31m     \u001b[0mvavg0\u001b[0m\u001b[0;34m,\u001b[0m\u001b[0mmes0\u001b[0m\u001b[0;34m,\u001b[0m\u001b[0mvtracs0\u001b[0m\u001b[0;34m,\u001b[0m\u001b[0mvtracsD0\u001b[0m\u001b[0;34m,\u001b[0m\u001b[0mvtracsS0\u001b[0m\u001b[0;34m,\u001b[0m\u001b[0mCtracs0\u001b[0m\u001b[0;34m,\u001b[0m\u001b[0mme20\u001b[0m\u001b[0;34m,\u001b[0m\u001b[0mme30\u001b[0m\u001b[0;34m,\u001b[0m \u001b[0mtrec\u001b[0m\u001b[0;34m,\u001b[0m\u001b[0mvtracs2\u001b[0m\u001b[0;34m,\u001b[0m\u001b[0mCtracs2\u001b[0m \u001b[0;34m=\u001b[0m \u001b[0msimulateSet\u001b[0m\u001b[0;34m(\u001b[0m\u001b[0mmodel\u001b[0m\u001b[0;34m,\u001b[0m\u001b[0mdis\u001b[0m\u001b[0;34m,\u001b[0m\u001b[0msps\u001b[0m\u001b[0;34m,\u001b[0m\u001b[0mtG\u001b[0m \u001b[0;34m=\u001b[0m \u001b[0;36m10\u001b[0m\u001b[0;34m,\u001b[0m\u001b[0mton\u001b[0m \u001b[0;34m=\u001b[0m \u001b[0;36m50\u001b[0m\u001b[0;34m,\u001b[0m\u001b[0mdton2\u001b[0m \u001b[0;34m=\u001b[0m \u001b[0;36m15\u001b[0m\u001b[0;34m,\u001b[0m\u001b[0mtoffset\u001b[0m \u001b[0;34m=\u001b[0m \u001b[0;36m100\u001b[0m\u001b[0;34m,\u001b[0m\u001b[0mt_stop\u001b[0m \u001b[0;34m=\u001b[0m \u001b[0;36m500\u001b[0m\u001b[0;34m,\u001b[0m \u001b[0mEL\u001b[0m \u001b[0;34m=\u001b[0m \u001b[0;34m-\u001b[0m\u001b[0;36m70\u001b[0m\u001b[0;34m,\u001b[0m\u001b[0mbtsr\u001b[0m \u001b[0;34m=\u001b[0m \u001b[0mones\u001b[0m\u001b[0;34m(\u001b[0m\u001b[0;36m9\u001b[0m\u001b[0;34m)\u001b[0m\u001b[0;34m==\u001b[0m\u001b[0;36m1\u001b[0m\u001b[0;34m,\u001b[0m\u001b[0mVDCC\u001b[0m \u001b[0;34m=\u001b[0m \u001b[0mVDCCa\u001b[0m\u001b[0;34m,\u001b[0m \u001b[0minh\u001b[0m \u001b[0;34m=\u001b[0m \u001b[0;34m'in'\u001b[0m\u001b[0;34m,\u001b[0m\u001b[0msilent\u001b[0m \u001b[0;34m=\u001b[0m \u001b[0;34m'sp0'\u001b[0m\u001b[0;34m)\u001b[0m\u001b[0;34m\u001b[0m\u001b[0m\n\u001b[0m\u001b[1;32m      5\u001b[0m     \u001b[0mvavg0\u001b[0m\u001b[0;34m,\u001b[0m\u001b[0mmes0\u001b[0m\u001b[0;34m,\u001b[0m\u001b[0mvtracs0b\u001b[0m\u001b[0;34m,\u001b[0m\u001b[0mvtracsD0b\u001b[0m\u001b[0;34m,\u001b[0m\u001b[0mvtracsS0b\u001b[0m\u001b[0;34m,\u001b[0m\u001b[0mCtracs0b\u001b[0m\u001b[0;34m,\u001b[0m\u001b[0mme20\u001b[0m\u001b[0;34m,\u001b[0m\u001b[0mme30\u001b[0m\u001b[0;34m,\u001b[0m \u001b[0mtrec\u001b[0m\u001b[0;34m,\u001b[0m\u001b[0mvtracs2b\u001b[0m\u001b[0;34m,\u001b[0m\u001b[0mCtracs2b\u001b[0m \u001b[0;34m=\u001b[0m \u001b[0msimulateSet\u001b[0m\u001b[0;34m(\u001b[0m\u001b[0mmodel\u001b[0m\u001b[0;34m,\u001b[0m\u001b[0mdis\u001b[0m\u001b[0;34m,\u001b[0m\u001b[0msps\u001b[0m\u001b[0;34m,\u001b[0m\u001b[0mtG\u001b[0m \u001b[0;34m=\u001b[0m \u001b[0;36m500\u001b[0m\u001b[0;34m,\u001b[0m\u001b[0mton\u001b[0m \u001b[0;34m=\u001b[0m \u001b[0;36m50\u001b[0m\u001b[0;34m,\u001b[0m\u001b[0mdton2\u001b[0m \u001b[0;34m=\u001b[0m \u001b[0;36m15\u001b[0m\u001b[0;34m,\u001b[0m\u001b[0mtoffset\u001b[0m \u001b[0;34m=\u001b[0m \u001b[0;36m100\u001b[0m\u001b[0;34m,\u001b[0m\u001b[0mt_stop\u001b[0m \u001b[0;34m=\u001b[0m \u001b[0;36m500\u001b[0m\u001b[0;34m,\u001b[0m \u001b[0mEL\u001b[0m \u001b[0;34m=\u001b[0m \u001b[0;34m-\u001b[0m\u001b[0;36m70\u001b[0m\u001b[0;34m,\u001b[0m\u001b[0mbtsr\u001b[0m \u001b[0;34m=\u001b[0m \u001b[0mones\u001b[0m\u001b[0;34m(\u001b[0m\u001b[0;36m9\u001b[0m\u001b[0;34m)\u001b[0m\u001b[0;34m==\u001b[0m\u001b[0;36m1\u001b[0m\u001b[0;34m,\u001b[0m\u001b[0mVDCC\u001b[0m \u001b[0;34m=\u001b[0m \u001b[0mVDCCa\u001b[0m\u001b[0;34m,\u001b[0m \u001b[0minh\u001b[0m \u001b[0;34m=\u001b[0m \u001b[0;34m'in'\u001b[0m\u001b[0;34m,\u001b[0m\u001b[0msilent\u001b[0m \u001b[0;34m=\u001b[0m \u001b[0;34m'sp0'\u001b[0m\u001b[0;34m)\u001b[0m\u001b[0;34m\u001b[0m\u001b[0m\n\u001b[1;32m      6\u001b[0m     \u001b[0mvavg0\u001b[0m\u001b[0;34m,\u001b[0m\u001b[0mmes0\u001b[0m\u001b[0;34m,\u001b[0m\u001b[0mvtracs0c\u001b[0m\u001b[0;34m,\u001b[0m\u001b[0mvtracsD0c\u001b[0m\u001b[0;34m,\u001b[0m\u001b[0mvtracsS0c\u001b[0m\u001b[0;34m,\u001b[0m\u001b[0mCtracs0c\u001b[0m\u001b[0;34m,\u001b[0m\u001b[0mme20\u001b[0m\u001b[0;34m,\u001b[0m\u001b[0mme30\u001b[0m\u001b[0;34m,\u001b[0m \u001b[0mtrec\u001b[0m\u001b[0;34m,\u001b[0m\u001b[0mvtracs2c\u001b[0m\u001b[0;34m,\u001b[0m\u001b[0mCtracs2c\u001b[0m \u001b[0;34m=\u001b[0m \u001b[0msimulateSet\u001b[0m\u001b[0;34m(\u001b[0m\u001b[0mmodel\u001b[0m\u001b[0;34m,\u001b[0m\u001b[0mdis\u001b[0m\u001b[0;34m,\u001b[0m\u001b[0msps\u001b[0m\u001b[0;34m,\u001b[0m\u001b[0mtG\u001b[0m \u001b[0;34m=\u001b[0m \u001b[0;36m10\u001b[0m\u001b[0;34m,\u001b[0m\u001b[0mton\u001b[0m \u001b[0;34m=\u001b[0m \u001b[0;36m50\u001b[0m\u001b[0;34m,\u001b[0m\u001b[0mdton2\u001b[0m \u001b[0;34m=\u001b[0m \u001b[0;36m15\u001b[0m\u001b[0;34m,\u001b[0m\u001b[0mtoffset\u001b[0m \u001b[0;34m=\u001b[0m \u001b[0;36m100\u001b[0m\u001b[0;34m,\u001b[0m\u001b[0mt_stop\u001b[0m \u001b[0;34m=\u001b[0m \u001b[0;36m500\u001b[0m\u001b[0;34m,\u001b[0m \u001b[0mEL\u001b[0m \u001b[0;34m=\u001b[0m \u001b[0;34m-\u001b[0m\u001b[0;36m70\u001b[0m\u001b[0;34m,\u001b[0m\u001b[0mbtsr\u001b[0m \u001b[0;34m=\u001b[0m \u001b[0mones\u001b[0m\u001b[0;34m(\u001b[0m\u001b[0;36m9\u001b[0m\u001b[0;34m)\u001b[0m\u001b[0;34m==\u001b[0m\u001b[0;36m1\u001b[0m\u001b[0;34m,\u001b[0m\u001b[0mVDCC\u001b[0m \u001b[0;34m=\u001b[0m \u001b[0mVDCCa\u001b[0m\u001b[0;34m,\u001b[0m \u001b[0minh\u001b[0m \u001b[0;34m=\u001b[0m \u001b[0;34m'out'\u001b[0m\u001b[0;34m,\u001b[0m\u001b[0msilent\u001b[0m \u001b[0;34m=\u001b[0m \u001b[0;34m'sp0'\u001b[0m\u001b[0;34m)\u001b[0m\u001b[0;34m\u001b[0m\u001b[0m\n",
      "\u001b[0;32m<ipython-input-32-2e10182b4828>\u001b[0m in \u001b[0;36msimulateSet\u001b[0;34m(model, spn, spn2, tG, ton, dton2, toffset, t_stop, EL, btsr, VDCC, inh, silent)\u001b[0m\n\u001b[1;32m    137\u001b[0m \u001b[0;34m\u001b[0m\u001b[0m\n\u001b[1;32m    138\u001b[0m         \u001b[0;31m#print(data[i,:])\u001b[0m\u001b[0;34m\u001b[0m\u001b[0;34m\u001b[0m\u001b[0m\n\u001b[0;32m--> 139\u001b[0;31m         \u001b[0mlb\u001b[0m\u001b[0;34m.\u001b[0m\u001b[0mneuron\u001b[0m\u001b[0;34m.\u001b[0m\u001b[0mrun\u001b[0m\u001b[0;34m(\u001b[0m\u001b[0mt_stop\u001b[0m\u001b[0;34m)\u001b[0m\u001b[0;34m\u001b[0m\u001b[0m\n\u001b[0m\u001b[1;32m    140\u001b[0m \u001b[0;34m\u001b[0m\u001b[0m\n\u001b[1;32m    141\u001b[0m         \u001b[0;31m#plot(trec,vspneRec[0])\u001b[0m\u001b[0;34m\u001b[0m\u001b[0;34m\u001b[0m\u001b[0m\n",
      "\u001b[0;32m/export/home1/users/bssn/serna/environments/neuron/lib/python3.6/neuron/__init__.py\u001b[0m in \u001b[0;36mrun\u001b[0;34m(tstop)\u001b[0m\n\u001b[1;32m    361\u001b[0m     \"\"\"\n\u001b[1;32m    362\u001b[0m     \u001b[0mh\u001b[0m\u001b[0;34m(\u001b[0m\u001b[0;34m'tstop = %g'\u001b[0m \u001b[0;34m%\u001b[0m \u001b[0mtstop\u001b[0m\u001b[0;34m)\u001b[0m\u001b[0;34m\u001b[0m\u001b[0m\n\u001b[0;32m--> 363\u001b[0;31m     \u001b[0mh\u001b[0m\u001b[0;34m(\u001b[0m\u001b[0;34m'while (t < tstop) { fadvance() }'\u001b[0m\u001b[0;34m)\u001b[0m\u001b[0;34m\u001b[0m\u001b[0m\n\u001b[0m\u001b[1;32m    364\u001b[0m     \u001b[0;31m# what about pc.psolve(tstop)?\u001b[0m\u001b[0;34m\u001b[0m\u001b[0;34m\u001b[0m\u001b[0m\n\u001b[1;32m    365\u001b[0m \u001b[0;34m\u001b[0m\u001b[0m\n",
      "\u001b[0;31mKeyboardInterrupt\u001b[0m: "
     ]
    }
   ],
   "source": [
    "nsp = 500\n",
    "\n",
    "for i in range(50):\n",
    "    vavg0,mes0,vtracs0,vtracsD0,vtracsS0,Ctracs0,me20,me30, trec,vtracs2,Ctracs2 = simulateSet(model,dis,sps,tG = 10,ton = 50,dton2 = 15,toffset = 100,t_stop = 500, EL = -70,btsr = ones(9)==1,VDCC = VDCCa, inh = 'in',silent = 'sp0')\n",
    "    vavg0,mes0,vtracs0b,vtracsD0b,vtracsS0b,Ctracs0b,me20,me30, trec,vtracs2b,Ctracs2b = simulateSet(model,dis,sps,tG = 500,ton = 50,dton2 = 15,toffset = 100,t_stop = 500, EL = -70,btsr = ones(9)==1,VDCC = VDCCa, inh = 'in',silent = 'sp0')\n",
    "    vavg0,mes0,vtracs0c,vtracsD0c,vtracsS0c,Ctracs0c,me20,me30, trec,vtracs2c,Ctracs2c = simulateSet(model,dis,sps,tG = 10,ton = 50,dton2 = 15,toffset = 100,t_stop = 500, EL = -70,btsr = ones(9)==1,VDCC = VDCCa, inh = 'out',silent = 'sp0')\n",
    "\n",
    "    ap0 = getvpeaks(vtracs2b,vtracs2,vtracs2c, th = 0.5, plotose = False)\n",
    "    apS = getvpeaks(vtracsS0b,vtracsS0,vtracsS0c, th = 0.02, plotose = False)\n",
    "    apD = getvpeaks(vtracsD0b,vtracsD0,vtracsD0c, th = 0.02, plotose = False)\n",
    "    apC = getvpeaks(Ctracs0b,Ctracs0,Ctracs0c, th = 0., plotose = False)\n",
    "    \n",
    " \n",
    "\n",
    "    vavg0,mes0,vtracs0,vtracsD0,vtracsS0,Ctracs0,me20,me30, trec,vtracs2,Ctracs2 = simulateSet(model,dis,sps,tG = -5,ton = 50,dton2 = 15,toffset = 100,t_stop = 500, EL = -70,btsr = ones(9)==1,VDCC = VDCCa, inh = 'in',silent = 'sp1')\n",
    "    vavg0,mes0,vtracs0b,vtracsD0b,vtracsS0b,Ctracs0b,me20,me30, trec,vtracs2b,Ctracs2b = simulateSet(model,dis,sps,tG = 500,ton = 50,dton2 = 15,toffset = 100,t_stop = 500, EL = -70,btsr = ones(9)==1,VDCC = VDCCa, inh = 'in',silent = 'sp1')\n",
    "    vavg0,mes0,vtracs0c,vtracsD0c,vtracsS0c,Ctracs0c,me20,me30, trec,vtracs2c,Ctracs2c = simulateSet(model,dis,sps,tG = -5,ton = 50,dton2 = 15,toffset = 100,t_stop = 500, EL = -70,btsr = ones(9)==1,VDCC = VDCCa, inh = 'out',silent = 'sp1')\n",
    "\n",
    "    bp0 = getvpeaks(vtracs0b,vtracs0,vtracs0c, th = 0.5, plotose = False)\n",
    "    bpS = getvpeaks(vtracsS0b,vtracsS0,vtracsS0c, th = 0.02, plotose = False)\n",
    "    bpD = getvpeaks(vtracsD0b,vtracsD0,vtracsD0c, th = 0.02, plotose = False)\n",
    "    bpC = getvpeaks(Ctracs0b,Ctracs0,Ctracs0c, th = 0.00, plotose = False)\n",
    "    \n",
    "    ap0 = column_stack((ap0,bp0))\n",
    "    apS = column_stack((apS,bpS))\n",
    "    apD = column_stack((apD,bpD))\n",
    "    apC = column_stack((apC,bpC))\n",
    "    \n",
    "    datat = column_stack((dis['A1'],dis['A2'],sis['A1'],iPSDsh,dis['Rneck'],sis['Rneck']))\n",
    "    \n",
    "    if i == 0:\n",
    "        fap0 = ap0+70\n",
    "        fapS = apS+70\n",
    "        fapD = apD+70\n",
    "        fapC = apC*1.0\n",
    "        fdat = datat*1.0\n",
    "    else:\n",
    "        fap0 = row_stack((fap0,ap0+70))\n",
    "        fapS = row_stack((fapS,apS+70))\n",
    "        fapD = row_stack((fapD,apD+70))\n",
    "        fapC = row_stack((fapC,apC))\n",
    "        fdat = row_stack((fdat,datat))\n",
    "\n",
    "    \n",
    "    dis = btset_cd(cd='DiS',size=nsp)\n",
    "    sps = btset_cd(cd='Sp',size=nsp)\n",
    "\n",
    "    iPSDsh = btShInh(size=500)\n",
    "    \n",
    "    dendsizeL = max(max(dis['Dss'])+10,177)\n",
    "    dendp1.L = dendsizeL-10\n",
    "    dendp2.L = 8 \n",
    "    dendsh.L = 2    \n",
    "    \n",
    "    if i%5 == 0: \n",
    "        print(i)\n",
    "        with open(\"gatinginfo_f_temp_cm1.pickle\",\"wb\") as f:\n",
    "            pickle.dump([fapS,fapD,fap0,fapC,fdat],f)\n"
   ]
  },
  {
   "cell_type": "code",
   "execution_count": null,
   "metadata": {},
   "outputs": [],
   "source": [
    "dendc.L"
   ]
  },
  {
   "cell_type": "code",
   "execution_count": null,
   "metadata": {},
   "outputs": [],
   "source": [
    "max(max(dis['Dss'])+10,177)"
   ]
  },
  {
   "cell_type": "code",
   "execution_count": 40,
   "metadata": {},
   "outputs": [],
   "source": [
    "with open(\"gatinginfo_f_cm1.pickle\",\"wb\") as f:\n",
    "    pickle.dump([fapS,fapD,fap0,fapC,fdat],f)\n"
   ]
  },
  {
   "cell_type": "code",
   "execution_count": 69,
   "metadata": {},
   "outputs": [
    {
     "data": {
      "text/plain": [
       "0.05"
      ]
     },
     "execution_count": 69,
     "metadata": {},
     "output_type": "execute_result"
    }
   ],
   "source": [
    "lb.h.dt"
   ]
  },
  {
   "cell_type": "code",
   "execution_count": 70,
   "metadata": {},
   "outputs": [],
   "source": [
    "iPSDsh = dis['A2']*1.0\n"
   ]
  },
  {
   "cell_type": "code",
   "execution_count": null,
   "metadata": {},
   "outputs": [],
   "source": []
  }
 ],
 "metadata": {
  "kernelspec": {
   "display_name": "neuron",
   "language": "python",
   "name": "neuron"
  },
  "language_info": {
   "codemirror_mode": {
    "name": "ipython",
    "version": 3
   },
   "file_extension": ".py",
   "mimetype": "text/x-python",
   "name": "python",
   "nbconvert_exporter": "python",
   "pygments_lexer": "ipython3",
   "version": "3.6.5"
  }
 },
 "nbformat": 4,
 "nbformat_minor": 2
}
