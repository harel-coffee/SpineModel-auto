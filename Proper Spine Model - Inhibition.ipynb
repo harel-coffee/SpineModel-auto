{
 "cells": [
  {
   "cell_type": "markdown",
   "metadata": {},
   "source": [
    "# Spine Model\n"
   ]
  },
  {
   "cell_type": "code",
   "execution_count": 1,
   "metadata": {},
   "outputs": [
    {
     "name": "stdout",
     "output_type": "stream",
     "text": [
      "\t0 \n",
      "\t1 \n",
      "\t1 \n",
      "\t1 \n",
      "\t1 \n",
      "20.0 29.78380012512207 1871.3713533814052 6283.185307179586\n",
      "Topology:\n",
      "\n",
      "|-|       soma(0-1)\n",
      "   `|       dendA1c(0-1)\n",
      "     `|       dendA1(0-1)\n",
      "       `|       DendE(0-1)\n",
      "         `|       DendN(0-1)\n",
      "        `|       NSpne000(0-1)\n",
      "          `|       Spne000(0-1)\n",
      "   `|       dendB1(0-1)\n",
      "\n",
      "1.0\n"
     ]
    }
   ],
   "source": [
    "from numpy import *   #ones, cumsum, sum, isscalar\n",
    "from matplotlib.pylab import * \n",
    "%matplotlib inline\n",
    "plotose = True\n",
    "import pickle\n",
    "\n",
    "import PS_lib as lb\n",
    "import PS_storage as st\n",
    "from bootstrap import btset_cd, generateplots, btShInh\n",
    "\n",
    "\n",
    "# Parameter definitions\n",
    "# Data is stored here      \n",
    "data = st.dataStorage() # some default parameters defined.\n",
    "data.dt = 0.05\n",
    "data.NMDA = False\n",
    "\n",
    "# Definition of the model.\n",
    "lb.h.dt = data.dt\n",
    "NMDA = data.NMDA\n",
    "model = lb.loadNeuron(\"Basic2.hoc\",axon=False)\n",
    "\n",
    "# Adding piece of dendritic branch with spine\n",
    "model.addDend(name=\"DendE\",locus=\"dendA1\",L=4.0,D=1.5,ilocus=1)\n",
    "model.addSpne(locus=\"DendE\",ilocus=0.5,L=1.0,D=1.0,Lneck=1.0,Dneck=0.15)\n",
    "# Temperature of the neuron\n",
    "lb.h.celsius = model.temperature\n",
    "model.addDend(name=\"DendN\",locus=3,L=240.0,D=0.5,ilocus=1)\n",
    "data.model = model.__dict__\n",
    "\n",
    "model.soma.L = 20\n",
    "model.dend[-1].L = 200\n",
    "model.dend[-1].diam = 10\n",
    "print(model.soma.L,model.soma.diam,model.soma(0.5).area(),model.dend[-1](0.5).area())\n",
    "\n",
    "print(\"Topology:\")\n",
    "print(lb.h.topology())\n"
   ]
  },
  {
   "cell_type": "code",
   "execution_count": 2,
   "metadata": {},
   "outputs": [],
   "source": [
    "#with open(\"data_Fullset/Fullset.pkl\",\"rb\") as f:\n",
    "#    data = pickle.load(f)\n",
    "    \n",
    "dataf = {\n",
    "\"inh shaft\": (-2.01288, 0.606754),\n",
    "\"SiS\": {\n",
    "\"Dss\": (248, 1.0),\n",
    "\"Vh\": (-2.84134 , 0.943684),\n",
    "\"A1\": (-0.2329858,0.41,1.0),\n",
    "\"Ah\": (-0.9274113,1.32,0.66666666667),\n",
    "\"Rh\":  (1.92772, 0.604723),\n",
    "\"Rn\":(4.03436, 1.00208)\n",
    "},\n",
    "\"DiS\": {\n",
    "\"Dss\": (248, 1.0),\n",
    "\"Vh\": (-2.0554,0.742202),\n",
    "\"A1\": (-0.2329858,0.41,1.0),\n",
    "\"Ah\": (-0.9274113,1.32,0.66666666667),\n",
    "\"Rh\": (1.59667,0.436302),  \n",
    "\"Rn\": (3.89941,1.13159),\n",
    "\"A2\": ( -2.54262,0.531551)\n",
    "},\n",
    "}"
   ]
  },
  {
   "cell_type": "markdown",
   "metadata": {},
   "source": [
    "### Recording places\n",
    "\n",
    "We set recording vectors in all dendritic compartments, spine included"
   ]
  },
  {
   "cell_type": "code",
   "execution_count": 3,
   "metadata": {
    "scrolled": false
   },
   "outputs": [],
   "source": [
    "nsp = 500\n",
    "dis = btset_cd(cd='DiS',size=nsp)\n",
    "sis = btset_cd(cd='SiS',size=nsp)\n",
    "sps = btset_cd(cd='Sp',size=nsp)\n",
    "\n",
    "#generateplots(dis,corplot=True)"
   ]
  },
  {
   "cell_type": "code",
   "execution_count": 4,
   "metadata": {
    "scrolled": false
   },
   "outputs": [
    {
     "data": {
      "text/plain": [
       "Text(0.5, 0, 'iPSD shaft ($\\\\mu m^2$)')"
      ]
     },
     "execution_count": 4,
     "metadata": {},
     "output_type": "execute_result"
    },
    {
     "data": {
      "image/png": "[encoded data removed]",
      "text/plain": [
       "<Figure size 432x288 with 1 Axes>"
      ]
     },
     "metadata": {
      "needs_background": "light"
     },
     "output_type": "display_data"
    }
   ],
   "source": [
    "nsp = 500\n",
    "p = dataf[\"inh shaft\"]\n",
    "iPSDsh = exp(randn(nsp)*p[1]+p[0])\n",
    "iPSDsh = exp(randn(nsp)*p[1]+p[0])\n",
    "figure()\n",
    "iPSDsh = btShInh(size=500)\n",
    "\n",
    "h = hist(iPSDsh,31)\n",
    "xlabel(\"iPSD shaft ($\\mu m^2$)\",fontsize=14)\n"
   ]
  },
  {
   "cell_type": "code",
   "execution_count": 5,
   "metadata": {},
   "outputs": [],
   "source": [
    "\n",
    "rhGABAR = 500 # Receptors/um2\n",
    "rhAMPAR = 1000 # Receptors/um2\n",
    "rhNMDAR = 10 # Receptors/um2\n",
    "\n",
    "gtrG = rhGABAR*30e-6*2/5.0\n",
    "gtrA = rhAMPAR*11e-6*2/5.0\n",
    "gtrN = rhNMDAR*30e-6/16.0\n",
    "\n",
    "figureplot=False\n",
    "if figureplot:\n",
    "    fig, ax = subplots(nrows=1,ncols=4,figsize=(20,5))\n",
    "    fig.suptitle(\"Number of Receptors\",fontsize = 20)\n",
    "\n",
    "    ax[0].hist(sis['A1']*rhAMPAR,31)\n",
    "    ax[0].set_xlabel(\"#AMPAR in Sis\")\n",
    "    ax[1].hist(dis['A1']*rhAMPAR,31)\n",
    "    ax[1].set_xlabel(\"#AMPAR in Dis\")\n",
    "    ax[2].hist(dis['A2']*rhGABAR,31)\n",
    "    ax[2].set_xlabel(\"#GABAAR in Dis\")\n",
    "    ax[3].hist(iPSDsh*rhGABAR,31)\n",
    "    ax[3].set_xlabel(\"#GABAAR in shaft\")\n",
    "\n",
    "    fig, ax = subplots(nrows=1,ncols=4,figsize=(20,5))\n",
    "    fig.suptitle(\"Max Current\",fontsize = 20)\n",
    "\n",
    "\n",
    "    ax[0].hist(sis['A1']*gtrA/1e-6,31)\n",
    "    ax[0].set_xlabel(\"I$_{max}$ (pA)\")\n",
    "    ax[1].hist(dis['A1']*gtrA/1e-6,31)\n",
    "    ax[1].set_xlabel(\"I$_{max}$ (pA)\")\n",
    "    ax[2].hist(dis['A2']*gtrG/1e-6,31)\n",
    "    ax[2].set_xlabel(\"I$_{max}$ (pA)\")\n",
    "    ax[3].hist(iPSDsh*gtrG/1e-6,31)\n",
    "    ax[3].set_xlabel(\"I$_{max}$ (pA)\")\n",
    "    #savefig(\"D_maxI.png\",bbox_inches='tight',pad_inches = 0)\n"
   ]
  },
  {
   "cell_type": "code",
   "execution_count": 6,
   "metadata": {},
   "outputs": [
    {
     "data": {
      "image/png": "[encoded data removed]",
      "text/plain": [
       "<Figure size 432x288 with 1 Axes>"
      ]
     },
     "metadata": {
      "needs_background": "light"
     },
     "output_type": "display_data"
    },
    {
     "data": {
      "image/png": "[encoded data removed]",
      "text/plain": [
       "<Figure size 432x288 with 1 Axes>"
      ]
     },
     "metadata": {
      "needs_background": "light"
     },
     "output_type": "display_data"
    }
   ],
   "source": [
    "figureplot=True\n",
    "if figureplot:\n",
    "    spn = sis\n",
    "    plot(spn['D'],spn['L'],'.',alpha=0.5)\n",
    "    spn = dis\n",
    "    plot(spn['D'],spn['L'],'.',alpha=0.5)\n",
    "    xlabel(\"Diameter\")\n",
    "    ylabel('Length')\n",
    "\n",
    "    #figure()\n",
    "    #plot(spn['D']**2*pi*spn['L']/4,spn['Vh'],'.')\n",
    "    figure()\n",
    "    hist(spn['Ah']/(spn['D']*pi*spn['L']),51)"
   ]
  },
  {
   "cell_type": "code",
   "execution_count": 7,
   "metadata": {},
   "outputs": [
    {
     "name": "stdout",
     "output_type": "stream",
     "text": [
      "1.0 1.5\n",
      "200.24984394500785 1.5000000000000002\n",
      "50.15974481593781 1.5\n",
      "4.0 1.5\n",
      "200.0 10.0\n"
     ]
    }
   ],
   "source": [
    "for dend in model.dend:\n",
    "    print(dend.L,dend.diam)"
   ]
  },
  {
   "cell_type": "code",
   "execution_count": 8,
   "metadata": {},
   "outputs": [
    {
     "name": "stdout",
     "output_type": "stream",
     "text": [
      "3.141592653589793 0.7853981633974483 3.141592653589793 0.7853981633974483\n",
      "Area Volume Ah Vh\n",
      "1.846499266312045 0.3817217875418092 1.846499266312045 0.3817217875418091\n"
     ]
    }
   ],
   "source": [
    "sp = model.spne[0]\n",
    "print(sp(0.5).area(),sp(0.5).volume(),sp.diam*sp.L*pi,sp.diam**2*sp.L*pi/4.0)\n",
    "\n",
    "sp.L = dis[\"L\"][0]\n",
    "sp.diam = dis[\"D\"][0]\n",
    "print(\"Area Volume Ah Vh\")\n",
    "print(sp(0.5).area(),sp(0.5).volume(),dis[\"Ah\"][0]/dis[\"AhA0\"][0],dis[\"Vh\"][0])\n"
   ]
  },
  {
   "cell_type": "markdown",
   "metadata": {},
   "source": [
    "### Excitatory synapse \n",
    "\n",
    "We need to define the arrival time and dynamics. These parameters may be modified later"
   ]
  },
  {
   "cell_type": "code",
   "execution_count": 9,
   "metadata": {},
   "outputs": [],
   "source": [
    "model.AMPAlist = []\n",
    "model.ncAMPAlist = []\n",
    "\n",
    "AMPA = lb.h.Exp2Syn(1,sec = model.spne[0])\n",
    "tau1  = 0.5\n",
    "tau2 = 3.0\n",
    "AMPA.tau1 = tau1\n",
    "AMPA.tau2 = tau2\n",
    "\n",
    "nampa = 50\n",
    "gmax = 15*nampa/1e6\n",
    "stimE=lb.h.NetStim();stimE.number = 1; \n",
    "NC = lb.h.NetCon(stimE,AMPA,0,0,gmax)\n",
    "\n",
    "model.AMPAlist.append(AMPA)\n",
    "model.ncAMPAlist.append(NC)\n",
    "NC.delay = 10\n",
    "\n",
    "# NMDA part\n",
    "nnmda = 2\n",
    "gmaxN = 50*nnmda/1e6\n",
    "lb.add_NMDAsyns(model, locs=[[0,0.5]], gmax=gmaxN,tau2=20.0)  \n",
    "NMDA = model.NMDAlist[0]\n",
    "NCN = model.ncNMDAlist[0]\n",
    "stimN=lb.h.NetStim();stimN.number = 1;\n",
    "NCN = lb.h.NetCon(stimN,NMDA,0,0,gmaxN)\n",
    "model.ncNMDAlist[0] = NCN\n",
    "NMDA.tau1 = 2.0\n",
    "NMDA.tau2 = 30.0\n"
   ]
  },
  {
   "cell_type": "markdown",
   "metadata": {},
   "source": [
    "### Inhibitory synapse"
   ]
  },
  {
   "cell_type": "code",
   "execution_count": 10,
   "metadata": {},
   "outputs": [],
   "source": [
    "nGABA = 35\n",
    "gmaxG = nGABA*30e-6\n",
    "GABA, NCG = lb.add_GABAsyns(model, locs=[[0,1]], spne=True, gmax=gmaxG,tau1=1.5,tau2=15.0)  \n",
    "#GABA = model.GABAlist[0]\n",
    "#NCG = model.ncGABAlist[0]\n",
    "#stimG=lb.h.NetStim();stimG.number = 1;\n",
    "#NCG = lb.h.NetCon(stimG,GABA,0,0,gmaxG)\n",
    "#model.ncGABAlist[0] = NCG"
   ]
  },
  {
   "cell_type": "code",
   "execution_count": 11,
   "metadata": {},
   "outputs": [],
   "source": [
    "#lb.init_active(model,soma=False,dend=False,dendCa=False,spne=True,dendNa=False)\n",
    "#CaTcond = 2000 # pS\n"
   ]
  },
  {
   "cell_type": "code",
   "execution_count": 12,
   "metadata": {},
   "outputs": [
    {
     "data": {
      "text/plain": [
       "[dendA1c, dendA1, dendB1, DendE, DendN]"
      ]
     },
     "execution_count": 12,
     "metadata": {},
     "output_type": "execute_result"
    }
   ],
   "source": [
    "model.dend"
   ]
  },
  {
   "cell_type": "code",
   "execution_count": 13,
   "metadata": {},
   "outputs": [
    {
     "data": {
      "text/plain": [
       "Vector[16]"
      ]
     },
     "execution_count": 13,
     "metadata": {},
     "output_type": "execute_result"
    }
   ],
   "source": [
    "trec, vrec = lb.h.Vector(), lb.h.Vector()\n",
    "gRec, iRec,  vspneRec = [], [], []\n",
    "gNMDA_rec, iNMDA_rec = [], []\n",
    "trec.record(lb.h._ref_t)\n",
    "vrec.record(model.soma(0.5)._ref_v)\n",
    "\n",
    "\n",
    "#n=0\n",
    "vDendRec = []\n",
    "caDendRec = []\n",
    "#For all dendrites\n",
    "for dend in model.dend:\n",
    "    #Adding vectors for Voltage, and Calcium\n",
    "    vDendRec.append(lb.h.Vector())\n",
    "    caDendRec.append(lb.h.Vector())\n",
    "    # Placing recording at mid-point in the dendritic branch\n",
    "    vDendRec[-1].record(dend(0.5)._ref_v)\n",
    "    # NO CALCIUM!?!?!\n",
    "#Probably better to organize them in a dictionary        \n",
    "vDendRec[1].record(model.dend[1](1.0)._ref_v)\n",
    "\n",
    "# Spine voltage recording stuff\n",
    "vspneRec.append(lb.h.Vector())\n",
    "vspneRec.append(lb.h.Vector())\n",
    "sp = model.spne[0]\n",
    "vspneRec[0].record(sp(0.5)._ref_v)\n",
    "sp = model.neck[0]\n",
    "vspneRec[1].record(sp(0.5)._ref_v)\n",
    "\n",
    "# Calcim\n",
    "\n",
    "caDendRec = []\n",
    "sp = model.spne[0]\n",
    "caDendRec.append(lb.h.Vector())\n",
    "caDendRec.append(lb.h.Vector())\n",
    "caDendRec.append(lb.h.Vector())\n",
    "caDendRec[0].record(sp(0.5)._ref_ica) \n",
    "caDendRec[1].record(model.NMDAlist[0]._ref_i)\n",
    "caDendRec[2].record(sp(1.0)._ref_cai) \n"
   ]
  },
  {
   "cell_type": "code",
   "execution_count": 14,
   "metadata": {},
   "outputs": [],
   "source": [
    "vDendEL = []\n",
    "dend = model.dend[1]\n",
    "for i in range(10):\n",
    "    vDendEL.append(lb.h.Vector())\n",
    "    vDendEL[-1].record(dend((i+1.0)/10.0)._ref_v)"
   ]
  },
  {
   "cell_type": "code",
   "execution_count": 15,
   "metadata": {},
   "outputs": [],
   "source": [
    "vDendEL2 = []\n",
    "dend = model.dend[-1]\n",
    "for i in range(10):\n",
    "    vDendEL2.append(lb.h.Vector())\n",
    "    vDendEL2[-1].record(dend((i+1.0)/10.0)._ref_v)"
   ]
  },
  {
   "cell_type": "code",
   "execution_count": 16,
   "metadata": {},
   "outputs": [
    {
     "data": {
      "text/plain": [
       "[dendA1c, dendA1, dendB1, DendE, DendN]"
      ]
     },
     "execution_count": 16,
     "metadata": {},
     "output_type": "execute_result"
    }
   ],
   "source": [
    "model.dend"
   ]
  },
  {
   "cell_type": "code",
   "execution_count": 17,
   "metadata": {},
   "outputs": [],
   "source": [
    "iRec.append(lb.h.Vector())\n",
    "iRec.append(lb.h.Vector())\n",
    "currentAMPA = iRec[0]\n",
    "currentGABA = iRec[1]"
   ]
  },
  {
   "cell_type": "code",
   "execution_count": 18,
   "metadata": {},
   "outputs": [
    {
     "data": {
      "text/plain": [
       "Vector[38]"
      ]
     },
     "execution_count": 18,
     "metadata": {},
     "output_type": "execute_result"
    }
   ],
   "source": [
    "currentAMPA.record(AMPA._ref_i)\n",
    "currentGABA.record(GABA._ref_i)"
   ]
  },
  {
   "cell_type": "code",
   "execution_count": 19,
   "metadata": {},
   "outputs": [
    {
     "name": "stdout",
     "output_type": "stream",
     "text": [
      "10.0 1.0\n",
      "178.0 0.5 31.830988618379067\n",
      "1.0 0.5 1165.014183432674\n",
      "The resistance of neck and the dendritic impedance are 141.47 and 1171 MΩ (resp.)\n"
     ]
    }
   ],
   "source": [
    "dendsizeL0 = 10\n",
    "dendsizeL = max(max(max(dis['Dss'])+10,max(sis['Dss'])+10),178)\n",
    "neck = model.neck[0]\n",
    "Rneck = neck.L*1e-6/(neck.diam*1e-6/2.0)**2/pi*neck.Ra/100\n",
    "dend = model.dend[0]\n",
    "dend.L = dendsizeL0\n",
    "dend.diam = 1.0\n",
    "print(dend.L,dend.diam)\n",
    "Rdend = dend.L*1e-6/(dend.diam*1e-6/2.0)**2/pi*dend.Ra/100\n",
    "Rdendf = Rdend\n",
    "dend = model.dend[1]\n",
    "dendc = model.dend[1]\n",
    "dendc.L = dendsizeL\n",
    "dend.diam = 0.5\n",
    "print(dend.L,dend.diam,Rdend/1e6)\n",
    "Rdend +=dend.L*1e-6/2.0/(dend.diam*1e-6/2.0)**2/pi*dend.Ra/100\n",
    "dend = model.dend[-2]\n",
    "dend.diam = 0.5\n",
    "dendsh = model.dend[-2]\n",
    "dend.L = 1\n",
    "print(dend.L,dend.diam,Rdend/1e6)\n",
    "Rdend +=dend.L*1e-6/2.0/(dend.diam*1e-6/2.0)**2/pi*dend.Ra/100\n",
    "Rdendf +=dend.L*1e-6/2.0/(dend.diam*1e-6/2.0)**2/pi*dend.Ra/100\n",
    "print(\"The resistance of neck and the dendritic impedance are %.2f and %2.f MΩ (resp.)\" %(Rneck/1e6,Rdend/1e6))"
   ]
  },
  {
   "cell_type": "code",
   "execution_count": 20,
   "metadata": {},
   "outputs": [],
   "source": [
    "#model.soma.diam = model.soma.L\n",
    "dendN = model.dend[-1]\n",
    "dendN.L = 1"
   ]
  },
  {
   "cell_type": "code",
   "execution_count": 21,
   "metadata": {},
   "outputs": [],
   "source": [
    "dendsh.diam = 0.5\n",
    "dendc.diam = 0.5\n",
    "dendN.diam = 0.5        "
   ]
  },
  {
   "cell_type": "code",
   "execution_count": null,
   "metadata": {},
   "outputs": [],
   "source": []
  },
  {
   "cell_type": "code",
   "execution_count": 22,
   "metadata": {},
   "outputs": [
    {
     "name": "stdout",
     "output_type": "stream",
     "text": [
      "3.6148084776969642\n"
     ]
    }
   ],
   "source": [
    "rhosp = 1.3\n",
    "dendareaperL = rhosp*mean(sps['Ah'])+(pi*0.5)\n",
    "factor = dendareaperL/(pi*0.5)\n",
    "print(factor)\n",
    "dendN.cm = 3.5\n",
    "dendc.cm = 3.5"
   ]
  },
  {
   "cell_type": "code",
   "execution_count": 35,
   "metadata": {},
   "outputs": [
    {
     "name": "stdout",
     "output_type": "stream",
     "text": [
      "100 100\n"
     ]
    }
   ],
   "source": [
    "dendc.nseg = int(dendc.L//10)+1\n",
    "dendN.nseg = int(dendN.L//10)+1\n",
    "\n",
    "dendc.nseg = 10\n",
    "dendN.nseg = 10\n",
    "print(dendc.nseg,dendN.nseg)"
   ]
  },
  {
   "cell_type": "code",
   "execution_count": 24,
   "metadata": {},
   "outputs": [],
   "source": [
    "lb.init_active(model, axon=False, soma=False, dend=False, dendNa=False,\n",
    "                dendCa=False,spne=True)"
   ]
  },
  {
   "cell_type": "markdown",
   "metadata": {},
   "source": [
    "## Plots\n",
    "\n",
    "xkcd is to give it non serious appearance"
   ]
  },
  {
   "cell_type": "code",
   "execution_count": 25,
   "metadata": {},
   "outputs": [],
   "source": [
    "gtrG = rhGABAR*30e-6*2/5.0\n",
    "gtrA = rhAMPAR*11e-6*3/5.0\n",
    "gtrN = rhNMDAR*30e-6*1.0/16.0/4.0/1.27*5*50"
   ]
  },
  {
   "cell_type": "code",
   "execution_count": null,
   "metadata": {},
   "outputs": [],
   "source": []
  },
  {
   "cell_type": "code",
   "execution_count": 26,
   "metadata": {},
   "outputs": [
    {
     "name": "stdout",
     "output_type": "stream",
     "text": [
      "141.4710605261292\n"
     ]
    }
   ],
   "source": [
    "diam0 = 0.15\n",
    "Rneck0 = Rneck/1e6\n",
    "Cm0 = model.CM\n",
    "print(Rneck0)"
   ]
  },
  {
   "cell_type": "code",
   "execution_count": 27,
   "metadata": {},
   "outputs": [
    {
     "name": "stdout",
     "output_type": "stream",
     "text": [
      "141.4710605261292\n"
     ]
    }
   ],
   "source": [
    "Rneck = neck.Ra*neck.L/(neck.diam)**2*0.04/pi\n",
    "print(Rneck)"
   ]
  },
  {
   "cell_type": "code",
   "execution_count": 157,
   "metadata": {
    "scrolled": false
   },
   "outputs": [],
   "source": [
    "def simulateSet(model,spn,tG = 500,ton = 50,toffset = 50,t_stop = 250, EL = -65,btsr = None,VDCC = array([0.,0,0,0]), dendrec = True):\n",
    "    if btsr is None:\n",
    "        btsr = ones(9)==0\n",
    "    model.E_PAS = EL\n",
    "    model.soma.e_pas = model.E_PAS\n",
    "    for dendp in model.dend:\n",
    "        dendp.e_pas = model.E_PAS\n",
    "    for sp in model.spne:\n",
    "        sp.e_pas = model.E_PAS\n",
    "\n",
    "    dendsh = model.dend[-2]\n",
    "    dendc = model.dend[1]\n",
    "    dendN = model.dend[-1]\n",
    "    neck = model.neck[0]\n",
    "    sp = model.spne[0]\n",
    "    dshL = dendsh.L\n",
    "    dendsizeL = dendsh.L+dendc.L+dendN.L\n",
    "    data = column_stack((spn[\"A1\"],spn[\"A1\"],spn[\"A2\"],spn[\"Rneck\"],spn[\"Dss\"],spn[\"L\"],spn[\"D\"],spn[\"Ln\"],spn[\"AhA0\"]))\n",
    "    if isnan(data).sum()>0:\n",
    "        raise \"There are nans do something about it\"\n",
    "    for i in range(9):\n",
    "        if ~btsr[i]:\n",
    "            data[:,i] = data[:,i].mean()\n",
    "         \n",
    "    nsp = data.shape[0]\n",
    "    mes = zeros((nsp,9))\n",
    "    me2 = zeros((nsp,11))\n",
    "    me3 = zeros((nsp,10))\n",
    "\n",
    "    iad = 2\n",
    "    vavg = zeros((int(t_stop/lb.h.dt)+iad,7))\n",
    "    vtracs = zeros((int(t_stop/lb.h.dt)+iad,500))\n",
    "    Ctracs = zeros((int(t_stop/lb.h.dt)+iad,500))\n",
    "    vtracsD = zeros((int(t_stop/lb.h.dt)+iad,500))\n",
    "    vtracsS = zeros((int(t_stop/lb.h.dt)+iad,500))\n",
    "    for i in arange(nsp):\n",
    "        NC.weight[0]  = data[i,0] *gtrA#/2\n",
    "        NCN.weight[0] = data[i,1] *gtrN#*0#*0\n",
    "        NCG.weight[0] = data[i,2] *gtrG#*0\n",
    "        \n",
    "        neck.L = data[i,7]  \n",
    "        Rneck0 = neck.Ra*neck.L/(diam0)**2*0.04/pi\n",
    "        #print(Rneck0,data[i,3])\n",
    "        neck.diam = diam0*sqrt(Rneck0/data[i,3])\n",
    "        \n",
    "        posD = data[i,4]\n",
    "        \n",
    "        dendc.L = posD-dshL/2\n",
    "        dendN.L = dendsizeL-posD-dshL/2\n",
    "\n",
    "        \n",
    "        # A = pi*D**2\n",
    "        sp.L = data[i,5]\n",
    "        sp.diam = data[i,6]\n",
    "        sp.cm = data[i,8]\n",
    "        spvol = sp(0.5).volume()\n",
    "        spineArea =  sp(0.5).area()#sp.L*sp.diam+1.8*sp.diam**2/4 # um^2\n",
    "        \n",
    "        CaTcond = 1e-3# pS\n",
    "        sp.pbar_caL13PS = VDCC[0]*CaTcond#/spineArea\n",
    "        sp.pbar_caLPS = VDCC[1]*CaTcond#/spineArea\n",
    "        sp.pbar_canPS = VDCC[2]*CaTcond#/spineArea\n",
    "        sp.pcaqbar_caqPS = VDCC[3]*CaTcond#/spineArea\n",
    "        \n",
    "        \n",
    "        NC.delay = toffset+ton-50\n",
    "        NCN.delay = toffset+ton-50\n",
    "        NCG.delay = toffset+tG#toffset+tG#-50\n",
    "\n",
    "        for il in range(10):\n",
    "            f = 1-7.5*il/dendc.L\n",
    "            #f = 0.5\n",
    "            if f>=0:\n",
    "                vDendEL[il].record(dendc(f)._ref_v)\n",
    "            else:\n",
    "                vDendEL[il].record(dendc(0.0)._ref_v)\n",
    "        \n",
    "        for il in range(10):\n",
    "            f = 7.5*il/dendc.L\n",
    "            #f = 0.5\n",
    "            if f<=1:\n",
    "                vDendEL2[il].record(dendN(f)._ref_v)\n",
    "            else:\n",
    "                vDendEL2[il].record(dendN(1.0)._ref_v)\n",
    "                \n",
    "        lb.h.finitialize(model.E_PAS)\n",
    "        \n",
    "        \n",
    "\n",
    "                    \n",
    "        #print(data[i,:])\n",
    "        lb.neuron.run(t_stop)\n",
    "        \n",
    "        #plot(trec,vspneRec[0])    \n",
    "        \n",
    "        current = abs((array(vDendRec[1])-array(vrec[0]))/Rdend)\n",
    "        \n",
    "        vtracs[:,i] = array(vspneRec[0]) \n",
    "        if dendrec:\n",
    "            vtracsD[:,i] = array(vDendRec[1])\n",
    "        else:\n",
    "            vtracsD[:,i] = array(vDendEL[4])\n",
    "            \n",
    "        vtracsS[:,i] = array(vrec) \n",
    "\n",
    "        vavg[:,0] += array(vspneRec[0]) \n",
    "        vavg[:,1] += array(vspneRec[0])**2\n",
    "        vavg[:,2] += array(vDendRec[1]) \n",
    "        vavg[:,3] += array(vDendRec[1])**2\n",
    "        vavg[:,4] += array(vrec) \n",
    "        vavg[:,5] += array(vrec)**2\n",
    "        vavg[:,6] += 1\n",
    "            \n",
    "        cat = array(caDendRec[-1])/1e-3\n",
    "        Ctracs[:,i] = cat-cat[0] \n",
    "        aG = abs(array(currentGABA)).argmax()\n",
    "        aA = abs(array(currentAMPA)).argmax()\n",
    "        \n",
    "        mes[i,:] = [data[i,3],max(vspneRec[0])-EL,max(vDendRec[3])-EL,max(vrec)-EL,max(cat)-cat[0],array(currentGABA)[aG],array(currentAMPA)[aA],spvol,max(current)]\n",
    "        me2[i,0] = max(vDendRec[3])\n",
    "        me2[i,1:] = [max(vD) for vD in vDendEL]\n",
    "        me3[i,:] = [max(vD) for vD in vDendEL2]\n",
    "\n",
    "        #plot(trec,array(caDendRec[-1])/1e-3)\n",
    "        #ylabel(\"[Ca] (uM)\")\n",
    "        #figure()\n",
    "        #plot(trec,vspneRec[0])\n",
    "        #break\n",
    "        \n",
    "    vavg[:,:5] = vavg[:,:5]/vavg[0,6]\n",
    "    vavg[:,1] = sqrt(vavg[:,1]-vavg[:,0]**2)#/sqrt(vavg[0,6])\n",
    "    vavg[:,3] = sqrt(vavg[:,3]-vavg[:,2]**2)#/sqrt(vavg[0,6])\n",
    "    vavg[:,5] = sqrt(vavg[:,5]-vavg[:,4]**2)#/sqrt(vavg[0,6])\n",
    "    return(vavg,mes,vtracs,vtracsD,vtracsS,Ctracs,me2,me3,array(trec))"
   ]
  },
  {
   "cell_type": "code",
   "execution_count": 33,
   "metadata": {
    "scrolled": true
   },
   "outputs": [],
   "source": [
    "VDCCa =  array([0.04023183, 0.08000483, 0.03416801, 0.02747762] )\n",
    "EL0 = -70\n",
    "\n",
    "vavg0,mes0,vtracs0,vtracsD0,vtracsS0,Ctracs0,me20,me30, trec = simulateSet(model,dis,tG = 100,ton = 50,toffset = 100,t_stop = 500, EL = EL0,btsr = ones(9)==1,VDCC = VDCCa, dendrec=False)"
   ]
  },
  {
   "cell_type": "code",
   "execution_count": null,
   "metadata": {},
   "outputs": [],
   "source": []
  },
  {
   "cell_type": "code",
   "execution_count": 30,
   "metadata": {},
   "outputs": [
    {
     "data": {
      "text/plain": [
       "[<matplotlib.lines.Line2D at 0x7f7429a7b978>]"
      ]
     },
     "execution_count": 30,
     "metadata": {},
     "output_type": "execute_result"
    },
    {
     "data": {
      "image/png": "[encoded data removed]",
      "text/plain": [
       "<Figure size 432x288 with 1 Axes>"
      ]
     },
     "metadata": {
      "needs_background": "light"
     },
     "output_type": "display_data"
    }
   ],
   "source": [
    "plot(arange(vtracs0.shape[0])*lb.h.dt,vtracs0[:,0])"
   ]
  },
  {
   "cell_type": "code",
   "execution_count": 31,
   "metadata": {},
   "outputs": [
    {
     "data": {
      "text/plain": [
       "0.5"
      ]
     },
     "execution_count": 31,
     "metadata": {},
     "output_type": "execute_result"
    }
   ],
   "source": [
    "dendsh = model.dend[-2]\n",
    "dendsh.diam"
   ]
  },
  {
   "cell_type": "code",
   "execution_count": 70,
   "metadata": {},
   "outputs": [],
   "source": [
    "from scipy.integrate import simps"
   ]
  },
  {
   "cell_type": "code",
   "execution_count": 71,
   "metadata": {},
   "outputs": [],
   "source": [
    "def itertis(t1,t2,A1,A2):\n",
    "    te = t1*t2/(t1-t2)\n",
    "    numtt = (t2/t1)**(te/t1)-(t2/t1)**(te/t2)\n",
    "    t1 = t2 + numtt*A1\n",
    "    t2 = A2/log(t1/t2)*(t1-t2)/t1\n",
    "    return(t1,t2)\n",
    "def gettimes(As,t1 = 10,t2 = 1, n = 1000,tol = 1e-9):\n",
    "    A1, A2 = As\n",
    "    t1a, t2a = t1, t2\n",
    "    for i in range(n):\n",
    "        t1,t2 = itertis(t1,t2,A1,A2)\n",
    "    \n",
    "        if (t1-t1a)**2/t1**2+(t2-t2a)**2/t2**2<tol:\n",
    "            #print(i)\n",
    "            break\n",
    "        t1a, t2a = t1, t2\n",
    "        #print(t1,t2)\n",
    "    if i>=n: \n",
    "        print('No convergence?')\n",
    "        \n",
    "    return(t1,t2)"
   ]
  },
  {
   "cell_type": "code",
   "execution_count": 61,
   "metadata": {},
   "outputs": [
    {
     "data": {
      "text/plain": [
       "3000"
      ]
     },
     "execution_count": 61,
     "metadata": {},
     "output_type": "execute_result"
    }
   ],
   "source": [
    "arange(trec.shape[0])[trec>50+100][0]"
   ]
  },
  {
   "cell_type": "code",
   "execution_count": 65,
   "metadata": {},
   "outputs": [],
   "source": [
    "vavg,mes,vtracs,vtracsD,vtracsS,Ctracs,me2,me3,_ = simulateSet(model,dis,tG = td,ton = 50,toffset = 100,t_stop = 500, EL = EL0,btsr = ones(9)==1,VDCC = VDCCa)"
   ]
  },
  {
   "cell_type": "code",
   "execution_count": 67,
   "metadata": {},
   "outputs": [
    {
     "data": {
      "text/plain": [
       "[<matplotlib.lines.Line2D at 0x7f7420967b70>]"
      ]
     },
     "execution_count": 67,
     "metadata": {},
     "output_type": "execute_result"
    },
    {
     "data": {
      "image/png": "[encoded data removed]",
      "text/plain": [
       "<Figure size 432x288 with 1 Axes>"
      ]
     },
     "metadata": {
      "needs_background": "light"
     },
     "output_type": "display_data"
    }
   ],
   "source": [
    "plot(trec,Ctracs[:,1])\n",
    "#def get_ftimes(vtt,ton = 0):\n",
    "    "
   ]
  },
  {
   "cell_type": "code",
   "execution_count": 81,
   "metadata": {},
   "outputs": [],
   "source": [
    "def get_atimes(vtt,ton = 3000):\n",
    "    ampv = vtt.max(axis=0)\n",
    "    intv = array(list(map(lambda x: simps(x,trec),vtt.transpose())))\n",
    "    tt = intv/ampv\n",
    "    sel = vtt.argmax(axis=0)\n",
    "    trise = (sel-ton)*lb.h.dt\n",
    "    times = array(list(map(gettimes,column_stack((tt,trise)))))\n",
    "    return(times)"
   ]
  },
  {
   "cell_type": "code",
   "execution_count": 82,
   "metadata": {},
   "outputs": [],
   "source": [
    "tdels = [-49,-30,-20,-15,-10,-7.5,-5,-3.5,-2,-1,-0.5,0,0.5,1.0,2.0,2.75,3.5,5.0,7.5,10.0,15.0,20.,30.,50]\n",
    "dtime = zeros((len(tdels),16))\n",
    "data = zeros((len(tdels),9))\n",
    "data2 = zeros((len(tdels),8))\n",
    "\n",
    "EL0 = -70\n",
    "vavg0,mes0,vtracs0,vtracsD0,vtracsS0,Ctracs0,me20,me30, trec = simulateSet(model,dis,tG = 100,ton = 50,toffset = 100,t_stop = 500, EL = EL0,btsr = ones(9)==1,VDCC = VDCCa)\n",
    "\n",
    "for i,td in enumerate(tdels):\n",
    "    vavg,mes,vtracs,vtracsD,vtracsS,Ctracs,me2,me3,_ = simulateSet(model,dis,tG = td,ton = 50,toffset = 100,t_stop = 500, EL = EL0,btsr = ones(9)==1,VDCC = VDCCa)\n",
    "    vtt = clip(vtracs-EL0,0,100)\n",
    "    #ampv = vtt.max(axis=0)\n",
    "    #intv = array(list(map(lambda x: simps(x,trec),vtt.transpose())))\n",
    "    #tt = intv/ampv\n",
    "    #sel = vtt.argmax(axis=0)\n",
    "    #trise = (sel-3000)*lb.h.dt\n",
    "    #times = array(list(map(gettimes,column_stack((tt,trise)))))\n",
    "    times = get_atimes(vtt,ton=3000)\n",
    "    dtime[i,:4] = concatenate((times.mean(axis=0),times.std(axis=0)))[array([0,2,1,3])]\n",
    "    dtime[i,4:8] = (tt.mean(),tt.std(),trise.mean(),trise.std())\n",
    "    vtt = clip(vtracsS-EL0,0,100)\n",
    "    times = get_atimes(vtt,ton=3000)\n",
    "    dtime[i,8:12] = concatenate((times.mean(axis=0),times.std(axis=0)))[array([0,2,1,3])]\n",
    "    data[i,:] = mes.mean(axis=0)\n",
    "    datt0 = mes[:,1:5]/mes0[:,1:5]\n",
    "    data2[i,:] = concatenate((datt0.mean(axis=0),datt0.std(axis=0)))\n",
    "    # For calcium\n",
    "    vtt = clip(Ctracs,0,100)\n",
    "    times = get_atimes(vtt,ton=3000)\n",
    "    dtime[i,12:16] = concatenate((times.mean(axis=0),times.std(axis=0)))[array([0,2,1,3])]\n",
    "    "
   ]
  },
  {
   "cell_type": "code",
   "execution_count": 83,
   "metadata": {},
   "outputs": [
    {
     "data": {
      "text/plain": [
       "(-30, 30)"
      ]
     },
     "execution_count": 83,
     "metadata": {},
     "output_type": "execute_result"
    },
    {
     "data": {
      "image/png": "[encoded data removed]",
      "text/plain": [
       "<Figure size 432x288 with 2 Axes>"
      ]
     },
     "metadata": {
      "needs_background": "light"
     },
     "output_type": "display_data"
    }
   ],
   "source": [
    "plot(tdels,dtime[:,0])\n",
    "fill_between(tdels,dtime[:,0]-dtime[:,1],dtime[:,0]+dtime[:,1],alpha=0.6)\n",
    "#plot(tdels,dtime[:,2]/10.)\n",
    "twinx()\n",
    "plot(tdels,dtime[:,12],'C1')\n",
    "#fill_between(tdels,dtime[:,8]-dtime[:,9],dtime[:,8]+dtime[:,9],alpha=0.6,color='C1')\n",
    "\n",
    "xlim(-30,30)"
   ]
  },
  {
   "cell_type": "code",
   "execution_count": 36,
   "metadata": {},
   "outputs": [],
   "source": [
    "with open(\"inhibition_dis.pickle\",\"wb\") as f:\n",
    "    pickle.dump([tdels,data2,data,dtime],f)"
   ]
  },
  {
   "cell_type": "code",
   "execution_count": 37,
   "metadata": {},
   "outputs": [
    {
     "data": {
      "text/plain": [
       "<matplotlib.collections.LineCollection at 0x7f616ab74748>"
      ]
     },
     "execution_count": 37,
     "metadata": {},
     "output_type": "execute_result"
    },
    {
     "data": {
      "image/png": "[encoded data removed]",
      "text/plain": [
       "<Figure size 576x432 with 1 Axes>"
      ]
     },
     "metadata": {
      "needs_background": "light"
     },
     "output_type": "display_data"
    }
   ],
   "source": [
    "figure(figsize=(8,6))\n",
    "#me2 = 1.0*medata2\n",
    "sel = mes[:,0].argsort()\n",
    "plot(tdels,data2[:,0],'.-',label=int(mes[0,-1]))\n",
    "fill_between(tdels,data2[:,0]+data2[:,0+4],data2[:,0]-data2[:,0+4],alpha=0.5)\n",
    "\n",
    "plot(tdels,data2[:,3],'.-',label=int(mes[0,-1]))\n",
    "fill_between(tdels,data2[:,3]+data2[:,3+4],data2[:,3]-data2[:,3+4],alpha=0.5)\n",
    "\n",
    "xlabel(\"t(ms)\")\n",
    "ylabel(\"$\\Delta F/ F$\")\n",
    "xlim(-30,30)\n",
    "#legend(title=\"$n_{GABAR}$\")\n",
    "vlines(0.0,0.65,1.0,linestyle=\"--\")\n",
    "#savefig(\"CEItiming.png\",bbox_inches='tight',pad_inches = 0)"
   ]
  },
  {
   "cell_type": "code",
   "execution_count": 38,
   "metadata": {},
   "outputs": [
    {
     "data": {
      "text/plain": [
       "[<matplotlib.lines.Line2D at 0x7f616abb4ac8>]"
      ]
     },
     "execution_count": 38,
     "metadata": {},
     "output_type": "execute_result"
    },
    {
     "data": {
      "image/png": "[encoded data removed]",
      "text/plain": [
       "<Figure size 432x288 with 1 Axes>"
      ]
     },
     "metadata": {
      "needs_background": "light"
     },
     "output_type": "display_data"
    }
   ],
   "source": [
    "scatter(intv,ampv)\n",
    "plot(linspace(0,700),linspace(0,700)/13)"
   ]
  },
  {
   "cell_type": "code",
   "execution_count": 43,
   "metadata": {},
   "outputs": [],
   "source": [
    "sps = btset_cd(cd='Sp',size=nsp)\n",
    "sps['A2'][isnan(sps['A2'])] = 0.0"
   ]
  },
  {
   "cell_type": "code",
   "execution_count": 44,
   "metadata": {},
   "outputs": [],
   "source": [
    "td = 500\n",
    "\n",
    "vavg,mes,vtracs,vtracsD,vtracsS,Ctracs,me2,me3,_ = simulateSet(model,sps,tG = td,ton = 50,toffset = 70,t_stop = 500, EL = EL0,btsr = ones(9)==1,VDCC = VDCCa,dendrec=False)\n",
    "with open(\"../SpineModel/dis_baselineB_sps.pickle\",\"wb\") as f:\n",
    "    pickle.dump([vavg,mes,vtracs,vtracsD,vtracsS,Ctracs,me2,me3],f) \n",
    "    \n",
    "vavg,mes,vtracs,vtracsD,vtracsS,Ctracs,me2,me3,_ = simulateSet(model,dis,tG = td,ton = 50,toffset = 70,t_stop = 500, EL = EL0,btsr = ones(9)==1,VDCC = VDCCa,dendrec=False)\n",
    "with open(\"../SpineModel/dis_baselineB_dis.pickle\",\"wb\") as f:\n",
    "    pickle.dump([vavg,mes,vtracs,vtracsD,vtracsS,Ctracs,me2,me3],f) "
   ]
  },
  {
   "cell_type": "code",
   "execution_count": 39,
   "metadata": {},
   "outputs": [],
   "source": [
    "td = 10\n",
    "vavg,mes,vtracs,vtracsD,vtracsS,Ctracs,me2,me3,_ = simulateSet(model,dis,tG = td,ton = 50,toffset = 70,t_stop = 500, EL = EL0,btsr = ones(9)==1,VDCC = VDCCa)\n",
    "with open(\"../SpineModel/dis_glu_ga10.pickle\",\"wb\") as f:\n",
    "    pickle.dump([vavg,mes,vtracs,vtracsD,vtracsS,Ctracs],f) \n",
    "    \n",
    "td = -10\n",
    "vavg,mes,vtracs,vtracsD,vtracsS,Ctracs,me2,me3,_ = simulateSet(model,dis,tG = td,ton = 50,toffset = 70,t_stop = 500, EL = EL0,btsr = ones(9)==1,VDCC = VDCCa)\n",
    "with open(\"../SpineModel/dis_ga_glu10.pickle\",\"wb\") as f:\n",
    "    pickle.dump([vavg,mes,vtracs,vtracsD,vtracsS,Ctracs],f) \n",
    "    \n",
    "       \n",
    "td = 500\n",
    "vavg,mes,vtracs,vtracsD,vtracsS,Ctracs,me2,me3,_ = simulateSet(model,dis,tG = td,ton = 50,toffset = 70,t_stop = 500, EL = EL0,btsr = ones(9)==1,VDCC = VDCCa)\n",
    "with open(\"../SpineModel/dis_baseline.pickle\",\"wb\") as f:\n",
    "    pickle.dump([vavg,mes,vtracs,vtracsD,vtracsS,Ctracs],f) "
   ]
  },
  {
   "cell_type": "code",
   "execution_count": 41,
   "metadata": {},
   "outputs": [],
   "source": [
    "td = 5\n",
    "vavg,mes,vtracs,vtracsD,vtracsS,Ctracs,me2,me3,_ = simulateSet(model,dis,tG = td,ton = 50,toffset = 70,t_stop = 500, EL = EL0,btsr = ones(9)==1,VDCC = VDCCa)\n",
    "with open(\"../SpineModel/dis_glu_ga05.pickle\",\"wb\") as f:\n",
    "    pickle.dump([vavg,mes,vtracs,vtracsD,vtracsS,Ctracs],f) \n",
    "    \n",
    "td = -5\n",
    "vavg,mes,vtracs,vtracsD,vtracsS,Ctracs,me2,me3,_ = simulateSet(model,dis,tG = td,ton = 50,toffset = 70,t_stop = 500, EL = EL0,btsr = ones(9)==1,VDCC = VDCCa)\n",
    "with open(\"../SpineModel/dis_ga_glu05.pickle\",\"wb\") as f:\n",
    "    pickle.dump([vavg,mes,vtracs,vtracsD,vtracsS,Ctracs],f) \n",
    "    "
   ]
  },
  {
   "cell_type": "code",
   "execution_count": 56,
   "metadata": {},
   "outputs": [
    {
     "name": "stderr",
     "output_type": "stream",
     "text": [
      "/export/home1/users/bssn/serna/environments/neuron/lib/python3.6/site-packages/ipykernel_launcher.py:127: RuntimeWarning: invalid value encountered in sqrt\n",
      "/export/home1/users/bssn/serna/environments/neuron/lib/python3.6/site-packages/ipykernel_launcher.py:128: RuntimeWarning: invalid value encountered in sqrt\n"
     ]
    }
   ],
   "source": [
    "vavg,mes,vtracs,vtracsD,vtracsS,Ctracs,me2,me3,_ = simulateSet(model,dis,tG = td,ton = 50,toffset = 70,t_stop = 500, EL = EL0,btsr = ones(9)==1,VDCC = VDCCa*0)\n"
   ]
  },
  {
   "cell_type": "code",
   "execution_count": null,
   "metadata": {},
   "outputs": [],
   "source": [
    "td = 500\n",
    "\n",
    "vavg,mes,vtracs,vtracsD,vtracsS,Ctracs,me2,me3,_ = simulateSet(model,sps,tG = td,ton = 50,toffset = 70,t_stop = 500, EL = EL0,btsr = ones(9)==1,VDCC = VDCCa,dendrec=False)\n",
    "with open(\"../SpineModel/dis_baselineB_sps.pickle\",\"wb\") as f:\n",
    "    pickle.dump([vavg,mes,vtracs,vtracsD,vtracsS,Ctracs,me2,me3],f) \n",
    "    \n",
    "vavg,mes,vtracs,vtracsD,vtracsS,Ctracs,me2,me3,_ = simulateSet(model,dis,tG = td,ton = 50,toffset = 70,t_stop = 500, EL = EL0,btsr = ones(9)==1,VDCC = VDCCa,dendrec=False)\n",
    "with open(\"../SpineModel/dis_baselineB_dis.pickle\",\"wb\") as f:\n",
    "    pickle.dump([vavg,mes,vtracs,vtracsD,vtracsS,Ctracs,me2,me3],f) "
   ]
  },
  {
   "cell_type": "code",
   "execution_count": 153,
   "metadata": {},
   "outputs": [],
   "source": [
    "from bootstrap import dataset\n",
    "with open(\"data_Fullset/Fullset.pkl\",\"rb\") as f:\n",
    "    data = pickle.load(f)\n",
    "spdata = dataset(data,noise=0.0)\n",
    "spdata['A2'][isnan(spdata['A2'])] = 0.0\n",
    "#spdata['A1'][isnan(spdata['A1'])] = 0.0 \n"
   ]
  },
  {
   "cell_type": "code",
   "execution_count": 155,
   "metadata": {},
   "outputs": [
    {
     "name": "stdout",
     "output_type": "stream",
     "text": [
      "#Bch : 365\n",
      "Dsb : 365\n",
      "Dss : 365\n",
      "d_interSp : 357\n",
      "Vtot : 365\n",
      "Vh : 365\n",
      "Ln : 365\n",
      "SA : 365\n",
      "nPSD : 365\n",
      "A1 : 365\n",
      "A2 : 365\n",
      "GPHN SNR : 40\n",
      "DiS-EMchk : 27\n",
      "Lneck : 365\n",
      "maxDneck : 365\n",
      "minDneck : 365\n",
      "meanDneck : 365\n",
      "Rneck : 365\n",
      "Lhead : 365\n",
      "maxDhead : 365\n",
      "minDhead : 365\n",
      "meanDhead : 365\n",
      "Ah : 365\n",
      "Rhead : 365\n",
      "L : 365\n",
      "D : 365\n",
      "AhA0 : 365\n"
     ]
    }
   ],
   "source": [
    "sel = ones(spdata['A2'].shape[0]) == 1\n",
    "#print(sel.sum())\n",
    "keys = list(spdata.keys())\n",
    "keys.pop(12)\n",
    "keys.pop(11)\n",
    "keys.pop(7)\n",
    "keys.pop(3)\n",
    "#keys.pop(26)\n",
    "\n",
    "for key in keys:\n",
    "    sel = sel*isfinite(spdata[key])\n",
    "    #print(key,':',sel.sum())\n",
    "    \n",
    "for key in spdata.keys():\n",
    "    spdata[key] = spdata[key][sel]\n",
    "    print(key,':',isfinite(spdata[key]).sum())"
   ]
  },
  {
   "cell_type": "code",
   "execution_count": 158,
   "metadata": {},
   "outputs": [],
   "source": [
    "td = 500\n",
    "vavg,mes,vtracs,vtracsD,vtracsS,Ctracs,me2,me3,_ = simulateSet(model,spdata,tG = td,ton = 50,toffset = 70,t_stop = 500, EL = EL0,btsr = ones(9)==1,VDCC = VDCCa,dendrec=False)\n",
    "with open(\"../SpineModel/All_baseline_dataset.pickle\",\"wb\") as f:\n",
    "    pickle.dump([vavg,mes,vtracs,vtracsD,vtracsS,Ctracs,me2,me3,spdata],f) \n",
    " "
   ]
  },
  {
   "cell_type": "code",
   "execution_count": 163,
   "metadata": {},
   "outputs": [],
   "source": [
    "dendp2 = dendN\n",
    "dendp1 = dendc"
   ]
  },
  {
   "cell_type": "code",
   "execution_count": null,
   "metadata": {},
   "outputs": [
    {
     "name": "stdout",
     "output_type": "stream",
     "text": [
      "20\n",
      "40\n",
      "60\n",
      "80\n",
      "100\n",
      "120\n",
      "140\n"
     ]
    }
   ],
   "source": [
    "td = 500\n",
    "mVs = zeros((500*200,4))\n",
    "for i in range(200):\n",
    "    sps = btset_cd(cd='Sp',size=nsp)\n",
    "    sel = isnan(sps['A2'])\n",
    "    sps['A2'][sel] = 0.0\n",
    "    \n",
    "    dendsizeL = max(max(sps['Dss'])+10,177)\n",
    "    dendp1.L = dendsizeL-10\n",
    "    dendp2.L = 8 \n",
    "    dendsh.L = 2    \n",
    "    \n",
    "    vavg,mes,vtracs,vtracsD,vtracsS,Ctracs,me2,me3,_ = simulateSet(model,sps,tG = td,ton = 50,toffset = 70,t_stop = 500, EL = EL0,btsr = ones(9)==1,VDCC = VDCCa,dendrec=False)\n",
    "    mVs[(i*500):((i+1)*500),:3] = mes[:,1:4]\n",
    "    mVs[(i*500):((i+1)*500),3] = 2.0-sel*1.0\n",
    "    if i%20==0 and i >0:\n",
    "        print(i)\n",
    "        with open(\"../SpineModel/SPS_Voltagedistx1e5_temp.pickle\",\"wb\") as f:\n",
    "            pickle.dump(mVs[:((i+1)*500),:],f) \n",
    "        \n",
    "with open(\"../SpineModel/SPS_Voltagedistx1e5.pickle\",\"wb\") as f:\n",
    "    pickle.dump(mVs,f) \n",
    " "
   ]
  },
  {
   "cell_type": "code",
   "execution_count": 57,
   "metadata": {},
   "outputs": [],
   "source": [
    "cc = Ctracs.max(axis=0)"
   ]
  },
  {
   "cell_type": "code",
   "execution_count": 80,
   "metadata": {},
   "outputs": [
    {
     "data": {
      "text/plain": [
       "(array([ 1.,  1.,  6.,  3.,  5.,  8.,  3., 10.,  6.,  3., 14., 10.,  8.,\n",
       "        14., 15., 19., 22., 21., 18., 22., 26., 23., 17., 18., 15., 12.,\n",
       "        10., 10., 14.,  9., 10.,  4., 12.,  9.,  7., 11.,  6., 14.,  7.,\n",
       "         7.,  7.,  9.,  5., 10.,  5.,  4.,  5.,  3.,  1.,  0.,  1.]),\n",
       " array([-0.50905264, -0.48669245, -0.46433227, -0.44197208, -0.4196119 ,\n",
       "        -0.39725171, -0.37489153, -0.35253135, -0.33017116, -0.30781098,\n",
       "        -0.28545079, -0.26309061, -0.24073042, -0.21837024, -0.19601005,\n",
       "        -0.17364987, -0.15128968, -0.1289295 , -0.10656931, -0.08420913,\n",
       "        -0.06184894, -0.03948876, -0.01712857,  0.00523161,  0.0275918 ,\n",
       "         0.04995198,  0.07231216,  0.09467235,  0.11703253,  0.13939272,\n",
       "         0.1617529 ,  0.18411309,  0.20647327,  0.22883346,  0.25119364,\n",
       "         0.27355383,  0.29591401,  0.3182742 ,  0.34063438,  0.36299457,\n",
       "         0.38535475,  0.40771494,  0.43007512,  0.45243531,  0.47479549,\n",
       "         0.49715568,  0.51951586,  0.54187604,  0.56423623,  0.58659641,\n",
       "         0.6089566 ,  0.63131678]),\n",
       " <a list of 51 Patch objects>)"
      ]
     },
     "execution_count": 80,
     "metadata": {},
     "output_type": "execute_result"
    },
    {
     "data": {
      "image/png": "[encoded data removed]",
      "text/plain": [
       "<Figure size 432x288 with 1 Axes>"
      ]
     },
     "metadata": {
      "needs_background": "light"
     },
     "output_type": "display_data"
    }
   ],
   "source": [
    "hist(log10(cc),51)"
   ]
  },
  {
   "cell_type": "code",
   "execution_count": 93,
   "metadata": {},
   "outputs": [],
   "source": [
    "dendshaft = model.dend[-2]\n",
    "\n",
    "nGABA = 35\n",
    "gmaxG = nGABA*30e-6\n",
    "GABAsh, NCGsh = lb.add_GABAsynscomp(model, dendshaft, loc = 0.10, gmax=gmaxG,tau1=1.5,tau2=20.0)  "
   ]
  },
  {
   "cell_type": "code",
   "execution_count": 128,
   "metadata": {},
   "outputs": [],
   "source": [
    "def simulateSetnoE(model,spn,ton = 50,toffset = 50,t_stop = 250, EL = -65,btsr = None,VDCC = array([0.,0,0,0])):\n",
    "    if btsr is None:\n",
    "        btsr = ones(9)==0\n",
    "    model.E_PAS = EL\n",
    "    model.soma.e_pas = model.E_PAS\n",
    "    for dendp in model.dend:\n",
    "        dendp.e_pas = model.E_PAS\n",
    "    for sp in model.spne:\n",
    "        sp.e_pas = model.E_PAS\n",
    "\n",
    "    dendsh = model.dend[-2]\n",
    "    dendc = model.dend[1]\n",
    "    dendN = model.dend[-1]\n",
    "    neck = model.neck[0]\n",
    "    sp = model.spne[0]\n",
    "    dshL = dendsh.L\n",
    "    dendsizeL = dendsh.L+dendc.L+dendN.L\n",
    "    data = column_stack((spn[\"A1\"],spn[\"A1\"],spn[\"A2\"],spn[\"Rneck\"],spn[\"Dss\"],spn[\"L\"],spn[\"D\"],spn[\"Ln\"],spn[\"AhA0\"]))\n",
    "    if isnan(data).sum()>0:\n",
    "        raise \"There are nans do something about it\"\n",
    "    for i in range(9):\n",
    "        if ~btsr[i]:\n",
    "            print(i)\n",
    "            data[:,i] = data[:,i].mean()\n",
    "            \n",
    "    mes = zeros((nsp,9))\n",
    "    me2 = zeros((nsp,11))\n",
    "    me3 = zeros((nsp,10))\n",
    "\n",
    "    iad = 2\n",
    "    vavg = zeros((int(t_stop/lb.h.dt)+iad,7))\n",
    "    vtracs = zeros((int(t_stop/lb.h.dt)+iad,500))\n",
    "    Ctracs = zeros((int(t_stop/lb.h.dt)+iad,500))\n",
    "    vtracsD = zeros((int(t_stop/lb.h.dt)+iad,500))\n",
    "    vtracsS = zeros((int(t_stop/lb.h.dt)+iad,500))\n",
    "    for i in arange(nsp):\n",
    "        NC.weight[0]  = data[i,0] *gtrA*0#/2\n",
    "        NCN.weight[0] = data[i,1] *gtrN*0#*0#*0\n",
    "        NCG.weight[0] = data[i,2] *gtrG#*0\n",
    "        NCGsh.weight[0] = 0.0 #data[i,2] *gtrG#*0\n",
    "\n",
    "        neck.L = data[i,7]  \n",
    "        Rneck0 = neck.Ra*neck.L/(diam0)**2*0.04/pi\n",
    "        #print(Rneck0,data[i,3])\n",
    "        neck.diam = diam0*sqrt(Rneck0/data[i,3])\n",
    "        \n",
    "        posD = data[i,4]\n",
    "        \n",
    "        dendc.L = posD-dshL/2\n",
    "        dendN.L = dendsizeL-posD-dshL/2\n",
    "\n",
    "        \n",
    "        # A = pi*D**2\n",
    "        sp.L = data[i,5]\n",
    "        sp.diam = data[i,6]\n",
    "        sp.cm = data[i,8]\n",
    "        spvol = sp(0.5).volume()\n",
    "        spineArea =  sp(0.5).area()#sp.L*sp.diam+1.8*sp.diam**2/4 # um^2\n",
    "        \n",
    "        CaTcond = 1e-3# pS\n",
    "        sp.pbar_caL13PS = VDCC[0]*CaTcond#/spineArea\n",
    "        sp.pbar_caLPS = VDCC[1]*CaTcond#/spineArea\n",
    "        sp.pbar_canPS = VDCC[2]*CaTcond#/spineArea\n",
    "        sp.pcaqbar_caqPS = VDCC[3]*CaTcond#/spineArea\n",
    "        \n",
    "        \n",
    "        NC.delay = toffset+ton-50\n",
    "        NCN.delay = toffset+ton-50\n",
    "        NCG.delay = toffset+ton#toffset+tG#-50\n",
    "        NCGsh.delay = toffset+ton#toffset+tG#-50\n",
    "\n",
    "        for il in range(10):\n",
    "            f = 1-7.5*il/dendc.L\n",
    "            #f = 0.5\n",
    "            if f>=0:\n",
    "                vDendEL[il].record(dendc(f)._ref_v)\n",
    "            else:\n",
    "                vDendEL[il].record(dendc(0.0)._ref_v)\n",
    "        \n",
    "        for il in range(10):\n",
    "            f = 7.5*il/dendc.L\n",
    "            #f = 0.5\n",
    "            if f<=1:\n",
    "                vDendEL2[il].record(dendN(f)._ref_v)\n",
    "            else:\n",
    "                vDendEL2[il].record(dendN(1.0)._ref_v)\n",
    "                \n",
    "        lb.h.finitialize(model.E_PAS)\n",
    "        \n",
    "        \n",
    "\n",
    "                    \n",
    "        #print(data[i,:])\n",
    "        lb.neuron.run(t_stop)\n",
    "        \n",
    "        #plot(trec,vspneRec[0])    \n",
    "        \n",
    "        current = abs((array(vDendRec[1])-array(vrec[0]))/Rdend)\n",
    "        \n",
    "        vtracs[:,i] = array(vspneRec[0]) \n",
    "        vtracsD[:,i] = array(vDendRec[1])\n",
    "        #vtracsD[:,i] = array(vDendEL[0])\n",
    "        vtracsS[:,i] = array(vrec) \n",
    "\n",
    "        vavg[:,0] += array(vspneRec[0]) \n",
    "        vavg[:,1] += array(vspneRec[0])**2\n",
    "        vavg[:,2] += array(vDendRec[1]) \n",
    "        vavg[:,3] += array(vDendRec[1])**2\n",
    "        vavg[:,4] += array(vrec) \n",
    "        vavg[:,5] += array(vrec)**2\n",
    "        vavg[:,6] += 1\n",
    "            \n",
    "        cat = array(caDendRec[-1])/1e-3\n",
    "        Ctracs[:,i] = cat-cat[0] \n",
    "        aG = abs(array(currentGABA)).argmax()\n",
    "        aA = abs(array(currentAMPA)).argmax()\n",
    "        \n",
    "        mes[i,:] = [data[i,3],max(vspneRec[0])-EL,max(vDendRec[3])-EL,max(vrec)-EL,max(cat)-cat[0],array(currentGABA)[aG],array(currentAMPA)[aA],spvol,max(current)]\n",
    "        me2[i,0] = max(vDendRec[3])\n",
    "        me2[i,1:] = [max(vD) for vD in vDendEL]\n",
    "        me3[i,:] = [max(vD) for vD in vDendEL2]\n",
    "\n",
    "        #plot(trec,array(caDendRec[-1])/1e-3)\n",
    "        #ylabel(\"[Ca] (uM)\")\n",
    "        #figure()\n",
    "        #plot(trec,vspneRec[0])\n",
    "        #break\n",
    "        \n",
    "    vavg[:,:5] = vavg[:,:5]/vavg[0,6]\n",
    "    vavg[:,1] = sqrt(vavg[:,1]-vavg[:,0]**2)#/sqrt(vavg[0,6])\n",
    "    vavg[:,3] = sqrt(vavg[:,3]-vavg[:,2]**2)#/sqrt(vavg[0,6])\n",
    "    vavg[:,5] = sqrt(vavg[:,5]-vavg[:,4]**2)#/sqrt(vavg[0,6])\n",
    "    return(vavg,mes,vtracs,vtracsD,vtracsS,Ctracs,me2,me3,array(trec))"
   ]
  },
  {
   "cell_type": "code",
   "execution_count": 115,
   "metadata": {},
   "outputs": [
    {
     "name": "stderr",
     "output_type": "stream",
     "text": [
      "/export/home1/users/bssn/serna/environments/neuron/lib/python3.6/site-packages/ipykernel_launcher.py:129: RuntimeWarning: invalid value encountered in sqrt\n",
      "/export/home1/users/bssn/serna/environments/neuron/lib/python3.6/site-packages/ipykernel_launcher.py:130: RuntimeWarning: invalid value encountered in sqrt\n"
     ]
    }
   ],
   "source": [
    "\n",
    "vavg,mes,vtracs,vtracsD,vtracsS,Ctracs,me2,me3,_ = simulateSetnoE(model,dis,ton = 50,toffset = 70,t_stop = 500, EL = -65,btsr = ones(9)==1,VDCC = VDCCa*0)\n"
   ]
  },
  {
   "cell_type": "code",
   "execution_count": 109,
   "metadata": {},
   "outputs": [
    {
     "data": {
      "text/plain": [
       "[<matplotlib.lines.Line2D at 0x7fe781fc3ef0>]"
      ]
     },
     "execution_count": 109,
     "metadata": {},
     "output_type": "execute_result"
    },
    {
     "data": {
      "image/png": "[encoded data removed]",
      "text/plain": [
       "<Figure size 432x288 with 1 Axes>"
      ]
     },
     "metadata": {
      "needs_background": "light"
     },
     "output_type": "display_data"
    }
   ],
   "source": [
    "plot(dis['A2'],vtracsS.min(axis=0),'.')"
   ]
  },
  {
   "cell_type": "code",
   "execution_count": 127,
   "metadata": {},
   "outputs": [],
   "source": [
    "def simulateSetnoEinhout(model,spn,ton = 50,toffset = 50,t_stop = 250, EL = -65,btsr = None,VDCC = array([0.,0,0,0])):\n",
    "    if btsr is None:\n",
    "        btsr = ones(9)==0\n",
    "    model.E_PAS = EL\n",
    "    model.soma.e_pas = model.E_PAS\n",
    "    for dendp in model.dend:\n",
    "        dendp.e_pas = model.E_PAS\n",
    "    for sp in model.spne:\n",
    "        sp.e_pas = model.E_PAS\n",
    "\n",
    "    dendsh = model.dend[-2]\n",
    "    dendc = model.dend[1]\n",
    "    dendN = model.dend[-1]\n",
    "    neck = model.neck[0]\n",
    "    sp = model.spne[0]\n",
    "    dshL = dendsh.L\n",
    "    dendsizeL = dendsh.L+dendc.L+dendN.L\n",
    "    data = column_stack((spn[\"A1\"],spn[\"A1\"],spn[\"A2\"],spn[\"Rneck\"],spn[\"Dss\"],spn[\"L\"],spn[\"D\"],spn[\"Ln\"],spn[\"AhA0\"]))\n",
    "    if isnan(data).sum()>0:\n",
    "        raise \"There are nans do something about it\"\n",
    "    for i in range(9):\n",
    "        if ~btsr[i]:\n",
    "            print(i)\n",
    "            data[:,i] = data[:,i].mean()\n",
    "            \n",
    "    mes = zeros((nsp,9))\n",
    "    me2 = zeros((nsp,11))\n",
    "    me3 = zeros((nsp,10))\n",
    "\n",
    "    iad = 2\n",
    "    vavg = zeros((int(t_stop/lb.h.dt)+iad,7))\n",
    "    vtracs = zeros((int(t_stop/lb.h.dt)+iad,500))\n",
    "    Ctracs = zeros((int(t_stop/lb.h.dt)+iad,500))\n",
    "    vtracsD = zeros((int(t_stop/lb.h.dt)+iad,500))\n",
    "    vtracsS = zeros((int(t_stop/lb.h.dt)+iad,500))\n",
    "    Gmax =  data[:,2].max()\n",
    "    for i in arange(nsp):\n",
    "        NC.weight[0]  = data[i,0] *gtrA*0#/2\n",
    "        NCN.weight[0] = data[i,1] *gtrN*0#*0#*0\n",
    "        NCG.weight[0] = data[i,2] *gtrG*0#*0\n",
    "        NCGsh.weight[0] = Gmax*gtrG*((i+1)/nsp)#*0\n",
    "        \n",
    "        neck.L = data[i,7]  \n",
    "        Rneck0 = neck.Ra*neck.L/(diam0)**2*0.04/pi\n",
    "        #print(Rneck0,data[i,3])\n",
    "        neck.diam = diam0*sqrt(Rneck0/data[i,3])\n",
    "        \n",
    "        posD = data[i,4]\n",
    "        \n",
    "        dendc.L = posD-dshL/2\n",
    "        dendN.L = dendsizeL-posD-dshL/2\n",
    "\n",
    "        \n",
    "        # A = pi*D**2\n",
    "        sp.L = data[i,5]\n",
    "        sp.diam = data[i,6]\n",
    "        sp.cm = data[i,8]\n",
    "        spvol = sp(0.5).volume()\n",
    "        spineArea =  sp(0.5).area()#sp.L*sp.diam+1.8*sp.diam**2/4 # um^2\n",
    "        \n",
    "        CaTcond = 1e-3# pS\n",
    "        sp.pbar_caL13PS = VDCC[0]*CaTcond#/spineArea\n",
    "        sp.pbar_caLPS = VDCC[1]*CaTcond#/spineArea\n",
    "        sp.pbar_canPS = VDCC[2]*CaTcond#/spineArea\n",
    "        sp.pcaqbar_caqPS = VDCC[3]*CaTcond#/spineArea\n",
    "        \n",
    "        \n",
    "        NC.delay = toffset+ton-50\n",
    "        NCN.delay = toffset+ton-50\n",
    "        NCG.delay = toffset+ton#toffset+tG#-50\n",
    "        NCGsh.delay = toffset+ton#toffset+tG#-50\n",
    "\n",
    "        for il in range(10):\n",
    "            f = 1-7.5*il/dendc.L\n",
    "            #f = 0.5\n",
    "            if f>=0:\n",
    "                vDendEL[il].record(dendc(f)._ref_v)\n",
    "            else:\n",
    "                vDendEL[il].record(dendc(0.0)._ref_v)\n",
    "        \n",
    "        for il in range(10):\n",
    "            f = 7.5*il/dendc.L\n",
    "            #f = 0.5\n",
    "            if f<=1:\n",
    "                vDendEL2[il].record(dendN(f)._ref_v)\n",
    "            else:\n",
    "                vDendEL2[il].record(dendN(1.0)._ref_v)\n",
    "                \n",
    "        lb.h.finitialize(model.E_PAS)\n",
    "        \n",
    "        \n",
    "\n",
    "                    \n",
    "        #print(data[i,:])\n",
    "        lb.neuron.run(t_stop)\n",
    "        \n",
    "        #plot(trec,vspneRec[0])    \n",
    "        \n",
    "        current = abs((array(vDendRec[1])-array(vrec[0]))/Rdend)\n",
    "        \n",
    "        vtracs[:,i] = array(vspneRec[0]) \n",
    "        vtracsD[:,i] = array(vDendRec[1])\n",
    "        #vtracsD[:,i] = array(vDendEL[0])\n",
    "        vtracsS[:,i] = array(vrec) \n",
    "\n",
    "        vavg[:,0] += array(vspneRec[0]) \n",
    "        vavg[:,1] += array(vspneRec[0])**2\n",
    "        vavg[:,2] += array(vDendRec[1]) \n",
    "        vavg[:,3] += array(vDendRec[1])**2\n",
    "        vavg[:,4] += array(vrec) \n",
    "        vavg[:,5] += array(vrec)**2\n",
    "        vavg[:,6] += 1\n",
    "            \n",
    "        cat = array(caDendRec[-1])/1e-3\n",
    "        Ctracs[:,i] = cat-cat[0] \n",
    "        aG = abs(array(currentGABA)).argmax()\n",
    "        aA = abs(array(currentAMPA)).argmax()\n",
    "        \n",
    "        mes[i,:] = [data[i,3],max(vspneRec[0])-EL,max(vDendRec[3])-EL,max(vrec)-EL,max(cat)-cat[0],array(currentGABA)[aG],array(currentAMPA)[aA],spvol,max(current)]\n",
    "        me2[i,0] = max(vDendRec[3])\n",
    "        me2[i,1:] = [max(vD) for vD in vDendEL]\n",
    "        me3[i,:] = [max(vD) for vD in vDendEL2]\n",
    "\n",
    "        #plot(trec,array(caDendRec[-1])/1e-3)\n",
    "        #ylabel(\"[Ca] (uM)\")\n",
    "        #figure()\n",
    "        #plot(trec,vspneRec[0])\n",
    "        #break\n",
    "        \n",
    "    vavg[:,:5] = vavg[:,:5]/vavg[0,6]\n",
    "    vavg[:,1] = sqrt(vavg[:,1]-vavg[:,0]**2)#/sqrt(vavg[0,6])\n",
    "    vavg[:,3] = sqrt(vavg[:,3]-vavg[:,2]**2)#/sqrt(vavg[0,6])\n",
    "    vavg[:,5] = sqrt(vavg[:,5]-vavg[:,4]**2)#/sqrt(vavg[0,6])\n",
    "    return(vavg,mes,vtracs,vtracsD,vtracsS,Ctracs,me2,me3,array(trec))"
   ]
  },
  {
   "cell_type": "code",
   "execution_count": 101,
   "metadata": {},
   "outputs": [
    {
     "name": "stderr",
     "output_type": "stream",
     "text": [
      "/export/home1/users/bssn/serna/environments/neuron/lib/python3.6/site-packages/ipykernel_launcher.py:130: RuntimeWarning: invalid value encountered in sqrt\n",
      "/export/home1/users/bssn/serna/environments/neuron/lib/python3.6/site-packages/ipykernel_launcher.py:131: RuntimeWarning: invalid value encountered in sqrt\n"
     ]
    }
   ],
   "source": [
    "vavgsh,messh,vtracssh,vtracsDsh,vtracsSsh,Ctracssh,me2sh,me3sh,_ = simulateSetnoE(model,dis,ton = 50,toffset = 70,t_stop = 500, EL = -65,btsr = ones(9)==1,VDCC = VDCCa*0)\n"
   ]
  },
  {
   "cell_type": "code",
   "execution_count": 112,
   "metadata": {},
   "outputs": [
    {
     "data": {
      "text/plain": [
       "[<matplotlib.lines.Line2D at 0x7fe781719b70>]"
      ]
     },
     "execution_count": 112,
     "metadata": {},
     "output_type": "execute_result"
    },
    {
     "data": {
      "image/png": "[encoded data removed]",
      "text/plain": [
       "<Figure size 432x288 with 1 Axes>"
      ]
     },
     "metadata": {
      "needs_background": "light"
     },
     "output_type": "display_data"
    }
   ],
   "source": [
    "plot(linspace(0,dis['A2'].max(),500),vtracsSsh.min(axis=0))\n",
    "plot(dis['A2'],vtracsS.min(axis=0),'.')"
   ]
  },
  {
   "cell_type": "code",
   "execution_count": 183,
   "metadata": {},
   "outputs": [],
   "source": [
    "diss = dis.copy()\n",
    "\n",
    "diss['Dss'] = diss['Dss']*0+20.0\n",
    "diss['Rneck'] = diss['Rneck']*0+10**linspace(0,3,500)\n"
   ]
  },
  {
   "cell_type": "code",
   "execution_count": 184,
   "metadata": {},
   "outputs": [
    {
     "name": "stdout",
     "output_type": "stream",
     "text": [
      "2\n"
     ]
    },
    {
     "name": "stderr",
     "output_type": "stream",
     "text": [
      "/export/home1/users/bssn/serna/environments/neuron/lib/python3.6/site-packages/ipykernel_launcher.py:130: RuntimeWarning: invalid value encountered in sqrt\n",
      "/export/home1/users/bssn/serna/environments/neuron/lib/python3.6/site-packages/ipykernel_launcher.py:131: RuntimeWarning: invalid value encountered in sqrt\n"
     ]
    }
   ],
   "source": [
    "conds =  ones(9)==1\n",
    "conds[2] = False\n",
    "vavg,mes,vtracs,vtracsD,vtracsS,Ctracs,me2,me3,_ = simulateSetnoE(model,diss,ton = 50,toffset = 70,t_stop = 500, EL = -65,btsr = conds,VDCC = VDCCa*0)\n"
   ]
  },
  {
   "cell_type": "code",
   "execution_count": 185,
   "metadata": {},
   "outputs": [
    {
     "name": "stdout",
     "output_type": "stream",
     "text": [
      "2\n"
     ]
    },
    {
     "name": "stderr",
     "output_type": "stream",
     "text": [
      "/export/home1/users/bssn/serna/environments/neuron/lib/python3.6/site-packages/ipykernel_launcher.py:131: RuntimeWarning: invalid value encountered in sqrt\n",
      "/export/home1/users/bssn/serna/environments/neuron/lib/python3.6/site-packages/ipykernel_launcher.py:132: RuntimeWarning: invalid value encountered in sqrt\n"
     ]
    }
   ],
   "source": [
    "vavgsh,messh,vtracssh,vtracsDsh,vtracsSsh,Ctracssh,me2sh,me3sh,_ = simulateSetnoEinhout(model,diss,ton = 50,toffset = 70,t_stop = 500, EL = -65,btsr = conds,VDCC = VDCCa*0)\n"
   ]
  },
  {
   "cell_type": "code",
   "execution_count": 186,
   "metadata": {},
   "outputs": [
    {
     "data": {
      "text/plain": [
       "[<matplotlib.lines.Line2D at 0x7fe7565c84e0>]"
      ]
     },
     "execution_count": 186,
     "metadata": {},
     "output_type": "execute_result"
    },
    {
     "data": {
      "image/png": "[encoded data removed]",
      "text/plain": [
       "<Figure size 432x288 with 1 Axes>"
      ]
     },
     "metadata": {
      "needs_background": "light"
     },
     "output_type": "display_data"
    },
    {
     "data": {
      "image/png": "[encoded data removed]",
      "text/plain": [
       "<Figure size 432x288 with 1 Axes>"
      ]
     },
     "metadata": {
      "needs_background": "light"
     },
     "output_type": "display_data"
    }
   ],
   "source": [
    "plot(linspace(0,dis['A2'].mean(),500),vtracsSsh.min(axis=0))\n",
    "plot(dis['A2']*0+dis['A2'].mean(),vtracsS.min(axis=0),'.')\n",
    "figure()\n",
    "vm0 = vtracsSsh[:,-1].min()\n",
    "plot(dis['Rneck'],(vtracsS.min(axis=0)),'.')\n",
    "#ylim(0.05,0.1)"
   ]
  },
  {
   "cell_type": "code",
   "execution_count": null,
   "metadata": {},
   "outputs": [],
   "source": []
  },
  {
   "cell_type": "code",
   "execution_count": 187,
   "metadata": {},
   "outputs": [
    {
     "data": {
      "text/plain": [
       "[<matplotlib.lines.Line2D at 0x7fe7568a5fd0>]"
      ]
     },
     "execution_count": 187,
     "metadata": {},
     "output_type": "execute_result"
    },
    {
     "data": {
      "image/png": "[encoded data removed]",
      "text/plain": [
       "<Figure size 432x288 with 1 Axes>"
      ]
     },
     "metadata": {
      "needs_background": "light"
     },
     "output_type": "display_data"
    }
   ],
   "source": [
    "plot(linspace(0,dis['A2'].mean(),500),vtracsDsh.min(axis=0))\n",
    "plot(dis['A2']*0+dis['A2'].mean(),vtracsD.min(axis=0),'.')"
   ]
  },
  {
   "cell_type": "code",
   "execution_count": 136,
   "metadata": {},
   "outputs": [
    {
     "data": {
      "text/plain": [
       "[<matplotlib.lines.Line2D at 0x7fe77fb2b2e8>]"
      ]
     },
     "execution_count": 136,
     "metadata": {},
     "output_type": "execute_result"
    },
    {
     "data": {
      "image/png": "[encoded data removed]",
      "text/plain": [
       "<Figure size 432x288 with 1 Axes>"
      ]
     },
     "metadata": {
      "needs_background": "light"
     },
     "output_type": "display_data"
    }
   ],
   "source": [
    "plot(vtracsD[:,5])\n",
    "plot(vtracsDsh[:,-1])"
   ]
  },
  {
   "cell_type": "code",
   "execution_count": null,
   "metadata": {},
   "outputs": [],
   "source": []
  }
 ],
 "metadata": {
  "kernelspec": {
   "display_name": "neuron",
   "language": "python",
   "name": "neuron"
  },
  "language_info": {
   "codemirror_mode": {
    "name": "ipython",
    "version": 3
   },
   "file_extension": ".py",
   "mimetype": "text/x-python",
   "name": "python",
   "nbconvert_exporter": "python",
   "pygments_lexer": "ipython3",
   "version": "3.6.5"
  }
 },
 "nbformat": 4,
 "nbformat_minor": 2
}
