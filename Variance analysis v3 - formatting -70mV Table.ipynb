{
 "cells": [
  {
   "cell_type": "code",
   "execution_count": 1,
   "metadata": {},
   "outputs": [],
   "source": [
    "from scipy.integrate import quad\n",
    "from numpy import *\n",
    "from matplotlib.pylab import *\n",
    "import matplotlib as mpl\n",
    "%matplotlib inline\n",
    "#from pandas.core import *\n",
    "import pandas as pd\n",
    "\n",
    "from sklearn.model_selection import train_test_split \n",
    "from sklearn.linear_model import LinearRegression\n",
    "from sklearn import metrics\n",
    "\n",
    "from sklearn.decomposition import PCA,FastICA\n",
    "\n",
    "from sklearn.cluster import DBSCAN\n",
    "from sklearn import metrics\n",
    "from sklearn.datasets.samples_generator import make_blobs\n",
    "from sklearn.preprocessing import StandardScaler\n",
    "import pickle\n"
   ]
  },
  {
   "cell_type": "code",
   "execution_count": 2,
   "metadata": {},
   "outputs": [],
   "source": [
    "folder = '/mnt/data/spinemodel/conditions/'"
   ]
  },
  {
   "cell_type": "code",
   "execution_count": 3,
   "metadata": {},
   "outputs": [],
   "source": [
    "#Jupyters: Proper Spine Model - Inhibition.ipynb\n",
    "with open(folder+\"dis_baselinev3_1000_70_65sh.pickle\",\"rb\") as f:\n",
    "    vavgDiS,mesDiS,vtracsDiS,vtracsDDiS,vtracsSDiS,CtracsDiS = pickle.load(f)\n",
    "\n",
    "with open(folder+\"All_baseline_datasetv3_1000_70_65sh.pickle\",\"rb\") as f:\n",
    "    vavgT,mesT,vtracsT,vtracsDT,vtracsST,CtracsT,me2T,_,dataT = pickle.load(f)\n"
   ]
  },
  {
   "cell_type": "code",
   "execution_count": 4,
   "metadata": {},
   "outputs": [],
   "source": [
    "labels = ['A1','Dss','Rneck']#,'meanDhead']\n",
    "labelsmod = labels\n",
    "labels = ['A1','maxDhead','Dss','Lneck','Lhead','meanDneck_trunc70pc']\n",
    "labelmorph = labels"
   ]
  },
  {
   "cell_type": "code",
   "execution_count": 5,
   "metadata": {},
   "outputs": [],
   "source": [
    "pddataT = pd.DataFrame(dataT, columns= list(dataT.keys()))"
   ]
  },
  {
   "cell_type": "code",
   "execution_count": 6,
   "metadata": {},
   "outputs": [],
   "source": [
    "with open(folder+\"dis_ga_glu02v3_1000_70_65sh.pickle\",\"rb\") as f:\n",
    "    dis,mes1,mes01 = pickle.load(f)\n",
    "\n",
    "with open(folder+\"dis_glu_ga02v3_1000_70_65sh.pickle\",\"rb\") as f:\n",
    "    dis,mes,mes0,times,times0 = pickle.load(f)\n",
    "\n"
   ]
  },
  {
   "cell_type": "code",
   "execution_count": 33,
   "metadata": {},
   "outputs": [
    {
     "data": {
      "text/plain": [
       "Index(['#Sp', '#Bch', 'Dsb', 'Dss', 'd_interSp', 'Vtot', 'Vh', 'Ln', 'SA',\n",
       "       'nPSD', 'A1', 'A2', 'GPHN_SNR', 'DiS-EMchk', 'Lneck', 'maxDneck',\n",
       "       'minDneck', 'meanDneck', 'Rneck', 'Lhead', 'maxDhead', 'minDhead',\n",
       "       'meanDhead', 'Ah', 'Rhead', 'meanDneck_trunc70pc', 'L', 'D', 'AhA0',\n",
       "       'Rmorph'],\n",
       "      dtype='object')"
      ]
     },
     "execution_count": 33,
     "metadata": {},
     "output_type": "execute_result"
    }
   ],
   "source": [
    "dis.keys()"
   ]
  },
  {
   "cell_type": "code",
   "execution_count": 35,
   "metadata": {},
   "outputs": [],
   "source": [
    "pddis = pd.DataFrame(data=dis,columns=dis.keys())\n"
   ]
  },
  {
   "cell_type": "code",
   "execution_count": 36,
   "metadata": {},
   "outputs": [],
   "source": [
    "labels = labelsmod+['A2']\n",
    "datt = dis[labels[0]]\n",
    "for l in labels[1:]:\n",
    "    datt = column_stack((datt,dis[l]))\n",
    "\n",
    "pddismodel = pd.DataFrame(data=datt,columns=labels)\n",
    "\n",
    "labels = labelmorph+['A2']\n",
    "datt = dis[labels[0]]\n",
    "for l in labels[1:]:\n",
    "    datt = column_stack((datt,dis[l]))\n",
    "datt = dis[labels[0]]\n",
    "for l in labels[1:]:\n",
    "    datt = column_stack((datt,dis[l]))\n",
    "\n",
    "pddismodel = pd.DataFrame(data=datt,columns=labels)"
   ]
  },
  {
   "cell_type": "code",
   "execution_count": 8,
   "metadata": {},
   "outputs": [],
   "source": [
    "regressor = LinearRegression()  \n",
    "#regressor.fit(datt, mesT[:,3])\n",
    "#coeforig = regressor.coef_*1.0\n",
    "#print(regressor.coef_)"
   ]
  },
  {
   "cell_type": "code",
   "execution_count": 9,
   "metadata": {},
   "outputs": [],
   "source": [
    "#y_pred = regressor.predict(datt)"
   ]
  },
  {
   "cell_type": "code",
   "execution_count": 10,
   "metadata": {},
   "outputs": [],
   "source": [
    "#fullvarlinear = ((mesT[:,3]-y_pred)).var()\n",
    "#print(fullvarlinear)"
   ]
  },
  {
   "cell_type": "code",
   "execution_count": 52,
   "metadata": {},
   "outputs": [],
   "source": [
    "def LinReg_varexplain_B(X,y,labels= None, relative = False):\n",
    "    if labels is None:\n",
    "        try: \n",
    "            labels = X.keys()\n",
    "        except:\n",
    "            labels = arange(X.shape[1])\n",
    "            \n",
    "    idcs = arange(X.shape[1]).tolist()\n",
    "    vardat = zeros((X.shape[1],2))\n",
    "    \n",
    "    var0 = var(y)\n",
    "    #y_predt = y*0.0    \n",
    "    for k in range(X.shape[1]-1):\n",
    "\n",
    "        varts = zeros(len(idcs))\n",
    "        #print(idcs)\n",
    "        for iv,i in enumerate(idcs):\n",
    "            \n",
    "            idct = 1*array(idcs)\n",
    "            idct = delete(idct,iv)\n",
    "            Xb = X.values[:,array(idct)]\n",
    "            \n",
    "            regressor.fit(Xb, y)\n",
    "            y_pred = regressor.predict(Xb)\n",
    "            vart = ((y-y_pred)).var()\n",
    "            \n",
    "            varts[iv] = vart\n",
    "        \n",
    "        #print(varts)\n",
    "        # We select column that affected the minimum and remove it\n",
    "        sel = argmin(varts)\n",
    "        i = idcs[sel]\n",
    "        vardat[k,:] = (idcs[sel],varts[sel])\n",
    "        idcs.pop(sel)\n",
    "\n",
    "    #i = idcs[0]\n",
    "    vardat[-1,:] = (idcs[0],var(y))\n",
    "    #print(vardat,var0)\n",
    "    #hist(y-y_pred,41)\n",
    "\n",
    "    result = {}\n",
    "    #print(vardat)\n",
    "    for i in range(vardat.shape[0]-1,0,-1):\n",
    "        vsa = (vardat[i,1])/var0\n",
    "        vs = (vardat[i-1,1])/var0\n",
    "        #print(labels[int(vardat[i,0])],(vsa-vs)*100)\n",
    "        result[labels[int(vardat[i,0])]] = vsa-vs\n",
    "        \n",
    "    regressor.fit(X, y)\n",
    "    y_pred = regressor.predict(X)\n",
    "    vart = ((y-y_pred)).var()\n",
    "    vsa = (vardat[0,1])/var0\n",
    "    vs = (vart)/var0\n",
    "    \n",
    "    #print(labels[int(vardat[0,0])],(vsa-vs)*100)\n",
    "    result[labels[int(vardat[0,0])]] = vsa-vs\n",
    "    result['variance'] = var0\n",
    "    return(result)"
   ]
  },
  {
   "cell_type": "code",
   "execution_count": 53,
   "metadata": {},
   "outputs": [],
   "source": [
    "def LinReg_varexplain_F(X,y,labels= None, relative = False):\n",
    "    if labels is None:\n",
    "        try: \n",
    "            labels = X.keys()\n",
    "        except:\n",
    "            labels = arange(X.shape[1])\n",
    "            \n",
    "    idcs = arange(X.shape[1]).tolist()\n",
    "    vardat = zeros((X.shape[1],2))\n",
    "    \n",
    "    y_predt = y*0.0\n",
    "    var0 = var(y)\n",
    "    minvar = var0\n",
    "    for k in range(X.shape[1]-1):\n",
    "        varts = zeros(len(idcs))\n",
    "        for iv,i in enumerate(idcs):\n",
    "            regressor.fit(X.values[:,i:(i+1)], y-y_predt)\n",
    "            y_pred = regressor.predict(X.values[:,i:(i+1)])\n",
    "            vart = ((y-y_predt-y_pred)).var()\n",
    "            varts[iv] = vart\n",
    "        sel = argmin(varts)\n",
    "        i = idcs[sel]\n",
    "        regressor.fit(X.values[:,i:(i+1)], y-y_predt)\n",
    "        y_pred = regressor.predict(X.values[:,i:(i+1)])\n",
    "        y_predt += y_pred\n",
    "\n",
    "        vardat[k,:] = (idcs[sel],varts[sel])\n",
    "        idcs.pop(sel)\n",
    "\n",
    "    i = idcs[0]\n",
    "    regressor.fit(X.values[:,i:(i+1)], y-y_predt)\n",
    "    y_pred = regressor.predict(X.values[:,i:(i+1)])\n",
    "    vart = ((y-y_predt-y_pred)).var()\n",
    "    vardat[-1,:] = (idcs[0],vart)\n",
    "\n",
    "    result = {}\n",
    "\n",
    "    \n",
    "    #hist(y-y_predt-y_pred,41)\n",
    "\n",
    "    #print(vardat)\n",
    "    result['variance'] = var0\n",
    "    vsa = 1-(vardat[0,1])/var0\n",
    "    #print(labels[int(vardat[0,0])],vsa*100,vsa)\n",
    "    result[labels[int(vardat[0,0])]] = vsa\n",
    "    for i in range(1,vardat.shape[0]):\n",
    "        #print(vardat[i-1,1],vardat[i,1])\n",
    "        if relative:\n",
    "            var0 = vardat[i-1,1]\n",
    "            vs = 1-(vardat[i,1])/var0\n",
    "            result[labels[int(vardat[i,0])]]=vs\n",
    "        else:\n",
    "            vs = 1-(vardat[i,1])/var0\n",
    "            result[labels[int(vardat[i,0])]]=vs-vsa\n",
    "            vsa = vs\n",
    "\n",
    "    return(result)"
   ]
  },
  {
   "cell_type": "code",
   "execution_count": 54,
   "metadata": {},
   "outputs": [
    {
     "data": {
      "text/plain": [
       "{'A1': 0.8907024102083835,\n",
       " 'Dss': 0.06403969929088948,\n",
       " 'Rneck': 0.0004761509705282843,\n",
       " 'variance': 0.20150131740383248}"
      ]
     },
     "execution_count": 54,
     "metadata": {},
     "output_type": "execute_result"
    }
   ],
   "source": [
    "def varanalysis(data, y, labels, method, sel = None):\n",
    "    ''' Provide analysis of variance for  quantity y\n",
    "    '''\n",
    "    if sel is None:\n",
    "        sel = np.arange(data[labels[0]].shape[0])\n",
    "    datt = column_stack(tuple(data[l][sel] for l in labels))\n",
    "    pddat = pd.DataFrame(data=datt, columns = labels)\n",
    "    varas = method(pddat, y[sel])\n",
    "    return varas\n",
    "varanalysis(dataT, mesT[:,3], labelsmod, LinReg_varexplain_B)"
   ]
  },
  {
   "cell_type": "code",
   "execution_count": 55,
   "metadata": {},
   "outputs": [
    {
     "data": {
      "text/plain": [
       "{'A1': 0.7668807171570351,\n",
       " 'Dss': 0.16563615572185353,\n",
       " 'Rneck': 0.00415455637670141,\n",
       " 'variance': 0.16444568073767576}"
      ]
     },
     "execution_count": 55,
     "metadata": {},
     "output_type": "execute_result"
    }
   ],
   "source": [
    "sel = dataT['nPSD'] == 2.0\n",
    "varanalysis(dataT, mesT[:,3], labelsmod, LinReg_varexplain_B, sel)"
   ]
  },
  {
   "cell_type": "code",
   "execution_count": 56,
   "metadata": {},
   "outputs": [],
   "source": [
    "quants = ['Vsoma', 'Vsp', 'Vsp-Vsh', 'Vsp/Vsh', 'Vsh/Vsp',\n",
    "         'C','Sv', 'Sc', 'St']\n",
    "Ys = {}\n",
    "Ys[quants[0]] = mesT[:,3]\n",
    "Ys[quants[1]] = mesT[:,1]\n",
    "Ys[quants[2]] = mesT[:,1]-mesT[:,2]\n",
    "Ys[quants[3]] = mesT[:,1]/mesT[:,2]\n",
    "Ys[quants[4]] = mesT[:,2]/mesT[:,1]\n",
    "Ys[quants[5]] = mesT[:,4]\n",
    "Ys[quants[6]] = mes1[:,1]/mes01[:,1]\n",
    "Ys[quants[7]] = mes1[:,4]/mes01[:,4]\n",
    "Ys[quants[8]] = times/times0"
   ]
  },
  {
   "cell_type": "code",
   "execution_count": 57,
   "metadata": {},
   "outputs": [],
   "source": [
    "namesfuns = ['LinReg_B', 'LinReg_F', 'LinReg_F_relative']\n"
   ]
  },
  {
   "cell_type": "code",
   "execution_count": 58,
   "metadata": {},
   "outputs": [],
   "source": [
    "def multipleanalysis(data, disd, Ys, labels):\n",
    "    varas = {}\n",
    "    names = ['LinReg_B', 'LinReg_F', 'LinReg_F_relative']\n",
    "    LinregFrelative =  lambda x, y: LinReg_varexplain_B(x,y, relative = True)\n",
    "    for i, method in enumerate([LinReg_varexplain_B,\n",
    "                                LinReg_varexplain_F,\n",
    "                                LinregFrelative]):\n",
    "        vart = {}\n",
    "        for quant in quants[:6]:\n",
    "            vart[quant] = varanalysis(data, Ys[quant], labels, method) \n",
    "            sel = data['nPSD'] == 2.0\n",
    "            vart[quant+'DiS'] = varanalysis(data, Ys[quant], labels, \n",
    "                                      method, sel) \n",
    "                                       \n",
    "        for quant in quants[6:]:\n",
    "            vart[quant] = varanalysis(disd, Ys[quant], labels, method) \n",
    "        \n",
    "        varas[names[i]] = vart\n",
    "    return varas\n",
    "                               "
   ]
  },
  {
   "cell_type": "code",
   "execution_count": 59,
   "metadata": {},
   "outputs": [
    {
     "data": {
      "text/plain": [
       "Index(['A1', 'maxDhead', 'Dss', 'Lneck', 'Lhead', 'meanDneck_trunc70pc', 'A2'], dtype='object')"
      ]
     },
     "execution_count": 59,
     "metadata": {},
     "output_type": "execute_result"
    }
   ],
   "source": [
    "pddismodel.keys()"
   ]
  },
  {
   "cell_type": "code",
   "execution_count": 60,
   "metadata": {},
   "outputs": [],
   "source": [
    "resultsmodel = multipleanalysis(dataT,pddis, Ys, labelsmod)\n",
    "resultsmorph = multipleanalysis(dataT,pddis, Ys, labelmorph)\n"
   ]
  },
  {
   "cell_type": "code",
   "execution_count": 61,
   "metadata": {},
   "outputs": [],
   "source": [
    "labfun = namesfuns[0]\n",
    "Vidcs = resultsmodel[labfun]"
   ]
  },
  {
   "cell_type": "code",
   "execution_count": 62,
   "metadata": {},
   "outputs": [
    {
     "name": "stdout",
     "output_type": "stream",
     "text": [
      "**********LinReg_B**********\n",
      "Quantity \tA1 \tDss \tRneck \tTotal variance\n",
      "Vsoma \t0.8907 \t0.0640 \t0.0005 \t0.2015 \t \n",
      "VsomaDiS \t0.7669 \t0.1656 \t0.0042 \t0.1644 \t \n",
      "Vsp \t0.6021 \t0.0002 \t0.2016 \t39.3462 \t \n",
      "VspDiS \t0.4683 \t0.0032 \t0.3942 \t59.4472 \t \n",
      "Vsp-Vsh \t0.3478 \t0.0007 \t0.2598 \t20.8225 \t \n",
      "Vsp-VshDiS \t0.2544 \t0.0007 \t0.5127 \t38.2093 \t \n",
      "Vsp/Vsh \t0.0040 \t0.0082 \t0.9687 \t2.3418 \t \n",
      "Vsp/VshDiS \t0.0042 \t0.0128 \t0.9682 \t2.3172 \t \n",
      "Vsh/Vsp \t0.0255 \t0.0064 \t0.7356 \t0.0480 \t \n",
      "Vsh/VspDiS \t0.0009 \t0.0223 \t0.7181 \t0.0579 \t \n",
      "C \t0.3024 \t0.0001 \t0.0940 \t0.8904 \t \n",
      "CDiS \t0.4514 \t0.0001 \t0.0979 \t0.5888 \t \n",
      "Sv \t0.0356 \t0.0157 \t0.3683 \t0.0030 \t \n",
      "Sc \t0.2739 \t0.0128 \t0.2236 \t0.0083 \t \n",
      "St \t0.0836 \t0.3887 \t0.0104 \t0.0062 \t \n",
      "**********LinReg_F**********\n",
      "Quantity \tA1 \tDss \tRneck \tTotal variance\n",
      "Vsoma \t0.8907 \t0.0640 \t0.0005 \t0.2015 \t \n",
      "VsomaDiS \t0.7669 \t0.1467 \t0.0091 \t0.1644 \t \n",
      "Vsp \t0.6021 \t0.0004 \t0.1881 \t39.3462 \t \n",
      "VspDiS \t0.4683 \t0.0094 \t0.3787 \t59.4472 \t \n",
      "Vsp-Vsh \t0.3246 \t0.0000 \t0.2598 \t20.8225 \t \n",
      "Vsp-VshDiS \t0.2444 \t0.0017 \t0.5127 \t38.2093 \t \n",
      "Vsp/Vsh \t0.0042 \t0.0080 \t0.9687 \t2.3418 \t \n",
      "Vsp/VshDiS \t0.0038 \t0.0127 \t0.9682 \t2.3172 \t \n",
      "Vsh/Vsp \t0.0238 \t0.0074 \t0.7356 \t0.0480 \t \n",
      "Vsh/VspDiS \t0.0009 \t0.0221 \t0.7181 \t0.0579 \t \n",
      "C \t0.3024 \t0.0000 \t0.0878 \t0.8904 \t \n",
      "CDiS \t0.4514 \t0.0002 \t0.0941 \t0.5888 \t \n",
      "Sv \t0.0334 \t0.0163 \t0.3683 \t0.0030 \t \n",
      "Sc \t0.2739 \t0.0201 \t0.2102 \t0.0083 \t \n",
      "St \t0.0778 \t0.3887 \t0.0065 \t0.0062 \t \n",
      "**********LinReg_F_relative**********\n",
      "Quantity \tA1 \tDss \tRneck \tTotal variance\n",
      "Vsoma \t0.8907 \t0.0640 \t0.0005 \t0.2015 \t \n",
      "VsomaDiS \t0.7669 \t0.1656 \t0.0042 \t0.1644 \t \n",
      "Vsp \t0.6021 \t0.0002 \t0.2016 \t39.3462 \t \n",
      "VspDiS \t0.4683 \t0.0032 \t0.3942 \t59.4472 \t \n",
      "Vsp-Vsh \t0.3478 \t0.0007 \t0.2598 \t20.8225 \t \n",
      "Vsp-VshDiS \t0.2544 \t0.0007 \t0.5127 \t38.2093 \t \n",
      "Vsp/Vsh \t0.0040 \t0.0082 \t0.9687 \t2.3418 \t \n",
      "Vsp/VshDiS \t0.0042 \t0.0128 \t0.9682 \t2.3172 \t \n",
      "Vsh/Vsp \t0.0255 \t0.0064 \t0.7356 \t0.0480 \t \n",
      "Vsh/VspDiS \t0.0009 \t0.0223 \t0.7181 \t0.0579 \t \n",
      "C \t0.3024 \t0.0001 \t0.0940 \t0.8904 \t \n",
      "CDiS \t0.4514 \t0.0001 \t0.0979 \t0.5888 \t \n",
      "Sv \t0.0356 \t0.0157 \t0.3683 \t0.0030 \t \n",
      "Sc \t0.2739 \t0.0128 \t0.2236 \t0.0083 \t \n",
      "St \t0.0836 \t0.3887 \t0.0104 \t0.0062 \t \n"
     ]
    }
   ],
   "source": [
    "labels = labelsmod\n",
    "for labfun in namesfuns:\n",
    "\n",
    "    print(10*'*'+labfun+'*'*10)\n",
    "    Vidcs = resultsmodel[labfun]\n",
    "    print('Quantity \\t'+' \\t'.join([label for label in labels+['Total variance']]))\n",
    "    for key in Vidcs.keys():\n",
    "        Vidcst = Vidcs[key]\n",
    "        formattext = '{:.4f} \\t'*(len(labels)+1)+' '\n",
    "        vst = np.array([Vidcst[k] for k in labels+['variance']])\n",
    "        print('{} \\t'.format(key)+formattext.format(*vst) )"
   ]
  },
  {
   "cell_type": "code",
   "execution_count": 63,
   "metadata": {},
   "outputs": [
    {
     "name": "stdout",
     "output_type": "stream",
     "text": [
      "**********LinReg_B**********\n",
      "Quantity A1 Dss Rneck Total variance\n",
      "Vsoma 0.8907 0.0640 0.0005 0.2015  \n",
      "VsomaDiS 0.7669 0.1656 0.0042 0.1644  \n",
      "Vsp 0.6021 0.0002 0.2016 39.3462  \n",
      "VspDiS 0.4683 0.0032 0.3942 59.4472  \n",
      "Vsp-Vsh 0.3478 0.0007 0.2598 20.8225  \n",
      "Vsp-VshDiS 0.2544 0.0007 0.5127 38.2093  \n",
      "Vsp/Vsh 0.0040 0.0082 0.9687 2.3418  \n",
      "Vsp/VshDiS 0.0042 0.0128 0.9682 2.3172  \n",
      "Vsh/Vsp 0.0255 0.0064 0.7356 0.0480  \n",
      "Vsh/VspDiS 0.0009 0.0223 0.7181 0.0579  \n",
      "C 0.3024 0.0001 0.0940 0.8904  \n",
      "CDiS 0.4514 0.0001 0.0979 0.5888  \n",
      "Sv 0.0356 0.0157 0.3683 0.0030  \n",
      "Sc 0.2739 0.0128 0.2236 0.0083  \n",
      "St 0.0836 0.3887 0.0104 0.0062  \n",
      "**********LinReg_F**********\n",
      "Quantity A1 Dss Rneck Total variance\n",
      "Vsoma 0.8907 0.0640 0.0005 0.2015  \n",
      "VsomaDiS 0.7669 0.1467 0.0091 0.1644  \n",
      "Vsp 0.6021 0.0004 0.1881 39.3462  \n",
      "VspDiS 0.4683 0.0094 0.3787 59.4472  \n",
      "Vsp-Vsh 0.3246 0.0000 0.2598 20.8225  \n",
      "Vsp-VshDiS 0.2444 0.0017 0.5127 38.2093  \n",
      "Vsp/Vsh 0.0042 0.0080 0.9687 2.3418  \n",
      "Vsp/VshDiS 0.0038 0.0127 0.9682 2.3172  \n",
      "Vsh/Vsp 0.0238 0.0074 0.7356 0.0480  \n",
      "Vsh/VspDiS 0.0009 0.0221 0.7181 0.0579  \n",
      "C 0.3024 0.0000 0.0878 0.8904  \n",
      "CDiS 0.4514 0.0002 0.0941 0.5888  \n",
      "Sv 0.0334 0.0163 0.3683 0.0030  \n",
      "Sc 0.2739 0.0201 0.2102 0.0083  \n",
      "St 0.0778 0.3887 0.0065 0.0062  \n",
      "**********LinReg_F_relative**********\n",
      "Quantity A1 Dss Rneck Total variance\n",
      "Vsoma 0.8907 0.0640 0.0005 0.2015  \n",
      "VsomaDiS 0.7669 0.1656 0.0042 0.1644  \n",
      "Vsp 0.6021 0.0002 0.2016 39.3462  \n",
      "VspDiS 0.4683 0.0032 0.3942 59.4472  \n",
      "Vsp-Vsh 0.3478 0.0007 0.2598 20.8225  \n",
      "Vsp-VshDiS 0.2544 0.0007 0.5127 38.2093  \n",
      "Vsp/Vsh 0.0040 0.0082 0.9687 2.3418  \n",
      "Vsp/VshDiS 0.0042 0.0128 0.9682 2.3172  \n",
      "Vsh/Vsp 0.0255 0.0064 0.7356 0.0480  \n",
      "Vsh/VspDiS 0.0009 0.0223 0.7181 0.0579  \n",
      "C 0.3024 0.0001 0.0940 0.8904  \n",
      "CDiS 0.4514 0.0001 0.0979 0.5888  \n",
      "Sv 0.0356 0.0157 0.3683 0.0030  \n",
      "Sc 0.2739 0.0128 0.2236 0.0083  \n",
      "St 0.0836 0.3887 0.0104 0.0062  \n"
     ]
    }
   ],
   "source": [
    "labels = labelsmod\n",
    "for labfun in namesfuns:\n",
    "\n",
    "    print(10*'*'+labfun+'*'*10)\n",
    "    Vidcs = resultsmodel[labfun]\n",
    "    print('Quantity '+' '.join([label for label in labels+['Total variance']]))\n",
    "    for key in Vidcs.keys():\n",
    "        Vidcst = Vidcs[key]\n",
    "        formattext = '{:.4f} '*(len(labels)+1)+' '\n",
    "        vst = np.array([Vidcst[k] for k in labels+['variance']])\n",
    "        print('{} '.format(key)+formattext.format(*vst) )"
   ]
  },
  {
   "cell_type": "code",
   "execution_count": null,
   "metadata": {},
   "outputs": [],
   "source": []
  }
 ],
 "metadata": {
  "kernelspec": {
   "display_name": "neuron",
   "language": "python",
   "name": "neuron"
  },
  "language_info": {
   "codemirror_mode": {
    "name": "ipython",
    "version": 3
   },
   "file_extension": ".py",
   "mimetype": "text/x-python",
   "name": "python",
   "nbconvert_exporter": "python",
   "pygments_lexer": "ipython3",
   "version": "3.6.5"
  }
 },
 "nbformat": 4,
 "nbformat_minor": 2
}
