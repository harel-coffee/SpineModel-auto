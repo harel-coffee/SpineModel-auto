{
 "cells": [
  {
   "cell_type": "code",
   "execution_count": 1,
   "id": "rational-exclusive",
   "metadata": {},
   "outputs": [
    {
     "name": "stderr",
     "output_type": "stream",
     "text": [
      "Warning: no DISPLAY environment variable.\n",
      "--No graphics will be displayed.\n"
     ]
    }
   ],
   "source": [
    "import sys\n",
    "import pandas as pd\n",
    "\n",
    "from numpy import *   #ones, cumsum, sum, isscalar\n",
    "from matplotlib.pylab import *\n",
    "plotose = False\n",
    "import pickle\n",
    "\n",
    "import lib as lb\n",
    "import storage as st\n",
    "import tools as tools\n",
    "#from tools import *\n",
    "\n",
    "import os\n",
    "\n",
    "folderstore = './fconditions/'\n"
   ]
  },
  {
   "cell_type": "code",
   "execution_count": 2,
   "id": "double-trainer",
   "metadata": {},
   "outputs": [
    {
     "data": {
      "text/plain": [
       "6"
      ]
     },
     "execution_count": 2,
     "metadata": {},
     "output_type": "execute_result"
    }
   ],
   "source": [
    "sys.argv = [\"run\", 1.0, -70.0, 0.65, \"1000_70_65\", 1.0]\n",
    "len(sys.argv)"
   ]
  },
  {
   "cell_type": "code",
   "execution_count": 3,
   "id": "illegal-choir",
   "metadata": {},
   "outputs": [
    {
     "name": "stdout",
     "output_type": "stream",
     "text": [
      "\t0 \n",
      "\t1 \n",
      "\t1 \n",
      "\t1 \n",
      "\t1 \n",
      "Neuron topology:\n",
      "\n",
      "|-|       soma(0-1)\n",
      "   `|       dendA1prox(0-1)\n",
      "     `|       dendA1(0-1)\n",
      "       `|       dendShaft(0-1)\n",
      "         `|       dendA2(0-1)\n",
      "        `|       NSpne000(0-1)\n",
      "          `|       Spne000(0-1)\n",
      "   `|       dendB1(0-1)\n",
      "\n",
      "1.0\n",
      "Baseline experiment.....................\n"
     ]
    },
    {
     "name": "stderr",
     "output_type": "stream",
     "text": [
      "/usr/local/lib/python3.7/site-packages/pandas/core/computation/expressions.py:205: UserWarning: evaluating in Python space because the '*' operator is not supported by numexpr for the bool dtype, use '&' instead\n",
      "  f\"evaluating in Python space because the {repr(op_str)} \"\n",
      "run:452: DeprecationWarning: neuron.run(tstop) is deprecated; use h.stdinit() and h.continuerun(tstop) instead\n"
     ]
    },
    {
     "data": {
      "text/plain": [
       "[<matplotlib.lines.Line2D at 0x7f1b13413a50>]"
      ]
     },
     "execution_count": 3,
     "metadata": {},
     "output_type": "execute_result"
    },
    {
     "data": {
      "image/png": "[encoded data removed]",
      "text/plain": [
       "<Figure size 432x288 with 1 Axes>"
      ]
     },
     "metadata": {
      "needs_background": "light"
     },
     "output_type": "display_data"
    }
   ],
   "source": [
    "\n",
    "\n",
    "# changing parameters\n",
    "try:\n",
    "    assert len(sys.argv)==5, 'No correct number of arguments'\n",
    "    from bootstrap_unshr import *\n",
    "    from data_Fullset import SCxL23 as exppar\n",
    "    #print('No shrinkage correction')\n",
    "    shflag = ''\n",
    "except:\n",
    "    assert len(sys.argv)==6, 'No correct number of arguments'\n",
    "    shrinkage = float(sys.argv[5])\n",
    "    if shrinkage > 0.0:\n",
    "        from bootstrap_shcr import *\n",
    "        from data_Fullset import SCxL23_shcr as exppar\n",
    "        #print('We correct shrinkage')\n",
    "        shflag = 'sh'\n",
    "    else:\n",
    "        from bootstrap_unshr import *\n",
    "        from data_Fullset import SCxL23 as exppar\n",
    "        #print('No shrinkage correction')\n",
    "        shflag = ''\n",
    "\n",
    "exppar.gtrG = exppar.gtrG*float(sys.argv[1]) # 700 pS\n",
    "gtrG = exppar.gtrG\n",
    "gtrA = exppar.gtrA\n",
    "gtrN = exppar.gtrN\n",
    "GABAErev = float(sys.argv[2])\n",
    "#exppar.dendDiam = float(sys.argv[3])\n",
    "\n",
    "# ~ condition = 'nosh_VC700Ecl80'\n",
    "condition = sys.argv[4]\n",
    "\n",
    "#print('Hey!')\n",
    "\n",
    "# Parameter definitions\n",
    "# Data is stored here\n",
    "data = st.dataStorage() # some default parameters defined.\n",
    "data.dt = 0.05\n",
    "data.NMDA = False\n",
    "\n",
    "# Definition of the model.\n",
    "lb.h.dt = data.dt\n",
    "NMDA = data.NMDA\n",
    "model = lb.loadNeuron(\"ball-2sticks.hoc\",axon=False)\n",
    "\n",
    "# Adding piece of dendritic branch with spine\n",
    "model.addDend(name=\"dendShaft\",locus=\"dendA1\",L=4.0,D=1.5,ilocus=1)\n",
    "model.addSpne(locus=\"dendShaft\",ilocus=0.5,L=1.0,D=1.0,Lneck=1.0,Dneck=0.15)\n",
    "# Temperature of the neuron\n",
    "lb.h.celsius = model.temperature\n",
    "model.addDend(name=\"dendA2\",locus=3,L=10.0,D=0.5,ilocus=1)\n",
    "data.model = model.__dict__\n",
    "\n",
    "model.soma.L = 20\n",
    "#model.comp['B1'].L = 200\n",
    "#model.comp['B1'].diam = 10\n",
    "#print(model.soma.L,model.soma.diam,model.soma(0.5).area(),model.dend[-1](0.5).area())\n",
    "\n",
    "print(\"Neuron topology:\")\n",
    "print(lb.h.topology())\n",
    "\n",
    "\n",
    "# ### Bootstrapping spines and synapses\n",
    "#\n",
    "#\n",
    "\n",
    "# In[2]:\n",
    "\n",
    "\n",
    "nsp = 500\n",
    "dis = btset_cd(cd='DiS',size=nsp)\n",
    "sis = btset_cd(cd='SiS',size=nsp)\n",
    "sps = btset_cd(cd='Sp',size=nsp)\n",
    "\n",
    "dis['Rneck'] = dis['Rneck']#*2\n",
    "sis['Rneck'] = sis['Rneck']#*2\n",
    "sps['Rneck'] = sps['Rneck']#*2\n",
    "\n",
    "iPSDsh = btShInh(size=nsp)\n",
    "\n",
    "\n",
    "sp = model.spne[0]\n",
    "sp.L = dis[\"L\"].mean()\n",
    "sp.diam = dis[\"D\"].mean()\n",
    "\n",
    "#print(\"Area Volume Ah Vh\")\n",
    "#print(sp(0.5).area(),sp(0.5).volume(),dis[\"Ah\"][0]/dis[\"AhA0\"][0],dis[\"Vh\"][0])\n",
    "\n",
    "\n",
    "# ### Excitatory synapse\n",
    "#\n",
    "# We need to define the arrival time and dynamics. These parameters may be modified later\n",
    "\n",
    "# In[4]:\n",
    "\n",
    "\n",
    "model.AMPAlist = []\n",
    "model.ncAMPAlist = []\n",
    "\n",
    "AMPA = lb.h.Exp2Syn(1,sec = model.spne[0])\n",
    "tau1  = exppar.AMPAtaus[0]\n",
    "tau2 = exppar.AMPAtaus[1]\n",
    "AMPA.tau1 = tau1\n",
    "AMPA.tau2 = tau2\n",
    "\n",
    "gmax = gtrA*sps['A1'].mean()\n",
    "stimE=lb.h.NetStim();stimE.number = 1;\n",
    "NC = lb.h.NetCon(stimE,AMPA,0,0,gmax)\n",
    "\n",
    "model.AMPAlist.append(AMPA)\n",
    "model.ncAMPAlist.append(NC)\n",
    "NC.delay = 10\n",
    "\n",
    "# NMDA part\n",
    "gmaxN = gtrN*sps['A1'].mean()\n",
    "lb.add_NMDAsyns(model, locs=[[0,0.5]], gmax=gmaxN,tau2=20.0)\n",
    "NMDA = model.NMDAlist[0]\n",
    "NCN = model.ncNMDAlist[0]\n",
    "stimN=lb.h.NetStim();stimN.number = 1;\n",
    "NCN = lb.h.NetCon(stimN,NMDA,0,0,gmaxN)\n",
    "model.ncNMDAlist[0] = NCN\n",
    "NMDA.tau1 = exppar.NMDAtaus[0]\n",
    "NMDA.tau2 = exppar.NMDAtaus[1]\n",
    "\n",
    "\n",
    "# ### Inhibitory synapse\n",
    "\n",
    "# In[5]:\n",
    "\n",
    "\n",
    "gmaxG = gtrG*dis['A2'].mean()\n",
    "GABA, NCG = lb.add_GABAsyns(model, locs=[[0,1]],\n",
    "                            spne=True, gmax=gmaxG,\n",
    "                            tau1=exppar.GABAtaus[0],\n",
    "                            tau2=exppar.GABAtaus[1],\n",
    "                            rev = GABAErev)\n",
    "\n",
    "\n",
    "inhOutside = exppar.inhOutside\n",
    "if inhOutside:\n",
    "    gmaxG = gtrG*iPSDsh.mean()\n",
    "    GABA2, NCG2 = lb.add_GABAsynscomp(model,\n",
    "                                      model.comp['dendShaft'],\n",
    "                                      loc = 0.1,\n",
    "                                      gmax=gmaxG,\n",
    "                                      tau1=exppar.GABAtaus[0],\n",
    "                                      tau2=exppar.GABAtaus[1],\n",
    "                                      rev=GABAErev)\n",
    "\n",
    "\n",
    "# # Recordings\n",
    "\n",
    "# In[6]:\n",
    "\n",
    "\n",
    "trec, vrec = lb.h.Vector(), lb.h.Vector()\n",
    "gRec, iRec,  vspneRec = [], [], []\n",
    "gNMDA_rec, iNMDA_rec = [], []\n",
    "trec.record(lb.h._ref_t)\n",
    "vrec.record(model.soma(0.5)._ref_v)\n",
    "\n",
    "\n",
    "#n=0\n",
    "vDendRec = []\n",
    "vRecn = {}\n",
    "#For all dendrites\n",
    "for dend in model.dend:\n",
    "    #Adding vectors for Voltage, and Calcium\n",
    "    vDendRec.append(lb.h.Vector())\n",
    "    # Placing recording at mid-point in the dendritic branch\n",
    "    vDendRec[-1].record(dend(0.5)._ref_v)\n",
    "    vRecn[dend.name()] = vDendRec[-1]\n",
    "    # NO CALCIUM!?!?!\n",
    "#Probably better to organize them in a dictionary\n",
    "vDendRec[1].record(model.dend[1](1.0)._ref_v)\n",
    "\n",
    "# Spine voltage recording stuff\n",
    "vspneRec.append(lb.h.Vector())\n",
    "vspneRec.append(lb.h.Vector())\n",
    "sp = model.spne[0]\n",
    "vspneRec[0].record(sp(0.5)._ref_v)\n",
    "sp = model.neck[0]\n",
    "vspneRec[1].record(sp(0.5)._ref_v)\n",
    "\n",
    "# Calcim\n",
    "\n",
    "caDendRec = []\n",
    "caRecn = {}\n",
    "sp = model.spne[0]\n",
    "caDendRec.append(lb.h.Vector())\n",
    "caDendRec.append(lb.h.Vector())\n",
    "caDendRec.append(lb.h.Vector())\n",
    "caDendRec[0].record(sp(0.5)._ref_ica)\n",
    "caDendRec[1].record(model.NMDAlist[0]._ref_i)\n",
    "caDendRec[2].record(sp(1.0)._ref_cai)\n",
    "caRecn['sp ica'] = caDendRec[0]\n",
    "caRecn['sp iNMDA'] = caDendRec[1]\n",
    "caRecn['sp Ca'] = caDendRec[2]\n",
    "\n",
    "\n",
    "# In[7]:\n",
    "\n",
    "\n",
    "vDendEL = []\n",
    "dend = model.dend[1]\n",
    "for i in range(10):\n",
    "    vDendEL.append(lb.h.Vector())\n",
    "    vDendEL[-1].record(dend((i+1.0)/10.0)._ref_v)\n",
    "\n",
    "\n",
    "# In[8]:\n",
    "\n",
    "\n",
    "vDendEL2 = []\n",
    "dend = model.dend[-1]\n",
    "for i in range(10):\n",
    "    vDendEL2.append(lb.h.Vector())\n",
    "    vDendEL2[-1].record(dend((i+1.0)/10.0)._ref_v)\n",
    "\n",
    "\n",
    "# In[9]:\n",
    "\n",
    "\n",
    "iRec.append(lb.h.Vector())\n",
    "iRec.append(lb.h.Vector())\n",
    "currentAMPA = iRec[0]\n",
    "\n",
    "currentGABA = iRec[1]\n",
    "iRec.append(lb.h.Vector())\n",
    "currentNMDA = iRec[-1]\n",
    "currentNMDA.record(NMDA._ref_i)\n",
    "\n",
    "\n",
    "# In[10]:\n",
    "\n",
    "\n",
    "currentAMPA.record(AMPA._ref_i)\n",
    "currentGABA.record(GABA._ref_i)\n",
    "\n",
    "\n",
    "# In[11]:\n",
    "\n",
    "\n",
    "iRec.append(lb.h.Vector())\n",
    "currentGABA2 = iRec[-1]\n",
    "currentGABA2.record(GABA2._ref_i)\n",
    "\n",
    "\n",
    "# ## Small tuning parameters for dendrite?\n",
    "\n",
    "# In[12]:\n",
    "\n",
    "\n",
    "dendsizeL0 = exppar.dendsizeL0\n",
    "dendsizeL = max(max(max(dis['Dss'])+5,max(sis['Dss'])+5),150)\n",
    "neck = model.neck[0]\n",
    "Rneck = neck.L*1e-6/(neck.diam*1e-6/2.0)**2/pi*neck.Ra/100\n",
    "dend = model.comp['dendA1prox']\n",
    "dend.L = exppar.dendsizeL0\n",
    "dend.diam = exppar.denddiam0\n",
    "\n",
    "\n",
    "# In[13]:\n",
    "\n",
    "\n",
    "dendA2 = model.comp['dendA2']\n",
    "dendA1 = model.comp['dendA1']\n",
    "dendsh = model.comp['dendShaft']\n",
    "\n",
    "dendA2.L = 1.0\n",
    "\n",
    "\n",
    "# In[14]:\n",
    "\n",
    "\n",
    "dendsh.diam = exppar.dendDiam\n",
    "dendA1.diam = exppar.dendDiam\n",
    "dendA2.diam = exppar.dendDiam\n",
    "\n",
    "\n",
    "# In[15]:\n",
    "\n",
    "\n",
    "model.RM = exppar.rm\n",
    "for sec in lb.h.allsec():\n",
    "    sec.Ra = exppar.ra\n",
    "    sec.cm = 1.0\n",
    "    sec.g_pas = 1.0/model.RM\n",
    "\n",
    "factor = exppar.factor2nddend\n",
    "model.comp['dendB1'].cm = factor\n",
    "model.comp['dendB1'].g_pas = factor/model.RM\n",
    "model.comp['dendB1'].L = exppar.len2nddend\n",
    "model.comp['dendB1'].diam = 1\n",
    "\n",
    "\n",
    "# In[16]:\n",
    "\n",
    "\n",
    "rhosp = 1.3\n",
    "diamneck = sps['meanDneck'].mean()/1e3\n",
    "dendareaperL = rhosp*(mean(sps['Ah'])+(pi*diamneck))\n",
    "factor = dendareaperL/(pi*dendA1.diam)\n",
    "#print(factor)\n",
    "factorsp = factor\n",
    "factordd = (pi*dendA1.diam-(pi*diamneck**2/4.0)*rhosp)/(pi*dendA1.diam)\n",
    "#print(factordd,factordd+factorsp)\n",
    "\n",
    "factor = factordd+factorsp\n",
    "factor = exppar.factorspinesdend\n",
    "dendA2.cm = factor\n",
    "dendA1.cm = factor\n",
    "\n",
    "dendA2.g_pas = factor/model.RM\n",
    "dendA1.g_pas = factor/model.RM\n",
    "\n",
    "\n",
    "# In[17]:\n",
    "\n",
    "\n",
    "dendA1.nseg = int(dendA1.L//10)+1\n",
    "dendA2.nseg = int(dendA2.L//10)+1\n",
    "\n",
    "dendA1.nseg = 10\n",
    "dendA2.nseg = 10\n",
    "#print(dendA1.nseg,dendA2.nseg)\n",
    "\n",
    "\n",
    "# In[18]:\n",
    "\n",
    "\n",
    "lb.init_active(model, axon=False, soma=False, dend=False, dendNa=False,\n",
    "                dendCa=False,spne=True)\n",
    "\n",
    "\n",
    "# In[19]:\n",
    "\n",
    "\n",
    "Rdendprox = model.comp['dendA1prox'].L*1e-6/2.0*model.comp['dendA1prox'].Ra/100/(pi*(model.comp['dendA1prox'].diam*1e-6/2.0)**2)\n",
    "diam0 = 0.15\n",
    "\n",
    "def simulateSet(model,spn,tG = 500,ton = 50,\n",
    "                toffset = 50,t_stop = 250, EL = -65,\n",
    "                btsr = None,VDCC = array([0.,0,0,0]),\n",
    "                dendrec = True,inhOutside= False, iPSDsh = None):\n",
    "    if btsr is None:\n",
    "        btsr = ones(9)==0\n",
    "    model.E_PAS = EL\n",
    "    model.soma.e_pas = model.E_PAS\n",
    "    for dendp in model.dend:\n",
    "        dendp.e_pas = model.E_PAS\n",
    "    for sp in model.spne:\n",
    "        sp.e_pas = model.E_PAS\n",
    "\n",
    "    dendsh = model.comp['dendShaft']\n",
    "    dendA1 = model.comp['dendA1']\n",
    "    dendA2 = model.comp['dendA2']\n",
    "    neck = model.neck[0]\n",
    "    sp = model.spne[0]\n",
    "\n",
    "    dshL = dendsh.L\n",
    "    dendsizeL = dendsh.L+dendA1.L+dendA2.L\n",
    "    data = column_stack((spn[\"A1\"],spn[\"A1\"],spn[\"A2\"],spn[\"Rneck\"],spn[\"Dss\"],spn[\"L\"],spn[\"D\"],spn[\"Ln\"],spn[\"AhA0\"], spn[\"meanDneck\"]/1e3))\n",
    "    if isnan(data).sum()>0:\n",
    "        raise \"There are nans do something about it\"\n",
    "    for i in range(9):\n",
    "        if ~btsr[i]:\n",
    "            data[:,i] = data[:,i].mean()\n",
    "\n",
    "    nsp = data.shape[0]\n",
    "    if iPSDsh is None:\n",
    "        iPSDsh = zeros(nsp)\n",
    "    mes = zeros((nsp,9))\n",
    "    me2 = zeros((nsp,11))\n",
    "    me3 = zeros((nsp,10))\n",
    "\n",
    "    iad = 2\n",
    "    vavg = zeros((int(t_stop/lb.h.dt)+iad,7))\n",
    "    vtracs = zeros((int(t_stop/lb.h.dt)+iad,nsp))\n",
    "    Ctracs = zeros((int(t_stop/lb.h.dt)+iad,nsp))\n",
    "    vtracsD = zeros((int(t_stop/lb.h.dt)+iad,nsp))\n",
    "    vtracsS = zeros((int(t_stop/lb.h.dt)+iad,nsp))\n",
    "    for i in arange(nsp):\n",
    "        NC.weight[0]  = data[i,0] *gtrA#/2\n",
    "        NCN.weight[0] = data[i,1] *gtrN#*0#*0\n",
    "        NCG.weight[0] = data[i,2] *gtrG#*0\n",
    "        NCG2.weight[0] = iPSDsh[i] *gtrG#*0\n",
    "        #print(NC.weight[0],data[i,0],gtrA)\n",
    "        if inhOutside:\n",
    "            NCG.weight[0] = 0.0\n",
    "        else:\n",
    "            NCG2.weight[0] = 0.0\n",
    "\n",
    "        neck.L = data[i,7]\n",
    "        Rneck0 = neck.Ra*neck.L/(diam0)**2*0.04/pi\n",
    "        #print(Rneck0,data[i,3])\n",
    "        neck.diam = diam0*sqrt(Rneck0/data[i,3])\n",
    "\n",
    "        # neck.diam = data[i,9]\n",
    "        # Rneck = neck.Ra*neck.L/(neck.diam)**2*0.04/pi\n",
    "        # neck.Ra = data[i,3]*(neck.diam)**2*pi/0.04/neck.L\n",
    "\n",
    "        posD = data[i,4]\n",
    "\n",
    "        dendA1.L = posD-dshL/2\n",
    "        dendA2.L = dendsizeL-posD-dshL/2\n",
    "\n",
    "\n",
    "        # A = pi*D**2\n",
    "        sp.L = data[i,5]\n",
    "        sp.diam = data[i,6]\n",
    "        sp.cm = data[i,8]\n",
    "        sp.g_pas = data[i,8]/model.RM\n",
    "        spvol = sp(0.5).volume()\n",
    "        spineArea =  sp(0.5).area()#sp.L*sp.diam+1.8*sp.diam**2/4 # um^2\n",
    "\n",
    "        #CaTcond = 1e-3# pS\n",
    "        CaTcond = 1e-4# THis is a factor to transform pS/um^2 to S/cm^2 units of neuron\n",
    "\n",
    "        freespinearea = (spineArea-data[i,0])/spineArea\n",
    "\n",
    "        sp.pbar_caL13_alt =freespinearea* VDCC[0]*CaTcond#/spineArea\n",
    "        sp.pbar_caL_alt = freespinearea*VDCC[1]*CaTcond#/spineArea\n",
    "        sp.pbar_can_alt = freespinearea*VDCC[2]*CaTcond#/spineArea\n",
    "        sp.pcaqbar_caq_alt = freespinearea*VDCC[3]*CaTcond#/spineArea\n",
    "        #sp.pcarbar_car_alt = VDCC[4]*CaTcond\n",
    "\n",
    "\n",
    "        NC.delay = toffset+ton-50\n",
    "        NCN.delay = toffset+ton-50\n",
    "        NCG.delay = toffset+tG#toffset+tG#-50\n",
    "        NCG2.delay = toffset+tG#toffset+tG#-50\n",
    "\n",
    "        for il in range(10):\n",
    "            f = 1-7.5*il/dendA1.L\n",
    "            #f = 0.5\n",
    "            if f>=0:\n",
    "                vDendEL[il].record(dendA1(f)._ref_v)\n",
    "            else:\n",
    "                vDendEL[il].record(dendA1(0.0)._ref_v)\n",
    "\n",
    "        for il in range(10):\n",
    "            f = 7.5*il/dendA2.L\n",
    "            #f = 0.5\n",
    "            if f<=1:\n",
    "                vDendEL2[il].record(dendA2(f)._ref_v)\n",
    "            else:\n",
    "                vDendEL2[il].record(dendA2(1.0)._ref_v)\n",
    "\n",
    "        lb.h.finitialize(model.E_PAS)\n",
    "\n",
    "\n",
    "        lb.neuron.run(t_stop)\n",
    "\n",
    "\n",
    "        current = abs((array(vDendRec[0])-array(vrec[0]))/Rdendprox)\n",
    "\n",
    "        vtracs[:,i] = array(vspneRec[0])\n",
    "        if dendrec:\n",
    "            vtracsD[:,i] = array(vDendRec[1])\n",
    "        else:\n",
    "            vtracsD[:,i] = array(vDendEL[2])\n",
    "\n",
    "        vtracsS[:,i] = array(vrec)\n",
    "\n",
    "        vavg[:,0] += array(vspneRec[0])\n",
    "        vavg[:,1] += array(vspneRec[0])**2\n",
    "        vavg[:,2] += array(vDendRec[1])\n",
    "        vavg[:,3] += array(vDendRec[1])**2\n",
    "        vavg[:,4] += array(vrec)\n",
    "        vavg[:,5] += array(vrec)**2\n",
    "        vavg[:,6] += 1\n",
    "\n",
    "        cat = array(caDendRec[-1])/1e-3\n",
    "        Ctracs[:,i] = cat-cat[0]\n",
    "        if inhOutside:\n",
    "            aG = abs(array(currentGABA2)).argmax()\n",
    "            maxGABA = array(currentGABA2)[aG]\n",
    "        else:\n",
    "            aG = abs(array(currentGABA)).argmax()\n",
    "            maxGABA = array(currentGABA)[aG]\n",
    "\n",
    "\n",
    "        #aG = abs(array(currentGABA)).argmax()\n",
    "        aA = abs(array(currentAMPA)).argmax()\n",
    "        aN = abs(array(currentNMDA)).argmax()\n",
    "\n",
    "        mes[i,:] = [data[i,3],max(vspneRec[0])-EL,\n",
    "                    max(vDendRec[3])-EL,max(vrec)-EL,\n",
    "                    max(cat)-cat[0],maxGABA,\n",
    "                    array(currentAMPA)[aA],max(abs(current)),\n",
    "                    array(currentNMDA)[aN]]\n",
    "        me2[i,0] = max(vDendRec[3])\n",
    "        me2[i,1:] = [max(vD) for vD in vDendEL]\n",
    "        me3[i,:] = [max(vD) for vD in vDendEL2]\n",
    "\n",
    "        #plot(trec,array(caDendRec[-1])/1e-3)\n",
    "        #ylabel(\"[Ca] (uM)\")\n",
    "        #figure()\n",
    "        #plot(trec,vspneRec[0])\n",
    "        #break\n",
    "\n",
    "    vavg[:,:5] = vavg[:,:5]/vavg[0,6]\n",
    "    vavg[:,1] = sqrt(vavg[:,1]-vavg[:,0]**2)#/sqrt(vavg[0,6])\n",
    "    vavg[:,3] = sqrt(vavg[:,3]-vavg[:,2]**2)#/sqrt(vavg[0,6])\n",
    "    vavg[:,5] = sqrt(vavg[:,5]-vavg[:,4]**2)#/sqrt(vavg[0,6])\n",
    "    return(vavg,mes,vtracs,vtracsD,vtracsS,\n",
    "           Ctracs,me2,me3,array(trec))\n",
    "\n",
    "\n",
    "# In[20]:\n",
    "\n",
    "\n",
    "# In pS/um^2 we change it inside\n",
    "\n",
    "VDCCa =  array([25., 25., 20., 20., 20.])\n",
    "# VDCCa =  array([70., 70., 60., 60., 60.])\n",
    "\n",
    "EL0 = -70\n",
    "# It has to be provided as S/cm^2 -> pS/um^2 = pS/(1e-8 cm^2)=1e-4 S/cm^2\n",
    "\n",
    "\n",
    "# In[22]:\n",
    "\n",
    "\n",
    "\n",
    "\n",
    "# # Baseline conditions\n",
    "\n",
    "# In[23]:\n",
    "\n",
    "\n",
    "with open(datasetfile,\"rb\") as f:\n",
    "    data = pickle.load(f)\n",
    "spdata = dataset(data,noise=0.0)\n",
    "# print(spdata['A1'].shape)\n",
    "spdata['A2'][isnan(spdata['A2'])] = 0.0\n",
    "#spdata['Rneck'] = spdata['Rneck']\n",
    "# print(spdata['A2'].shape)\n",
    "\n",
    "sel = ones(spdata['A2'].shape[0]) == 1\n",
    "keys = list(spdata.keys())\n",
    "# print(keys)\n",
    "keys.pop(12)\n",
    "keys.pop(11)\n",
    "keys.pop(7)\n",
    "keys.pop(3)\n",
    "keys.pop(9)\n",
    "keys.pop(3)\n",
    "#print(keys)\n",
    "\n",
    "for key in keys:\n",
    "    sel = sel*isfinite(spdata[key])\n",
    "    #print(key, isfinite(spdata[key]).sum())\n",
    "for key in spdata.keys():\n",
    "    spdata[key] = spdata[key][sel]\n",
    "    #print(key,':',isfinite(spdata[key]).sum())\n",
    "dendsizeL = max(max(spdata['Dss'])+5,150)\n",
    "# print(spdata['A1'].shape)\n",
    "\n",
    "\n",
    "# In[29]:\n",
    "\n",
    "spdata['Rmorph'] = spdata['Rneck'].copy()\n",
    "spdata['Rneck'] = spdata['Rmorph']*2.5\n",
    "\n",
    "\n",
    "# In[30]:\n",
    "\n",
    "tools.showmessage(\"Baseline experiment\")\n",
    "\n",
    "td = 500\n",
    "res = simulateSet(model,spdata,tG = td,ton = 50,\n",
    "                  toffset = 70,t_stop = 500,\n",
    "                  EL = EL0,btsr = ones(9)==1,\n",
    "                  VDCC = VDCCa,dendrec=False)\n",
    "\n",
    "vavg,mes,vtracs,vtracsD,vtracsS,Ctracs,me2,me3,_ = res\n",
    "mes\n",
    "mes.shape\n",
    "plt.plot(Ctracs[:,0])"
   ]
  },
  {
   "cell_type": "code",
   "execution_count": 4,
   "id": "racial-leeds",
   "metadata": {},
   "outputs": [],
   "source": [
    "mes0 = mes.copy()\n",
    "Ctracs0 = Ctracs.copy()"
   ]
  },
  {
   "cell_type": "code",
   "execution_count": 5,
   "id": "floppy-cloud",
   "metadata": {},
   "outputs": [
    {
     "data": {
      "text/plain": [
       "[<matplotlib.lines.Line2D at 0x7f1b42eadc50>]"
      ]
     },
     "execution_count": 5,
     "metadata": {},
     "output_type": "execute_result"
    },
    {
     "data": {
      "image/png": "[encoded data removed]",
      "text/plain": [
       "<Figure size 432x288 with 1 Axes>"
      ]
     },
     "metadata": {
      "needs_background": "light"
     },
     "output_type": "display_data"
    }
   ],
   "source": [
    "plt.plot(mes[:,0],mes[:,4],'.')"
   ]
  },
  {
   "cell_type": "code",
   "execution_count": 6,
   "id": "applicable-milwaukee",
   "metadata": {},
   "outputs": [
    {
     "name": "stderr",
     "output_type": "stream",
     "text": [
      "run:452: DeprecationWarning: neuron.run(tstop) is deprecated; use h.stdinit() and h.continuerun(tstop) instead\n",
      "run:503: RuntimeWarning: invalid value encountered in sqrt\n",
      "run:504: RuntimeWarning: invalid value encountered in sqrt\n"
     ]
    },
    {
     "data": {
      "text/plain": [
       "[<matplotlib.lines.Line2D at 0x7f1b1a949810>]"
      ]
     },
     "execution_count": 6,
     "metadata": {},
     "output_type": "execute_result"
    },
    {
     "data": {
      "image/png": "[encoded data removed]",
      "text/plain": [
       "<Figure size 432x288 with 1 Axes>"
      ]
     },
     "metadata": {
      "needs_background": "light"
     },
     "output_type": "display_data"
    }
   ],
   "source": [
    "VDCCa =  array([25., 25., 20., 20., 20.])\n",
    "\n",
    "res = simulateSet(model,spdata,tG = td,ton = 50,\n",
    "                  toffset = 70,t_stop = 500,\n",
    "                  EL = EL0,btsr = ones(9)==1,\n",
    "                  VDCC = VDCCa*0,dendrec=False)\n",
    "\n",
    "vavg,mes,vtracs,vtracsD,vtracsS,Ctracs,me2,me3,trec = res\n",
    "mes\n",
    "mes.shape\n",
    "plt.plot(Ctracs[:,0])"
   ]
  },
  {
   "cell_type": "code",
   "execution_count": 7,
   "id": "statutory-desperate",
   "metadata": {},
   "outputs": [
    {
     "data": {
      "text/plain": [
       "Text(0.5, 0, 'Total Ca (uM)')"
      ]
     },
     "execution_count": 7,
     "metadata": {},
     "output_type": "execute_result"
    },
    {
     "data": {
      "image/png": "[encoded data removed]",
      "text/plain": [
       "<Figure size 432x288 with 1 Axes>"
      ]
     },
     "metadata": {
      "needs_background": "light"
     },
     "output_type": "display_data"
    }
   ],
   "source": [
    "plt.plot(mes0[:,4],100*(1-mes[:,4]/mes0[:,4]),'.')\n",
    "plt.ylabel(\"Percentage VDCC-dep Ca\")\n",
    "plt.xlabel(\"Total Ca (uM)\")"
   ]
  },
  {
   "cell_type": "code",
   "execution_count": 8,
   "id": "monthly-hospital",
   "metadata": {},
   "outputs": [
    {
     "data": {
      "text/plain": [
       "Text(0.5, 0, 'Total Ca (uM)')"
      ]
     },
     "execution_count": 8,
     "metadata": {},
     "output_type": "execute_result"
    },
    {
     "data": {
      "image/png": "[encoded data removed]",
      "text/plain": [
       "<Figure size 432x288 with 1 Axes>"
      ]
     },
     "metadata": {
      "needs_background": "light"
     },
     "output_type": "display_data"
    }
   ],
   "source": [
    "sel = mes0[:,4]<3.\n",
    "plt.plot(mes0[sel,4],100*(1-mes[sel,4]/mes0[sel,4]),'.')\n",
    "plt.ylabel(\"Percentage VDCC-dep Ca\")\n",
    "plt.xlabel(\"Total Ca (uM)\")"
   ]
  },
  {
   "cell_type": "code",
   "execution_count": null,
   "id": "referenced-welsh",
   "metadata": {},
   "outputs": [],
   "source": []
  },
  {
   "cell_type": "code",
   "execution_count": null,
   "id": "amended-jesus",
   "metadata": {},
   "outputs": [],
   "source": []
  },
  {
   "cell_type": "code",
   "execution_count": null,
   "id": "built-filling",
   "metadata": {},
   "outputs": [],
   "source": []
  },
  {
   "cell_type": "code",
   "execution_count": null,
   "id": "concrete-description",
   "metadata": {},
   "outputs": [],
   "source": []
  },
  {
   "cell_type": "code",
   "execution_count": 9,
   "id": "governing-juvenile",
   "metadata": {},
   "outputs": [
    {
     "data": {
      "text/plain": [
       "<matplotlib.legend.Legend at 0x7f1b1a7b89d0>"
      ]
     },
     "execution_count": 9,
     "metadata": {},
     "output_type": "execute_result"
    },
    {
     "data": {
      "image/png": "[encoded data removed]",
      "text/plain": [
       "<Figure size 432x288 with 1 Axes>"
      ]
     },
     "metadata": {
      "needs_background": "light"
     },
     "output_type": "display_data"
    }
   ],
   "source": [
    "plt.plot(trec,Ctracs0.mean(-1),label = \"total\")\n",
    "plt.plot(trec,Ctracs0.mean(-1)-Ctracs.mean(-1), label = \"VDCC-dep Ca\")\n",
    "plt.plot(trec,Ctracs.mean(-1), label = \"NMDAR-dep Ca\")\n",
    "plt.ylabel(\"[Ca](uM)\")\n",
    "plt.xlabel(\"t\")\n",
    "plt.legend()"
   ]
  },
  {
   "cell_type": "code",
   "execution_count": 11,
   "id": "actual-logic",
   "metadata": {},
   "outputs": [
    {
     "data": {
      "image/png": "[encoded data removed]",
      "text/plain": [
       "<Figure size 720x288 with 2 Axes>"
      ]
     },
     "metadata": {
      "needs_background": "light"
     },
     "output_type": "display_data"
    }
   ],
   "source": [
    "fig, ax = plt.subplots(1,2, figsize = (10,4))\n",
    "ax[0].plot(trec,Ctracs0.mean(-1),label = \"total\")\n",
    "ax[0].plot(trec,Ctracs0.mean(-1)-Ctracs.mean(-1), label = \"VDCC-dep Ca\")\n",
    "ax[0].plot(trec,Ctracs.mean(-1), label = \"NMDAR-dep Ca\")\n",
    "ax[0].set_ylabel(\"[Ca](uM)\")\n",
    "ax[0].set_xlabel(\"t\")\n",
    "ax[0].legend()\n",
    "sel = mes0[:,4]<3.\n",
    "ax[1].plot(mes0[sel,4],100*(1-mes[sel,4]/mes0[sel,4]),'.', alpha = 0.7)\n",
    "ax[1].set_ylabel(\"Percentage VDCC-dep Ca amplitude\")\n",
    "ax[1].set_xlabel(\"Total Ca (uM)\")\n",
    "fig.savefig(\"fconditions/resub/casources_amplitude.png\", dpi = 300)"
   ]
  },
  {
   "cell_type": "code",
   "execution_count": 10,
   "id": "fc2097f4",
   "metadata": {},
   "outputs": [],
   "source": [
    "import pandas as pd"
   ]
  },
  {
   "cell_type": "code",
   "execution_count": 15,
   "id": "invisible-junction",
   "metadata": {},
   "outputs": [
    {
     "data": {
      "image/png": "[encoded data removed]",
      "text/plain": [
       "<Figure size 720x288 with 2 Axes>"
      ]
     },
     "metadata": {
      "needs_background": "light"
     },
     "output_type": "display_data"
    }
   ],
   "source": [
    "fig, ax = plt.subplots(1,2, figsize = (10,4))\n",
    "ax[0].plot(trec,Ctracs0.mean(-1),label = \"total\")\n",
    "ax[0].plot(trec,Ctracs0.mean(-1)-Ctracs.mean(-1), label = \"VDCC-dep Ca\")\n",
    "ax[0].plot(trec,Ctracs.mean(-1), label = \"NMDAR-dep Ca\")\n",
    "ax[0].set_ylabel(\"$[Ca^{2+}]$ ($\\mu$ M) \")\n",
    "ax[0].set_xlabel(\"t (ms)\")\n",
    "ax[0].legend()\n",
    "xt = np.column_stack((trec,Ctracs0.mean(-1),\n",
    "                      Ctracs0.mean(-1)-Ctracs.mean(-1),\n",
    "                      Ctracs.mean(-1)\n",
    "                     ))\n",
    "pdt1 = pd.DataFrame(xt,columns=[\"t(ms)\",\"Total [Ca^{2+}] (uM)\",\n",
    "                                \"VDCC-dep [Ca^{2+}] (uM)\",\n",
    "                                \"NMDAR-dep [Ca^{2+}] (uM)\"])\n",
    "\n",
    "sel = mes0[:,4]<3.\n",
    "ax[1].plot(mes0[sel,4],100*(1-Ctracs.sum(0)/Ctracs0.sum(0))[sel],'.', alpha = 0.7)\n",
    "ax[1].set_ylabel(\"Percentage VDCC-dep $[Ca^{2+}]$\")\n",
    "ax[1].set_xlabel(\"$\\Delta [Ca^{2+}]_{max}$ ($\\mu$ M)\")\n",
    "\n",
    "fig.savefig(\"fconditions/resub/casources.png\", dpi = 300)\n",
    "fig.savefig(\"fconditions/resub/casources.pdf\", dpi = 300)\n",
    "xt = np.column_stack((mes0[sel,4],\n",
    "                      100*(1-Ctracs.sum(0)/Ctracs0.sum(0))[sel]))\n",
    "pdt2 = pd.DataFrame(xt, columns=[\"[Ca^{2+}]_{max} (uM)\",\"Percentage VDCC-dep [Ca^{2+}]\"])"
   ]
  },
  {
   "cell_type": "code",
   "execution_count": 17,
   "id": "ce76f517",
   "metadata": {},
   "outputs": [],
   "source": [
    "pdt1.to_pickle(\"FiguresData/S9A_data.pkl\")\n",
    "pdt1.to_csv(\"FiguresData/S9A_data.csv\")\n",
    "pdt2.to_pickle(\"FiguresData/S9B_data.pkl\")\n",
    "pdt2.to_csv(\"FiguresData/S9B_data.csv\")"
   ]
  },
  {
   "cell_type": "code",
   "execution_count": 62,
   "id": "spiritual-honduras",
   "metadata": {},
   "outputs": [
    {
     "data": {
      "text/plain": [
       "<matplotlib.legend.Legend at 0x7f09e2d989d0>"
      ]
     },
     "execution_count": 62,
     "metadata": {},
     "output_type": "execute_result"
    },
    {
     "data": {
      "image/png": "[encoded data removed]",
      "text/plain": [
       "<Figure size 720x288 with 2 Axes>"
      ]
     },
     "metadata": {
      "needs_background": "light"
     },
     "output_type": "display_data"
    }
   ],
   "source": [
    "fig, ax = plt.subplots(1,2, figsize = (10,4))\n",
    "ax[0].plot(trec,Ctracs0.mean(-1)+Ctracs0.std(-1),label = \"total\")\n",
    "ax[0].plot(trec,Ctracs0.mean(-1)+Ctracs0.std(-1)-Ctracs.mean(-1)-Ctracs.std(-1), label = \"VDCC-dep Ca\")\n",
    "ax[0].plot(trec,Ctracs.mean(-1)+Ctracs.std(-1), label = \"NMDAR-dep Ca\")\n",
    "ax[0].set_ylabel(\"[Ca](uM)\")\n",
    "ax[0].set_xlabel(\"t\")\n",
    "ax[0].legend()\n",
    "ax[1].plot(trec,Ctracs0.mean(-1)-Ctracs0.std(-1),label = \"total\")\n",
    "ax[1].plot(trec,Ctracs0.mean(-1)-Ctracs0.std(-1)-Ctracs.mean(-1), label = \"VDCC-dep Ca\")\n",
    "ax[1].plot(trec,Ctracs.mean(-1), label = \"NMDAR-dep Ca\")\n",
    "ax[1].set_ylabel(\"[Ca](uM)\")\n",
    "ax[1].set_xlabel(\"t\")\n",
    "ax[1].legend()"
   ]
  },
  {
   "cell_type": "code",
   "execution_count": 52,
   "id": "center-baseball",
   "metadata": {},
   "outputs": [],
   "source": [
    "def plot_shades(data,t,ax=None,c='C0',band= None,label= None,linestyle='-'):\n",
    "    if ax is None:\n",
    "        ax = gca()\n",
    "    vtracso = data*1.0\n",
    "    vtracso.sort(axis=1)\n",
    "    sh = vtracso.shape[1]\n",
    "    nmed = sh//2\n",
    "    nl1, nv1 = int(sh*0.16),int(sh*(1-0.16))\n",
    "    nl2, nv2 = int(sh*0.025),int(sh*(1-0.025))\n",
    "\n",
    "    if band == 0:\n",
    "        pass\n",
    "    elif band == 1:\n",
    "        ax.plot(t,vtracso[:,nv1],color=c,alpha=0.5)\n",
    "        ax.plot(t,vtracso[:,nl1],color=c,alpha=0.5)\n",
    "    elif band ==2:\n",
    "        ax.plot(t,vtracso[:,nl2],vtracso[:,nv2],color=c,alpha=0.3)\n",
    "    else:\n",
    "        ax.plot(t,vtracso[:,nl1],vtracso[:,nv2],color=c,alpha=0.3)\n",
    "        ax.plot(t,vtracso[:,nl1],vtracso[:,nv1],color=c,alpha=0.3)\n",
    "    return(ax)\n"
   ]
  },
  {
   "cell_type": "code",
   "execution_count": 53,
   "id": "genuine-defensive",
   "metadata": {},
   "outputs": [],
   "source": [
    "def plot_intervals(x,y,label, color = \"C0\"):\n",
    "    plt.plot(x,y.mean(-1),label = label)\n",
    "    plot_shades(y, x, band = 1,c=color, label=label)"
   ]
  },
  {
   "cell_type": "code",
   "execution_count": 54,
   "id": "patent-formula",
   "metadata": {},
   "outputs": [
    {
     "data": {
      "text/plain": [
       "<matplotlib.legend.Legend at 0x7f09e5d0b8d0>"
      ]
     },
     "execution_count": 54,
     "metadata": {},
     "output_type": "execute_result"
    },
    {
     "data": {
      "image/png": "[encoded data removed]",
      "text/plain": [
       "<Figure size 432x288 with 1 Axes>"
      ]
     },
     "metadata": {
      "needs_background": "light"
     },
     "output_type": "display_data"
    }
   ],
   "source": [
    "plot_intervals(trec,Ctracs0, color = \"C0\", label = \"total\")\n",
    "plot_intervals(trec,Ctracs0-Ctracs, color=\"C1\",label = \"VDCC-dep Ca\")\n",
    "plot_intervals(trec,Ctracs, color=\"C2\", label = \"NMDAR-dep Ca\")\n",
    "plt.ylabel(\"[Ca](uM)\")\n",
    "plt.xlabel(\"t\")\n",
    "plt.legend()"
   ]
  },
  {
   "cell_type": "code",
   "execution_count": null,
   "id": "starting-advice",
   "metadata": {},
   "outputs": [],
   "source": []
  }
 ],
 "metadata": {
  "kernelspec": {
   "display_name": "Python 3 (ipykernel)",
   "language": "python",
   "name": "python3"
  },
  "language_info": {
   "codemirror_mode": {
    "name": "ipython",
    "version": 3
   },
   "file_extension": ".py",
   "mimetype": "text/x-python",
   "name": "python",
   "nbconvert_exporter": "python",
   "pygments_lexer": "ipython3",
   "version": "3.7.11"
  }
 },
 "nbformat": 4,
 "nbformat_minor": 5
}
