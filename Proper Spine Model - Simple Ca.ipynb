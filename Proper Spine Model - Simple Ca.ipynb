{
 "cells": [
  {
   "cell_type": "markdown",
   "metadata": {},
   "source": [
    "# Spine Model\n"
   ]
  },
  {
   "cell_type": "code",
   "execution_count": 1,
   "metadata": {},
   "outputs": [
    {
     "name": "stdout",
     "output_type": "stream",
     "text": [
      "\t0 \n",
      "\t1 \n",
      "\t1 \n",
      "\t1 \n",
      "\t1 \n",
      "20.0 29.78380012512207 1871.3713533814052 6283.185307179586\n",
      "Topology:\n",
      "\n",
      "|-|       soma(0-1)\n",
      "   `|       dendA1c(0-1)\n",
      "     `|       dendA1(0-1)\n",
      "       `|       DendE(0-1)\n",
      "         `|       DendN(0-1)\n",
      "        `|       NSpne000(0-1)\n",
      "          `|       Spne000(0-1)\n",
      "   `|       dendB1(0-1)\n",
      "\n",
      "1.0\n"
     ]
    }
   ],
   "source": [
    "from numpy import *   #ones, cumsum, sum, isscalar\n",
    "from matplotlib.pylab import * \n",
    "%matplotlib inline\n",
    "plotose = True\n",
    "import pickle\n",
    "\n",
    "import PS_lib as lb\n",
    "import PS_storage as st\n",
    "from bootstrap import btset_cd, generateplots\n",
    "\n",
    "\n",
    "# Parameter definitions\n",
    "# Data is stored here      \n",
    "data = st.dataStorage() # some default parameters defined.\n",
    "data.dt = 0.05\n",
    "data.NMDA = False\n",
    "\n",
    "# Definition of the model.\n",
    "lb.h.dt = data.dt\n",
    "NMDA = data.NMDA\n",
    "model = lb.loadNeuron(\"Basic2.hoc\",axon=False)\n",
    "\n",
    "# Adding piece of dendritic branch with spine\n",
    "model.addDend(name=\"DendE\",locus=\"dendA1\",L=4.0,D=1.5,ilocus=1)\n",
    "model.addSpne(locus=\"DendE\",ilocus=0.5,L=1.0,D=1.0,Lneck=1.0,Dneck=0.15)\n",
    "# Temperature of the neuron\n",
    "lb.h.celsius = model.temperature\n",
    "model.addDend(name=\"DendN\",locus=3,L=240.0,D=0.5,ilocus=1)\n",
    "data.model = model.__dict__\n",
    "\n",
    "model.soma.L = 20\n",
    "model.dend[-1].L = 200\n",
    "model.dend[-1].diam = 10\n",
    "print(model.soma.L,model.soma.diam,model.soma(0.5).area(),model.dend[-1](0.5).area())\n",
    "\n",
    "print(\"Topology:\")\n",
    "print(lb.h.topology())\n"
   ]
  },
  {
   "cell_type": "code",
   "execution_count": 6,
   "metadata": {},
   "outputs": [],
   "source": [
    "#with open(\"data_Fullset/Fullset.pkl\",\"rb\") as f:\n",
    "#    data = pickle.load(f)\n",
    "    \n",
    "dataf = {\n",
    "\"inh shaft\": (-2.01288, 0.606754),\n",
    "\"SiS\": {\n",
    "\"Dss\": (248, 1.0),\n",
    "\"Vh\": (-2.84134 , 0.943684),\n",
    "\"A1\": (-0.2329858,0.41,1.0),\n",
    "\"Ah\": (-0.9274113,1.32,0.66666666667),\n",
    "\"Rh\":  (1.92772, 0.604723),\n",
    "\"Rn\":(4.03436, 1.00208)\n",
    "},\n",
    "\"DiS\": {\n",
    "\"Dss\": (248, 1.0),\n",
    "\"Vh\": (-2.0554,0.742202),\n",
    "\"A1\": (-0.2329858,0.41,1.0),\n",
    "\"Ah\": (-0.9274113,1.32,0.66666666667),\n",
    "\"Rh\": (1.59667,0.436302),  \n",
    "\"Rn\": (3.89941,1.13159),\n",
    "\"A2\": ( -2.54262,0.531551)\n",
    "},\n",
    "}"
   ]
  },
  {
   "cell_type": "markdown",
   "metadata": {},
   "source": [
    "### Recording places\n",
    "\n",
    "We set recording vectors in all dendritic compartments, spine included"
   ]
  },
  {
   "cell_type": "code",
   "execution_count": 7,
   "metadata": {
    "scrolled": false
   },
   "outputs": [],
   "source": [
    "nsp = 500\n",
    "dis = btset_cd(cd='DiS',size=nsp)\n",
    "sis = btset_cd(cd='SiS',size=nsp)\n",
    "sps = btset_cd(cd='Sp',size=nsp)\n",
    "\n",
    "#generateplots(dis,corplot=True)"
   ]
  },
  {
   "cell_type": "code",
   "execution_count": 8,
   "metadata": {
    "scrolled": false
   },
   "outputs": [
    {
     "data": {
      "text/plain": [
       "Text(0.5, 0, 'iPSD shaft ($\\\\mu m^2$)')"
      ]
     },
     "execution_count": 8,
     "metadata": {},
     "output_type": "execute_result"
    },
    {
     "data": {
      "image/png": "[encoded data removed]",
      "text/plain": [
       "<Figure size 432x288 with 1 Axes>"
      ]
     },
     "metadata": {
      "needs_background": "light"
     },
     "output_type": "display_data"
    }
   ],
   "source": [
    "nsp = 500\n",
    "p = dataf[\"inh shaft\"]\n",
    "iPSDsh = exp(randn(nsp)*p[1]+p[0])\n",
    "iPSDsh = exp(randn(nsp)*p[1]+p[0])\n",
    "figure()\n",
    "h = hist(iPSDsh,31)\n",
    "xlabel(\"iPSD shaft ($\\mu m^2$)\",fontsize=14)\n"
   ]
  },
  {
   "cell_type": "code",
   "execution_count": 9,
   "metadata": {},
   "outputs": [],
   "source": [
    "\n",
    "rhGABAR = 500 # Receptors/um2\n",
    "rhAMPAR = 1000 # Receptors/um2\n",
    "rhNMDAR = 10 # Receptors/um2\n",
    "\n",
    "gtrG = rhGABAR*30e-6*2/5.0\n",
    "gtrA = rhAMPAR*11e-6*2/5.0\n",
    "gtrN = rhNMDAR*30e-6/16.0\n",
    "\n",
    "figureplot=False\n",
    "if figureplot:\n",
    "    fig, ax = subplots(nrows=1,ncols=4,figsize=(20,5))\n",
    "    fig.suptitle(\"Number of Receptors\",fontsize = 20)\n",
    "\n",
    "    ax[0].hist(sis['A1']*rhAMPAR,31)\n",
    "    ax[0].set_xlabel(\"#AMPAR in Sis\")\n",
    "    ax[1].hist(dis['A1']*rhAMPAR,31)\n",
    "    ax[1].set_xlabel(\"#AMPAR in Dis\")\n",
    "    ax[2].hist(dis['A2']*rhGABAR,31)\n",
    "    ax[2].set_xlabel(\"#GABAAR in Dis\")\n",
    "    ax[3].hist(iPSDsh*rhGABAR,31)\n",
    "    ax[3].set_xlabel(\"#GABAAR in shaft\")\n",
    "\n",
    "    fig, ax = subplots(nrows=1,ncols=4,figsize=(20,5))\n",
    "    fig.suptitle(\"Max Current\",fontsize = 20)\n",
    "\n",
    "\n",
    "    ax[0].hist(sis['A1']*gtrA/1e-6,31)\n",
    "    ax[0].set_xlabel(\"I$_{max}$ (pA)\")\n",
    "    ax[1].hist(dis['A1']*gtrA/1e-6,31)\n",
    "    ax[1].set_xlabel(\"I$_{max}$ (pA)\")\n",
    "    ax[2].hist(dis['A2']*gtrG/1e-6,31)\n",
    "    ax[2].set_xlabel(\"I$_{max}$ (pA)\")\n",
    "    ax[3].hist(iPSDsh*gtrG/1e-6,31)\n",
    "    ax[3].set_xlabel(\"I$_{max}$ (pA)\")\n",
    "    #savefig(\"D_maxI.png\",bbox_inches='tight',pad_inches = 0)\n"
   ]
  },
  {
   "cell_type": "code",
   "execution_count": 10,
   "metadata": {},
   "outputs": [],
   "source": [
    "\n",
    "#def fx(Dmax,V):\n",
    "#    xx = Dmax\n",
    "#    yy = sqrt(4*V/Dmax/pi)\n",
    "#    return(array([xx,yy]))\n",
    "##                 L  D\n",
    "#\n",
    "#spn = dis\n",
    "#spn[\"D\"] = zeros(nsp)\n",
    "#spn[\"L\"] = zeros(nsp)\n",
    "#spn[\"AhA0\"] = zeros(nsp)\n",
    "\n",
    "#for i in arange(nsp):\n",
    "#    Ah = spn[\"Ah\"][i]\n",
    "#    Vh = spn[\"Vh\"][i]\n",
    "#    Dmax = spn[\"maxDhead\"][i]/1e3\n",
    "#\n",
    "#    L,D = fx(Dmax,Vh)\n",
    "#    spn[\"D\"][i] = D\n",
    "#    spn[\"L\"][i] = L\n",
    "#    spn['AhA0'][i] = Ah/(D*pi*L)\n",
    "#    #\n",
    "#\n",
    "#spn = sis\n",
    "#spn[\"D\"] = zeros(nsp)\n",
    "#spn[\"L\"] = zeros(nsp)\n",
    "#spn[\"AhA0\"] = zeros(nsp)\n",
    "\n",
    "#for i in arange(nsp):\n",
    "#    Ah = spn[\"Ah\"][i]\n",
    "#    Vh = spn[\"Vh\"][i]    \n",
    "#    Dmax = spn[\"maxDhead\"][i]/1e3#\n",
    "\n",
    "#    L,D = fx(Dmax,Vh)\n",
    "#    spn[\"D\"][i] = D\n",
    "#    spn[\"L\"][i] = L\n",
    "#    spn['AhA0'][i] = Ah/(D*pi*L)\n"
   ]
  },
  {
   "cell_type": "code",
   "execution_count": 11,
   "metadata": {},
   "outputs": [
    {
     "data": {
      "image/png": "[encoded data removed]",
      "text/plain": [
       "<Figure size 432x288 with 1 Axes>"
      ]
     },
     "metadata": {
      "needs_background": "light"
     },
     "output_type": "display_data"
    },
    {
     "data": {
      "image/png": "[encoded data removed]",
      "text/plain": [
       "<Figure size 432x288 with 1 Axes>"
      ]
     },
     "metadata": {
      "needs_background": "light"
     },
     "output_type": "display_data"
    }
   ],
   "source": [
    "figureplot=True\n",
    "if figureplot:\n",
    "    spn = sis\n",
    "    plot(spn['D'],spn['L'],'.',alpha=0.5)\n",
    "    spn = dis\n",
    "    plot(spn['D'],spn['L'],'.',alpha=0.5)\n",
    "    xlabel(\"Diameter\")\n",
    "    ylabel('Length')\n",
    "\n",
    "    #figure()\n",
    "    #plot(spn['D']**2*pi*spn['L']/4,spn['Vh'],'.')\n",
    "    figure()\n",
    "    hist(spn['Ah']/(spn['D']*pi*spn['L']),51)"
   ]
  },
  {
   "cell_type": "code",
   "execution_count": 12,
   "metadata": {},
   "outputs": [
    {
     "name": "stdout",
     "output_type": "stream",
     "text": [
      "1.0 1.5\n",
      "200.24984394500785 1.5000000000000002\n",
      "50.15974481593781 1.5\n",
      "4.0 1.5\n",
      "200.0 10.0\n"
     ]
    }
   ],
   "source": [
    "for dend in model.dend:\n",
    "    print(dend.L,dend.diam)"
   ]
  },
  {
   "cell_type": "code",
   "execution_count": 13,
   "metadata": {},
   "outputs": [
    {
     "name": "stdout",
     "output_type": "stream",
     "text": [
      "3.141592653589793 0.7853981633974483 3.141592653589793 0.7853981633974483\n",
      "Area Volume Ah Vh\n",
      "0.8381525649151899 0.09062862386844604 0.8381525649151897 0.09062862386844603\n"
     ]
    }
   ],
   "source": [
    "sp = model.spne[0]\n",
    "print(sp(0.5).area(),sp(0.5).volume(),sp.diam*sp.L*pi,sp.diam**2*sp.L*pi/4.0)\n",
    "\n",
    "sp.L = dis[\"L\"][0]\n",
    "sp.diam = dis[\"D\"][0]\n",
    "print(\"Area Volume Ah Vh\")\n",
    "print(sp(0.5).area(),sp(0.5).volume(),dis[\"Ah\"][0]/dis[\"AhA0\"][0],dis[\"Vh\"][0])\n"
   ]
  },
  {
   "cell_type": "markdown",
   "metadata": {},
   "source": [
    "### Excitatory synapse \n",
    "\n",
    "We need to define the arrival time and dynamics. These parameters may be modified later"
   ]
  },
  {
   "cell_type": "code",
   "execution_count": 14,
   "metadata": {},
   "outputs": [],
   "source": [
    "lb.init_active(model, axon=False, soma=False, dend=False, dendNa=False,\n",
    "                dendCa=False,spne=True)"
   ]
  },
  {
   "cell_type": "code",
   "execution_count": 15,
   "metadata": {},
   "outputs": [],
   "source": [
    "model.AMPAlist = []\n",
    "model.ncAMPAlist = []\n",
    "\n",
    "AMPA = lb.h.Exp2Syn(1,sec = model.spne[0])\n",
    "tau1  = 0.5\n",
    "tau2 = 3.0\n",
    "AMPA.tau1 = tau1\n",
    "AMPA.tau2 = tau2\n",
    "\n",
    "nampa = 50\n",
    "gmax = 15*nampa/1e6\n",
    "stimE=lb.h.NetStim();stimE.number = 1; \n",
    "NC = lb.h.NetCon(stimE,AMPA,0,0,gmax)\n",
    "\n",
    "model.AMPAlist.append(AMPA)\n",
    "model.ncAMPAlist.append(NC)\n",
    "NC.delay = 10\n",
    "\n",
    "# NMDA part\n",
    "nnmda = 2\n",
    "gmaxN = 50*nnmda/1e6\n",
    "lb.add_NMDAsyns(model, locs=[[0,0.5]], gmax=gmaxN,tau2=20.0)  \n",
    "NMDA = model.NMDAlist[0]\n",
    "NCN = model.ncNMDAlist[0]\n",
    "stimN=lb.h.NetStim();stimN.number = 1;\n",
    "NCN = lb.h.NetCon(stimN,NMDA,0,0,gmaxN)\n",
    "model.ncNMDAlist[0] = NCN\n",
    "NMDA.tau1 = 2.0\n",
    "NMDA.tau2 = 30.0\n"
   ]
  },
  {
   "cell_type": "markdown",
   "metadata": {},
   "source": [
    "### Inhibitory synapse"
   ]
  },
  {
   "cell_type": "code",
   "execution_count": 16,
   "metadata": {},
   "outputs": [],
   "source": [
    "nGABA = 35\n",
    "gmaxG = nGABA*30e-6\n",
    "lb.add_GABAsyns(model, locs=[[0,1]], spne=True, gmax=gmaxG,tau1=1.5,tau2=15.0)  \n",
    "GABA = model.GABAlist[0]\n",
    "NCG = model.ncGABAlist[0]\n",
    "stimG=lb.h.NetStim();stimG.number = 1;\n",
    "NCG = lb.h.NetCon(stimG,GABA,0,0,gmaxG)\n",
    "model.ncGABAlist[0] = NCG"
   ]
  },
  {
   "cell_type": "code",
   "execution_count": null,
   "metadata": {},
   "outputs": [],
   "source": []
  },
  {
   "cell_type": "code",
   "execution_count": 17,
   "metadata": {},
   "outputs": [
    {
     "data": {
      "text/plain": [
       "Vector[16]"
      ]
     },
     "execution_count": 17,
     "metadata": {},
     "output_type": "execute_result"
    }
   ],
   "source": [
    "trec, vrec = lb.h.Vector(), lb.h.Vector()\n",
    "gRec, iRec,  vspneRec = [], [], []\n",
    "gNMDA_rec, iNMDA_rec = [], []\n",
    "trec.record(lb.h._ref_t)\n",
    "vrec.record(model.soma(0.5)._ref_v)\n",
    "\n",
    "\n",
    "#n=0\n",
    "vDendRec = []\n",
    "caDendRec = []\n",
    "#For all dendrites\n",
    "for dend in model.dend:\n",
    "    #Adding vectors for Voltage, and Calcium\n",
    "    vDendRec.append(lb.h.Vector())\n",
    "    caDendRec.append(lb.h.Vector())\n",
    "    # Placing recording at mid-point in the dendritic branch\n",
    "    vDendRec[-1].record(dend(0.5)._ref_v)\n",
    "    # NO CALCIUM!?!?!\n",
    "#Probably better to organize them in a dictionary        \n",
    "vDendRec[1].record(model.dend[1](1.0)._ref_v)\n",
    "\n",
    "# Spine voltage recording stuff\n",
    "vspneRec.append(lb.h.Vector())\n",
    "vspneRec.append(lb.h.Vector())\n",
    "sp = model.spne[0]\n",
    "vspneRec[0].record(sp(0.5)._ref_v)\n",
    "sp = model.neck[0]\n",
    "vspneRec[1].record(sp(0.5)._ref_v)\n",
    "\n",
    "# Calcim\n",
    "\n",
    "caDendRec = []\n",
    "sp = model.spne[0]\n",
    "caDendRec.append(lb.h.Vector())\n",
    "caDendRec.append(lb.h.Vector())\n",
    "caDendRec.append(lb.h.Vector())\n",
    "caDendRec[0].record(sp(0.5)._ref_ical) \n",
    "caDendRec[1].record(model.NMDAlist[0]._ref_i)\n",
    "caDendRec[2].record(sp(1.0)._ref_cai) \n"
   ]
  },
  {
   "cell_type": "code",
   "execution_count": 18,
   "metadata": {},
   "outputs": [],
   "source": [
    "vDendEL = []\n",
    "dend = model.dend[1]\n",
    "for i in range(10):\n",
    "    vDendEL.append(lb.h.Vector())\n",
    "    vDendEL[-1].record(dend((i+1.0)/10.0)._ref_v)"
   ]
  },
  {
   "cell_type": "code",
   "execution_count": 19,
   "metadata": {},
   "outputs": [],
   "source": [
    "vDendEL2 = []\n",
    "dend = model.dend[-1]\n",
    "for i in range(10):\n",
    "    vDendEL2.append(lb.h.Vector())\n",
    "    vDendEL2[-1].record(dend((i+1.0)/10.0)._ref_v)"
   ]
  },
  {
   "cell_type": "code",
   "execution_count": 20,
   "metadata": {},
   "outputs": [
    {
     "data": {
      "text/plain": [
       "[dendA1c, dendA1, dendB1, DendE, DendN]"
      ]
     },
     "execution_count": 20,
     "metadata": {},
     "output_type": "execute_result"
    }
   ],
   "source": [
    "model.dend"
   ]
  },
  {
   "cell_type": "code",
   "execution_count": 21,
   "metadata": {},
   "outputs": [],
   "source": [
    "iRec.append(lb.h.Vector())\n",
    "iRec.append(lb.h.Vector())\n",
    "currentAMPA = iRec[0]\n",
    "currentGABA = iRec[1]"
   ]
  },
  {
   "cell_type": "code",
   "execution_count": 22,
   "metadata": {},
   "outputs": [
    {
     "data": {
      "text/plain": [
       "Vector[38]"
      ]
     },
     "execution_count": 22,
     "metadata": {},
     "output_type": "execute_result"
    }
   ],
   "source": [
    "currentAMPA.record(AMPA._ref_i)\n",
    "currentGABA.record(GABA._ref_i)"
   ]
  },
  {
   "cell_type": "code",
   "execution_count": 23,
   "metadata": {},
   "outputs": [
    {
     "name": "stdout",
     "output_type": "stream",
     "text": [
      "10.0 1.0\n",
      "178.0 0.5 31.830988618379067\n",
      "1.0 0.5 1165.014183432674\n",
      "The resistance of neck and the dendritic impedance are 141.47 and 1171 MΩ (resp.)\n"
     ]
    }
   ],
   "source": [
    "dendsizeL0 = 10\n",
    "dendsizeL = max(max(max(dis['Dss'])+10,max(sis['Dss'])+10),178)\n",
    "neck = model.neck[0]\n",
    "Rneck = neck.L*1e-6/(neck.diam*1e-6/2.0)**2/pi*neck.Ra/100\n",
    "dend = model.dend[0]\n",
    "dend.L = dendsizeL0\n",
    "dend.diam = 1.0\n",
    "print(dend.L,dend.diam)\n",
    "Rdend = dend.L*1e-6/(dend.diam*1e-6/2.0)**2/pi*dend.Ra/100\n",
    "Rdendf = Rdend\n",
    "dend = model.dend[1]\n",
    "dendc = model.dend[1]\n",
    "dendc.L = dendsizeL\n",
    "dend.diam = 0.5\n",
    "print(dend.L,dend.diam,Rdend/1e6)\n",
    "Rdend +=dend.L*1e-6/2.0/(dend.diam*1e-6/2.0)**2/pi*dend.Ra/100\n",
    "dend = model.dend[-1]\n",
    "dend.diam = 0.5\n",
    "dendsh = model.dend[-1]\n",
    "dend.L = 1\n",
    "print(dend.L,dend.diam,Rdend/1e6)\n",
    "Rdend +=dend.L*1e-6/2.0/(dend.diam*1e-6/2.0)**2/pi*dend.Ra/100\n",
    "Rdendf +=dend.L*1e-6/2.0/(dend.diam*1e-6/2.0)**2/pi*dend.Ra/100\n",
    "print(\"The resistance of neck and the dendritic impedance are %.2f and %2.f MΩ (resp.)\" %(Rneck/1e6,Rdend/1e6))"
   ]
  },
  {
   "cell_type": "code",
   "execution_count": 24,
   "metadata": {},
   "outputs": [],
   "source": [
    "#model.soma.diam = model.soma.L\n",
    "dendN = model.dend[-1]\n",
    "dendN.L = 1"
   ]
  },
  {
   "cell_type": "code",
   "execution_count": 25,
   "metadata": {},
   "outputs": [],
   "source": [
    "dendsh.diam = 0.5\n",
    "dendc.diam = 0.5\n",
    "dendN.diam = 0.5        "
   ]
  },
  {
   "cell_type": "code",
   "execution_count": null,
   "metadata": {},
   "outputs": [],
   "source": []
  },
  {
   "cell_type": "code",
   "execution_count": 26,
   "metadata": {},
   "outputs": [
    {
     "name": "stdout",
     "output_type": "stream",
     "text": [
      "3.6579425962103955\n"
     ]
    }
   ],
   "source": [
    "rhosp = 1.3\n",
    "dendareaperL = rhosp*mean(sps['Ah'])+(pi*0.5)\n",
    "factor = dendareaperL/(pi*0.5)\n",
    "print(factor)\n",
    "dendN.cm = 3.5\n",
    "dendc.cm = 3.5"
   ]
  },
  {
   "cell_type": "code",
   "execution_count": 27,
   "metadata": {},
   "outputs": [
    {
     "name": "stdout",
     "output_type": "stream",
     "text": [
      "100 100\n"
     ]
    }
   ],
   "source": [
    "dendc.nseg = int(dendc.L//10)+1\n",
    "dendN.nseg = int(dendN.L//10)+1\n",
    "\n",
    "dendc.nseg = 100\n",
    "dendN.nseg = 100\n",
    "print(dendc.nseg,dendN.nseg)"
   ]
  },
  {
   "cell_type": "code",
   "execution_count": null,
   "metadata": {},
   "outputs": [],
   "source": []
  },
  {
   "cell_type": "markdown",
   "metadata": {},
   "source": [
    "## Plots\n",
    "\n",
    "xkcd is to give it non serious appearance"
   ]
  },
  {
   "cell_type": "code",
   "execution_count": 28,
   "metadata": {},
   "outputs": [],
   "source": [
    "gtrG = rhGABAR*30e-6*2/5.0\n",
    "gtrA = rhAMPAR*11e-6*3/5.0\n",
    "gtrN = rhNMDAR*30e-6*1.0/16.0/4.0/1.27"
   ]
  },
  {
   "cell_type": "code",
   "execution_count": 29,
   "metadata": {},
   "outputs": [
    {
     "data": {
      "text/plain": [
       "2.3358003708047774"
      ]
     },
     "execution_count": 29,
     "metadata": {},
     "output_type": "execute_result"
    }
   ],
   "source": [
    "mean(spn[\"A1\"][:])*rhNMDAR"
   ]
  },
  {
   "cell_type": "code",
   "execution_count": null,
   "metadata": {},
   "outputs": [],
   "source": []
  },
  {
   "cell_type": "code",
   "execution_count": 30,
   "metadata": {},
   "outputs": [
    {
     "name": "stdout",
     "output_type": "stream",
     "text": [
      "141.4710605261292\n"
     ]
    }
   ],
   "source": [
    "diam0 = 0.15\n",
    "Rneck0 = Rneck/1e6\n",
    "Cm0 = model.CM\n",
    "print(Rneck0)"
   ]
  },
  {
   "cell_type": "code",
   "execution_count": 31,
   "metadata": {},
   "outputs": [
    {
     "data": {
      "text/plain": [
       "180.0"
      ]
     },
     "execution_count": 31,
     "metadata": {},
     "output_type": "execute_result"
    }
   ],
   "source": [
    "dendsh.L+dendc.L+dendN.L"
   ]
  },
  {
   "cell_type": "code",
   "execution_count": 32,
   "metadata": {},
   "outputs": [
    {
     "data": {
      "text/plain": [
       "1.541628244731153"
      ]
     },
     "execution_count": 32,
     "metadata": {},
     "output_type": "execute_result"
    }
   ],
   "source": [
    "mean(gtrA*spn[\"A1\"][:])/1e-3"
   ]
  },
  {
   "cell_type": "code",
   "execution_count": 33,
   "metadata": {},
   "outputs": [
    {
     "name": "stdout",
     "output_type": "stream",
     "text": [
      "141.4710605261292\n"
     ]
    }
   ],
   "source": [
    "Rneck = neck.Ra*neck.L/(neck.diam)**2*0.04/pi\n",
    "print(Rneck)"
   ]
  },
  {
   "cell_type": "code",
   "execution_count": 34,
   "metadata": {},
   "outputs": [
    {
     "data": {
      "text/plain": [
       "0.2115850069217095"
      ]
     },
     "execution_count": 34,
     "metadata": {},
     "output_type": "execute_result"
    }
   ],
   "source": [
    "min(sps['Ln'])"
   ]
  },
  {
   "cell_type": "code",
   "execution_count": 35,
   "metadata": {},
   "outputs": [
    {
     "data": {
      "text/plain": [
       "Series([], Name: Dss, dtype: float64)"
      ]
     },
     "execution_count": 35,
     "metadata": {},
     "output_type": "execute_result"
    }
   ],
   "source": [
    "sps['Dss'][isnan(sps['Dss'])]"
   ]
  },
  {
   "cell_type": "code",
   "execution_count": 36,
   "metadata": {},
   "outputs": [
    {
     "data": {
      "text/plain": [
       "Series([], Name: Ln, dtype: float64)"
      ]
     },
     "execution_count": 36,
     "metadata": {},
     "output_type": "execute_result"
    }
   ],
   "source": [
    "sps['Ln'][isnan(sps['Ln'])]"
   ]
  },
  {
   "cell_type": "code",
   "execution_count": 37,
   "metadata": {
    "scrolled": false
   },
   "outputs": [],
   "source": [
    "\n",
    "def simulateSet(model,spn,tG = 500,ton = 50,toffset = 50,t_stop = 250, EL = -65,btsr = None):\n",
    "    if btsr is None:\n",
    "        btsr = ones(9)==0\n",
    "    model.E_PAS = EL\n",
    "    model.soma.e_pas = model.E_PAS\n",
    "    for dendp in model.dend:\n",
    "        dendp.e_pas = model.E_PAS\n",
    "    for sp in model.spne:\n",
    "        sp.e_pas = model.E_PAS\n",
    "\n",
    "    dendsh = model.dend[-2]\n",
    "    dendc = model.dend[1]\n",
    "    dendN = model.dend[-1]\n",
    "    neck = model.neck[0]\n",
    "    sp = model.spne[0]\n",
    "    dshL = dendsh.L\n",
    "    dendsizeL = dendsh.L+dendc.L+dendN.L\n",
    "    data = column_stack((spn[\"A1\"],spn[\"A1\"],spn[\"A2\"],spn[\"Rneck\"],spn[\"Dss\"],spn[\"L\"],spn[\"D\"],spn[\"Ln\"],spn[\"AhA0\"]))\n",
    "    for i in range(9):\n",
    "        if ~btsr[i]:\n",
    "            data[:,i] = data[:,i].mean()\n",
    "            \n",
    "    mes = zeros((nsp,9))\n",
    "    me2 = zeros((nsp,11))\n",
    "    me3 = zeros((nsp,10))\n",
    "\n",
    "    vavg = zeros((int(t_stop/lb.h.dt+1),7))\n",
    "    vtracs = zeros((int(t_stop/lb.h.dt+1),500))\n",
    "    Ctracs = zeros((int(t_stop/lb.h.dt+1),500))\n",
    "    vtracsD = zeros((int(t_stop/lb.h.dt+1),500))\n",
    "    vtracsS = zeros((int(t_stop/lb.h.dt+1),500))\n",
    "    for i in arange(nsp):\n",
    "        NC.weight[0]  = data[i,0] *gtrA#/2\n",
    "        NCN.weight[0] = data[i,1] *gtrN#*0#*0\n",
    "        NCG.weight[0] = data[i,2] *gtrG#*0\n",
    "        \n",
    "        neck.L = data[i,7]  \n",
    "        Rneck0 = neck.Ra*neck.L/(diam0)**2*0.04/pi\n",
    "        #print(Rneck0,data[i,3])\n",
    "        neck.diam = diam0*sqrt(Rneck0/data[i,3])\n",
    "        \n",
    "        posD = data[i,4]\n",
    "        \n",
    "        dendc.L = posD-dshL/2\n",
    "        dendN.L = dendsizeL-posD-dshL/2\n",
    "\n",
    "        \n",
    "        # A = pi*D**2\n",
    "        sp.L = data[i,5]\n",
    "        sp.diam = data[i,6]\n",
    "        sp.cm = data[i,8]\n",
    "        spvol = sp(0.5).volume()\n",
    "        spineArea =  sp(0.5).area()#sp.L*sp.diam+1.8*sp.diam**2/4 # um^2\n",
    "        \n",
    "        CaTcond = 2e6# pS\n",
    "        #sp.gbar_itL = 0.0*0.15*CaTcond/spineArea*1e-10\n",
    "        #sp.gbar_ca = 1.0*100*CaTcond/spineArea*1e-10\n",
    "        #sp.gbar_it = 0.0*0.15*CaTcond/spineArea*1e-10\n",
    "        \n",
    "        NC.delay = toffset+ton-50\n",
    "        NCN.delay = toffset+ton-50\n",
    "        NCG.delay = toffset+tG#-50\n",
    "\n",
    "        for il in range(10):\n",
    "            f = 1-7.5*il/dendc.L\n",
    "            #f = 0.5\n",
    "            if f>=0:\n",
    "                vDendEL[il].record(dendc(f)._ref_v)\n",
    "            else:\n",
    "                vDendEL[il].record(dendc(0.0)._ref_v)\n",
    "        \n",
    "        for il in range(10):\n",
    "            f = 7.5*il/dendc.L\n",
    "            #f = 0.5\n",
    "            if f<=1:\n",
    "                vDendEL2[il].record(dendN(f)._ref_v)\n",
    "            else:\n",
    "                vDendEL2[il].record(dendN(1.0)._ref_v)\n",
    "                \n",
    "        lb.h.finitialize(model.E_PAS)\n",
    "        \n",
    "        \n",
    "\n",
    "                    \n",
    "        #print(data[i,:])\n",
    "        lb.neuron.run(t_stop)\n",
    "        \n",
    "        #plot(trec,vspneRec[0])    \n",
    "        \n",
    "        current = abs((array(vDendRec[1])-array(vrec[0]))/Rdend)\n",
    "        \n",
    "        vtracs[:,i] = array(vspneRec[0]) \n",
    "        vtracsD[:,i] = array(vDendRec[1])\n",
    "        #vtracsD[:,i] = array(vDendEL[0])\n",
    "        vtracsS[:,i] = array(vrec) \n",
    "\n",
    "        vavg[:,0] += array(vspneRec[0]) \n",
    "        vavg[:,1] += array(vspneRec[0])**2\n",
    "        vavg[:,2] += array(vDendRec[1]) \n",
    "        vavg[:,3] += array(vDendRec[1])**2\n",
    "        vavg[:,4] += array(vrec) \n",
    "        vavg[:,5] += array(vrec)**2\n",
    "        vavg[:,6] += 1\n",
    "            \n",
    "        cat = array(caDendRec[-1])/1e-3\n",
    "        Ctracs[:,i] = cat-cat[0] \n",
    "        aG = abs(array(currentGABA)).argmax()\n",
    "        aA = abs(array(currentAMPA)).argmax()\n",
    "        \n",
    "        mes[i,:] = [data[i,3],max(vspneRec[0]),max(vDendRec[3]),max(vrec),max(cat)-cat[0],array(currentGABA)[aG],array(currentAMPA)[aA],spvol,max(current)]\n",
    "        me2[i,0] = max(vDendRec[3])\n",
    "        me2[i,1:] = [max(vD) for vD in vDendEL]\n",
    "        me3[i,:] = [max(vD) for vD in vDendEL2]\n",
    "\n",
    "        #plot(trec,array(caDendRec[-1])/1e-3)\n",
    "        #ylabel(\"[Ca] (uM)\")\n",
    "        #figure()\n",
    "        #plot(trec,vspneRec[0])\n",
    "        #break\n",
    "        \n",
    "    vavg[:,:5] = vavg[:,:5]/vavg[0,6]\n",
    "    vavg[:,1] = sqrt(vavg[:,1]-vavg[:,0]**2)#/sqrt(vavg[0,6])\n",
    "    vavg[:,3] = sqrt(vavg[:,3]-vavg[:,2]**2)#/sqrt(vavg[0,6])\n",
    "    vavg[:,5] = sqrt(vavg[:,5]-vavg[:,4]**2)#/sqrt(vavg[0,6])\n",
    "    return(vavg,mes,vtracs,vtracsD,vtracsS,Ctracs,me2,me3)"
   ]
  },
  {
   "cell_type": "code",
   "execution_count": 38,
   "metadata": {
    "scrolled": true
   },
   "outputs": [],
   "source": [
    "#vavg,mes,vtracs,vtracsD,vtracsS,Ctracs,me2,me3 = simulateSet(model,sps,tG = 500,ton = 50,toffset = 50,t_stop = 250, EL = -65,btsr = ones(9)==0)"
   ]
  },
  {
   "cell_type": "code",
   "execution_count": 41,
   "metadata": {},
   "outputs": [],
   "source": [
    "sp.insert('caq'); sp.pcaqbar_caq = 6.0e-6 \n",
    "#sp.insert('can'); sp.pbar_can = 1.0e-5      \n",
    "# (HVA) L - type\n",
    "#sp.insert('caL'); sp.pbar_caL = 6.7e-6      \n",
    "# (Cav1.3) L - type\n",
    "#sp.insert('caL13'); sp.pcaLbar_caL13 = 1.7e-6"
   ]
  },
  {
   "cell_type": "code",
   "execution_count": null,
   "metadata": {},
   "outputs": [],
   "source": [
    "spn = sps\n",
    "btsr = ones(9)==0\n",
    "t_stop = 1000\n",
    "EL = -65\n",
    "model.E_PAS = EL\n",
    "model.soma.e_pas = model.E_PAS\n",
    "for dendp in model.dend:\n",
    "    dendp.e_pas = model.E_PAS\n",
    "for sp in model.spne:\n",
    "    sp.e_pas = model.E_PAS\n",
    "\n",
    "dendsh = model.dend[-2]\n",
    "dendc = model.dend[1]\n",
    "dendN = model.dend[-1]\n",
    "neck = model.neck[0]\n",
    "sp = model.spne[0]\n",
    "dshL = dendsh.L\n",
    "dendsizeL = dendsh.L+dendc.L+dendN.L\n",
    "data = column_stack((spn[\"A1\"],spn[\"A1\"],spn[\"A2\"],spn[\"Rneck\"],spn[\"Dss\"],spn[\"L\"],spn[\"D\"],spn[\"Ln\"],spn[\"AhA0\"]))\n",
    "for i in range(9):\n",
    "    if ~btsr[i]:\n",
    "        data[:,i] = data[:,i].mean()\n",
    "\n",
    "mes = zeros((nsp,9))\n",
    "me2 = zeros((nsp,11))\n",
    "me3 = zeros((nsp,10))\n",
    "\n",
    "vavg = zeros((int(t_stop/lb.h.dt+1),7))\n",
    "vtracs = zeros((int(t_stop/lb.h.dt+1),500))\n",
    "Ctracs = zeros((int(t_stop/lb.h.dt+1),500))\n",
    "vtracsD = zeros((int(t_stop/lb.h.dt+1),500))\n",
    "vtracsS = zeros((int(t_stop/lb.h.dt+1),500))\n",
    "\n",
    "\n",
    "i = 0    \n",
    "toffset = 50\n",
    "ton = 10\n",
    "tG = 500\n",
    "NC.weight[0]  = data[i,0] *gtrA#/2\n",
    "NCN.weight[0] = data[i,1] *gtrN#*0#*0\n",
    "NCG.weight[0] = data[i,2] *gtrG#*0\n",
    "\n",
    "neck.L = data[i,7]  \n",
    "Rneck0 = neck.Ra*neck.L/(diam0)**2*0.04/pi\n",
    "#print(Rneck0,data[i,3])\n",
    "neck.diam = diam0*sqrt(Rneck0/data[i,3])\n",
    "\n",
    "posD = data[i,4]\n",
    "\n",
    "dendc.L = posD-dshL/2\n",
    "dendN.L = dendsizeL-posD-dshL/2\n",
    "\n",
    "\n",
    "# A = pi*D**2\n",
    "sp.L = data[i,5]\n",
    "sp.diam = data[i,6]\n",
    "sp.cm = data[i,8]\n",
    "spvol = sp(0.5).volume()\n",
    "spineArea =  sp(0.5).area()#sp.L*sp.diam+1.8*sp.diam**2/4 # um^2\n",
    "\n",
    "CaTcond = 2e6# pS\n",
    "#sp.gbar_itL = 0.0*0.15*CaTcond/spineArea*1e-10\n",
    "#sp.gbar_ca = 1.0*100*CaTcond/spineArea*1e-10\n",
    "#sp.gbar_it = 0.0*0.15*CaTcond/spineArea*1e-10\n",
    "\n",
    "NC.delay = toffset+ton-50\n",
    "NCN.delay = toffset+ton-50\n",
    "NCG.delay = toffset+tG#-50\n",
    "\n",
    "for il in range(10):\n",
    "    f = 1-7.5*il/dendc.L\n",
    "    #f = 0.5\n",
    "    if f>=0:\n",
    "        vDendEL[il].record(dendc(f)._ref_v)\n",
    "    else:\n",
    "        vDendEL[il].record(dendc(0.0)._ref_v)\n",
    "\n",
    "for il in range(10):\n",
    "    f = 7.5*il/dendc.L\n",
    "    #f = 0.5\n",
    "    if f<=1:\n",
    "        vDendEL2[il].record(dendN(f)._ref_v)\n",
    "    else:\n",
    "        vDendEL2[il].record(dendN(1.0)._ref_v)\n",
    "\n",
    "\n",
    "\n",
    "lb.h.finitialize(model.E_PAS)\n",
    "\n",
    "lb.neuron.run(t_stop)"
   ]
  },
  {
   "cell_type": "code",
   "execution_count": null,
   "metadata": {},
   "outputs": [],
   "source": [
    "mm = me2*1.0\n",
    "mm = mm+65\n",
    "mm[:,1:] = (mm[:,1:].transpose() /mm[:,0]).transpose()\n",
    "mt = mm[:,1:].mean(axis=0)\n",
    "mts = mm[:,1:].std(axis=0)\n",
    "xt = arange(0,10)*7.5\n",
    "plot(xt,mt,'-')\n",
    "fill_between(xt,mt-mts,mt+mts,alpha=0.7)\n",
    "ms = mean((mes[:,3]+65)/mm[:,0])\n",
    "mss = std((mes[:,3]+65)/mm[:,0])\n",
    "plot(xt,xt*0+ms,'k--')\n",
    "fill_between(xt,xt*0+ms+mss,xt*0+ms-mss,color='k',alpha=0.7)\n",
    "\n",
    "xlabel(\"distance($\\mu m$)\")\n",
    "figure()\n",
    "for i in range(500):\n",
    "    xe,ye  = 1.0*xt,1.0*mm[i,1:]\n",
    "    sel = (ye[1:]-ye[:-1])>=0\n",
    "    if sel.sum()>0:\n",
    "        sel = 1+arange(9)[sel][0]\n",
    "        xe = xe[:sel]\n",
    "        ye = ye[:sel]\n",
    "    plot(xe,ye,'k-',alpha=0.1)\n",
    "plot(xt,mt,'-')\n",
    "fill_between(xt,mt-mts,mt+mts,alpha=0.7)\n",
    "\n",
    "plot(xt,xt*0+ms,'k--')\n",
    "fill_between(xt,xt*0+ms+mss,xt*0+ms-mss,color='k',alpha=0.7)\n",
    "#grid()\n",
    "xlabel(\"distance($\\mu m$)\")"
   ]
  },
  {
   "cell_type": "code",
   "execution_count": null,
   "metadata": {},
   "outputs": [],
   "source": [
    "\n",
    "\n",
    "mm = me3*1.0\n",
    "mm = column_stack((me2[:,0],mm))\n",
    "mm = mm+65\n",
    "mm[:,1:] = (mm[:,1:].transpose() /mm[:,0]).transpose()\n",
    "mt = mm[:,1:].mean(axis=0)\n",
    "mts = mm[:,1:].std(axis=0)\n",
    "xt = arange(0,10)*7.5\n",
    "plot(xt,mt,'-')\n",
    "fill_between(xt,mt-mts,mt+mts,alpha=0.7)\n",
    "\n",
    "mmn = 1.0*mm\n",
    "mtn,mtsn = mt,mts\n",
    "\n",
    "mm = me2*1.0\n",
    "mm = mm+65\n",
    "mm[:,1:] = (mm[:,1:].transpose() /mm[:,0]).transpose()\n",
    "mt = mm[:,1:].mean(axis=0)\n",
    "mts = mm[:,1:].std(axis=0)\n",
    "xt = -arange(0,10)*7.5\n",
    "plot(xt,mt,'C1-')\n",
    "fill_between(xt,mt-mts,mt+mts,alpha=0.7)\n",
    "ms = mean((mes[:,3]+65)/mm[:,0])\n",
    "mss = std((mes[:,3]+65)/mm[:,0])\n",
    "plot(xt,xt*0+ms,'k--')\n",
    "fill_between(xt,xt*0+ms+mss,xt*0+ms-mss,color='k',alpha=0.7)\n",
    "\n",
    "xlabel(\"distance($\\mu m$)\")\n",
    "figure()\n",
    "for i in range(500):\n",
    "    xe,ye  = 1.0*xt,1.0*mm[i,1:]\n",
    "    sel = (ye[1:]-ye[:-1])>=0\n",
    "    if sel.sum()>0:\n",
    "        sel = 1+arange(9)[sel][0]\n",
    "        xe = xe[:sel]\n",
    "        ye = ye[:sel]\n",
    "    plot(xe,ye,'k-',alpha=0.1)\n",
    "    \n",
    "    xe,ye  = -1.0*xt,1.0*mmn[i,1:]\n",
    "    sel = (ye[1:]-ye[:-1])>=0\n",
    "    if sel.sum()>0:\n",
    "        sel = 1+arange(9)[sel][0]\n",
    "        xe = xe[:sel]\n",
    "        ye = ye[:sel]\n",
    "    plot(xe,ye,'k-',alpha=0.1)\n",
    "    \n",
    "plot(xt,mt,'-')\n",
    "fill_between(xt,mt-mts,mt+mts,alpha=0.7)\n",
    "plot(-xt,mtn,'C1-')\n",
    "fill_between(-xt,mtn-mtsn,mtn+mtsn,alpha=0.7)\n",
    "\n",
    "\n",
    "plot(xt,xt*0+ms,'k--')\n",
    "fill_between(xt,xt*0+ms+mss,xt*0+ms-mss,color='k',alpha=0.7)\n",
    "#grid()\n",
    "xlabel(\"distance($\\mu m$)\")"
   ]
  },
  {
   "cell_type": "code",
   "execution_count": null,
   "metadata": {},
   "outputs": [],
   "source": [
    "plot(sps['Dss'],mm[:,3],'.')\n",
    "figure()\n",
    "plot(sps['Dss'],mes[:,3]+65,'.')"
   ]
  },
  {
   "cell_type": "code",
   "execution_count": null,
   "metadata": {},
   "outputs": [],
   "source": [
    "elctrtncL = zeros((500,4))\n",
    "for i in range(500):\n",
    "    xe,ye  = -1.0*xt,1.0*mm[i,1:]\n",
    "    ye = ye-ms\n",
    "    sel = (ye[1:]-ye[:-1])>=0\n",
    "    if sel.sum()>0:\n",
    "        sel = 1+arange(9)[sel][0]\n",
    "        xe = xe[:sel]\n",
    "        ye = ye[:sel]\n",
    "        #ye = ye-ye[-1]\n",
    "    sel = ye.argsort()\n",
    "    ye = ye[sel]\n",
    "    xe = xe[sel]\n",
    "    intex5 = interp(0.5,ye,xe)\n",
    "    intexe = interp(exp(-1),ye,xe)\n",
    "    \n",
    "    xe,ye  = -1.0*xt,1.0*mmn[i,1:]\n",
    "    ye = ye-ye[-1]\n",
    "    sel = (ye[1:]-ye[:-1])>=0\n",
    "    if sel.sum()>0:\n",
    "        sel = 1+arange(9)[sel][0]\n",
    "        xe = xe[:sel]\n",
    "        ye = ye[:sel]\n",
    "        ye = ye-ye[-1]\n",
    "    sel = ye.argsort()\n",
    "    ye = ye[sel]\n",
    "    xe = xe[sel]\n",
    "    intex5n = interp(0.5,ye,xe)\n",
    "    intexen = interp(exp(-1),ye,xe)\n",
    "    elctrtncL[i,:] = (intex5/log(2.0),intexe,intex5n/log(2),intexen)\n",
    "    #print(intex5)"
   ]
  },
  {
   "cell_type": "code",
   "execution_count": null,
   "metadata": {},
   "outputs": [],
   "source": [
    "plot(sps['Dss'],elctrtncL[:,0],'.')\n",
    "plot(sps['Dss'],elctrtncL[:,2],'.')\n",
    "\n",
    "#plot(dis['Dss'],elctrtncL[:,1],'.')\n",
    "\n",
    "plot(linspace(0,150),13+(linspace(0,150)-20)/2.2,'k')\n",
    "grid()\n",
    "#xlim(0,)\n",
    "#ylim(0,60)\n",
    "xlabel(\"Distance to soma\")\n",
    "ylabel(\"Electrotonic length?\")"
   ]
  },
  {
   "cell_type": "code",
   "execution_count": null,
   "metadata": {},
   "outputs": [],
   "source": [
    "with open(\"electrotonicL.pickle\",\"wb\") as f:\n",
    "    pickle.dump([vavg,mes,vtracs,vtracsD,vtracsS,Ctracs,me2,me3],f)"
   ]
  },
  {
   "cell_type": "code",
   "execution_count": null,
   "metadata": {},
   "outputs": [],
   "source": [
    "plot(-mes[:,-3]/1e-3,mes[:,3]+65,'.')\n",
    "plot(-mes[:,-3]/1e-3,me2[:,4]+65,'.')\n",
    "plot(-mes[:,-3]/1e-3,mes[:,1]+65,'.')"
   ]
  },
  {
   "cell_type": "code",
   "execution_count": null,
   "metadata": {},
   "outputs": [],
   "source": [
    "4*7.5"
   ]
  },
  {
   "cell_type": "code",
   "execution_count": null,
   "metadata": {},
   "outputs": [],
   "source": []
  }
 ],
 "metadata": {
  "kernelspec": {
   "display_name": "neuron",
   "language": "python",
   "name": "neuron"
  },
  "language_info": {
   "codemirror_mode": {
    "name": "ipython",
    "version": 3
   },
   "file_extension": ".py",
   "mimetype": "text/x-python",
   "name": "python",
   "nbconvert_exporter": "python",
   "pygments_lexer": "ipython3",
   "version": "3.6.5"
  }
 },
 "nbformat": 4,
 "nbformat_minor": 2
}
