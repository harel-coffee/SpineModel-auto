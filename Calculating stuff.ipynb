{
 "cells": [
  {
   "cell_type": "markdown",
   "metadata": {},
   "source": [
    "# Different estimates\n"
   ]
  },
  {
   "cell_type": "markdown",
   "metadata": {},
   "source": [
    "## Dendritic Resistance\n",
    "\n",
    "The impedance at the base of the spine depends both on the distance to the soma and the branching points that have occured from there.\n",
    "\n",
    "$ R = \\sum_i R_i$ \n"
   ]
  },
  {
   "cell_type": "code",
   "execution_count": 19,
   "metadata": {},
   "outputs": [],
   "source": [
    "from scipy.integrate import quad\n",
    "from numpy import *\n",
    "from matplotlib.pylab import *\n",
    "%matplotlib inline"
   ]
  },
  {
   "cell_type": "code",
   "execution_count": 20,
   "metadata": {},
   "outputs": [],
   "source": [
    "def R_coniccyl(L=1.0,D1=1,D2=1,Ri = 2.5,dl = 0.05):\n",
    "    crsA = pi*( (D1+(D2-D1)*arange(0,L,dl))/2.0)**2\n",
    "    R = 4.0*Ri*L/pi*quad(lambda x:1.0/(D1+(D2-D1)*x)**2,0,1)[0]\n",
    "    return(R)"
   ]
  },
  {
   "cell_type": "code",
   "execution_count": 26,
   "metadata": {},
   "outputs": [
    {
     "data": {
      "text/plain": [
       "661.1051482278729"
      ]
     },
     "execution_count": 26,
     "metadata": {},
     "output_type": "execute_result"
    }
   ],
   "source": [
    "(R_coniccyl(50.0e-6,2e-6,1.3e-6)+R_coniccyl(50.0e-6,1.3e-6,1.0e-6)+R_coniccyl(150.0e-6,1.0e-6,1.0e-6))/1e6"
   ]
  },
  {
   "cell_type": "code",
   "execution_count": null,
   "metadata": {},
   "outputs": [],
   "source": [
    "def R_branch()"
   ]
  }
 ],
 "metadata": {
  "kernelspec": {
   "display_name": "neuron",
   "language": "python",
   "name": "neuron"
  },
  "language_info": {
   "codemirror_mode": {
    "name": "ipython",
    "version": 3
   },
   "file_extension": ".py",
   "mimetype": "text/x-python",
   "name": "python",
   "nbconvert_exporter": "python",
   "pygments_lexer": "ipython3",
   "version": "3.6.5"
  }
 },
 "nbformat": 4,
 "nbformat_minor": 2
}
