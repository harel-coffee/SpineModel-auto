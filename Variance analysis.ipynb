{
 "cells": [
  {
   "cell_type": "code",
   "execution_count": 1,
   "metadata": {},
   "outputs": [],
   "source": [
    "from scipy.integrate import quad\n",
    "from numpy import *\n",
    "from matplotlib.pylab import *\n",
    "import matplotlib as mpl\n",
    "%matplotlib inline\n",
    "#from pandas.core import *\n",
    "import pandas as pd\n",
    "\n",
    "from sklearn.model_selection import train_test_split \n",
    "from sklearn.linear_model import LinearRegression\n",
    "from sklearn import metrics\n",
    "\n",
    "from sklearn.decomposition import PCA,FastICA\n",
    "\n",
    "from sklearn.cluster import DBSCAN\n",
    "from sklearn import metrics\n",
    "from sklearn.datasets.samples_generator import make_blobs\n",
    "from sklearn.preprocessing import StandardScaler\n",
    "import pickle\n"
   ]
  },
  {
   "cell_type": "code",
   "execution_count": 3,
   "metadata": {},
   "outputs": [],
   "source": [
    "#Jupyters: Proper Spine Model - Inhibition.ipynb\n",
    "with open(\"../SpineModel/dis_baseline.pickle\",\"rb\") as f:\n",
    "    vavgDiS,mesDiS,vtracsDiS,vtracsDDiS,vtracsSDiS,CtracsDiS,_,_ = pickle.load(f)\n",
    "\n",
    "with open(\"../SpineModel/dis_baselineB_sps.pickle\",\"rb\") as f:\n",
    "    vavg,mes,vtracs,vtracsD,vtracsS,Ctracs,me2,me3 = pickle.load(f)\n",
    "\n",
    "with open(\"../SpineModel/All_baseline_dataset.pickle\",\"rb\") as f:\n",
    "    vavgT,mesT,vtracsT,vtracsDT,vtracsST,CtracsT,me2T,_,dataT = pickle.load(f)\n"
   ]
  },
  {
   "cell_type": "code",
   "execution_count": 4,
   "metadata": {},
   "outputs": [
    {
     "data": {
      "text/plain": [
       "(dict_keys(['#Bch', 'Dsb', 'Dss', 'd_interSp', 'Vtot', 'Vh', 'Ln', 'SA', 'nPSD', 'A1', 'A2', 'GPHN SNR', 'DiS-EMchk', 'Lneck', 'maxDneck', 'minDneck', 'meanDneck', 'Rneck', 'Lhead', 'maxDhead', 'minDhead', 'meanDhead', 'Ah', 'Rhead', 'L', 'D', 'AhA0']),\n",
       " (10002, 365))"
      ]
     },
     "execution_count": 4,
     "metadata": {},
     "output_type": "execute_result"
    }
   ],
   "source": [
    "dataT.keys(),vtracsST.shape"
   ]
  },
  {
   "cell_type": "code",
   "execution_count": 5,
   "metadata": {},
   "outputs": [],
   "source": [
    "pddataT = pd.DataFrame(dataT)"
   ]
  },
  {
   "cell_type": "code",
   "execution_count": 6,
   "metadata": {},
   "outputs": [],
   "source": [
    "labels = ('Vh','A1','Ah','Dss','Rneck','Lhead','meanDhead')\n",
    "datt = column_stack((dataT['Vh'],dataT['A1'],dataT['Ah'],dataT['Dss'],dataT['Rneck'],dataT['Lhead'],dataT['meanDhead']))\n",
    "\n",
    "labels = ('A1','Dss','Rneck','SA')\n",
    "datt = column_stack((dataT['A1'],dataT['Dss'],dataT['Rneck'],dataT['SA']))"
   ]
  },
  {
   "cell_type": "code",
   "execution_count": 7,
   "metadata": {},
   "outputs": [],
   "source": [
    "pddataT = pd.DataFrame(data=datt,columns=labels)"
   ]
  },
  {
   "cell_type": "code",
   "execution_count": 8,
   "metadata": {},
   "outputs": [
    {
     "name": "stdout",
     "output_type": "stream",
     "text": [
      "[ 6.14864491e+00 -7.16923712e-03 -6.14108574e-04 -1.78065696e-02]\n"
     ]
    }
   ],
   "source": [
    "regressor = LinearRegression()  \n",
    "regressor.fit(datt, mesT[:,3])\n",
    "coeforig = regressor.coef_*1.0\n",
    "print(regressor.coef_)"
   ]
  },
  {
   "cell_type": "code",
   "execution_count": 9,
   "metadata": {},
   "outputs": [],
   "source": [
    "y_pred = regressor.predict(datt)"
   ]
  },
  {
   "cell_type": "code",
   "execution_count": 10,
   "metadata": {},
   "outputs": [
    {
     "name": "stdout",
     "output_type": "stream",
     "text": [
      "0.0377532190369572\n"
     ]
    }
   ],
   "source": [
    "fullvarlinear = ((mesT[:,3]-y_pred)).var()\n",
    "print(fullvarlinear)"
   ]
  },
  {
   "cell_type": "code",
   "execution_count": 11,
   "metadata": {},
   "outputs": [
    {
     "name": "stdout",
     "output_type": "stream",
     "text": [
      "A1 0.08687696329228532 0.8410874220853587\n",
      "Dss 0.7995186208289172 0.8410874220853587\n",
      "Rneck 0.7504254063715273 0.8410874220853587\n",
      "SA 0.8410218746626035 0.8410874220853587\n"
     ]
    }
   ],
   "source": [
    "for i in range(datt.shape[1]):\n",
    "    dattb = datt[:,1:]\n",
    "    if i>0 and i<datt.shape[1]-2:\n",
    "        dattb = column_stack((datt[:,:i],datt[:,(i+1):]))\n",
    "    else:\n",
    "        dattb = datt[:,:-1]\n",
    "    regressor.fit(datt[:,i:(i+1)], mesT[:,3])\n",
    "    y_pred0 = regressor.predict(datt[:,i:(i+1)])\n",
    "    var0 = ((mesT[:,3]-y_pred0)).var()\n",
    "    print(labels[i],var0,var(mesT[:,3]))"
   ]
  },
  {
   "cell_type": "code",
   "execution_count": 12,
   "metadata": {},
   "outputs": [
    {
     "name": "stdout",
     "output_type": "stream",
     "text": [
      "[[0.         0.08687696]\n",
      " [1.         0.03997334]\n",
      " [2.         0.03802498]\n",
      " [3.         0.03787276]]\n"
     ]
    }
   ],
   "source": [
    "idcs = arange(datt.shape[1]).tolist()\n",
    "vardat = zeros((datt.shape[1],2))\n",
    "y_predt = mesT[:,3]*0.0\n",
    "\n",
    "for k in range(datt.shape[1]-1):\n",
    "    var0 = var(mesT[:,3])\n",
    "    minvar = var0\n",
    "    varts = zeros(len(idcs))\n",
    "    for iv,i in enumerate(idcs):\n",
    "        regressor.fit(datt[:,i:(i+1)], mesT[:,3]-y_predt)\n",
    "        y_pred = regressor.predict(datt[:,i:(i+1)])\n",
    "        vart = ((mesT[:,3]-y_predt-y_pred)).var()\n",
    "        varts[iv] = vart\n",
    "    sel = argmin(varts)\n",
    "    i = idcs[sel]\n",
    "    regressor.fit(datt[:,i:(i+1)], mesT[:,3]-y_predt)\n",
    "    y_pred = regressor.predict(datt[:,i:(i+1)])\n",
    "    y_predt += y_pred\n",
    "    \n",
    "    vardat[k,:] = (idcs[sel],varts[sel])\n",
    "    idcs.pop(sel)\n",
    "    \n",
    "i = idcs[0]\n",
    "regressor.fit(datt[:,i:(i+1)], mesT[:,3]-y_predt)\n",
    "y_pred = regressor.predict(datt[:,i:(i+1)])\n",
    "vart = ((mesT[:,3]-y_predt-y_pred)).var()\n",
    "vardat[-1,:] = (idcs[0],vart)\n",
    "\n",
    "print(vardat)\n"
   ]
  },
  {
   "cell_type": "code",
   "execution_count": 12,
   "metadata": {},
   "outputs": [
    {
     "name": "stdout",
     "output_type": "stream",
     "text": [
      "A1 89.09140323841807\n",
      "Dss 3.401926100992614\n",
      "Rneck 0.9671507174080163\n",
      "SA 0.013374205940963613\n"
     ]
    }
   ],
   "source": [
    "vsa = 1-(vardat[0,1])/var0\n",
    "print(labels[int(vardat[0,0])],vsa*100)\n",
    "for i in range(1,vardat.shape[0]):\n",
    "    vs = 1-(vardat[i,1])/var0\n",
    "    print(labels[int(vardat[i,0])],(vs-vsa)*100)\n",
    "    vsa = vs"
   ]
  },
  {
   "cell_type": "code",
   "execution_count": 13,
   "metadata": {},
   "outputs": [
    {
     "name": "stdout",
     "output_type": "stream",
     "text": [
      "Rneck 31.431502198647554 0.31431502198647554\n",
      "A1 27.556664109443616 0.5898816630809117\n",
      "Dss 1.0356709813699072 0.6002383728946108\n",
      "SA 0.018645587598109525 0.6004248287705919\n"
     ]
    },
    {
     "data": {
      "image/png": "[encoded data removed]",
      "text/plain": [
       "<Figure size 432x288 with 1 Axes>"
      ]
     },
     "metadata": {
      "needs_background": "light"
     },
     "output_type": "display_data"
    }
   ],
   "source": [
    "idcs = arange(datt.shape[1]).tolist()\n",
    "vardat = zeros((datt.shape[1],2))\n",
    "yrt = mesT[:,1]-mesT[:,2]\n",
    "y_predt = yrt*0.0\n",
    "var0 = var(yrt)\n",
    "minvar = var0\n",
    "for k in range(datt.shape[1]-1):\n",
    "    varts = zeros(len(idcs))\n",
    "    for iv,i in enumerate(idcs):\n",
    "        regressor.fit(datt[:,i:(i+1)], yrt-y_predt)\n",
    "        y_pred = regressor.predict(datt[:,i:(i+1)])\n",
    "        vart = ((yrt-y_predt-y_pred)).var()\n",
    "        varts[iv] = vart\n",
    "    sel = argmin(varts)\n",
    "    i = idcs[sel]\n",
    "    regressor.fit(datt[:,i:(i+1)], yrt-y_predt)\n",
    "    y_pred = regressor.predict(datt[:,i:(i+1)])\n",
    "    y_predt += y_pred\n",
    "    \n",
    "    vardat[k,:] = (idcs[sel],varts[sel])\n",
    "    idcs.pop(sel)\n",
    "    \n",
    "i = idcs[0]\n",
    "regressor.fit(datt[:,i:(i+1)], yrt-y_predt)\n",
    "y_pred = regressor.predict(datt[:,i:(i+1)])\n",
    "vart = ((yrt-y_predt-y_pred)).var()\n",
    "vardat[-1,:] = (idcs[0],vart)\n",
    "\n",
    "hist(yrt-y_predt-y_pred,41)\n",
    "\n",
    "#print(vardat)\n",
    "vsa = 1-(vardat[0,1])/var0\n",
    "print(labels[int(vardat[0,0])],vsa*100,vsa)\n",
    "for i in range(1,vardat.shape[0]):\n",
    "    vs = 1-(vardat[i,1])/var0\n",
    "    print(labels[int(vardat[i,0])],(vs-vsa)*100,vs)\n",
    "    vsa = vs"
   ]
  },
  {
   "cell_type": "code",
   "execution_count": 14,
   "metadata": {},
   "outputs": [
    {
     "name": "stdout",
     "output_type": "stream",
     "text": [
      "[0. 1. 3. 4.]\n"
     ]
    }
   ],
   "source": [
    "idct = 1.0*arange(5)\n",
    "idct = delete(idct,2)\n",
    "print(idct)"
   ]
  },
  {
   "cell_type": "code",
   "execution_count": 15,
   "metadata": {},
   "outputs": [
    {
     "name": "stdout",
     "output_type": "stream",
     "text": [
      "Rneck 31.431502198647554\n",
      "A1 29.510694720546265\n",
      "Dss 1.5978025580224042\n",
      "SA 0.033601548853468\n"
     ]
    },
    {
     "data": {
      "image/png": "[encoded data removed]",
      "text/plain": [
       "<Figure size 432x288 with 1 Axes>"
      ]
     },
     "metadata": {
      "needs_background": "light"
     },
     "output_type": "display_data"
    }
   ],
   "source": [
    "#Backwards!\n",
    "idcs = arange(datt.shape[1]).tolist()\n",
    "vardat = zeros((datt.shape[1],2))\n",
    "yrt = mesT[:,1]-mesT[:,2]\n",
    "y_predt = yrt*0.0\n",
    "var0 = var(yrt)\n",
    "minvar = var0\n",
    "for k in range(datt.shape[1]-1):\n",
    "    varts = zeros(len(idcs))\n",
    "    #print(idcs)\n",
    "    for iv,i in enumerate(idcs):\n",
    "        idct = 1*array(idcs)\n",
    "        idct = delete(idct,iv)\n",
    "        dattb = datt[:,array(idct)]\n",
    "        regressor.fit(dattb, yrt)\n",
    "        y_pred = regressor.predict(dattb)\n",
    "        vart = ((yrt-y_pred)).var()\n",
    "        varts[iv] = vart\n",
    "    #print(varts)\n",
    "    sel = argmin(varts)\n",
    "    i = idcs[sel]\n",
    "    vardat[k,:] = (idcs[sel],varts[sel])\n",
    "    idcs.pop(sel)\n",
    "    \n",
    "#print(i)\n",
    "i = idcs[0]\n",
    "regressor.fit(datt[:,i:(i+1)], yrt)\n",
    "y_pred = regressor.predict(datt[:,i:(i+1)])\n",
    "vart = ((yrt-y_pred)).var()\n",
    "vardat[-1,:] = (idcs[0],var(yrt))\n",
    "#print(vardat,var0)\n",
    "hist(yrt-y_pred,41)\n",
    "\n",
    "#print(vardat)\n",
    "for i in range(vardat.shape[0]-1,0,-1):\n",
    "    vsa = (vardat[i,1])/var0\n",
    "    vs = (vardat[i-1,1])/var0\n",
    "    print(labels[int(vardat[i,0])],(vsa-vs)*100)\n",
    "    \n",
    "regressor.fit(datt, yrt)\n",
    "y_pred = regressor.predict(datt)\n",
    "vart = ((yrt-y_pred)).var()\n",
    "vsa = (vardat[0,1])/var0\n",
    "vs = (vart)/var0\n",
    "print(labels[int(vardat[0,0])],(vsa-vs)*100)\n"
   ]
  },
  {
   "cell_type": "code",
   "execution_count": 16,
   "metadata": {},
   "outputs": [
    {
     "data": {
      "text/plain": [
       "(365, 4)"
      ]
     },
     "execution_count": 16,
     "metadata": {},
     "output_type": "execute_result"
    }
   ],
   "source": [
    "pddataT.shape"
   ]
  },
  {
   "cell_type": "code",
   "execution_count": 17,
   "metadata": {},
   "outputs": [],
   "source": [
    "def LinReg_varexplain_B(X,y,labels= None):\n",
    "    if labels is None:\n",
    "        try: \n",
    "            labels = X.keys()\n",
    "        except:\n",
    "            labels = arange(X.shape[1])\n",
    "            \n",
    "    idcs = arange(X.shape[1]).tolist()\n",
    "    vardat = zeros((X.shape[1],2))\n",
    "    \n",
    "    var0 = var(y)\n",
    "    #y_predt = y*0.0    \n",
    "    for k in range(X.shape[1]-1):\n",
    "\n",
    "        varts = zeros(len(idcs))\n",
    "        #print(idcs)\n",
    "        for iv,i in enumerate(idcs):\n",
    "            \n",
    "            idct = 1*array(idcs)\n",
    "            idct = delete(idct,iv)\n",
    "            Xb = X.values[:,array(idct)]\n",
    "            \n",
    "            regressor.fit(Xb, y)\n",
    "            y_pred = regressor.predict(Xb)\n",
    "            vart = ((y-y_pred)).var()\n",
    "            \n",
    "            varts[iv] = vart\n",
    "        \n",
    "        #print(varts)\n",
    "        # We select column that affected the minimum and remove it\n",
    "        sel = argmin(varts)\n",
    "        i = idcs[sel]\n",
    "        vardat[k,:] = (idcs[sel],varts[sel])\n",
    "        idcs.pop(sel)\n",
    "\n",
    "    #i = idcs[0]\n",
    "    vardat[-1,:] = (idcs[0],var(y))\n",
    "    #print(vardat,var0)\n",
    "    #hist(y-y_pred,41)\n",
    "\n",
    "    result = {}\n",
    "    #print(vardat)\n",
    "    for i in range(vardat.shape[0]-1,0,-1):\n",
    "        vsa = (vardat[i,1])/var0\n",
    "        vs = (vardat[i-1,1])/var0\n",
    "        #print(labels[int(vardat[i,0])],(vsa-vs)*100)\n",
    "        result[labels[int(vardat[i,0])]] = vsa-vs\n",
    "        \n",
    "    regressor.fit(X, y)\n",
    "    y_pred = regressor.predict(X)\n",
    "    vart = ((y-y_pred)).var()\n",
    "    vsa = (vardat[0,1])/var0\n",
    "    vs = (vart)/var0\n",
    "    \n",
    "    #print(labels[int(vardat[0,0])],(vsa-vs)*100)\n",
    "    result[labels[int(vardat[0,0])]] = vsa-vs\n",
    "    result['variance'] = var0\n",
    "    return(result)"
   ]
  },
  {
   "cell_type": "code",
   "execution_count": 18,
   "metadata": {},
   "outputs": [],
   "source": [
    "def LinReg_varexplain_F(X,y,labels= None):\n",
    "    if labels is None:\n",
    "        try: \n",
    "            labels = X.keys()\n",
    "        except:\n",
    "            labels = arange(X.shape[1])\n",
    "            \n",
    "    idcs = arange(X.shape[1]).tolist()\n",
    "    vardat = zeros((X.shape[1],2))\n",
    "    \n",
    "    y_predt = y*0.0\n",
    "    var0 = var(y)\n",
    "    minvar = var0\n",
    "    for k in range(X.shape[1]-1):\n",
    "        varts = zeros(len(idcs))\n",
    "        for iv,i in enumerate(idcs):\n",
    "            regressor.fit(X.values[:,i:(i+1)], y-y_predt)\n",
    "            y_pred = regressor.predict(X.values[:,i:(i+1)])\n",
    "            vart = ((y-y_predt-y_pred)).var()\n",
    "            varts[iv] = vart\n",
    "        sel = argmin(varts)\n",
    "        i = idcs[sel]\n",
    "        regressor.fit(X.values[:,i:(i+1)], y-y_predt)\n",
    "        y_pred = regressor.predict(X.values[:,i:(i+1)])\n",
    "        y_predt += y_pred\n",
    "\n",
    "        vardat[k,:] = (idcs[sel],varts[sel])\n",
    "        idcs.pop(sel)\n",
    "\n",
    "    i = idcs[0]\n",
    "    regressor.fit(X.values[:,i:(i+1)], y-y_predt)\n",
    "    y_pred = regressor.predict(X.values[:,i:(i+1)])\n",
    "    vart = ((y-y_predt-y_pred)).var()\n",
    "    vardat[-1,:] = (idcs[0],vart)\n",
    "\n",
    "    result = {}\n",
    "\n",
    "    \n",
    "    #hist(y-y_predt-y_pred,41)\n",
    "\n",
    "    #print(vardat)\n",
    "    vsa = 1-(vardat[0,1])/var0\n",
    "    #print(labels[int(vardat[0,0])],vsa*100,vsa)\n",
    "    result[labels[int(vardat[0,0])]] = vsa\n",
    "    for i in range(1,vardat.shape[0]):\n",
    "        vs = 1-(vardat[i,1])/var0\n",
    "        #print(labels[int(vardat[i,0])],(vs-vsa)*100,vs)\n",
    "        result[labels[int(vardat[i,0])]]=(vs-vsa)\n",
    "        vsa = vs\n",
    "    return(result)"
   ]
  },
  {
   "cell_type": "code",
   "execution_count": 19,
   "metadata": {},
   "outputs": [
    {
     "name": "stdout",
     "output_type": "stream",
     "text": [
      "{'Rneck': 0.31431502198647554, 'A1': 0.29510694720546266, 'Dss': 0.015978025580224042, 'SA': 0.00033601548853468, 'variance': 7.249649201323482}\n",
      "{'Rneck': 0.31431502198647554, 'A1': 0.2755666410944362, 'Dss': 0.010356709813699072, 'SA': 0.00018645587598109525}\n"
     ]
    }
   ],
   "source": [
    "print(LinReg_varexplain_B(pddataT,mesT[:,1]-mesT[:,2]))\n",
    "print(LinReg_varexplain_F(pddataT,mesT[:,1]-mesT[:,2]))"
   ]
  },
  {
   "cell_type": "code",
   "execution_count": 20,
   "metadata": {},
   "outputs": [
    {
     "name": "stdout",
     "output_type": "stream",
     "text": [
      "{'A1': 0.8909140323841807, 'Dss': 0.03402652412634119, 'Rneck': 0.010492431260881716, 'SA': 0.00011989033482963374, 'variance': 3.7354020984337533}\n",
      "{'A1': 0.8909140323841807, 'Dss': 0.03401926100992614, 'Rneck': 0.009671507174080163, 'SA': 0.00013374205940963613}\n"
     ]
    }
   ],
   "source": [
    "print(LinReg_varexplain_B(pddataT,mesT[:,3]))\n",
    "print(LinReg_varexplain_F(pddataT,mesT[:,3]))"
   ]
  },
  {
   "cell_type": "code",
   "execution_count": 21,
   "metadata": {},
   "outputs": [],
   "source": [
    "with open(\"../SpineModel/dis_baselineB_disx5.pickle\",\"rb\") as f:\n",
    "    vavgDiS,mesDiS,vtracsDiS,vtracsDDiS,vtracsSDiS,CtracsDiS,_,_ = pickle.load(f)\n",
    "\n",
    "with open(\"../SpineModel/dis_baselineB_spsx5.pickle\",\"rb\") as f:\n",
    "    vavg,mes,vtracs,vtracsD,vtracsS,Ctracs,me2,me3 = pickle.load(f)\n",
    "\n",
    "with open(\"../SpineModel/All_baseline_datasetx5.pickle\",\"rb\") as f:\n",
    "    vavgT,mesT,vtracsT,vtracsDT,vtracsST,CtracsT,me2T,_,dataT = pickle.load(f)\n",
    "\n",
    "labels = ('Vh','A1','Ah','Dss','Rneck','Lhead','meanDhead')\n",
    "datt = column_stack((dataT['Vh'],dataT['A1'],dataT['Ah'],dataT['Dss'],dataT['Rneck'],dataT['Lhead'],dataT['meanDhead']))\n",
    "\n",
    "#labels = ('A1','Dss','Rneck','SA')\n",
    "#datt = column_stack((dataT['A1'],dataT['Dss'],dataT['Rneck'],dataT['SA']))\n",
    "\n",
    "pddataT = pd.DataFrame(data=datt,columns=labels)"
   ]
  },
  {
   "cell_type": "code",
   "execution_count": 22,
   "metadata": {},
   "outputs": [
    {
     "name": "stdout",
     "output_type": "stream",
     "text": [
      "{'A1': 0.8223872796235792, 'Rneck': 0.052163125031006174, 'Dss': 0.026419253239577445, 'meanDhead': 0.012522480843729616, 'Vh': 0.0019619399178571195, 'Lhead': 0.00013496982945106206, 'Ah': 5.090211976427339e-05, 'variance': 2.9056647008348175}\n",
      "{'A1': 0.8223872796235792, 'Rneck': 0.048709179129475366, 'Dss': 0.026775621290478058, 'meanDhead': 0.0005996840499969958, 'Vh': 0.0008878681466524263, 'Lhead': 7.648823732220311e-05, 'Ah': 9.810746134375492e-07}\n"
     ]
    }
   ],
   "source": [
    "print(LinReg_varexplain_B(pddataT,mesT[:,3]))\n",
    "print(LinReg_varexplain_F(pddataT,mesT[:,3]))"
   ]
  },
  {
   "cell_type": "code",
   "execution_count": 39,
   "metadata": {},
   "outputs": [
    {
     "name": "stdout",
     "output_type": "stream",
     "text": [
      "**********V In Soma**********\n",
      "{'A1': 0.8708992174124308, 'Dss': 0.03591635839238694, 'Rneck': 0.018431901541098333, 'Lhead': 1.5425973747276722e-05, 'variance': 3.4513969666667927}\n",
      "{'A1': 0.8708992174124308, 'Dss': 0.03590869188224788, 'Rneck': 0.016935485997801814, 'Lhead': 1.871682224874327e-05}\n",
      "**********V In Spine head**********\n",
      "{'A1': 0.8134820099465929, 'Rneck': 0.05656920002661822, 'Dss': 0.008822578330005604, 'Lhead': 0.0003315026443969221, 'variance': 88.37172599329097}\n",
      "{'A1': 0.8134820099465929, 'Rneck': 0.05282350886128484, 'Dss': 0.009233955449230447, 'Lhead': 0.0004209081428465655}\n",
      "**********V sp-dend**********\n",
      "{'Rneck': 0.3543660044428889, 'A1': 0.28352082788158495, 'Dss': 0.011623095799375482, 'Lhead': 5.5579864000787627e-05, 'variance': 21.31992693087414}\n",
      "{'Rneck': 0.3543660044428889, 'A1': 0.2647476887938065, 'Dss': 0.007036183329830581, 'Lhead': 1.0564302456161911e-06}\n",
      "**********C In Spine head**********\n",
      "{'A1': 0.7801423302115187, 'Rneck': 0.04598979046937657, 'Dss': 0.005479542234222562, 'Lhead': 0.0004485935799340701, 'variance': 0.38817469316138}\n",
      "{'A1': 0.7801423302115187, 'Rneck': 0.04294460772371955, 'Dss': 0.005794459878187608, 'Lhead': 0.0003647149170135089}\n",
      "\n",
      "#---------------DiS!\n",
      "**********V In Soma**********\n",
      "{'A1': 0.7512992139003183, 'Dss': 0.09939347557501657, 'Rneck': 0.03470605612175982, 'Lhead': 0.0005490884370136645, 'variance': 2.826775191687773}\n",
      "{'A1': 0.7512992139003183, 'Dss': 0.08794580440274324, 'Rneck': 0.042715325776094604, 'Lhead': 0.00044384716278478287}\n",
      "**********V In Spine head**********\n",
      "{'A1': 0.7572863090387969, 'Rneck': 0.17394421213957445, 'Dss': 0.022588661278152157, 'Lhead': 0.0012036441905114367, 'variance': 96.36673972169315}\n",
      "{'A1': 0.7572863090387969, 'Rneck': 0.16629223533468296, 'Dss': 0.029308581086646246, 'Lhead': 0.0013846873784775227}\n",
      "**********V sp-dend**********\n",
      "{'Rneck': 0.6586826583864638, 'A1': 0.15616316660489837, 'Dss': 0.00461827523679148, 'Lhead': 0.00020023840416252825, 'variance': 35.41316553112508}\n",
      "{'Rneck': 0.6586826583864638, 'A1': 0.1492933954642508, 'Dss': 0.002384035798067341, 'Lhead': 0.0004931530414618024}\n",
      "**********C In Spine head**********\n",
      "{'A1': 0.8398540357319262, 'Rneck': 0.044250005858212677, 'Lhead': 0.011895759332331168, 'Dss': 0.004990509204151269, 'variance': 0.5306076059264546}\n",
      "{'A1': 0.8398540357319262, 'Rneck': 0.04230340462165261, 'Dss': 0.012426611398812293, 'Lhead': 0.005115696527089542}\n"
     ]
    }
   ],
   "source": [
    "with open(\"../SpineModel/dis_baselineB_disx2.pickle\",\"rb\") as f:\n",
    "    vavgDiS,mesDiS,vtracsDiS,vtracsDDiS,vtracsSDiS,CtracsDiS,_,_ = pickle.load(f)\n",
    "\n",
    "with open(\"../SpineModel/dis_baselineB_spsx2.pickle\",\"rb\") as f:\n",
    "    vavg,mes,vtracs,vtracsD,vtracsS,Ctracs,me2,me3 = pickle.load(f)\n",
    "\n",
    "with open(\"../SpineModel/All_baseline_datasetx2.pickle\",\"rb\") as f:\n",
    "    vavgT,mesT,vtracsT,vtracsDT,vtracsST,CtracsT,me2T,_,dataT = pickle.load(f)\n",
    "\n",
    "labels = ['Vh','A1','Ah','Dss','Rneck','Lhead']#,'meanDhead']\n",
    "labels = ['A1','Dss','Rneck','Lhead']#,'meanDhead']\n",
    "datt = dataT[labels[0]]\n",
    "for l in labels[1:]:\n",
    "    datt = column_stack((datt,dataT[l]))\n",
    "\n",
    "#    datt = column_stack((dataT['Vh'],dataT['A1'],dataT['Ah'],dataT['Dss'],dataT['Rneck'],dataT['Lhead'],dataT['meanDhead']))\n",
    "\n",
    "#labels = ('A1','Dss','Rneck','SA')\n",
    "#datt = column_stack((dataT['A1'],dataT['Dss'],dataT['Rneck'],dataT['SA']))\n",
    "\n",
    "pddataT = pd.DataFrame(data=datt,columns=labels)\n",
    "\n",
    "print('*'*10+'V In Soma'+10*'*')\n",
    "print(LinReg_varexplain_B(pddataT,mesT[:,3]))\n",
    "print(LinReg_varexplain_F(pddataT,mesT[:,3]))\n",
    "print('*'*10+'V In Spine head'+10*'*')\n",
    "print(LinReg_varexplain_B(pddataT,mesT[:,1]))\n",
    "print(LinReg_varexplain_F(pddataT,mesT[:,1]))\n",
    "print('*'*10+'V sp-dend'+10*'*')\n",
    "print(LinReg_varexplain_B(pddataT,mesT[:,1]-mesT[:,2]))\n",
    "print(LinReg_varexplain_F(pddataT,mesT[:,1]-mesT[:,2]))\n",
    "print('*'*10+'C In Spine head'+10*'*')\n",
    "print(LinReg_varexplain_B(pddataT,mesT[:,4]))\n",
    "print(LinReg_varexplain_F(pddataT,mesT[:,4]))\n",
    "\n",
    "#print('*'*10+'V sp-soma'+10*'*')\n",
    "#print(LinReg_varexplain_B(pddataT,mesT[:,1]-mesT[:,3]))\n",
    "#print(LinReg_varexplain_F(pddataT,mesT[:,1]-mesT[:,3]))\n",
    "\n",
    "sel = dataT['nPSD'] == 2.0\n",
    "\n",
    "datt = dataT[labels[0]][sel]\n",
    "for l in labels[1:]:\n",
    "    datt = column_stack((datt,dataT[l][sel]))\n",
    "\n",
    "#    datt = column_stack((dataT['Vh'],dataT['A1'],dataT['Ah'],dataT['Dss'],dataT['Rneck'],dataT['Lhead'],dataT['meanDhead']))\n",
    "\n",
    "#labels = ('A1','Dss','Rneck','SA')\n",
    "#datt = column_stack((dataT['A1'],dataT['Dss'],dataT['Rneck'],dataT['SA']))\n",
    "\n",
    "pddataT = pd.DataFrame(data=datt,columns=labels)\n",
    "\n",
    "print('\\n#'+'-'*15+'DiS!')\n",
    "print('*'*10+'V In Soma'+10*'*')\n",
    "print(LinReg_varexplain_B(pddataT,mesT[sel,3]))\n",
    "print(LinReg_varexplain_F(pddataT,mesT[sel,3]))\n",
    "print('*'*10+'V In Spine head'+10*'*')\n",
    "print(LinReg_varexplain_B(pddataT,mesT[sel,1]))\n",
    "print(LinReg_varexplain_F(pddataT,mesT[sel,1]))\n",
    "print('*'*10+'V sp-dend'+10*'*')\n",
    "print(LinReg_varexplain_B(pddataT,mesT[sel,1]-mesT[sel,2]))\n",
    "print(LinReg_varexplain_F(pddataT,mesT[sel,1]-mesT[sel,2]))\n",
    "print('*'*10+'C In Spine head'+10*'*')\n",
    "print(LinReg_varexplain_B(pddataT,mesT[sel,4]))\n",
    "print(LinReg_varexplain_F(pddataT,mesT[sel,4]))"
   ]
  },
  {
   "cell_type": "code",
   "execution_count": 44,
   "metadata": {},
   "outputs": [],
   "source": [
    "\n",
    "datt = dataT[labels[0]]\n",
    "for l in labels[1:]:\n",
    "    datt = column_stack((datt,dataT[l]))\n",
    "pddataT = pd.DataFrame(data=datt,columns=labels)\n"
   ]
  },
  {
   "cell_type": "code",
   "execution_count": 45,
   "metadata": {},
   "outputs": [
    {
     "data": {
      "text/plain": [
       "[<matplotlib.lines.Line2D at 0x7efe81148dd8>]"
      ]
     },
     "execution_count": 45,
     "metadata": {},
     "output_type": "execute_result"
    },
    {
     "data": {
      "image/png": "[encoded data removed]",
      "text/plain": [
       "<Figure size 432x288 with 1 Axes>"
      ]
     },
     "metadata": {
      "needs_background": "light"
     },
     "output_type": "display_data"
    }
   ],
   "source": [
    "plot(pddataT['Dss'],(mesT[:,1]-mesT[:,3])/pddataT['A1'],'.')"
   ]
  },
  {
   "cell_type": "markdown",
   "metadata": {},
   "source": [
    "# Analysis timed E/I"
   ]
  },
  {
   "cell_type": "code",
   "execution_count": 33,
   "metadata": {},
   "outputs": [
    {
     "name": "stdout",
     "output_type": "stream",
     "text": [
      "\n",
      "GABA-GLU----------------------------------------\n",
      "\n",
      "**********V in spine head**********\n",
      "{'A2': 0.6797406861470394, 'Rneck': 0.17749488948776831, 'A1': 0.06277225683014932, 'Dss': 0.03163658515118568, 'Lhead': 0.0011040941412284802, 'variance': 0.002327178402794115}\n",
      "{'A2': 0.6797406861470394, 'Rneck': 0.1707078273399114, 'A1': 0.04258750026962543, 'Dss': 0.03303945754080151, 'Lhead': 1.7126213283535918e-05}\n",
      "**********V in dend shaft**********\n",
      "{'A2': 0.6108709140454116, 'Rneck': 0.264102596199428, 'A1': 0.03171961538293053, 'Dss': 0.04677993453195515, 'Lhead': 0.002682090950735398, 'variance': 0.002991973838845423}\n",
      "{'A2': 0.6108709140454116, 'Rneck': 0.25400382243197583, 'Dss': 0.030891295692436205, 'A1': 0.03623760861279968, 'Lhead': 0.0009951099032178279}\n",
      "**********Calcium**********\n",
      "{'A2': 0.5098224997154384, 'Dss': 0.2500969878892041, 'A1': 0.10749226777632684, 'Rneck': 0.06993539883271294, 'Lhead': 0.00017537949328590152, 'variance': 0.007984272634792965}\n",
      "{'A2': 0.5098224997154384, 'Dss': 0.2360192042660354, 'A1': 0.06981083957934509, 'Rneck': 0.07261858664375676, 'Lhead': 4.205536917678554e-05}\n",
      "\n",
      "GLU-GABA----------------------------------------\n",
      "\n",
      "**********V in spine head**********\n",
      "{'Dss': 0.2670673479621699, 'Rneck': 0.2171768669651447, 'A2': 0.029466351607796426, 'A1': 0.023629098413786742, 'Lhead': 0.006089681090817367, 'variance': 0.0002069524292089094}\n",
      "{'Dss': 0.2670673479621699, 'Rneck': 0.21637649249174196, 'A2': 0.028853000845132537, 'A1': 0.02130329142172893, 'Lhead': 0.0051874404881426806}\n",
      "**********V in dend shaft**********\n",
      "{'Dss': 0.6886916538517609, 'Rneck': 0.08043903868853988, 'A2': 0.05838540092649444, 'Lhead': 0.002470740901587415, 'A1': 4.588142279962626e-05, 'variance': 0.0008380415595856968}\n",
      "{'Dss': 0.6886916538517609, 'Rneck': 0.08014259204516094, 'A2': 0.05056478954686683, 'A1': 0.0011654142117811794, 'Lhead': 0.0005370560889303988}\n",
      "**********Calcium**********\n",
      "{'A2': 0.5447223015816628, 'Dss': 0.26361328800108763, 'A1': 0.10452987168829532, 'Rneck': 0.037260054291425274, 'Lhead': 0.00028174374396449514, 'variance': 0.005279892916535626}\n",
      "{'A2': 0.5447223015816628, 'Dss': 0.24877468134695468, 'A1': 0.06719649548644835, 'Rneck': 0.04079716493043317, 'Lhead': 1.3768795023794134e-05}\n",
      "**********Time reduction**********\n",
      "{'A2': 0.8104413379611473, 'Rneck': 0.08561749137418125, 'Dss': 0.05347627929808675, 'A1': 0.0030413947287243406, 'Lhead': 0.0010719011939057596, 'variance': 0.006401634950151524}\n",
      "{'A2': 0.8104413379611473, 'Rneck': 0.08234364367875102, 'Dss': 0.056528644813749196, 'A1': 0.0021149577518193574, 'Lhead': 0.0008361900297026992}\n",
      "**********Time**********\n",
      "{'Rneck': 0.41426197028732104, 'Dss': 0.4137719399820998, 'A1': 0.0584449489602705, 'Lhead': 0.0017126088710760629, 'A2': 0.002663469017954584, 'variance': 3.3463119375000008}\n",
      "{'Rneck': 0.41426197028732104, 'Dss': 0.41224704231136833, 'A1': 0.05317256045682106, 'Lhead': 0.003700662097208096, 'A2': 0.003835473213267937}\n"
     ]
    }
   ],
   "source": [
    "with open(\"../SpineModel/dis_ga_glu02x2.pickle\",\"rb\") as f:\n",
    "    dis,mes1,mes01 = pickle.load(f)\n",
    "\n",
    "with open(\"../SpineModel/dis_glu_ga02x2.pickle\",\"rb\") as f:\n",
    "    dis,mes,mes0,times,times0 = pickle.load(f)\n",
    "\n",
    "labels = ['Vh','A1','Ah','Dss','Rneck','Lhead']#,'meanDhead']\n",
    "labels = ['A1','A2','Dss','Rneck','Lhead']#,'meanDhead']\n",
    "datt = dis[labels[0]]\n",
    "for l in labels[1:]:\n",
    "    datt = column_stack((datt,dis[l]))\n",
    "\n",
    "pddataT = pd.DataFrame(data=datt,columns=labels)\n",
    "\n",
    "print(\"\\nGABA-GLU----------------------------------------\\n\")\n",
    "print('*'*10+'V in spine head'+10*'*')\n",
    "print(LinReg_varexplain_B(pddataT,mes1[:,1]/mes01[:,1]))\n",
    "print(LinReg_varexplain_F(pddataT,mes1[:,1]/mes01[:,1]))\n",
    "print('*'*10+'V in dend shaft'+10*'*')\n",
    "print(LinReg_varexplain_B(pddataT,mes1[:,2]/mes01[:,2]))\n",
    "print(LinReg_varexplain_F(pddataT,mes1[:,2]/mes01[:,2]))\n",
    "print('*'*10+'Calcium'+10*'*')\n",
    "print(LinReg_varexplain_B(pddataT,mes1[:,4]/mes01[:,4]))\n",
    "print(LinReg_varexplain_F(pddataT,mes1[:,4]/mes01[:,4]))\n",
    "\n",
    "print(\"\\nGLU-GABA----------------------------------------\\n\")\n",
    "print('*'*10+'V in spine head'+10*'*')\n",
    "print(LinReg_varexplain_B(pddataT,mes[:,1]/mes0[:,1]))\n",
    "print(LinReg_varexplain_F(pddataT,mes[:,1]/mes0[:,1]))\n",
    "print('*'*10+'V in dend shaft'+10*'*')\n",
    "print(LinReg_varexplain_B(pddataT,mes[:,2]/mes0[:,2]))\n",
    "print(LinReg_varexplain_F(pddataT,mes[:,2]/mes0[:,2]))\n",
    "print('*'*10+'Calcium'+10*'*')\n",
    "print(LinReg_varexplain_B(pddataT,mes[:,4]/mes0[:,4]))\n",
    "print(LinReg_varexplain_F(pddataT,mes[:,4]/mes0[:,4]))\n",
    "print('*'*10+'Time reduction'+10*'*')\n",
    "print(LinReg_varexplain_B(pddataT,times/times0))\n",
    "print(LinReg_varexplain_F(pddataT,times/times0))\n",
    "print('*'*10+'Time'+10*'*')\n",
    "print(LinReg_varexplain_B(pddataT,times0))\n",
    "print(LinReg_varexplain_F(pddataT,times0))\n"
   ]
  },
  {
   "cell_type": "code",
   "execution_count": 35,
   "metadata": {},
   "outputs": [
    {
     "data": {
      "text/plain": [
       "[<matplotlib.lines.Line2D at 0x7efe86086c50>]"
      ]
     },
     "execution_count": 35,
     "metadata": {},
     "output_type": "execute_result"
    },
    {
     "data": {
      "image/png": "[encoded data removed]",
      "text/plain": [
       "<Figure size 432x288 with 1 Axes>"
      ]
     },
     "metadata": {
      "needs_background": "light"
     },
     "output_type": "display_data"
    }
   ],
   "source": [
    "plot(pddataT['Dss'],mes[:,1]/mes0[:,1],'.')"
   ]
  },
  {
   "cell_type": "code",
   "execution_count": 46,
   "metadata": {},
   "outputs": [
    {
     "ename": "KeyError",
     "evalue": "'Dsp'",
     "output_type": "error",
     "traceback": [
      "\u001b[0;31m---------------------------------------------------------------------------\u001b[0m",
      "\u001b[0;31mKeyError\u001b[0m                                  Traceback (most recent call last)",
      "\u001b[0;32m/export/home1/users/bssn/serna/environments/neuron/lib/python3.6/site-packages/pandas/core/indexes/base.py\u001b[0m in \u001b[0;36mget_loc\u001b[0;34m(self, key, method, tolerance)\u001b[0m\n\u001b[1;32m   2655\u001b[0m             \u001b[0;32mtry\u001b[0m\u001b[0;34m:\u001b[0m\u001b[0;34m\u001b[0m\u001b[0m\n\u001b[0;32m-> 2656\u001b[0;31m                 \u001b[0;32mreturn\u001b[0m \u001b[0mself\u001b[0m\u001b[0;34m.\u001b[0m\u001b[0m_engine\u001b[0m\u001b[0;34m.\u001b[0m\u001b[0mget_loc\u001b[0m\u001b[0;34m(\u001b[0m\u001b[0mkey\u001b[0m\u001b[0;34m)\u001b[0m\u001b[0;34m\u001b[0m\u001b[0m\n\u001b[0m\u001b[1;32m   2657\u001b[0m             \u001b[0;32mexcept\u001b[0m \u001b[0mKeyError\u001b[0m\u001b[0;34m:\u001b[0m\u001b[0;34m\u001b[0m\u001b[0m\n",
      "\u001b[0;32mpandas/_libs/index.pyx\u001b[0m in \u001b[0;36mpandas._libs.index.IndexEngine.get_loc\u001b[0;34m()\u001b[0m\n",
      "\u001b[0;32mpandas/_libs/index.pyx\u001b[0m in \u001b[0;36mpandas._libs.index.IndexEngine.get_loc\u001b[0;34m()\u001b[0m\n",
      "\u001b[0;32mpandas/_libs/hashtable_class_helper.pxi\u001b[0m in \u001b[0;36mpandas._libs.hashtable.PyObjectHashTable.get_item\u001b[0;34m()\u001b[0m\n",
      "\u001b[0;32mpandas/_libs/hashtable_class_helper.pxi\u001b[0m in \u001b[0;36mpandas._libs.hashtable.PyObjectHashTable.get_item\u001b[0;34m()\u001b[0m\n",
      "\u001b[0;31mKeyError\u001b[0m: 'Dsp'",
      "\nDuring handling of the above exception, another exception occurred:\n",
      "\u001b[0;31mKeyError\u001b[0m                                  Traceback (most recent call last)",
      "\u001b[0;32m<ipython-input-46-b5fbacd4f014>\u001b[0m in \u001b[0;36m<module>\u001b[0;34m\u001b[0m\n\u001b[0;32m----> 1\u001b[0;31m \u001b[0mplot\u001b[0m\u001b[0;34m(\u001b[0m\u001b[0mpddataT\u001b[0m\u001b[0;34m[\u001b[0m\u001b[0;34m'Lhead'\u001b[0m\u001b[0;34m]\u001b[0m\u001b[0;34m,\u001b[0m\u001b[0mpddataT\u001b[0m\u001b[0;34m[\u001b[0m\u001b[0;34m'Dsp'\u001b[0m\u001b[0;34m]\u001b[0m\u001b[0;34m)\u001b[0m\u001b[0;34m\u001b[0m\u001b[0m\n\u001b[0m",
      "\u001b[0;32m/export/home1/users/bssn/serna/environments/neuron/lib/python3.6/site-packages/pandas/core/frame.py\u001b[0m in \u001b[0;36m__getitem__\u001b[0;34m(self, key)\u001b[0m\n\u001b[1;32m   2925\u001b[0m             \u001b[0;32mif\u001b[0m \u001b[0mself\u001b[0m\u001b[0;34m.\u001b[0m\u001b[0mcolumns\u001b[0m\u001b[0;34m.\u001b[0m\u001b[0mnlevels\u001b[0m \u001b[0;34m>\u001b[0m \u001b[0;36m1\u001b[0m\u001b[0;34m:\u001b[0m\u001b[0;34m\u001b[0m\u001b[0m\n\u001b[1;32m   2926\u001b[0m                 \u001b[0;32mreturn\u001b[0m \u001b[0mself\u001b[0m\u001b[0;34m.\u001b[0m\u001b[0m_getitem_multilevel\u001b[0m\u001b[0;34m(\u001b[0m\u001b[0mkey\u001b[0m\u001b[0;34m)\u001b[0m\u001b[0;34m\u001b[0m\u001b[0m\n\u001b[0;32m-> 2927\u001b[0;31m             \u001b[0mindexer\u001b[0m \u001b[0;34m=\u001b[0m \u001b[0mself\u001b[0m\u001b[0;34m.\u001b[0m\u001b[0mcolumns\u001b[0m\u001b[0;34m.\u001b[0m\u001b[0mget_loc\u001b[0m\u001b[0;34m(\u001b[0m\u001b[0mkey\u001b[0m\u001b[0;34m)\u001b[0m\u001b[0;34m\u001b[0m\u001b[0m\n\u001b[0m\u001b[1;32m   2928\u001b[0m             \u001b[0;32mif\u001b[0m \u001b[0mis_integer\u001b[0m\u001b[0;34m(\u001b[0m\u001b[0mindexer\u001b[0m\u001b[0;34m)\u001b[0m\u001b[0;34m:\u001b[0m\u001b[0;34m\u001b[0m\u001b[0m\n\u001b[1;32m   2929\u001b[0m                 \u001b[0mindexer\u001b[0m \u001b[0;34m=\u001b[0m \u001b[0;34m[\u001b[0m\u001b[0mindexer\u001b[0m\u001b[0;34m]\u001b[0m\u001b[0;34m\u001b[0m\u001b[0m\n",
      "\u001b[0;32m/export/home1/users/bssn/serna/environments/neuron/lib/python3.6/site-packages/pandas/core/indexes/base.py\u001b[0m in \u001b[0;36mget_loc\u001b[0;34m(self, key, method, tolerance)\u001b[0m\n\u001b[1;32m   2656\u001b[0m                 \u001b[0;32mreturn\u001b[0m \u001b[0mself\u001b[0m\u001b[0;34m.\u001b[0m\u001b[0m_engine\u001b[0m\u001b[0;34m.\u001b[0m\u001b[0mget_loc\u001b[0m\u001b[0;34m(\u001b[0m\u001b[0mkey\u001b[0m\u001b[0;34m)\u001b[0m\u001b[0;34m\u001b[0m\u001b[0m\n\u001b[1;32m   2657\u001b[0m             \u001b[0;32mexcept\u001b[0m \u001b[0mKeyError\u001b[0m\u001b[0;34m:\u001b[0m\u001b[0;34m\u001b[0m\u001b[0m\n\u001b[0;32m-> 2658\u001b[0;31m                 \u001b[0;32mreturn\u001b[0m \u001b[0mself\u001b[0m\u001b[0;34m.\u001b[0m\u001b[0m_engine\u001b[0m\u001b[0;34m.\u001b[0m\u001b[0mget_loc\u001b[0m\u001b[0;34m(\u001b[0m\u001b[0mself\u001b[0m\u001b[0;34m.\u001b[0m\u001b[0m_maybe_cast_indexer\u001b[0m\u001b[0;34m(\u001b[0m\u001b[0mkey\u001b[0m\u001b[0;34m)\u001b[0m\u001b[0;34m)\u001b[0m\u001b[0;34m\u001b[0m\u001b[0m\n\u001b[0m\u001b[1;32m   2659\u001b[0m         \u001b[0mindexer\u001b[0m \u001b[0;34m=\u001b[0m \u001b[0mself\u001b[0m\u001b[0;34m.\u001b[0m\u001b[0mget_indexer\u001b[0m\u001b[0;34m(\u001b[0m\u001b[0;34m[\u001b[0m\u001b[0mkey\u001b[0m\u001b[0;34m]\u001b[0m\u001b[0;34m,\u001b[0m \u001b[0mmethod\u001b[0m\u001b[0;34m=\u001b[0m\u001b[0mmethod\u001b[0m\u001b[0;34m,\u001b[0m \u001b[0mtolerance\u001b[0m\u001b[0;34m=\u001b[0m\u001b[0mtolerance\u001b[0m\u001b[0;34m)\u001b[0m\u001b[0;34m\u001b[0m\u001b[0m\n\u001b[1;32m   2660\u001b[0m         \u001b[0;32mif\u001b[0m \u001b[0mindexer\u001b[0m\u001b[0;34m.\u001b[0m\u001b[0mndim\u001b[0m \u001b[0;34m>\u001b[0m \u001b[0;36m1\u001b[0m \u001b[0;32mor\u001b[0m \u001b[0mindexer\u001b[0m\u001b[0;34m.\u001b[0m\u001b[0msize\u001b[0m \u001b[0;34m>\u001b[0m \u001b[0;36m1\u001b[0m\u001b[0;34m:\u001b[0m\u001b[0;34m\u001b[0m\u001b[0m\n",
      "\u001b[0;32mpandas/_libs/index.pyx\u001b[0m in \u001b[0;36mpandas._libs.index.IndexEngine.get_loc\u001b[0;34m()\u001b[0m\n",
      "\u001b[0;32mpandas/_libs/index.pyx\u001b[0m in \u001b[0;36mpandas._libs.index.IndexEngine.get_loc\u001b[0;34m()\u001b[0m\n",
      "\u001b[0;32mpandas/_libs/hashtable_class_helper.pxi\u001b[0m in \u001b[0;36mpandas._libs.hashtable.PyObjectHashTable.get_item\u001b[0;34m()\u001b[0m\n",
      "\u001b[0;32mpandas/_libs/hashtable_class_helper.pxi\u001b[0m in \u001b[0;36mpandas._libs.hashtable.PyObjectHashTable.get_item\u001b[0;34m()\u001b[0m\n",
      "\u001b[0;31mKeyError\u001b[0m: 'Dsp'"
     ]
    }
   ],
   "source": [
    "plot(pddataT['Lhead'],pddataT['Dsp'])"
   ]
  },
  {
   "cell_type": "code",
   "execution_count": 24,
   "metadata": {},
   "outputs": [],
   "source": [
    "from sklearn.feature_selection import SelectKBest,VarianceThreshold,SelectFromModel, chi2, f_regression\n",
    "\n",
    "from sklearn.linear_model import LassoCV\n"
   ]
  },
  {
   "cell_type": "code",
   "execution_count": 15,
   "metadata": {},
   "outputs": [],
   "source": [
    "varthr = VarianceThreshold()\n",
    "X = StandardScaler().fit_transform(datt)\n",
    "\n",
    "varthr.fit_transform(datt)\n",
    "yrt = mesT[:,3]\n",
    "\n",
    "X_kbest=SelectKBest(score_func=f_regression,k=4).fit_transform(pddataT,yrt)\n"
   ]
  },
  {
   "cell_type": "code",
   "execution_count": 16,
   "metadata": {},
   "outputs": [
    {
     "name": "stdout",
     "output_type": "stream",
     "text": [
      "[[2.37183829e-02 3.16088000e-02 1.38018256e+00 1.84601733e+02]\n",
      " [2.05218609e-01 3.10407000e-01 5.66545283e+00 4.74310921e+02]\n",
      " [3.57037012e-02 4.42527000e-02 1.52561796e+00 2.29820199e+02]\n",
      " ...\n",
      " [7.95727020e-02 9.63270000e-02 3.10240295e+00 3.14441268e+02]\n",
      " [2.51443079e-02 3.95413000e-02 1.32961270e+00 2.11225864e+02]\n",
      " [1.98156039e-02 3.74441000e-02 1.09136297e+00 1.92218969e+02]]\n"
     ]
    },
    {
     "data": {
      "text/html": [
       "<div>\n",
       "<style scoped>\n",
       "    .dataframe tbody tr th:only-of-type {\n",
       "        vertical-align: middle;\n",
       "    }\n",
       "\n",
       "    .dataframe tbody tr th {\n",
       "        vertical-align: top;\n",
       "    }\n",
       "\n",
       "    .dataframe thead th {\n",
       "        text-align: right;\n",
       "    }\n",
       "</style>\n",
       "<table border=\"1\" class=\"dataframe\">\n",
       "  <thead>\n",
       "    <tr style=\"text-align: right;\">\n",
       "      <th></th>\n",
       "      <th>Vh</th>\n",
       "      <th>A1</th>\n",
       "      <th>Ah</th>\n",
       "      <th>Dss</th>\n",
       "      <th>Rneck</th>\n",
       "      <th>Lhead</th>\n",
       "      <th>meanDhead</th>\n",
       "    </tr>\n",
       "  </thead>\n",
       "  <tbody>\n",
       "    <tr>\n",
       "      <th>0</th>\n",
       "      <td>0.023718</td>\n",
       "      <td>0.031609</td>\n",
       "      <td>1.380183</td>\n",
       "      <td>89.548250</td>\n",
       "      <td>338.711631</td>\n",
       "      <td>0.713347</td>\n",
       "      <td>184.601733</td>\n",
       "    </tr>\n",
       "    <tr>\n",
       "      <th>1</th>\n",
       "      <td>0.205219</td>\n",
       "      <td>0.310407</td>\n",
       "      <td>5.665453</td>\n",
       "      <td>91.545924</td>\n",
       "      <td>35.839677</td>\n",
       "      <td>0.998565</td>\n",
       "      <td>474.310921</td>\n",
       "    </tr>\n",
       "    <tr>\n",
       "      <th>2</th>\n",
       "      <td>0.035704</td>\n",
       "      <td>0.044253</td>\n",
       "      <td>1.525618</td>\n",
       "      <td>91.752832</td>\n",
       "      <td>198.707384</td>\n",
       "      <td>0.722109</td>\n",
       "      <td>229.820199</td>\n",
       "    </tr>\n",
       "    <tr>\n",
       "      <th>3</th>\n",
       "      <td>0.058221</td>\n",
       "      <td>0.046848</td>\n",
       "      <td>2.241514</td>\n",
       "      <td>93.371587</td>\n",
       "      <td>60.946084</td>\n",
       "      <td>0.787828</td>\n",
       "      <td>292.001431</td>\n",
       "    </tr>\n",
       "    <tr>\n",
       "      <th>4</th>\n",
       "      <td>0.009354</td>\n",
       "      <td>0.012059</td>\n",
       "      <td>0.818723</td>\n",
       "      <td>92.727133</td>\n",
       "      <td>345.731900</td>\n",
       "      <td>0.751088</td>\n",
       "      <td>121.317864</td>\n",
       "    </tr>\n",
       "  </tbody>\n",
       "</table>\n",
       "</div>"
      ],
      "text/plain": [
       "         Vh        A1        Ah        Dss       Rneck     Lhead   meanDhead\n",
       "0  0.023718  0.031609  1.380183  89.548250  338.711631  0.713347  184.601733\n",
       "1  0.205219  0.310407  5.665453  91.545924   35.839677  0.998565  474.310921\n",
       "2  0.035704  0.044253  1.525618  91.752832  198.707384  0.722109  229.820199\n",
       "3  0.058221  0.046848  2.241514  93.371587   60.946084  0.787828  292.001431\n",
       "4  0.009354  0.012059  0.818723  92.727133  345.731900  0.751088  121.317864"
      ]
     },
     "execution_count": 16,
     "metadata": {},
     "output_type": "execute_result"
    }
   ],
   "source": [
    "print(X_kbest)\n",
    "pddataT.head()"
   ]
  },
  {
   "cell_type": "code",
   "execution_count": 17,
   "metadata": {},
   "outputs": [],
   "source": [
    "regressor = LinearRegression()  \n",
    "regressor.fit(pddataT, yrt)\n",
    "y_pred = regressor.predict(datt)\n",
    "\n",
    "sfm = SelectFromModel(regressor, threshold=1e-1)\n",
    "sfm.fit(pddataT,yrt)\n",
    "n_features = sfm.transform(pddataT).shape[1]"
   ]
  },
  {
   "cell_type": "code",
   "execution_count": 18,
   "metadata": {},
   "outputs": [
    {
     "name": "stdout",
     "output_type": "stream",
     "text": [
      "2\n"
     ]
    },
    {
     "data": {
      "text/plain": [
       "(0.0120591, 0.993682)"
      ]
     },
     "execution_count": 18,
     "metadata": {},
     "output_type": "execute_result"
    },
    {
     "data": {
      "image/png": "[encoded data removed]",
      "text/plain": [
       "<Figure size 432x288 with 2 Axes>"
      ]
     },
     "metadata": {
      "needs_background": "light"
     },
     "output_type": "display_data"
    }
   ],
   "source": [
    "X_transform = sfm.transform(pddataT)\n",
    "print(n_features)\n",
    "plt.title(\n",
    "    \" \"\n",
    "    \"threshold %0.3f.\" % sfm.threshold)\n",
    "feature1 = X_transform[:, 0]\n",
    "feature2 = X_transform[:, 1]\n",
    "scatter(feature1, feature2, c = yrt,alpha=0.8)\n",
    "colorbar()\n",
    "plt.xlabel(\"Feature number 1\")\n",
    "plt.ylabel(\"Feature number 2\")\n",
    "plt.ylim([np.min(feature2), np.max(feature2)])\n"
   ]
  },
  {
   "cell_type": "code",
   "execution_count": 21,
   "metadata": {},
   "outputs": [
    {
     "ename": "NameError",
     "evalue": "name 'heatmap' is not defined",
     "output_type": "error",
     "traceback": [
      "\u001b[0;31m---------------------------------------------------------------------------\u001b[0m",
      "\u001b[0;31mNameError\u001b[0m                                 Traceback (most recent call last)",
      "\u001b[0;32m<ipython-input-21-df7b38136f11>\u001b[0m in \u001b[0;36m<module>\u001b[0;34m\u001b[0m\n\u001b[0;32m----> 1\u001b[0;31m \u001b[0mheatmap\u001b[0m\u001b[0;34m(\u001b[0m\u001b[0mpddataT\u001b[0m\u001b[0;34m.\u001b[0m\u001b[0mcorr\u001b[0m\u001b[0;34m(\u001b[0m\u001b[0;34m)\u001b[0m\u001b[0;34m)\u001b[0m\u001b[0;34m\u001b[0m\u001b[0m\n\u001b[0m",
      "\u001b[0;31mNameError\u001b[0m: name 'heatmap' is not defined"
     ]
    }
   ],
   "source": [
    "pddataT.corr()"
   ]
  },
  {
   "cell_type": "code",
   "execution_count": 118,
   "metadata": {},
   "outputs": [
    {
     "data": {
      "text/plain": [
       "(('Vh', 'A1', 'Ah', 'Dss', 'Rneck', 'Lhead', 'meanDhead'),\n",
       " array([4.91670737e-07, 1.02418117e-06, 2.41132114e-04, 4.50474138e-02,\n",
       "        3.21126763e-01, 3.75174261e-06, 6.33579424e-01]))"
      ]
     },
     "execution_count": 118,
     "metadata": {},
     "output_type": "execute_result"
    }
   ],
   "source": [
    "labels,varthr.variances_/varthr.variances_.sum()"
   ]
  },
  {
   "cell_type": "code",
   "execution_count": 68,
   "metadata": {},
   "outputs": [
    {
     "name": "stdout",
     "output_type": "stream",
     "text": [
      "0.4074799523418079\n",
      "Vh 0.2750157264237666 3.7354020984337533\n",
      "Ah 0.26775476874295173 3.7354020984337533\n",
      "Rneck 0.2442773651850881 3.7354020984337533\n",
      "Lhead 0.28038418365570644 3.7354020984337533\n",
      "meanDhead 0.2504158009079434 3.7354020984337533\n"
     ]
    }
   ],
   "source": [
    "i = 1\n",
    "regressor.fit(datt[:,i:(i+1)], mesT[:,3])\n",
    "y_pred0 = regressor.predict(datt[:,i:(i+1)])\n",
    "var0 = ((mesT[:,3]-y_pred0)).var()\n",
    "print(var0)\n",
    "i = 3\n",
    "regressor.fit(datt[:,i:(i+1)], mesT[:,3]-y_pred0)\n",
    "y_pred1 = regressor.predict(datt[:,i:(i+1)])\n",
    "var1 = ((mesT[:,3]-y_pred0-y_pred1)).var()\n",
    "y_predt = y_pred0+y_pred1\n",
    "for i in [0,2,4,5,6]:\n",
    "    regressor.fit(datt[:,i:(i+1)], mesT[:,3]-y_predt)\n",
    "    y_pred2 = regressor.predict(datt[:,i:(i+1)])\n",
    "    var2 = ((mesT[:,3]-y_predt-y_pred2)).var()\n",
    "    print(labels[i],var2,var(mesT[:,3]))"
   ]
  },
  {
   "cell_type": "code",
   "execution_count": 9,
   "metadata": {},
   "outputs": [],
   "source": [
    "# #############################################################################\n",
    "# Generate random sample data\n",
    "centers = [[1, 1,5,2], [-1, -1,3,4], [1, -1,2,4]]\n",
    "X, _ = make_blobs(n_samples=750, centers=centers, cluster_std=0.4,\n",
    "                            random_state=0)\n",
    "\n",
    "# Change X to real statistical data for spines\n",
    "file = \"spine_stats.dat\"\n",
    "X = load(file)\n"
   ]
  },
  {
   "cell_type": "code",
   "execution_count": 10,
   "metadata": {},
   "outputs": [
    {
     "data": {
      "text/plain": [
       "(750, 4)"
      ]
     },
     "execution_count": 10,
     "metadata": {},
     "output_type": "execute_result"
    }
   ],
   "source": [
    "X = StandardScaler().fit_transform(X)\n",
    "X.shape"
   ]
  },
  {
   "cell_type": "code",
   "execution_count": 13,
   "metadata": {},
   "outputs": [
    {
     "name": "stdout",
     "output_type": "stream",
     "text": [
      "Estimated number of clusters: 5\n",
      "Estimated number of noise points: 578\n",
      "Silhouette Coefficient: -0.410\n"
     ]
    }
   ],
   "source": [
    "# #############################################################################\n",
    "# Compute DBSCAN\n",
    "db = DBSCAN(eps=0.3, min_samples=10).fit(X)\n",
    "core_samples_mask = zeros_like(db.labels_, dtype=bool)\n",
    "core_samples_mask[db.core_sample_indices_] = True\n",
    "labels = db.labels_\n",
    "\n",
    "# Number of clusters in labels, ignoring noise if present.\n",
    "n_clusters_ = len(set(labels)) - (1 if -1 in labels else 0)\n",
    "n_noise_ = list(labels).count(-1)\n",
    "\n",
    "print('Estimated number of clusters: %d' % n_clusters_)\n",
    "print('Estimated number of noise points: %d' % n_noise_)\n",
    "#print(\"Homogeneity: %0.3f\" % metrics.homogeneity_score(labels_true, labels))\n",
    "#print(\"Completeness: %0.3f\" % metrics.completeness_score(labels_true, labels))\n",
    "#print(\"V-measure: %0.3f\" % metrics.v_measure_score(labels_true, labels))\n",
    "#print(\"Adjusted Rand Index: %0.3f\"\n",
    "#      % metrics.adjusted_rand_score(labels_true, labels))\n",
    "#print(\"Adjusted Mutual Information: %0.3f\"\n",
    "#      % metrics.adjusted_mutual_info_score(labels_true, labels))\n",
    "print(\"Silhouette Coefficient: %0.3f\"\n",
    "      % metrics.silhouette_score(X, labels))"
   ]
  },
  {
   "cell_type": "code",
   "execution_count": 22,
   "metadata": {},
   "outputs": [
    {
     "data": {
      "image/png": "[encoded data removed]",
      "text/plain": [
       "<Figure size 432x288 with 1 Axes>"
      ]
     },
     "metadata": {},
     "output_type": "display_data"
    }
   ],
   "source": [
    "# #############################################################################\n",
    "# Plot result\n",
    "from matplotlib.pylab import cm\n",
    "# Black removed and is used for noise instead.\n",
    "unique_labels = set(labels)\n",
    "colors = [cm.Spectral(each) for each in linspace(0, 1, len(unique_labels))]\n",
    "for k, col in zip(unique_labels, colors):\n",
    "    if k == -1:\n",
    "        # Black used for noise.\n",
    "        col = [0, 0, 0, 1]\n",
    "\n",
    "    class_member_mask = (labels == k)\n",
    "\n",
    "    xy = X[class_member_mask & core_samples_mask]\n",
    "    plot(xy[:, 0], xy[:, 1], 'o', markerfacecolor=tuple(col),\n",
    "             markeredgecolor='k', markersize=14)\n",
    "\n",
    "    xy = X[class_member_mask & ~core_samples_mask]\n",
    "    plot(xy[:, 0], xy[:, 1], 'o', markerfacecolor=tuple(col),\n",
    "             markeredgecolor='k', markersize=6)\n",
    "\n",
    "title('Estimated number of clusters: %d' % n_clusters_)\n",
    "show()"
   ]
  },
  {
   "cell_type": "code",
   "execution_count": null,
   "metadata": {},
   "outputs": [],
   "source": []
  }
 ],
 "metadata": {
  "kernelspec": {
   "display_name": "neuron",
   "language": "python",
   "name": "neuron"
  },
  "language_info": {
   "codemirror_mode": {
    "name": "ipython",
    "version": 3
   },
   "file_extension": ".py",
   "mimetype": "text/x-python",
   "name": "python",
   "nbconvert_exporter": "python",
   "pygments_lexer": "ipython3",
   "version": "3.6.5"
  }
 },
 "nbformat": 4,
 "nbformat_minor": 2
}
