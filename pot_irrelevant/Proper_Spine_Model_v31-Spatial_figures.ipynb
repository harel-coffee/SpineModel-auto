{
 "cells": [
  {
   "cell_type": "markdown",
   "metadata": {},
   "source": [
    "# Figures for the paper"
   ]
  },
  {
   "cell_type": "code",
   "execution_count": 1,
   "metadata": {},
   "outputs": [],
   "source": [
    "from scipy.integrate import quad\n",
    "from numpy import *\n",
    "from matplotlib.pylab import *\n",
    "import matplotlib as mpl\n",
    "%matplotlib inline"
   ]
  },
  {
   "cell_type": "code",
   "execution_count": 2,
   "metadata": {},
   "outputs": [],
   "source": [
    "import PIL.Image as Image\n",
    "import pickle"
   ]
  },
  {
   "cell_type": "code",
   "execution_count": 3,
   "metadata": {},
   "outputs": [],
   "source": [
    "def plot_trace(data,t,ax=None,c='C0',band= None):\n",
    "    if ax is None:\n",
    "        ax = gca()\n",
    "    vtracso = data*1.0\n",
    "    vtracso.sort(axis=1)\n",
    "    ax.plot(t,vtracso[:,250],c)\n",
    "    if band == 0:\n",
    "        pass\n",
    "    elif band == 1:\n",
    "        ax.fill_between(t,vtracso[:,79],vtracso[:,421],color=c,alpha=0.5)\n",
    "    elif band ==2:\n",
    "        ax.fill_between(t,vtracso[:,5],vtracso[:,495],color=c,alpha=0.2)\n",
    "    else:\n",
    "        ax.fill_between(t,vtracso[:,5],vtracso[:,495],color=c,alpha=0.2)\n",
    "        ax.fill_between(t,vtracso[:,79],vtracso[:,421],color=c,alpha=0.5)\n",
    "    return(ax)"
   ]
  },
  {
   "cell_type": "code",
   "execution_count": 4,
   "metadata": {},
   "outputs": [],
   "source": [
    "from matplotlib.patches import ConnectionPatch"
   ]
  },
  {
   "cell_type": "code",
   "execution_count": 5,
   "metadata": {},
   "outputs": [],
   "source": [
    "def getint(x):\n",
    "    xc = x*1.0\n",
    "    xc.sort()\n",
    "    sh = xc.shape[0]\n",
    "    xmed = xc[sh//2]\n",
    "    s0= int(sh*(1-.6827)/2)\n",
    "    s1 = sh-s0\n",
    "    x0 = xc[s0]\n",
    "    x1 = xc[s1]\n",
    "    s0b= int(sh*(1-.95)/2)\n",
    "    s1b = sh-s0b\n",
    "    x0b = xc[s0b]\n",
    "    x1b = xc[s1b]\n",
    "    return((xmed,x0,x1,x0b,x1b))"
   ]
  },
  {
   "cell_type": "code",
   "execution_count": null,
   "metadata": {},
   "outputs": [],
   "source": [
    "#sys.argv[4]\n",
    "condition = '1000_80_65'\n",
    "\n",
    "folderstore = '/mnt/data/spinemodel/conditions/spatial/'"
   ]
  },
  {
   "cell_type": "code",
   "execution_count": 6,
   "metadata": {},
   "outputs": [],
   "source": [
    "try:\n",
    "    with open(folderstore+\"gatinginfovslv31\"+condition+\".pickle\",\"rb\") as f:\n",
    "        aps = pickle.load(f)\n",
    "except:\n",
    "    print('no final file!')\n",
    "\n",
    "    try:\n",
    "        with open(folderstore+\"gatinginfovslv31\"+condition+\"_temp.pickle\",\"rb\") as f:\n",
    "            aps = pickle.load(f)\n",
    "    except:\n",
    "        print('no temporary file either!')\n",
    "    \n",
    "# with open(\"/mnt/data/gatinginfovslv2_temp.pickle\",\"rb\") as f:\n",
    "#     aph = pickle.load(f)\n",
    "    "
   ]
  },
  {
   "cell_type": "code",
   "execution_count": 7,
   "metadata": {},
   "outputs": [
    {
     "name": "stdout",
     "output_type": "stream",
     "text": [
      "[-67.5 -60.  -52.5 -45.  -37.5 -30.  -22.5 -15.   -7.5   0.    7.5  15.\n",
      "  22.5  30.   37.5  45.   52.5  60.   67.5] (19,)\n"
     ]
    }
   ],
   "source": [
    "dsv = array([1,2,3,4,5,6,7,8,9])*7.5\n",
    "dsvc = list(-1.0*dsv); dsvc.reverse()\n",
    "dsv = concatenate((dsvc,[0],dsv))\n",
    "print(dsv,dsv.shape)"
   ]
  },
  {
   "cell_type": "code",
   "execution_count": 8,
   "metadata": {},
   "outputs": [],
   "source": [
    "labels = ['Vspine','Vsoma','Vdendrite','Ca']\n",
    "EL0s = [-70,-70,-70,0]\n",
    "nr = 1\n",
    "shle = {}\n",
    "shle0 = {}\n",
    "for lab in labels:\n",
    "    shle[lab] = zeros((19,11))\n",
    "    shle0[lab] = zeros((19,11))\n",
    "    \n",
    "#shle['Vspine'] = zeros((19,11))#shle['Vsoma'] = zeros((19,11))#shle['Vdendrite'] = zeros((19,11))#shle['Ca'] = zeros((19,11))\n",
    "\n",
    "for il,lab in enumerate(labels):\n",
    "    EL0 = EL0s[il]\n",
    "    # columns: no inh, shaft inh, axo-spinal inh\n",
    "    ap0 = aps[(lab,0.0,0)]-EL0\n",
    "    for i in range(1,nr):\n",
    "        ap0 = row_stack((ap0,aps[(lab,0.0,i)]-EL0))\n",
    "\n",
    "    #Effect very close to inh\n",
    "    r0shaft = ap0[:,1]/ap0[:,0]\n",
    "    r0axspi = ap0[:,2]/ap0[:,0]\n",
    "    for j,dss in enumerate(dsv):\n",
    "        ap = aps[(lab,dss,0)]-EL0\n",
    "        for i in range(1,nr):\n",
    "            ap = row_stack((ap,aps[(lab,dss,i)]-EL0))\n",
    "        rshaft = ap[:,1]/ap[:,0]\n",
    "        raxspi = ap[:,2]/ap[:,0]\n",
    "        difr = column_stack(((1-rshaft)/(1-r0shaft),(1-raxspi)/(1-r0axspi)))\n",
    "        # difr = column_stack((rshaft,raxspi))\n",
    "        shle0[lab][j,1:] = concatenate((getint(difr[:,0]),getint(difr[:,1])))\n",
    "        shle0[lab][j,0] = dss\n",
    "        difr[:,0] = difr[:,0]*(1-r0shaft)\n",
    "        difr[:,1] = difr[:,1]*(1-r0axspi)\n",
    "        shle[lab][j,1:] = concatenate((getint(difr[:,0]),getint(difr[:,1])))\n",
    "        shle[lab][j,0] = dss\n"
   ]
  },
  {
   "cell_type": "code",
   "execution_count": 11,
   "metadata": {},
   "outputs": [],
   "source": [
    "shleh = shle\n",
    "shleh0 = shleh0"
   ]
  },
  {
   "cell_type": "code",
   "execution_count": 18,
   "metadata": {},
   "outputs": [],
   "source": [
    "with open(folderstore+\"gatinginfo_lengthv31\"+condition+\".pickle\",\"wb\") as f:\n",
    "    pickle.dump([shle,shleh,shle0,shleh0],f)\n",
    "    "
   ]
  },
  {
   "cell_type": "code",
   "execution_count": null,
   "metadata": {},
   "outputs": [],
   "source": []
  }
 ],
 "metadata": {
  "kernelspec": {
   "display_name": "neuron",
   "language": "python",
   "name": "neuron"
  },
  "language_info": {
   "codemirror_mode": {
    "name": "ipython",
    "version": 3
   },
   "file_extension": ".py",
   "mimetype": "text/x-python",
   "name": "python",
   "nbconvert_exporter": "python",
   "pygments_lexer": "ipython3",
   "version": "3.6.5"
  }
 },
 "nbformat": 4,
 "nbformat_minor": 2
}
