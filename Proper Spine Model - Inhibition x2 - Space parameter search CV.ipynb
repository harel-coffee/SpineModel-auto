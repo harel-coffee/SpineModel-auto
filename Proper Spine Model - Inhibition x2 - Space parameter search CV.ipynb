{
 "cells": [
  {
   "cell_type": "markdown",
   "metadata": {},
   "source": [
    "# Spine Model\n"
   ]
  },
  {
   "cell_type": "code",
   "execution_count": 1,
   "metadata": {},
   "outputs": [
    {
     "name": "stdout",
     "output_type": "stream",
     "text": [
      "\t0 \n",
      "\t1 \n",
      "\t1 \n",
      "\t1 \n",
      "\t1 \n",
      "20.0 29.78380012512207 1871.3713533814052 6283.185307179586\n",
      "Topology:\n",
      "\n",
      "|-|       soma(0-1)\n",
      "   `|       dendA1c(0-1)\n",
      "     `|       dendA1(0-1)\n",
      "       `|       DendE(0-1)\n",
      "         `|       DendN(0-1)\n",
      "        `|       NSpne000(0-1)\n",
      "          `|       Spne000(0-1)\n",
      "   `|       dendB1(0-1)\n",
      "\n",
      "1.0\n"
     ]
    }
   ],
   "source": [
    "from numpy import *   #ones, cumsum, sum, isscalar\n",
    "from matplotlib.pylab import * \n",
    "%matplotlib inline\n",
    "plotose = True\n",
    "import pickle\n",
    "\n",
    "import PS_lib as lb\n",
    "import PS_storage as st\n",
    "from bootstrap import btset_cd, generateplots, btShInh\n",
    "\n",
    "\n",
    "# Parameter definitions\n",
    "# Data is stored here      \n",
    "data = st.dataStorage() # some default parameters defined.\n",
    "data.dt = 0.05\n",
    "data.NMDA = False\n",
    "\n",
    "# Definition of the model.\n",
    "lb.h.dt = data.dt\n",
    "NMDA = data.NMDA\n",
    "model = lb.loadNeuron(\"Basic2.hoc\",axon=False)\n",
    "\n",
    "# Adding piece of dendritic branch with spine\n",
    "model.addDend(name=\"DendE\",locus=\"dendA1\",L=4.0,D=1.5,ilocus=1)\n",
    "model.addSpne(locus=\"DendE\",ilocus=0.5,L=1.0,D=1.0,Lneck=1.0,Dneck=0.15)\n",
    "# Temperature of the neuron\n",
    "lb.h.celsius = model.temperature\n",
    "model.addDend(name=\"DendN\",locus=3,L=240.0,D=0.5,ilocus=1)\n",
    "data.model = model.__dict__\n",
    "\n",
    "model.soma.L = 20\n",
    "model.dend[-1].L = 200\n",
    "model.dend[-1].diam = 10\n",
    "print(model.soma.L,model.soma.diam,model.soma(0.5).area(),model.dend[-1](0.5).area())\n",
    "\n",
    "print(\"Topology:\")\n",
    "print(lb.h.topology())\n"
   ]
  },
  {
   "cell_type": "markdown",
   "metadata": {},
   "source": [
    "### Recording places\n",
    "\n",
    "We set recording vectors in all dendritic compartments, spine included"
   ]
  },
  {
   "cell_type": "code",
   "execution_count": 2,
   "metadata": {
    "scrolled": false
   },
   "outputs": [],
   "source": [
    "nsp = 1000\n",
    "dis = btset_cd(cd='DiS',size=nsp)\n",
    "sis = btset_cd(cd='SiS',size=nsp)\n",
    "sps = btset_cd(cd='Sp',size=nsp)\n",
    "\n",
    "dis['Rneck'] = dis['Rneck']*2\n",
    "sis['Rneck'] = sis['Rneck']*2\n",
    "sps['Rneck'] = sps['Rneck']*2\n",
    "#generateplots(dis,corplot=True)"
   ]
  },
  {
   "cell_type": "code",
   "execution_count": 3,
   "metadata": {
    "scrolled": false
   },
   "outputs": [],
   "source": [
    "#nsp = 1000\n",
    "#figure()\n",
    "iPSDsh = btShInh(size=nsp)\n",
    "#h = hist(iPSDsh,31)\n",
    "#xlabel(\"iPSD shaft ($\\mu m^2$)\",fontsize=14)\n"
   ]
  },
  {
   "cell_type": "code",
   "execution_count": 4,
   "metadata": {},
   "outputs": [],
   "source": [
    "\n",
    "rhGABAR = 500 # Receptors/um2\n",
    "rhAMPAR = 1000 # Receptors/um2\n",
    "rhNMDAR = 10 # Receptors/um2\n",
    "\n",
    "gtrG = rhGABAR*30e-6*2/5.0\n",
    "gtrA = rhAMPAR*11e-6*2/5.0\n",
    "gtrN = rhNMDAR*30e-6/16.0\n",
    "\n",
    "figureplot=False\n",
    "if figureplot:\n",
    "    fig, ax = subplots(nrows=1,ncols=4,figsize=(20,5))\n",
    "    fig.suptitle(\"Number of Receptors\",fontsize = 20)\n",
    "\n",
    "    ax[0].hist(sis['A1']*rhAMPAR,31)\n",
    "    ax[0].set_xlabel(\"#AMPAR in Sis\")\n",
    "    ax[1].hist(dis['A1']*rhAMPAR,31)\n",
    "    ax[1].set_xlabel(\"#AMPAR in Dis\")\n",
    "    ax[2].hist(dis['A2']*rhGABAR,31)\n",
    "    ax[2].set_xlabel(\"#GABAAR in Dis\")\n",
    "    ax[3].hist(iPSDsh*rhGABAR,31)\n",
    "    ax[3].set_xlabel(\"#GABAAR in shaft\")\n",
    "\n",
    "    fig, ax = subplots(nrows=1,ncols=4,figsize=(20,5))\n",
    "    fig.suptitle(\"Max Current\",fontsize = 20)\n",
    "\n",
    "\n",
    "    ax[0].hist(sis['A1']*gtrA/1e-6,31)\n",
    "    ax[0].set_xlabel(\"I$_{max}$ (pA)\")\n",
    "    ax[1].hist(dis['A1']*gtrA/1e-6,31)\n",
    "    ax[1].set_xlabel(\"I$_{max}$ (pA)\")\n",
    "    ax[2].hist(dis['A2']*gtrG/1e-6,31)\n",
    "    ax[2].set_xlabel(\"I$_{max}$ (pA)\")\n",
    "    ax[3].hist(iPSDsh*gtrG/1e-6,31)\n",
    "    ax[3].set_xlabel(\"I$_{max}$ (pA)\")\n",
    "    #savefig(\"D_maxI.png\",bbox_inches='tight',pad_inches = 0)\n"
   ]
  },
  {
   "cell_type": "code",
   "execution_count": 5,
   "metadata": {},
   "outputs": [],
   "source": [
    "figureplot=False\n",
    "if figureplot:\n",
    "    spn = sis\n",
    "    plot(spn['D'],spn['L'],'.',alpha=0.5)\n",
    "    spn = dis\n",
    "    plot(spn['D'],spn['L'],'.',alpha=0.5)\n",
    "    xlabel(\"Diameter\")\n",
    "    ylabel('Length')\n",
    "\n",
    "    #figure()\n",
    "    #plot(spn['D']**2*pi*spn['L']/4,spn['Vh'],'.')\n",
    "    figure()\n",
    "    hist(spn['Ah']/(spn['D']*pi*spn['L']),51)"
   ]
  },
  {
   "cell_type": "code",
   "execution_count": 6,
   "metadata": {},
   "outputs": [
    {
     "name": "stdout",
     "output_type": "stream",
     "text": [
      "1.0 1.5\n",
      "200.24984394500785 1.5000000000000002\n",
      "50.15974481593781 1.5\n",
      "4.0 1.5\n",
      "200.0 10.0\n"
     ]
    }
   ],
   "source": [
    "for dend in model.dend:\n",
    "    print(dend.L,dend.diam)"
   ]
  },
  {
   "cell_type": "code",
   "execution_count": 7,
   "metadata": {},
   "outputs": [
    {
     "name": "stdout",
     "output_type": "stream",
     "text": [
      "3.141592653589793 0.7853981633974483 3.141592653589793 0.7853981633974483\n",
      "Area Volume Ah Vh\n",
      "0.673066452491447 0.08362316522202654 0.673066452491447 0.08362316522202654\n"
     ]
    }
   ],
   "source": [
    "sp = model.spne[0]\n",
    "print(sp(0.5).area(),sp(0.5).volume(),sp.diam*sp.L*pi,sp.diam**2*sp.L*pi/4.0)\n",
    "\n",
    "sp.L = dis[\"L\"][0]\n",
    "sp.diam = dis[\"D\"][0]\n",
    "print(\"Area Volume Ah Vh\")\n",
    "print(sp(0.5).area(),sp(0.5).volume(),dis[\"Ah\"][0]/dis[\"AhA0\"][0],dis[\"Vh\"][0])\n"
   ]
  },
  {
   "cell_type": "markdown",
   "metadata": {},
   "source": [
    "### Excitatory synapse \n",
    "\n",
    "We need to define the arrival time and dynamics. These parameters may be modified later"
   ]
  },
  {
   "cell_type": "code",
   "execution_count": 8,
   "metadata": {},
   "outputs": [],
   "source": [
    "model.AMPAlist = []\n",
    "model.ncAMPAlist = []\n",
    "\n",
    "AMPA = lb.h.Exp2Syn(1,sec = model.spne[0])\n",
    "tau1  = 0.5\n",
    "tau2 = 3.0\n",
    "AMPA.tau1 = tau1\n",
    "AMPA.tau2 = tau2\n",
    "\n",
    "nampa = 50\n",
    "gmax = 15*nampa/1e6\n",
    "stimE=lb.h.NetStim();stimE.number = 1; \n",
    "NC = lb.h.NetCon(stimE,AMPA,0,0,gmax)\n",
    "\n",
    "model.AMPAlist.append(AMPA)\n",
    "model.ncAMPAlist.append(NC)\n",
    "NC.delay = 10\n",
    "\n",
    "# NMDA part\n",
    "nnmda = 2\n",
    "gmaxN = 50*nnmda/1e6\n",
    "lb.add_NMDAsyns(model, locs=[[0,0.5]], gmax=gmaxN,tau2=20.0)  \n",
    "NMDA = model.NMDAlist[0]\n",
    "NCN = model.ncNMDAlist[0]\n",
    "stimN=lb.h.NetStim();stimN.number = 1;\n",
    "NCN = lb.h.NetCon(stimN,NMDA,0,0,gmaxN)\n",
    "model.ncNMDAlist[0] = NCN\n",
    "NMDA.tau1 = 2.0\n",
    "NMDA.tau2 = 30.0\n"
   ]
  },
  {
   "cell_type": "markdown",
   "metadata": {},
   "source": [
    "### Inhibitory synapse"
   ]
  },
  {
   "cell_type": "code",
   "execution_count": 9,
   "metadata": {},
   "outputs": [],
   "source": [
    "nGABA = 35\n",
    "gmaxG = nGABA*30e-6\n",
    "GABA, NCG = lb.add_GABAsyns(model, locs=[[0,1]], spne=True, gmax=gmaxG,tau1=1.5,tau2=15.0)  \n",
    "#GABA = model.GABAlist[0]\n",
    "#NCG = model.ncGABAlist[0]\n",
    "#stimG=lb.h.NetStim();stimG.number = 1;\n",
    "#NCG = lb.h.NetCon(stimG,GABA,0,0,gmaxG)\n",
    "#model.ncGABAlist[0] = NCG"
   ]
  },
  {
   "cell_type": "code",
   "execution_count": 10,
   "metadata": {},
   "outputs": [
    {
     "data": {
      "text/plain": [
       "[dendA1c, dendA1, dendB1, DendE, DendN]"
      ]
     },
     "execution_count": 10,
     "metadata": {},
     "output_type": "execute_result"
    }
   ],
   "source": [
    "model.dend"
   ]
  },
  {
   "cell_type": "code",
   "execution_count": 11,
   "metadata": {},
   "outputs": [
    {
     "data": {
      "text/plain": [
       "Vector[16]"
      ]
     },
     "execution_count": 11,
     "metadata": {},
     "output_type": "execute_result"
    }
   ],
   "source": [
    "trec, vrec = lb.h.Vector(), lb.h.Vector()\n",
    "gRec, iRec,  vspneRec = [], [], []\n",
    "gNMDA_rec, iNMDA_rec = [], []\n",
    "trec.record(lb.h._ref_t)\n",
    "vrec.record(model.soma(0.5)._ref_v)\n",
    "\n",
    "\n",
    "#n=0\n",
    "vDendRec = []\n",
    "caDendRec = []\n",
    "#For all dendrites\n",
    "for dend in model.dend:\n",
    "    #Adding vectors for Voltage, and Calcium\n",
    "    vDendRec.append(lb.h.Vector())\n",
    "    caDendRec.append(lb.h.Vector())\n",
    "    # Placing recording at mid-point in the dendritic branch\n",
    "    vDendRec[-1].record(dend(0.5)._ref_v)\n",
    "    # NO CALCIUM!?!?!\n",
    "#Probably better to organize them in a dictionary        \n",
    "vDendRec[1].record(model.dend[1](1.0)._ref_v)\n",
    "\n",
    "# Spine voltage recording stuff\n",
    "vspneRec.append(lb.h.Vector())\n",
    "vspneRec.append(lb.h.Vector())\n",
    "sp = model.spne[0]\n",
    "vspneRec[0].record(sp(0.5)._ref_v)\n",
    "sp = model.neck[0]\n",
    "vspneRec[1].record(sp(0.5)._ref_v)\n",
    "\n",
    "# Calcim\n",
    "\n",
    "caDendRec = []\n",
    "sp = model.spne[0]\n",
    "caDendRec.append(lb.h.Vector())\n",
    "caDendRec.append(lb.h.Vector())\n",
    "caDendRec.append(lb.h.Vector())\n",
    "caDendRec[0].record(sp(0.5)._ref_ica) \n",
    "caDendRec[1].record(model.NMDAlist[0]._ref_i)\n",
    "caDendRec[2].record(sp(1.0)._ref_cai) \n"
   ]
  },
  {
   "cell_type": "code",
   "execution_count": 12,
   "metadata": {},
   "outputs": [],
   "source": [
    "vDendEL = []\n",
    "dend = model.dend[1]\n",
    "for i in range(10):\n",
    "    vDendEL.append(lb.h.Vector())\n",
    "    vDendEL[-1].record(dend((i+1.0)/10.0)._ref_v)"
   ]
  },
  {
   "cell_type": "code",
   "execution_count": 13,
   "metadata": {},
   "outputs": [],
   "source": [
    "vDendEL2 = []\n",
    "dend = model.dend[-1]\n",
    "for i in range(10):\n",
    "    vDendEL2.append(lb.h.Vector())\n",
    "    vDendEL2[-1].record(dend((i+1.0)/10.0)._ref_v)"
   ]
  },
  {
   "cell_type": "code",
   "execution_count": 14,
   "metadata": {},
   "outputs": [
    {
     "data": {
      "text/plain": [
       "[dendA1c, dendA1, dendB1, DendE, DendN]"
      ]
     },
     "execution_count": 14,
     "metadata": {},
     "output_type": "execute_result"
    }
   ],
   "source": [
    "model.dend"
   ]
  },
  {
   "cell_type": "code",
   "execution_count": 15,
   "metadata": {},
   "outputs": [],
   "source": [
    "iRec.append(lb.h.Vector())\n",
    "iRec.append(lb.h.Vector())\n",
    "currentAMPA = iRec[0]\n",
    "currentGABA = iRec[1]"
   ]
  },
  {
   "cell_type": "code",
   "execution_count": 16,
   "metadata": {},
   "outputs": [
    {
     "data": {
      "text/plain": [
       "Vector[38]"
      ]
     },
     "execution_count": 16,
     "metadata": {},
     "output_type": "execute_result"
    }
   ],
   "source": [
    "currentAMPA.record(AMPA._ref_i)\n",
    "currentGABA.record(GABA._ref_i)"
   ]
  },
  {
   "cell_type": "code",
   "execution_count": 17,
   "metadata": {},
   "outputs": [
    {
     "name": "stdout",
     "output_type": "stream",
     "text": [
      "10.0 1.0\n",
      "189.22696216550244 0.6999999880790712 31.830988618379067\n",
      "1.0 0.7 646.4515482237155\n",
      "The resistance of neck and the dendritic impedance are 141.47 and 650 MΩ (resp.)\n"
     ]
    }
   ],
   "source": [
    "dendsizeL0 = 10\n",
    "dendsizeL = max(max(max(dis['Dss'])+10,max(sis['Dss'])+10),178)\n",
    "neck = model.neck[0]\n",
    "Rneck = neck.L*1e-6/(neck.diam*1e-6/2.0)**2/pi*neck.Ra/100\n",
    "dend = model.dend[0]\n",
    "dend.L = dendsizeL0\n",
    "dend.diam = 1.0\n",
    "print(dend.L,dend.diam)\n",
    "Rdend = dend.L*1e-6/(dend.diam*1e-6/2.0)**2/pi*dend.Ra/100\n",
    "Rdendf = Rdend\n",
    "dend = model.dend[1]\n",
    "dendc = model.dend[1]\n",
    "dendc.L = dendsizeL\n",
    "dend.diam = 0.7\n",
    "print(dend.L,dend.diam,Rdend/1e6)\n",
    "Rdend +=dend.L*1e-6/2.0/(dend.diam*1e-6/2.0)**2/pi*dend.Ra/100\n",
    "dend = model.dend[-2]\n",
    "dend.diam = 0.7\n",
    "dendsh = model.dend[-2]\n",
    "dend.L = 1\n",
    "print(dend.L,dend.diam,Rdend/1e6)\n",
    "Rdend +=dend.L*1e-6/2.0/(dend.diam*1e-6/2.0)**2/pi*dend.Ra/100\n",
    "Rdendf +=dend.L*1e-6/2.0/(dend.diam*1e-6/2.0)**2/pi*dend.Ra/100\n",
    "print(\"The resistance of neck and the dendritic impedance are %.2f and %2.f MΩ (resp.)\" %(Rneck/1e6,Rdend/1e6))"
   ]
  },
  {
   "cell_type": "code",
   "execution_count": 18,
   "metadata": {},
   "outputs": [],
   "source": [
    "#model.soma.diam = model.soma.L\n",
    "dendN = model.dend[-1]\n",
    "dendN.L = 1"
   ]
  },
  {
   "cell_type": "code",
   "execution_count": 19,
   "metadata": {},
   "outputs": [],
   "source": [
    "dendsh.diam = 0.7\n",
    "dendc.diam = 0.7\n",
    "dendN.diam = 0.7        "
   ]
  },
  {
   "cell_type": "code",
   "execution_count": 20,
   "metadata": {},
   "outputs": [
    {
     "name": "stdout",
     "output_type": "stream",
     "text": [
      "3.627759928900682\n"
     ]
    }
   ],
   "source": [
    "rhosp = 1.3\n",
    "dendareaperL = rhosp*mean(sps['Ah'])+(pi*0.5)\n",
    "factor = dendareaperL/(pi*0.5)\n",
    "print(factor)\n",
    "dendN.cm = 3.5\n",
    "dendc.cm = 3.5\n",
    "\n",
    "dendN.g_pas = 3.5/model.RM\n",
    "dendc.g_pas = 3.5/model.RM"
   ]
  },
  {
   "cell_type": "code",
   "execution_count": 21,
   "metadata": {},
   "outputs": [
    {
     "name": "stdout",
     "output_type": "stream",
     "text": [
      "10 10\n"
     ]
    }
   ],
   "source": [
    "dendc.nseg = int(dendc.L//10)+1\n",
    "dendN.nseg = int(dendN.L//10)+1\n",
    "\n",
    "dendc.nseg = 10\n",
    "dendN.nseg = 10\n",
    "print(dendc.nseg,dendN.nseg)"
   ]
  },
  {
   "cell_type": "code",
   "execution_count": 22,
   "metadata": {},
   "outputs": [],
   "source": [
    "lb.init_active(model, axon=False, soma=False, dend=False, dendNa=False,\n",
    "                dendCa=False,spne=True)"
   ]
  },
  {
   "cell_type": "markdown",
   "metadata": {},
   "source": [
    "## Plots\n",
    "\n",
    "xkcd is to give it non serious appearance"
   ]
  },
  {
   "cell_type": "code",
   "execution_count": 23,
   "metadata": {},
   "outputs": [],
   "source": [
    "gtrG = rhGABAR*30e-6*2/5.0\n",
    "gtrA = rhAMPAR*11e-6*3/5.0\n",
    "gtrN = rhNMDAR*30e-6*1.0/16.0/4.0/1.27*5*50"
   ]
  },
  {
   "cell_type": "code",
   "execution_count": null,
   "metadata": {},
   "outputs": [],
   "source": []
  },
  {
   "cell_type": "code",
   "execution_count": 24,
   "metadata": {},
   "outputs": [
    {
     "name": "stdout",
     "output_type": "stream",
     "text": [
      "141.4710605261292\n"
     ]
    }
   ],
   "source": [
    "diam0 = 0.15\n",
    "Rneck0 = Rneck/1e6\n",
    "Cm0 = model.CM\n",
    "print(Rneck0)"
   ]
  },
  {
   "cell_type": "code",
   "execution_count": 25,
   "metadata": {},
   "outputs": [
    {
     "name": "stdout",
     "output_type": "stream",
     "text": [
      "141.4710605261292\n"
     ]
    }
   ],
   "source": [
    "Rneck = neck.Ra*neck.L/(neck.diam)**2*0.04/pi\n",
    "print(Rneck)"
   ]
  },
  {
   "cell_type": "code",
   "execution_count": 26,
   "metadata": {
    "scrolled": false
   },
   "outputs": [],
   "source": [
    "def simulateSet(model,spn,tG = 500,ton = 50,toffset = 50,t_stop = 250, EL = -65,btsr = None,VDCC = array([0.,0,0,0]), dendrec = True):\n",
    "    if btsr is None:\n",
    "        btsr = ones(9)==0\n",
    "    model.E_PAS = EL\n",
    "    model.soma.e_pas = model.E_PAS\n",
    "    for dendp in model.dend:\n",
    "        dendp.e_pas = model.E_PAS\n",
    "    for sp in model.spne:\n",
    "        sp.e_pas = model.E_PAS\n",
    "\n",
    "    dendsh = model.dend[-2]\n",
    "    dendc = model.dend[1]\n",
    "    dendN = model.dend[-1]\n",
    "    neck = model.neck[0]\n",
    "    sp = model.spne[0]\n",
    "    dshL = dendsh.L\n",
    "    dendsizeL = dendsh.L+dendc.L+dendN.L\n",
    "    data = column_stack((spn[\"A1\"],spn[\"A1\"],spn[\"A2\"],spn[\"Rneck\"],spn[\"Dss\"],spn[\"L\"],spn[\"D\"],spn[\"Ln\"],spn[\"AhA0\"]))\n",
    "    if isnan(data).sum()>0:\n",
    "        raise \"There are nans do something about it\"\n",
    "    for i in range(9):\n",
    "        if ~btsr[i]:\n",
    "            data[:,i] = data[:,i].mean()\n",
    "         \n",
    "    nsp = data.shape[0]\n",
    "    mes = zeros((nsp,9))\n",
    "    me2 = zeros((nsp,11))\n",
    "    me3 = zeros((nsp,10))\n",
    "\n",
    "    iad = 2\n",
    "    vavg = zeros((int(t_stop/lb.h.dt)+iad,7))\n",
    "    vtracs = zeros((int(t_stop/lb.h.dt)+iad,nsp))\n",
    "    Ctracs = zeros((int(t_stop/lb.h.dt)+iad,nsp))\n",
    "    vtracsD = zeros((int(t_stop/lb.h.dt)+iad,nsp))\n",
    "    vtracsS = zeros((int(t_stop/lb.h.dt)+iad,nsp))\n",
    "    for i in arange(nsp):\n",
    "        NC.weight[0]  = data[i,0] *gtrA#/2\n",
    "        NCN.weight[0] = data[i,1] *gtrN#*0#*0\n",
    "        NCG.weight[0] = data[i,2] *gtrG#*0\n",
    "        \n",
    "        neck.L = data[i,7]  \n",
    "        Rneck0 = neck.Ra*neck.L/(diam0)**2*0.04/pi\n",
    "        #print(Rneck0,data[i,3])\n",
    "        neck.diam = diam0*sqrt(Rneck0/data[i,3])\n",
    "        \n",
    "        posD = data[i,4]\n",
    "        \n",
    "        dendc.L = posD-dshL/2\n",
    "        dendN.L = dendsizeL-posD-dshL/2\n",
    "\n",
    "        \n",
    "        # A = pi*D**2\n",
    "        sp.L = data[i,5]\n",
    "        sp.diam = data[i,6]\n",
    "        sp.cm = data[i,8]\n",
    "        sp.g_pas = data[i,8]/model.RM\n",
    "        spvol = sp(0.5).volume()\n",
    "        spineArea =  sp(0.5).area()#sp.L*sp.diam+1.8*sp.diam**2/4 # um^2\n",
    "        \n",
    "        CaTcond = 1e-3# pS\n",
    "        sp.pbar_caL13PS = VDCC[0]*CaTcond#/spineArea\n",
    "        sp.pbar_caLPS = VDCC[1]*CaTcond#/spineArea\n",
    "        sp.pbar_canPS = VDCC[2]*CaTcond#/spineArea\n",
    "        sp.pcaqbar_caqPS = VDCC[3]*CaTcond#/spineArea\n",
    "        \n",
    "        \n",
    "        NC.delay = toffset+ton-50\n",
    "        NCN.delay = toffset+ton-50\n",
    "        NCG.delay = toffset+tG#toffset+tG#-50\n",
    "\n",
    "        for il in range(10):\n",
    "            f = 1-7.5*il/dendc.L\n",
    "            #f = 0.5\n",
    "            if f>=0:\n",
    "                vDendEL[il].record(dendc(f)._ref_v)\n",
    "            else:\n",
    "                vDendEL[il].record(dendc(0.0)._ref_v)\n",
    "        \n",
    "        for il in range(10):\n",
    "            f = 7.5*il/dendc.L\n",
    "            #f = 0.5\n",
    "            if f<=1:\n",
    "                vDendEL2[il].record(dendN(f)._ref_v)\n",
    "            else:\n",
    "                vDendEL2[il].record(dendN(1.0)._ref_v)\n",
    "                \n",
    "        lb.h.finitialize(model.E_PAS)\n",
    "        \n",
    "        \n",
    "\n",
    "                    \n",
    "        #print(data[i,:])\n",
    "        lb.neuron.run(t_stop)\n",
    "        \n",
    "        #plot(trec,vspneRec[0])    \n",
    "        \n",
    "        current = abs((array(vDendRec[1])-array(vrec[0]))/Rdend)\n",
    "        \n",
    "        vtracs[:,i] = array(vspneRec[0]) \n",
    "        if dendrec:\n",
    "            vtracsD[:,i] = array(vDendRec[1])\n",
    "        else:\n",
    "            vtracsD[:,i] = array(vDendEL[2])\n",
    "            \n",
    "        vtracsS[:,i] = array(vrec) \n",
    "\n",
    "        vavg[:,0] += array(vspneRec[0]) \n",
    "        vavg[:,1] += array(vspneRec[0])**2\n",
    "        vavg[:,2] += array(vDendRec[1]) \n",
    "        vavg[:,3] += array(vDendRec[1])**2\n",
    "        vavg[:,4] += array(vrec) \n",
    "        vavg[:,5] += array(vrec)**2\n",
    "        vavg[:,6] += 1\n",
    "            \n",
    "        cat = array(caDendRec[-1])/1e-3\n",
    "        Ctracs[:,i] = cat-cat[0] \n",
    "        aG = abs(array(currentGABA)).argmax()\n",
    "        aA = abs(array(currentAMPA)).argmax()\n",
    "        \n",
    "        mes[i,:] = [data[i,3],max(vspneRec[0])-EL,max(vDendRec[3])-EL,max(vrec)-EL,max(cat)-cat[0],array(currentGABA)[aG],array(currentAMPA)[aA],spvol,max(current)]\n",
    "        me2[i,0] = max(vDendRec[3])\n",
    "        me2[i,1:] = [max(vD) for vD in vDendEL]\n",
    "        me3[i,:] = [max(vD) for vD in vDendEL2]\n",
    "\n",
    "        #plot(trec,array(caDendRec[-1])/1e-3)\n",
    "        #ylabel(\"[Ca] (uM)\")\n",
    "        #figure()\n",
    "        #plot(trec,vspneRec[0])\n",
    "        #break\n",
    "        \n",
    "    vavg[:,:5] = vavg[:,:5]/vavg[0,6]\n",
    "    vavg[:,1] = sqrt(vavg[:,1]-vavg[:,0]**2)#/sqrt(vavg[0,6])\n",
    "    vavg[:,3] = sqrt(vavg[:,3]-vavg[:,2]**2)#/sqrt(vavg[0,6])\n",
    "    vavg[:,5] = sqrt(vavg[:,5]-vavg[:,4]**2)#/sqrt(vavg[0,6])\n",
    "    return(vavg,mes,vtracs,vtracsD,vtracsS,Ctracs,me2,me3,array(trec))"
   ]
  },
  {
   "cell_type": "code",
   "execution_count": 27,
   "metadata": {},
   "outputs": [],
   "source": [
    "VDCCa =  array([0.04023183, 0.08000483, 0.03416801, 0.02747762] )\n",
    "EL0 = -70"
   ]
  },
  {
   "cell_type": "code",
   "execution_count": 28,
   "metadata": {
    "scrolled": true
   },
   "outputs": [],
   "source": [
    "#vavg0,mes0,vtracs0,vtracsD0,vtracsS0,Ctracs0,me20,me30, trec = simulateSet(model,dis,tG = 100,ton = 50,toffset = 100,t_stop = 500, EL = EL0,btsr = ones(9)==1,VDCC = VDCCa, dendrec=False)\n",
    "#plot(arange(vtracs0.shape[0])*lb.h.dt,vtracs0[:,0])"
   ]
  },
  {
   "cell_type": "code",
   "execution_count": 29,
   "metadata": {},
   "outputs": [],
   "source": [
    "from scipy.integrate import simps"
   ]
  },
  {
   "cell_type": "code",
   "execution_count": 30,
   "metadata": {},
   "outputs": [],
   "source": [
    "def itertis(t1,t2,A1,A2):\n",
    "    te = t1*t2/(t1-t2)\n",
    "    numtt = (t2/t1)**(te/t1)-(t2/t1)**(te/t2)\n",
    "    t1 = t2 + numtt*A1\n",
    "    t2 = A2/log(t1/t2)*(t1-t2)/t1\n",
    "    return(t1,t2)\n",
    "def gettimes(As,t1 = 10,t2 = 1, n = 1000,tol = 1e-9):\n",
    "    A1, A2 = As\n",
    "    t1a, t2a = t1, t2\n",
    "    for i in range(n):\n",
    "        t1,t2 = itertis(t1,t2,A1,A2)\n",
    "    \n",
    "        if (t1-t1a)**2/t1**2+(t2-t2a)**2/t2**2<tol:\n",
    "            #print(i)\n",
    "            break\n",
    "        t1a, t2a = t1, t2\n",
    "        #print(t1,t2)\n",
    "    if i>=n: \n",
    "        print('No convergence?')\n",
    "        \n",
    "    return(t1,t2)"
   ]
  },
  {
   "cell_type": "code",
   "execution_count": 31,
   "metadata": {},
   "outputs": [],
   "source": [
    "#arange(trec.shape[0])[trec>50+100][0]"
   ]
  },
  {
   "cell_type": "code",
   "execution_count": 32,
   "metadata": {},
   "outputs": [],
   "source": [
    "#vavg,mes,vtracs,vtracsD,vtracsS,Ctracs,me2,me3,_ = simulateSet(model,dis,tG = td,ton = 50,toffset = 100,t_stop = 500, EL = EL0,btsr = ones(9)==1,VDCC = VDCCa)"
   ]
  },
  {
   "cell_type": "code",
   "execution_count": 33,
   "metadata": {},
   "outputs": [],
   "source": [
    "#plot(trec,Ctracs[:,1])\n",
    "#def get_ftimes(vtt,ton = 0):\n",
    "    "
   ]
  },
  {
   "cell_type": "code",
   "execution_count": 34,
   "metadata": {},
   "outputs": [],
   "source": [
    "def get_atimes(vtt,ton = 3000):\n",
    "    ampv = vtt.max(axis=0)\n",
    "    intv = array(list(map(lambda x: simps(x,trec),vtt.transpose())))\n",
    "    tt = intv/ampv\n",
    "    sel = vtt.argmax(axis=0)\n",
    "    trise = (sel-ton)*lb.h.dt\n",
    "    times = array(list(map(gettimes,column_stack((tt,trise)))))\n",
    "    return(times, tt, trise)\n",
    "\n",
    "\n",
    "\n",
    "def get_FWHMtimes(vtt,v0 = None,dt =0.05):\n",
    "    if v0 is None:\n",
    "        v0 = vtt[0]\n",
    "    ampv = vtt.max(axis=0,keepdims=True)-v0\n",
    "    ampv2 = ampv/2+v0\n",
    "    sel = ((vtt-ampv2)>0).transpose() \n",
    "    times = array(list(map(lambda x: [arange(len(x))[x][0],arange(len(x))[x][-1]],sel)))\n",
    "    times = dt*(times[:,1]-times[:,0])\n",
    "    return(times)"
   ]
  },
  {
   "cell_type": "code",
   "execution_count": 35,
   "metadata": {},
   "outputs": [],
   "source": [
    "def getint(x):\n",
    "    xc = x*1.0\n",
    "    xc.sort()\n",
    "    sh = xc.shape[0]\n",
    "    xmed = xc[sh//2]\n",
    "    s0= int(sh*(1-.6827)/2)\n",
    "    s1 = sh-s0\n",
    "    x0 = xc[s0]\n",
    "    x1 = xc[s1]\n",
    "    s0b= int(sh*(1-.95)/2)\n",
    "    s1b = sh-s0b\n",
    "    x0b = xc[s0b]\n",
    "    x1b = xc[s1b]\n",
    "    return((xmed,x0,x1,x0b,x1b))"
   ]
  },
  {
   "cell_type": "code",
   "execution_count": 36,
   "metadata": {},
   "outputs": [
    {
     "name": "stderr",
     "output_type": "stream",
     "text": [
      "/export/home1/users/bssn/serna/environments/neuron/lib/python3.6/site-packages/pandas/core/computation/expressions.py:183: UserWarning: evaluating in Python space because the '*' operator is not supported by numexpr for the bool dtype, use '&' instead\n",
      "  .format(op=op_str, alt_op=unsupported[op_str]))\n"
     ]
    }
   ],
   "source": [
    "from bootstrap import dataset\n",
    "with open(\"data_Fullset/Fullset.pkl\",\"rb\") as f:\n",
    "    data = pickle.load(f)\n",
    "spdata = dataset(data,noise=0.0)\n",
    "spdata['A2'][isnan(spdata['A2'])] = 0.0\n",
    "#spdata['A1'][isnan(spdata['A1'])] = 0.0 \n",
    "spdata['Rneck'] = 2*spdata['Rneck']\n",
    "\n",
    "sel = ones(spdata['A2'].shape[0]) == 1\n",
    "#print(sel.sum())\n",
    "keys = list(spdata.keys())\n",
    "keys.pop(12)\n",
    "keys.pop(11)\n",
    "keys.pop(7)\n",
    "keys.pop(3)\n",
    "#keys.pop(26)\n",
    "\n",
    "for key in keys:\n",
    "    sel = sel*isfinite(spdata[key])\n",
    "    #print(key,':',sel.sum())\n",
    "    \n",
    "for key in spdata.keys():\n",
    "    spdata[key] = spdata[key][sel]\n",
    "    #print(key,':',isfinite(spdata[key]).sum())"
   ]
  },
  {
   "cell_type": "code",
   "execution_count": 37,
   "metadata": {},
   "outputs": [],
   "source": [
    "gtrG0 = gtrG*1.0\n",
    "gtrA0 = gtrA*1.0\n",
    "gtrN0 = gtrN*1.0"
   ]
  },
  {
   "cell_type": "code",
   "execution_count": 38,
   "metadata": {},
   "outputs": [],
   "source": [
    "Rneck0 = spdata['Rneck']*1.0\n",
    "dendB1 = model.dend[2]\n",
    "VDCCa0 =  array([0.04023183, 0.08000483, 0.03416801, 0.02747762] )\n"
   ]
  },
  {
   "cell_type": "code",
   "execution_count": 43,
   "metadata": {},
   "outputs": [
    {
     "name": "stdout",
     "output_type": "stream",
     "text": [
      "0 : [0.         4.76725054 0.77220165 0.72860377 3.28695722 0.6202152 ]\n",
      "50 : [50.          4.3667584   0.61320706  0.62640015  1.54332608  0.71387256]\n",
      "100 : [1.00000000e+02 8.10704795e-02 8.58700754e-01 8.55219212e-01\n",
      " 2.16893441e-01 4.05012673e-01]\n",
      "150 : [150.           8.54065686   0.4541219    0.71127922  39.05342364\n",
      "   0.36015808]\n",
      "200 : [200.           0.74742139   0.39495975   0.73138231   3.86479032\n",
      "   0.35596903]\n",
      "250 : [250.           1.51862773   0.40201735   0.7352381    7.76151919\n",
      "   0.35762173]\n",
      "300 : [300.           0.81679393   0.60422062   0.54921378   0.59040968\n",
      "   0.54727464]\n",
      "350 : [350.           1.13005657   0.59165518   0.6885574    3.97008777\n",
      "   0.3668544 ]\n",
      "400 : [400.           6.80622306   0.61827499   0.67512124   4.28777611\n",
      "   0.71791204]\n",
      "450 : [450.           2.73283611   0.73835952   0.72457003   1.15214712\n",
      "   0.88485844]\n",
      "500 : [5.00000000e+02 5.40258360e+00 5.73523959e-01 7.81861621e-01\n",
      " 1.99734665e+01 3.69424250e-01]\n",
      "550 : [550.           3.79994643   0.56406757   0.56478372   1.56280521\n",
      "   0.71068125]\n",
      "600 : [6.00000000e+02 3.51952871e+00 7.80992762e-01 7.27449847e-01\n",
      " 8.58642647e+00 4.00273479e-01]\n",
      "650 : [6.50000000e+02 8.49089520e+00 7.23373377e-01 7.49044388e-01\n",
      " 2.09981831e+01 3.90469546e-01]\n",
      "700 : [7.00000000e+02 7.51440865e-01 3.97340775e-01 7.11708190e-01\n",
      " 3.87116160e+00 3.56629013e-01]\n",
      "750 : [7.50000000e+02 2.75518102e+00 7.48191012e-01 9.71110816e-01\n",
      " 8.24295205e+00 3.82637355e-01]\n",
      "800 : [8.00000000e+02 5.71930699e+00 5.98395180e-01 6.08962268e-01\n",
      " 3.81708458e+00 6.63529458e-01]\n",
      "850 : [8.50000000e+02 4.64969701e+00 5.00120489e-01 8.87514077e-01\n",
      " 1.97006092e+01 3.63761349e-01]\n",
      "900 : [9.00000000e+02 7.06312481e+00 3.70664486e-01 5.06301693e-01\n",
      " 3.85394215e+01 3.54845290e-01]\n",
      "950 : [9.50000000e+02 1.34046407e+00 7.31311456e-01 9.33870735e-01\n",
      " 4.10197115e+00 3.80599269e-01]\n",
      "1000 : [1.00000000e+03 5.94071975e-01 6.34705108e-01 8.05131742e-01\n",
      " 1.99748692e+00 3.69452634e-01]\n",
      "1050 : [1.05000000e+03 7.27235552e-01 3.83014858e-01 6.26052985e-01\n",
      " 3.85852907e+00 3.55320410e-01]\n",
      "1100 : [1.10000000e+03 1.05232364e+00 5.58300828e-01 7.02373848e-01\n",
      " 3.95670266e+00 3.65481532e-01]\n",
      "1150 : [1.15000000e+03 8.20700611e-01 6.15686846e-01 5.67921025e-01\n",
      " 4.42810329e-01 7.54816020e-01]\n",
      "1200 : [1.20000000e+03 1.19426953e-01 6.48597842e-01 1.15914604e+00\n",
      " 4.14652861e-01 3.84873770e-01]\n",
      "1250 : [1.25000000e+03 3.56680008e+00 3.74808863e-01 5.46729984e-01\n",
      " 1.92795626e+01 3.55049380e-01]\n",
      "1300 : [1.30000000e+03 5.30287123e+00 6.18334523e-01 6.12696279e-01\n",
      " 3.57546929e+00 6.38777074e-01]\n",
      "1350 : [1.35000000e+03 3.33551984e+00 7.07943707e-01 6.03218894e-01\n",
      " 4.63449605e+00 4.34175814e-01]\n",
      "1400 : [1.40000000e+03 1.49868743e+00 7.25368785e-01 6.87337894e-01\n",
      " 4.10489472e+00 3.80848103e-01]\n",
      "1450 : [1.45000000e+03 1.51487419e+01 7.03593600e-01 7.51705809e-01\n",
      " 4.24228991e+01 3.94671324e-01]\n",
      "1500 : [1.50000000e+03 1.94006201e+00 5.23208539e-01 8.76308055e-01\n",
      " 7.88107345e+00 3.63818115e-01]\n",
      "1550 : [1.55000000e+03 5.57723432e+00 5.86198227e-01 5.94223626e-01\n",
      " 2.21879635e+00 7.04980961e-01]\n",
      "1600 : [1.60000000e+03 2.98162847e+00 6.66688668e-01 6.64874956e-01\n",
      " 1.05492422e+00 8.09757861e-01]\n",
      "1650 : [1.65000000e+03 4.55726655e+00 7.69817977e-01 7.02713215e-01\n",
      " 5.06875575e+00 4.78631097e-01]\n",
      "1700 : [1.70000000e+03 7.43048795e+00 6.19466141e-01 6.24247941e-01\n",
      " 6.41055730e+00 5.87578835e-01]\n",
      "1750 : [1.75000000e+03 3.51766014e+00 3.69042686e-01 4.94841609e-01\n",
      " 1.92630655e+01 3.54707687e-01]\n",
      "1800 : [1.80000000e+03 9.40010196e-01 5.01766901e-01 7.15039627e-01\n",
      " 3.93861143e+00 3.63609257e-01]\n",
      "1850 : [1.85000000e+03 1.54839826e+00 4.10284605e-01 7.28519732e-01\n",
      " 7.81040977e+00 3.60137128e-01]\n",
      "1900 : [1.90000000e+03 1.88819327e+00 5.85123561e-01 5.65283505e-01\n",
      " 9.13349632e-01 7.12387475e-01]\n",
      "1950 : [1.95000000e+03 7.75287503e-01 4.11283039e-01 7.56293089e-01\n",
      " 3.90079584e+00 3.59687830e-01]\n",
      "2000 : [2.00000000e+03 4.80339387e-01 5.04657419e-01 8.21037485e-01\n",
      " 2.03235985e+00 3.76329935e-01]\n",
      "2050 : [2.05000000e+03 2.80236782e+00 7.44489495e-01 8.97463906e-01\n",
      " 8.19005225e+00 3.79890592e-01]\n",
      "2100 : [2.10000000e+03 2.35597482e+00 6.13502329e-01 7.08544378e-01\n",
      " 7.98709676e+00 3.69283948e-01]\n",
      "2150 : [2.15000000e+03 6.80864223e+00 3.55718814e-01 3.72891070e-01\n",
      " 3.84346560e+01 3.53760473e-01]\n",
      "2200 : [2.20000000e+03 6.08801991e+00 6.22029824e-01 7.31106545e-01\n",
      " 2.01154560e+01 3.72338248e-01]\n",
      "2250 : [2.25000000e+03 1.32378697e+01 6.72783256e-01 8.33160999e-01\n",
      " 4.15754618e+01 3.86041466e-01]\n",
      "2300 : [2.30000000e+03 2.08420561e+00 6.36479704e-01 6.19268684e-01\n",
      " 9.66676069e-01 7.60283424e-01]\n",
      "2350 : [2.35000000e+03 7.19278742e+00 3.78284280e-01 5.21893916e-01\n",
      " 3.87552792e+01 3.57078794e-01]\n",
      "2400 : [2.40000000e+03 2.71218905e+00 8.15936986e-01 6.86028215e-01\n",
      " 4.47449381e+00 4.18634191e-01]\n",
      "2450 : [2.45000000e+03 1.56380628e+00 4.15083132e-01 8.15579018e-01\n",
      " 7.75497679e+00 3.57283081e-01]\n",
      "2500 : [2.50000000e+03 6.55163805e-01 6.84907150e-01 6.34729196e-01\n",
      " 3.96407325e-01 7.12503258e-01]\n",
      "2550 : [2.55000000e+03 2.52046922e+00 5.55827607e-01 5.56916903e-01\n",
      " 9.41009151e-01 7.01585514e-01]\n",
      "2600 : [2.60000000e+03 6.95929884e+00 3.64561886e-01 4.27978985e-01\n",
      " 3.85558717e+01 3.55015030e-01]\n",
      "2650 : [2.65000000e+03 1.04061922e+01 5.46771926e-01 7.29724103e-01\n",
      " 3.98256061e+01 3.68123639e-01]\n",
      "2700 : [2.70000000e+03 1.26200526e+00 6.77274838e-01 6.54802739e-01\n",
      " 5.84674153e-01 8.74096222e-01]\n",
      "2750 : [2.75000000e+03 1.46613189e+01 7.25548446e-01 9.35646714e-01\n",
      " 4.22019471e+01 3.92557968e-01]\n",
      "2800 : [2.80000000e+03 8.93473664e+00 5.81940037e-01 6.52884423e-01\n",
      " 3.92808956e+00 6.51305280e-01]\n",
      "2850 : [2.85000000e+03 1.03138111e+00 9.29125771e-01 8.08412466e-01\n",
      " 2.14215259e+00 3.99674554e-01]\n"
     ]
    },
    {
     "ename": "KeyboardInterrupt",
     "evalue": "",
     "output_type": "error",
     "traceback": [
      "\u001b[0;31m---------------------------------------------------------------------------\u001b[0m",
      "\u001b[0;31mKeyboardInterrupt\u001b[0m                         Traceback (most recent call last)",
      "\u001b[0;32m<ipython-input-43-1db0e558d3c0>\u001b[0m in \u001b[0;36m<module>\u001b[0;34m\u001b[0m\n\u001b[1;32m     19\u001b[0m     \u001b[0mVDCCa\u001b[0m \u001b[0;34m=\u001b[0m \u001b[0mVDCCa0\u001b[0m\u001b[0;34m\u001b[0m\u001b[0m\n\u001b[1;32m     20\u001b[0m     \u001b[0mtd\u001b[0m \u001b[0;34m=\u001b[0m \u001b[0;36m500\u001b[0m\u001b[0;34m\u001b[0m\u001b[0m\n\u001b[0;32m---> 21\u001b[0;31m     \u001b[0mvavg\u001b[0m\u001b[0;34m,\u001b[0m\u001b[0mmes\u001b[0m\u001b[0;34m,\u001b[0m\u001b[0mvtracs\u001b[0m\u001b[0;34m,\u001b[0m\u001b[0mvtracsD\u001b[0m\u001b[0;34m,\u001b[0m\u001b[0mvtracsS\u001b[0m\u001b[0;34m,\u001b[0m\u001b[0mCtracs\u001b[0m\u001b[0;34m,\u001b[0m\u001b[0mme2\u001b[0m\u001b[0;34m,\u001b[0m\u001b[0mme3\u001b[0m\u001b[0;34m,\u001b[0m\u001b[0m_\u001b[0m \u001b[0;34m=\u001b[0m \u001b[0msimulateSet\u001b[0m\u001b[0;34m(\u001b[0m\u001b[0mmodel\u001b[0m\u001b[0;34m,\u001b[0m\u001b[0mspdata\u001b[0m\u001b[0;34m,\u001b[0m\u001b[0mtG\u001b[0m \u001b[0;34m=\u001b[0m \u001b[0mtd\u001b[0m\u001b[0;34m,\u001b[0m\u001b[0mton\u001b[0m \u001b[0;34m=\u001b[0m \u001b[0;36m50\u001b[0m\u001b[0;34m,\u001b[0m\u001b[0mtoffset\u001b[0m \u001b[0;34m=\u001b[0m \u001b[0;36m70\u001b[0m\u001b[0;34m,\u001b[0m\u001b[0mt_stop\u001b[0m \u001b[0;34m=\u001b[0m \u001b[0;36m500\u001b[0m\u001b[0;34m,\u001b[0m \u001b[0mEL\u001b[0m \u001b[0;34m=\u001b[0m \u001b[0mEL0\u001b[0m\u001b[0;34m,\u001b[0m\u001b[0mbtsr\u001b[0m \u001b[0;34m=\u001b[0m \u001b[0mones\u001b[0m\u001b[0;34m(\u001b[0m\u001b[0;36m9\u001b[0m\u001b[0;34m)\u001b[0m\u001b[0;34m==\u001b[0m\u001b[0;36m1\u001b[0m\u001b[0;34m,\u001b[0m\u001b[0mVDCC\u001b[0m \u001b[0;34m=\u001b[0m \u001b[0mVDCCa\u001b[0m\u001b[0;34m,\u001b[0m\u001b[0mdendrec\u001b[0m\u001b[0;34m=\u001b[0m\u001b[0;32mFalse\u001b[0m\u001b[0;34m)\u001b[0m\u001b[0;34m\u001b[0m\u001b[0m\n\u001b[0m\u001b[1;32m     22\u001b[0m     \u001b[0mmt\u001b[0m \u001b[0;34m=\u001b[0m \u001b[0mmes\u001b[0m\u001b[0;34m.\u001b[0m\u001b[0mmean\u001b[0m\u001b[0;34m(\u001b[0m\u001b[0maxis\u001b[0m\u001b[0;34m=\u001b[0m\u001b[0;36m1\u001b[0m\u001b[0;34m)\u001b[0m\u001b[0;34m\u001b[0m\u001b[0m\n\u001b[1;32m     23\u001b[0m     \u001b[0mst\u001b[0m \u001b[0;34m=\u001b[0m \u001b[0mmes\u001b[0m\u001b[0;34m.\u001b[0m\u001b[0mstd\u001b[0m\u001b[0;34m(\u001b[0m\u001b[0maxis\u001b[0m\u001b[0;34m=\u001b[0m\u001b[0;36m1\u001b[0m\u001b[0;34m)\u001b[0m\u001b[0;34m\u001b[0m\u001b[0m\n",
      "\u001b[0;32m<ipython-input-26-7ab9340719e1>\u001b[0m in \u001b[0;36msimulateSet\u001b[0;34m(model, spn, tG, ton, toffset, t_stop, EL, btsr, VDCC, dendrec)\u001b[0m\n\u001b[1;32m     91\u001b[0m \u001b[0;34m\u001b[0m\u001b[0m\n\u001b[1;32m     92\u001b[0m         \u001b[0;31m#print(data[i,:])\u001b[0m\u001b[0;34m\u001b[0m\u001b[0;34m\u001b[0m\u001b[0m\n\u001b[0;32m---> 93\u001b[0;31m         \u001b[0mlb\u001b[0m\u001b[0;34m.\u001b[0m\u001b[0mneuron\u001b[0m\u001b[0;34m.\u001b[0m\u001b[0mrun\u001b[0m\u001b[0;34m(\u001b[0m\u001b[0mt_stop\u001b[0m\u001b[0;34m)\u001b[0m\u001b[0;34m\u001b[0m\u001b[0m\n\u001b[0m\u001b[1;32m     94\u001b[0m \u001b[0;34m\u001b[0m\u001b[0m\n\u001b[1;32m     95\u001b[0m         \u001b[0;31m#plot(trec,vspneRec[0])\u001b[0m\u001b[0;34m\u001b[0m\u001b[0;34m\u001b[0m\u001b[0m\n",
      "\u001b[0;32m/export/home1/users/bssn/serna/environments/neuron/lib/python3.6/neuron/__init__.py\u001b[0m in \u001b[0;36mrun\u001b[0;34m(tstop)\u001b[0m\n\u001b[1;32m    361\u001b[0m     \"\"\"\n\u001b[1;32m    362\u001b[0m     \u001b[0mh\u001b[0m\u001b[0;34m(\u001b[0m\u001b[0;34m'tstop = %g'\u001b[0m \u001b[0;34m%\u001b[0m \u001b[0mtstop\u001b[0m\u001b[0;34m)\u001b[0m\u001b[0;34m\u001b[0m\u001b[0m\n\u001b[0;32m--> 363\u001b[0;31m     \u001b[0mh\u001b[0m\u001b[0;34m(\u001b[0m\u001b[0;34m'while (t < tstop) { fadvance() }'\u001b[0m\u001b[0;34m)\u001b[0m\u001b[0;34m\u001b[0m\u001b[0m\n\u001b[0m\u001b[1;32m    364\u001b[0m     \u001b[0;31m# what about pc.psolve(tstop)?\u001b[0m\u001b[0;34m\u001b[0m\u001b[0;34m\u001b[0m\u001b[0m\n\u001b[1;32m    365\u001b[0m \u001b[0;34m\u001b[0m\u001b[0m\n",
      "\u001b[0;31mKeyboardInterrupt\u001b[0m: "
     ]
    }
   ],
   "source": [
    "fs = [0.05,0.1,0.5,1.0,2.0,5.0,10.0]\n",
    "factorsf = [[f1,f2,f3,f4,f5,f6] for f1 in fs for f2 in fs for f3 in fs for f4 in fs for f5 in fs for f6 in fs]\n",
    "temp = zeros((len(factorsf),6))\n",
    "factorsf = array(factorsf)[permutation(len(factorsf)),:]\n",
    "for i,ft in enumerate(factorsf):\n",
    "    f1,f2,f3,f4,f5,f6 = ft\n",
    "    gtrA = gtrA0*f1\n",
    "    gtrN = gtrN0*f2\n",
    "    dendN.Ra = 250*f3\n",
    "    dendc.Ra = 250*f3\n",
    "    spdata['Rneck'] = Rneck0*f4\n",
    "    dendB1.cm = 3.5*f5\n",
    "    dendB1.g_pas = 3.5*f5/model.RM\n",
    "    dendN.cm = 3.5#*factor\n",
    "    dendc.cm = 3.5#*factor\n",
    "\n",
    "    dendN.g_pas = 3.5*f6/model.RM\n",
    "    dendc.g_pas = 3.5*f6/model.RM\n",
    "    VDCCa = VDCCa0\n",
    "    td = 500\n",
    "    vavg,mes,vtracs,vtracsD,vtracsS,Ctracs,me2,me3,_ = simulateSet(model,spdata,tG = td,ton = 50,toffset = 70,t_stop = 500, EL = EL0,btsr = ones(9)==1,VDCC = VDCCa,dendrec=False)\n",
    "    mt = mes.mean(axis=0)\n",
    "    st = mes.std(axis=0)\n",
    "    temp[i,:] = [i,mt[3],mt[3]/st[3],mt[1]/st[1],mt[4],mt[4]/st[4]]\n",
    "    if i%50 == 0:\n",
    "        print(i,':',temp[i,:])\n",
    "        with open(\"/mnt/data/spine_dofspace_temp.pickle\",\"wb\") as f:\n",
    "            pickle.dump([factorsf[:i,:],temp[:i,:]],f) \n",
    "dendN.Ra = 250\n",
    "dendc.Ra = 250\n",
    "spdata['Rneck'] = Rneck0*1.0"
   ]
  },
  {
   "cell_type": "code",
   "execution_count": null,
   "metadata": {},
   "outputs": [],
   "source": []
  },
  {
   "cell_type": "code",
   "execution_count": 194,
   "metadata": {},
   "outputs": [],
   "source": [
    "def get_1090times(vtt):\n",
    "    vmin = vtt.min()\n",
    "    sel = vtt.argmax(axis=0)\n",
    "    ampv = vtt.max(axis=0,keepdims=True)-vmin\n",
    "    idcs = repeat(arange(vtt.shape[0]).reshape(vtt.shape[0],1),vtt.shape[1],1)\n",
    "    sel = (vtt-vmin<ampv*0.9)*(vtt-vmin>ampv*0.1)*(idcs<sel)\n",
    "    \n",
    "    trise = (sel).sum(axis=0)*lb.h.dt\n",
    "    return(trise)\n",
    "\n"
   ]
  },
  {
   "cell_type": "code",
   "execution_count": 137,
   "metadata": {},
   "outputs": [],
   "source": [
    "def plot_trace(data,t,ax=None,c='C0',band= None,label= None,linestyle='-'):\n",
    "    if ax is None:\n",
    "        ax = gca()\n",
    "    vtracso = data*1.0\n",
    "    vtracso.sort(axis=1)\n",
    "    sh = vtracso.shape[1]\n",
    "    nmed = sh//2\n",
    "    nl1, nv1 = int(sh*0.16),int(sh*(1-0.16))\n",
    "    nl2, nv2 = int(sh*0.025),int(sh*(1-0.025))\n",
    "\n",
    "    if label is None:\n",
    "        ax.plot(t,vtracso[:,nmed],c=c,linestyle=linestyle)\n",
    "    else:\n",
    "        ax.plot(t,vtracso[:,nmed],c=c,linestyle=linestyle,label=label)\n",
    "        \n",
    "    if band == 0:\n",
    "        pass\n",
    "    elif band == 1:\n",
    "        ax.fill_between(t,vtracso[:,nl1],vtracso[:,nv1],color=c,alpha=0.5)\n",
    "    elif band ==2:\n",
    "        ax.fill_between(t,vtracso[:,nl2],vtracso[:,nv2],color=c,alpha=0.5)\n",
    "    else:\n",
    "        ax.fill_between(t,vtracso[:,nl1],vtracso[:,nv2],color=c,alpha=0.2)\n",
    "        ax.fill_between(t,vtracso[:,nl1],vtracso[:,nv1],color=c,alpha=0.5)\n",
    "    return(ax)\n"
   ]
  },
  {
   "cell_type": "code",
   "execution_count": 44,
   "metadata": {},
   "outputs": [],
   "source": [
    "with open(\"/mnt/data/spine_dofspace.pickle\",\"wb\") as f:\n",
    "    pickle.dump([factorsf,temp],f) "
   ]
  },
  {
   "cell_type": "code",
   "execution_count": 197,
   "metadata": {},
   "outputs": [
    {
     "name": "stdout",
     "output_type": "stream",
     "text": [
      "0 : [0.         1.06965741 0.86089137 0.81268937 0.49314038 0.60370432]\n"
     ]
    }
   ],
   "source": [
    "fs = [log10(0.05),log10(10.0)]\n",
    "n = 2000\n",
    "temp = zeros((n,6))\n",
    "factorsf = zeros((n,6)) \n",
    "for i in range(n):\n",
    "    f1,f2,f3,f4,f5,f6 = 10**(rand(6)*(fs[1]-fs[0])+fs[0])\n",
    "    f1 = 0.5\n",
    "    factorsf[i,:] = f1,f2,f3,f4,f5,f6\n",
    "    f2,f3,f4,f5,f6 = ones(5)\n",
    "    f3 = 1.0\n",
    "    gtrA = gtrA0*f1\n",
    "    gtrN = gtrN0*f2\n",
    "    dendN.Ra = 250*f3\n",
    "    dendc.Ra = 250*f3\n",
    "    spdata['Rneck'] = Rneck0*f4\n",
    "    dendB1.cm = 3.5*f5\n",
    "    dendB1.g_pas = 3.5*f5/model.RM\n",
    "    dendN.cm = 3.5#*factor\n",
    "    dendc.cm = 3.5#*factor\n",
    "\n",
    "    dendN.g_pas = 3.5*f6/model.RM\n",
    "    dendc.g_pas = 3.5*f6/model.RM\n",
    "    VDCCa = VDCCa0\n",
    "    td = 500\n",
    "    vavg,mes,vtracs,vtracsD,vtracsS,Ctracs,me2,me3,_ = simulateSet(model,spdata,tG = td,ton = 50,toffset = 70,t_stop = 500, EL = EL0,btsr = ones(9)==1,VDCC = VDCCa,dendrec=False)\n",
    "    mt = mes.mean(axis=0)\n",
    "    st = mes.std(axis=0)\n",
    "    temp[i,:] = [i,mt[3],st[3]/mt[3],st[1]/mt[1],mt[4],st[4]/mt[4]]\n",
    "    if i%50 == 0:\n",
    "        print(i,':',temp[i,:])\n",
    "        break\n",
    "        with open(\"/mnt/data/spine_dofspace_temp.pickle\",\"wb\") as f:\n",
    "            pickle.dump([factorsf[:i,:],temp[:i,:]],f) \n",
    "dendN.Ra = 250\n",
    "dendc.Ra = 250\n",
    "spdata['Rneck'] = Rneck0*1.0"
   ]
  },
  {
   "cell_type": "code",
   "execution_count": 128,
   "metadata": {},
   "outputs": [
    {
     "data": {
      "text/plain": [
       "array([0.5       , 0.75386601, 4.80679169, 3.67055411, 0.58393943,\n",
       "       6.81216759])"
      ]
     },
     "execution_count": 128,
     "metadata": {},
     "output_type": "execute_result"
    }
   ],
   "source": [
    "factorsf[i,:]"
   ]
  },
  {
   "cell_type": "code",
   "execution_count": 201,
   "metadata": {},
   "outputs": [
    {
     "data": {
      "image/png": "[encoded data removed]",
      "text/plain": [
       "<Figure size 432x288 with 1 Axes>"
      ]
     },
     "metadata": {
      "needs_background": "light"
     },
     "output_type": "display_data"
    }
   ],
   "source": [
    "figure()\n",
    "ax = gca()\n",
    "for i in range(vtracsS.shape[1]):\n",
    "    ax.plot(trec,vtracsS[:,i],'C0',alpha=0.1)\n",
    "plot_trace(vtracsS,trec,ax, c= 'k',band = 1)\n",
    "\n",
    "xlim(120,170)\n",
    "times = get_atimes(vtracsS+70,ton = 2450)\n",
    "timesr = get_1090times(vtracsS+70)\n"
   ]
  },
  {
   "cell_type": "code",
   "execution_count": 202,
   "metadata": {},
   "outputs": [
    {
     "data": {
      "text/plain": [
       "(array([21., 28., 37., 44., 49., 51., 67., 59.,  8.,  1.]),\n",
       " array([2.85 , 3.055, 3.26 , 3.465, 3.67 , 3.875, 4.08 , 4.285, 4.49 ,\n",
       "        4.695, 4.9  ]),\n",
       " <a list of 10 Patch objects>)"
      ]
     },
     "execution_count": 202,
     "metadata": {},
     "output_type": "execute_result"
    },
    {
     "data": {
      "image/png": "[encoded data removed]",
      "text/plain": [
       "<Figure size 432x288 with 1 Axes>"
      ]
     },
     "metadata": {
      "needs_background": "light"
     },
     "output_type": "display_data"
    }
   ],
   "source": [
    "hist(times[0][:,0])\n",
    "hist(times[0][:,1])\n",
    "hist(timesr)"
   ]
  },
  {
   "cell_type": "code",
   "execution_count": 203,
   "metadata": {},
   "outputs": [
    {
     "data": {
      "text/plain": [
       "(2.731244590411319, 4.691780821917809)"
      ]
     },
     "execution_count": 203,
     "metadata": {},
     "output_type": "execute_result"
    },
    {
     "data": {
      "image/png": "[encoded data removed]",
      "text/plain": [
       "<Figure size 432x288 with 1 Axes>"
      ]
     },
     "metadata": {
      "needs_background": "light"
     },
     "output_type": "display_data"
    }
   ],
   "source": [
    "plot(spdata['Dss'],times[0][:,1],'.')\n",
    "plot(spdata['Dss'],times[2],'.')\n",
    "plot(spdata['Dss'],timesr,'.')\n",
    "\n",
    "mean(times[0][:,1]),mean(times[2])"
   ]
  },
  {
   "cell_type": "code",
   "execution_count": 84,
   "metadata": {},
   "outputs": [
    {
     "data": {
      "text/plain": [
       "array([ 1.71507749e+02,  1.33570253e+01,  7.59246818e+00,  1.27572975e-01,\n",
       "        5.26814271e-01,  0.00000000e+00, -4.77596222e-02,  9.83210064e-02,\n",
       "        1.15721235e-08])"
      ]
     },
     "execution_count": 84,
     "metadata": {},
     "output_type": "execute_result"
    }
   ],
   "source": [
    "mes.std(0)/mes.mean(0)"
   ]
  },
  {
   "cell_type": "code",
   "execution_count": null,
   "metadata": {},
   "outputs": [],
   "source": [
    "fs = [log10(0.05),log10(10.0)]\n",
    "n = 2000\n",
    "temp = zeros((n,6))\n",
    "factorsf = zeros((n,6)) \n",
    "for i in range(n):\n",
    "    f2,f3,f4,f5,f6 = 10**(rand(5)*(fs[1]-fs[0])+fs[0])\n",
    "    f1 = 0.5\n",
    "    factorsf[i,:] = f1,f2,f3,f4,f5,f6\n",
    "    gtrA = gtrA0*f1\n",
    "    gtrN = gtrN0*f2\n",
    "    dendN.Ra = 250*f3\n",
    "    dendc.Ra = 250*f3\n",
    "    spdata['Rneck'] = Rneck0*f4\n",
    "    dendB1.cm = 3.5*f5\n",
    "    dendB1.g_pas = 3.5*f5/model.RM\n",
    "    dendN.cm = 3.5#*factor\n",
    "    dendc.cm = 3.5#*factor\n",
    "\n",
    "    dendN.g_pas = 3.5*f6/model.RM\n",
    "    dendc.g_pas = 3.5*f6/model.RM\n",
    "    VDCCa = VDCCa0\n",
    "    td = 500\n",
    "    vavg,mes,vtracs,vtracsD,vtracsS,Ctracs,me2,me3,_ = simulateSet(model,spdata,tG = td,ton = 50,toffset = 70,t_stop = 500, EL = EL0,btsr = ones(9)==1,VDCC = VDCCa,dendrec=False)\n",
    "    mt = mes.mean(axis=0)\n",
    "    st = mes.std(axis=0)\n",
    "    temp[i,:] = [i,mt[3],mt[3]/st[3],mt[1]/st[1],mt[4],mt[4]/st[4]]\n",
    "    if i%50 == 0:\n",
    "        print(i,':',temp[i,:])\n",
    "        with open(\"/mnt/data/spine_dofspace2c_temp.pickle\",\"wb\") as f:\n",
    "            pickle.dump([factorsf[:i,:],temp[:i,:]],f) \n",
    "dendN.Ra = 250\n",
    "dendc.Ra = 250\n",
    "spdata['Rneck'] = Rneck0*1.0"
   ]
  },
  {
   "cell_type": "code",
   "execution_count": 61,
   "metadata": {},
   "outputs": [
    {
     "ename": "TypeError",
     "evalue": "'float' object is not iterable",
     "output_type": "error",
     "traceback": [
      "\u001b[0;31m---------------------------------------------------------------------------\u001b[0m",
      "\u001b[0;31mTypeError\u001b[0m                                 Traceback (most recent call last)",
      "\u001b[0;32m<ipython-input-61-ac0cc11eba64>\u001b[0m in \u001b[0;36m<module>\u001b[0;34m\u001b[0m\n\u001b[1;32m      5\u001b[0m \u001b[0;32mfor\u001b[0m \u001b[0mi\u001b[0m \u001b[0;32min\u001b[0m \u001b[0mrange\u001b[0m\u001b[0;34m(\u001b[0m\u001b[0mn\u001b[0m\u001b[0;34m)\u001b[0m\u001b[0;34m:\u001b[0m\u001b[0;34m\u001b[0m\u001b[0m\n\u001b[1;32m      6\u001b[0m     \u001b[0mf2\u001b[0m\u001b[0;34m,\u001b[0m\u001b[0mf3\u001b[0m\u001b[0;34m,\u001b[0m\u001b[0mf4\u001b[0m\u001b[0;34m,\u001b[0m\u001b[0mf5\u001b[0m \u001b[0;34m=\u001b[0m \u001b[0;36m10\u001b[0m\u001b[0;34m**\u001b[0m\u001b[0;34m(\u001b[0m\u001b[0mrand\u001b[0m\u001b[0;34m(\u001b[0m\u001b[0;36m4\u001b[0m\u001b[0;34m)\u001b[0m\u001b[0;34m*\u001b[0m\u001b[0;34m(\u001b[0m\u001b[0mfs\u001b[0m\u001b[0;34m[\u001b[0m\u001b[0;36m1\u001b[0m\u001b[0;34m]\u001b[0m\u001b[0;34m-\u001b[0m\u001b[0mfs\u001b[0m\u001b[0;34m[\u001b[0m\u001b[0;36m0\u001b[0m\u001b[0;34m]\u001b[0m\u001b[0;34m)\u001b[0m\u001b[0;34m+\u001b[0m\u001b[0mfs\u001b[0m\u001b[0;34m[\u001b[0m\u001b[0;36m0\u001b[0m\u001b[0;34m]\u001b[0m\u001b[0;34m)\u001b[0m\u001b[0;34m\u001b[0m\u001b[0m\n\u001b[0;32m----> 7\u001b[0;31m     \u001b[0mf1\u001b[0m\u001b[0;34m,\u001b[0m\u001b[0mf6\u001b[0m \u001b[0;34m=\u001b[0m \u001b[0;36m1.0\u001b[0m\u001b[0;34m\u001b[0m\u001b[0m\n\u001b[0m\u001b[1;32m      8\u001b[0m     \u001b[0mf1\u001b[0m\u001b[0;34m,\u001b[0m\u001b[0mf4\u001b[0m\u001b[0;34m,\u001b[0m \u001b[0mf3\u001b[0m\u001b[0;34m,\u001b[0m \u001b[0mf5\u001b[0m \u001b[0;34m=\u001b[0m \u001b[0mrand\u001b[0m\u001b[0;34m(\u001b[0m\u001b[0;36m4\u001b[0m\u001b[0;34m)\u001b[0m\u001b[0;34m*\u001b[0m\u001b[0;36m0.6\u001b[0m \u001b[0;34m+\u001b[0m \u001b[0marray\u001b[0m\u001b[0;34m(\u001b[0m\u001b[0;34m[\u001b[0m\u001b[0;36m.4\u001b[0m\u001b[0;34m,\u001b[0m\u001b[0;36m.8\u001b[0m\u001b[0;34m,\u001b[0m\u001b[0;36m0.5\u001b[0m\u001b[0;34m,\u001b[0m\u001b[0;36m0.6\u001b[0m\u001b[0;34m]\u001b[0m\u001b[0;34m)\u001b[0m\u001b[0;34m\u001b[0m\u001b[0m\n\u001b[1;32m      9\u001b[0m     \u001b[0mfactorsf\u001b[0m\u001b[0;34m[\u001b[0m\u001b[0mi\u001b[0m\u001b[0;34m,\u001b[0m\u001b[0;34m:\u001b[0m\u001b[0;34m]\u001b[0m \u001b[0;34m=\u001b[0m \u001b[0mf1\u001b[0m\u001b[0;34m,\u001b[0m\u001b[0mf2\u001b[0m\u001b[0;34m,\u001b[0m\u001b[0mf3\u001b[0m\u001b[0;34m,\u001b[0m\u001b[0mf4\u001b[0m\u001b[0;34m,\u001b[0m\u001b[0mf5\u001b[0m\u001b[0;34m,\u001b[0m\u001b[0mf6\u001b[0m\u001b[0;34m\u001b[0m\u001b[0m\n",
      "\u001b[0;31mTypeError\u001b[0m: 'float' object is not iterable"
     ]
    }
   ],
   "source": [
    "fs = [log10(0.05),log10(10.0)]\n",
    "n = 10000\n",
    "temp = zeros((n,6))\n",
    "factorsf = zeros((n,6)) \n",
    "for i in range(n):\n",
    "    f2,f3,f4,f5 = 10**(rand(4)*(fs[1]-fs[0])+fs[0])\n",
    "    f1,f6 = 1.0\n",
    "    f1,f4, f3, f5 = rand(4)*0.6 + array([.4,.8,0.5,0.6])\n",
    "    factorsf[i,:] = f1,f2,f3,f4,f5,f6\n",
    "    gtrA = gtrA0*f1\n",
    "    gtrN = gtrN0*f2\n",
    "    dendN.Ra = 250*f3\n",
    "    dendc.Ra = 250*f3\n",
    "    spdata['Rneck'] = Rneck0*f4\n",
    "    dendB1.cm = 3.5*f5\n",
    "    dendB1.g_pas = 3.5*f5/model.RM\n",
    "    dendN.cm = 3.5#*factor\n",
    "    dendc.cm = 3.5#*factor\n",
    "\n",
    "    dendN.g_pas = 3.5*f6/model.RM\n",
    "    dendc.g_pas = 3.5*f6/model.RM\n",
    "    VDCCa = VDCCa0\n",
    "    td = 500\n",
    "    vavg,mes,vtracs,vtracsD,vtracsS,Ctracs,me2,me3,_ = simulateSet(model,spdata,tG = td,ton = 50,toffset = 70,t_stop = 500, EL = EL0,btsr = ones(9)==1,VDCC = VDCCa,dendrec=False)\n",
    "    mt = mes.mean(axis=0)\n",
    "    st = mes.std(axis=0)\n",
    "    temp[i,:] = [i,mt[3],mt[3]/st[3],mt[1]/st[1],mt[4],mt[4]/st[4]]\n",
    "    if i%50 == 0:\n",
    "        print(i,':',temp[i,:])\n",
    "        break\n",
    "        with open(\"/mnt/data/spine_dofspace3b_temp.pickle\",\"wb\") as f:\n",
    "            pickle.dump([factorsf[:i,:],temp[:i,:]],f) \n",
    "dendN.Ra = 250\n",
    "dendc.Ra = 250\n",
    "spdata['Rneck'] = Rneck0*1.0"
   ]
  },
  {
   "cell_type": "code",
   "execution_count": null,
   "metadata": {},
   "outputs": [],
   "source": []
  }
 ],
 "metadata": {
  "kernelspec": {
   "display_name": "neuron",
   "language": "python",
   "name": "neuron"
  },
  "language_info": {
   "codemirror_mode": {
    "name": "ipython",
    "version": 3
   },
   "file_extension": ".py",
   "mimetype": "text/x-python",
   "name": "python",
   "nbconvert_exporter": "python",
   "pygments_lexer": "ipython3",
   "version": "3.6.5"
  }
 },
 "nbformat": 4,
 "nbformat_minor": 2
}
