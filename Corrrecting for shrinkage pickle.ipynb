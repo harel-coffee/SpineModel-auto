{
 "cells": [
  {
   "cell_type": "code",
   "execution_count": 30,
   "metadata": {},
   "outputs": [],
   "source": [
    "import numpy as np\n",
    "from numpy.random import exponential, randint\n",
    "from numpy import *   #ones, cumsum, sum, isscalar\n",
    "from matplotlib.pylab import * \n",
    "%matplotlib inline\n",
    "plotose = True\n",
    "import pickle\n"
   ]
  },
  {
   "cell_type": "code",
   "execution_count": 31,
   "metadata": {},
   "outputs": [],
   "source": [
    "from data_Fullset import SCxL23 as exppar\n"
   ]
  },
  {
   "cell_type": "code",
   "execution_count": 32,
   "metadata": {},
   "outputs": [],
   "source": [
    "with open(\"data_Fullset/Fullset.pkl\",\"rb\") as f:\n",
    "    data = pickle.load(f)"
   ]
  },
  {
   "cell_type": "code",
   "execution_count": 33,
   "metadata": {},
   "outputs": [
    {
     "name": "stdout",
     "output_type": "stream",
     "text": [
      "#Sp : (390,)\n",
      "#Bch : (390,)\n",
      "Dsb : (390,)\n",
      "Dss : (390,)\n",
      "d_interSp : (390,)\n",
      "Vtot : (390,)\n",
      "Vh : (390,)\n",
      "Ln : (390,)\n",
      "SA : (390,)\n",
      "nPSD : (390,)\n",
      "A1 : (390,)\n",
      "A2 : (390,)\n",
      "GPHN_SNR : (390,)\n",
      "DiS-EMchk : (390,)\n",
      "Lneck : (390,)\n",
      "maxDneck : (390,)\n",
      "minDneck : (390,)\n",
      "meanDneck : (390,)\n",
      "Rneck : (390,)\n",
      "Lhead : (390,)\n",
      "maxDhead : (390,)\n",
      "minDhead : (390,)\n",
      "meanDhead : (390,)\n",
      "Ah : (390,)\n",
      "Rhead : (390,)\n",
      "meanDneck_trunc70pc : (390,)\n"
     ]
    }
   ],
   "source": [
    "for key in data.keys():\n",
    "    print(key,\":\",data[key].shape)"
   ]
  },
  {
   "cell_type": "code",
   "execution_count": 34,
   "metadata": {},
   "outputs": [],
   "source": [
    "import pandas as pd"
   ]
  },
  {
   "cell_type": "code",
   "execution_count": 35,
   "metadata": {},
   "outputs": [
    {
     "name": "stdout",
     "output_type": "stream",
     "text": [
      "               A1\n",
      "count  384.000000\n",
      "mean     0.419623\n",
      "std      0.399813\n",
      "min      0.034957\n",
      "25%      0.141048\n",
      "50%      0.282883\n",
      "75%      0.561287\n",
      "max      2.880531\n",
      "               A1\n",
      "count  384.000000\n",
      "mean     0.371205\n",
      "std      0.353681\n",
      "min      0.030924\n",
      "25%      0.124773\n",
      "50%      0.250243\n",
      "75%      0.496523\n",
      "max      2.548162\n"
     ]
    }
   ],
   "source": [
    "gAMPA = pd.DataFrame((data['A1']*exppar.gtrA)*1e3)\n",
    "gNMDA = pd.DataFrame((data['A1']*exppar.gtrN)*1e3)\n",
    "\n",
    "print(gAMPA.describe())\n",
    "print(gNMDA.describe())"
   ]
  },
  {
   "cell_type": "code",
   "execution_count": 36,
   "metadata": {},
   "outputs": [
    {
     "data": {
      "text/plain": [
       "0.020254787341673335"
      ]
     },
     "execution_count": 36,
     "metadata": {},
     "output_type": "execute_result"
    }
   ],
   "source": [
    ".400/sqrt(390)"
   ]
  },
  {
   "cell_type": "code",
   "execution_count": 37,
   "metadata": {},
   "outputs": [
    {
     "data": {
      "text/plain": [
       "array([[<matplotlib.axes._subplots.AxesSubplot object at 0x7f6aa1f66208>]],\n",
       "      dtype=object)"
      ]
     },
     "execution_count": 37,
     "metadata": {},
     "output_type": "execute_result"
    },
    {
     "data": {
      "image/png": "[encoded data removed]",
      "text/plain": [
       "<Figure size 432x288 with 1 Axes>"
      ]
     },
     "metadata": {
      "needs_background": "light"
     },
     "output_type": "display_data"
    },
    {
     "data": {
      "image/png": "[encoded data removed]",
      "text/plain": [
       "<Figure size 432x288 with 1 Axes>"
      ]
     },
     "metadata": {
      "needs_background": "light"
     },
     "output_type": "display_data"
    }
   ],
   "source": [
    "gAMPA.hist(bins=31)\n",
    "gNMDA.hist(bins=31)"
   ]
  },
  {
   "cell_type": "code",
   "execution_count": 38,
   "metadata": {},
   "outputs": [],
   "source": [
    "lab_Linear_dims = ['Lhead','maxDhead','minDhead','meanDhead']\n",
    "lab_2d_dims = ['Ah']\n",
    "lab_3d_dims = ['Vh']\n",
    "#shrinkage_factor = 1./1.56999\n",
    "shrinkage_factor = 1./1.485"
   ]
  },
  {
   "cell_type": "code",
   "execution_count": 39,
   "metadata": {},
   "outputs": [
    {
     "name": "stderr",
     "output_type": "stream",
     "text": [
      "/export/home1/users/bssn/serna/environments/neuron/lib/python3.6/site-packages/ipykernel_launcher.py:8: SettingWithCopyWarning: \n",
      "A value is trying to be set on a copy of a slice from a DataFrame\n",
      "\n",
      "See the caveats in the documentation: http://pandas.pydata.org/pandas-docs/stable/indexing.html#indexing-view-versus-copy\n",
      "  \n",
      "/export/home1/users/bssn/serna/environments/neuron/lib/python3.6/site-packages/ipykernel_launcher.py:10: SettingWithCopyWarning: \n",
      "A value is trying to be set on a copy of a slice from a DataFrame\n",
      "\n",
      "See the caveats in the documentation: http://pandas.pydata.org/pandas-docs/stable/indexing.html#indexing-view-versus-copy\n",
      "  # Remove the CWD from sys.path while we load stuff.\n"
     ]
    }
   ],
   "source": [
    "\n",
    "spdata = data.copy()\n",
    "for l in lab_Linear_dims:\n",
    "    spdata[l] = data[l]/shrinkage_factor**(1.0/2.0)\n",
    "#for l in lab_2d_dims:\n",
    "#Change this to have A1 and A2 fixed\n",
    "A2f = data['A2']\n",
    "A2f[isnan(A2f)] = 0.0\n",
    "A1f = data['A1']\n",
    "A1f[isnan(A1f)] = 0.0\n",
    "\n",
    "Ahfree = data['Ah']-A2f-A1f\n",
    "Ahfree = Ahfree/shrinkage_factor\n",
    "spdata['Ah'] = Ahfree+A2f+A1f\n",
    "\n",
    "for l in lab_3d_dims:\n",
    "    spdata[l] = data[l]/shrinkage_factor**(3.0/2.0)"
   ]
  },
  {
   "cell_type": "code",
   "execution_count": 50,
   "metadata": {},
   "outputs": [
    {
     "name": "stdout",
     "output_type": "stream",
     "text": [
      "Shrunk diameter 0.65\n",
      "Shrinkage corrected diameter 0.7920937444520062\n"
     ]
    }
   ],
   "source": [
    "# diameter dendrite  0.7/.75**(1./2.0)\n",
    "print('Shrunk diameter',0.65)\n",
    "print('Shrinkage corrected diameter',0.65/shrinkage_factor**(1.0/2.0))"
   ]
  },
  {
   "cell_type": "code",
   "execution_count": 41,
   "metadata": {},
   "outputs": [
    {
     "name": "stderr",
     "output_type": "stream",
     "text": [
      "/export/home1/users/bssn/serna/environments/neuron/lib/python3.6/site-packages/pandas/core/computation/expressions.py:183: UserWarning: evaluating in Python space because the '*' operator is not supported by numexpr for the bool dtype, use '&' instead\n",
      "  .format(op=op_str, alt_op=unsupported[op_str]))\n",
      "/export/home1/users/bssn/serna/environments/neuron/lib/python3.6/site-packages/ipykernel_launcher.py:3: SettingWithCopyWarning: \n",
      "A value is trying to be set on a copy of a slice from a DataFrame\n",
      "\n",
      "See the caveats in the documentation: http://pandas.pydata.org/pandas-docs/stable/indexing.html#indexing-view-versus-copy\n",
      "  This is separate from the ipykernel package so we can avoid doing imports until\n"
     ]
    }
   ],
   "source": [
    "#Discarding two problematic nonDiS\n",
    "sel = arange(spdata['nPSD'].shape[0])[((~(spdata['nPSD']==2.0))*(spdata['A2']>0))]\n",
    "spdata['A2'][sel] *= 0.0"
   ]
  },
  {
   "cell_type": "code",
   "execution_count": 42,
   "metadata": {},
   "outputs": [],
   "source": [
    "with open(\"data_Fullset/Fullset_shrnk_corrected.pkl\",\"wb\") as f:\n",
    "    pickle.dump(spdata,f)"
   ]
  },
  {
   "cell_type": "code",
   "execution_count": 43,
   "metadata": {},
   "outputs": [
    {
     "data": {
      "text/plain": [
       "[<matplotlib.lines.Line2D at 0x7f6aa1e4a5c0>]"
      ]
     },
     "execution_count": 43,
     "metadata": {},
     "output_type": "execute_result"
    },
    {
     "data": {
      "image/png": "[encoded data removed]",
      "text/plain": [
       "<Figure size 432x288 with 1 Axes>"
      ]
     },
     "metadata": {
      "needs_background": "light"
     },
     "output_type": "display_data"
    }
   ],
   "source": [
    "plot(data['Ah'],(Ahfree+A1f+A2f)/data['Ah'],'.')\n",
    "plot(data['Ah'],spdata['Ah']/data['Ah'],'.')"
   ]
  },
  {
   "cell_type": "markdown",
   "metadata": {},
   "source": [
    "**Note** Keep in mind this is for the ammount of membrane of the active dendrite. It has to be corrected if we consider shrinkage!"
   ]
  },
  {
   "cell_type": "code",
   "execution_count": 44,
   "metadata": {},
   "outputs": [
    {
     "name": "stdout",
     "output_type": "stream",
     "text": [
      "2.554931685239178\n",
      "0.977717679443588 3.532649364682766\n"
     ]
    }
   ],
   "source": [
    "rhosp = 1.3\n",
    "diamneck = spdata['meanDneck'].mean()/1e3\n",
    "dendareaperL = rhosp*(mean(spdata['Ah'])+(pi*diamneck))\n",
    "denddiam = 0.87\n",
    "factor = dendareaperL/(pi*denddiam)\n",
    "print(factor)\n",
    "factorsp = factor\n",
    "factordd = (pi*denddiam-(pi*diamneck**2/4.0)*rhosp)/(pi*denddiam)\n",
    "print(factordd,factordd+factorsp)\n"
   ]
  },
  {
   "cell_type": "code",
   "execution_count": 45,
   "metadata": {},
   "outputs": [],
   "source": [
    "with open(\"data_Fullset/shPSD_Morphometry.pkl\",\"rb\") as f:\n",
    "    datash = pickle.load(f)"
   ]
  },
  {
   "cell_type": "code",
   "execution_count": 46,
   "metadata": {},
   "outputs": [
    {
     "data": {
      "text/html": [
       "<div>\n",
       "<style scoped>\n",
       "    .dataframe tbody tr th:only-of-type {\n",
       "        vertical-align: middle;\n",
       "    }\n",
       "\n",
       "    .dataframe tbody tr th {\n",
       "        vertical-align: top;\n",
       "    }\n",
       "\n",
       "    .dataframe thead th {\n",
       "        text-align: right;\n",
       "    }\n",
       "</style>\n",
       "<table border=\"1\" class=\"dataframe\">\n",
       "  <thead>\n",
       "    <tr style=\"text-align: right;\">\n",
       "      <th></th>\n",
       "      <th>A</th>\n",
       "      <th>Dpb</th>\n",
       "      <th>Dps</th>\n",
       "    </tr>\n",
       "    <tr>\n",
       "      <th>shPSD_ID</th>\n",
       "      <th></th>\n",
       "      <th></th>\n",
       "      <th></th>\n",
       "    </tr>\n",
       "  </thead>\n",
       "  <tbody>\n",
       "    <tr>\n",
       "      <th>180618Lmoz3_1</th>\n",
       "      <td>0.264371</td>\n",
       "      <td>21.148512</td>\n",
       "      <td>53.880635</td>\n",
       "    </tr>\n",
       "    <tr>\n",
       "      <th>180618Lmoz3_2</th>\n",
       "      <td>0.091982</td>\n",
       "      <td>25.985787</td>\n",
       "      <td>58.717910</td>\n",
       "    </tr>\n",
       "    <tr>\n",
       "      <th>180618Lmoz3_3</th>\n",
       "      <td>0.199327</td>\n",
       "      <td>29.640078</td>\n",
       "      <td>62.372200</td>\n",
       "    </tr>\n",
       "    <tr>\n",
       "      <th>180618Mmoz3_1-1_shPSD1</th>\n",
       "      <td>0.108019</td>\n",
       "      <td>2.700000</td>\n",
       "      <td>54.077000</td>\n",
       "    </tr>\n",
       "    <tr>\n",
       "      <th>180618Mmoz3_1-1_shPSD2</th>\n",
       "      <td>0.264497</td>\n",
       "      <td>3.696448</td>\n",
       "      <td>55.073448</td>\n",
       "    </tr>\n",
       "    <tr>\n",
       "      <th>180618Mmoz3_1-1_shPSD3</th>\n",
       "      <td>0.140767</td>\n",
       "      <td>6.122697</td>\n",
       "      <td>57.499697</td>\n",
       "    </tr>\n",
       "    <tr>\n",
       "      <th>180618Mmoz3_1-2_shPSDA</th>\n",
       "      <td>0.114171</td>\n",
       "      <td>10.618761</td>\n",
       "      <td>61.995761</td>\n",
       "    </tr>\n",
       "    <tr>\n",
       "      <th>180618Mmoz3_2-1_shPSDC</th>\n",
       "      <td>0.134315</td>\n",
       "      <td>16.223004</td>\n",
       "      <td>67.600004</td>\n",
       "    </tr>\n",
       "    <tr>\n",
       "      <th>180618Mmoz3_2-2_shPSDB</th>\n",
       "      <td>0.160663</td>\n",
       "      <td>18.275345</td>\n",
       "      <td>69.652345</td>\n",
       "    </tr>\n",
       "    <tr>\n",
       "      <th>180618Mmoz4_1_1</th>\n",
       "      <td>0.573048</td>\n",
       "      <td>22.139162</td>\n",
       "      <td>73.516162</td>\n",
       "    </tr>\n",
       "    <tr>\n",
       "      <th>180618Mmoz4_2_3</th>\n",
       "      <td>0.125252</td>\n",
       "      <td>31.433805</td>\n",
       "      <td>82.810805</td>\n",
       "    </tr>\n",
       "    <tr>\n",
       "      <th>180618Mmoz4_2_4</th>\n",
       "      <td>0.117469</td>\n",
       "      <td>33.896819</td>\n",
       "      <td>85.273819</td>\n",
       "    </tr>\n",
       "    <tr>\n",
       "      <th>180618Mmoz4_2_5</th>\n",
       "      <td>0.115279</td>\n",
       "      <td>35.742968</td>\n",
       "      <td>87.119968</td>\n",
       "    </tr>\n",
       "    <tr>\n",
       "      <th>180618Mmoz4_2_6</th>\n",
       "      <td>0.253951</td>\n",
       "      <td>38.350035</td>\n",
       "      <td>89.727035</td>\n",
       "    </tr>\n",
       "    <tr>\n",
       "      <th>180618Mmoz4_2_7</th>\n",
       "      <td>0.176497</td>\n",
       "      <td>41.452173</td>\n",
       "      <td>92.829173</td>\n",
       "    </tr>\n",
       "    <tr>\n",
       "      <th>180618Mmoz5_1_8</th>\n",
       "      <td>0.096625</td>\n",
       "      <td>45.123000</td>\n",
       "      <td>96.500000</td>\n",
       "    </tr>\n",
       "    <tr>\n",
       "      <th>180618Mmoz5_1_9</th>\n",
       "      <td>0.214560</td>\n",
       "      <td>47.623000</td>\n",
       "      <td>99.000000</td>\n",
       "    </tr>\n",
       "    <tr>\n",
       "      <th>180618Mmoz5_1_10</th>\n",
       "      <td>0.258639</td>\n",
       "      <td>50.623000</td>\n",
       "      <td>102.000000</td>\n",
       "    </tr>\n",
       "    <tr>\n",
       "      <th>180618Mmoz5_1_11</th>\n",
       "      <td>0.088292</td>\n",
       "      <td>52.623000</td>\n",
       "      <td>104.000000</td>\n",
       "    </tr>\n",
       "    <tr>\n",
       "      <th>180618Mmoz5_2_12</th>\n",
       "      <td>0.128383</td>\n",
       "      <td>53.623000</td>\n",
       "      <td>105.000000</td>\n",
       "    </tr>\n",
       "    <tr>\n",
       "      <th>180618Mmoz5_2_13</th>\n",
       "      <td>0.063411</td>\n",
       "      <td>56.623000</td>\n",
       "      <td>108.000000</td>\n",
       "    </tr>\n",
       "    <tr>\n",
       "      <th>180618Mmoz5_2_14</th>\n",
       "      <td>0.175017</td>\n",
       "      <td>64.623000</td>\n",
       "      <td>116.000000</td>\n",
       "    </tr>\n",
       "    <tr>\n",
       "      <th>180618Mmoz6_1_14</th>\n",
       "      <td>0.112869</td>\n",
       "      <td>63.523000</td>\n",
       "      <td>114.900000</td>\n",
       "    </tr>\n",
       "    <tr>\n",
       "      <th>180618Mmoz6_1_14bis</th>\n",
       "      <td>0.100867</td>\n",
       "      <td>66.623000</td>\n",
       "      <td>118.000000</td>\n",
       "    </tr>\n",
       "    <tr>\n",
       "      <th>180618Mmoz6_1_15</th>\n",
       "      <td>0.155528</td>\n",
       "      <td>69.423000</td>\n",
       "      <td>120.800000</td>\n",
       "    </tr>\n",
       "    <tr>\n",
       "      <th>180618Mmoz6_2-1_16</th>\n",
       "      <td>0.267600</td>\n",
       "      <td>76.623000</td>\n",
       "      <td>128.000000</td>\n",
       "    </tr>\n",
       "    <tr>\n",
       "      <th>180618Mmoz6_2-2_17</th>\n",
       "      <td>0.137400</td>\n",
       "      <td>84.123000</td>\n",
       "      <td>135.500000</td>\n",
       "    </tr>\n",
       "    <tr>\n",
       "      <th>180609DDT4_ShaftPSD8</th>\n",
       "      <td>0.175234</td>\n",
       "      <td>56.660000</td>\n",
       "      <td>91.555000</td>\n",
       "    </tr>\n",
       "    <tr>\n",
       "      <th>180609DDT5_1_ShaftPSD1</th>\n",
       "      <td>0.131078</td>\n",
       "      <td>60.808000</td>\n",
       "      <td>95.703000</td>\n",
       "    </tr>\n",
       "    <tr>\n",
       "      <th>180609DDT5_1_ShaftPSD2</th>\n",
       "      <td>0.233602</td>\n",
       "      <td>61.700000</td>\n",
       "      <td>96.595000</td>\n",
       "    </tr>\n",
       "    <tr>\n",
       "      <th>...</th>\n",
       "      <td>...</td>\n",
       "      <td>...</td>\n",
       "      <td>...</td>\n",
       "    </tr>\n",
       "    <tr>\n",
       "      <th>180609DDT5_1_ShaftPSD4</th>\n",
       "      <td>0.254267</td>\n",
       "      <td>66.300000</td>\n",
       "      <td>101.195000</td>\n",
       "    </tr>\n",
       "    <tr>\n",
       "      <th>180609DDT5_1_ShaftPSD5</th>\n",
       "      <td>0.243284</td>\n",
       "      <td>71.500000</td>\n",
       "      <td>106.395000</td>\n",
       "    </tr>\n",
       "    <tr>\n",
       "      <th>180609DDT5_1_ShaftPSD6</th>\n",
       "      <td>0.095399</td>\n",
       "      <td>73.900000</td>\n",
       "      <td>108.795000</td>\n",
       "    </tr>\n",
       "    <tr>\n",
       "      <th>180609DDT5_1_ShaftPSD7</th>\n",
       "      <td>0.153383</td>\n",
       "      <td>79.600000</td>\n",
       "      <td>114.495000</td>\n",
       "    </tr>\n",
       "    <tr>\n",
       "      <th>180626Rmoz-fork_1-1_shPSD1</th>\n",
       "      <td>0.194453</td>\n",
       "      <td>24.500000</td>\n",
       "      <td>24.500000</td>\n",
       "    </tr>\n",
       "    <tr>\n",
       "      <th>180626Rmoz-fork_1-1_shPSD2</th>\n",
       "      <td>0.181780</td>\n",
       "      <td>25.500000</td>\n",
       "      <td>25.500000</td>\n",
       "    </tr>\n",
       "    <tr>\n",
       "      <th>180626Rmoz-fork_1-1_shPSD3</th>\n",
       "      <td>0.528724</td>\n",
       "      <td>26.000000</td>\n",
       "      <td>26.000000</td>\n",
       "    </tr>\n",
       "    <tr>\n",
       "      <th>180626Rmoz-fork_1-1_shPSD4</th>\n",
       "      <td>0.179002</td>\n",
       "      <td>29.500000</td>\n",
       "      <td>29.500000</td>\n",
       "    </tr>\n",
       "    <tr>\n",
       "      <th>180626Rmoz-fork_1-2_shPSD5</th>\n",
       "      <td>0.158516</td>\n",
       "      <td>33.000000</td>\n",
       "      <td>33.000000</td>\n",
       "    </tr>\n",
       "    <tr>\n",
       "      <th>180626Rmoz-fork_1-2_shPSD6</th>\n",
       "      <td>0.056112</td>\n",
       "      <td>35.000000</td>\n",
       "      <td>35.000000</td>\n",
       "    </tr>\n",
       "    <tr>\n",
       "      <th>180626Rmoz-fork_1-2_shPSD7</th>\n",
       "      <td>0.089136</td>\n",
       "      <td>36.500000</td>\n",
       "      <td>36.500000</td>\n",
       "    </tr>\n",
       "    <tr>\n",
       "      <th>180626Rmoz-fork_1-3_shPSD10</th>\n",
       "      <td>0.308223</td>\n",
       "      <td>32.000000</td>\n",
       "      <td>32.000000</td>\n",
       "    </tr>\n",
       "    <tr>\n",
       "      <th>180626Rmoz-fork_1-3_shPSD11</th>\n",
       "      <td>0.078000</td>\n",
       "      <td>34.000000</td>\n",
       "      <td>34.000000</td>\n",
       "    </tr>\n",
       "    <tr>\n",
       "      <th>180626Rmoz-fork_1-3_shPSD12</th>\n",
       "      <td>0.160515</td>\n",
       "      <td>37.000000</td>\n",
       "      <td>37.000000</td>\n",
       "    </tr>\n",
       "    <tr>\n",
       "      <th>180626Rmoz-fork_2_shPSD13</th>\n",
       "      <td>0.271515</td>\n",
       "      <td>45.000000</td>\n",
       "      <td>45.000000</td>\n",
       "    </tr>\n",
       "    <tr>\n",
       "      <th>180626Rmoz-fork_2_shPSD14</th>\n",
       "      <td>0.132695</td>\n",
       "      <td>46.000000</td>\n",
       "      <td>46.000000</td>\n",
       "    </tr>\n",
       "    <tr>\n",
       "      <th>180626RR1_2_PSDsh1</th>\n",
       "      <td>0.134944</td>\n",
       "      <td>56.000000</td>\n",
       "      <td>56.000000</td>\n",
       "    </tr>\n",
       "    <tr>\n",
       "      <th>180626RR1_2_PSDsh1a</th>\n",
       "      <td>0.161097</td>\n",
       "      <td>56.200000</td>\n",
       "      <td>56.200000</td>\n",
       "    </tr>\n",
       "    <tr>\n",
       "      <th>180626RR1_2_PSDsh2</th>\n",
       "      <td>0.089846</td>\n",
       "      <td>61.000000</td>\n",
       "      <td>61.000000</td>\n",
       "    </tr>\n",
       "    <tr>\n",
       "      <th>180626RR3_1_PSDsh7</th>\n",
       "      <td>0.082333</td>\n",
       "      <td>83.000000</td>\n",
       "      <td>83.000000</td>\n",
       "    </tr>\n",
       "    <tr>\n",
       "      <th>180626RR3_1_PSDsh8</th>\n",
       "      <td>0.058790</td>\n",
       "      <td>86.000000</td>\n",
       "      <td>86.000000</td>\n",
       "    </tr>\n",
       "    <tr>\n",
       "      <th>180626RR3_1_PSDsh9</th>\n",
       "      <td>0.117134</td>\n",
       "      <td>87.000000</td>\n",
       "      <td>87.000000</td>\n",
       "    </tr>\n",
       "    <tr>\n",
       "      <th>180626RR3_1_PSDsh10</th>\n",
       "      <td>0.072736</td>\n",
       "      <td>92.500000</td>\n",
       "      <td>92.500000</td>\n",
       "    </tr>\n",
       "    <tr>\n",
       "      <th>180626RR3_2_PSDsh11</th>\n",
       "      <td>0.159920</td>\n",
       "      <td>97.000000</td>\n",
       "      <td>97.000000</td>\n",
       "    </tr>\n",
       "    <tr>\n",
       "      <th>180626RR3_2_PSDsh12</th>\n",
       "      <td>0.076243</td>\n",
       "      <td>98.000000</td>\n",
       "      <td>98.000000</td>\n",
       "    </tr>\n",
       "    <tr>\n",
       "      <th>180626RR4_1_PSDsh13</th>\n",
       "      <td>0.230725</td>\n",
       "      <td>105.000000</td>\n",
       "      <td>105.000000</td>\n",
       "    </tr>\n",
       "    <tr>\n",
       "      <th>180626RR4_1_PSDsh14</th>\n",
       "      <td>0.117502</td>\n",
       "      <td>107.000000</td>\n",
       "      <td>107.000000</td>\n",
       "    </tr>\n",
       "    <tr>\n",
       "      <th>180626RR4_2_PSDsh15</th>\n",
       "      <td>0.082993</td>\n",
       "      <td>112.000000</td>\n",
       "      <td>112.000000</td>\n",
       "    </tr>\n",
       "    <tr>\n",
       "      <th>180626RR4_2_PSDsh16</th>\n",
       "      <td>0.272210</td>\n",
       "      <td>112.500000</td>\n",
       "      <td>112.500000</td>\n",
       "    </tr>\n",
       "    <tr>\n",
       "      <th>180626RR4_2_PSDsh17</th>\n",
       "      <td>0.145155</td>\n",
       "      <td>114.000000</td>\n",
       "      <td>114.000000</td>\n",
       "    </tr>\n",
       "  </tbody>\n",
       "</table>\n",
       "<p>61 rows × 3 columns</p>\n",
       "</div>"
      ],
      "text/plain": [
       "                                    A         Dpb         Dps\n",
       "shPSD_ID                                                     \n",
       "180618Lmoz3_1                0.264371   21.148512   53.880635\n",
       "180618Lmoz3_2                0.091982   25.985787   58.717910\n",
       "180618Lmoz3_3                0.199327   29.640078   62.372200\n",
       "180618Mmoz3_1-1_shPSD1       0.108019    2.700000   54.077000\n",
       "180618Mmoz3_1-1_shPSD2       0.264497    3.696448   55.073448\n",
       "180618Mmoz3_1-1_shPSD3       0.140767    6.122697   57.499697\n",
       "180618Mmoz3_1-2_shPSDA       0.114171   10.618761   61.995761\n",
       "180618Mmoz3_2-1_shPSDC       0.134315   16.223004   67.600004\n",
       "180618Mmoz3_2-2_shPSDB       0.160663   18.275345   69.652345\n",
       "180618Mmoz4_1_1              0.573048   22.139162   73.516162\n",
       "180618Mmoz4_2_3              0.125252   31.433805   82.810805\n",
       "180618Mmoz4_2_4              0.117469   33.896819   85.273819\n",
       "180618Mmoz4_2_5              0.115279   35.742968   87.119968\n",
       "180618Mmoz4_2_6              0.253951   38.350035   89.727035\n",
       "180618Mmoz4_2_7              0.176497   41.452173   92.829173\n",
       "180618Mmoz5_1_8              0.096625   45.123000   96.500000\n",
       "180618Mmoz5_1_9              0.214560   47.623000   99.000000\n",
       "180618Mmoz5_1_10             0.258639   50.623000  102.000000\n",
       "180618Mmoz5_1_11             0.088292   52.623000  104.000000\n",
       "180618Mmoz5_2_12             0.128383   53.623000  105.000000\n",
       "180618Mmoz5_2_13             0.063411   56.623000  108.000000\n",
       "180618Mmoz5_2_14             0.175017   64.623000  116.000000\n",
       "180618Mmoz6_1_14             0.112869   63.523000  114.900000\n",
       "180618Mmoz6_1_14bis          0.100867   66.623000  118.000000\n",
       "180618Mmoz6_1_15             0.155528   69.423000  120.800000\n",
       "180618Mmoz6_2-1_16           0.267600   76.623000  128.000000\n",
       "180618Mmoz6_2-2_17           0.137400   84.123000  135.500000\n",
       "180609DDT4_ShaftPSD8         0.175234   56.660000   91.555000\n",
       "180609DDT5_1_ShaftPSD1       0.131078   60.808000   95.703000\n",
       "180609DDT5_1_ShaftPSD2       0.233602   61.700000   96.595000\n",
       "...                               ...         ...         ...\n",
       "180609DDT5_1_ShaftPSD4       0.254267   66.300000  101.195000\n",
       "180609DDT5_1_ShaftPSD5       0.243284   71.500000  106.395000\n",
       "180609DDT5_1_ShaftPSD6       0.095399   73.900000  108.795000\n",
       "180609DDT5_1_ShaftPSD7       0.153383   79.600000  114.495000\n",
       "180626Rmoz-fork_1-1_shPSD1   0.194453   24.500000   24.500000\n",
       "180626Rmoz-fork_1-1_shPSD2   0.181780   25.500000   25.500000\n",
       "180626Rmoz-fork_1-1_shPSD3   0.528724   26.000000   26.000000\n",
       "180626Rmoz-fork_1-1_shPSD4   0.179002   29.500000   29.500000\n",
       "180626Rmoz-fork_1-2_shPSD5   0.158516   33.000000   33.000000\n",
       "180626Rmoz-fork_1-2_shPSD6   0.056112   35.000000   35.000000\n",
       "180626Rmoz-fork_1-2_shPSD7   0.089136   36.500000   36.500000\n",
       "180626Rmoz-fork_1-3_shPSD10  0.308223   32.000000   32.000000\n",
       "180626Rmoz-fork_1-3_shPSD11  0.078000   34.000000   34.000000\n",
       "180626Rmoz-fork_1-3_shPSD12  0.160515   37.000000   37.000000\n",
       "180626Rmoz-fork_2_shPSD13    0.271515   45.000000   45.000000\n",
       "180626Rmoz-fork_2_shPSD14    0.132695   46.000000   46.000000\n",
       "180626RR1_2_PSDsh1           0.134944   56.000000   56.000000\n",
       "180626RR1_2_PSDsh1a          0.161097   56.200000   56.200000\n",
       "180626RR1_2_PSDsh2           0.089846   61.000000   61.000000\n",
       "180626RR3_1_PSDsh7           0.082333   83.000000   83.000000\n",
       "180626RR3_1_PSDsh8           0.058790   86.000000   86.000000\n",
       "180626RR3_1_PSDsh9           0.117134   87.000000   87.000000\n",
       "180626RR3_1_PSDsh10          0.072736   92.500000   92.500000\n",
       "180626RR3_2_PSDsh11          0.159920   97.000000   97.000000\n",
       "180626RR3_2_PSDsh12          0.076243   98.000000   98.000000\n",
       "180626RR4_1_PSDsh13          0.230725  105.000000  105.000000\n",
       "180626RR4_1_PSDsh14          0.117502  107.000000  107.000000\n",
       "180626RR4_2_PSDsh15          0.082993  112.000000  112.000000\n",
       "180626RR4_2_PSDsh16          0.272210  112.500000  112.500000\n",
       "180626RR4_2_PSDsh17          0.145155  114.000000  114.000000\n",
       "\n",
       "[61 rows x 3 columns]"
      ]
     },
     "execution_count": 46,
     "metadata": {},
     "output_type": "execute_result"
    }
   ],
   "source": [
    "datash"
   ]
  },
  {
   "cell_type": "code",
   "execution_count": 47,
   "metadata": {},
   "outputs": [
    {
     "data": {
      "text/plain": [
       "[<matplotlib.lines.Line2D at 0x7f6aa1810630>]"
      ]
     },
     "execution_count": 47,
     "metadata": {},
     "output_type": "execute_result"
    },
    {
     "data": {
      "image/png": "[encoded data removed]",
      "text/plain": [
       "<Figure size 432x288 with 1 Axes>"
      ]
     },
     "metadata": {
      "needs_background": "light"
     },
     "output_type": "display_data"
    }
   ],
   "source": [
    "plot(datash['Dpb'],datash['A'],'.')"
   ]
  },
  {
   "cell_type": "code",
   "execution_count": 48,
   "metadata": {},
   "outputs": [
    {
     "data": {
      "text/plain": [
       "array([], dtype=int64)"
      ]
     },
     "execution_count": 48,
     "metadata": {},
     "output_type": "execute_result"
    }
   ],
   "source": [
    "arange(61)[datash['Dps']>160]"
   ]
  },
  {
   "cell_type": "code",
   "execution_count": 49,
   "metadata": {},
   "outputs": [
    {
     "data": {
      "text/html": [
       "<div>\n",
       "<style scoped>\n",
       "    .dataframe tbody tr th:only-of-type {\n",
       "        vertical-align: middle;\n",
       "    }\n",
       "\n",
       "    .dataframe tbody tr th {\n",
       "        vertical-align: top;\n",
       "    }\n",
       "\n",
       "    .dataframe thead th {\n",
       "        text-align: right;\n",
       "    }\n",
       "</style>\n",
       "<table border=\"1\" class=\"dataframe\">\n",
       "  <thead>\n",
       "    <tr style=\"text-align: right;\">\n",
       "      <th></th>\n",
       "      <th>A</th>\n",
       "    </tr>\n",
       "  </thead>\n",
       "  <tbody>\n",
       "    <tr>\n",
       "      <th>count</th>\n",
       "      <td>61.000000</td>\n",
       "    </tr>\n",
       "    <tr>\n",
       "      <th>mean</th>\n",
       "      <td>1.000000</td>\n",
       "    </tr>\n",
       "    <tr>\n",
       "      <th>std</th>\n",
       "      <td>0.577148</td>\n",
       "    </tr>\n",
       "    <tr>\n",
       "      <th>min</th>\n",
       "      <td>0.328792</td>\n",
       "    </tr>\n",
       "    <tr>\n",
       "      <th>25%</th>\n",
       "      <td>0.632949</td>\n",
       "    </tr>\n",
       "    <tr>\n",
       "      <th>50%</th>\n",
       "      <td>0.850551</td>\n",
       "    </tr>\n",
       "    <tr>\n",
       "      <th>75%</th>\n",
       "      <td>1.257237</td>\n",
       "    </tr>\n",
       "    <tr>\n",
       "      <th>max</th>\n",
       "      <td>3.357836</td>\n",
       "    </tr>\n",
       "  </tbody>\n",
       "</table>\n",
       "</div>"
      ],
      "text/plain": [
       "               A\n",
       "count  61.000000\n",
       "mean    1.000000\n",
       "std     0.577148\n",
       "min     0.328792\n",
       "25%     0.632949\n",
       "50%     0.850551\n",
       "75%     1.257237\n",
       "max     3.357836"
      ]
     },
     "execution_count": 49,
     "metadata": {},
     "output_type": "execute_result"
    }
   ],
   "source": [
    "gGABA = pd.DataFrame((datash['A']*exppar.gtrG)*1e3)\n",
    "gGABA.describe()"
   ]
  },
  {
   "cell_type": "code",
   "execution_count": 29,
   "metadata": {},
   "outputs": [
    {
     "data": {
      "text/html": [
       "<div>\n",
       "<style scoped>\n",
       "    .dataframe tbody tr th:only-of-type {\n",
       "        vertical-align: middle;\n",
       "    }\n",
       "\n",
       "    .dataframe tbody tr th {\n",
       "        vertical-align: top;\n",
       "    }\n",
       "\n",
       "    .dataframe thead th {\n",
       "        text-align: right;\n",
       "    }\n",
       "</style>\n",
       "<table border=\"1\" class=\"dataframe\">\n",
       "  <thead>\n",
       "    <tr style=\"text-align: right;\">\n",
       "      <th></th>\n",
       "      <th>A2</th>\n",
       "    </tr>\n",
       "  </thead>\n",
       "  <tbody>\n",
       "    <tr>\n",
       "      <th>count</th>\n",
       "      <td>37.000000</td>\n",
       "    </tr>\n",
       "    <tr>\n",
       "      <th>mean</th>\n",
       "      <td>0.527511</td>\n",
       "    </tr>\n",
       "    <tr>\n",
       "      <th>std</th>\n",
       "      <td>0.277050</td>\n",
       "    </tr>\n",
       "    <tr>\n",
       "      <th>min</th>\n",
       "      <td>0.185705</td>\n",
       "    </tr>\n",
       "    <tr>\n",
       "      <th>25%</th>\n",
       "      <td>0.329125</td>\n",
       "    </tr>\n",
       "    <tr>\n",
       "      <th>50%</th>\n",
       "      <td>0.479948</td>\n",
       "    </tr>\n",
       "    <tr>\n",
       "      <th>75%</th>\n",
       "      <td>0.618991</td>\n",
       "    </tr>\n",
       "    <tr>\n",
       "      <th>max</th>\n",
       "      <td>1.560619</td>\n",
       "    </tr>\n",
       "  </tbody>\n",
       "</table>\n",
       "</div>"
      ],
      "text/plain": [
       "              A2\n",
       "count  37.000000\n",
       "mean    0.527511\n",
       "std     0.277050\n",
       "min     0.185705\n",
       "25%     0.329125\n",
       "50%     0.479948\n",
       "75%     0.618991\n",
       "max     1.560619"
      ]
     },
     "execution_count": 29,
     "metadata": {},
     "output_type": "execute_result"
    }
   ],
   "source": [
    "gGABADiS = pd.DataFrame((data['A2'][data['A2']>0]*exppar.gtrG)*1e3)\n",
    "gGABADiS.describe()"
   ]
  },
  {
   "cell_type": "code",
   "execution_count": 51,
   "metadata": {},
   "outputs": [
    {
     "ename": "NameError",
     "evalue": "name 'dendsh' is not defined",
     "output_type": "error",
     "traceback": [
      "\u001b[0;31m---------------------------------------------------------------------------\u001b[0m",
      "\u001b[0;31mNameError\u001b[0m                                 Traceback (most recent call last)",
      "\u001b[0;32m<ipython-input-51-2b23a841f198>\u001b[0m in \u001b[0;36m<module>\u001b[0;34m\u001b[0m\n\u001b[1;32m      1\u001b[0m \u001b[0mdiamt\u001b[0m \u001b[0;34m=\u001b[0m \u001b[0;36m0.79\u001b[0m\u001b[0;34m\u001b[0m\u001b[0m\n\u001b[0;32m----> 2\u001b[0;31m \u001b[0mdendsh\u001b[0m\u001b[0;34m.\u001b[0m\u001b[0mdiam\u001b[0m \u001b[0;34m=\u001b[0m \u001b[0mdiamt\u001b[0m\u001b[0;34m\u001b[0m\u001b[0m\n\u001b[0m\u001b[1;32m      3\u001b[0m \u001b[0mdendA1\u001b[0m\u001b[0;34m.\u001b[0m\u001b[0mdiam\u001b[0m \u001b[0;34m=\u001b[0m \u001b[0mdiamt\u001b[0m\u001b[0;34m\u001b[0m\u001b[0m\n\u001b[1;32m      4\u001b[0m \u001b[0mdendA2\u001b[0m\u001b[0;34m.\u001b[0m\u001b[0mdiam\u001b[0m \u001b[0;34m=\u001b[0m \u001b[0mdiamt\u001b[0m\u001b[0;34m\u001b[0m\u001b[0m\n\u001b[1;32m      5\u001b[0m \u001b[0mdiamneck\u001b[0m \u001b[0;34m=\u001b[0m \u001b[0msps\u001b[0m\u001b[0;34m[\u001b[0m\u001b[0;34m'meanDneck'\u001b[0m\u001b[0;34m]\u001b[0m\u001b[0;34m.\u001b[0m\u001b[0mmean\u001b[0m\u001b[0;34m(\u001b[0m\u001b[0;34m)\u001b[0m\u001b[0;34m/\u001b[0m\u001b[0;36m1e3\u001b[0m\u001b[0;34m\u001b[0m\u001b[0m\n",
      "\u001b[0;31mNameError\u001b[0m: name 'dendsh' is not defined"
     ]
    }
   ],
   "source": []
  },
  {
   "cell_type": "code",
   "execution_count": null,
   "metadata": {},
   "outputs": [],
   "source": []
  }
 ],
 "metadata": {
  "kernelspec": {
   "display_name": "neuron",
   "language": "python",
   "name": "neuron"
  },
  "language_info": {
   "codemirror_mode": {
    "name": "ipython",
    "version": 3
   },
   "file_extension": ".py",
   "mimetype": "text/x-python",
   "name": "python",
   "nbconvert_exporter": "python",
   "pygments_lexer": "ipython3",
   "version": "3.6.5"
  }
 },
 "nbformat": 4,
 "nbformat_minor": 2
}
