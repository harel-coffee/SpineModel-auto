{
 "cells": [
  {
   "cell_type": "code",
   "execution_count": 1,
   "metadata": {},
   "outputs": [],
   "source": [
    "from scipy.integrate import quad\n",
    "from numpy import *\n",
    "from matplotlib.pylab import *\n",
    "import matplotlib as mpl\n",
    "%matplotlib inline\n",
    "#from pandas.core import *\n",
    "import pandas as pd\n",
    "\n",
    "from sklearn.model_selection import train_test_split \n",
    "from sklearn.linear_model import LinearRegression\n",
    "from sklearn import metrics\n",
    "\n",
    "from sklearn.decomposition import PCA,FastICA\n",
    "\n",
    "from sklearn.cluster import DBSCAN\n",
    "from sklearn import metrics\n",
    "from sklearn.datasets.samples_generator import make_blobs\n",
    "from sklearn.preprocessing import StandardScaler\n",
    "import pickle\n"
   ]
  },
  {
   "cell_type": "code",
   "execution_count": 2,
   "metadata": {},
   "outputs": [],
   "source": [
    "folder = '/mnt/data/spinemodel/conditions/'"
   ]
  },
  {
   "cell_type": "code",
   "execution_count": 3,
   "metadata": {},
   "outputs": [],
   "source": [
    "#Jupyters: Proper Spine Model - Inhibition.ipynb\n",
    "with open(folder+\"dis_baselinev3_1000_70_65sh.pickle\",\"rb\") as f:\n",
    "    vavgDiS,mesDiS,vtracsDiS,vtracsDDiS,vtracsSDiS,CtracsDiS = pickle.load(f)\n",
    "\n",
    "with open(folder+\"All_baseline_datasetv3_1000_70_65sh.pickle\",\"rb\") as f:\n",
    "    vavgT,mesT,vtracsT,vtracsDT,vtracsST,CtracsT,me2T,_,dataT = pickle.load(f)\n"
   ]
  },
  {
   "cell_type": "code",
   "execution_count": 4,
   "metadata": {},
   "outputs": [
    {
     "data": {
      "text/plain": [
       "(dict_keys(['#Sp', '#Bch', 'Dsb', 'Dss', 'd_interSp', 'Vtot', 'Vh', 'Ln', 'SA', 'nPSD', 'A1', 'A2', 'GPHN_SNR', 'DiS-EMchk', 'Lneck', 'maxDneck', 'minDneck', 'meanDneck', 'Rneck', 'Lhead', 'maxDhead', 'minDhead', 'meanDhead', 'Ah', 'Rhead', 'meanDneck_trunc70pc', 'L', 'D', 'AhA0', 'Rmorph']),\n",
       " (10002, 384))"
      ]
     },
     "execution_count": 4,
     "metadata": {},
     "output_type": "execute_result"
    }
   ],
   "source": [
    "dataT.keys(),vtracsST.shape"
   ]
  },
  {
   "cell_type": "code",
   "execution_count": 5,
   "metadata": {},
   "outputs": [],
   "source": [
    "pddataT = pd.DataFrame(dataT)"
   ]
  },
  {
   "cell_type": "code",
   "execution_count": 6,
   "metadata": {},
   "outputs": [],
   "source": [
    "labels = ('Vh','A1','Ah','Dss','Rneck','Lhead','meanDhead')\n",
    "datt = column_stack((dataT['Vh'],dataT['A1'],dataT['Ah'],dataT['Dss'],dataT['Rneck'],dataT['Lhead'],dataT['meanDhead']))\n",
    "\n",
    "labels = ('A1','Dss','Rneck','SA')\n",
    "datt = column_stack((dataT['A1'],dataT['Dss'],dataT['Rneck'],dataT['SA']))"
   ]
  },
  {
   "cell_type": "code",
   "execution_count": 7,
   "metadata": {},
   "outputs": [],
   "source": [
    "pddataT = pd.DataFrame(data=datt,columns=labels)"
   ]
  },
  {
   "cell_type": "code",
   "execution_count": 8,
   "metadata": {},
   "outputs": [
    {
     "name": "stdout",
     "output_type": "stream",
     "text": [
      "[ 3.06790858e+00 -3.93328064e-03 -5.48712705e-05 -8.98420167e-03]\n"
     ]
    }
   ],
   "source": [
    "regressor = LinearRegression()  \n",
    "regressor.fit(datt, mesT[:,3])\n",
    "coeforig = regressor.coef_*1.0\n",
    "print(regressor.coef_)"
   ]
  },
  {
   "cell_type": "code",
   "execution_count": 9,
   "metadata": {},
   "outputs": [],
   "source": [
    "y_pred = regressor.predict(datt)"
   ]
  },
  {
   "cell_type": "code",
   "execution_count": 10,
   "metadata": {},
   "outputs": [
    {
     "name": "stdout",
     "output_type": "stream",
     "text": [
      "0.008987657974958048\n"
     ]
    }
   ],
   "source": [
    "fullvarlinear = ((mesT[:,3]-y_pred)).var()\n",
    "print(fullvarlinear)"
   ]
  },
  {
   "cell_type": "code",
   "execution_count": 11,
   "metadata": {},
   "outputs": [],
   "source": [
    "def LinReg_varexplain_B(X,y,labels= None, relative = False):\n",
    "    if labels is None:\n",
    "        try: \n",
    "            labels = X.keys()\n",
    "        except:\n",
    "            labels = arange(X.shape[1])\n",
    "            \n",
    "    idcs = arange(X.shape[1]).tolist()\n",
    "    vardat = zeros((X.shape[1],2))\n",
    "    \n",
    "    var0 = var(y)\n",
    "    #y_predt = y*0.0    \n",
    "    for k in range(X.shape[1]-1):\n",
    "\n",
    "        varts = zeros(len(idcs))\n",
    "        #print(idcs)\n",
    "        for iv,i in enumerate(idcs):\n",
    "            \n",
    "            idct = 1*array(idcs)\n",
    "            idct = delete(idct,iv)\n",
    "            Xb = X.values[:,array(idct)]\n",
    "            \n",
    "            regressor.fit(Xb, y)\n",
    "            y_pred = regressor.predict(Xb)\n",
    "            vart = ((y-y_pred)).var()\n",
    "            \n",
    "            varts[iv] = vart\n",
    "        \n",
    "        #print(varts)\n",
    "        # We select column that affected the minimum and remove it\n",
    "        sel = argmin(varts)\n",
    "        i = idcs[sel]\n",
    "        vardat[k,:] = (idcs[sel],varts[sel])\n",
    "        idcs.pop(sel)\n",
    "\n",
    "    #i = idcs[0]\n",
    "    vardat[-1,:] = (idcs[0],var(y))\n",
    "    #print(vardat,var0)\n",
    "    #hist(y-y_pred,41)\n",
    "\n",
    "    result = {}\n",
    "    #print(vardat)\n",
    "    for i in range(vardat.shape[0]-1,0,-1):\n",
    "        vsa = (vardat[i,1])/var0\n",
    "        vs = (vardat[i-1,1])/var0\n",
    "        #print(labels[int(vardat[i,0])],(vsa-vs)*100)\n",
    "        result[labels[int(vardat[i,0])]] = int(10000*(vsa-vs))/10000\n",
    "        \n",
    "    regressor.fit(X, y)\n",
    "    y_pred = regressor.predict(X)\n",
    "    vart = ((y-y_pred)).var()\n",
    "    vsa = (vardat[0,1])/var0\n",
    "    vs = (vart)/var0\n",
    "    \n",
    "    #print(labels[int(vardat[0,0])],(vsa-vs)*100)\n",
    "    result[labels[int(vardat[0,0])]] = int(10000*(vsa-vs))/10000\n",
    "    result['variance'] = int(10000*(var0))/10000\n",
    "    return(result)"
   ]
  },
  {
   "cell_type": "code",
   "execution_count": 12,
   "metadata": {},
   "outputs": [],
   "source": [
    "def LinReg_varexplain_F(X,y,labels= None, relative = False):\n",
    "    if labels is None:\n",
    "        try: \n",
    "            labels = X.keys()\n",
    "        except:\n",
    "            labels = arange(X.shape[1])\n",
    "            \n",
    "    idcs = arange(X.shape[1]).tolist()\n",
    "    vardat = zeros((X.shape[1],2))\n",
    "    \n",
    "    y_predt = y*0.0\n",
    "    var0 = var(y)\n",
    "    minvar = var0\n",
    "    for k in range(X.shape[1]-1):\n",
    "        varts = zeros(len(idcs))\n",
    "        for iv,i in enumerate(idcs):\n",
    "            regressor.fit(X.values[:,i:(i+1)], y-y_predt)\n",
    "            y_pred = regressor.predict(X.values[:,i:(i+1)])\n",
    "            vart = ((y-y_predt-y_pred)).var()\n",
    "            varts[iv] = vart\n",
    "        sel = argmin(varts)\n",
    "        i = idcs[sel]\n",
    "        regressor.fit(X.values[:,i:(i+1)], y-y_predt)\n",
    "        y_pred = regressor.predict(X.values[:,i:(i+1)])\n",
    "        y_predt += y_pred\n",
    "\n",
    "        vardat[k,:] = (idcs[sel],varts[sel])\n",
    "        idcs.pop(sel)\n",
    "\n",
    "    i = idcs[0]\n",
    "    regressor.fit(X.values[:,i:(i+1)], y-y_predt)\n",
    "    y_pred = regressor.predict(X.values[:,i:(i+1)])\n",
    "    vart = ((y-y_predt-y_pred)).var()\n",
    "    vardat[-1,:] = (idcs[0],vart)\n",
    "\n",
    "    result = {}\n",
    "\n",
    "    \n",
    "    #hist(y-y_predt-y_pred,41)\n",
    "\n",
    "    #print(vardat)\n",
    "    vsa = 1-(vardat[0,1])/var0\n",
    "    #print(labels[int(vardat[0,0])],vsa*100,vsa)\n",
    "    result[labels[int(vardat[0,0])]] = int(10000*(vsa))/10000\n",
    "    for i in range(1,vardat.shape[0]):\n",
    "        #print(vardat[i-1,1],vardat[i,1])\n",
    "        if relative:\n",
    "            var0 = vardat[i-1,1]\n",
    "            vs = 1-(vardat[i,1])/var0\n",
    "            result[labels[int(vardat[i,0])]]=int(10000*(vs))/10000\n",
    "        else:\n",
    "            vs = 1-(vardat[i,1])/var0\n",
    "            result[labels[int(vardat[i,0])]]=int(10000*(vs-vsa))/10000\n",
    "            vsa = vs\n",
    "    return(result)"
   ]
  },
  {
   "cell_type": "code",
   "execution_count": 13,
   "metadata": {},
   "outputs": [
    {
     "name": "stdout",
     "output_type": "stream",
     "text": [
      "{'Rneck': 0.2598, 'A1': 0.3477, 'Dss': 0.0007, 'SA': 0.0004, 'variance': 20.8224}\n",
      "{'Rneck': 0.2598, 'A1': 0.3246, 'SA': 0.0002, 'Dss': 0.0}\n",
      "{'Rneck': 0.2598, 'A1': 0.4385, 'SA': 0.0006, 'Dss': 0.0}\n"
     ]
    }
   ],
   "source": [
    "print(LinReg_varexplain_B(pddataT,mesT[:,1]-mesT[:,2]))\n",
    "print(LinReg_varexplain_F(pddataT,mesT[:,1]-mesT[:,2]))\n",
    "print(LinReg_varexplain_F(pddataT,mesT[:,1]-mesT[:,2],relative = True))"
   ]
  },
  {
   "cell_type": "code",
   "execution_count": 14,
   "metadata": {},
   "outputs": [
    {
     "name": "stdout",
     "output_type": "stream",
     "text": [
      "{'A1': 0.8907, 'Dss': 0.064, 'Rneck': 0.0004, 'SA': 0.0001, 'variance': 0.2015}\n",
      "{'A1': 0.8907, 'Dss': 0.064, 'Rneck': 0.0004, 'SA': 0.0001}\n",
      "{'A1': 0.8907, 'Dss': 0.5857, 'Rneck': 0.0105, 'SA': 0.004}\n"
     ]
    }
   ],
   "source": [
    "print(LinReg_varexplain_B(pddataT,mesT[:,3]))\n",
    "print(LinReg_varexplain_F(pddataT,mesT[:,3]))\n",
    "print(LinReg_varexplain_F(pddataT,mesT[:,3],relative = True))"
   ]
  },
  {
   "cell_type": "code",
   "execution_count": 15,
   "metadata": {},
   "outputs": [
    {
     "data": {
      "text/plain": [
       "dict_keys(['#Sp', '#Bch', 'Dsb', 'Dss', 'd_interSp', 'Vtot', 'Vh', 'Ln', 'SA', 'nPSD', 'A1', 'A2', 'GPHN_SNR', 'DiS-EMchk', 'Lneck', 'maxDneck', 'minDneck', 'meanDneck', 'Rneck', 'Lhead', 'maxDhead', 'minDhead', 'meanDhead', 'Ah', 'Rhead', 'meanDneck_trunc70pc', 'L', 'D', 'AhA0', 'Rmorph'])"
      ]
     },
     "execution_count": 15,
     "metadata": {},
     "output_type": "execute_result"
    }
   ],
   "source": [
    "dataT.keys()"
   ]
  },
  {
   "cell_type": "code",
   "execution_count": 21,
   "metadata": {},
   "outputs": [
    {
     "name": "stdout",
     "output_type": "stream",
     "text": [
      "**********V In Soma**********\n",
      "{'A1': 0.8907, 'Dss': 0.064, 'Rneck': 0.0004, 'variance': 0.2015}\n",
      "{'A1': 0.8907, 'Dss': 0.064, 'Rneck': 0.0004}\n",
      "{'A1': 0.8907, 'Dss': 0.5857, 'Rneck': 0.0105}\n",
      "**********V In Spine head**********\n",
      "{'A1': 0.602, 'Rneck': 0.2015, 'Dss': 0.0001, 'variance': 39.3462}\n",
      "{'A1': 0.602, 'Rneck': 0.1881, 'Dss': 0.0003}\n",
      "{'A1': 0.602, 'Rneck': 0.4727, 'Dss': 0.0018}\n",
      "**********V sp/dend**********\n",
      "{'Rneck': 0.9687, 'Dss': 0.0081, 'A1': 0.004, 'variance': 2.3418}\n",
      "{'Rneck': 0.9687, 'Dss': 0.0079, 'A1': 0.0042}\n",
      "{'Rneck': 0.9687, 'Dss': 0.2555, 'A1': 0.1818}\n",
      "**********C In Spine head**********\n",
      "{'A1': 0.3023, 'Rneck': 0.094, 'Dss': 0.0001, 'variance': 0.8904}\n",
      "{'A1': 0.3023, 'Rneck': 0.0877, 'Dss': 0.0}\n",
      "{'A1': 0.3023, 'Rneck': 0.1258, 'Dss': 0.0}\n",
      "\n",
      "#---------------DiS!\n",
      "**********V In Soma**********\n",
      "{'A1': 0.7668, 'Dss': 0.1656, 'Rneck': 0.0041, 'variance': 0.1644}\n",
      "{'A1': 0.7668, 'Dss': 0.1466, 'Rneck': 0.0091}\n",
      "{'A1': 0.7668, 'Dss': 0.6292, 'Rneck': 0.1054}\n",
      "**********V In Spine head**********\n",
      "{'A1': 0.4683, 'Rneck': 0.3941, 'Dss': 0.0031, 'variance': 59.4472}\n",
      "{'A1': 0.4683, 'Rneck': 0.3787, 'Dss': 0.0094}\n",
      "{'A1': 0.4683, 'Rneck': 0.7122, 'Dss': 0.0617}\n",
      "**********V sp/dend**********\n",
      "{'Rneck': 0.9682, 'Dss': 0.0128, 'A1': 0.0042, 'variance': 2.3172}\n",
      "{'Rneck': 0.9682, 'Dss': 0.0127, 'A1': 0.0037}\n",
      "{'Rneck': 0.9682, 'Dss': 0.4, 'A1': 0.1974}\n",
      "**********C In Spine head**********\n",
      "{'A1': 0.4514, 'Rneck': 0.0979, 'Dss': 0.0, 'variance': 0.5887}\n",
      "{'A1': 0.4514, 'Rneck': 0.094, 'Dss': 0.0001}\n",
      "{'A1': 0.4514, 'Rneck': 0.1714, 'Dss': 0.0004}\n"
     ]
    }
   ],
   "source": [
    "with open(folder+\"dis_baselinev3_1000_70_65sh.pickle\",\"rb\") as f:\n",
    "    vavgDiS,mesDiS,vtracsDiS,vtracsDDiS,vtracsSDiS,CtracsDiS = pickle.load(f)\n",
    "\n",
    "with open(folder+\"All_baseline_datasetv3_1000_70_65sh.pickle\",\"rb\") as f:\n",
    "    vavgT,mesT,vtracsT,vtracsDT,vtracsST,CtracsT,me2T,_,dataT = pickle.load(f)\n",
    "\n",
    "labels = ['Vh','A1','Ah','Dss','Rneck','Lhead']#,'meanDhead']\n",
    "labels = ['A1','Dss','Rneck']#,'meanDhead']\n",
    "labelsmod = labels\n",
    "datt = dataT[labels[0]]\n",
    "for l in labels[1:]:\n",
    "    datt = column_stack((datt,dataT[l]))\n",
    "\n",
    "#    datt = column_stack((dataT['Vh'],dataT['A1'],dataT['Ah'],dataT['Dss'],dataT['Rneck'],dataT['Lhead'],dataT['meanDhead']))\n",
    "\n",
    "#labels = ('A1','Dss','Rneck','SA')\n",
    "#datt = column_stack((dataT['A1'],dataT['Dss'],dataT['Rneck'],dataT['SA']))\n",
    "\n",
    "pddataT = pd.DataFrame(data=datt,columns=labels)\n",
    "\n",
    "print('*'*10+'V In Soma'+10*'*')\n",
    "print(LinReg_varexplain_B(pddataT,mesT[:,3]))\n",
    "print(LinReg_varexplain_F(pddataT,mesT[:,3]))\n",
    "print(LinReg_varexplain_F(pddataT,mesT[:,3],relative = True))\n",
    "print('*'*10+'V In Spine head'+10*'*')\n",
    "print(LinReg_varexplain_B(pddataT,mesT[:,1]))\n",
    "print(LinReg_varexplain_F(pddataT,mesT[:,1]))\n",
    "print(LinReg_varexplain_F(pddataT,mesT[:,1],relative = True))\n",
    "print('*'*10+'V sp/dend'+10*'*')\n",
    "print(LinReg_varexplain_B(pddataT,mesT[:,1]/mesT[:,2]))\n",
    "print(LinReg_varexplain_F(pddataT,mesT[:,1]/mesT[:,2]))\n",
    "print(LinReg_varexplain_F(pddataT,mesT[:,1]/mesT[:,2],relative = True))\n",
    "print('*'*10+'C In Spine head'+10*'*')\n",
    "print(LinReg_varexplain_B(pddataT,mesT[:,4]))\n",
    "print(LinReg_varexplain_F(pddataT,mesT[:,4]))\n",
    "print(LinReg_varexplain_F(pddataT,mesT[:,4],relative = True))\n",
    "\n",
    "\n",
    "#print('*'*10+'V sp-soma'+10*'*')\n",
    "#print(LinReg_varexplain_B(pddataT,mesT[:,1]-mesT[:,3]))\n",
    "#print(LinReg_varexplain_F(pddataT,mesT[:,1]-mesT[:,3]))\n",
    "\n",
    "sel = dataT['nPSD'] == 2.0\n",
    "\n",
    "datt = dataT[labels[0]][sel]\n",
    "for l in labels[1:]:\n",
    "    datt = column_stack((datt,dataT[l][sel]))\n",
    "\n",
    "#    datt = column_stack((dataT['Vh'],dataT['A1'],dataT['Ah'],dataT['Dss'],dataT['Rneck'],dataT['Lhead'],dataT['meanDhead']))\n",
    "\n",
    "#labels = ('A1','Dss','Rneck','SA')\n",
    "#datt = column_stack((dataT['A1'],dataT['Dss'],dataT['Rneck'],dataT['SA']))\n",
    "\n",
    "pddataT = pd.DataFrame(data=datt,columns=labels)\n",
    "\n",
    "print('\\n#'+'-'*15+'DiS!')\n",
    "print('*'*10+'V In Soma'+10*'*')\n",
    "print(LinReg_varexplain_B(pddataT,mesT[sel,3]))\n",
    "print(LinReg_varexplain_F(pddataT,mesT[sel,3]))\n",
    "print(LinReg_varexplain_F(pddataT,mesT[sel,3],relative = True))\n",
    "\n",
    "print('*'*10+'V In Spine head'+10*'*')\n",
    "print(LinReg_varexplain_B(pddataT,mesT[sel,1]))\n",
    "print(LinReg_varexplain_F(pddataT,mesT[sel,1]))\n",
    "print(LinReg_varexplain_F(pddataT,mesT[sel,1],relative = True))\n",
    "print('*'*10+'V sp/dend'+10*'*')\n",
    "print(LinReg_varexplain_B(pddataT,mesT[sel,1]/mesT[sel,2]))\n",
    "print(LinReg_varexplain_F(pddataT,mesT[sel,1]/mesT[sel,2]))\n",
    "print(LinReg_varexplain_F(pddataT,mesT[sel,1]/mesT[sel,2],relative = True))\n",
    "\n",
    "print('*'*10+'C In Spine head'+10*'*')\n",
    "print(LinReg_varexplain_B(pddataT,mesT[sel,4]))\n",
    "print(LinReg_varexplain_F(pddataT,mesT[sel,4]))\n",
    "print(LinReg_varexplain_F(pddataT,mesT[sel,4],relative = True))\n"
   ]
  },
  {
   "cell_type": "code",
   "execution_count": 22,
   "metadata": {},
   "outputs": [
    {
     "name": "stdout",
     "output_type": "stream",
     "text": [
      "**********V In Soma**********\n",
      "{'A1': 0.8907, 'Dss': 0.064, 'Lneck': 0.0003, 'Lhead': 0.0002, 'meanDneck_trunc70pc': 0.0, 'maxDhead': 0.0, 'variance': 0.2015}\n",
      "{'A1': 0.8907, 'Dss': 0.064, 'Lneck': 0.0004, 'Lhead': 0.0001, 'meanDneck_trunc70pc': 0.0, 'maxDhead': 0.0}\n",
      "{'A1': 0.8907, 'Dss': 0.5857, 'Lneck': 0.0089, 'Lhead': 0.0044, 'meanDneck_trunc70pc': 0.0015, 'maxDhead': 0.0}\n",
      "**********V In Spine head**********\n",
      "{'A1': 0.602, 'Lneck': 0.14, 'meanDneck_trunc70pc': 0.0487, 'maxDhead': 0.0049, 'Dss': 0.0011, 'Lhead': 0.0001, 'variance': 39.3462}\n",
      "{'A1': 0.602, 'Lneck': 0.1376, 'meanDneck_trunc70pc': 0.0273, 'maxDhead': 0.014, 'Dss': 0.0035, 'Lhead': 0.0002}\n",
      "{'A1': 0.602, 'Lneck': 0.3457, 'meanDneck_trunc70pc': 0.105, 'maxDhead': 0.0604, 'Dss': 0.0162, 'Lhead': 0.0009}\n",
      "**********V sp/dend**********\n",
      "{'Lneck': 0.5621, 'meanDneck_trunc70pc': 0.0954, 'maxDhead': 0.0146, 'A1': 0.0016, 'Dss': 0.0003, 'Lhead': 0.0, 'variance': 2.3418}\n",
      "{'Lneck': 0.5621, 'meanDneck_trunc70pc': 0.0779, 'A1': 0.0112, 'maxDhead': 0.0006, 'Dss': 0.0003, 'Lhead': 0.0}\n",
      "{'Lneck': 0.5621, 'meanDneck_trunc70pc': 0.1779, 'A1': 0.0312, 'maxDhead': 0.0017, 'Dss': 0.0009, 'Lhead': 0.0}\n",
      "**********C In Spine head**********\n",
      "{'A1': 0.3023, 'meanDneck_trunc70pc': 0.0751, 'maxDhead': 0.0201, 'Lhead': 0.0016, 'Lneck': 0.0012, 'Dss': 0.0, 'variance': 0.8904}\n",
      "{'A1': 0.3023, 'meanDneck_trunc70pc': 0.0623, 'Lhead': 0.002, 'Lneck': 0.0018, 'maxDhead': 0.0002, 'Dss': 0.0}\n",
      "{'A1': 0.3023, 'meanDneck_trunc70pc': 0.0893, 'Lhead': 0.0033, 'Lneck': 0.0029, 'maxDhead': 0.0003, 'Dss': 0.0}\n",
      "\n",
      "#---------------DiS!\n",
      "**********V In Soma**********\n",
      "{'A1': 0.7668, 'Dss': 0.1656, 'meanDneck_trunc70pc': 0.0089, 'maxDhead': 0.0047, 'Lneck': 0.0003, 'Lhead': 0.0003, 'variance': 0.1644}\n",
      "{'A1': 0.7668, 'Dss': 0.1466, 'maxDhead': 0.0203, 'meanDneck_trunc70pc': 0.0073, 'Lneck': 0.0003, 'Lhead': 0.0}\n",
      "{'A1': 0.7668, 'Dss': 0.6292, 'maxDhead': 0.2353, 'meanDneck_trunc70pc': 0.1109, 'Lneck': 0.0061, 'Lhead': 0.0002}\n",
      "**********V In Spine head**********\n",
      "{'A1': 0.4683, 'meanDneck_trunc70pc': 0.2696, 'Lneck': 0.0582, 'Lhead': 0.0253, 'Dss': 0.0076, 'maxDhead': 0.0001, 'variance': 59.4472}\n",
      "{'A1': 0.4683, 'meanDneck_trunc70pc': 0.2546, 'Lneck': 0.0347, 'Dss': 0.0311, 'Lhead': 0.0093, 'maxDhead': 0.0027}\n",
      "{'A1': 0.4683, 'meanDneck_trunc70pc': 0.4789, 'Lneck': 0.1252, 'Dss': 0.1283, 'Lhead': 0.0443, 'maxDhead': 0.0134}\n",
      "**********V sp/dend**********\n",
      "{'Lneck': 0.4567, 'meanDneck_trunc70pc': 0.0822, 'Lhead': 0.0376, 'A1': 0.0157, 'maxDhead': 0.0005, 'Dss': 0.0006, 'variance': 2.3172}\n",
      "{'Lneck': 0.4567, 'meanDneck_trunc70pc': 0.0543, 'Lhead': 0.0472, 'A1': 0.0134, 'maxDhead': 0.0002, 'Dss': 0.0003}\n",
      "{'Lneck': 0.4567, 'meanDneck_trunc70pc': 0.1, 'Lhead': 0.0965, 'A1': 0.0305, 'maxDhead': 0.0006, 'Dss': 0.0008}\n",
      "**********C In Spine head**********\n",
      "{'A1': 0.4514, 'meanDneck_trunc70pc': 0.0867, 'Lhead': 0.0222, 'maxDhead': 0.0109, 'Lneck': 0.0018, 'Dss': 0.0, 'variance': 0.5887}\n",
      "{'A1': 0.4514, 'meanDneck_trunc70pc': 0.0819, 'Lhead': 0.0231, 'Lneck': 0.0018, 'maxDhead': 0.0003, 'Dss': 0.0}\n",
      "{'A1': 0.4514, 'meanDneck_trunc70pc': 0.1493, 'Lhead': 0.0496, 'Lneck': 0.0041, 'maxDhead': 0.0009, 'Dss': 0.0}\n"
     ]
    }
   ],
   "source": [
    "labels = ['maxDhead','Dss','Lneck','Lhead','meanDneck_trunc70pc', 'A1']\n",
    "labelmorph = labels\n",
    "datt = dataT[labels[0]]\n",
    "for l in labels[1:]:\n",
    "    datt = column_stack((datt,dataT[l]))\n",
    "\n",
    "#    datt = column_stack((dataT['Vh'],dataT['A1'],dataT['Ah'],dataT['Dss'],dataT['Rneck'],dataT['Lhead'],dataT['meanDhead']))\n",
    "\n",
    "#labels = ('A1','Dss','Rneck','SA')\n",
    "#datt = column_stack((dataT['A1'],dataT['Dss'],dataT['Rneck'],dataT['SA']))\n",
    "\n",
    "pddataT = pd.DataFrame(data=datt,columns=labels)\n",
    "\n",
    "print('*'*10+'V In Soma'+10*'*')\n",
    "print(LinReg_varexplain_B(pddataT,mesT[:,3]))\n",
    "print(LinReg_varexplain_F(pddataT,mesT[:,3]))\n",
    "print(LinReg_varexplain_F(pddataT,mesT[:,3],relative = True))\n",
    "print('*'*10+'V In Spine head'+10*'*')\n",
    "print(LinReg_varexplain_B(pddataT,mesT[:,1]))\n",
    "print(LinReg_varexplain_F(pddataT,mesT[:,1]))\n",
    "print(LinReg_varexplain_F(pddataT,mesT[:,1],relative = True))\n",
    "print('*'*10+'V sp/dend'+10*'*')\n",
    "print(LinReg_varexplain_B(pddataT,mesT[:,1]/mesT[:,2]))\n",
    "print(LinReg_varexplain_F(pddataT,mesT[:,1]/mesT[:,2]))\n",
    "print(LinReg_varexplain_F(pddataT,mesT[:,1]/mesT[:,2],relative = True))\n",
    "print('*'*10+'C In Spine head'+10*'*')\n",
    "print(LinReg_varexplain_B(pddataT,mesT[:,4]))\n",
    "print(LinReg_varexplain_F(pddataT,mesT[:,4]))\n",
    "print(LinReg_varexplain_F(pddataT,mesT[:,4],relative = True))\n",
    "\n",
    "\n",
    "#print('*'*10+'V sp-soma'+10*'*')\n",
    "#print(LinReg_varexplain_B(pddataT,mesT[:,1]-mesT[:,3]))\n",
    "#print(LinReg_varexplain_F(pddataT,mesT[:,1]-mesT[:,3]))\n",
    "\n",
    "sel = dataT['nPSD'] == 2.0\n",
    "\n",
    "datt = dataT[labels[0]][sel]\n",
    "for l in labels[1:]:\n",
    "    datt = column_stack((datt,dataT[l][sel]))\n",
    "\n",
    "#    datt = column_stack((dataT['Vh'],dataT['A1'],dataT['Ah'],dataT['Dss'],dataT['Rneck'],dataT['Lhead'],dataT['meanDhead']))\n",
    "\n",
    "#labels = ('A1','Dss','Rneck','SA')\n",
    "#datt = column_stack((dataT['A1'],dataT['Dss'],dataT['Rneck'],dataT['SA']))\n",
    "\n",
    "pddataT = pd.DataFrame(data=datt,columns=labels)\n",
    "\n",
    "print('\\n#'+'-'*15+'DiS!')\n",
    "print('*'*10+'V In Soma'+10*'*')\n",
    "print(LinReg_varexplain_B(pddataT,mesT[sel,3]))\n",
    "print(LinReg_varexplain_F(pddataT,mesT[sel,3]))\n",
    "print(LinReg_varexplain_F(pddataT,mesT[sel,3],relative = True))\n",
    "\n",
    "print('*'*10+'V In Spine head'+10*'*')\n",
    "print(LinReg_varexplain_B(pddataT,mesT[sel,1]))\n",
    "print(LinReg_varexplain_F(pddataT,mesT[sel,1]))\n",
    "print(LinReg_varexplain_F(pddataT,mesT[sel,1],relative = True))\n",
    "print('*'*10+'V sp/dend'+10*'*')\n",
    "print(LinReg_varexplain_B(pddataT,mesT[sel,1]/mesT[sel,2]))\n",
    "print(LinReg_varexplain_F(pddataT,mesT[sel,1]/mesT[sel,2]))\n",
    "print(LinReg_varexplain_F(pddataT,mesT[sel,1]/mesT[sel,2],relative = True))\n",
    "\n",
    "print('*'*10+'C In Spine head'+10*'*')\n",
    "print(LinReg_varexplain_B(pddataT,mesT[sel,4]))\n",
    "print(LinReg_varexplain_F(pddataT,mesT[sel,4]))\n",
    "print(LinReg_varexplain_F(pddataT,mesT[sel,4],relative = True))\n"
   ]
  },
  {
   "cell_type": "markdown",
   "metadata": {},
   "source": [
    "# Analysis timed E/I"
   ]
  },
  {
   "cell_type": "code",
   "execution_count": 19,
   "metadata": {
    "scrolled": false
   },
   "outputs": [
    {
     "name": "stdout",
     "output_type": "stream",
     "text": [
      "\n",
      "GABA-GLU (-2ms)----------------------------------------\n",
      "\n",
      "**********V in spine head**********\n",
      "{'A2': 0.399, 'Rneck': 0.5545, 'A1': 0.0001, 'Dss': 0.0, 'variance': 0.0029}\n",
      "{'A2': 0.399, 'Rneck': 0.5333, 'Dss': 0.0014, 'A1': 0.0002}\n",
      "**********V in dend shaft**********\n",
      "{'Rneck': 0.3691, 'A2': 0.5385, 'A1': 0.0069, 'Dss': 0.0032, 'variance': 0.0044}\n",
      "{'Rneck': 0.3691, 'A2': 0.518, 'Dss': 0.0099, 'A1': 0.0006}\n",
      "**********Calcium**********\n",
      "{'A1': 0.2738, 'Rneck': 0.2235, 'A2': 0.0187, 'Dss': 0.0085, 'variance': 0.0083}\n",
      "{'A1': 0.2738, 'Rneck': 0.2102, 'A2': 0.0253, 'Dss': 0.0123}\n",
      "\n",
      "GLU-GABA (2ms)----------------------------------------\n",
      "\n",
      "**********Time reduction**********\n",
      "{'A2': 0.6414, 'Dss': 0.2291, 'Rneck': 0.0307, 'A1': 0.0258, 'variance': 0.0061}\n",
      "{'A2': 0.6414, 'Dss': 0.2207, 'Rneck': 0.036, 'A1': 0.0162}\n",
      "\n",
      "GABA-GLU (-2ms)----------------------------------------\n",
      "\n",
      "**********V in spine head**********\n",
      "{'A2': 0.399, 'Lneck': 0.2888, 'meanDneck_trunc70pc': 0.07, 'Lhead': 0.0277, 'Dss': 0.0056, 'maxDhead': 0.0, 'A1': 0.0, 'variance': 0.0029}\n",
      "{'A2': 0.399, 'Lneck': 0.2875, 'meanDneck_trunc70pc': 0.0434, 'Lhead': 0.035, 'Dss': 0.0066, 'maxDhead': 0.0007, 'A1': 0.0}\n",
      "{'A2': 0.399, 'Lneck': 0.4784, 'meanDneck_trunc70pc': 0.1386, 'Lhead': 0.1297, 'Dss': 0.0281, 'maxDhead': 0.0031, 'A1': 0.0001}\n",
      "**********V in dend shaft**********\n",
      "{'A2': 0.3611, 'meanDneck_trunc70pc': 0.3172, 'Lneck': 0.0591, 'Lhead': 0.0362, 'Dss': 0.0193, 'A1': 0.0087, 'maxDhead': 0.0001, 'variance': 0.0044}\n",
      "{'A2': 0.3611, 'meanDneck_trunc70pc': 0.3143, 'Dss': 0.0391, 'Lneck': 0.0365, 'Lhead': 0.0143, 'A1': 0.0094, 'maxDhead': 0.0}\n",
      "{'A2': 0.3611, 'meanDneck_trunc70pc': 0.492, 'Dss': 0.1206, 'Lneck': 0.1281, 'Lhead': 0.0578, 'A1': 0.0403, 'maxDhead': 0.0}\n",
      "**********Calcium**********\n",
      "{'A1': 0.2738, 'meanDneck_trunc70pc': 0.1874, 'Dss': 0.0288, 'Lhead': 0.0165, 'Lneck': 0.0074, 'A2': 0.0065, 'maxDhead': 0.0001, 'variance': 0.0083}\n",
      "{'A1': 0.2738, 'meanDneck_trunc70pc': 0.1711, 'Dss': 0.0395, 'Lhead': 0.0145, 'A2': 0.007, 'Lneck': 0.0045, 'maxDhead': 0.0014}\n",
      "{'A1': 0.2738, 'meanDneck_trunc70pc': 0.2356, 'Dss': 0.0712, 'Lhead': 0.0281, 'A2': 0.0139, 'Lneck': 0.0091, 'maxDhead': 0.003}\n",
      "\n",
      "GLU-GABA (2ms)----------------------------------------\n",
      "\n",
      "**********Time reduction**********\n",
      "{'A2': 0.6414, 'Dss': 0.2291, 'meanDneck_trunc70pc': 0.0271, 'A1': 0.0283, 'Lneck': 0.0059, 'maxDhead': 0.0032, 'Lhead': 0.0037, 'variance': 0.0061}\n",
      "{'A2': 0.6414, 'Dss': 0.2207, 'meanDneck_trunc70pc': 0.0299, 'A1': 0.0175, 'Lneck': 0.0063, 'Lhead': 0.0033, 'maxDhead': 0.0013}\n",
      "{'A2': 0.6414, 'Dss': 0.6155, 'meanDneck_trunc70pc': 0.2171, 'A1': 0.1623, 'Lneck': 0.07, 'Lhead': 0.0397, 'maxDhead': 0.0166}\n"
     ]
    }
   ],
   "source": [
    "with open(folder+\"dis_ga_glu02v3_1000_70_65sh.pickle\",\"rb\") as f:\n",
    "    dis,mes1,mes01 = pickle.load(f)\n",
    "\n",
    "with open(folder+\"dis_glu_ga02v3_1000_70_65sh.pickle\",\"rb\") as f:\n",
    "    dis,mes,mes0,times,times0 = pickle.load(f)\n",
    "\n",
    "labels = ['Vh','A1','Ah','Dss','Rneck','Lhead']#,'meanDhead']\n",
    "labels = labelsmod\n",
    "labels.append('A2')\n",
    "datt = dis[labels[0]]\n",
    "for l in labels[1:]:\n",
    "    datt = column_stack((datt,dis[l]))\n",
    "\n",
    "pddataT = pd.DataFrame(data=datt,columns=labels)\n",
    "\n",
    "print(\"\\nGABA-GLU (-2ms)----------------------------------------\\n\")\n",
    "print('*'*10+'V in spine head'+10*'*')\n",
    "print(LinReg_varexplain_B(pddataT,mes1[:,1]/mes01[:,1]))\n",
    "print(LinReg_varexplain_F(pddataT,mes1[:,1]/mes01[:,1]))\n",
    "print('*'*10+'V in dend shaft'+10*'*')\n",
    "print(LinReg_varexplain_B(pddataT,mes1[:,2]/mes01[:,2]))\n",
    "print(LinReg_varexplain_F(pddataT,mes1[:,2]/mes01[:,2]))\n",
    "print('*'*10+'Calcium'+10*'*')\n",
    "print(LinReg_varexplain_B(pddataT,mes1[:,4]/mes01[:,4]))\n",
    "print(LinReg_varexplain_F(pddataT,mes1[:,4]/mes01[:,4]))\n",
    "\n",
    "print(\"\\nGLU-GABA (2ms)----------------------------------------\\n\")\n",
    "#print('*'*10+'V in spine head'+10*'*')\n",
    "#print(LinReg_varexplain_B(pddataT,mes[:,1]/mes0[:,1]))\n",
    "#print(LinReg_varexplain_F(pddataT,mes[:,1]/mes0[:,1]))\n",
    "#print('*'*10+'V in dend shaft'+10*'*')\n",
    "#print(LinReg_varexplain_B(pddataT,mes[:,2]/mes0[:,2]))\n",
    "#print(LinReg_varexplain_F(pddataT,mes[:,2]/mes0[:,2]))\n",
    "#print('*'*10+'Calcium'+10*'*')\n",
    "#print(LinReg_varexplain_B(pddataT,mes[:,4]/mes0[:,4]))\n",
    "#print(LinReg_varexplain_F(pddataT,mes[:,4]/mes0[:,4]))\n",
    "print('*'*10+'Time reduction'+10*'*')\n",
    "print(LinReg_varexplain_B(pddataT,times/times0))\n",
    "print(LinReg_varexplain_F(pddataT,times/times0))\n",
    "# print('*'*10+'Time'+10*'*')\n",
    "# print(LinReg_varexplain_B(pddataT,times0))\n",
    "# print(LinReg_varexplain_F(pddataT,times0))\n",
    "labels = labelmorph\n",
    "labels.append('A2')\n",
    "\n",
    "datt = dis[labels[0]]\n",
    "for l in labels[1:]:\n",
    "    datt = column_stack((datt,dis[l]))\n",
    "\n",
    "pddataT = pd.DataFrame(data=datt,columns=labels)\n",
    "\n",
    "print(\"\\nGABA-GLU (-2ms)----------------------------------------\\n\")\n",
    "print('*'*10+'V in spine head'+10*'*')\n",
    "print(LinReg_varexplain_B(pddataT,mes1[:,1]/mes01[:,1]))\n",
    "print(LinReg_varexplain_F(pddataT,mes1[:,1]/mes01[:,1]))\n",
    "print(LinReg_varexplain_F(pddataT,mes1[:,1]/mes01[:,1],relative = True))\n",
    "print('*'*10+'V in dend shaft'+10*'*')\n",
    "print(LinReg_varexplain_B(pddataT,mes1[:,2]/mes01[:,2]))\n",
    "print(LinReg_varexplain_F(pddataT,mes1[:,2]/mes01[:,2]))\n",
    "print(LinReg_varexplain_F(pddataT,mes1[:,2]/mes01[:,2],relative = True))\n",
    "print('*'*10+'Calcium'+10*'*')\n",
    "print(LinReg_varexplain_B(pddataT,mes1[:,4]/mes01[:,4]))\n",
    "print(LinReg_varexplain_F(pddataT,mes1[:,4]/mes01[:,4]))\n",
    "print(LinReg_varexplain_F(pddataT,mes1[:,4]/mes01[:,4],relative = True))\n",
    "\n",
    "print(\"\\nGLU-GABA (2ms)----------------------------------------\\n\")\n",
    "#print('*'*10+'V in spine head'+10*'*')\n",
    "#print(LinReg_varexplain_B(pddataT,mes[:,1]/mes0[:,1]))\n",
    "#print(LinReg_varexplain_F(pddataT,mes[:,1]/mes0[:,1]))\n",
    "#print('*'*10+'V in dend shaft'+10*'*')\n",
    "#print(LinReg_varexplain_B(pddataT,mes[:,2]/mes0[:,2]))\n",
    "#print(LinReg_varexplain_F(pddataT,mes[:,2]/mes0[:,2]))\n",
    "#print('*'*10+'Calcium'+10*'*')\n",
    "#print(LinReg_varexplain_B(pddataT,mes[:,4]/mes0[:,4]))\n",
    "#print(LinReg_varexplain_F(pddataT,mes[:,4]/mes0[:,4]))\n",
    "print('*'*10+'Time reduction'+10*'*')\n",
    "print(LinReg_varexplain_B(pddataT,times/times0))\n",
    "print(LinReg_varexplain_F(pddataT,times/times0))\n",
    "print(LinReg_varexplain_F(pddataT,times/times0,relative = True))\n",
    "# print('*'*10+'Time'+10*'*')\n",
    "# print(LinReg_varexplain_B(pddataT,times0))\n",
    "# print(LinReg_varexplain_F(pddataT,times0))\n",
    "# print(LinReg_varexplain_F(pddataT,times0,relative = True))\n"
   ]
  },
  {
   "cell_type": "code",
   "execution_count": 27,
   "metadata": {},
   "outputs": [
    {
     "name": "stdout",
     "output_type": "stream",
     "text": [
      "0.006170174872096131\n",
      "0 0.004904410723351957\n",
      "1 0.0037716463034893634\n",
      "2 0.006112621827601585\n",
      "3 0.006145191588817245\n",
      "4 0.006104275600116639\n",
      "5 0.004957798731040344\n",
      "6 0.0022125830832433343\n",
      "7 0.0022125830832433343\n",
      "min 6\n",
      "0 0.0018976055851693395\n",
      "1 0.0008505487968895113\n",
      "2 0.0020714756497560794\n",
      "3 0.002075914651341398\n",
      "4 0.0020137502213632245\n",
      "5 0.0019532901289316734\n",
      "7 0.0022125830832433347\n",
      "min 1\n",
      "0 0.0008256376767254139\n",
      "2 0.0007180586954959487\n",
      "3 0.0008458926866195774\n",
      "4 0.0006658831638107062\n",
      "5 0.0008098745151219856\n",
      "7 0.0008004183589109603\n",
      "min 3\n",
      "0 0.0005770105754599648\n",
      "2 0.0006549797740667575\n",
      "3 0.0006517684171393513\n",
      "5 0.0005578019510253695\n",
      "7 0.0006323834702571697\n",
      "min 3\n",
      "0 0.0005560964428368632\n",
      "2 0.0005187145539067963\n",
      "3 0.0005485120678293822\n",
      "7 0.0004789308207277832\n",
      "min 3\n",
      "0 0.0004643153772843929\n",
      "2 0.0004470532936208261\n",
      "3 0.0004745074094145297\n",
      "min 1\n",
      "0 0.00041682186428408473\n",
      "3 0.00043514722920568214\n",
      "min 0\n"
     ]
    }
   ],
   "source": [
    "y = times/times0\n",
    "X = pddataT.copy()\n",
    "labels = labelmorph\n",
    "\n",
    "idcs = arange(X.shape[1]).tolist()\n",
    "vardat = zeros((X.shape[1],2))\n",
    "\n",
    "y_predt = y*0.0\n",
    "var0 = var(y)\n",
    "print(var0)\n",
    "minvar = var0\n",
    "for k in range(X.shape[1]-1):\n",
    "    varts = zeros(len(idcs))\n",
    "    for iv,i in enumerate(idcs):\n",
    "        regressor.fit(X.values[:,i:(i+1)], y-y_predt)\n",
    "        y_pred = regressor.predict(X.values[:,i:(i+1)])\n",
    "        vart = ((y-y_predt-y_pred)).var()\n",
    "        varts[iv] = vart\n",
    "        print(i, vart)\n",
    "    sel = argmin(varts)\n",
    "    print('min', sel)\n",
    "    i = idcs[sel]\n",
    "    regressor.fit(X.values[:,i:(i+1)], y-y_predt)\n",
    "    y_pred = regressor.predict(X.values[:,i:(i+1)])\n",
    "    y_predt += y_pred\n",
    "\n",
    "    vardat[k,:] = (idcs[sel],varts[sel])\n",
    "    idcs.pop(sel)\n",
    "\n",
    "i = idcs[0]\n",
    "regressor.fit(X.values[:,i:(i+1)], y-y_predt)\n",
    "y_pred = regressor.predict(X.values[:,i:(i+1)])\n",
    "vart = ((y-y_predt-y_pred)).var()\n",
    "vardat[-1,:] = (idcs[0],vart)"
   ]
  },
  {
   "cell_type": "code",
   "execution_count": 39,
   "metadata": {},
   "outputs": [
    {
     "name": "stdout",
     "output_type": "stream",
     "text": [
      "0.6414067463064177\n",
      "A2\n",
      "0.22074484347493273\n",
      "Dss\n",
      "0.02992875192467115\n",
      "meanDneck_trunc70pc\n",
      "0.017516717925471048\n",
      "A1\n",
      "0.012782641000058437\n",
      "A2\n",
      "0.005166389570434915\n",
      "Lneck\n",
      "0.004899606569249593\n",
      "maxDhead\n",
      "0.0015691166661835343\n",
      "Lhead\n",
      "{'A2': 0.0127, 'Dss': 0.2207, 'meanDneck_trunc70pc': 0.0299, 'A1': 0.0175, 'Lneck': 0.0051, 'maxDhead': 0.0048, 'Lhead': 0.0015}\n"
     ]
    }
   ],
   "source": [
    "result = {}\n",
    "\n",
    "var0 = var(y)\n",
    "vsa = 1-(vardat[0,1])/var0\n",
    "result[labels[int(vardat[0,0])]] = int(10000*(vsa))/10000\n",
    "print(vsa)\n",
    "print(labels[int(vardat[0,0])])\n",
    "for i in range(1,vardat.shape[0]):\n",
    "    vs = 1-(vardat[i,1])/var0\n",
    "    result[labels[int(vardat[i,0])]]=int(10000*(vs-vsa))/10000\n",
    "    print(vs-vsa)\n",
    "    vsa = vs\n",
    "    print(labels[int(vardat[i,0])])\n",
    "print(result)"
   ]
  },
  {
   "cell_type": "code",
   "execution_count": null,
   "metadata": {},
   "outputs": [],
   "source": [
    "from sklearn.feature_selection import SelectKBest,VarianceThreshold,SelectFromModel, chi2, f_regression\n",
    "\n",
    "from sklearn.linear_model import LassoCV\n"
   ]
  },
  {
   "cell_type": "code",
   "execution_count": null,
   "metadata": {},
   "outputs": [],
   "source": [
    "varthr = VarianceThreshold()\n",
    "X = StandardScaler().fit_transform(datt)\n",
    "\n",
    "varthr.fit_transform(datt)\n",
    "yrt = mesT[:,3]\n",
    "\n",
    "X_kbest=SelectKBest(score_func=f_regression,k=4).fit_transform(pddataT,yrt)\n"
   ]
  },
  {
   "cell_type": "code",
   "execution_count": null,
   "metadata": {},
   "outputs": [],
   "source": [
    "print(X_kbest)\n",
    "pddataT.head()"
   ]
  },
  {
   "cell_type": "code",
   "execution_count": null,
   "metadata": {},
   "outputs": [],
   "source": [
    "regressor = LinearRegression()  \n",
    "regressor.fit(pddataT, yrt)\n",
    "y_pred = regressor.predict(datt)\n",
    "\n",
    "sfm = SelectFromModel(regressor, threshold=1e-1)\n",
    "sfm.fit(pddataT,yrt)\n",
    "n_features = sfm.transform(pddataT).shape[1]"
   ]
  },
  {
   "cell_type": "code",
   "execution_count": null,
   "metadata": {},
   "outputs": [],
   "source": [
    "X_transform = sfm.transform(pddataT)\n",
    "print(n_features)\n",
    "plt.title(\n",
    "    \" \"\n",
    "    \"threshold %0.3f.\" % sfm.threshold)\n",
    "feature1 = X_transform[:, 0]\n",
    "feature2 = X_transform[:, 1]\n",
    "scatter(feature1, feature2, c = yrt,alpha=0.8)\n",
    "colorbar()\n",
    "plt.xlabel(\"Feature number 1\")\n",
    "plt.ylabel(\"Feature number 2\")\n",
    "plt.ylim([np.min(feature2), np.max(feature2)])\n"
   ]
  },
  {
   "cell_type": "code",
   "execution_count": null,
   "metadata": {},
   "outputs": [],
   "source": [
    "pddataT.corr()"
   ]
  },
  {
   "cell_type": "code",
   "execution_count": null,
   "metadata": {},
   "outputs": [],
   "source": [
    "labels,varthr.variances_/varthr.variances_.sum()"
   ]
  },
  {
   "cell_type": "code",
   "execution_count": null,
   "metadata": {},
   "outputs": [],
   "source": [
    "i = 1\n",
    "regressor.fit(datt[:,i:(i+1)], mesT[:,3])\n",
    "y_pred0 = regressor.predict(datt[:,i:(i+1)])\n",
    "var0 = ((mesT[:,3]-y_pred0)).var()\n",
    "print(var0)\n",
    "i = 3\n",
    "regressor.fit(datt[:,i:(i+1)], mesT[:,3]-y_pred0)\n",
    "y_pred1 = regressor.predict(datt[:,i:(i+1)])\n",
    "var1 = ((mesT[:,3]-y_pred0-y_pred1)).var()\n",
    "y_predt = y_pred0+y_pred1\n",
    "for i in [0,2,4,5,6]:\n",
    "    regressor.fit(datt[:,i:(i+1)], mesT[:,3]-y_predt)\n",
    "    y_pred2 = regressor.predict(datt[:,i:(i+1)])\n",
    "    var2 = ((mesT[:,3]-y_predt-y_pred2)).var()\n",
    "    print(labels[i],var2,var(mesT[:,3]))"
   ]
  },
  {
   "cell_type": "code",
   "execution_count": null,
   "metadata": {},
   "outputs": [],
   "source": [
    "# #############################################################################\n",
    "# Generate random sample data\n",
    "centers = [[1, 1,5,2], [-1, -1,3,4], [1, -1,2,4]]\n",
    "X, _ = make_blobs(n_samples=750, centers=centers, cluster_std=0.4,\n",
    "                            random_state=0)\n",
    "\n",
    "# Change X to real statistical data for spines\n",
    "file = \"spine_stats.dat\"\n",
    "X = load(file)\n"
   ]
  },
  {
   "cell_type": "code",
   "execution_count": null,
   "metadata": {},
   "outputs": [],
   "source": [
    "X = StandardScaler().fit_transform(X)\n",
    "X.shape"
   ]
  },
  {
   "cell_type": "code",
   "execution_count": null,
   "metadata": {},
   "outputs": [],
   "source": [
    "# #############################################################################\n",
    "# Compute DBSCAN\n",
    "db = DBSCAN(eps=0.3, min_samples=10).fit(X)\n",
    "core_samples_mask = zeros_like(db.labels_, dtype=bool)\n",
    "core_samples_mask[db.core_sample_indices_] = True\n",
    "labels = db.labels_\n",
    "\n",
    "# Number of clusters in labels, ignoring noise if present.\n",
    "n_clusters_ = len(set(labels)) - (1 if -1 in labels else 0)\n",
    "n_noise_ = list(labels).count(-1)\n",
    "\n",
    "print('Estimated number of clusters: %d' % n_clusters_)\n",
    "print('Estimated number of noise points: %d' % n_noise_)\n",
    "#print(\"Homogeneity: %0.3f\" % metrics.homogeneity_score(labels_true, labels))\n",
    "#print(\"Completeness: %0.3f\" % metrics.completeness_score(labels_true, labels))\n",
    "#print(\"V-measure: %0.3f\" % metrics.v_measure_score(labels_true, labels))\n",
    "#print(\"Adjusted Rand Index: %0.3f\"\n",
    "#      % metrics.adjusted_rand_score(labels_true, labels))\n",
    "#print(\"Adjusted Mutual Information: %0.3f\"\n",
    "#      % metrics.adjusted_mutual_info_score(labels_true, labels))\n",
    "print(\"Silhouette Coefficient: %0.3f\"\n",
    "      % metrics.silhouette_score(X, labels))"
   ]
  },
  {
   "cell_type": "code",
   "execution_count": null,
   "metadata": {},
   "outputs": [],
   "source": [
    "# #############################################################################\n",
    "# Plot result\n",
    "from matplotlib.pylab import cm\n",
    "# Black removed and is used for noise instead.\n",
    "unique_labels = set(labels)\n",
    "colors = [cm.Spectral(each) for each in linspace(0, 1, len(unique_labels))]\n",
    "for k, col in zip(unique_labels, colors):\n",
    "    if k == -1:\n",
    "        # Black used for noise.\n",
    "        col = [0, 0, 0, 1]\n",
    "\n",
    "    class_member_mask = (labels == k)\n",
    "\n",
    "    xy = X[class_member_mask & core_samples_mask]\n",
    "    plot(xy[:, 0], xy[:, 1], 'o', markerfacecolor=tuple(col),\n",
    "             markeredgecolor='k', markersize=14)\n",
    "\n",
    "    xy = X[class_member_mask & ~core_samples_mask]\n",
    "    plot(xy[:, 0], xy[:, 1], 'o', markerfacecolor=tuple(col),\n",
    "             markeredgecolor='k', markersize=6)\n",
    "\n",
    "title('Estimated number of clusters: %d' % n_clusters_)\n",
    "show()"
   ]
  },
  {
   "cell_type": "code",
   "execution_count": null,
   "metadata": {},
   "outputs": [],
   "source": []
  }
 ],
 "metadata": {
  "kernelspec": {
   "display_name": "neuron",
   "language": "python",
   "name": "neuron"
  },
  "language_info": {
   "codemirror_mode": {
    "name": "ipython",
    "version": 3
   },
   "file_extension": ".py",
   "mimetype": "text/x-python",
   "name": "python",
   "nbconvert_exporter": "python",
   "pygments_lexer": "ipython3",
   "version": "3.6.5"
  }
 },
 "nbformat": 4,
 "nbformat_minor": 2
}
