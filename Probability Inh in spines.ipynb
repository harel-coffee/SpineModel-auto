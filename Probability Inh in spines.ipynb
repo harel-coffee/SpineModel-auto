{
 "cells": [
  {
   "cell_type": "markdown",
   "metadata": {},
   "source": [
    "# Probability of inhibition in spines"
   ]
  },
  {
   "cell_type": "code",
   "execution_count": 1,
   "metadata": {},
   "outputs": [],
   "source": [
    "from scipy.integrate import quad\n",
    "from numpy import *\n",
    "from matplotlib.pylab import *\n",
    "%matplotlib inline"
   ]
  },
  {
   "cell_type": "markdown",
   "metadata": {},
   "source": [
    "## Estimated parameters\n",
    "These are the values from experiment. Change them accordingly."
   ]
  },
  {
   "cell_type": "code",
   "execution_count": 2,
   "metadata": {},
   "outputs": [
    {
     "name": "stdout",
     "output_type": "stream",
     "text": [
      "Densitity of inhibitory synapse 0.414 +- 0.042 syn/um\n",
      "Probability of synapse in sp head 0.358 +- 0.049 \n",
      "Probability of synapse in sp shaft 0.642 +- 0.049 \n",
      "Densitity of spines 1.634 +- 0.084 spine/um\n"
     ]
    }
   ],
   "source": [
    "EnshPSD = 61\n",
    "EnDiS = 34\n",
    "Eninh = EnshPSD+EnDiS\n",
    "ELdd = 229.4670\n",
    "EdshPSD = (EnshPSD/ELdd,sqrt(EnshPSD)/ELdd)\n",
    "EdDis = (EnDiS/ELdd,sqrt(EnDiS)/ELdd)\n",
    "Edinh = (Eninh/ELdd,sqrt(Eninh)/ELdd)\n",
    "EPinhPSD = (EnshPSD/Eninh,sqrt(EnshPSD*EnDiS/Eninh**2/Eninh)) # Binomial standard error\n",
    "EPinhsh = (EnDiS/Eninh,sqrt(EnshPSD*EnDiS/Eninh**2/Eninh))\n",
    "print(\"Densitity of inhibitory synapse %.3f +- %.3f syn/um\" % Edinh)\n",
    "print(\"Probability of synapse in sp head %.3f +- %.3f \" % EPinhsh)\n",
    "print(\"Probability of synapse in sp shaft %.3f +- %.3f \" % EPinhPSD)\n",
    "Elength =229.4670\n",
    "Enspines = 375\n",
    "Ediam = 1.0\n",
    "Edsp = Enspines/Elength\n",
    "print(\"Densitity of spines %.3f +- %.3f spine/um\" % (Edsp,sqrt(Enspines)/Elength))\n",
    "\n",
    "EAhead = 8.\n",
    "EdiamNS = 0.15\n",
    "Elengthsp = 1.5\n",
    "EAinhsyn = 0.2"
   ]
  },
  {
   "cell_type": "code",
   "execution_count": 3,
   "metadata": {},
   "outputs": [
    {
     "name": "stdout",
     "output_type": "stream",
     "text": [
      "Area of dendritic shaft, spine head, spine neck\n",
      "714.2650444376231 3000.0 0.7068583470577035\n"
     ]
    }
   ],
   "source": [
    "def areabranch(dsp = 1.0, diam = 0.5, length = 10.0,diamNS = 0.15):\n",
    "    cil_A = diam*pi*length\n",
    "    sp_A = dsp*length*pi*(diamNS/2.0)**2\n",
    "    return(cil_A-sp_A)\n",
    "\n",
    "print(\"Area of dendritic shaft, spine head, spine neck\")\n",
    "print(areabranch(Edsp,diam=Ediam,length = Elength),Edsp*Elength*EAhead,EdiamNS*pi*Elengthsp)"
   ]
  },
  {
   "cell_type": "markdown",
   "metadata": {},
   "source": [
    "## Simple estimate - Area ratios.\n",
    "\n",
    "This is the most simple estimate and it should be constant. And it is! I calculated it for different lengths because at the beggining it was not constant. Now the mistake is solved, I just keep this part to plot it at the end.\n"
   ]
  },
  {
   "cell_type": "code",
   "execution_count": 4,
   "metadata": {},
   "outputs": [],
   "source": [
    "lengths = [1,2,3,4,5,7.5,10.,15.,20,30.,40.,50.]\n",
    "d = zeros((len(lengths),4))\n",
    "for i,length in enumerate(lengths):\n",
    "    d[i,:] = (length,areabranch(Edsp,diam=Ediam,length = length,diamNS = 0.0),Edsp*length*EAhead*.7,EdiamNS*pi*Elengthsp*Edsp*length)"
   ]
  },
  {
   "cell_type": "code",
   "execution_count": 14,
   "metadata": {
    "scrolled": false
   },
   "outputs": [
    {
     "data": {
      "image/png": "[encoded data removed]",
      "text/plain": [
       "<Figure size 576x432 with 1 Axes>"
      ]
     },
     "metadata": {
      "needs_background": "light"
     },
     "output_type": "display_data"
    }
   ],
   "source": [
    "figure(figsize=(8,6))\n",
    "# probability of having the synapse in the shaft\n",
    "plot(1.0/d[:,0],d[:,1]/d[:,1:].sum(axis=1),'.-',label='dendritic shaft')\n",
    "# probability of having the synapse in the spine (both head and neck)\n",
    "plot(1.0/d[:,0],(d[:,2]+d[:,3])/d[:,1:].sum(axis=1),'.-',label='spine')\n",
    "#legend()\n",
    "xlabel(\"Density inhibitory synapses (# synapses/$\\mu m$)\")\n",
    "ylabel(\"Probability\")\n",
    "errorbar(Edinh[0],EPinhsh[0],Edinh[1],EPinhsh[1],capsize=4.0,c='k',marker='.',markersize=12)\n",
    "\n",
    "annotate(\n",
    "    'Actual probability of having\\n the synapse in a spine head!',\n",
    "    xy=(0.52, 0.37), arrowprops=dict(arrowstyle='-'), xytext=(0.5, 0.45))\n",
    "\n",
    "annotate(\n",
    "    'Probability of having it\\n in the dendritic shaft',\n",
    "   xy=(0.6, 0.21), arrowprops=dict(arrowstyle='-'),xytext=(0.6, 0.05) )\n",
    "\n",
    "\n",
    "annotate(\n",
    "    'Probability of having a inhibitory\\n  synapse in a spine head, \\n if it was completely random.',\n",
    "     xy=(0.6, 0.79), arrowprops=dict(arrowstyle='-'), xytext=(0.4, 0.85))\n",
    "\n",
    "xlim(0,)\n",
    "ylim(0,1)\n",
    "\n",
    "savefig(\"Prob_being_spinehead.png\")"
   ]
  },
  {
   "cell_type": "code",
   "execution_count": 6,
   "metadata": {
    "scrolled": true
   },
   "outputs": [
    {
     "name": "stdout",
     "output_type": "stream",
     "text": [
      "[[  1.           3.14159265   9.15164272   1.1551634 ]\n",
      " [  2.           6.28318531  18.30328544   2.3103268 ]\n",
      " [  3.           9.42477796  27.45492816   3.4654902 ]\n",
      " [  4.          12.56637061  36.60657088   4.6206536 ]\n",
      " [  5.          15.70796327  45.7582136    5.77581701]\n",
      " [  7.5         23.5619449   68.6373204    8.66372551]\n",
      " [ 10.          31.41592654  91.5164272   11.55163401]\n",
      " [ 15.          47.1238898  137.2746408   17.32745102]\n",
      " [ 20.          62.83185307 183.0328544   23.10326802]\n",
      " [ 30.          94.24777961 274.5492816   34.65490203]\n",
      " [ 40.         125.66370614 366.06570879  46.20653604]\n",
      " [ 50.         157.07963268 457.58213599  57.75817005]]\n"
     ]
    }
   ],
   "source": [
    "dd = 1.0*d\n",
    "print(dd)"
   ]
  },
  {
   "cell_type": "markdown",
   "metadata": {},
   "source": [
    "## Bootstrap.\n",
    "\n",
    "Here we do a sort of bootstrap calculation. For that we set length of the dendritic piece and other parameters from estimated values and vary the density of inhibitory synapses.\n",
    "\n",
    "For a given density:\n",
    " - nspines: normally-distributed random number  (big number! Otherwise it should be Poissonian) \n",
    "             mu+-std = (density*length dendrite) +- sqrt(density*length dendrite) \n",
    " - nsynapse: normally-distributed random number with its density\n",
    " - Available area of the spine head is factor=0.7\n",
    " - When an inhibitory synapse is placed in a spine, the area of the spine gets substracted from the total available area"
   ]
  },
  {
   "cell_type": "code",
   "execution_count": 7,
   "metadata": {},
   "outputs": [
    {
     "data": {
      "text/plain": [
       "(array([   5.,    8.,   14.,   29.,   41.,   79.,  105.,  163.,  264.,\n",
       "         358.,  443.,  531.,  696.,  800.,  872., 1735.,  777.,  754.,\n",
       "         617.,  547.,  400.,  253.,  194.,  130.,   80.,   48.,   31.,\n",
       "          11.,    9.,    4.,    2.]),\n",
       " array([ 4.        ,  5.06451613,  6.12903226,  7.19354839,  8.25806452,\n",
       "         9.32258065, 10.38709677, 11.4516129 , 12.51612903, 13.58064516,\n",
       "        14.64516129, 15.70967742, 16.77419355, 17.83870968, 18.90322581,\n",
       "        19.96774194, 21.03225806, 22.09677419, 23.16129032, 24.22580645,\n",
       "        25.29032258, 26.35483871, 27.41935484, 28.48387097, 29.5483871 ,\n",
       "        30.61290323, 31.67741935, 32.74193548, 33.80645161, 34.87096774,\n",
       "        35.93548387, 37.        ]),\n",
       " <a list of 31 Patch objects>)"
      ]
     },
     "execution_count": 7,
     "metadata": {},
     "output_type": "execute_result"
    },
    {
     "data": {
      "image/png": "[encoded data removed]",
      "text/plain": [
       "<Figure size 432x288 with 1 Axes>"
      ]
     },
     "metadata": {
      "needs_background": "light"
     },
     "output_type": "display_data"
    },
    {
     "data": {
      "image/png": "[encoded data removed]",
      "text/plain": [
       "<Figure size 432x288 with 1 Axes>"
      ]
     },
     "metadata": {
      "needs_background": "light"
     },
     "output_type": "display_data"
    }
   ],
   "source": [
    "#nspines = array((-log(rand(10000))*Edsp*length)+1,dtype=int)\n",
    "nspines = array(randn(10000)*sqrt(Edsp*length)+Edsp*length,dtype=int)\n",
    "nsyn = array(randn(10000)*sqrt(length*Edinh[0])+(length*Edinh[0]),dtype=int)\n",
    "\n",
    "hist(nspines,31)\n",
    "figure()\n",
    "hist(nsyn,31)"
   ]
  },
  {
   "cell_type": "code",
   "execution_count": 8,
   "metadata": {},
   "outputs": [],
   "source": [
    "\n",
    "ds = 1.0/array([1,2,3,4,5,7.5,10.,15.,20,30.,40.,50.])\n",
    "length = ELdd\n",
    "Asyn = EAinhsyn\n",
    "Ahead = EAhead\n",
    "diamNS = EdiamNS\n",
    "lengthsp = Elengthsp\n",
    "factor = .7\n",
    "\n",
    "\n",
    "bs = zeros((len(ds),3))\n",
    "for k,din in enumerate(ds):\n",
    "    # Area of the dendritic shaft (not removing base of spines)\n",
    "    Ab00 = areabranch(Edsp,diam=Ediam,length = Elength,diamNS = 0.0)\n",
    "\n",
    "    pt = zeros(10000)\n",
    "    Pbm =0.0\n",
    "    for i in range(10000):\n",
    "        # Generating random numbers of spines and inh synapses\n",
    "        nspines = max(int(randn()*sqrt(Edsp*length)+Edsp*length),1)\n",
    "        nsyn = max(int(randn()*sqrt(length*din)+(length*din)),1)\n",
    "        \n",
    "        # Calculating areas\n",
    "        As0 = nspines*(Ahead*factor)\n",
    "        An0 = nspines*diamNS*pi*lengthsp\n",
    "        Ab0 = Ab00-nspines*diamNS**2*pi/4.0\n",
    "        Pbm += Ab0/(Ab0+An0+As0)/10000.0\n",
    "        \n",
    "        Ab = Ab0*1.0\n",
    "        \n",
    "        As = As0*1.0\n",
    "        An = An0*1.0\n",
    "        sinS = 0.0\n",
    "        for j in range(nsyn):\n",
    "            # updated total area\n",
    "            At = Ab+As+An\n",
    "            if rand()<(As+An)/At:\n",
    "                # inh synapse is placed in spine\n",
    "                sinS +=1.0\n",
    "                As = As-Ahead*factor\n",
    "                An = An-diamNS*pi*lengthsp\n",
    "            else:\n",
    "                # inh synapse is placed in shaft\n",
    "                Ab = Ab-Asyn\n",
    "        pt[i] = sinS/float(nsyn)\n",
    "    bs[k,:] = [mean(pt),std(pt),Pbm]"
   ]
  },
  {
   "cell_type": "code",
   "execution_count": 9,
   "metadata": {},
   "outputs": [
    {
     "data": {
      "text/plain": [
       "(720.8918414412891, 2100.0, 265.0718801466388)"
      ]
     },
     "execution_count": 9,
     "metadata": {},
     "output_type": "execute_result"
    }
   ],
   "source": [
    "areabranch(Edsp,diam=Ediam,length = Elength,diamNS = 0.0),Edsp*length*EAhead*factor,EdiamNS*pi*Elengthsp*Edsp*length"
   ]
  },
  {
   "cell_type": "code",
   "execution_count": 10,
   "metadata": {},
   "outputs": [
    {
     "data": {
      "text/plain": [
       "0.2336034725224649"
      ]
     },
     "execution_count": 10,
     "metadata": {},
     "output_type": "execute_result"
    }
   ],
   "source": [
    "xt = array([areabranch(Edsp,diam=Ediam,length = Elength,diamNS = 0.0),Edsp*length*EAhead*factor,EdiamNS*pi*Elengthsp*Edsp*length])\n",
    "\n",
    "xt[0]/xt.sum()"
   ]
  },
  {
   "cell_type": "code",
   "execution_count": 11,
   "metadata": {},
   "outputs": [
    {
     "data": {
      "text/plain": [
       "[<matplotlib.lines.Line2D at 0x7fa528838860>]"
      ]
     },
     "execution_count": 11,
     "metadata": {},
     "output_type": "execute_result"
    },
    {
     "data": {
      "image/png": "[encoded data removed]",
      "text/plain": [
       "<Figure size 432x288 with 1 Axes>"
      ]
     },
     "metadata": {
      "needs_background": "light"
     },
     "output_type": "display_data"
    }
   ],
   "source": [
    "plot(ds,1-bs[:,0])\n",
    "plot(ds,bs[:,0])\n",
    "#plot(ds,bs2[:,0])\n",
    "\n",
    "#plot(ds,1-bs2[:,0])\n"
   ]
  },
  {
   "cell_type": "code",
   "execution_count": 12,
   "metadata": {},
   "outputs": [
    {
     "data": {
      "image/png": "[encoded data removed]",
      "text/plain": [
       "<Figure size 576x432 with 1 Axes>"
      ]
     },
     "metadata": {
      "needs_background": "light"
     },
     "output_type": "display_data"
    }
   ],
   "source": [
    "figure(figsize=(8,6))\n",
    "plot(1.0/dd[:,0],dd[:,1]/dd[:,1:].sum(axis=1),'-',label='dendritic branch',alpha=0.5)\n",
    "plot(1.0/dd[:,0],(dd[:,2]+dd[:,3])/dd[:,1:].sum(axis=1),'-',label='spine head',alpha=0.5)\n",
    "plot(ds,1-bs[:,0],'C0.-')\n",
    "plot(ds,bs[:,0],'C1.-')\n",
    "#legend()\n",
    "xlabel(\"Density inhibitory synapses (synapses/$\\mu m$)\",fontsize = 14)\n",
    "ylabel(\"Probability\",fontsize = 14)\n",
    "errorbar(Edinh[0],EPinhsh[0],Edinh[1],EPinhsh[1],capsize=4.0,c='k',marker='.',markersize=12)\n",
    "\n",
    "\n",
    "\n",
    "xlim(0,)\n",
    "ylim(0,1)\n",
    "\n",
    "savefig(\"Prob_being_spineheadBs.png\")"
   ]
  },
  {
   "cell_type": "code",
   "execution_count": null,
   "metadata": {},
   "outputs": [],
   "source": []
  }
 ],
 "metadata": {
  "kernelspec": {
   "display_name": "neuron",
   "language": "python",
   "name": "neuron"
  },
  "language_info": {
   "codemirror_mode": {
    "name": "ipython",
    "version": 3
   },
   "file_extension": ".py",
   "mimetype": "text/x-python",
   "name": "python",
   "nbconvert_exporter": "python",
   "pygments_lexer": "ipython3",
   "version": "3.6.5"
  }
 },
 "nbformat": 4,
 "nbformat_minor": 2
}
