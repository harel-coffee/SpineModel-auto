{
 "cells": [
  {
   "cell_type": "markdown",
   "metadata": {},
   "source": [
    "# Spine Model\n"
   ]
  },
  {
   "cell_type": "code",
   "execution_count": 1,
   "metadata": {},
   "outputs": [
    {
     "name": "stdout",
     "output_type": "stream",
     "text": [
      "\t0 \n",
      "\t1 \n",
      "\t1 \n",
      "\t1 \n",
      "\t1 \n",
      "20.0 29.78380012512207 1871.3713533814052 6283.185307179586\n",
      "Topology:\n",
      "\n",
      "|-|       soma(0-1)\n",
      "   `|       dendA1c(0-1)\n",
      "     `|       dendA1(0-1)\n",
      "       `|       DendE(0-1)\n",
      "         `|       DendN(0-1)\n",
      "        `|       NSpne000(0-1)\n",
      "          `|       Spne000(0-1)\n",
      "   `|       dendB1(0-1)\n",
      "\n",
      "1.0\n"
     ]
    }
   ],
   "source": [
    "from numpy import *   #ones, cumsum, sum, isscalar\n",
    "from matplotlib.pylab import * \n",
    "%matplotlib inline\n",
    "plotose = True\n",
    "import pickle\n",
    "\n",
    "import PS_lib as lb\n",
    "import PS_storage as st\n",
    "from bootstrap import btset_cd, generateplots, btShInh\n",
    "\n",
    "\n",
    "# Parameter definitions\n",
    "# Data is stored here      \n",
    "data = st.dataStorage() # some default parameters defined.\n",
    "data.dt = 0.05\n",
    "data.NMDA = False\n",
    "\n",
    "# Definition of the model.\n",
    "lb.h.dt = data.dt\n",
    "NMDA = data.NMDA\n",
    "model = lb.loadNeuron(\"Basic2.hoc\",axon=False)\n",
    "\n",
    "# Adding piece of dendritic branch with spine\n",
    "model.addDend(name=\"DendE\",locus=\"dendA1\",L=4.0,D=1.5,ilocus=1)\n",
    "model.addSpne(locus=\"DendE\",ilocus=0.5,L=1.0,D=1.0,Lneck=1.0,Dneck=0.15)\n",
    "# Temperature of the neuron\n",
    "lb.h.celsius = model.temperature\n",
    "model.addDend(name=\"DendN\",locus=3,L=240.0,D=0.5,ilocus=1)\n",
    "data.model = model.__dict__\n",
    "\n",
    "model.soma.L = 20\n",
    "model.dend[-1].L = 200\n",
    "model.dend[-1].diam = 10\n",
    "print(model.soma.L,model.soma.diam,model.soma(0.5).area(),model.dend[-1](0.5).area())\n",
    "\n",
    "print(\"Topology:\")\n",
    "print(lb.h.topology())\n"
   ]
  },
  {
   "cell_type": "markdown",
   "metadata": {},
   "source": [
    "### Recording places\n",
    "\n",
    "We set recording vectors in all dendritic compartments, spine included"
   ]
  },
  {
   "cell_type": "code",
   "execution_count": 2,
   "metadata": {
    "scrolled": false
   },
   "outputs": [],
   "source": [
    "nsp = 1000\n",
    "dis = btset_cd(cd='DiS',size=nsp)\n",
    "sis = btset_cd(cd='SiS',size=nsp)\n",
    "sps = btset_cd(cd='Sp',size=nsp)\n",
    "\n",
    "dis['Rneck'] = dis['Rneck']*2\n",
    "sis['Rneck'] = sis['Rneck']*2\n",
    "sps['Rneck'] = sps['Rneck']*2\n",
    "#generateplots(dis,corplot=True)"
   ]
  },
  {
   "cell_type": "code",
   "execution_count": 3,
   "metadata": {
    "scrolled": false
   },
   "outputs": [],
   "source": [
    "#nsp = 1000\n",
    "#figure()\n",
    "iPSDsh = btShInh(size=nsp)\n",
    "#h = hist(iPSDsh,31)\n",
    "#xlabel(\"iPSD shaft ($\\mu m^2$)\",fontsize=14)\n"
   ]
  },
  {
   "cell_type": "code",
   "execution_count": 4,
   "metadata": {},
   "outputs": [],
   "source": [
    "\n",
    "rhGABAR = 500 # Receptors/um2\n",
    "rhAMPAR = 1000 # Receptors/um2\n",
    "rhNMDAR = 10 # Receptors/um2\n",
    "\n",
    "gtrG = rhGABAR*30e-6*2/5.0\n",
    "gtrA = rhAMPAR*11e-6*2/5.0\n",
    "gtrN = rhNMDAR*30e-6/16.0\n",
    "\n",
    "figureplot=False\n",
    "if figureplot:\n",
    "    fig, ax = subplots(nrows=1,ncols=4,figsize=(20,5))\n",
    "    fig.suptitle(\"Number of Receptors\",fontsize = 20)\n",
    "\n",
    "    ax[0].hist(sis['A1']*rhAMPAR,31)\n",
    "    ax[0].set_xlabel(\"#AMPAR in Sis\")\n",
    "    ax[1].hist(dis['A1']*rhAMPAR,31)\n",
    "    ax[1].set_xlabel(\"#AMPAR in Dis\")\n",
    "    ax[2].hist(dis['A2']*rhGABAR,31)\n",
    "    ax[2].set_xlabel(\"#GABAAR in Dis\")\n",
    "    ax[3].hist(iPSDsh*rhGABAR,31)\n",
    "    ax[3].set_xlabel(\"#GABAAR in shaft\")\n",
    "\n",
    "    fig, ax = subplots(nrows=1,ncols=4,figsize=(20,5))\n",
    "    fig.suptitle(\"Max Current\",fontsize = 20)\n",
    "\n",
    "\n",
    "    ax[0].hist(sis['A1']*gtrA/1e-6,31)\n",
    "    ax[0].set_xlabel(\"I$_{max}$ (pA)\")\n",
    "    ax[1].hist(dis['A1']*gtrA/1e-6,31)\n",
    "    ax[1].set_xlabel(\"I$_{max}$ (pA)\")\n",
    "    ax[2].hist(dis['A2']*gtrG/1e-6,31)\n",
    "    ax[2].set_xlabel(\"I$_{max}$ (pA)\")\n",
    "    ax[3].hist(iPSDsh*gtrG/1e-6,31)\n",
    "    ax[3].set_xlabel(\"I$_{max}$ (pA)\")\n",
    "    #savefig(\"D_maxI.png\",bbox_inches='tight',pad_inches = 0)\n"
   ]
  },
  {
   "cell_type": "code",
   "execution_count": 5,
   "metadata": {},
   "outputs": [],
   "source": [
    "figureplot=False\n",
    "if figureplot:\n",
    "    spn = sis\n",
    "    plot(spn['D'],spn['L'],'.',alpha=0.5)\n",
    "    spn = dis\n",
    "    plot(spn['D'],spn['L'],'.',alpha=0.5)\n",
    "    xlabel(\"Diameter\")\n",
    "    ylabel('Length')\n",
    "\n",
    "    #figure()\n",
    "    #plot(spn['D']**2*pi*spn['L']/4,spn['Vh'],'.')\n",
    "    figure()\n",
    "    hist(spn['Ah']/(spn['D']*pi*spn['L']),51)"
   ]
  },
  {
   "cell_type": "code",
   "execution_count": 6,
   "metadata": {},
   "outputs": [
    {
     "name": "stdout",
     "output_type": "stream",
     "text": [
      "1.0 1.5\n",
      "200.24984394500785 1.5000000000000002\n",
      "50.15974481593781 1.5\n",
      "4.0 1.5\n",
      "200.0 10.0\n"
     ]
    }
   ],
   "source": [
    "for dend in model.dend:\n",
    "    print(dend.L,dend.diam)"
   ]
  },
  {
   "cell_type": "code",
   "execution_count": 7,
   "metadata": {},
   "outputs": [
    {
     "name": "stdout",
     "output_type": "stream",
     "text": [
      "3.141592653589793 0.7853981633974483 3.141592653589793 0.7853981633974483\n",
      "Area Volume Ah Vh\n",
      "1.807321778711993 0.38535043777493794 1.807321778711993 0.385350437774938\n"
     ]
    }
   ],
   "source": [
    "sp = model.spne[0]\n",
    "print(sp(0.5).area(),sp(0.5).volume(),sp.diam*sp.L*pi,sp.diam**2*sp.L*pi/4.0)\n",
    "\n",
    "sp.L = dis[\"L\"][0]\n",
    "sp.diam = dis[\"D\"][0]\n",
    "print(\"Area Volume Ah Vh\")\n",
    "print(sp(0.5).area(),sp(0.5).volume(),dis[\"Ah\"][0]/dis[\"AhA0\"][0],dis[\"Vh\"][0])\n"
   ]
  },
  {
   "cell_type": "markdown",
   "metadata": {},
   "source": [
    "### Excitatory synapse \n",
    "\n",
    "We need to define the arrival time and dynamics. These parameters may be modified later"
   ]
  },
  {
   "cell_type": "code",
   "execution_count": 8,
   "metadata": {},
   "outputs": [],
   "source": [
    "model.AMPAlist = []\n",
    "model.ncAMPAlist = []\n",
    "\n",
    "AMPA = lb.h.Exp2Syn(1,sec = model.spne[0])\n",
    "tau1  = 0.5\n",
    "tau2 = 3.0\n",
    "AMPA.tau1 = tau1\n",
    "AMPA.tau2 = tau2\n",
    "\n",
    "nampa = 50\n",
    "gmax = 15*nampa/1e6\n",
    "stimE=lb.h.NetStim();stimE.number = 1; \n",
    "NC = lb.h.NetCon(stimE,AMPA,0,0,gmax)\n",
    "\n",
    "model.AMPAlist.append(AMPA)\n",
    "model.ncAMPAlist.append(NC)\n",
    "NC.delay = 10\n",
    "\n",
    "# NMDA part\n",
    "nnmda = 2\n",
    "gmaxN = 50*nnmda/1e6\n",
    "lb.add_NMDAsyns(model, locs=[[0,0.5]], gmax=gmaxN,tau2=20.0)  \n",
    "NMDA = model.NMDAlist[0]\n",
    "NCN = model.ncNMDAlist[0]\n",
    "stimN=lb.h.NetStim();stimN.number = 1;\n",
    "NCN = lb.h.NetCon(stimN,NMDA,0,0,gmaxN)\n",
    "model.ncNMDAlist[0] = NCN\n",
    "NMDA.tau1 = 2.0\n",
    "NMDA.tau2 = 30.0\n"
   ]
  },
  {
   "cell_type": "markdown",
   "metadata": {},
   "source": [
    "### Inhibitory synapse"
   ]
  },
  {
   "cell_type": "code",
   "execution_count": 9,
   "metadata": {},
   "outputs": [],
   "source": [
    "nGABA = 35\n",
    "gmaxG = nGABA*30e-6\n",
    "GABA, NCG = lb.add_GABAsyns(model, locs=[[0,1]], spne=True, gmax=gmaxG,tau1=1.5,tau2=15.0)  \n",
    "#GABA = model.GABAlist[0]\n",
    "#NCG = model.ncGABAlist[0]\n",
    "#stimG=lb.h.NetStim();stimG.number = 1;\n",
    "#NCG = lb.h.NetCon(stimG,GABA,0,0,gmaxG)\n",
    "#model.ncGABAlist[0] = NCG"
   ]
  },
  {
   "cell_type": "code",
   "execution_count": 10,
   "metadata": {},
   "outputs": [
    {
     "data": {
      "text/plain": [
       "[dendA1c, dendA1, dendB1, DendE, DendN]"
      ]
     },
     "execution_count": 10,
     "metadata": {},
     "output_type": "execute_result"
    }
   ],
   "source": [
    "model.dend"
   ]
  },
  {
   "cell_type": "code",
   "execution_count": 11,
   "metadata": {},
   "outputs": [
    {
     "data": {
      "text/plain": [
       "Vector[16]"
      ]
     },
     "execution_count": 11,
     "metadata": {},
     "output_type": "execute_result"
    }
   ],
   "source": [
    "trec, vrec = lb.h.Vector(), lb.h.Vector()\n",
    "gRec, iRec,  vspneRec = [], [], []\n",
    "gNMDA_rec, iNMDA_rec = [], []\n",
    "trec.record(lb.h._ref_t)\n",
    "vrec.record(model.soma(0.5)._ref_v)\n",
    "\n",
    "\n",
    "#n=0\n",
    "vDendRec = []\n",
    "caDendRec = []\n",
    "#For all dendrites\n",
    "for dend in model.dend:\n",
    "    #Adding vectors for Voltage, and Calcium\n",
    "    vDendRec.append(lb.h.Vector())\n",
    "    caDendRec.append(lb.h.Vector())\n",
    "    # Placing recording at mid-point in the dendritic branch\n",
    "    vDendRec[-1].record(dend(0.5)._ref_v)\n",
    "    # NO CALCIUM!?!?!\n",
    "#Probably better to organize them in a dictionary        \n",
    "vDendRec[1].record(model.dend[1](1.0)._ref_v)\n",
    "\n",
    "# Spine voltage recording stuff\n",
    "vspneRec.append(lb.h.Vector())\n",
    "vspneRec.append(lb.h.Vector())\n",
    "sp = model.spne[0]\n",
    "vspneRec[0].record(sp(0.5)._ref_v)\n",
    "sp = model.neck[0]\n",
    "vspneRec[1].record(sp(0.5)._ref_v)\n",
    "\n",
    "# Calcim\n",
    "\n",
    "caDendRec = []\n",
    "sp = model.spne[0]\n",
    "caDendRec.append(lb.h.Vector())\n",
    "caDendRec.append(lb.h.Vector())\n",
    "caDendRec.append(lb.h.Vector())\n",
    "caDendRec[0].record(sp(0.5)._ref_ica) \n",
    "caDendRec[1].record(model.NMDAlist[0]._ref_i)\n",
    "caDendRec[2].record(sp(1.0)._ref_cai) \n"
   ]
  },
  {
   "cell_type": "code",
   "execution_count": 12,
   "metadata": {},
   "outputs": [],
   "source": [
    "vDendEL = []\n",
    "dend = model.dend[1]\n",
    "for i in range(10):\n",
    "    vDendEL.append(lb.h.Vector())\n",
    "    vDendEL[-1].record(dend((i+1.0)/10.0)._ref_v)"
   ]
  },
  {
   "cell_type": "code",
   "execution_count": 13,
   "metadata": {},
   "outputs": [],
   "source": [
    "vDendEL2 = []\n",
    "dend = model.dend[-1]\n",
    "for i in range(10):\n",
    "    vDendEL2.append(lb.h.Vector())\n",
    "    vDendEL2[-1].record(dend((i+1.0)/10.0)._ref_v)"
   ]
  },
  {
   "cell_type": "code",
   "execution_count": 14,
   "metadata": {},
   "outputs": [
    {
     "data": {
      "text/plain": [
       "[dendA1c, dendA1, dendB1, DendE, DendN]"
      ]
     },
     "execution_count": 14,
     "metadata": {},
     "output_type": "execute_result"
    }
   ],
   "source": [
    "model.dend"
   ]
  },
  {
   "cell_type": "code",
   "execution_count": 15,
   "metadata": {},
   "outputs": [],
   "source": [
    "iRec.append(lb.h.Vector())\n",
    "iRec.append(lb.h.Vector())\n",
    "currentAMPA = iRec[0]\n",
    "currentGABA = iRec[1]"
   ]
  },
  {
   "cell_type": "code",
   "execution_count": 16,
   "metadata": {},
   "outputs": [
    {
     "data": {
      "text/plain": [
       "Vector[38]"
      ]
     },
     "execution_count": 16,
     "metadata": {},
     "output_type": "execute_result"
    }
   ],
   "source": [
    "currentAMPA.record(AMPA._ref_i)\n",
    "currentGABA.record(GABA._ref_i)"
   ]
  },
  {
   "cell_type": "code",
   "execution_count": 17,
   "metadata": {},
   "outputs": [
    {
     "name": "stdout",
     "output_type": "stream",
     "text": [
      "10.0 1.0\n",
      "181.9497409386474 0.699999988079071 31.830988618379067\n",
      "1.0 0.7 622.8146957813586\n",
      "The resistance of neck and the dendritic impedance are 141.47 and 626 MΩ (resp.)\n"
     ]
    }
   ],
   "source": [
    "dendsizeL0 = 10\n",
    "dendsizeL = max(max(max(dis['Dss'])+10,max(sis['Dss'])+10),178)\n",
    "neck = model.neck[0]\n",
    "Rneck = neck.L*1e-6/(neck.diam*1e-6/2.0)**2/pi*neck.Ra/100\n",
    "dend = model.dend[0]\n",
    "dend.L = dendsizeL0\n",
    "dend.diam = 1.0\n",
    "print(dend.L,dend.diam)\n",
    "Rdend = dend.L*1e-6/(dend.diam*1e-6/2.0)**2/pi*dend.Ra/100\n",
    "Rdendf = Rdend\n",
    "dend = model.dend[1]\n",
    "dendc = model.dend[1]\n",
    "dendc.L = dendsizeL\n",
    "dend.diam = 0.7\n",
    "print(dend.L,dend.diam,Rdend/1e6)\n",
    "Rdend +=dend.L*1e-6/2.0/(dend.diam*1e-6/2.0)**2/pi*dend.Ra/100\n",
    "dend = model.dend[-2]\n",
    "dend.diam = 0.7\n",
    "dendsh = model.dend[-2]\n",
    "dend.L = 1\n",
    "print(dend.L,dend.diam,Rdend/1e6)\n",
    "Rdend +=dend.L*1e-6/2.0/(dend.diam*1e-6/2.0)**2/pi*dend.Ra/100\n",
    "Rdendf +=dend.L*1e-6/2.0/(dend.diam*1e-6/2.0)**2/pi*dend.Ra/100\n",
    "print(\"The resistance of neck and the dendritic impedance are %.2f and %2.f MΩ (resp.)\" %(Rneck/1e6,Rdend/1e6))"
   ]
  },
  {
   "cell_type": "code",
   "execution_count": 18,
   "metadata": {},
   "outputs": [],
   "source": [
    "#model.soma.diam = model.soma.L\n",
    "dendN = model.dend[-1]\n",
    "dendN.L = 1"
   ]
  },
  {
   "cell_type": "code",
   "execution_count": 19,
   "metadata": {},
   "outputs": [],
   "source": [
    "dendsh.diam = 0.7\n",
    "dendc.diam = 0.7\n",
    "dendN.diam = 0.7        "
   ]
  },
  {
   "cell_type": "code",
   "execution_count": 20,
   "metadata": {},
   "outputs": [
    {
     "name": "stdout",
     "output_type": "stream",
     "text": [
      "3.6585073855367227\n"
     ]
    }
   ],
   "source": [
    "rhosp = 1.3\n",
    "dendareaperL = rhosp*mean(sps['Ah'])+(pi*0.5)\n",
    "factor = dendareaperL/(pi*0.5)\n",
    "print(factor)\n",
    "dendN.cm = 3.5\n",
    "dendc.cm = 3.5\n"
   ]
  },
  {
   "cell_type": "code",
   "execution_count": 21,
   "metadata": {},
   "outputs": [
    {
     "name": "stdout",
     "output_type": "stream",
     "text": [
      "10 10\n"
     ]
    }
   ],
   "source": [
    "dendc.nseg = int(dendc.L//10)+1\n",
    "dendN.nseg = int(dendN.L//10)+1\n",
    "\n",
    "dendc.nseg = 10\n",
    "dendN.nseg = 10\n",
    "print(dendc.nseg,dendN.nseg)"
   ]
  },
  {
   "cell_type": "code",
   "execution_count": 22,
   "metadata": {},
   "outputs": [],
   "source": [
    "lb.init_active(model, axon=False, soma=False, dend=False, dendNa=False,\n",
    "                dendCa=False,spne=True)"
   ]
  },
  {
   "cell_type": "markdown",
   "metadata": {},
   "source": [
    "## Plots\n",
    "\n",
    "xkcd is to give it non serious appearance"
   ]
  },
  {
   "cell_type": "code",
   "execution_count": 23,
   "metadata": {},
   "outputs": [],
   "source": [
    "gtrG = rhGABAR*30e-6*2/5.0\n",
    "gtrA = rhAMPAR*11e-6*3/5.0\n",
    "gtrN = rhNMDAR*30e-6*1.0/16.0/4.0/1.27*5*50"
   ]
  },
  {
   "cell_type": "code",
   "execution_count": null,
   "metadata": {},
   "outputs": [],
   "source": []
  },
  {
   "cell_type": "code",
   "execution_count": 24,
   "metadata": {},
   "outputs": [
    {
     "name": "stdout",
     "output_type": "stream",
     "text": [
      "141.4710605261292\n"
     ]
    }
   ],
   "source": [
    "diam0 = 0.15\n",
    "Rneck0 = Rneck/1e6\n",
    "Cm0 = model.CM\n",
    "print(Rneck0)"
   ]
  },
  {
   "cell_type": "code",
   "execution_count": 25,
   "metadata": {},
   "outputs": [
    {
     "name": "stdout",
     "output_type": "stream",
     "text": [
      "141.4710605261292\n"
     ]
    }
   ],
   "source": [
    "Rneck = neck.Ra*neck.L/(neck.diam)**2*0.04/pi\n",
    "print(Rneck)"
   ]
  },
  {
   "cell_type": "code",
   "execution_count": 26,
   "metadata": {
    "scrolled": false
   },
   "outputs": [],
   "source": [
    "def simulateSet(model,spn,tG = 500,ton = 50,toffset = 50,t_stop = 250, EL = -65,btsr = None,VDCC = array([0.,0,0,0]), dendrec = True):\n",
    "    if btsr is None:\n",
    "        btsr = ones(9)==0\n",
    "    model.E_PAS = EL\n",
    "    model.soma.e_pas = model.E_PAS\n",
    "    for dendp in model.dend:\n",
    "        dendp.e_pas = model.E_PAS\n",
    "    for sp in model.spne:\n",
    "        sp.e_pas = model.E_PAS\n",
    "\n",
    "    dendsh = model.dend[-2]\n",
    "    dendc = model.dend[1]\n",
    "    dendN = model.dend[-1]\n",
    "    neck = model.neck[0]\n",
    "    sp = model.spne[0]\n",
    "    dshL = dendsh.L\n",
    "    dendsizeL = dendsh.L+dendc.L+dendN.L\n",
    "    data = column_stack((spn[\"A1\"],spn[\"A1\"],spn[\"A2\"],spn[\"Rneck\"],spn[\"Dss\"],spn[\"L\"],spn[\"D\"],spn[\"Ln\"],spn[\"AhA0\"]))\n",
    "    if isnan(data).sum()>0:\n",
    "        raise \"There are nans do something about it\"\n",
    "    for i in range(9):\n",
    "        if ~btsr[i]:\n",
    "            data[:,i] = data[:,i].mean()\n",
    "         \n",
    "    nsp = data.shape[0]\n",
    "    mes = zeros((nsp,9))\n",
    "    me2 = zeros((nsp,11))\n",
    "    me3 = zeros((nsp,10))\n",
    "\n",
    "    iad = 2\n",
    "    vavg = zeros((int(t_stop/lb.h.dt)+iad,7))\n",
    "    vtracs = zeros((int(t_stop/lb.h.dt)+iad,nsp))\n",
    "    Ctracs = zeros((int(t_stop/lb.h.dt)+iad,nsp))\n",
    "    vtracsD = zeros((int(t_stop/lb.h.dt)+iad,nsp))\n",
    "    vtracsS = zeros((int(t_stop/lb.h.dt)+iad,nsp))\n",
    "    for i in arange(nsp):\n",
    "        NC.weight[0]  = data[i,0] *gtrA#/2\n",
    "        NCN.weight[0] = data[i,1] *gtrN#*0#*0\n",
    "        NCG.weight[0] = data[i,2] *gtrG#*0\n",
    "        \n",
    "        neck.L = data[i,7]  \n",
    "        Rneck0 = neck.Ra*neck.L/(diam0)**2*0.04/pi\n",
    "        #print(Rneck0,data[i,3])\n",
    "        neck.diam = diam0*sqrt(Rneck0/data[i,3])\n",
    "        \n",
    "        posD = data[i,4]\n",
    "        \n",
    "        dendc.L = posD-dshL/2\n",
    "        dendN.L = dendsizeL-posD-dshL/2\n",
    "\n",
    "        \n",
    "        # A = pi*D**2\n",
    "        sp.L = data[i,5]\n",
    "        sp.diam = data[i,6]\n",
    "        sp.cm = data[i,8]\n",
    "        spvol = sp(0.5).volume()\n",
    "        spineArea =  sp(0.5).area()#sp.L*sp.diam+1.8*sp.diam**2/4 # um^2\n",
    "        \n",
    "        CaTcond = 1e-3# pS\n",
    "        sp.pbar_caL13PS = VDCC[0]*CaTcond#/spineArea\n",
    "        sp.pbar_caLPS = VDCC[1]*CaTcond#/spineArea\n",
    "        sp.pbar_canPS = VDCC[2]*CaTcond#/spineArea\n",
    "        sp.pcaqbar_caqPS = VDCC[3]*CaTcond#/spineArea\n",
    "        \n",
    "        \n",
    "        NC.delay = toffset+ton-50\n",
    "        NCN.delay = toffset+ton-50\n",
    "        NCG.delay = toffset+tG#toffset+tG#-50\n",
    "\n",
    "        for il in range(10):\n",
    "            f = 1-7.5*il/dendc.L\n",
    "            #f = 0.5\n",
    "            if f>=0:\n",
    "                vDendEL[il].record(dendc(f)._ref_v)\n",
    "            else:\n",
    "                vDendEL[il].record(dendc(0.0)._ref_v)\n",
    "        \n",
    "        for il in range(10):\n",
    "            f = 7.5*il/dendc.L\n",
    "            #f = 0.5\n",
    "            if f<=1:\n",
    "                vDendEL2[il].record(dendN(f)._ref_v)\n",
    "            else:\n",
    "                vDendEL2[il].record(dendN(1.0)._ref_v)\n",
    "                \n",
    "        lb.h.finitialize(model.E_PAS)\n",
    "        \n",
    "        \n",
    "\n",
    "                    \n",
    "        #print(data[i,:])\n",
    "        lb.neuron.run(t_stop)\n",
    "        \n",
    "        #plot(trec,vspneRec[0])    \n",
    "        \n",
    "        current = abs((array(vDendRec[1])-array(vrec[0]))/Rdend)\n",
    "        \n",
    "        vtracs[:,i] = array(vspneRec[0]) \n",
    "        if dendrec:\n",
    "            vtracsD[:,i] = array(vDendRec[1])\n",
    "        else:\n",
    "            vtracsD[:,i] = array(vDendEL[2])\n",
    "            \n",
    "        vtracsS[:,i] = array(vrec) \n",
    "\n",
    "        vavg[:,0] += array(vspneRec[0]) \n",
    "        vavg[:,1] += array(vspneRec[0])**2\n",
    "        vavg[:,2] += array(vDendRec[1]) \n",
    "        vavg[:,3] += array(vDendRec[1])**2\n",
    "        vavg[:,4] += array(vrec) \n",
    "        vavg[:,5] += array(vrec)**2\n",
    "        vavg[:,6] += 1\n",
    "            \n",
    "        cat = array(caDendRec[-1])/1e-3\n",
    "        Ctracs[:,i] = cat-cat[0] \n",
    "        aG = abs(array(currentGABA)).argmax()\n",
    "        aA = abs(array(currentAMPA)).argmax()\n",
    "        \n",
    "        mes[i,:] = [data[i,3],max(vspneRec[0])-EL,max(vDendRec[3])-EL,max(vrec)-EL,max(cat)-cat[0],array(currentGABA)[aG],array(currentAMPA)[aA],spvol,max(current)]\n",
    "        me2[i,0] = max(vDendRec[3])\n",
    "        me2[i,1:] = [max(vD) for vD in vDendEL]\n",
    "        me3[i,:] = [max(vD) for vD in vDendEL2]\n",
    "\n",
    "        #plot(trec,array(caDendRec[-1])/1e-3)\n",
    "        #ylabel(\"[Ca] (uM)\")\n",
    "        #figure()\n",
    "        #plot(trec,vspneRec[0])\n",
    "        #break\n",
    "        \n",
    "    vavg[:,:5] = vavg[:,:5]/vavg[0,6]\n",
    "    vavg[:,1] = sqrt(vavg[:,1]-vavg[:,0]**2)#/sqrt(vavg[0,6])\n",
    "    vavg[:,3] = sqrt(vavg[:,3]-vavg[:,2]**2)#/sqrt(vavg[0,6])\n",
    "    vavg[:,5] = sqrt(vavg[:,5]-vavg[:,4]**2)#/sqrt(vavg[0,6])\n",
    "    return(vavg,mes,vtracs,vtracsD,vtracsS,Ctracs,me2,me3,array(trec))"
   ]
  },
  {
   "cell_type": "code",
   "execution_count": 27,
   "metadata": {},
   "outputs": [],
   "source": [
    "VDCCa =  array([0.04023183, 0.08000483, 0.03416801, 0.02747762] )\n",
    "EL0 = -70"
   ]
  },
  {
   "cell_type": "code",
   "execution_count": 28,
   "metadata": {
    "scrolled": true
   },
   "outputs": [],
   "source": [
    "#vavg0,mes0,vtracs0,vtracsD0,vtracsS0,Ctracs0,me20,me30, trec = simulateSet(model,dis,tG = 100,ton = 50,toffset = 100,t_stop = 500, EL = EL0,btsr = ones(9)==1,VDCC = VDCCa, dendrec=False)\n",
    "#plot(arange(vtracs0.shape[0])*lb.h.dt,vtracs0[:,0])"
   ]
  },
  {
   "cell_type": "code",
   "execution_count": 29,
   "metadata": {},
   "outputs": [],
   "source": [
    "from scipy.integrate import simps"
   ]
  },
  {
   "cell_type": "code",
   "execution_count": 30,
   "metadata": {},
   "outputs": [],
   "source": [
    "def itertis(t1,t2,A1,A2):\n",
    "    te = t1*t2/(t1-t2)\n",
    "    numtt = (t2/t1)**(te/t1)-(t2/t1)**(te/t2)\n",
    "    t1 = t2 + numtt*A1\n",
    "    t2 = A2/log(t1/t2)*(t1-t2)/t1\n",
    "    return(t1,t2)\n",
    "def gettimes(As,t1 = 10,t2 = 1, n = 1000,tol = 1e-9):\n",
    "    A1, A2 = As\n",
    "    t1a, t2a = t1, t2\n",
    "    for i in range(n):\n",
    "        t1,t2 = itertis(t1,t2,A1,A2)\n",
    "    \n",
    "        if (t1-t1a)**2/t1**2+(t2-t2a)**2/t2**2<tol:\n",
    "            #print(i)\n",
    "            break\n",
    "        t1a, t2a = t1, t2\n",
    "        #print(t1,t2)\n",
    "    if i>=n: \n",
    "        print('No convergence?')\n",
    "        \n",
    "    return(t1,t2)"
   ]
  },
  {
   "cell_type": "code",
   "execution_count": 31,
   "metadata": {},
   "outputs": [],
   "source": [
    "#arange(trec.shape[0])[trec>50+100][0]"
   ]
  },
  {
   "cell_type": "code",
   "execution_count": 32,
   "metadata": {},
   "outputs": [],
   "source": [
    "#vavg,mes,vtracs,vtracsD,vtracsS,Ctracs,me2,me3,_ = simulateSet(model,dis,tG = td,ton = 50,toffset = 100,t_stop = 500, EL = EL0,btsr = ones(9)==1,VDCC = VDCCa)"
   ]
  },
  {
   "cell_type": "code",
   "execution_count": 33,
   "metadata": {},
   "outputs": [],
   "source": [
    "#plot(trec,Ctracs[:,1])\n",
    "#def get_ftimes(vtt,ton = 0):\n",
    "    "
   ]
  },
  {
   "cell_type": "code",
   "execution_count": 34,
   "metadata": {},
   "outputs": [],
   "source": [
    "def get_atimes(vtt,ton = 3000):\n",
    "    ampv = vtt.max(axis=0)\n",
    "    intv = array(list(map(lambda x: simps(x,trec),vtt.transpose())))\n",
    "    tt = intv/ampv\n",
    "    sel = vtt.argmax(axis=0)\n",
    "    trise = (sel-ton)*lb.h.dt\n",
    "    times = array(list(map(gettimes,column_stack((tt,trise)))))\n",
    "    return(times, tt, trise)\n",
    "\n",
    "def get_FWHMtimes(vtt,v0 = None,dt =0.05):\n",
    "    if v0 is None:\n",
    "        v0 = vtt[0]\n",
    "    ampv = vtt.max(axis=0,keepdims=True)-v0\n",
    "    ampv2 = ampv/2+v0\n",
    "    sel = ((vtt-ampv2)>0).transpose() \n",
    "    times = array(list(map(lambda x: [arange(len(x))[x][0],arange(len(x))[x][-1]],sel)))\n",
    "    times = dt*(times[:,1]-times[:,0])\n",
    "    return(times)"
   ]
  },
  {
   "cell_type": "code",
   "execution_count": 35,
   "metadata": {},
   "outputs": [],
   "source": [
    "def getint(x):\n",
    "    xc = x*1.0\n",
    "    xc.sort()\n",
    "    sh = xc.shape[0]\n",
    "    xmed = xc[sh//2]\n",
    "    s0= int(sh*(1-.6827)/2)\n",
    "    s1 = sh-s0\n",
    "    x0 = xc[s0]\n",
    "    x1 = xc[s1]\n",
    "    s0b= int(sh*(1-.95)/2)\n",
    "    s1b = sh-s0b\n",
    "    x0b = xc[s0b]\n",
    "    x1b = xc[s1b]\n",
    "    return((xmed,x0,x1,x0b,x1b))"
   ]
  },
  {
   "cell_type": "code",
   "execution_count": 40,
   "metadata": {},
   "outputs": [
    {
     "name": "stdout",
     "output_type": "stream",
     "text": [
      "0.1698635123545627\n"
     ]
    },
    {
     "data": {
      "text/plain": [
       "(array([ 29.,  91., 120.,  77.,  70.,  84.,  90.,  90.,  73.,  43.,  27.,\n",
       "         33.,  34.,  42.,  32.,  14.,   9.,   3.,   2.,   1.,   0.,   2.,\n",
       "          4.,   2.,   2.,   5.,   6.,   4.,   7.,   2.,   2.]),\n",
       " array([0.02580492, 0.03518107, 0.04455722, 0.05393338, 0.06330953,\n",
       "        0.07268568, 0.08206183, 0.09143799, 0.10081414, 0.11019029,\n",
       "        0.11956645, 0.1289426 , 0.13831875, 0.1476949 , 0.15707106,\n",
       "        0.16644721, 0.17582336, 0.18519951, 0.19457567, 0.20395182,\n",
       "        0.21332797, 0.22270413, 0.23208028, 0.24145643, 0.25083258,\n",
       "        0.26020874, 0.26958489, 0.27896104, 0.2883372 , 0.29771335,\n",
       "        0.3070895 , 0.31646565]),\n",
       " <a list of 31 Patch objects>)"
      ]
     },
     "execution_count": 40,
     "metadata": {},
     "output_type": "execute_result"
    },
    {
     "data": {
      "image/png": "[encoded data removed]",
      "text/plain": [
       "<Figure size 432x288 with 1 Axes>"
      ]
     },
     "metadata": {
      "needs_background": "light"
     },
     "output_type": "display_data"
    }
   ],
   "source": [
    "iPSDsh = btShInh(size=nsp)\n",
    "print(iPSDsh.mean())\n",
    "hist(iPSDsh,31)\n",
    "hist(dis['A2'],31)"
   ]
  },
  {
   "cell_type": "code",
   "execution_count": 45,
   "metadata": {},
   "outputs": [],
   "source": [
    "dendp2 = dendN\n",
    "dendp1 = dendc"
   ]
  },
  {
   "cell_type": "code",
   "execution_count": 64,
   "metadata": {},
   "outputs": [],
   "source": [
    "#Only interested in the median\n",
    "nsp = 100\n",
    "iPSDsh = btShInh(size=nsp)\n",
    "dis = btset_cd(cd='DiS',size=nsp)\n",
    "dis['Rneck'] = dis['Rneck']*2\n",
    "dRneck = dis['Rneck']*1.0\n",
    "dA2 = dis['A2']*1.0\n",
    "dendsizeL = max(max(dis['Dss'])+10,177)\n",
    "dendp1.L = dendsizeL-10\n",
    "dendp2.L = 8 \n",
    "dendsh.L = 2    "
   ]
  },
  {
   "cell_type": "code",
   "execution_count": 65,
   "metadata": {},
   "outputs": [
    {
     "name": "stdout",
     "output_type": "stream",
     "text": [
      "0.05 50\n",
      "0.05 100\n",
      "0.05 200\n",
      "0.05 300\n",
      "0.05 500\n",
      "0.05 750\n",
      "0.05 1000\n",
      "0.09 50\n",
      "0.09 100\n",
      "0.09 200\n",
      "0.09 300\n",
      "0.09 500\n",
      "0.09 750\n",
      "0.09 1000\n",
      "0.1 50\n",
      "0.1 100\n",
      "0.1 200\n",
      "0.1 300\n",
      "0.1 500\n",
      "0.1 750\n",
      "0.1 1000\n",
      "0.15 50\n",
      "0.15 100\n",
      "0.15 200\n",
      "0.15 300\n",
      "0.15 500\n",
      "0.15 750\n",
      "0.15 1000\n",
      "0.17 50\n",
      "0.17 100\n",
      "0.17 200\n",
      "0.17 300\n",
      "0.17 500\n",
      "0.17 750\n",
      "0.17 1000\n",
      "0.2 50\n",
      "0.2 100\n",
      "0.2 200\n",
      "0.2 300\n",
      "0.2 500\n",
      "0.2 750\n",
      "0.2 1000\n",
      "0.25 50\n",
      "0.25 100\n",
      "0.25 200\n",
      "0.25 300\n",
      "0.25 500\n",
      "0.25 750\n",
      "0.25 1000\n",
      "0.3 50\n",
      "0.3 100\n",
      "0.3 200\n",
      "0.3 300\n",
      "0.3 500\n",
      "0.3 750\n",
      "0.3 1000\n"
     ]
    }
   ],
   "source": [
    "A2s = [0.05,0.09,0.1,0.15,0.17,0.2,0.25,0.3]\n",
    "Rns = [50,100,200,300,500,750,1000]\n",
    "pars = [[x,y] for x in A2s for y in Rns]\n",
    "\n",
    "dtime = {}\n",
    "data = {}\n",
    "data2 = {}\n",
    "\n",
    "for A2,R in pars:\n",
    "    dis['A2'] = A2+dA2*0\n",
    "    dis['Rneck'] = R+dRneck*0\n",
    "\n",
    "    tdels = [-49,-30,-20,-15,-10,-7.5,-5,-3.5,-2,-1,-0.5,0,0.5,1.0,2.0,2.75,3.5,5.0,7.5,10.0,15.0,20.,30.,50]\n",
    "    dtime[(A2,R)] = zeros((len(tdels),15))\n",
    "    data[(A2,R)] = zeros((len(tdels),20))\n",
    "    data2[(A2,R)] = zeros((len(tdels),20))\n",
    "\n",
    "    times_biexp = False\n",
    "\n",
    "    EL0 = -70\n",
    "    vavg0,mes0,vtracs0,vtracsD0,vtracsS0,Ctracs0,me20,me30, trec = simulateSet(model,dis,tG = 100,ton = 50,toffset = 100,t_stop = 500, EL = EL0,btsr = ones(9)==1,VDCC = VDCCa)\n",
    "\n",
    "    vtt = clip(vtracs0-EL0,0,100)\n",
    "    if times_biexp:\n",
    "        times0 = get_atimes(vtt,ton=3000)\n",
    "    else:\n",
    "        times0, tt, trise = get_atimes(vtt,ton=3000)\n",
    "        times0 = get_FWHMtimes(vtt, v0 =0, dt = lb.h.dt)\n",
    "\n",
    "\n",
    "    for i,td in enumerate(tdels):\n",
    "        vavg,mes,vtracs,vtracsD,vtracsS,Ctracs,me2,me3,_ = simulateSet(model,dis,tG = td,ton = 50,toffset = 100,t_stop = 500, EL = EL0,btsr = ones(9)==1,VDCC = VDCCa)\n",
    "\n",
    "        # EPSP in spine head\n",
    "        vtt = clip(vtracs-EL0,0,100)\n",
    "        if times_biexp:\n",
    "            times = get_atimes(vtt,ton=3000)\n",
    "        else:\n",
    "            times, tt, trise = get_atimes(vtt,ton=3000)\n",
    "            times = get_FWHMtimes(vtt, v0 =0, dt = lb.h.dt)\n",
    "\n",
    "        #dtime[i,:2] = (times.mean(),times.std())\n",
    "        dtime[(A2,R)][i,:5] = getint(times/times0)\n",
    "        #dtime[i,2:6] = (tt.mean(),tt.std(),trise.mean(),trise.std())\n",
    "\n",
    "        # EPSP In the soma\n",
    "        vtt = clip(vtracsS-EL0,0,100)\n",
    "        if times_biexp:\n",
    "            times = get_atimes(vtt,ton=3000)\n",
    "        else:\n",
    "            times, tt, trise = get_atimes(vtt,ton=3000)\n",
    "            times = get_FWHMtimes(vtt, v0 =0, dt = lb.h.dt)\n",
    "\n",
    "        #dtime[i,6:8] = (times.mean(),times.std())\n",
    "        dtime[(A2,R)][i,5:10] = getint(times/times0)\n",
    "\n",
    "        # For calcium in spine\n",
    "        vtt = clip(Ctracs,0,100)\n",
    "        if times_biexp:\n",
    "            times = get_atimes(vtt,ton=3000)\n",
    "        else:\n",
    "            times, tt, trise = get_atimes(vtt,ton=3000)\n",
    "            times = get_FWHMtimes(vtt, v0 =0, dt = lb.h.dt)\n",
    "        #dtime[i,8:10] = (times.mean(),times.std())\n",
    "        dtime[(A2,R)][i,10:15] = getint(times/times0)\n",
    "\n",
    "        # Statistics\n",
    "        #data[i,:] = mes.mean(axis=0)\n",
    "        #datt0 = mes[:,1:5]/mes0[:,1:5]\n",
    "        #data2[i,:] = concatenate((datt0.mean(axis=0),datt0.std(axis=0)))\n",
    "        for j in range(1,5):\n",
    "            data[(A2,R)][i,(5*(j-1)):(5*(j))] = getint(mes[:,j])\n",
    "            data2[(A2,R)][i,(5*(j-1)):(5*(j))] = getint(mes[:,j]/mes0[:,j])\n",
    "    with open(\"/mnt/data/inhibition_disx2_supMat_temp.pickle\",\"wb\") as f:\n",
    "        pickle.dump([tdels,data2,data,dtime],f)\n",
    "    print(A2,R)"
   ]
  },
  {
   "cell_type": "code",
   "execution_count": 66,
   "metadata": {},
   "outputs": [
    {
     "data": {
      "text/plain": [
       "(100, 9)"
      ]
     },
     "execution_count": 66,
     "metadata": {},
     "output_type": "execute_result"
    }
   ],
   "source": [
    "mes0.shape"
   ]
  },
  {
   "cell_type": "code",
   "execution_count": 67,
   "metadata": {},
   "outputs": [],
   "source": [
    "with open(\"/mnt/data/inhibition_disx2_supMat.pickle\",\"wb\") as f:\n",
    "    pickle.dump([tdels,data2,data,dtime],f)"
   ]
  },
  {
   "cell_type": "code",
   "execution_count": 73,
   "metadata": {},
   "outputs": [
    {
     "name": "stdout",
     "output_type": "stream",
     "text": [
      "1.0\n",
      "0.8888888888888888\n",
      "0.7777777777777778\n",
      "0.6666666666666666\n",
      "0.5555555555555556\n",
      "0.4444444444444444\n",
      "0.3333333333333333\n"
     ]
    },
    {
     "data": {
      "text/plain": [
       "<matplotlib.legend.Legend at 0x7f4376c09080>"
      ]
     },
     "execution_count": 73,
     "metadata": {},
     "output_type": "execute_result"
    },
    {
     "data": {
      "image/png": "[encoded data removed]",
      "text/plain": [
       "<Figure size 432x288 with 1 Axes>"
      ]
     },
     "metadata": {
      "needs_background": "light"
     },
     "output_type": "display_data"
    }
   ],
   "source": [
    "for i,R in enumerate(Rns):\n",
    "    print((len(Rns)-i+2)/(len(Rns)+2))\n",
    "    plot(tdels,data2[(0.05,R)][:,0],'C1.-',label=R,alpha=(len(Rns)-i+2)/(len(Rns)+2))\n",
    "legend()"
   ]
  },
  {
   "cell_type": "code",
   "execution_count": 71,
   "metadata": {},
   "outputs": [
    {
     "name": "stdout",
     "output_type": "stream",
     "text": [
      "50 : 0.05 50\n",
      "50 : 0.05 100\n",
      "50 : 0.05 200\n",
      "50 : 0.05 300\n",
      "50 : 0.05 500\n",
      "50 : 0.05 750\n",
      "50 : 0.05 1000\n",
      "50 : 0.09 50\n",
      "50 : 0.09 100\n",
      "50 : 0.09 200\n",
      "50 : 0.09 300\n",
      "50 : 0.09 500\n",
      "50 : 0.09 750\n",
      "50 : 0.09 1000\n",
      "50 : 0.1 50\n",
      "50 : 0.1 100\n",
      "50 : 0.1 200\n",
      "50 : 0.1 300\n",
      "50 : 0.1 500\n",
      "50 : 0.1 750\n",
      "50 : 0.1 1000\n",
      "50 : 0.15 50\n",
      "50 : 0.15 100\n",
      "50 : 0.15 200\n",
      "50 : 0.15 300\n",
      "50 : 0.15 500\n",
      "50 : 0.15 750\n",
      "50 : 0.15 1000\n",
      "50 : 0.17 50\n",
      "50 : 0.17 100\n",
      "50 : 0.17 200\n",
      "50 : 0.17 300\n",
      "50 : 0.17 500\n",
      "50 : 0.17 750\n",
      "50 : 0.17 1000\n",
      "50 : 0.2 50\n",
      "50 : 0.2 100\n",
      "50 : 0.2 200\n",
      "50 : 0.2 300\n",
      "50 : 0.2 500\n",
      "50 : 0.2 750\n",
      "50 : 0.2 1000\n",
      "50 : 0.25 50\n",
      "50 : 0.25 100\n",
      "50 : 0.25 200\n",
      "50 : 0.25 300\n",
      "50 : 0.25 500\n",
      "50 : 0.25 750\n",
      "50 : 0.25 1000\n",
      "50 : 0.3 50\n",
      "50 : 0.3 100\n",
      "50 : 0.3 200\n",
      "50 : 0.3 300\n",
      "50 : 0.3 500\n",
      "50 : 0.3 750\n",
      "50 : 0.3 1000\n",
      "100 : 0.05 50\n",
      "100 : 0.05 100\n",
      "100 : 0.05 200\n",
      "100 : 0.05 300\n",
      "100 : 0.05 500\n",
      "100 : 0.05 750\n",
      "100 : 0.05 1000\n",
      "100 : 0.09 50\n",
      "100 : 0.09 100\n",
      "100 : 0.09 200\n",
      "100 : 0.09 300\n",
      "100 : 0.09 500\n",
      "100 : 0.09 750\n",
      "100 : 0.09 1000\n",
      "100 : 0.1 50\n",
      "100 : 0.1 100\n",
      "100 : 0.1 200\n",
      "100 : 0.1 300\n",
      "100 : 0.1 500\n",
      "100 : 0.1 750\n",
      "100 : 0.1 1000\n",
      "100 : 0.15 50\n",
      "100 : 0.15 100\n",
      "100 : 0.15 200\n",
      "100 : 0.15 300\n",
      "100 : 0.15 500\n",
      "100 : 0.15 750\n",
      "100 : 0.15 1000\n",
      "100 : 0.17 50\n",
      "100 : 0.17 100\n",
      "100 : 0.17 200\n",
      "100 : 0.17 300\n",
      "100 : 0.17 500\n",
      "100 : 0.17 750\n",
      "100 : 0.17 1000\n",
      "100 : 0.2 50\n",
      "100 : 0.2 100\n",
      "100 : 0.2 200\n",
      "100 : 0.2 300\n",
      "100 : 0.2 500\n",
      "100 : 0.2 750\n",
      "100 : 0.2 1000\n",
      "100 : 0.25 50\n",
      "100 : 0.25 100\n",
      "100 : 0.25 200\n",
      "100 : 0.25 300\n",
      "100 : 0.25 500\n",
      "100 : 0.25 750\n",
      "100 : 0.25 1000\n",
      "100 : 0.3 50\n",
      "100 : 0.3 100\n",
      "100 : 0.3 200\n",
      "100 : 0.3 300\n",
      "100 : 0.3 500\n",
      "100 : 0.3 750\n",
      "100 : 0.3 1000\n",
      "150 : 0.05 50\n",
      "150 : 0.05 100\n",
      "150 : 0.05 200\n",
      "150 : 0.05 300\n",
      "150 : 0.05 500\n",
      "150 : 0.05 750\n",
      "150 : 0.05 1000\n",
      "150 : 0.09 50\n",
      "150 : 0.09 100\n",
      "150 : 0.09 200\n",
      "150 : 0.09 300\n",
      "150 : 0.09 500\n",
      "150 : 0.09 750\n",
      "150 : 0.09 1000\n",
      "150 : 0.1 50\n",
      "150 : 0.1 100\n",
      "150 : 0.1 200\n",
      "150 : 0.1 300\n",
      "150 : 0.1 500\n",
      "150 : 0.1 750\n",
      "150 : 0.1 1000\n",
      "150 : 0.15 50\n",
      "150 : 0.15 100\n",
      "150 : 0.15 200\n",
      "150 : 0.15 300\n",
      "150 : 0.15 500\n",
      "150 : 0.15 750\n",
      "150 : 0.15 1000\n",
      "150 : 0.17 50\n",
      "150 : 0.17 100\n",
      "150 : 0.17 200\n",
      "150 : 0.17 300\n",
      "150 : 0.17 500\n",
      "150 : 0.17 750\n",
      "150 : 0.17 1000\n",
      "150 : 0.2 50\n",
      "150 : 0.2 100\n",
      "150 : 0.2 200\n",
      "150 : 0.2 300\n",
      "150 : 0.2 500\n",
      "150 : 0.2 750\n",
      "150 : 0.2 1000\n",
      "150 : 0.25 50\n",
      "150 : 0.25 100\n",
      "150 : 0.25 200\n",
      "150 : 0.25 300\n",
      "150 : 0.25 500\n",
      "150 : 0.25 750\n",
      "150 : 0.25 1000\n",
      "150 : 0.3 50\n",
      "150 : 0.3 100\n",
      "150 : 0.3 200\n",
      "150 : 0.3 300\n",
      "150 : 0.3 500\n",
      "150 : 0.3 750\n",
      "150 : 0.3 1000\n",
      "250 : 0.05 50\n",
      "250 : 0.05 100\n",
      "250 : 0.05 200\n",
      "250 : 0.05 300\n",
      "250 : 0.05 500\n",
      "250 : 0.05 750\n",
      "250 : 0.05 1000\n",
      "250 : 0.09 50\n",
      "250 : 0.09 100\n",
      "250 : 0.09 200\n",
      "250 : 0.09 300\n",
      "250 : 0.09 500\n",
      "250 : 0.09 750\n",
      "250 : 0.09 1000\n",
      "250 : 0.1 50\n",
      "250 : 0.1 100\n",
      "250 : 0.1 200\n",
      "250 : 0.1 300\n",
      "250 : 0.1 500\n",
      "250 : 0.1 750\n",
      "250 : 0.1 1000\n",
      "250 : 0.15 50\n",
      "250 : 0.15 100\n",
      "250 : 0.15 200\n",
      "250 : 0.15 300\n",
      "250 : 0.15 500\n",
      "250 : 0.15 750\n",
      "250 : 0.15 1000\n",
      "250 : 0.17 50\n",
      "250 : 0.17 100\n",
      "250 : 0.17 200\n",
      "250 : 0.17 300\n",
      "250 : 0.17 500\n",
      "250 : 0.17 750\n",
      "250 : 0.17 1000\n",
      "250 : 0.2 50\n",
      "250 : 0.2 100\n",
      "250 : 0.2 200\n",
      "250 : 0.2 300\n",
      "250 : 0.2 500\n",
      "250 : 0.2 750\n",
      "250 : 0.2 1000\n",
      "250 : 0.25 50\n",
      "250 : 0.25 100\n",
      "250 : 0.25 200\n",
      "250 : 0.25 300\n",
      "250 : 0.25 500\n",
      "250 : 0.25 750\n",
      "250 : 0.25 1000\n",
      "250 : 0.3 50\n",
      "250 : 0.3 100\n",
      "250 : 0.3 200\n",
      "250 : 0.3 300\n",
      "250 : 0.3 500\n",
      "250 : 0.3 750\n",
      "250 : 0.3 1000\n",
      "500 : 0.05 50\n",
      "500 : 0.05 100\n",
      "500 : 0.05 200\n",
      "500 : 0.05 300\n",
      "500 : 0.05 500\n",
      "500 : 0.05 750\n",
      "500 : 0.05 1000\n",
      "500 : 0.09 50\n",
      "500 : 0.09 100\n",
      "500 : 0.09 200\n",
      "500 : 0.09 300\n",
      "500 : 0.09 500\n",
      "500 : 0.09 750\n",
      "500 : 0.09 1000\n",
      "500 : 0.1 50\n",
      "500 : 0.1 100\n",
      "500 : 0.1 200\n",
      "500 : 0.1 300\n",
      "500 : 0.1 500\n",
      "500 : 0.1 750\n",
      "500 : 0.1 1000\n",
      "500 : 0.15 50\n",
      "500 : 0.15 100\n",
      "500 : 0.15 200\n",
      "500 : 0.15 300\n",
      "500 : 0.15 500\n",
      "500 : 0.15 750\n",
      "500 : 0.15 1000\n",
      "500 : 0.17 50\n",
      "500 : 0.17 100\n",
      "500 : 0.17 200\n",
      "500 : 0.17 300\n",
      "500 : 0.17 500\n",
      "500 : 0.17 750\n",
      "500 : 0.17 1000\n",
      "500 : 0.2 50\n",
      "500 : 0.2 100\n",
      "500 : 0.2 200\n",
      "500 : 0.2 300\n",
      "500 : 0.2 500\n",
      "500 : 0.2 750\n",
      "500 : 0.2 1000\n",
      "500 : 0.25 50\n",
      "500 : 0.25 100\n",
      "500 : 0.25 200\n",
      "500 : 0.25 300\n",
      "500 : 0.25 500\n",
      "500 : 0.25 750\n",
      "500 : 0.25 1000\n",
      "500 : 0.3 50\n",
      "500 : 0.3 100\n",
      "500 : 0.3 200\n",
      "500 : 0.3 300\n",
      "500 : 0.3 500\n",
      "500 : 0.3 750\n",
      "500 : 0.3 1000\n"
     ]
    }
   ],
   "source": [
    "A2s = [0.05,0.09,0.1,0.15,0.17,0.2,0.25,0.3]\n",
    "Rns = [50,100,200,300,500,750,1000]\n",
    "pars = [[x,y] for x in A2s for y in Rns]\n",
    "\n",
    "Ras = [50,100,150,250,500]\n",
    "\n",
    "fulld = {}\n",
    "\n",
    "for ra in Ras:\n",
    "    for dend in model.dend:\n",
    "        dend.Ra = ra*1.0\n",
    "    dtime = {}\n",
    "    data = {}\n",
    "    data2 = {}\n",
    "\n",
    "    for A2,R in pars:\n",
    "        dis['A2'] = A2+dA2*0\n",
    "        dis['Rneck'] = R+dRneck*0\n",
    "\n",
    "        tdels = [-49,-30,-20,-15,-10,-7.5,-5,-3.5,-2,-1,-0.5,0,0.5,1.0,2.0,2.75,3.5,5.0,7.5,10.0,15.0,20.,30.,50]\n",
    "        dtime[(A2,R)] = zeros((len(tdels),15))\n",
    "        data[(A2,R)] = zeros((len(tdels),20))\n",
    "        data2[(A2,R)] = zeros((len(tdels),20))\n",
    "\n",
    "        times_biexp = False\n",
    "\n",
    "        EL0 = -70\n",
    "        vavg0,mes0,vtracs0,vtracsD0,vtracsS0,Ctracs0,me20,me30, trec = simulateSet(model,dis,tG = 100,ton = 50,toffset = 100,t_stop = 500, EL = EL0,btsr = ones(9)==1,VDCC = VDCCa)\n",
    "\n",
    "        vtt = clip(vtracs0-EL0,0,100)\n",
    "        if times_biexp:\n",
    "            times0 = get_atimes(vtt,ton=3000)\n",
    "        else:\n",
    "            times0, tt, trise = get_atimes(vtt,ton=3000)\n",
    "            times0 = get_FWHMtimes(vtt, v0 =0, dt = lb.h.dt)\n",
    "\n",
    "\n",
    "        for i,td in enumerate(tdels):\n",
    "            vavg,mes,vtracs,vtracsD,vtracsS,Ctracs,me2,me3,_ = simulateSet(model,dis,tG = td,ton = 50,toffset = 100,t_stop = 500, EL = EL0,btsr = ones(9)==1,VDCC = VDCCa)\n",
    "\n",
    "            # EPSP in spine head\n",
    "            vtt = clip(vtracs-EL0,0,100)\n",
    "            if times_biexp:\n",
    "                times = get_atimes(vtt,ton=3000)\n",
    "            else:\n",
    "                times, tt, trise = get_atimes(vtt,ton=3000)\n",
    "                times = get_FWHMtimes(vtt, v0 =0, dt = lb.h.dt)\n",
    "\n",
    "            #dtime[i,:2] = (times.mean(),times.std())\n",
    "            dtime[(A2,R)][i,:5] = getint(times/times0)\n",
    "            #dtime[i,2:6] = (tt.mean(),tt.std(),trise.mean(),trise.std())\n",
    "\n",
    "            # EPSP In the soma\n",
    "            vtt = clip(vtracsS-EL0,0,100)\n",
    "            if times_biexp:\n",
    "                times = get_atimes(vtt,ton=3000)\n",
    "            else:\n",
    "                times, tt, trise = get_atimes(vtt,ton=3000)\n",
    "                times = get_FWHMtimes(vtt, v0 =0, dt = lb.h.dt)\n",
    "\n",
    "            #dtime[i,6:8] = (times.mean(),times.std())\n",
    "            dtime[(A2,R)][i,5:10] = getint(times/times0)\n",
    "\n",
    "            # For calcium in spine\n",
    "            vtt = clip(Ctracs,0,100)\n",
    "            if times_biexp:\n",
    "                times = get_atimes(vtt,ton=3000)\n",
    "            else:\n",
    "                times, tt, trise = get_atimes(vtt,ton=3000)\n",
    "                times = get_FWHMtimes(vtt, v0 =0, dt = lb.h.dt)\n",
    "            #dtime[i,8:10] = (times.mean(),times.std())\n",
    "            dtime[(A2,R)][i,10:15] = getint(times/times0)\n",
    "\n",
    "            # Statistics\n",
    "            #data[i,:] = mes.mean(axis=0)\n",
    "            #datt0 = mes[:,1:5]/mes0[:,1:5]\n",
    "            #data2[i,:] = concatenate((datt0.mean(axis=0),datt0.std(axis=0)))\n",
    "            for j in range(1,5):\n",
    "                data[(A2,R)][i,(5*(j-1)):(5*(j))] = getint(mes[:,j])\n",
    "                data2[(A2,R)][i,(5*(j-1)):(5*(j))] = getint(mes[:,j]/mes0[:,j])\n",
    "        fulld[ra] = [tdels,data2,data,dtime]\n",
    "        with open(\"/mnt/data/inhibition_disx2_supMat_F_temp.pickle\",\"wb\") as f:\n",
    "            pickle.dump(fulld,f)\n",
    "        print(ra,':',A2,R)"
   ]
  },
  {
   "cell_type": "code",
   "execution_count": 72,
   "metadata": {},
   "outputs": [],
   "source": [
    "with open(\"/mnt/data/inhibition_disx2_supMat_F.pickle\",\"wb\") as f:\n",
    "    pickle.dump(fulld,f)"
   ]
  },
  {
   "cell_type": "code",
   "execution_count": 79,
   "metadata": {},
   "outputs": [
    {
     "data": {
      "text/plain": [
       "81.41118164552006"
      ]
     },
     "execution_count": 79,
     "metadata": {},
     "output_type": "execute_result"
    }
   ],
   "source": [
    "dis['Dss'].mean()"
   ]
  },
  {
   "cell_type": "code",
   "execution_count": null,
   "metadata": {},
   "outputs": [],
   "source": []
  }
 ],
 "metadata": {
  "kernelspec": {
   "display_name": "neuron",
   "language": "python",
   "name": "neuron"
  },
  "language_info": {
   "codemirror_mode": {
    "name": "ipython",
    "version": 3
   },
   "file_extension": ".py",
   "mimetype": "text/x-python",
   "name": "python",
   "nbconvert_exporter": "python",
   "pygments_lexer": "ipython3",
   "version": "3.6.5"
  }
 },
 "nbformat": 4,
 "nbformat_minor": 2
}
