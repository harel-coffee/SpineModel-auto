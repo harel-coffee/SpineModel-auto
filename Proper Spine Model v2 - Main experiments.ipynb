{
 "cells": [
  {
   "cell_type": "markdown",
   "metadata": {},
   "source": [
    "# Spine Model\n"
   ]
  },
  {
   "cell_type": "code",
   "execution_count": 1,
   "metadata": {},
   "outputs": [
    {
     "name": "stdout",
     "output_type": "stream",
     "text": [
      "\t0 \n",
      "\t1 \n",
      "\t1 \n",
      "\t1 \n",
      "\t1 \n",
      "20.0 29.78380012512207 1871.3713533814052 15.707963267948966\n",
      "Topology:\n",
      "\n",
      "|-|       soma(0-1)\n",
      "   `|       dendA1prox(0-1)\n",
      "     `|       dendA1(0-1)\n",
      "       `|       dendShaft(0-1)\n",
      "         `|       dendA2(0-1)\n",
      "        `|       NSpne000(0-1)\n",
      "          `|       Spne000(0-1)\n",
      "   `|       dendB1(0-1)\n",
      "\n",
      "1.0\n"
     ]
    }
   ],
   "source": [
    "from numpy import *   #ones, cumsum, sum, isscalar\n",
    "from matplotlib.pylab import * \n",
    "%matplotlib inline\n",
    "plotose = True\n",
    "import pickle\n",
    "\n",
    "import PS_lib as lb\n",
    "import PS_storage as st\n",
    "import PS_tools as tools\n",
    "\n",
    "from bootstrap import btset_cd, generateplots, btShInh, btShInhwpos\n",
    "from data_Fullset import SCxL23 as exppar\n",
    "\n",
    "# Parameter definitions\n",
    "# Data is stored here      \n",
    "data = st.dataStorage() # some default parameters defined.\n",
    "data.dt = 0.05\n",
    "data.NMDA = False\n",
    "\n",
    "# Definition of the model.\n",
    "lb.h.dt = data.dt\n",
    "NMDA = data.NMDA\n",
    "model = lb.loadNeuron(\"ball-2sticks.hoc\",axon=False)\n",
    "\n",
    "# Adding piece of dendritic branch with spine\n",
    "model.addDend(name=\"dendShaft\",locus=\"dendA1\",L=4.0,D=1.5,ilocus=1)\n",
    "model.addSpne(locus=\"dendShaft\",ilocus=0.5,L=1.0,D=1.0,Lneck=1.0,Dneck=0.15)\n",
    "# Temperature of the neuron\n",
    "lb.h.celsius = model.temperature\n",
    "model.addDend(name=\"dendA2\",locus=3,L=10.0,D=0.5,ilocus=1)\n",
    "data.model = model.__dict__\n",
    "\n",
    "model.soma.L = 20\n",
    "#model.comp['B1'].L = 200\n",
    "#model.comp['B1'].diam = 10\n",
    "print(model.soma.L,model.soma.diam,model.soma(0.5).area(),model.dend[-1](0.5).area())\n",
    "\n",
    "print(\"Topology:\")\n",
    "print(lb.h.topology())\n",
    "\n"
   ]
  },
  {
   "cell_type": "code",
   "execution_count": 2,
   "metadata": {},
   "outputs": [],
   "source": [
    "import PS_tools as tools\n"
   ]
  },
  {
   "cell_type": "markdown",
   "metadata": {},
   "source": [
    "### Bootstrapping spines and synapses\n",
    "\n"
   ]
  },
  {
   "cell_type": "code",
   "execution_count": 3,
   "metadata": {
    "scrolled": false
   },
   "outputs": [
    {
     "name": "stdout",
     "output_type": "stream",
     "text": [
      "Area Volume Ah Vh\n",
      "1.5846873579403795 0.30008711791347203 1.1851247295440352 0.23705851178363305\n"
     ]
    }
   ],
   "source": [
    "nsp = 500\n",
    "dis = btset_cd(cd='DiS',size=nsp)\n",
    "sis = btset_cd(cd='SiS',size=nsp)\n",
    "sps = btset_cd(cd='Sp',size=nsp)\n",
    "\n",
    "dis['Rneck'] = dis['Rneck']#*2\n",
    "sis['Rneck'] = sis['Rneck']#*2\n",
    "sps['Rneck'] = sps['Rneck']#*2\n",
    "\n",
    "iPSDsh = btShInh(size=nsp)\n",
    "\n",
    "\n",
    "sp = model.spne[0]\n",
    "sp.L = dis[\"L\"].mean()\n",
    "sp.diam = dis[\"D\"].mean()\n",
    "\n",
    "print(\"Area Volume Ah Vh\")\n",
    "print(sp(0.5).area(),sp(0.5).volume(),dis[\"Ah\"][0]/dis[\"AhA0\"][0],dis[\"Vh\"][0])"
   ]
  },
  {
   "cell_type": "code",
   "execution_count": 4,
   "metadata": {},
   "outputs": [],
   "source": [
    "gtrG = exppar.gtrG\n",
    "gtrA = exppar.gtrA\n",
    "gtrN = exppar.gtrN\n"
   ]
  },
  {
   "cell_type": "markdown",
   "metadata": {},
   "source": [
    "### Excitatory synapse \n",
    "\n",
    "We need to define the arrival time and dynamics. These parameters may be modified later"
   ]
  },
  {
   "cell_type": "code",
   "execution_count": 5,
   "metadata": {},
   "outputs": [],
   "source": [
    "model.AMPAlist = []\n",
    "model.ncAMPAlist = []\n",
    "\n",
    "AMPA = lb.h.Exp2Syn(1,sec = model.spne[0])\n",
    "tau1  = exppar.AMPAtaus[0]\n",
    "tau2 = exppar.AMPAtaus[1]\n",
    "AMPA.tau1 = tau1\n",
    "AMPA.tau2 = tau2\n",
    "\n",
    "gmax = gtrA*sps['A1'].mean()\n",
    "stimE=lb.h.NetStim();stimE.number = 1; \n",
    "NC = lb.h.NetCon(stimE,AMPA,0,0,gmax)\n",
    "\n",
    "model.AMPAlist.append(AMPA)\n",
    "model.ncAMPAlist.append(NC)\n",
    "NC.delay = 10\n",
    "\n",
    "# NMDA part\n",
    "gmaxN = gtrN*sps['A1'].mean()\n",
    "lb.add_NMDAsyns(model, locs=[[0,0.5]], gmax=gmaxN,tau2=20.0)  \n",
    "NMDA = model.NMDAlist[0]\n",
    "NCN = model.ncNMDAlist[0]\n",
    "stimN=lb.h.NetStim();stimN.number = 1;\n",
    "NCN = lb.h.NetCon(stimN,NMDA,0,0,gmaxN)\n",
    "model.ncNMDAlist[0] = NCN\n",
    "NMDA.tau1 = exppar.NMDAtaus[0]\n",
    "NMDA.tau2 = exppar.NMDAtaus[1]"
   ]
  },
  {
   "cell_type": "markdown",
   "metadata": {},
   "source": [
    "### Inhibitory synapse"
   ]
  },
  {
   "cell_type": "code",
   "execution_count": 6,
   "metadata": {},
   "outputs": [],
   "source": [
    "gmaxG = gtrG*dis['A2'].mean()\n",
    "GABA, NCG = lb.add_GABAsyns(model, locs=[[0,1]], spne=True, gmax=gmaxG,tau1=exppar.GABAtaus[0],tau2=exppar.GABAtaus[1])  \n",
    "\n",
    "\n",
    "inhOutside = exppar.inhOutside\n",
    "if inhOutside:\n",
    "    gmaxG = gtrG*iPSDsh.mean()\n",
    "    GABA2, NCG2 = lb.add_GABAsynscomp(model, model.comp['dendShaft'], loc = 0.1, gmax=gmaxG,tau1=exppar.GABAtaus[0],tau2=exppar.GABAtaus[1])  \n"
   ]
  },
  {
   "cell_type": "markdown",
   "metadata": {},
   "source": [
    "# Recordings"
   ]
  },
  {
   "cell_type": "code",
   "execution_count": 7,
   "metadata": {},
   "outputs": [],
   "source": [
    "trec, vrec = lb.h.Vector(), lb.h.Vector()\n",
    "gRec, iRec,  vspneRec = [], [], []\n",
    "gNMDA_rec, iNMDA_rec = [], []\n",
    "trec.record(lb.h._ref_t)\n",
    "vrec.record(model.soma(0.5)._ref_v)\n",
    "\n",
    "\n",
    "#n=0\n",
    "vDendRec = []\n",
    "vRecn = {}\n",
    "#For all dendrites\n",
    "for dend in model.dend:\n",
    "    #Adding vectors for Voltage, and Calcium\n",
    "    vDendRec.append(lb.h.Vector())\n",
    "    # Placing recording at mid-point in the dendritic branch\n",
    "    vDendRec[-1].record(dend(0.5)._ref_v)\n",
    "    vRecn[dend.name()] = vDendRec[-1]\n",
    "    # NO CALCIUM!?!?!\n",
    "#Probably better to organize them in a dictionary        \n",
    "vDendRec[1].record(model.dend[1](1.0)._ref_v)\n",
    "\n",
    "# Spine voltage recording stuff\n",
    "vspneRec.append(lb.h.Vector())\n",
    "vspneRec.append(lb.h.Vector())\n",
    "sp = model.spne[0]\n",
    "vspneRec[0].record(sp(0.5)._ref_v)\n",
    "sp = model.neck[0]\n",
    "vspneRec[1].record(sp(0.5)._ref_v)\n",
    "\n",
    "# Calcim\n",
    "\n",
    "caDendRec = []\n",
    "caRecn = {}\n",
    "sp = model.spne[0]\n",
    "caDendRec.append(lb.h.Vector())\n",
    "caDendRec.append(lb.h.Vector())\n",
    "caDendRec.append(lb.h.Vector())\n",
    "caDendRec[0].record(sp(0.5)._ref_ica) \n",
    "caDendRec[1].record(model.NMDAlist[0]._ref_i)\n",
    "caDendRec[2].record(sp(1.0)._ref_cai) \n",
    "caRecn['sp ica'] = caDendRec[0]\n",
    "caRecn['sp iNMDA'] = caDendRec[1]\n",
    "caRecn['sp Ca'] = caDendRec[2]\n"
   ]
  },
  {
   "cell_type": "code",
   "execution_count": 8,
   "metadata": {},
   "outputs": [],
   "source": [
    "vDendEL = []\n",
    "dend = model.dend[1]\n",
    "for i in range(10):\n",
    "    vDendEL.append(lb.h.Vector())\n",
    "    vDendEL[-1].record(dend((i+1.0)/10.0)._ref_v)"
   ]
  },
  {
   "cell_type": "code",
   "execution_count": 9,
   "metadata": {},
   "outputs": [],
   "source": [
    "vDendEL2 = []\n",
    "dend = model.dend[-1]\n",
    "for i in range(10):\n",
    "    vDendEL2.append(lb.h.Vector())\n",
    "    vDendEL2[-1].record(dend((i+1.0)/10.0)._ref_v)"
   ]
  },
  {
   "cell_type": "code",
   "execution_count": 10,
   "metadata": {},
   "outputs": [
    {
     "data": {
      "text/plain": [
       "Vector[34]"
      ]
     },
     "execution_count": 10,
     "metadata": {},
     "output_type": "execute_result"
    }
   ],
   "source": [
    "iRec.append(lb.h.Vector())\n",
    "iRec.append(lb.h.Vector())\n",
    "currentAMPA = iRec[0]\n",
    "\n",
    "currentGABA = iRec[1]\n",
    "iRec.append(lb.h.Vector())\n",
    "currentNMDA = iRec[-1]\n",
    "currentNMDA.record(NMDA._ref_i)\n"
   ]
  },
  {
   "cell_type": "code",
   "execution_count": 11,
   "metadata": {
    "scrolled": true
   },
   "outputs": [
    {
     "data": {
      "text/plain": [
       "Vector[33]"
      ]
     },
     "execution_count": 11,
     "metadata": {},
     "output_type": "execute_result"
    }
   ],
   "source": [
    "currentAMPA.record(AMPA._ref_i)\n",
    "currentGABA.record(GABA._ref_i)"
   ]
  },
  {
   "cell_type": "code",
   "execution_count": 12,
   "metadata": {},
   "outputs": [
    {
     "data": {
      "text/plain": [
       "Vector[35]"
      ]
     },
     "execution_count": 12,
     "metadata": {},
     "output_type": "execute_result"
    }
   ],
   "source": [
    "iRec.append(lb.h.Vector())\n",
    "currentGABA2 = iRec[-1]\n",
    "currentGABA2.record(GABA2._ref_i)\n"
   ]
  },
  {
   "cell_type": "markdown",
   "metadata": {},
   "source": [
    "## Small tuning parameters for dendrite?"
   ]
  },
  {
   "cell_type": "code",
   "execution_count": 13,
   "metadata": {},
   "outputs": [],
   "source": [
    "dendsizeL0 = exppar.dendsizeL0\n",
    "dendsizeL = max(max(max(dis['Dss'])+5,max(sis['Dss'])+5),150)\n",
    "neck = model.neck[0]\n",
    "Rneck = neck.L*1e-6/(neck.diam*1e-6/2.0)**2/pi*neck.Ra/100\n",
    "dend = model.comp['dendA1prox']\n",
    "dend.L = exppar.dendsizeL0\n",
    "dend.diam = exppar.denddiam0"
   ]
  },
  {
   "cell_type": "code",
   "execution_count": 14,
   "metadata": {},
   "outputs": [],
   "source": [
    "dendA2 = model.comp['dendA2']\n",
    "dendA1 = model.comp['dendA1']\n",
    "dendsh = model.comp['dendShaft']\n",
    "\n",
    "dendA2.L = 1.0"
   ]
  },
  {
   "cell_type": "code",
   "execution_count": 15,
   "metadata": {},
   "outputs": [],
   "source": [
    "dendsh.diam = exppar.dendDiam\n",
    "dendA1.diam = exppar.dendDiam\n",
    "dendA2.diam = exppar.dendDiam   "
   ]
  },
  {
   "cell_type": "code",
   "execution_count": 16,
   "metadata": {},
   "outputs": [],
   "source": [
    "model.RM = exppar.rm\n",
    "for sec in lb.h.allsec():\n",
    "    sec.Ra = exppar.ra\n",
    "    sec.cm = 1.0\n",
    "    sec.g_pas = 1.0/model.RM\n",
    "\n",
    "factor = exppar.factor2nddend\n",
    "model.comp['dendB1'].cm = factor\n",
    "model.comp['dendB1'].g_pas = factor/model.RM\n",
    "model.comp['dendB1'].L = exppar.len2nddend\n",
    "model.comp['dendB1'].diam = 1"
   ]
  },
  {
   "cell_type": "code",
   "execution_count": 17,
   "metadata": {},
   "outputs": [
    {
     "name": "stdout",
     "output_type": "stream",
     "text": [
      "2.6648583724596993\n",
      "0.9777402325350448 3.642598604994744\n"
     ]
    }
   ],
   "source": [
    "rhosp = 1.3\n",
    "diamneck = sps['meanDneck'].mean()/1e3\n",
    "dendareaperL = rhosp*(mean(sps['Ah'])+(pi*diamneck))\n",
    "factor = dendareaperL/(pi*dendA1.diam)\n",
    "print(factor)\n",
    "factorsp = factor\n",
    "factordd = (pi*dendA1.diam-(pi*diamneck**2/4.0)*rhosp)/(pi*dendA1.diam)\n",
    "print(factordd,factordd+factorsp)\n",
    "\n",
    "factor = factordd+factorsp\n",
    "factor = exppar.factorspinesdend\n",
    "dendA2.cm = factor\n",
    "dendA1.cm = factor\n",
    "\n",
    "dendA2.g_pas = factor/model.RM\n",
    "dendA1.g_pas = factor/model.RM"
   ]
  },
  {
   "cell_type": "code",
   "execution_count": 18,
   "metadata": {},
   "outputs": [
    {
     "name": "stdout",
     "output_type": "stream",
     "text": [
      "10 10\n"
     ]
    }
   ],
   "source": [
    "dendA1.nseg = int(dendA1.L//10)+1\n",
    "dendA2.nseg = int(dendA2.L//10)+1\n",
    "\n",
    "dendA1.nseg = 10\n",
    "dendA2.nseg = 10\n",
    "print(dendA1.nseg,dendA2.nseg)"
   ]
  },
  {
   "cell_type": "code",
   "execution_count": 19,
   "metadata": {},
   "outputs": [],
   "source": [
    "lb.init_active(model, axon=False, soma=False, dend=False, dendNa=False,\n",
    "                dendCa=False,spne=True)"
   ]
  },
  {
   "cell_type": "code",
   "execution_count": 20,
   "metadata": {
    "scrolled": false
   },
   "outputs": [],
   "source": [
    "Rdendprox = model.comp['dendA1prox'].L*1e-6/2.0*model.comp['dendA1prox'].Ra/100/(pi*(model.comp['dendA1prox'].diam*1e-6/2.0)**2)\n",
    "diam0 = 0.15\n",
    "\n",
    "def simulateSet(model,spn,tG = 500,ton = 50,\n",
    "                toffset = 50,t_stop = 250, EL = -65,\n",
    "                btsr = None,VDCC = array([0.,0,0,0]), \n",
    "                dendrec = True,inhOutside= False, iPSDsh = None):\n",
    "    if btsr is None:\n",
    "        btsr = ones(9)==0\n",
    "    model.E_PAS = EL\n",
    "    model.soma.e_pas = model.E_PAS\n",
    "    for dendp in model.dend:\n",
    "        dendp.e_pas = model.E_PAS\n",
    "    for sp in model.spne:\n",
    "        sp.e_pas = model.E_PAS\n",
    "\n",
    "    dendsh = model.comp['dendShaft']\n",
    "    dendA1 = model.comp['dendA1']\n",
    "    dendA2 = model.comp['dendA2']\n",
    "    neck = model.neck[0]\n",
    "    sp = model.spne[0]\n",
    "\n",
    "    dshL = dendsh.L\n",
    "    dendsizeL = dendsh.L+dendA1.L+dendA2.L\n",
    "    data = column_stack((spn[\"A1\"],spn[\"A1\"],spn[\"A2\"],spn[\"Rneck\"],spn[\"Dss\"],spn[\"L\"],spn[\"D\"],spn[\"Ln\"],spn[\"AhA0\"], spn[\"meanDneck\"]/1e3))\n",
    "    if isnan(data).sum()>0:\n",
    "        raise \"There are nans do something about it\"\n",
    "    for i in range(9):\n",
    "        if ~btsr[i]:\n",
    "            data[:,i] = data[:,i].mean()\n",
    "         \n",
    "    nsp = data.shape[0]\n",
    "    if iPSDsh is None:\n",
    "        iPSDsh = zeros(nsp)\n",
    "    mes = zeros((nsp,9))\n",
    "    me2 = zeros((nsp,11))\n",
    "    me3 = zeros((nsp,10))\n",
    "\n",
    "    iad = 2\n",
    "    vavg = zeros((int(t_stop/lb.h.dt)+iad,7))\n",
    "    vtracs = zeros((int(t_stop/lb.h.dt)+iad,nsp))\n",
    "    Ctracs = zeros((int(t_stop/lb.h.dt)+iad,nsp))\n",
    "    vtracsD = zeros((int(t_stop/lb.h.dt)+iad,nsp))\n",
    "    vtracsS = zeros((int(t_stop/lb.h.dt)+iad,nsp))\n",
    "    for i in arange(nsp):\n",
    "        NC.weight[0]  = data[i,0] *gtrA#/2\n",
    "        NCN.weight[0] = data[i,1] *gtrN#*0#*0\n",
    "        NCG.weight[0] = data[i,2] *gtrG#*0\n",
    "        NCG2.weight[0] = iPSDsh[i] *gtrG#*0\n",
    "\n",
    "        if inhOutside:\n",
    "            NCG.weight[0] = 0.0\n",
    "        else:\n",
    "            NCG2.weight[0] = 0.0\n",
    "                    \n",
    "        neck.L = data[i,7]  \n",
    "        Rneck0 = neck.Ra*neck.L/(diam0)**2*0.04/pi\n",
    "        #print(Rneck0,data[i,3])\n",
    "        neck.diam = diam0*sqrt(Rneck0/data[i,3])\n",
    "        \n",
    "        # neck.diam = data[i,9]\n",
    "        # Rneck = neck.Ra*neck.L/(neck.diam)**2*0.04/pi\n",
    "        # neck.Ra = data[i,3]*(neck.diam)**2*pi/0.04/neck.L\n",
    "        \n",
    "        posD = data[i,4]\n",
    "        \n",
    "        dendA1.L = posD-dshL/2\n",
    "        dendA2.L = dendsizeL-posD-dshL/2\n",
    "\n",
    "        \n",
    "        # A = pi*D**2\n",
    "        sp.L = data[i,5]\n",
    "        sp.diam = data[i,6]\n",
    "        sp.cm = data[i,8]\n",
    "        sp.g_pas = data[i,8]/model.RM\n",
    "        spvol = sp(0.5).volume()\n",
    "        spineArea =  sp(0.5).area()#sp.L*sp.diam+1.8*sp.diam**2/4 # um^2\n",
    "        \n",
    "        CaTcond = 1e-3# pS\n",
    "        sp.pbar_caL13PS = VDCC[0]*CaTcond#/spineArea\n",
    "        sp.pbar_caLPS = VDCC[1]*CaTcond#/spineArea\n",
    "        sp.pbar_canPS = VDCC[2]*CaTcond#/spineArea\n",
    "        sp.pcaqbar_caqPS = VDCC[3]*CaTcond#/spineArea\n",
    "        \n",
    "        \n",
    "        NC.delay = toffset+ton-50\n",
    "        NCN.delay = toffset+ton-50\n",
    "        NCG.delay = toffset+tG#toffset+tG#-50\n",
    "        NCG2.delay = toffset+tG#toffset+tG#-50\n",
    "\n",
    "        for il in range(10):\n",
    "            f = 1-7.5*il/dendA1.L\n",
    "            #f = 0.5\n",
    "            if f>=0:\n",
    "                vDendEL[il].record(dendA1(f)._ref_v)\n",
    "            else:\n",
    "                vDendEL[il].record(dendA1(0.0)._ref_v)\n",
    "        \n",
    "        for il in range(10):\n",
    "            f = 7.5*il/dendA2.L\n",
    "            #f = 0.5\n",
    "            if f<=1:\n",
    "                vDendEL2[il].record(dendA2(f)._ref_v)\n",
    "            else:\n",
    "                vDendEL2[il].record(dendA2(1.0)._ref_v)\n",
    "                \n",
    "        lb.h.finitialize(model.E_PAS)\n",
    "        \n",
    "                    \n",
    "        lb.neuron.run(t_stop)\n",
    "        \n",
    "        \n",
    "        current = abs((array(vDendRec[0])-array(vrec[0]))/Rdendprox)\n",
    "        \n",
    "        vtracs[:,i] = array(vspneRec[0]) \n",
    "        if dendrec:\n",
    "            vtracsD[:,i] = array(vDendRec[1])\n",
    "        else:\n",
    "            vtracsD[:,i] = array(vDendEL[2])\n",
    "            \n",
    "        vtracsS[:,i] = array(vrec) \n",
    "\n",
    "        vavg[:,0] += array(vspneRec[0]) \n",
    "        vavg[:,1] += array(vspneRec[0])**2\n",
    "        vavg[:,2] += array(vDendRec[1]) \n",
    "        vavg[:,3] += array(vDendRec[1])**2\n",
    "        vavg[:,4] += array(vrec) \n",
    "        vavg[:,5] += array(vrec)**2\n",
    "        vavg[:,6] += 1\n",
    "            \n",
    "        cat = array(caDendRec[-1])/1e-3\n",
    "        Ctracs[:,i] = cat-cat[0] \n",
    "        if inhOutside:\n",
    "            aG = abs(array(currentGABA2)).argmax()\n",
    "            maxGABA = array(currentGABA2)[aG]\n",
    "        else:\n",
    "            aG = abs(array(currentGABA)).argmax()\n",
    "            maxGABA = array(currentGABA)[aG]\n",
    "\n",
    "            \n",
    "        #aG = abs(array(currentGABA)).argmax()\n",
    "        aA = abs(array(currentAMPA)).argmax()\n",
    "        aN = abs(array(currentNMDA)).argmax()\n",
    "        \n",
    "        mes[i,:] = [data[i,3],max(vspneRec[0])-EL,\n",
    "                    max(vDendRec[3])-EL,max(vrec)-EL,\n",
    "                    max(cat)-cat[0],maxGABA,\n",
    "                    array(currentAMPA)[aA],max(abs(current)),\n",
    "                    array(currentNMDA)[aN]]\n",
    "        me2[i,0] = max(vDendRec[3])\n",
    "        me2[i,1:] = [max(vD) for vD in vDendEL]\n",
    "        me3[i,:] = [max(vD) for vD in vDendEL2]\n",
    "\n",
    "        #plot(trec,array(caDendRec[-1])/1e-3)\n",
    "        #ylabel(\"[Ca] (uM)\")\n",
    "        #figure()\n",
    "        #plot(trec,vspneRec[0])\n",
    "        #break\n",
    "        \n",
    "    vavg[:,:5] = vavg[:,:5]/vavg[0,6]\n",
    "    vavg[:,1] = sqrt(vavg[:,1]-vavg[:,0]**2)#/sqrt(vavg[0,6])\n",
    "    vavg[:,3] = sqrt(vavg[:,3]-vavg[:,2]**2)#/sqrt(vavg[0,6])\n",
    "    vavg[:,5] = sqrt(vavg[:,5]-vavg[:,4]**2)#/sqrt(vavg[0,6])\n",
    "    return(vavg,mes,vtracs,vtracsD,vtracsS,\n",
    "           Ctracs,me2,me3,array(trec))"
   ]
  },
  {
   "cell_type": "code",
   "execution_count": 21,
   "metadata": {},
   "outputs": [],
   "source": [
    "VDCCa =  array([0.04023183, 0.08000483, 0.03416801, 0.02747762] )\n",
    "EL0 = -70"
   ]
  },
  {
   "cell_type": "code",
   "execution_count": 22,
   "metadata": {
    "scrolled": true
   },
   "outputs": [],
   "source": [
    "#vavg0,mes0,vtracs0,vtracsD0,vtracsS0,Ctracs0,me20,me30, trec = simulateSet(model,dis,tG = 100,ton = 50,toffset = 100,t_stop = 500, EL = EL0,btsr = ones(9)==1,VDCC = VDCCa, dendrec=False)\n",
    "#plot(arange(vtracs0.shape[0])*lb.h.dt,vtracs0[:,0])"
   ]
  },
  {
   "cell_type": "code",
   "execution_count": 23,
   "metadata": {},
   "outputs": [],
   "source": [
    "from PS_tools import *"
   ]
  },
  {
   "cell_type": "markdown",
   "metadata": {},
   "source": [
    "# Baseline conditions"
   ]
  },
  {
   "cell_type": "code",
   "execution_count": 24,
   "metadata": {},
   "outputs": [
    {
     "name": "stderr",
     "output_type": "stream",
     "text": [
      "/export/home1/users/bssn/serna/environments/neuron/lib/python3.6/site-packages/pandas/core/computation/expressions.py:183: UserWarning: evaluating in Python space because the '*' operator is not supported by numexpr for the bool dtype, use '&' instead\n",
      "  .format(op=op_str, alt_op=unsupported[op_str]))\n"
     ]
    }
   ],
   "source": [
    "from bootstrap import dataset,datasetfile\n",
    "with open(datasetfile,\"rb\") as f:\n",
    "    data = pickle.load(f)\n",
    "spdata = dataset(data,noise=0.0)\n",
    "spdata['A2'][isnan(spdata['A2'])] = 0.0\n",
    "#spdata['Rneck'] = spdata['Rneck']\n",
    "\n",
    "sel = ones(spdata['A2'].shape[0]) == 1\n",
    "keys = list(spdata.keys())\n",
    "keys.pop(12)\n",
    "keys.pop(11)\n",
    "keys.pop(7)\n",
    "keys.pop(3)\n",
    "\n",
    "for key in keys:\n",
    "    sel = sel*isfinite(spdata[key])\n",
    "    \n",
    "for key in spdata.keys():\n",
    "    spdata[key] = spdata[key][sel]\n",
    "    #print(key,':',isfinite(spdata[key]).sum())\n",
    "dendsizeL = max(max(spdata['Dss'])+5,150)\n"
   ]
  },
  {
   "cell_type": "code",
   "execution_count": 25,
   "metadata": {},
   "outputs": [
    {
     "name": "stderr",
     "output_type": "stream",
     "text": [
      "/export/home1/users/bssn/serna/environments/neuron/lib/python3.6/site-packages/ipykernel_launcher.py:161: RuntimeWarning: invalid value encountered in sqrt\n",
      "/export/home1/users/bssn/serna/environments/neuron/lib/python3.6/site-packages/ipykernel_launcher.py:162: RuntimeWarning: invalid value encountered in sqrt\n"
     ]
    }
   ],
   "source": [
    "td = 500\n",
    "res = simulateSet(model,spdata,tG = td,ton = 50,\n",
    "                  toffset = 70,t_stop = 500, \n",
    "                  EL = EL0,btsr = ones(9)==1,\n",
    "                  VDCC = VDCCa,dendrec=False)\n",
    "\n",
    "vavg,mes,vtracs,vtracsD,vtracsS,Ctracs,me2,me3,_ = res\n",
    "with open(\"../SpineModel/All_baseline_datasetv2.pickle\",\"wb\") as f:\n",
    "    pickle.dump([vavg,mes,vtracs,vtracsD,vtracsS,\n",
    "                 Ctracs,me2,me3,spdata],f) \n",
    " "
   ]
  },
  {
   "cell_type": "code",
   "execution_count": 26,
   "metadata": {},
   "outputs": [
    {
     "name": "stdout",
     "output_type": "stream",
     "text": [
      "<uEPSP> = 1.02\n"
     ]
    }
   ],
   "source": [
    "print('<uEPSP> = %.2f' % (mes[:,3].mean()))\n"
   ]
  },
  {
   "cell_type": "code",
   "execution_count": 27,
   "metadata": {},
   "outputs": [],
   "source": [
    "from bootstrap import  ShInhwpos,btShInhwpos"
   ]
  },
  {
   "cell_type": "code",
   "execution_count": 28,
   "metadata": {},
   "outputs": [],
   "source": [
    "iPSDsh, posish = ShInhwpos(noise=0.0)\n"
   ]
  },
  {
   "cell_type": "code",
   "execution_count": 29,
   "metadata": {
    "scrolled": false
   },
   "outputs": [],
   "source": [
    "nishPSD = iPSDsh.shape[0]\n",
    "spdatash = {}\n",
    "for key in spdata.keys():\n",
    "    spdatash[key] = array(spdata[key])[:nishPSD]\n",
    "spdatash['A1'] = spdatash['A1']\n",
    "spdatash['A2'] = spdatash['A2']*0+spdata['A2'].mean()\n",
    "spdatash['Dss'] = posish"
   ]
  },
  {
   "cell_type": "code",
   "execution_count": 30,
   "metadata": {
    "scrolled": true
   },
   "outputs": [
    {
     "name": "stderr",
     "output_type": "stream",
     "text": [
      "/export/home1/users/bssn/serna/environments/neuron/lib/python3.6/site-packages/ipykernel_launcher.py:161: RuntimeWarning: invalid value encountered in sqrt\n",
      "/export/home1/users/bssn/serna/environments/neuron/lib/python3.6/site-packages/ipykernel_launcher.py:162: RuntimeWarning: invalid value encountered in sqrt\n"
     ]
    }
   ],
   "source": [
    "GABA.e = 0.0\n",
    "GABA2.e = 0.0\n",
    "\n",
    "gtrA = 0.0\n",
    "gtrN = 0.0\n",
    "gtrG = exppar.gtrG\n",
    "\n",
    "res = simulateSet(model,spdatash,tG = 0,ton = 50,toffset = 70,\n",
    "                  t_stop = 500, EL = EL0,btsr = ones(9)==1,\n",
    "                  VDCC = VDCCa,dendrec=False,\n",
    "                  inhOutside = True,iPSDsh=iPSDsh)\n",
    "\n",
    "vavg,messh,vtracs,vtracsD,vtracsS,Ctracs,me2,me3,_ = res\n",
    "\n",
    "\n",
    "res = simulateSet(model,spdata,tG = 0,ton = 50,toffset = 70,\n",
    "                  t_stop = 500, EL = EL0,btsr = ones(9)==1,\n",
    "                  VDCC = VDCCa,dendrec=False,\n",
    "                  inhOutside = False)\n",
    "\n",
    "vavg,mesDiS,vtracs,vtracsD,vtracsS,Ctracs,me2,me3,_ = res\n",
    "gtrA = exppar.gtrA\n",
    "gtrN = exppar.gtrN\n",
    "gtrG = exppar.gtrG\n",
    "GABA.e = -70.0\n",
    "GABA2.e = -70.0"
   ]
  },
  {
   "cell_type": "code",
   "execution_count": 31,
   "metadata": {},
   "outputs": [],
   "source": [
    "with open(\"../SpineModel/All_baseline_depinhv2.pickle\",\"wb\") as f:\n",
    "    pickle.dump([messh,iPSDsh,posish,mesDiS,spdata],f) \n",
    " "
   ]
  },
  {
   "cell_type": "code",
   "execution_count": 45,
   "metadata": {},
   "outputs": [
    {
     "name": "stderr",
     "output_type": "stream",
     "text": [
      "/export/home1/users/bssn/serna/environments/neuron/lib/python3.6/site-packages/ipykernel_launcher.py:161: RuntimeWarning: invalid value encountered in sqrt\n",
      "/export/home1/users/bssn/serna/environments/neuron/lib/python3.6/site-packages/ipykernel_launcher.py:162: RuntimeWarning: invalid value encountered in sqrt\n"
     ]
    }
   ],
   "source": [
    "#spdata['Rneck'] = Rneck0#*2\n",
    "tdels = [-49,-30,-20,-15,-10,-7.5,-5,-3.5,-2,-1,-0.5,0,0.5,1.0,2.0,2.75,3.5,5.0,7.5,10.0,15.0,20.,30.,50]\n",
    "dtime = zeros((len(tdels),20))\n",
    "dtime2 = zeros((len(tdels),20))\n",
    "data = zeros((len(tdels),20))\n",
    "data2 = zeros((len(tdels),20))\n",
    "datam = zeros((len(tdels),8))\n",
    "dendsizeL = max(max(dis['Dss'])+5,150)\n",
    "\n",
    "times_biexp = False\n",
    "pp0 = 0.2\n",
    "pp1 = 0.8\n",
    "\n",
    "EL0 = -70\n",
    "vavg0,mes0,vtracs0,vtracsD0,vtracsS0,Ctracs0,me20,me30, trec = simulateSet(model,dis,tG = 100,ton = 50,toffset = 100,t_stop = 500, EL = EL0,btsr = ones(9)==1,VDCC = VDCCa)\n",
    "\n",
    "vtt = clip(vtracs0-EL0,0,100)\n",
    "times0 = get_FWHMtimes(vtt, v0 =0, dt = lb.h.dt)\n",
    "t90100 = get_postp0p1times(vtt,p0=pp0,p1= pp1, dt = lb.h.dt)\n",
    "\n",
    "vtt = clip(vtracsS-EL0,0,100)\n",
    "times0S = get_FWHMtimes(vtt, v0 =0, dt = lb.h.dt)\n",
    "t90100S = get_postp0p1times(vtt,p0=pp0,p1= pp1, dt = lb.h.dt)\n",
    "\n",
    "vtt = clip(vtracsD-EL0,0,100)\n",
    "times0D = get_FWHMtimes(vtt, v0 =0, dt = lb.h.dt)\n",
    "t90100D = get_postp0p1times(vtt,p0=pp0,p1= pp1, dt = lb.h.dt)\n",
    "\n",
    "vtt = clip(Ctracs,0,100)\n",
    "times0C = get_FWHMtimes(vtt, v0 =0, dt = lb.h.dt)\n",
    "t90100C = get_postp0p1times(vtt,p0=pp0,p1= pp1, dt = lb.h.dt)\n",
    "\n",
    "\n",
    "for i,td in enumerate(tdels):\n",
    "    vavg,mes,vtracs,vtracsD,vtracsS,Ctracs,me2,me3,_ = simulateSet(model,dis,tG = td,ton = 50,toffset = 100,t_stop = 500, EL = EL0,btsr = ones(9)==1,VDCC = VDCCa)\n",
    "    \n",
    "    # EPSP in spine head\n",
    "    vtt = clip(vtracs-EL0,0,100)\n",
    "    times = get_FWHMtimes(vtt, v0 =0, dt = lb.h.dt)\n",
    "    t9010 = get_postp0p1times(vtt,p0=pp0,p1= pp1, dt = lb.h.dt)\n",
    "    dtime[i,:5] = getint(times/times0)\n",
    "    dtime2[i,:5] = getint(t9010/t90100)\n",
    "\n",
    "\n",
    "    # EPSP In the soma\n",
    "    vtt = clip(vtracsS-EL0,0,100)\n",
    "    times = get_FWHMtimes(vtt, v0 =0, dt = lb.h.dt)\n",
    "    t9010 = get_postp0p1times(vtt,p0=pp0,p1= pp1, dt = lb.h.dt)\n",
    "    dtime[i,5:10] = getint(times/times0S)\n",
    "    dtime2[i,5:10] = getint(t9010/t90100S)\n",
    "    \n",
    "    # EPSP In the soma\n",
    "    vtt = clip(vtracsD-EL0,0,100)\n",
    "    times = get_FWHMtimes(vtt, v0 =0, dt = lb.h.dt)\n",
    "    t9010 = get_postp0p1times(vtt,p0=pp0,p1= pp1, dt = lb.h.dt)\n",
    "    dtime[i,15:20] = getint(times/times0D)\n",
    "    dtime2[i,15:20] = getint(t9010/t90100D)\n",
    "    \n",
    "    # For calcium in spine\n",
    "    vtt = clip(Ctracs,0,100)\n",
    "    times = get_FWHMtimes(vtt, v0 =0, dt = lb.h.dt)\n",
    "    t9010 = get_postp0p1times(vtt,p0=pp0,p1= pp1, dt = lb.h.dt)\n",
    "    dtime[i,10:15] = getint(times/times0C)\n",
    "    dtime2[i,10:15] = getint(t9010/t90100C)\n",
    "    \n",
    "    # Statistics\n",
    "    #data[i,:] = mes.mean(axis=0)\n",
    "    #datt0 = mes[:,1:5]/mes0[:,1:5]\n",
    "    #data2[i,:] = concatenate((datt0.mean(axis=0),datt0.std(axis=0)))\n",
    "    for j in range(1,5):\n",
    "        data[i,(5*(j-1)):(5*(j))] = getint(mes[:,j])\n",
    "        data2[i,(5*(j-1)):(5*(j))] = getint(mes[:,j]/mes0[:,j])\n",
    "        datam[i,(2*(j-1)):(2*(j))] = ((mes[:,j]/mes0[:,j]).mean(),(mes[:,j]/mes0[:,j]).std())\n",
    "\n",
    "with open(\"inhibition_v2.pickle\",\"wb\") as f:\n",
    "    pickle.dump([tdels,data2,data,dtime,dtime2],f)"
   ]
  },
  {
   "cell_type": "code",
   "execution_count": 41,
   "metadata": {},
   "outputs": [
    {
     "name": "stdout",
     "output_type": "stream",
     "text": [
      "(500,)\n"
     ]
    }
   ],
   "source": [
    "\n",
    "vtt = clip(vtracs0-EL0,0,100)\n",
    "times0 = get_FWHMtimes(vtt, v0 =0, dt = lb.h.dt)\n",
    "print(times0.shape)"
   ]
  },
  {
   "cell_type": "code",
   "execution_count": 33,
   "metadata": {},
   "outputs": [
    {
     "data": {
      "image/png": "[encoded data removed]",
      "text/plain": [
       "<Figure size 432x288 with 1 Axes>"
      ]
     },
     "metadata": {
      "needs_background": "light"
     },
     "output_type": "display_data"
    },
    {
     "data": {
      "image/png": "[encoded data removed]",
      "text/plain": [
       "<Figure size 432x288 with 1 Axes>"
      ]
     },
     "metadata": {
      "needs_background": "light"
     },
     "output_type": "display_data"
    }
   ],
   "source": [
    "if plotose:\n",
    "    inhtimDis = data2\n",
    "\n",
    "    sh = len(tdels)\n",
    "    vm,sl,sv = 1-inhtimDis[:sh,1*5],1-inhtimDis[:sh,1*5+1],1-inhtimDis[:sh,1*5+2]\n",
    "    plot(tdels,vm,'C1.-',label='Axo-sp\\n inhibition')\n",
    "    fill_between(tdels,sl,sv,alpha=0.5,color='C1')\n",
    "    vlines(0,0,0.1)\n",
    "    figure()\n",
    "    vm,sl,sv = 1-inhtimDis[:sh,3*5],1-inhtimDis[:sh,3*5+1],1-inhtimDis[:sh,3*5+2]\n",
    "    plot(tdels,vm,'C1.-',label='Axo-sp\\n inhibition')\n",
    "    fill_between(tdels,sl,sv,alpha=0.5,color='C1')\n",
    "    vlines(0,0,0.1)\n",
    "    ylim(0,0.15)"
   ]
  },
  {
   "cell_type": "code",
   "execution_count": 34,
   "metadata": {},
   "outputs": [
    {
     "name": "stderr",
     "output_type": "stream",
     "text": [
      "/export/home1/users/bssn/serna/environments/neuron/lib/python3.6/site-packages/ipykernel_launcher.py:161: RuntimeWarning: invalid value encountered in sqrt\n",
      "/export/home1/users/bssn/serna/environments/neuron/lib/python3.6/site-packages/ipykernel_launcher.py:162: RuntimeWarning: invalid value encountered in sqrt\n",
      "/export/home1/users/bssn/serna/HBP/SpineModel/PS_tools.py:6: RuntimeWarning: invalid value encountered in double_scalars\n",
      "  numtt = (t2/t1)**(te/t1)-(t2/t1)**(te/t2)\n"
     ]
    }
   ],
   "source": [
    "td = 10\n",
    "vavg,mes,vtracs,vtracsD,vtracsS,Ctracs,me2,me3,_ = simulateSet(model,dis,tG = td,ton = 50,toffset = 70,t_stop = 500, EL = EL0,btsr = ones(9)==1,VDCC = VDCCa)\n",
    "with open(\"../SpineModel/dis_glu_ga10v2.pickle\",\"wb\") as f:\n",
    "    pickle.dump([vavg,mes,vtracs,vtracsD,vtracsS,Ctracs],f) \n",
    "    \n",
    "td = -10\n",
    "vavg,mes,vtracs,vtracsD,vtracsS,Ctracs,me2,me3,_ = simulateSet(model,dis,tG = td,ton = 50,toffset = 70,t_stop = 500, EL = EL0,btsr = ones(9)==1,VDCC = VDCCa)\n",
    "with open(\"../SpineModel/dis_ga_glu10v2.pickle\",\"wb\") as f:\n",
    "    pickle.dump([vavg,mes,vtracs,vtracsD,vtracsS,Ctracs],f) \n",
    "      \n",
    "td = 5\n",
    "vavg,mes,vtracs,vtracsD,vtracsS,Ctracs,me2,me3,_ = simulateSet(model,dis,tG = td,ton = 50,toffset = 70,t_stop = 500, EL = EL0,btsr = ones(9)==1,VDCC = VDCCa)\n",
    "with open(\"../SpineModel/dis_glu_ga05v2.pickle\",\"wb\") as f:\n",
    "    pickle.dump([vavg,mes,vtracs,vtracsD,vtracsS,Ctracs],f) \n",
    "    \n",
    "td = -5\n",
    "vavg,mes,vtracs,vtracsD,vtracsS,Ctracs,me2,me3,_ = simulateSet(model,dis,tG = td,ton = 50,toffset = 70,t_stop = 500, EL = EL0,btsr = ones(9)==1,VDCC = VDCCa)\n",
    "with open(\"../SpineModel/dis_ga_glu05v2.pickle\",\"wb\") as f:\n",
    "    pickle.dump([vavg,mes,vtracs,vtracsD,vtracsS,Ctracs],f) \n",
    "    \n",
    "    \n",
    "td = 500\n",
    "vavg,mes,vtracs,vtracsD,vtracsS,Ctracs,me2,me3,_ = simulateSet(model,dis,tG = td,ton = 50,toffset = 70,t_stop = 500, EL = EL0,btsr = ones(9)==1,VDCC = VDCCa)\n",
    "with open(\"../SpineModel/dis_baselinev2.pickle\",\"wb\") as f:\n",
    "    pickle.dump([vavg,mes,vtracs,vtracsD,vtracsS,Ctracs],f) \n",
    "    \n",
    "td = 500\n",
    "\n",
    "vavg0,mes0,vtracs0,vtracsD0,vtracsS0,Ctracs0,me20,me30,_ = simulateSet(model,dis,tG = td,ton = 50,toffset = 70,t_stop = 500, EL = EL0,btsr = ones(9)==1,VDCC = VDCCa,dendrec=False)\n",
    "   \n",
    "td = -2\n",
    "vavg,mes,vtracs,vtracsD,vtracsS,Ctracs,me2,me3,_ = simulateSet(model,dis,tG = td,ton = 50,toffset = 70,t_stop = 500, EL = EL0,btsr = ones(9)==1,VDCC = VDCCa)\n",
    "with open(\"../SpineModel/dis_ga_glu02v2.pickle\",\"wb\") as f:\n",
    "    pickle.dump([dis,mes,mes0],f) \n",
    "\n",
    "td = 2\n",
    "vavg,mes,vtracs,vtracsD,vtracsS,Ctracs,me2,me3,_ = simulateSet(model,dis,tG = td,ton = 50,toffset = 70,t_stop = 500, EL = EL0,btsr = ones(9)==1,VDCC = VDCCa)\n",
    "\n",
    "vtt = clip(vtracs0-EL0,0,100)\n",
    "if times_biexp:\n",
    "    times0 = get_atimes(vtt,ton=3000)\n",
    "else:\n",
    "    times0, tt, trise = get_atimes(vtt,ton=3000)\n",
    "    times0 = get_FWHMtimes(vtt, v0 =0, dt = lb.h.dt)\n",
    "\n",
    "vtt = clip(vtracs-EL0,0,100)\n",
    "if times_biexp:\n",
    "    times = get_atimes(vtt,ton=3000)\n",
    "else:\n",
    "    times, tt, trise = get_atimes(vtt,ton=3000)\n",
    "    times = get_FWHMtimes(vtt, v0 =0, dt = lb.h.dt)\n",
    "\n",
    "with open(\"../SpineModel/dis_glu_ga02v2.pickle\",\"wb\") as f:\n",
    "    pickle.dump([dis,mes,mes0,times,times0],f) \n",
    "    \n",
    "    "
   ]
  },
  {
   "cell_type": "code",
   "execution_count": 46,
   "metadata": {},
   "outputs": [
    {
     "name": "stderr",
     "output_type": "stream",
     "text": [
      "/export/home1/users/bssn/serna/environments/neuron/lib/python3.6/site-packages/ipykernel_launcher.py:161: RuntimeWarning: invalid value encountered in sqrt\n",
      "/export/home1/users/bssn/serna/environments/neuron/lib/python3.6/site-packages/ipykernel_launcher.py:162: RuntimeWarning: invalid value encountered in sqrt\n"
     ]
    }
   ],
   "source": [
    "#spdata['Rneck'] = Rneck0#*2\n",
    "tdels = [-49,-30,-20,-15,-10,-7.5,-5,-3.5,-2,-1,-0.5,0,0.5,1.0,2.0,2.75,3.5,5.0,7.5,10.0,15.0,20.,30.,50]\n",
    "dtime = zeros((len(tdels),20))\n",
    "dtime2 = zeros((len(tdels),20))\n",
    "data = zeros((len(tdels),20))\n",
    "data2 = zeros((len(tdels),20))\n",
    "datam = zeros((len(tdels),8))\n",
    "sps = btset_cd(cd='Sp',size=nsp)\n",
    "sps['A2'] = 0.0*sps['A1']\n",
    "iPSDsh, posish = btShInhwpos(nsp)\n",
    "\n",
    "dendsizeL = max(max(sps['Dss'])+5,150)\n",
    "pp0 = 0.2\n",
    "pp1 = 0.8\n",
    "times_biexp = False\n",
    "\n",
    "EL0 = -70\n",
    "res = simulateSet(model,sps,tG = 100,ton = 50,\n",
    "                  toffset = 100,t_stop = 500, \n",
    "                  EL = EL0,btsr = ones(9)==1,VDCC = VDCCa,inhOutside= True, iPSDsh = iPSDsh)\n",
    "vavg0,mes0,vtracs0,vtracsD0,vtracsS0,Ctracs0,me20,me30, trec = res\n",
    "\n",
    "vtt = clip(vtracs0-EL0,0,100)\n",
    "times0 = get_FWHMtimes(vtt, v0 =0, dt = lb.h.dt)\n",
    "t90100 = get_postp0p1times(vtt,p0=pp0,p1= pp1, dt = lb.h.dt)\n",
    "\n",
    "vtt = clip(vtracsS-EL0,0,100)\n",
    "times0S = get_FWHMtimes(vtt, v0 =0, dt = lb.h.dt)\n",
    "t90100S = get_postp0p1times(vtt,p0=pp0,p1= pp1, dt = lb.h.dt)\n",
    "\n",
    "vtt = clip(vtracsD-EL0,0,100)\n",
    "times0D = get_FWHMtimes(vtt, v0 =0, dt = lb.h.dt)\n",
    "t90100D = get_postp0p1times(vtt,p0=pp0,p1= pp1, dt = lb.h.dt)\n",
    "\n",
    "vtt = clip(Ctracs,0,100)\n",
    "times0C = get_FWHMtimes(vtt, v0 =0, dt = lb.h.dt)\n",
    "t90100C = get_postp0p1times(vtt,p0=pp0,p1= pp1, dt = lb.h.dt)\n",
    "\n",
    "\n",
    "\n",
    "for i,td in enumerate(tdels):\n",
    "    res = simulateSet(model,sps,tG = td,ton = 50,\n",
    "                      toffset = 100,t_stop = 500, \n",
    "                      EL = EL0,btsr = ones(9)==1,\n",
    "                      VDCC = VDCCa,inhOutside= True, iPSDsh = iPSDsh)\n",
    "    vavg,mes,vtracs,vtracsD,vtracsS,Ctracs,me2,me3,_  = res\n",
    "    # EPSP in spine head\n",
    "    vtt = clip(vtracs-EL0,0,100)\n",
    "    times = get_FWHMtimes(vtt, v0 =0, dt = lb.h.dt)\n",
    "    t9010 = get_postp0p1times(vtt,p0=pp0,p1= pp1, dt = lb.h.dt)\n",
    "    dtime[i,:5] = getint(times/times0)\n",
    "    dtime2[i,:5] = getint(t9010/t90100)\n",
    "\n",
    "\n",
    "    # EPSP In the soma\n",
    "    vtt = clip(vtracsS-EL0,0,100)\n",
    "    times = get_FWHMtimes(vtt, v0 =0, dt = lb.h.dt)\n",
    "    t9010 = get_postp0p1times(vtt,p0=pp0,p1= pp1, dt = lb.h.dt)\n",
    "    dtime[i,5:10] = getint(times/times0S)\n",
    "    dtime2[i,5:10] = getint(t9010/t90100S)\n",
    "    \n",
    "    # EPSP In the soma\n",
    "    vtt = clip(vtracsD-EL0,0,100)\n",
    "    times = get_FWHMtimes(vtt, v0 =0, dt = lb.h.dt)\n",
    "    t9010 = get_postp0p1times(vtt,p0=pp0,p1= pp1, dt = lb.h.dt)\n",
    "    dtime[i,15:20] = getint(times/times0D)\n",
    "    dtime2[i,15:20] = getint(t9010/t90100D)\n",
    "    \n",
    "    # For calcium in spine\n",
    "    vtt = clip(Ctracs,0,100)\n",
    "    times = get_FWHMtimes(vtt, v0 =0, dt = lb.h.dt)\n",
    "    t9010 = get_postp0p1times(vtt,p0=pp0,p1= pp1, dt = lb.h.dt)\n",
    "    dtime[i,10:15] = getint(times/times0C)\n",
    "    dtime2[i,10:15] = getint(t9010/t90100C)\n",
    "    \n",
    "    # Statistics\n",
    "    #data[i,:] = mes.mean(axis=0)\n",
    "    #datt0 = mes[:,1:5]/mes0[:,1:5]\n",
    "    #data2[i,:] = concatenate((datt0.mean(axis=0),datt0.std(axis=0)))\n",
    "    for j in range(1,5):\n",
    "        data[i,(5*(j-1)):(5*(j))] = getint(mes[:,j])\n",
    "        data2[i,(5*(j-1)):(5*(j))] = getint(mes[:,j]/mes0[:,j])\n",
    "        datam[i,(2*(j-1)):(2*(j))] = ((mes[:,j]/mes0[:,j]).mean(),(mes[:,j]/mes0[:,j]).std())\n",
    "\n",
    "with open(\"inhibition_v2_outPSD.pickle\",\"wb\") as f:\n",
    "    pickle.dump([tdels,data2,data,dtime,dtime2],f)"
   ]
  },
  {
   "cell_type": "code",
   "execution_count": null,
   "metadata": {},
   "outputs": [],
   "source": []
  }
 ],
 "metadata": {
  "kernelspec": {
   "display_name": "neuron",
   "language": "python",
   "name": "neuron"
  },
  "language_info": {
   "codemirror_mode": {
    "name": "ipython",
    "version": 3
   },
   "file_extension": ".py",
   "mimetype": "text/x-python",
   "name": "python",
   "nbconvert_exporter": "python",
   "pygments_lexer": "ipython3",
   "version": "3.6.5"
  }
 },
 "nbformat": 4,
 "nbformat_minor": 2
}
