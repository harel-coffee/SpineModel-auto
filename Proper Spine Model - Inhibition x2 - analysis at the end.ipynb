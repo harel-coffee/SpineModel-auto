{
 "cells": [
  {
   "cell_type": "markdown",
   "metadata": {},
   "source": [
    "# Spine Model\n"
   ]
  },
  {
   "cell_type": "code",
   "execution_count": 1,
   "metadata": {},
   "outputs": [
    {
     "name": "stdout",
     "output_type": "stream",
     "text": [
      "\t0 \n",
      "\t1 \n",
      "\t1 \n",
      "\t1 \n",
      "\t1 \n",
      "20.0 29.78380012512207 1871.3713533814052 6283.185307179586\n",
      "Topology:\n",
      "\n",
      "|-|       soma(0-1)\n",
      "   `|       dendA1c(0-1)\n",
      "     `|       dendA1(0-1)\n",
      "       `|       DendE(0-1)\n",
      "         `|       DendN(0-1)\n",
      "        `|       NSpne000(0-1)\n",
      "          `|       Spne000(0-1)\n",
      "   `|       dendB1(0-1)\n",
      "\n",
      "1.0\n"
     ]
    }
   ],
   "source": [
    "from numpy import *   #ones, cumsum, sum, isscalar\n",
    "from matplotlib.pylab import * \n",
    "%matplotlib inline\n",
    "plotose = True\n",
    "import pickle\n",
    "\n",
    "import PS_lib as lb\n",
    "import PS_storage as st\n",
    "from bootstrap import btset_cd, generateplots, btShInh\n",
    "\n",
    "\n",
    "# Parameter definitions\n",
    "# Data is stored here      \n",
    "data = st.dataStorage() # some default parameters defined.\n",
    "data.dt = 0.05\n",
    "data.NMDA = False\n",
    "\n",
    "# Definition of the model.\n",
    "lb.h.dt = data.dt\n",
    "NMDA = data.NMDA\n",
    "model = lb.loadNeuron(\"Basic2.hoc\",axon=False)\n",
    "\n",
    "# Adding piece of dendritic branch with spine\n",
    "model.addDend(name=\"DendE\",locus=\"dendA1\",L=4.0,D=1.5,ilocus=1)\n",
    "model.addSpne(locus=\"DendE\",ilocus=0.5,L=1.0,D=1.0,Lneck=1.0,Dneck=0.15)\n",
    "# Temperature of the neuron\n",
    "lb.h.celsius = model.temperature\n",
    "model.addDend(name=\"DendN\",locus=3,L=240.0,D=0.5,ilocus=1)\n",
    "data.model = model.__dict__\n",
    "\n",
    "model.soma.L = 20\n",
    "model.dend[-1].L = 200\n",
    "model.dend[-1].diam = 10\n",
    "print(model.soma.L,model.soma.diam,model.soma(0.5).area(),model.dend[-1](0.5).area())\n",
    "\n",
    "print(\"Topology:\")\n",
    "print(lb.h.topology())\n"
   ]
  },
  {
   "cell_type": "markdown",
   "metadata": {},
   "source": [
    "### Recording places\n",
    "\n",
    "We set recording vectors in all dendritic compartments, spine included"
   ]
  },
  {
   "cell_type": "code",
   "execution_count": 2,
   "metadata": {
    "scrolled": false
   },
   "outputs": [],
   "source": [
    "nsp = 1000\n",
    "dis = btset_cd(cd='DiS',size=nsp)\n",
    "sis = btset_cd(cd='SiS',size=nsp)\n",
    "sps = btset_cd(cd='Sp',size=nsp)\n",
    "\n",
    "dis['Rneck'] = dis['Rneck']*2\n",
    "sis['Rneck'] = sis['Rneck']*2\n",
    "sps['Rneck'] = sps['Rneck']*2\n",
    "#generateplots(dis,corplot=True)"
   ]
  },
  {
   "cell_type": "code",
   "execution_count": 3,
   "metadata": {
    "scrolled": false
   },
   "outputs": [],
   "source": [
    "#nsp = 1000\n",
    "#figure()\n",
    "iPSDsh = btShInh(size=nsp)\n",
    "#h = hist(iPSDsh,31)\n",
    "#xlabel(\"iPSD shaft ($\\mu m^2$)\",fontsize=14)\n"
   ]
  },
  {
   "cell_type": "code",
   "execution_count": 4,
   "metadata": {},
   "outputs": [],
   "source": [
    "\n",
    "rhGABAR = 500 # Receptors/um2\n",
    "rhAMPAR = 1000 # Receptors/um2\n",
    "rhNMDAR = 10 # Receptors/um2\n",
    "\n",
    "gtrG = rhGABAR*30e-6*2/5.0\n",
    "gtrA = rhAMPAR*11e-6*2/5.0\n",
    "gtrN = rhNMDAR*30e-6/16.0\n",
    "\n",
    "figureplot=False\n",
    "if figureplot:\n",
    "    fig, ax = subplots(nrows=1,ncols=4,figsize=(20,5))\n",
    "    fig.suptitle(\"Number of Receptors\",fontsize = 20)\n",
    "\n",
    "    ax[0].hist(sis['A1']*rhAMPAR,31)\n",
    "    ax[0].set_xlabel(\"#AMPAR in Sis\")\n",
    "    ax[1].hist(dis['A1']*rhAMPAR,31)\n",
    "    ax[1].set_xlabel(\"#AMPAR in Dis\")\n",
    "    ax[2].hist(dis['A2']*rhGABAR,31)\n",
    "    ax[2].set_xlabel(\"#GABAAR in Dis\")\n",
    "    ax[3].hist(iPSDsh*rhGABAR,31)\n",
    "    ax[3].set_xlabel(\"#GABAAR in shaft\")\n",
    "\n",
    "    fig, ax = subplots(nrows=1,ncols=4,figsize=(20,5))\n",
    "    fig.suptitle(\"Max Current\",fontsize = 20)\n",
    "\n",
    "\n",
    "    ax[0].hist(sis['A1']*gtrA/1e-6,31)\n",
    "    ax[0].set_xlabel(\"I$_{max}$ (pA)\")\n",
    "    ax[1].hist(dis['A1']*gtrA/1e-6,31)\n",
    "    ax[1].set_xlabel(\"I$_{max}$ (pA)\")\n",
    "    ax[2].hist(dis['A2']*gtrG/1e-6,31)\n",
    "    ax[2].set_xlabel(\"I$_{max}$ (pA)\")\n",
    "    ax[3].hist(iPSDsh*gtrG/1e-6,31)\n",
    "    ax[3].set_xlabel(\"I$_{max}$ (pA)\")\n",
    "    #savefig(\"D_maxI.png\",bbox_inches='tight',pad_inches = 0)\n"
   ]
  },
  {
   "cell_type": "code",
   "execution_count": 5,
   "metadata": {},
   "outputs": [],
   "source": [
    "figureplot=False\n",
    "if figureplot:\n",
    "    spn = sis\n",
    "    plot(spn['D'],spn['L'],'.',alpha=0.5)\n",
    "    spn = dis\n",
    "    plot(spn['D'],spn['L'],'.',alpha=0.5)\n",
    "    xlabel(\"Diameter\")\n",
    "    ylabel('Length')\n",
    "\n",
    "    #figure()\n",
    "    #plot(spn['D']**2*pi*spn['L']/4,spn['Vh'],'.')\n",
    "    figure()\n",
    "    hist(spn['Ah']/(spn['D']*pi*spn['L']),51)"
   ]
  },
  {
   "cell_type": "code",
   "execution_count": 6,
   "metadata": {},
   "outputs": [
    {
     "name": "stdout",
     "output_type": "stream",
     "text": [
      "1.0 1.5\n",
      "200.24984394500785 1.5000000000000002\n",
      "50.15974481593781 1.5\n",
      "4.0 1.5\n",
      "200.0 10.0\n"
     ]
    }
   ],
   "source": [
    "for dend in model.dend:\n",
    "    print(dend.L,dend.diam)"
   ]
  },
  {
   "cell_type": "code",
   "execution_count": 7,
   "metadata": {},
   "outputs": [
    {
     "name": "stdout",
     "output_type": "stream",
     "text": [
      "3.141592653589793 0.7853981633974483 3.141592653589793 0.7853981633974483\n",
      "Area Volume Ah Vh\n",
      "0.48057234845930713 0.04562437190305182 0.4805723484593071 0.04562437190305182\n"
     ]
    }
   ],
   "source": [
    "sp = model.spne[0]\n",
    "print(sp(0.5).area(),sp(0.5).volume(),sp.diam*sp.L*pi,sp.diam**2*sp.L*pi/4.0)\n",
    "\n",
    "sp.L = dis[\"L\"][0]\n",
    "sp.diam = dis[\"D\"][0]\n",
    "print(\"Area Volume Ah Vh\")\n",
    "print(sp(0.5).area(),sp(0.5).volume(),dis[\"Ah\"][0]/dis[\"AhA0\"][0],dis[\"Vh\"][0])\n"
   ]
  },
  {
   "cell_type": "markdown",
   "metadata": {},
   "source": [
    "### Excitatory synapse \n",
    "\n",
    "We need to define the arrival time and dynamics. These parameters may be modified later"
   ]
  },
  {
   "cell_type": "code",
   "execution_count": 8,
   "metadata": {},
   "outputs": [],
   "source": [
    "model.AMPAlist = []\n",
    "model.ncAMPAlist = []\n",
    "\n",
    "AMPA = lb.h.Exp2Syn(1,sec = model.spne[0])\n",
    "tau1  = 0.5\n",
    "tau2 = 3.0\n",
    "AMPA.tau1 = tau1\n",
    "AMPA.tau2 = tau2\n",
    "\n",
    "nampa = 50\n",
    "gmax = 15*nampa/1e6\n",
    "stimE=lb.h.NetStim();stimE.number = 1; \n",
    "NC = lb.h.NetCon(stimE,AMPA,0,0,gmax)\n",
    "\n",
    "model.AMPAlist.append(AMPA)\n",
    "model.ncAMPAlist.append(NC)\n",
    "NC.delay = 10\n",
    "\n",
    "# NMDA part\n",
    "nnmda = 2\n",
    "gmaxN = 50*nnmda/1e6\n",
    "lb.add_NMDAsyns(model, locs=[[0,0.5]], gmax=gmaxN,tau2=20.0)  \n",
    "NMDA = model.NMDAlist[0]\n",
    "NCN = model.ncNMDAlist[0]\n",
    "stimN=lb.h.NetStim();stimN.number = 1;\n",
    "NCN = lb.h.NetCon(stimN,NMDA,0,0,gmaxN)\n",
    "model.ncNMDAlist[0] = NCN\n",
    "NMDA.tau1 = 2.0\n",
    "NMDA.tau2 = 30.0\n"
   ]
  },
  {
   "cell_type": "markdown",
   "metadata": {},
   "source": [
    "### Inhibitory synapse"
   ]
  },
  {
   "cell_type": "code",
   "execution_count": 9,
   "metadata": {},
   "outputs": [],
   "source": [
    "nGABA = 35\n",
    "gmaxG = nGABA*30e-6\n",
    "GABA, NCG = lb.add_GABAsyns(model, locs=[[0,1]], spne=True, gmax=gmaxG,tau1=1.5,tau2=15.0)  \n",
    "#GABA = model.GABAlist[0]\n",
    "#NCG = model.ncGABAlist[0]\n",
    "#stimG=lb.h.NetStim();stimG.number = 1;\n",
    "#NCG = lb.h.NetCon(stimG,GABA,0,0,gmaxG)\n",
    "#model.ncGABAlist[0] = NCG"
   ]
  },
  {
   "cell_type": "code",
   "execution_count": 10,
   "metadata": {},
   "outputs": [
    {
     "data": {
      "text/plain": [
       "[dendA1c, dendA1, dendB1, DendE, DendN]"
      ]
     },
     "execution_count": 10,
     "metadata": {},
     "output_type": "execute_result"
    }
   ],
   "source": [
    "model.dend"
   ]
  },
  {
   "cell_type": "code",
   "execution_count": 11,
   "metadata": {},
   "outputs": [
    {
     "data": {
      "text/plain": [
       "Vector[16]"
      ]
     },
     "execution_count": 11,
     "metadata": {},
     "output_type": "execute_result"
    }
   ],
   "source": [
    "trec, vrec = lb.h.Vector(), lb.h.Vector()\n",
    "gRec, iRec,  vspneRec = [], [], []\n",
    "gNMDA_rec, iNMDA_rec = [], []\n",
    "trec.record(lb.h._ref_t)\n",
    "vrec.record(model.soma(0.5)._ref_v)\n",
    "\n",
    "\n",
    "#n=0\n",
    "vDendRec = []\n",
    "caDendRec = []\n",
    "#For all dendrites\n",
    "for dend in model.dend:\n",
    "    #Adding vectors for Voltage, and Calcium\n",
    "    vDendRec.append(lb.h.Vector())\n",
    "    caDendRec.append(lb.h.Vector())\n",
    "    # Placing recording at mid-point in the dendritic branch\n",
    "    vDendRec[-1].record(dend(0.5)._ref_v)\n",
    "    # NO CALCIUM!?!?!\n",
    "#Probably better to organize them in a dictionary        \n",
    "vDendRec[1].record(model.dend[1](1.0)._ref_v)\n",
    "\n",
    "# Spine voltage recording stuff\n",
    "vspneRec.append(lb.h.Vector())\n",
    "vspneRec.append(lb.h.Vector())\n",
    "sp = model.spne[0]\n",
    "vspneRec[0].record(sp(0.5)._ref_v)\n",
    "sp = model.neck[0]\n",
    "vspneRec[1].record(sp(0.5)._ref_v)\n",
    "\n",
    "# Calcim\n",
    "\n",
    "caDendRec = []\n",
    "sp = model.spne[0]\n",
    "caDendRec.append(lb.h.Vector())\n",
    "caDendRec.append(lb.h.Vector())\n",
    "caDendRec.append(lb.h.Vector())\n",
    "caDendRec[0].record(sp(0.5)._ref_ica) \n",
    "caDendRec[1].record(model.NMDAlist[0]._ref_i)\n",
    "caDendRec[2].record(sp(1.0)._ref_cai) \n"
   ]
  },
  {
   "cell_type": "code",
   "execution_count": 12,
   "metadata": {},
   "outputs": [],
   "source": [
    "vDendEL = []\n",
    "dend = model.dend[1]\n",
    "for i in range(10):\n",
    "    vDendEL.append(lb.h.Vector())\n",
    "    vDendEL[-1].record(dend((i+1.0)/10.0)._ref_v)"
   ]
  },
  {
   "cell_type": "code",
   "execution_count": 13,
   "metadata": {},
   "outputs": [],
   "source": [
    "vDendEL2 = []\n",
    "dend = model.dend[-1]\n",
    "for i in range(10):\n",
    "    vDendEL2.append(lb.h.Vector())\n",
    "    vDendEL2[-1].record(dend((i+1.0)/10.0)._ref_v)"
   ]
  },
  {
   "cell_type": "code",
   "execution_count": 14,
   "metadata": {},
   "outputs": [
    {
     "data": {
      "text/plain": [
       "[dendA1c, dendA1, dendB1, DendE, DendN]"
      ]
     },
     "execution_count": 14,
     "metadata": {},
     "output_type": "execute_result"
    }
   ],
   "source": [
    "model.dend"
   ]
  },
  {
   "cell_type": "code",
   "execution_count": 15,
   "metadata": {},
   "outputs": [],
   "source": [
    "iRec.append(lb.h.Vector())\n",
    "iRec.append(lb.h.Vector())\n",
    "currentAMPA = iRec[0]\n",
    "currentGABA = iRec[1]"
   ]
  },
  {
   "cell_type": "code",
   "execution_count": 16,
   "metadata": {},
   "outputs": [
    {
     "data": {
      "text/plain": [
       "Vector[38]"
      ]
     },
     "execution_count": 16,
     "metadata": {},
     "output_type": "execute_result"
    }
   ],
   "source": [
    "currentAMPA.record(AMPA._ref_i)\n",
    "currentGABA.record(GABA._ref_i)"
   ]
  },
  {
   "cell_type": "code",
   "execution_count": 17,
   "metadata": {},
   "outputs": [
    {
     "name": "stdout",
     "output_type": "stream",
     "text": [
      "10.0 1.0\n",
      "178.0 0.699999988079071 31.830988618379067\n",
      "1.0 0.7 609.9856995419942\n",
      "The resistance of neck and the dendritic impedance are 141.47 and 613 MΩ (resp.)\n"
     ]
    }
   ],
   "source": [
    "dendsizeL0 = 10\n",
    "dendsizeL = max(max(max(dis['Dss'])+10,max(sis['Dss'])+10),178)\n",
    "neck = model.neck[0]\n",
    "Rneck = neck.L*1e-6/(neck.diam*1e-6/2.0)**2/pi*neck.Ra/100\n",
    "dend = model.dend[0]\n",
    "dend.L = dendsizeL0\n",
    "dend.diam = 1.0\n",
    "print(dend.L,dend.diam)\n",
    "Rdend = dend.L*1e-6/(dend.diam*1e-6/2.0)**2/pi*dend.Ra/100\n",
    "Rdendf = Rdend\n",
    "dend = model.dend[1]\n",
    "dendc = model.dend[1]\n",
    "dendc.L = dendsizeL\n",
    "dend.diam = 0.7\n",
    "print(dend.L,dend.diam,Rdend/1e6)\n",
    "Rdend +=dend.L*1e-6/2.0/(dend.diam*1e-6/2.0)**2/pi*dend.Ra/100\n",
    "dend = model.dend[-2]\n",
    "dend.diam = 0.7\n",
    "dendsh = model.dend[-2]\n",
    "dend.L = 1\n",
    "print(dend.L,dend.diam,Rdend/1e6)\n",
    "Rdend +=dend.L*1e-6/2.0/(dend.diam*1e-6/2.0)**2/pi*dend.Ra/100\n",
    "Rdendf +=dend.L*1e-6/2.0/(dend.diam*1e-6/2.0)**2/pi*dend.Ra/100\n",
    "print(\"The resistance of neck and the dendritic impedance are %.2f and %2.f MΩ (resp.)\" %(Rneck/1e6,Rdend/1e6))"
   ]
  },
  {
   "cell_type": "code",
   "execution_count": 18,
   "metadata": {},
   "outputs": [],
   "source": [
    "#model.soma.diam = model.soma.L\n",
    "dendN = model.dend[-1]\n",
    "dendN.L = 1"
   ]
  },
  {
   "cell_type": "code",
   "execution_count": 19,
   "metadata": {},
   "outputs": [],
   "source": [
    "dendsh.diam = 0.7\n",
    "dendc.diam = 0.7\n",
    "dendN.diam = 0.7        "
   ]
  },
  {
   "cell_type": "code",
   "execution_count": 20,
   "metadata": {},
   "outputs": [
    {
     "name": "stdout",
     "output_type": "stream",
     "text": [
      "3.58991351746593\n"
     ]
    }
   ],
   "source": [
    "rhosp = 1.3\n",
    "dendareaperL = rhosp*mean(sps['Ah'])+(pi*0.5)\n",
    "factor = dendareaperL/(pi*0.5)\n",
    "print(factor)\n",
    "dendN.cm = 3.5\n",
    "dendc.cm = 3.5\n",
    "\n",
    "dendN.g_pas = 3.5/model.RM\n",
    "dendc.g_pas = 3.5/model.RM"
   ]
  },
  {
   "cell_type": "code",
   "execution_count": 21,
   "metadata": {},
   "outputs": [
    {
     "name": "stdout",
     "output_type": "stream",
     "text": [
      "10 10\n"
     ]
    }
   ],
   "source": [
    "dendc.nseg = int(dendc.L//10)+1\n",
    "dendN.nseg = int(dendN.L//10)+1\n",
    "\n",
    "dendc.nseg = 10\n",
    "dendN.nseg = 10\n",
    "print(dendc.nseg,dendN.nseg)"
   ]
  },
  {
   "cell_type": "code",
   "execution_count": 22,
   "metadata": {},
   "outputs": [],
   "source": [
    "lb.init_active(model, axon=False, soma=False, dend=False, dendNa=False,\n",
    "                dendCa=False,spne=True)"
   ]
  },
  {
   "cell_type": "markdown",
   "metadata": {},
   "source": [
    "## Plots\n",
    "\n",
    "xkcd is to give it non serious appearance"
   ]
  },
  {
   "cell_type": "code",
   "execution_count": 23,
   "metadata": {},
   "outputs": [],
   "source": [
    "gtrG = rhGABAR*30e-6*2/5.0\n",
    "gtrA = rhAMPAR*11e-6*3/5.0\n",
    "gtrN = rhNMDAR*30e-6*1.0/16.0/4.0/1.27*5*50"
   ]
  },
  {
   "cell_type": "code",
   "execution_count": null,
   "metadata": {},
   "outputs": [],
   "source": []
  },
  {
   "cell_type": "code",
   "execution_count": 24,
   "metadata": {},
   "outputs": [
    {
     "name": "stdout",
     "output_type": "stream",
     "text": [
      "141.4710605261292\n"
     ]
    }
   ],
   "source": [
    "diam0 = 0.15\n",
    "Rneck0 = Rneck/1e6\n",
    "Cm0 = model.CM\n",
    "print(Rneck0)"
   ]
  },
  {
   "cell_type": "code",
   "execution_count": 25,
   "metadata": {},
   "outputs": [
    {
     "name": "stdout",
     "output_type": "stream",
     "text": [
      "141.4710605261292\n"
     ]
    }
   ],
   "source": [
    "Rneck = neck.Ra*neck.L/(neck.diam)**2*0.04/pi\n",
    "print(Rneck)"
   ]
  },
  {
   "cell_type": "code",
   "execution_count": 26,
   "metadata": {
    "scrolled": false
   },
   "outputs": [],
   "source": [
    "def simulateSet(model,spn,tG = 500,ton = 50,toffset = 50,t_stop = 250, EL = -65,btsr = None,VDCC = array([0.,0,0,0]), dendrec = True):\n",
    "    if btsr is None:\n",
    "        btsr = ones(9)==0\n",
    "    model.E_PAS = EL\n",
    "    model.soma.e_pas = model.E_PAS\n",
    "    for dendp in model.dend:\n",
    "        dendp.e_pas = model.E_PAS\n",
    "    for sp in model.spne:\n",
    "        sp.e_pas = model.E_PAS\n",
    "\n",
    "    dendsh = model.dend[-2]\n",
    "    dendc = model.dend[1]\n",
    "    dendN = model.dend[-1]\n",
    "    neck = model.neck[0]\n",
    "    sp = model.spne[0]\n",
    "    dshL = dendsh.L\n",
    "    dendsizeL = dendsh.L+dendc.L+dendN.L\n",
    "    data = column_stack((spn[\"A1\"],spn[\"A1\"],spn[\"A2\"],spn[\"Rneck\"],spn[\"Dss\"],spn[\"L\"],spn[\"D\"],spn[\"Ln\"],spn[\"AhA0\"]))\n",
    "    if isnan(data).sum()>0:\n",
    "        raise \"There are nans do something about it\"\n",
    "    for i in range(9):\n",
    "        if ~btsr[i]:\n",
    "            data[:,i] = data[:,i].mean()\n",
    "         \n",
    "    nsp = data.shape[0]\n",
    "    mes = zeros((nsp,9))\n",
    "    me2 = zeros((nsp,11))\n",
    "    me3 = zeros((nsp,10))\n",
    "\n",
    "    iad = 2\n",
    "    vavg = zeros((int(t_stop/lb.h.dt)+iad,7))\n",
    "    vtracs = zeros((int(t_stop/lb.h.dt)+iad,nsp))\n",
    "    Ctracs = zeros((int(t_stop/lb.h.dt)+iad,nsp))\n",
    "    vtracsD = zeros((int(t_stop/lb.h.dt)+iad,nsp))\n",
    "    vtracsS = zeros((int(t_stop/lb.h.dt)+iad,nsp))\n",
    "    for i in arange(nsp):\n",
    "        NC.weight[0]  = data[i,0] *gtrA#/2\n",
    "        NCN.weight[0] = data[i,1] *gtrN#*0#*0\n",
    "        NCG.weight[0] = data[i,2] *gtrG#*0\n",
    "        \n",
    "        neck.L = data[i,7]  \n",
    "        Rneck0 = neck.Ra*neck.L/(diam0)**2*0.04/pi\n",
    "        #print(Rneck0,data[i,3])\n",
    "        neck.diam = diam0*sqrt(Rneck0/data[i,3])\n",
    "        \n",
    "        posD = data[i,4]\n",
    "        \n",
    "        dendc.L = posD-dshL/2\n",
    "        dendN.L = dendsizeL-posD-dshL/2\n",
    "\n",
    "        \n",
    "        # A = pi*D**2\n",
    "        sp.L = data[i,5]\n",
    "        sp.diam = data[i,6]\n",
    "        sp.cm = data[i,8]\n",
    "        sp.g_pas = data[i,8]/model.RM\n",
    "        spvol = sp(0.5).volume()\n",
    "        spineArea =  sp(0.5).area()#sp.L*sp.diam+1.8*sp.diam**2/4 # um^2\n",
    "        \n",
    "        CaTcond = 1e-3# pS\n",
    "        sp.pbar_caL13PS = VDCC[0]*CaTcond#/spineArea\n",
    "        sp.pbar_caLPS = VDCC[1]*CaTcond#/spineArea\n",
    "        sp.pbar_canPS = VDCC[2]*CaTcond#/spineArea\n",
    "        sp.pcaqbar_caqPS = VDCC[3]*CaTcond#/spineArea\n",
    "        \n",
    "        \n",
    "        NC.delay = toffset+ton-50\n",
    "        NCN.delay = toffset+ton-50\n",
    "        NCG.delay = toffset+tG#toffset+tG#-50\n",
    "\n",
    "        for il in range(10):\n",
    "            f = 1-7.5*il/dendc.L\n",
    "            #f = 0.5\n",
    "            if f>=0:\n",
    "                vDendEL[il].record(dendc(f)._ref_v)\n",
    "            else:\n",
    "                vDendEL[il].record(dendc(0.0)._ref_v)\n",
    "        \n",
    "        for il in range(10):\n",
    "            f = 7.5*il/dendc.L\n",
    "            #f = 0.5\n",
    "            if f<=1:\n",
    "                vDendEL2[il].record(dendN(f)._ref_v)\n",
    "            else:\n",
    "                vDendEL2[il].record(dendN(1.0)._ref_v)\n",
    "                \n",
    "        lb.h.finitialize(model.E_PAS)\n",
    "        \n",
    "        \n",
    "\n",
    "                    \n",
    "        #print(data[i,:])\n",
    "        lb.neuron.run(t_stop)\n",
    "        \n",
    "        #plot(trec,vspneRec[0])    \n",
    "        \n",
    "        current = abs((array(vDendRec[1])-array(vrec[0]))/Rdend)\n",
    "        \n",
    "        vtracs[:,i] = array(vspneRec[0]) \n",
    "        if dendrec:\n",
    "            vtracsD[:,i] = array(vDendRec[1])\n",
    "        else:\n",
    "            vtracsD[:,i] = array(vDendEL[2])\n",
    "            \n",
    "        vtracsS[:,i] = array(vrec) \n",
    "\n",
    "        vavg[:,0] += array(vspneRec[0]) \n",
    "        vavg[:,1] += array(vspneRec[0])**2\n",
    "        vavg[:,2] += array(vDendRec[1]) \n",
    "        vavg[:,3] += array(vDendRec[1])**2\n",
    "        vavg[:,4] += array(vrec) \n",
    "        vavg[:,5] += array(vrec)**2\n",
    "        vavg[:,6] += 1\n",
    "            \n",
    "        cat = array(caDendRec[-1])/1e-3\n",
    "        Ctracs[:,i] = cat-cat[0] \n",
    "        aG = abs(array(currentGABA)).argmax()\n",
    "        aA = abs(array(currentAMPA)).argmax()\n",
    "        \n",
    "        mes[i,:] = [data[i,3],max(vspneRec[0])-EL,max(vDendRec[3])-EL,max(vrec)-EL,max(cat)-cat[0],array(currentGABA)[aG],array(currentAMPA)[aA],spvol,max(current)]\n",
    "        me2[i,0] = max(vDendRec[3])\n",
    "        me2[i,1:] = [max(vD) for vD in vDendEL]\n",
    "        me3[i,:] = [max(vD) for vD in vDendEL2]\n",
    "\n",
    "        #plot(trec,array(caDendRec[-1])/1e-3)\n",
    "        #ylabel(\"[Ca] (uM)\")\n",
    "        #figure()\n",
    "        #plot(trec,vspneRec[0])\n",
    "        #break\n",
    "        \n",
    "    vavg[:,:5] = vavg[:,:5]/vavg[0,6]\n",
    "    vavg[:,1] = sqrt(vavg[:,1]-vavg[:,0]**2)#/sqrt(vavg[0,6])\n",
    "    vavg[:,3] = sqrt(vavg[:,3]-vavg[:,2]**2)#/sqrt(vavg[0,6])\n",
    "    vavg[:,5] = sqrt(vavg[:,5]-vavg[:,4]**2)#/sqrt(vavg[0,6])\n",
    "    return(vavg,mes,vtracs,vtracsD,vtracsS,Ctracs,me2,me3,array(trec))"
   ]
  },
  {
   "cell_type": "code",
   "execution_count": 27,
   "metadata": {},
   "outputs": [],
   "source": [
    "VDCCa =  array([0.04023183, 0.08000483, 0.03416801, 0.02747762] )\n",
    "EL0 = -70"
   ]
  },
  {
   "cell_type": "code",
   "execution_count": 28,
   "metadata": {
    "scrolled": true
   },
   "outputs": [],
   "source": [
    "#vavg0,mes0,vtracs0,vtracsD0,vtracsS0,Ctracs0,me20,me30, trec = simulateSet(model,dis,tG = 100,ton = 50,toffset = 100,t_stop = 500, EL = EL0,btsr = ones(9)==1,VDCC = VDCCa, dendrec=False)\n",
    "#plot(arange(vtracs0.shape[0])*lb.h.dt,vtracs0[:,0])"
   ]
  },
  {
   "cell_type": "code",
   "execution_count": 29,
   "metadata": {},
   "outputs": [],
   "source": [
    "from scipy.integrate import simps"
   ]
  },
  {
   "cell_type": "code",
   "execution_count": 30,
   "metadata": {},
   "outputs": [],
   "source": [
    "def itertis(t1,t2,A1,A2):\n",
    "    te = t1*t2/(t1-t2)\n",
    "    numtt = (t2/t1)**(te/t1)-(t2/t1)**(te/t2)\n",
    "    t1 = t2 + numtt*A1\n",
    "    t2 = A2/log(t1/t2)*(t1-t2)/t1\n",
    "    return(t1,t2)\n",
    "def gettimes(As,t1 = 10,t2 = 1, n = 1000,tol = 1e-9):\n",
    "    A1, A2 = As\n",
    "    t1a, t2a = t1, t2\n",
    "    for i in range(n):\n",
    "        t1,t2 = itertis(t1,t2,A1,A2)\n",
    "    \n",
    "        if (t1-t1a)**2/t1**2+(t2-t2a)**2/t2**2<tol:\n",
    "            #print(i)\n",
    "            break\n",
    "        t1a, t2a = t1, t2\n",
    "        #print(t1,t2)\n",
    "    if i>=n: \n",
    "        print('No convergence?')\n",
    "        \n",
    "    return(t1,t2)"
   ]
  },
  {
   "cell_type": "code",
   "execution_count": 31,
   "metadata": {},
   "outputs": [],
   "source": [
    "#arange(trec.shape[0])[trec>50+100][0]"
   ]
  },
  {
   "cell_type": "code",
   "execution_count": 32,
   "metadata": {},
   "outputs": [],
   "source": [
    "#vavg,mes,vtracs,vtracsD,vtracsS,Ctracs,me2,me3,_ = simulateSet(model,dis,tG = td,ton = 50,toffset = 100,t_stop = 500, EL = EL0,btsr = ones(9)==1,VDCC = VDCCa)"
   ]
  },
  {
   "cell_type": "code",
   "execution_count": 33,
   "metadata": {},
   "outputs": [],
   "source": [
    "#plot(trec,Ctracs[:,1])\n",
    "#def get_ftimes(vtt,ton = 0):\n",
    "    "
   ]
  },
  {
   "cell_type": "code",
   "execution_count": 34,
   "metadata": {},
   "outputs": [],
   "source": [
    "def get_atimes(vtt,ton = 3000):\n",
    "    ampv = vtt.max(axis=0)\n",
    "    intv = array(list(map(lambda x: simps(x,trec),vtt.transpose())))\n",
    "    tt = intv/ampv\n",
    "    sel = vtt.argmax(axis=0)\n",
    "    trise = (sel-ton)*lb.h.dt\n",
    "    times = array(list(map(gettimes,column_stack((tt,trise)))))\n",
    "    return(times, tt, trise)\n",
    "\n",
    "def get_FWHMtimes(vtt,v0 = None,dt =0.05):\n",
    "    if v0 is None:\n",
    "        v0 = vtt[0]\n",
    "    ampv = vtt.max(axis=0,keepdims=True)-v0\n",
    "    ampv2 = ampv/2+v0\n",
    "    sel = ((vtt-ampv2)>0).transpose() \n",
    "    times = array(list(map(lambda x: [arange(len(x))[x][0],arange(len(x))[x][-1]],sel)))\n",
    "    times = dt*(times[:,1]-times[:,0])\n",
    "    return(times)"
   ]
  },
  {
   "cell_type": "code",
   "execution_count": 35,
   "metadata": {},
   "outputs": [],
   "source": [
    "def getint(x):\n",
    "    xc = x*1.0\n",
    "    xc.sort()\n",
    "    sh = xc.shape[0]\n",
    "    xmed = xc[sh//2]\n",
    "    s0= int(sh*(1-.6827)/2)\n",
    "    s1 = sh-s0\n",
    "    x0 = xc[s0]\n",
    "    x1 = xc[s1]\n",
    "    s0b= int(sh*(1-.95)/2)\n",
    "    s1b = sh-s0b\n",
    "    x0b = xc[s0b]\n",
    "    x1b = xc[s1b]\n",
    "    return((xmed,x0,x1,x0b,x1b))"
   ]
  },
  {
   "cell_type": "code",
   "execution_count": 36,
   "metadata": {},
   "outputs": [],
   "source": [
    "#def t0t1(x): return([arange(len(x))[x][0],arange(len(x))[x][-1]])\n",
    "#get_FWHMtimes(vtt,v0=0.0,dt =lb.h.dt)\n"
   ]
  },
  {
   "cell_type": "code",
   "execution_count": 37,
   "metadata": {},
   "outputs": [],
   "source": [
    "tdels = [-49,-30,-20,-15,-10,-7.5,-5,-3.5,-2,-1,-0.5,0,0.5,1.0,2.0,2.75,3.5,5.0,7.5,10.0,15.0,20.,30.,50]\n",
    "dtime = zeros((len(tdels),15))\n",
    "data = zeros((len(tdels),20))\n",
    "data2 = zeros((len(tdels),20))\n",
    "\n",
    "times_biexp = False\n",
    "\n",
    "EL0 = -70\n",
    "vavg0,mes0,vtracs0,vtracsD0,vtracsS0,Ctracs0,me20,me30, trec = simulateSet(model,dis,tG = 100,ton = 50,toffset = 100,t_stop = 500, EL = EL0,btsr = ones(9)==1,VDCC = VDCCa)\n",
    "\n",
    "vtt = clip(vtracs0-EL0,0,100)\n",
    "if times_biexp:\n",
    "    times0 = get_atimes(vtt,ton=3000)\n",
    "else:\n",
    "    times0, tt, trise = get_atimes(vtt,ton=3000)\n",
    "    times0 = get_FWHMtimes(vtt, v0 =0, dt = lb.h.dt)\n",
    "\n",
    "\n",
    "for i,td in enumerate(tdels):\n",
    "    vavg,mes,vtracs,vtracsD,vtracsS,Ctracs,me2,me3,_ = simulateSet(model,dis,tG = td,ton = 50,toffset = 100,t_stop = 500, EL = EL0,btsr = ones(9)==1,VDCC = VDCCa)\n",
    "    \n",
    "    # EPSP in spine head\n",
    "    vtt = clip(vtracs-EL0,0,100)\n",
    "    if times_biexp:\n",
    "        times = get_atimes(vtt,ton=3000)\n",
    "    else:\n",
    "        times, tt, trise = get_atimes(vtt,ton=3000)\n",
    "        times = get_FWHMtimes(vtt, v0 =0, dt = lb.h.dt)\n",
    "\n",
    "    #dtime[i,:2] = (times.mean(),times.std())\n",
    "    dtime[i,:5] = getint(times/times0)\n",
    "    #dtime[i,2:6] = (tt.mean(),tt.std(),trise.mean(),trise.std())\n",
    "\n",
    "    # EPSP In the soma\n",
    "    vtt = clip(vtracsS-EL0,0,100)\n",
    "    if times_biexp:\n",
    "        times = get_atimes(vtt,ton=3000)\n",
    "    else:\n",
    "        times, tt, trise = get_atimes(vtt,ton=3000)\n",
    "        times = get_FWHMtimes(vtt, v0 =0, dt = lb.h.dt)\n",
    "\n",
    "    #dtime[i,6:8] = (times.mean(),times.std())\n",
    "    dtime[i,5:10] = getint(times/times0)\n",
    "    \n",
    "    # For calcium in spine\n",
    "    vtt = clip(Ctracs,0,100)\n",
    "    if times_biexp:\n",
    "        times = get_atimes(vtt,ton=3000)\n",
    "    else:\n",
    "        times, tt, trise = get_atimes(vtt,ton=3000)\n",
    "        times = get_FWHMtimes(vtt, v0 =0, dt = lb.h.dt)\n",
    "    #dtime[i,8:10] = (times.mean(),times.std())\n",
    "    dtime[i,10:15] = getint(times/times0)\n",
    "    \n",
    "    # Statistics\n",
    "    #data[i,:] = mes.mean(axis=0)\n",
    "    #datt0 = mes[:,1:5]/mes0[:,1:5]\n",
    "    #data2[i,:] = concatenate((datt0.mean(axis=0),datt0.std(axis=0)))\n",
    "    for j in range(1,5):\n",
    "        data[i,(5*(j-1)):(5*(j))] = getint(mes[:,j])\n",
    "        data2[i,(5*(j-1)):(5*(j))] = getint(mes[:,j]/mes0[:,j])"
   ]
  },
  {
   "cell_type": "code",
   "execution_count": 38,
   "metadata": {},
   "outputs": [
    {
     "data": {
      "text/plain": [
       "(1000, 9)"
      ]
     },
     "execution_count": 38,
     "metadata": {},
     "output_type": "execute_result"
    }
   ],
   "source": [
    "mes0.shape"
   ]
  },
  {
   "cell_type": "code",
   "execution_count": 39,
   "metadata": {},
   "outputs": [],
   "source": [
    "with open(\"inhibition_disx2.pickle\",\"wb\") as f:\n",
    "    pickle.dump([tdels,data2,data,dtime],f)"
   ]
  },
  {
   "cell_type": "code",
   "execution_count": 40,
   "metadata": {},
   "outputs": [],
   "source": [
    "td = -5\n",
    "vavg,mes,vtracs,vtracsD,vtracsS,Ctracs,me2,me3,_ = simulateSet(model,dis,tG = td,ton = 50,toffset = 100,t_stop = 500, EL = EL0,btsr = ones(9)==1,VDCC = VDCCa)\n"
   ]
  },
  {
   "cell_type": "code",
   "execution_count": 41,
   "metadata": {},
   "outputs": [
    {
     "data": {
      "text/plain": [
       "(array([  1.,   0.,   4.,   6.,   5.,   9.,  13.,  15.,  19.,  15.,  17.,\n",
       "         19.,  16.,  13.,  12.,  18.,  13.,  24.,  29.,  45.,  51.,  40.,\n",
       "         50.,  46.,  40.,  36.,  38.,  75., 182., 100.,  49.]),\n",
       " array([0.68696994, 0.69694569, 0.70692143, 0.71689718, 0.72687292,\n",
       "        0.73684867, 0.74682441, 0.75680016, 0.7667759 , 0.77675164,\n",
       "        0.78672739, 0.79670313, 0.80667888, 0.81665462, 0.82663037,\n",
       "        0.83660611, 0.84658186, 0.8565576 , 0.86653335, 0.87650909,\n",
       "        0.88648483, 0.89646058, 0.90643632, 0.91641207, 0.92638781,\n",
       "        0.93636356, 0.9463393 , 0.95631505, 0.96629079, 0.97626653,\n",
       "        0.98624228, 0.99621802]),\n",
       " <a list of 31 Patch objects>)"
      ]
     },
     "execution_count": 41,
     "metadata": {},
     "output_type": "execute_result"
    },
    {
     "data": {
      "image/png": "[encoded data removed]",
      "text/plain": [
       "<Figure size 432x288 with 1 Axes>"
      ]
     },
     "metadata": {
      "needs_background": "light"
     },
     "output_type": "display_data"
    }
   ],
   "source": [
    "hist(mes[:,4]/mes0[:,4],31)"
   ]
  },
  {
   "cell_type": "code",
   "execution_count": 42,
   "metadata": {},
   "outputs": [
    {
     "data": {
      "text/plain": [
       "[<matplotlib.lines.Line2D at 0x7f2c536d3748>]"
      ]
     },
     "execution_count": 42,
     "metadata": {},
     "output_type": "execute_result"
    },
    {
     "data": {
      "image/png": "[encoded data removed]",
      "text/plain": [
       "<Figure size 432x288 with 1 Axes>"
      ]
     },
     "metadata": {
      "needs_background": "light"
     },
     "output_type": "display_data"
    }
   ],
   "source": [
    "plot(mes[:,-3],mes[:,4]/mes0[:,4],'.')"
   ]
  },
  {
   "cell_type": "code",
   "execution_count": 43,
   "metadata": {},
   "outputs": [
    {
     "data": {
      "text/plain": [
       "<matplotlib.collections.LineCollection at 0x7f2c536583c8>"
      ]
     },
     "execution_count": 43,
     "metadata": {},
     "output_type": "execute_result"
    },
    {
     "data": {
      "image/png": "[encoded data removed]",
      "text/plain": [
       "<Figure size 576x432 with 1 Axes>"
      ]
     },
     "metadata": {
      "needs_background": "light"
     },
     "output_type": "display_data"
    }
   ],
   "source": [
    "figure(figsize=(8,6))\n",
    "#me2 = 1.0*medata2\n",
    "sel = mes[:,0].argsort()\n",
    "plot(tdels,data2[:,0],'.-',label=int(mes[0,-1]))\n",
    "fill_between(tdels,data2[:,0]+data2[:,0+4],data2[:,0]-data2[:,0+4],alpha=0.5)\n",
    "\n",
    "plot(tdels,data2[:,3],'.-',label=int(mes[0,-1]))\n",
    "fill_between(tdels,data2[:,3]+data2[:,3+4],data2[:,3]-data2[:,3+4],alpha=0.5)\n",
    "\n",
    "xlabel(\"t(ms)\")\n",
    "ylabel(\"$\\Delta F/ F$\")\n",
    "xlim(-30,30)\n",
    "#legend(title=\"$n_{GABAR}$\")\n",
    "vlines(0.0,0.65,1.0,linestyle=\"--\")\n",
    "#savefig(\"CEItiming.png\",bbox_inches='tight',pad_inches = 0)"
   ]
  },
  {
   "cell_type": "markdown",
   "metadata": {},
   "source": [
    "## Baseline conditions"
   ]
  },
  {
   "cell_type": "code",
   "execution_count": 44,
   "metadata": {},
   "outputs": [],
   "source": [
    "sps = btset_cd(cd='Sp',size=nsp)\n",
    "sps['A2'][isnan(sps['A2'])] = 0.0\n",
    "sps['Rneck']=  sps['Rneck']*2"
   ]
  },
  {
   "cell_type": "code",
   "execution_count": 45,
   "metadata": {},
   "outputs": [],
   "source": [
    "td = 500\n",
    "vavg,mes,vtracs,vtracsD,vtracsS,Ctracs,me2,me3,_ = simulateSet(model,sps,tG = td,ton = 50,toffset = 70,t_stop = 500, EL = EL0,btsr = ones(9)==1,VDCC = VDCCa,dendrec=False)\n",
    "with open(\"../SpineModel/dis_baselineB_spsx2.pickle\",\"wb\") as f:\n",
    "    pickle.dump([vavg,mes,vtracs,vtracsD,vtracsS,Ctracs,me2,me3],f) \n",
    "    \n",
    "vavg,mes,vtracs,vtracsD,vtracsS,Ctracs,me2,me3,_ = simulateSet(model,dis,tG = td,ton = 50,toffset = 70,t_stop = 500, EL = EL0,btsr = ones(9)==1,VDCC = VDCCa,dendrec=False)\n",
    "with open(\"../SpineModel/dis_baselineB_disx2.pickle\",\"wb\") as f:\n",
    "    pickle.dump([vavg,mes,vtracs,vtracsD,vtracsS,Ctracs,me2,me3],f) "
   ]
  },
  {
   "cell_type": "code",
   "execution_count": 46,
   "metadata": {},
   "outputs": [],
   "source": [
    "td = 10\n",
    "vavg,mes,vtracs,vtracsD,vtracsS,Ctracs,me2,me3,_ = simulateSet(model,dis,tG = td,ton = 50,toffset = 70,t_stop = 500, EL = EL0,btsr = ones(9)==1,VDCC = VDCCa)\n",
    "with open(\"../SpineModel/dis_glu_ga10x2.pickle\",\"wb\") as f:\n",
    "    pickle.dump([vavg,mes,vtracs,vtracsD,vtracsS,Ctracs],f) \n",
    "    \n",
    "td = -10\n",
    "vavg,mes,vtracs,vtracsD,vtracsS,Ctracs,me2,me3,_ = simulateSet(model,dis,tG = td,ton = 50,toffset = 70,t_stop = 500, EL = EL0,btsr = ones(9)==1,VDCC = VDCCa)\n",
    "with open(\"../SpineModel/dis_ga_glu10x2.pickle\",\"wb\") as f:\n",
    "    pickle.dump([vavg,mes,vtracs,vtracsD,vtracsS,Ctracs],f) \n",
    "      \n",
    "td = 500\n",
    "vavg,mes,vtracs,vtracsD,vtracsS,Ctracs,me2,me3,_ = simulateSet(model,dis,tG = td,ton = 50,toffset = 70,t_stop = 500, EL = EL0,btsr = ones(9)==1,VDCC = VDCCa)\n",
    "with open(\"../SpineModel/dis_baselinex2.pickle\",\"wb\") as f:\n",
    "    pickle.dump([vavg,mes,vtracs,vtracsD,vtracsS,Ctracs],f) "
   ]
  },
  {
   "cell_type": "code",
   "execution_count": 47,
   "metadata": {},
   "outputs": [],
   "source": [
    "td = 5\n",
    "vavg,mes,vtracs,vtracsD,vtracsS,Ctracs,me2,me3,_ = simulateSet(model,dis,tG = td,ton = 50,toffset = 70,t_stop = 500, EL = EL0,btsr = ones(9)==1,VDCC = VDCCa)\n",
    "with open(\"../SpineModel/dis_glu_ga05x2.pickle\",\"wb\") as f:\n",
    "    pickle.dump([vavg,mes,vtracs,vtracsD,vtracsS,Ctracs],f) \n",
    "    \n",
    "td = -5\n",
    "vavg,mes,vtracs,vtracsD,vtracsS,Ctracs,me2,me3,_ = simulateSet(model,dis,tG = td,ton = 50,toffset = 70,t_stop = 500, EL = EL0,btsr = ones(9)==1,VDCC = VDCCa)\n",
    "with open(\"../SpineModel/dis_ga_glu05x2.pickle\",\"wb\") as f:\n",
    "    pickle.dump([vavg,mes,vtracs,vtracsD,vtracsS,Ctracs],f) \n",
    "    "
   ]
  },
  {
   "cell_type": "code",
   "execution_count": 48,
   "metadata": {},
   "outputs": [],
   "source": [
    "#vavg,mes,vtracs,vtracsD,vtracsS,Ctracs,me2,me3,_ = simulateSet(model,dis,tG = td,ton = 50,toffset = 70,t_stop = 500, EL = EL0,btsr = ones(9)==1,VDCC = VDCCa*0)\n"
   ]
  },
  {
   "cell_type": "code",
   "execution_count": 49,
   "metadata": {},
   "outputs": [],
   "source": [
    "#td = 500\n",
    "#vavg,mes,vtracs,vtracsD,vtracsS,Ctracs,me2,me3,_ = simulateSet(model,sps,tG = td,ton = 50,toffset = 70,t_stop = 500, EL = EL0,btsr = ones(9)==1,VDCC = VDCCa,dendrec=False)\n",
    "#with open(\"../SpineModel/dis_baselineB_sps.pickle\",\"wb\") as f:\n",
    "#    pickle.dump([vavg,mes,vtracs,vtracsD,vtracsS,Ctracs,me2,me3],f) \n",
    "#    \n",
    "#vavg,mes,vtracs,vtracsD,vtracsS,Ctracs,me2,me3,_ = simulateSet(model,dis,tG = td,ton = 50,toffset = 70,t_stop = 500, EL = EL0,btsr = ones(9)==1,VDCC = VDCCa,dendrec=False)\n",
    "#with open(\"../SpineModel/dis_baselineB_dis.pickle\",\"wb\") as f:\n",
    "#    pickle.dump([vavg,mes,vtracs,vtracsD,vtracsS,Ctracs,me2,me3],f) "
   ]
  },
  {
   "cell_type": "code",
   "execution_count": 50,
   "metadata": {},
   "outputs": [],
   "source": [
    "from bootstrap import dataset\n",
    "with open(\"data_Fullset/Fullset.pkl\",\"rb\") as f:\n",
    "    data = pickle.load(f)\n",
    "spdata = dataset(data,noise=0.0)\n",
    "spdata['A2'][isnan(spdata['A2'])] = 0.0\n",
    "#spdata['A1'][isnan(spdata['A1'])] = 0.0 \n",
    "spdata['Rneck'] = 2*spdata['Rneck']"
   ]
  },
  {
   "cell_type": "code",
   "execution_count": 51,
   "metadata": {},
   "outputs": [
    {
     "name": "stdout",
     "output_type": "stream",
     "text": [
      "#Bch : 365\n",
      "Dsb : 365\n",
      "Dss : 365\n",
      "d_interSp : 357\n",
      "Vtot : 365\n",
      "Vh : 365\n",
      "Ln : 365\n",
      "SA : 365\n",
      "nPSD : 365\n",
      "A1 : 365\n",
      "A2 : 365\n",
      "GPHN SNR : 40\n",
      "DiS-EMchk : 27\n",
      "Lneck : 365\n",
      "maxDneck : 365\n",
      "minDneck : 365\n",
      "meanDneck : 365\n",
      "Rneck : 365\n",
      "Lhead : 365\n",
      "maxDhead : 365\n",
      "minDhead : 365\n",
      "meanDhead : 365\n",
      "Ah : 365\n",
      "Rhead : 365\n",
      "L : 365\n",
      "D : 365\n",
      "AhA0 : 365\n"
     ]
    },
    {
     "name": "stderr",
     "output_type": "stream",
     "text": [
      "/export/home1/users/bssn/serna/environments/neuron/lib/python3.6/site-packages/pandas/core/computation/expressions.py:183: UserWarning: evaluating in Python space because the '*' operator is not supported by numexpr for the bool dtype, use '&' instead\n",
      "  .format(op=op_str, alt_op=unsupported[op_str]))\n"
     ]
    }
   ],
   "source": [
    "sel = ones(spdata['A2'].shape[0]) == 1\n",
    "#print(sel.sum())\n",
    "keys = list(spdata.keys())\n",
    "keys.pop(12)\n",
    "keys.pop(11)\n",
    "keys.pop(7)\n",
    "keys.pop(3)\n",
    "#keys.pop(26)\n",
    "\n",
    "for key in keys:\n",
    "    sel = sel*isfinite(spdata[key])\n",
    "    #print(key,':',sel.sum())\n",
    "    \n",
    "for key in spdata.keys():\n",
    "    spdata[key] = spdata[key][sel]\n",
    "    print(key,':',isfinite(spdata[key]).sum())"
   ]
  },
  {
   "cell_type": "code",
   "execution_count": 52,
   "metadata": {},
   "outputs": [
    {
     "data": {
      "text/plain": [
       "171.50774922258847"
      ]
     },
     "execution_count": 52,
     "metadata": {},
     "output_type": "execute_result"
    }
   ],
   "source": [
    "spdata['Rneck'].mean()"
   ]
  },
  {
   "cell_type": "code",
   "execution_count": 53,
   "metadata": {},
   "outputs": [],
   "source": [
    "td = 500\n",
    "vavg,mes,vtracs,vtracsD,vtracsS,Ctracs,me2,me3,_ = simulateSet(model,spdata,tG = td,ton = 50,toffset = 70,t_stop = 500, EL = EL0,btsr = ones(9)==1,VDCC = VDCCa,dendrec=False)\n",
    "with open(\"../SpineModel/All_baseline_datasetx2.pickle\",\"wb\") as f:\n",
    "    pickle.dump([vavg,mes,vtracs,vtracsD,vtracsS,Ctracs,me2,me3,spdata],f) \n",
    " "
   ]
  },
  {
   "cell_type": "code",
   "execution_count": 62,
   "metadata": {},
   "outputs": [],
   "source": []
  },
  {
   "cell_type": "code",
   "execution_count": 54,
   "metadata": {},
   "outputs": [],
   "source": [
    "dendp2 = dendN\n",
    "dendp1 = dendc"
   ]
  },
  {
   "cell_type": "markdown",
   "metadata": {},
   "source": [
    "## EPSP in soma as a function of the distance - Dend integration\n"
   ]
  },
  {
   "cell_type": "code",
   "execution_count": 55,
   "metadata": {},
   "outputs": [
    {
     "name": "stdout",
     "output_type": "stream",
     "text": [
      "0\n",
      "10\n",
      "20\n",
      "30\n",
      "40\n",
      "50\n",
      "60\n",
      "70\n",
      "80\n",
      "90\n",
      "100\n",
      "110\n",
      "120\n",
      "130\n",
      "140\n",
      "150\n",
      "160\n",
      "170\n",
      "180\n",
      "190\n"
     ]
    }
   ],
   "source": [
    "td = 500\n",
    "mVs = zeros((nsp*200,5))\n",
    "for i in range(200):\n",
    "    sps = btset_cd(cd='Sp',size=nsp)\n",
    "    sel = isnan(sps['A2'])\n",
    "    sps['A2'][sel] = 0.0\n",
    "    sps['Rneck'] = sps['Rneck']*2\n",
    "    \n",
    "    dendsizeL = max(max(sps['Dss'])+10,177)\n",
    "    dendp1.L = dendsizeL-10\n",
    "    dendp2.L = 8 \n",
    "    dendsh.L = 2    \n",
    "    \n",
    "    vavg,mes,vtracs,vtracsD,vtracsS,Ctracs,me2,me3,_ = simulateSet(model,sps,tG = td,ton = 50,toffset = 70,t_stop = 500, EL = EL0,btsr = ones(9)==1,VDCC = VDCCa,dendrec=False)\n",
    "    mVs[(i*nsp):((i+1)*nsp),:3] = mes[:,1:4]\n",
    "    mVs[(i*nsp):((i+1)*nsp),3] = 2.0-sel*1.0\n",
    "    mVs[(i*nsp):((i+1)*nsp),4] = sps['Dss']\n",
    "    if i%10==0:\n",
    "        print(i)\n",
    "        with open(\"../SpineModel/SPS_Voltagedistx1e5_tempx2.pickle\",\"wb\") as f:\n",
    "            pickle.dump(mVs[:((i+1)*500),:],f) \n",
    "        \n",
    "with open(\"../SpineModel/SPS_Voltagedistx1e5x2.pickle\",\"wb\") as f:\n",
    "    pickle.dump(mVs,f) \n",
    " "
   ]
  },
  {
   "cell_type": "code",
   "execution_count": null,
   "metadata": {},
   "outputs": [],
   "source": []
  },
  {
   "cell_type": "code",
   "execution_count": 76,
   "metadata": {},
   "outputs": [
    {
     "name": "stdout",
     "output_type": "stream",
     "text": [
      "3.484980449518403 0.18102362047240944 49999 200000\n"
     ]
    },
    {
     "data": {
      "image/png": "[encoded data removed]",
      "text/plain": [
       "<Figure size 432x288 with 1 Axes>"
      ]
     },
     "metadata": {
      "needs_background": "light"
     },
     "output_type": "display_data"
    }
   ],
   "source": [
    "Vsoma = 1.0*mVs[:,2]\n",
    "Vsoma.sort()\n",
    "Vmed =Vsoma[Vsoma.shape[0]*3//4] \n",
    "total = (mVs[:,2]>Vmed).sum()\n",
    "DiS = (mVs[mVs[:,-2]>1.5,2]>Vmed).sum()\n",
    "print(Vmed,DiS/total,total,mVs.shape[0])\n",
    "h = hist(mVs[:,2],100)\n",
    "h = hist(mVs[mVs[:,-2]>1.5,2],100,alpha=0.7)"
   ]
  },
  {
   "cell_type": "code",
   "execution_count": 73,
   "metadata": {},
   "outputs": [
    {
     "data": {
      "text/plain": [
       "array([[  7.61650178,   6.7763937 ,   1.77608562,   1.        ,\n",
       "         69.87540343],\n",
       "       [  4.52977181,   1.89480957,   0.35673976,   1.        ,\n",
       "        112.29626186],\n",
       "       [  7.3085253 ,   5.00564866,   0.97521972,   1.        ,\n",
       "        108.31993762],\n",
       "       [ 30.3505604 ,  25.31695537,   5.8507984 ,   1.        ,\n",
       "         90.71377031]])"
      ]
     },
     "execution_count": 73,
     "metadata": {},
     "output_type": "execute_result"
    }
   ],
   "source": [
    "mVs[:4,:]"
   ]
  },
  {
   "cell_type": "markdown",
   "metadata": {},
   "source": [
    "mVs"
   ]
  },
  {
   "cell_type": "code",
   "execution_count": 58,
   "metadata": {},
   "outputs": [],
   "source": [
    "td = 500\n",
    "vavg0,mes0,vtracs0,vtracsD0,vtracsS0,Ctracs0,me2,me3,_ = simulateSet(model,dis,tG = td,ton = 50,toffset = 70,t_stop = 500, EL = EL0,btsr = ones(9)==1,VDCC = VDCCa)\n"
   ]
  },
  {
   "cell_type": "code",
   "execution_count": 59,
   "metadata": {},
   "outputs": [],
   "source": [
    "td = -5\n",
    "vavg,mes,vtracs,vtracsD,vtracsS,Ctracs,me2,me3,_ = simulateSet(model,dis,tG = td,ton = 50,toffset = 70,t_stop = 500, EL = EL0,btsr = ones(9)==1,VDCC = VDCCa)\n"
   ]
  },
  {
   "cell_type": "code",
   "execution_count": 60,
   "metadata": {},
   "outputs": [
    {
     "data": {
      "text/plain": [
       "(array([  1.,   0.,   0.,   0.,   2.,   3.,   2.,   2.,   4.,   3.,   2.,\n",
       "          4.,   6.,   6.,  14.,   9.,   6.,  13.,  12.,  13.,   9.,  14.,\n",
       "         12.,  18.,  24.,  21.,  24.,  18.,  25.,  17.,  32.,  25.,  29.,\n",
       "         23.,  18.,  31.,  30.,  31.,  27.,  23.,  10.,  15.,  16.,  20.,\n",
       "         36.,  63., 106.,  94.,  20.,   1.,  66.]),\n",
       " array([0.62363754, 0.6309038 , 0.63817007, 0.64543633, 0.65270259,\n",
       "        0.65996885, 0.66723511, 0.67450137, 0.68176763, 0.6890339 ,\n",
       "        0.69630016, 0.70356642, 0.71083268, 0.71809894, 0.7253652 ,\n",
       "        0.73263147, 0.73989773, 0.74716399, 0.75443025, 0.76169651,\n",
       "        0.76896277, 0.77622903, 0.7834953 , 0.79076156, 0.79802782,\n",
       "        0.80529408, 0.81256034, 0.8198266 , 0.82709287, 0.83435913,\n",
       "        0.84162539, 0.84889165, 0.85615791, 0.86342417, 0.87069043,\n",
       "        0.8779567 , 0.88522296, 0.89248922, 0.89975548, 0.90702174,\n",
       "        0.914288  , 0.92155427, 0.92882053, 0.93608679, 0.94335305,\n",
       "        0.95061931, 0.95788557, 0.96515183, 0.9724181 , 0.97968436,\n",
       "        0.98695062, 0.99421688]),\n",
       " <a list of 51 Patch objects>)"
      ]
     },
     "execution_count": 60,
     "metadata": {},
     "output_type": "execute_result"
    },
    {
     "data": {
      "image/png": "[encoded data removed]",
      "text/plain": [
       "<Figure size 432x288 with 1 Axes>"
      ]
     },
     "metadata": {
      "needs_background": "light"
     },
     "output_type": "display_data"
    }
   ],
   "source": [
    "hist(Ctracs.max(axis=0)/Ctracs0.max(axis=0),51)\n"
   ]
  },
  {
   "cell_type": "code",
   "execution_count": 61,
   "metadata": {},
   "outputs": [
    {
     "name": "stdout",
     "output_type": "stream",
     "text": [
      "#Bch : 1.7534143748876625\n",
      "Dsb : 54.1758313249151\n",
      "Dss : 83.41439202565654\n",
      "d_interSp : 0.7884440494539867\n",
      "Vtot : 0.2845084746087059\n",
      "Vh : 0.16899996164797226\n",
      "Ln : 1.47297113552175\n",
      "SA : 0.9304543955075183\n",
      "nPSD : 2.001226605087856\n",
      "A1 : 0.23688804441568004\n",
      "A2 : 0.09260792853278162\n",
      "GPHN SNR : 8.202157941237838\n",
      "DiS-EMchk : 0.9413357083037046\n",
      "Lneck : 1.4329753714301305\n",
      "maxDneck : 489.8797672921892\n",
      "minDneck : 156.8771992191553\n",
      "meanDneck : 269.2658439919817\n",
      "Rneck : 163.026418670777\n",
      "Lhead : 0.9235595070191647\n",
      "maxDhead : 527.3644601436874\n",
      "minDhead : 70.17232115133613\n",
      "meanDhead : 383.1429631314691\n",
      "Ah : 4.675143003495912\n",
      "Rhead : 5.42153822378248\n",
      "L : 0.5273644601436874\n",
      "D : 0.6003351202393608\n",
      "AhA0 : 4.495993714809651\n"
     ]
    }
   ],
   "source": [
    "for key in dis.keys():\n",
    "    print(key,':',dis[key].mean())"
   ]
  },
  {
   "cell_type": "code",
   "execution_count": 62,
   "metadata": {},
   "outputs": [
    {
     "name": "stdout",
     "output_type": "stream",
     "text": [
      "0.0066 0.0009227362204724411 0.006\n",
      "0.0009090542315847921 0.0016294860801316497 0.00022781603437774722\n"
     ]
    }
   ],
   "source": [
    "print(gtrA,gtrN,gtrG)\n",
    "print(NCG.weight[0],NC.weight[0],NCN.weight[0])"
   ]
  },
  {
   "cell_type": "code",
   "execution_count": 80,
   "metadata": {},
   "outputs": [],
   "source": [
    "td = 500\n",
    "\n",
    "vavg0,mes0,vtracs0,vtracsD0,vtracsS0,Ctracs0,me20,me30,_ = simulateSet(model,dis,tG = td,ton = 50,toffset = 70,t_stop = 500, EL = EL0,btsr = ones(9)==1,VDCC = VDCCa,dendrec=False)\n"
   ]
  },
  {
   "cell_type": "code",
   "execution_count": 92,
   "metadata": {},
   "outputs": [],
   "source": [
    "td = -5\n",
    "vavg,mes,vtracs,vtracsD,vtracsS,Ctracs,me2,me3,_ = simulateSet(model,dis,tG = td,ton = 50,toffset = 70,t_stop = 500, EL = EL0,btsr = ones(9)==1,VDCC = VDCCa)\n"
   ]
  },
  {
   "cell_type": "code",
   "execution_count": 89,
   "metadata": {},
   "outputs": [
    {
     "data": {
      "text/plain": [
       "Text(0, 0.5, 'Vsp/Vsp0')"
      ]
     },
     "execution_count": 89,
     "metadata": {},
     "output_type": "execute_result"
    },
    {
     "data": {
      "image/png": "[encoded data removed]",
      "text/plain": [
       "<Figure size 432x288 with 1 Axes>"
      ]
     },
     "metadata": {
      "needs_background": "light"
     },
     "output_type": "display_data"
    }
   ],
   "source": [
    "plot(dis['Rneck'],mes[:,1]/mes0[:,1],'.')\n",
    "xlabel('Rneck')\n",
    "ylabel('Vsp/Vsp0')"
   ]
  },
  {
   "cell_type": "code",
   "execution_count": 127,
   "metadata": {},
   "outputs": [
    {
     "data": {
      "text/plain": [
       "Text(0, 0.5, 'C/C0')"
      ]
     },
     "execution_count": 127,
     "metadata": {},
     "output_type": "execute_result"
    },
    {
     "data": {
      "image/png": "[encoded data removed]",
      "text/plain": [
       "<Figure size 432x288 with 1 Axes>"
      ]
     },
     "metadata": {
      "needs_background": "light"
     },
     "output_type": "display_data"
    }
   ],
   "source": [
    "plot(dis['A1'],mes[:,4]/mes0[:,4],'.')\n",
    "xlabel('A1')\n",
    "ylabel('C/C0')"
   ]
  },
  {
   "cell_type": "code",
   "execution_count": null,
   "metadata": {},
   "outputs": [],
   "source": [
    "td = 2\n",
    "vavg,mes,vtracs,vtracsD,vtracsS,Ctracs,me2,me3,_ = simulateSet(model,dis,tG = td,ton = 50,toffset = 70,t_stop = 500, EL = EL0,btsr = ones(9)==1,VDCC = VDCCa)\n"
   ]
  },
  {
   "cell_type": "code",
   "execution_count": 97,
   "metadata": {},
   "outputs": [
    {
     "name": "stderr",
     "output_type": "stream",
     "text": [
      "/export/home1/users/bssn/serna/environments/neuron/lib/python3.6/site-packages/ipykernel_launcher.py:3: RuntimeWarning: invalid value encountered in double_scalars\n",
      "  This is separate from the ipykernel package so we can avoid doing imports until\n"
     ]
    }
   ],
   "source": [
    "vtt = clip(vtracs0-EL0,0,100)\n",
    "if times_biexp:\n",
    "    times0 = get_atimes(vtt,ton=3000)\n",
    "else:\n",
    "    times0, tt, trise = get_atimes(vtt,ton=3000)\n",
    "    times0 = get_FWHMtimes(vtt, v0 =0, dt = lb.h.dt)\n",
    "\n",
    "vtt = clip(vtracs-EL0,0,100)\n",
    "if times_biexp:\n",
    "    times = get_atimes(vtt,ton=3000)\n",
    "else:\n",
    "    times, tt, trise = get_atimes(vtt,ton=3000)\n",
    "    times = get_FWHMtimes(vtt, v0 =0, dt = lb.h.dt)\n"
   ]
  },
  {
   "cell_type": "code",
   "execution_count": 109,
   "metadata": {},
   "outputs": [
    {
     "data": {
      "text/plain": [
       "(6.87015, 8.75925)"
      ]
     },
     "execution_count": 109,
     "metadata": {},
     "output_type": "execute_result"
    },
    {
     "data": {
      "image/png": "[encoded data removed]",
      "text/plain": [
       "<Figure size 432x288 with 1 Axes>"
      ]
     },
     "metadata": {
      "needs_background": "light"
     },
     "output_type": "display_data"
    }
   ],
   "source": [
    "plot(dis['Rneck'],times,'.')\n",
    "plot(dis['Rneck'],times0,'.')\n",
    "xlabel('Rneck')\n",
    "ylabel('FWHM/FWHM_infty')\n",
    "times.mean(),times0.mean()"
   ]
  },
  {
   "cell_type": "code",
   "execution_count": 102,
   "metadata": {},
   "outputs": [
    {
     "data": {
      "text/plain": [
       "Text(0, 0.5, 'FWHM/FWHM_infty')"
      ]
     },
     "execution_count": 102,
     "metadata": {},
     "output_type": "execute_result"
    },
    {
     "data": {
      "image/png": "[encoded data removed]",
      "text/plain": [
       "<Figure size 432x288 with 1 Axes>"
      ]
     },
     "metadata": {
      "needs_background": "light"
     },
     "output_type": "display_data"
    }
   ],
   "source": [
    "plot(dis['A1'],times/times0,'.')\n",
    "xlabel('A1')\n",
    "ylabel('FWHM/FWHM_infty')"
   ]
  },
  {
   "cell_type": "code",
   "execution_count": 110,
   "metadata": {},
   "outputs": [
    {
     "name": "stderr",
     "output_type": "stream",
     "text": [
      "/export/home1/users/bssn/serna/environments/neuron/lib/python3.6/site-packages/ipykernel_launcher.py:3: RuntimeWarning: invalid value encountered in double_scalars\n",
      "  This is separate from the ipykernel package so we can avoid doing imports until\n"
     ]
    }
   ],
   "source": [
    "td = 500\n",
    "\n",
    "vavg0,mes0,vtracs0,vtracsD0,vtracsS0,Ctracs0,me20,me30,_ = simulateSet(model,dis,tG = td,ton = 50,toffset = 70,t_stop = 500, EL = EL0,btsr = ones(9)==1,VDCC = VDCCa,dendrec=False)\n",
    "   \n",
    "td = -2\n",
    "vavg,mes,vtracs,vtracsD,vtracsS,Ctracs,me2,me3,_ = simulateSet(model,dis,tG = td,ton = 50,toffset = 70,t_stop = 500, EL = EL0,btsr = ones(9)==1,VDCC = VDCCa)\n",
    "with open(\"../SpineModel/dis_ga_glu02x2.pickle\",\"wb\") as f:\n",
    "    pickle.dump([dis,mes,mes0],f) \n",
    "\n",
    "td = 2\n",
    "vavg,mes,vtracs,vtracsD,vtracsS,Ctracs,me2,me3,_ = simulateSet(model,dis,tG = td,ton = 50,toffset = 70,t_stop = 500, EL = EL0,btsr = ones(9)==1,VDCC = VDCCa)\n",
    "\n",
    "vtt = clip(vtracs0-EL0,0,100)\n",
    "if times_biexp:\n",
    "    times0 = get_atimes(vtt,ton=3000)\n",
    "else:\n",
    "    times0, tt, trise = get_atimes(vtt,ton=3000)\n",
    "    times0 = get_FWHMtimes(vtt, v0 =0, dt = lb.h.dt)\n",
    "\n",
    "vtt = clip(vtracs-EL0,0,100)\n",
    "if times_biexp:\n",
    "    times = get_atimes(vtt,ton=3000)\n",
    "else:\n",
    "    times, tt, trise = get_atimes(vtt,ton=3000)\n",
    "    times = get_FWHMtimes(vtt, v0 =0, dt = lb.h.dt)\n",
    "\n",
    "with open(\"../SpineModel/dis_glu_ga02x2.pickle\",\"wb\") as f:\n",
    "    pickle.dump([dis,mes,mes0,times,times0],f) \n",
    "    \n",
    "    "
   ]
  },
  {
   "cell_type": "code",
   "execution_count": 120,
   "metadata": {},
   "outputs": [],
   "source": [
    "with open(\"../SpineModel/dis_glu_ga02x2.pickle\",\"wb\") as f:\n",
    "    pickle.dump([dis,mes,mes0,times,times0],f) "
   ]
  },
  {
   "cell_type": "code",
   "execution_count": 112,
   "metadata": {},
   "outputs": [
    {
     "data": {
      "text/plain": [
       "(1000,)"
      ]
     },
     "execution_count": 112,
     "metadata": {},
     "output_type": "execute_result"
    }
   ],
   "source": [
    "times.shape"
   ]
  },
  {
   "cell_type": "code",
   "execution_count": 123,
   "metadata": {},
   "outputs": [
    {
     "data": {
      "text/plain": [
       "[<matplotlib.lines.Line2D at 0x7ff9159a7518>]"
      ]
     },
     "execution_count": 123,
     "metadata": {},
     "output_type": "execute_result"
    },
    {
     "data": {
      "image/png": "[encoded data removed]",
      "text/plain": [
       "<Figure size 432x288 with 1 Axes>"
      ]
     },
     "metadata": {
      "needs_background": "light"
     },
     "output_type": "display_data"
    }
   ],
   "source": [
    "plot(dis['Dss'],mes[:,2]/mes0[:,2],'.')"
   ]
  },
  {
   "cell_type": "code",
   "execution_count": 142,
   "metadata": {},
   "outputs": [
    {
     "data": {
      "text/plain": [
       "dict_keys(['#Bch', 'Dsb', 'Dss', 'd_interSp', 'Vtot', 'Vh', 'Ln', 'SA', 'nPSD', 'A1', 'A2', 'GPHN SNR', 'DiS-EMchk', 'Lneck', 'maxDneck', 'minDneck', 'meanDneck', 'Rneck', 'Lhead', 'maxDhead', 'minDhead', 'meanDhead', 'Ah', 'Rhead', 'L', 'D', 'AhA0'])"
      ]
     },
     "execution_count": 142,
     "metadata": {},
     "output_type": "execute_result"
    }
   ],
   "source": [
    "spdata.keys()"
   ]
  },
  {
   "cell_type": "code",
   "execution_count": 157,
   "metadata": {},
   "outputs": [],
   "source": [
    "sel = (spdata['Vh']>0.15)\n",
    "headsize = column_stack((spdata['Lhead'],spdata['maxDhead']/1000.0)).max(1)"
   ]
  },
  {
   "cell_type": "code",
   "execution_count": 158,
   "metadata": {},
   "outputs": [
    {
     "data": {
      "text/plain": [
       "[<matplotlib.lines.Line2D at 0x7ff90c43d860>]"
      ]
     },
     "execution_count": 158,
     "metadata": {},
     "output_type": "execute_result"
    },
    {
     "data": {
      "image/png": "[encoded data removed]",
      "text/plain": [
       "<Figure size 432x288 with 1 Axes>"
      ]
     },
     "metadata": {
      "needs_background": "light"
     },
     "output_type": "display_data"
    }
   ],
   "source": [
    "plot(headsize,spdata['Vh'],'.')"
   ]
  },
  {
   "cell_type": "code",
   "execution_count": 172,
   "metadata": {},
   "outputs": [
    {
     "data": {
      "text/plain": [
       "[<matplotlib.lines.Line2D at 0x7ff906ee2eb8>]"
      ]
     },
     "execution_count": 172,
     "metadata": {},
     "output_type": "execute_result"
    },
    {
     "data": {
      "image/png": "[encoded data removed]",
      "text/plain": [
       "<Figure size 432x288 with 1 Axes>"
      ]
     },
     "metadata": {
      "needs_background": "light"
     },
     "output_type": "display_data"
    }
   ],
   "source": [
    "vhs = column_stack((spdata['Vh'][0:-1],spdata['Vh'][1:])).min(1)\n",
    "sel = spdata['d_interSp'][:-1]>0.0\n",
    "plot(vhs[sel],spdata['d_interSp'][:-1][sel],'.')"
   ]
  },
  {
   "cell_type": "code",
   "execution_count": 168,
   "metadata": {},
   "outputs": [
    {
     "data": {
      "text/plain": [
       "0.942363999999999"
      ]
     },
     "execution_count": 168,
     "metadata": {},
     "output_type": "execute_result"
    }
   ],
   "source": [
    "spdata['d_interSp'][-4]"
   ]
  },
  {
   "cell_type": "code",
   "execution_count": null,
   "metadata": {},
   "outputs": [],
   "source": [
    "        NC.weight[0]  = data[i,0] *gtrA#/2\n",
    "        NCN.weight[0] = data[i,1] *gtrN#*0#*0\n",
    "        NCG.weight[0] = data[i,2] *gtrG#*0"
   ]
  },
  {
   "cell_type": "code",
   "execution_count": 177,
   "metadata": {
    "scrolled": true
   },
   "outputs": [
    {
     "name": "stdout",
     "output_type": "stream",
     "text": [
      "0.0009556424758356164\n"
     ]
    },
    {
     "data": {
      "image/png": "[encoded data removed]",
      "text/plain": [
       "<Figure size 432x288 with 1 Axes>"
      ]
     },
     "metadata": {
      "needs_background": "light"
     },
     "output_type": "display_data"
    }
   ],
   "source": [
    "hist(gtrA*spdata['A1']*1000,100)\n",
    "print(mean(gtrA*spdata['A1']))"
   ]
  },
  {
   "cell_type": "code",
   "execution_count": 200,
   "metadata": {},
   "outputs": [
    {
     "name": "stdout",
     "output_type": "stream",
     "text": [
      "0.0008687658871232876\n"
     ]
    },
    {
     "data": {
      "image/png": "[encoded data removed]",
      "text/plain": [
       "<Figure size 432x288 with 1 Axes>"
      ]
     },
     "metadata": {
      "needs_background": "light"
     },
     "output_type": "display_data"
    }
   ],
   "source": [
    "hist(gtrG*iPSDsh*1000,100)\n",
    "print(mean(gtrG*spdata['A1']))"
   ]
  },
  {
   "cell_type": "code",
   "execution_count": 266,
   "metadata": {},
   "outputs": [
    {
     "name": "stdout",
     "output_type": "stream",
     "text": [
      "3.117219987294645 nS\n",
      "320.7986616523251 MOhm\n"
     ]
    }
   ],
   "source": [
    "areaunit = 1e-6**2 # um2\n",
    "condunit = 1e4 #S/cm2\n",
    "cmunit = 1e-6*1e4 #uF/cm2\n",
    "trunit = areaunit*condunit\n",
    "GL = model.soma(0.5).g_pas*condunit*model.soma(0.5).area()*areaunit\n",
    "for dend in model.dend:\n",
    "    GL += dend(0.5).g_pas*condunit*dend(0.5).area()*areaunit\n",
    "print(GL/1e-9,'nS')\n",
    "print(1.0/GL/1e6,'MOhm')"
   ]
  },
  {
   "cell_type": "code",
   "execution_count": 262,
   "metadata": {},
   "outputs": [
    {
     "data": {
      "text/plain": [
       "2.6733876476877217e-09"
      ]
     },
     "execution_count": 262,
     "metadata": {},
     "output_type": "execute_result"
    }
   ],
   "source": [
    "model.soma(0.5).g_pas/1e-2**2*1e-6**2*model.soma(0.5).area()"
   ]
  },
  {
   "cell_type": "code",
   "execution_count": 254,
   "metadata": {},
   "outputs": [
    {
     "data": {
      "text/plain": [
       "0.006999999999999999"
      ]
     },
     "execution_count": 254,
     "metadata": {},
     "output_type": "execute_result"
    }
   ],
   "source": [
    "(model.soma(0.5).cm*1e-6)/(model.soma.g_pas)"
   ]
  },
  {
   "cell_type": "code",
   "execution_count": 226,
   "metadata": {},
   "outputs": [
    {
     "name": "stdout",
     "output_type": "stream",
     "text": [
      "1871.3713533814052 1871.3713533814052\n"
     ]
    }
   ],
   "source": [
    "model.soma.L\n",
    "model.soma.diam\n",
    "print(model.soma.L*model.soma.diam*pi,model.soma(0.5).area())"
   ]
  },
  {
   "cell_type": "code",
   "execution_count": 207,
   "metadata": {},
   "outputs": [
    {
     "data": {
      "text/plain": [
       "236.38397189116367"
      ]
     },
     "execution_count": 207,
     "metadata": {},
     "output_type": "execute_result"
    }
   ],
   "source": [
    "model.dend[2](0.5).area()"
   ]
  },
  {
   "cell_type": "code",
   "execution_count": null,
   "metadata": {},
   "outputs": [],
   "source": []
  }
 ],
 "metadata": {
  "kernelspec": {
   "display_name": "neuron",
   "language": "python",
   "name": "neuron"
  },
  "language_info": {
   "codemirror_mode": {
    "name": "ipython",
    "version": 3
   },
   "file_extension": ".py",
   "mimetype": "text/x-python",
   "name": "python",
   "nbconvert_exporter": "python",
   "pygments_lexer": "ipython3",
   "version": "3.6.5"
  }
 },
 "nbformat": 4,
 "nbformat_minor": 2
}
