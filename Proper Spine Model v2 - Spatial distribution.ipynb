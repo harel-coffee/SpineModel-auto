{
 "cells": [
  {
   "cell_type": "markdown",
   "metadata": {},
   "source": [
    "# Spine Model\n"
   ]
  },
  {
   "cell_type": "code",
   "execution_count": 1,
   "metadata": {},
   "outputs": [
    {
     "name": "stdout",
     "output_type": "stream",
     "text": [
      "\t0 \n",
      "\t1 \n",
      "\t1 \n",
      "\t1 \n",
      "\t1 \n",
      "20.0 29.78380012512207 1871.3713533814052 15.707963267948966\n",
      "Topology:\n",
      "\n",
      "|-|       soma(0-1)\n",
      "   `|       dendA1prox(0-1)\n",
      "     `|       dendA1(0-1)\n",
      "       `|       dendShaft(0-1)\n",
      "         `|       dendA2(0-1)\n",
      "        `|       NSpne001(0-1)\n",
      "          `|       Spne001(0-1)\n",
      "        `|       NSpne000(0-1)\n",
      "          `|       Spne000(0-1)\n",
      "   `|       dendB1(0-1)\n",
      "\n",
      "1.0\n"
     ]
    }
   ],
   "source": [
    "from numpy import *   #ones, cumsum, sum, isscalar\n",
    "from matplotlib.pylab import * \n",
    "%matplotlib inline\n",
    "plotose = True\n",
    "import pickle\n",
    "\n",
    "import PS_lib as lb\n",
    "import PS_storage as st\n",
    "import PS_tools as tools\n",
    "\n",
    "from bootstrap import btset_cd, generateplots, btShInh, btShInhwpos\n",
    "from data_Fullset import SCxL23 as exppar\n",
    "\n",
    "# Parameter definitions\n",
    "# Data is stored here      \n",
    "data = st.dataStorage() # some default parameters defined.\n",
    "data.dt = 0.05\n",
    "data.NMDA = False\n",
    "\n",
    "# Definition of the model.\n",
    "lb.h.dt = data.dt\n",
    "NMDA = data.NMDA\n",
    "model = lb.loadNeuron(\"ball-2sticks.hoc\",axon=False)\n",
    "\n",
    "# Adding piece of dendritic branch with spine\n",
    "model.addDend(name=\"dendShaft\",locus=\"dendA1\",L=2.1,D=0.87,ilocus=1)\n",
    "model.addSpne(locus=\"dendShaft\",ilocus=0.3333,L=1.0,D=1.0,Lneck=1.0,Dneck=0.15)\n",
    "# Temperature of the neuron\n",
    "lb.h.celsius = model.temperature\n",
    "model.addDend(name=\"dendA2\",locus=3,L=10.0,D=0.5,ilocus=1)\n",
    "# Adding 2nd spine\n",
    "model.addSpne(locus=\"dendShaft\",ilocus=0.6666,L=1.0,D=1.0,Lneck=1.0,Dneck=0.15)\n",
    "\n",
    "\n",
    "data.model = model.__dict__\n",
    "\n",
    "model.soma.L = 20\n",
    "#model.comp['B1'].L = 200\n",
    "#model.comp['B1'].diam = 10\n",
    "print(model.soma.L,model.soma.diam,model.soma(0.5).area(),model.dend[-1](0.5).area())\n",
    "\n",
    "print(\"Topology:\")\n",
    "print(lb.h.topology())\n",
    "\n"
   ]
  },
  {
   "cell_type": "code",
   "execution_count": 2,
   "metadata": {},
   "outputs": [],
   "source": [
    "import PS_tools as tools\n"
   ]
  },
  {
   "cell_type": "markdown",
   "metadata": {},
   "source": [
    "### Bootstrapping spines and synapses\n",
    "\n"
   ]
  },
  {
   "cell_type": "code",
   "execution_count": 3,
   "metadata": {
    "scrolled": false
   },
   "outputs": [
    {
     "name": "stdout",
     "output_type": "stream",
     "text": [
      "Area Volume Ah Vh\n",
      "1.5307191420076334 0.28549011813629005 1.9410546619231768 0.35083057194256123\n"
     ]
    }
   ],
   "source": [
    "nsp = 500\n",
    "dis = btset_cd(cd='DiS',size=nsp)\n",
    "sis = btset_cd(cd='SiS',size=nsp)\n",
    "sps = btset_cd(cd='Sp',size=nsp)\n",
    "\n",
    "dis['Rneck'] = dis['Rneck']#*2\n",
    "sis['Rneck'] = sis['Rneck']#*2\n",
    "sps['Rneck'] = sps['Rneck']#*2\n",
    "\n",
    "iPSDsh = btShInh(size=nsp)\n",
    "\n",
    "\n",
    "sp = model.spne[0]\n",
    "sp.L = dis[\"L\"].mean()\n",
    "sp.diam = dis[\"D\"].mean()\n",
    "\n",
    "print(\"Area Volume Ah Vh\")\n",
    "print(sp(0.5).area(),sp(0.5).volume(),dis[\"Ah\"][0]/dis[\"AhA0\"][0],dis[\"Vh\"][0])"
   ]
  },
  {
   "cell_type": "code",
   "execution_count": 4,
   "metadata": {},
   "outputs": [],
   "source": [
    "gtrG = exppar.gtrG\n",
    "gtrA = exppar.gtrA\n",
    "gtrN = exppar.gtrN\n"
   ]
  },
  {
   "cell_type": "markdown",
   "metadata": {},
   "source": [
    "### Excitatory synapse \n",
    "\n",
    "We need to define the arrival time and dynamics. These parameters may be modified later"
   ]
  },
  {
   "cell_type": "code",
   "execution_count": 5,
   "metadata": {},
   "outputs": [],
   "source": [
    "model.AMPAlist = []\n",
    "model.ncAMPAlist = []\n",
    "\n",
    "tau1  = exppar.AMPAtaus[0]\n",
    "tau2 = exppar.AMPAtaus[1]\n",
    "AMPA0 = lb.h.Exp2Syn(1,sec = model.spne[0])\n",
    "AMPA0.tau1 = tau1\n",
    "AMPA0.tau2 = tau2\n",
    "AMPA1 = lb.h.Exp2Syn(1,sec = model.spne[1])\n",
    "AMPA1.tau1 = tau1\n",
    "AMPA1.tau2 = tau2\n",
    "\n",
    "gmax = gtrA*sps['A1'].mean()\n",
    "stimE0=lb.h.NetStim(); stimE0.number = 1\n",
    "stimE1=lb.h.NetStim(); stimE1.number = 1\n",
    "NC0 = lb.h.NetCon(stimE0,AMPA0,0,0,gmax)\n",
    "NC1 = lb.h.NetCon(stimE1,AMPA1,0,0,gmax)\n",
    "\n",
    "model.AMPAlist.append(AMPA0)\n",
    "model.AMPAlist.append(AMPA1)\n",
    "model.ncAMPAlist.append(NC0)\n",
    "model.ncAMPAlist.append(NC1)\n",
    "NC0.delay = 10\n",
    "NC1.delay = 10\n",
    "\n",
    "# NMDA part\n",
    "gmaxN = gtrN*sps['A1'].mean()\n",
    "lb.add_NMDAsyns(model, locs=[[0,0.5]], gmax=gmaxN,tau2=20.0)  \n",
    "NMDA0 = model.NMDAlist[0]\n",
    "NCN0 = model.ncNMDAlist[0]\n",
    "stimN0=lb.h.NetStim();stimN0.number = 1\n",
    "NCN0 = lb.h.NetCon(stimN0,NMDA0,0,0,gmaxN)\n",
    "model.ncNMDAlist[0] = NCN0\n",
    "lb.add_NMDAsyns(model, locs=[[0,0.5]], gmax=gmaxN,tau2=20.0)  \n",
    "NMDA1 = model.NMDAlist[1]\n",
    "NCN1 = model.ncNMDAlist[1]\n",
    "stimN1=lb.h.NetStim();stimN1.number = 1\n",
    "NCN1 = lb.h.NetCon(stimN1,NMDA1,0,0,gmaxN)\n",
    "model.ncNMDAlist[1] = NCN1\n",
    "NMDA0.tau1 = exppar.NMDAtaus[0]\n",
    "NMDA0.tau2 = exppar.NMDAtaus[1]\n",
    "NMDA1.tau1 = exppar.NMDAtaus[0]\n",
    "NMDA1.tau2 = exppar.NMDAtaus[1]"
   ]
  },
  {
   "cell_type": "markdown",
   "metadata": {},
   "source": [
    "### Inhibitory synapse"
   ]
  },
  {
   "cell_type": "code",
   "execution_count": 6,
   "metadata": {},
   "outputs": [],
   "source": [
    "gmaxG = gtrG*dis['A2'].mean()\n",
    "GABA, NCG = lb.add_GABAsyns(model, locs=[[0,1]], spne=True, gmax=gmaxG,tau1=exppar.GABAtaus[0],tau2=exppar.GABAtaus[1])  \n",
    "\n",
    "\n",
    "gmaxG = gtrG*iPSDsh.mean()\n",
    "GABA2, NCG2 = lb.add_GABAsynscomp(model, model.comp['dendShaft'], loc = 0.1, gmax=gmaxG,tau1=exppar.GABAtaus[0],tau2=exppar.GABAtaus[1])  \n"
   ]
  },
  {
   "cell_type": "code",
   "execution_count": 7,
   "metadata": {},
   "outputs": [],
   "source": [
    "lb.init_active(model, axon=False, soma=False, dend=False, dendNa=False,\n",
    "                dendCa=False,spne=True)"
   ]
  },
  {
   "cell_type": "markdown",
   "metadata": {},
   "source": [
    "# Recordings"
   ]
  },
  {
   "cell_type": "code",
   "execution_count": 8,
   "metadata": {},
   "outputs": [
    {
     "data": {
      "text/plain": [
       "Vector[12]"
      ]
     },
     "execution_count": 8,
     "metadata": {},
     "output_type": "execute_result"
    }
   ],
   "source": [
    "trec, vrec = lb.h.Vector(), lb.h.Vector()\n",
    "gRec, iRec,  vspneRec = [], [], []\n",
    "gNMDA_rec, iNMDA_rec = [], []\n",
    "trec.record(lb.h._ref_t)\n",
    "vrec.record(model.soma(0.5)._ref_v)\n",
    "\n",
    "\n",
    "#n=0\n",
    "vDendRec = []\n",
    "vRecn = {}\n",
    "#For all dendrites\n",
    "for dend in model.dend:\n",
    "    #Adding vectors for Voltage, and Calcium\n",
    "    vDendRec.append(lb.h.Vector())\n",
    "    # Placing recording at mid-point in the dendritic branch\n",
    "    vDendRec[-1].record(dend(0.5)._ref_v)\n",
    "    vRecn[dend.name()] = vDendRec[-1]\n",
    "    # NO CALCIUM!?!?!\n",
    "#Probably better to organize them in a dictionary        \n",
    "vDendRec[1].record(model.dend[1](1.0)._ref_v)\n",
    "\n",
    "# Spine voltage recording stuff\n",
    "vspneRec.append(lb.h.Vector())\n",
    "vspneRec.append(lb.h.Vector())\n",
    "sp0 = model.spne[0]\n",
    "vspneRec[0].record(sp0(0.5)._ref_v)\n",
    "sp1 = model.spne[1]\n",
    "vspneRec[1].record(sp1(0.5)._ref_v)\n",
    "\n",
    "# Calcium\n",
    "\n",
    "caRecn = {}\n",
    "caRecn['sp0 iCa'] = lb.h.Vector()\n",
    "caRecn['sp1 iCa'] = lb.h.Vector()\n",
    "caRecn['sp0 Ca'] = lb.h.Vector()\n",
    "caRecn['sp1 Ca'] = lb.h.Vector()\n",
    "caRecn['sp0 iCa'].record(sp0(0.5)._ref_ica) \n",
    "caRecn['sp1 iCa'].record(sp1(0.5)._ref_ica) \n",
    "caRecn['sp0 Ca'].record(sp0(1.0)._ref_cai)\n",
    "caRecn['sp1 Ca'].record(sp1(1.0)._ref_cai) \n"
   ]
  },
  {
   "cell_type": "code",
   "execution_count": 9,
   "metadata": {},
   "outputs": [],
   "source": [
    "vDendEL = []\n",
    "dend = model.dend[1]\n",
    "for i in range(10):\n",
    "    vDendEL.append(lb.h.Vector())\n",
    "    vDendEL[-1].record(dend((i+1.0)/10.0)._ref_v)"
   ]
  },
  {
   "cell_type": "code",
   "execution_count": 10,
   "metadata": {},
   "outputs": [],
   "source": [
    "vDendEL2 = []\n",
    "dend = model.dend[-1]\n",
    "for i in range(10):\n",
    "    vDendEL2.append(lb.h.Vector())\n",
    "    vDendEL2[-1].record(dend((i+1.0)/10.0)._ref_v)"
   ]
  },
  {
   "cell_type": "code",
   "execution_count": 11,
   "metadata": {},
   "outputs": [
    {
     "data": {
      "text/plain": [
       "Vector[35]"
      ]
     },
     "execution_count": 11,
     "metadata": {},
     "output_type": "execute_result"
    }
   ],
   "source": [
    "iRec.append(lb.h.Vector())\n",
    "iRec.append(lb.h.Vector())\n",
    "currentAMPA = iRec[0]\n",
    "\n",
    "currentGABA = iRec[1]\n",
    "iRec.append(lb.h.Vector())\n",
    "currentNMDA = iRec[-1]\n",
    "currentNMDA.record(NMDA1._ref_i)\n"
   ]
  },
  {
   "cell_type": "code",
   "execution_count": 12,
   "metadata": {
    "scrolled": true
   },
   "outputs": [
    {
     "data": {
      "text/plain": [
       "Vector[34]"
      ]
     },
     "execution_count": 12,
     "metadata": {},
     "output_type": "execute_result"
    }
   ],
   "source": [
    "currentAMPA.record(AMPA0._ref_i)\n",
    "currentGABA.record(GABA._ref_i)"
   ]
  },
  {
   "cell_type": "code",
   "execution_count": 13,
   "metadata": {},
   "outputs": [
    {
     "data": {
      "text/plain": [
       "Vector[36]"
      ]
     },
     "execution_count": 13,
     "metadata": {},
     "output_type": "execute_result"
    }
   ],
   "source": [
    "iRec.append(lb.h.Vector())\n",
    "currentGABA2 = iRec[-1]\n",
    "currentGABA2.record(GABA2._ref_i)\n"
   ]
  },
  {
   "cell_type": "markdown",
   "metadata": {},
   "source": [
    "## Small tuning parameters for dendrite?"
   ]
  },
  {
   "cell_type": "code",
   "execution_count": 14,
   "metadata": {},
   "outputs": [],
   "source": [
    "dendsizeL0 = exppar.dendsizeL0\n",
    "dendsizeL = max(max(max(dis['Dss'])+5,max(sis['Dss'])+5),150)\n",
    "neck = model.neck[0]\n",
    "Rneck = neck.L*1e-6/(neck.diam*1e-6/2.0)**2/pi*neck.Ra/100\n",
    "dend = model.comp['dendA1prox']\n",
    "dend.L = exppar.dendsizeL0\n",
    "dend.diam = exppar.denddiam0"
   ]
  },
  {
   "cell_type": "code",
   "execution_count": 15,
   "metadata": {},
   "outputs": [],
   "source": [
    "dendA2 = model.comp['dendA2']\n",
    "dendA1 = model.comp['dendA1']\n",
    "dendsh = model.comp['dendShaft']\n",
    "\n",
    "dendA2.L = 1.0"
   ]
  },
  {
   "cell_type": "code",
   "execution_count": 16,
   "metadata": {},
   "outputs": [],
   "source": [
    "dendsh.diam = exppar.dendDiam\n",
    "dendA1.diam = exppar.dendDiam\n",
    "dendA2.diam = exppar.dendDiam   "
   ]
  },
  {
   "cell_type": "code",
   "execution_count": 17,
   "metadata": {},
   "outputs": [],
   "source": [
    "model.RM = exppar.rm\n",
    "for sec in lb.h.allsec():\n",
    "    sec.Ra = exppar.ra\n",
    "    sec.cm = 1.0\n",
    "    sec.g_pas = 1.0/model.RM\n",
    "\n",
    "factor = exppar.factor2nddend\n",
    "model.comp['dendB1'].cm = factor\n",
    "model.comp['dendB1'].g_pas = factor/model.RM\n",
    "model.comp['dendB1'].L = exppar.len2nddend\n",
    "model.comp['dendB1'].diam = 1"
   ]
  },
  {
   "cell_type": "code",
   "execution_count": 18,
   "metadata": {},
   "outputs": [
    {
     "name": "stdout",
     "output_type": "stream",
     "text": [
      "2.6671676096808747\n",
      "0.9765100830633517 3.6436776927442267\n"
     ]
    }
   ],
   "source": [
    "rhosp = 1.3\n",
    "diamneck = sps['meanDneck'].mean()/1e3\n",
    "dendareaperL = rhosp*(mean(sps['Ah'])+(pi*diamneck))\n",
    "factor = dendareaperL/(pi*dendA1.diam)\n",
    "print(factor)\n",
    "factorsp = factor\n",
    "factordd = (pi*dendA1.diam-(pi*diamneck**2/4.0)*rhosp)/(pi*dendA1.diam)\n",
    "print(factordd,factordd+factorsp)\n",
    "\n",
    "factor = factordd+factorsp\n",
    "factor = exppar.factorspinesdend\n",
    "dendA2.cm = factor\n",
    "dendA1.cm = factor\n",
    "\n",
    "dendA2.g_pas = factor/model.RM\n",
    "dendA1.g_pas = factor/model.RM"
   ]
  },
  {
   "cell_type": "code",
   "execution_count": 19,
   "metadata": {},
   "outputs": [
    {
     "name": "stdout",
     "output_type": "stream",
     "text": [
      "10 10\n"
     ]
    }
   ],
   "source": [
    "dendA1.nseg = int(dendA1.L//10)+1\n",
    "dendA2.nseg = int(dendA2.L//10)+1\n",
    "\n",
    "dendA1.nseg = 10\n",
    "dendA2.nseg = 10\n",
    "print(dendA1.nseg,dendA2.nseg)"
   ]
  },
  {
   "cell_type": "code",
   "execution_count": 20,
   "metadata": {},
   "outputs": [],
   "source": [
    "diam0 = 0.15\n",
    "#Rneck0 = Rneck/1e6\n",
    "#Cm0 = model.CM\n"
   ]
  },
  {
   "cell_type": "code",
   "execution_count": 21,
   "metadata": {},
   "outputs": [],
   "source": [
    "Rneck0 = neck.Ra*sps['Lneck']/(diam0)**2*0.04/pi\n",
    "#print(Rneck0,data[i,3])\n",
    "#diams = diam0*sqrt(Rneck0/sps['Rneck'])\n",
    "#hist(diams, 51,density = True)\n",
    "#hist(sps['minDneck']/1e3,51,alpha=0.7,density = True)\n",
    "#hist(sps['meanDneck']/1e3,51,alpha=0.7,density = True)"
   ]
  },
  {
   "cell_type": "code",
   "execution_count": 22,
   "metadata": {},
   "outputs": [
    {
     "data": {
      "text/plain": [
       "[dendA1prox, dendA1, dendB1, dendShaft, dendA2]"
      ]
     },
     "execution_count": 22,
     "metadata": {},
     "output_type": "execute_result"
    }
   ],
   "source": [
    "model.dend"
   ]
  },
  {
   "cell_type": "code",
   "execution_count": 23,
   "metadata": {
    "scrolled": false
   },
   "outputs": [],
   "source": [
    "Rdendprox = model.comp['dendA1prox'].L*1e-6/2.0*model.comp['dendA1prox'].Ra/100/(pi*(model.comp['dendA1prox'].diam*1e-6/2.0)**2)\n",
    "diam0 = 0.15\n",
    "\n",
    "def simulateSet2sp(model,spn,spn2,tG = 500,ton = 50, dton2 = 0,\n",
    "                toffset = 50,t_stop = 250, EL = -65,\n",
    "                btsr = None,VDCC = array([0.,0,0,0]), \n",
    "                dendrec = True, inh = 'in', silent = None,iPSDsh = None):\n",
    "    if btsr is None:\n",
    "        btsr = ones(9)==0\n",
    "    model.E_PAS = EL\n",
    "    model.soma.e_pas = model.E_PAS\n",
    "    for dendp in model.dend:\n",
    "        dendp.e_pas = model.E_PAS\n",
    "    for sp in model.spne:\n",
    "        sp.e_pas = model.E_PAS\n",
    "\n",
    "    dendsh = model.comp['dendShaft']\n",
    "    dendA1 = model.comp['dendA1']\n",
    "    dendA2 = model.comp['dendA2']\n",
    "    \n",
    "    neck0 = model.neck[0]\n",
    "    sp0 = model.spne[0]\n",
    "    neck1 = model.neck[1]\n",
    "    sp1 = model.spne[1]\n",
    "\n",
    "    dshL = dendsh.L\n",
    "    dendsizeL = dendsh.L+dendA1.L+dendA2.L\n",
    "    data = column_stack((spn[\"A1\"],spn[\"A1\"],spn[\"A2\"],\n",
    "                         spn[\"Rneck\"],spn[\"Dss\"],spn[\"Lhead\"],\n",
    "                         spn[\"D\"],spn[\"Ln\"],spn[\"AhA0\"], \n",
    "                         spn[\"meanDneck\"]/1e3))\n",
    "    data2 = column_stack((spn2[\"A1\"],spn2[\"Rneck\"],spn2[\"Lhead\"],\n",
    "                          spn2[\"D\"],spn2[\"Ln\"],spn2[\"AhA0\"]))\n",
    "\n",
    "    if isnan(data).sum()>0:\n",
    "        raise \"There are nans, do something about it!\"\n",
    "    for i in range(9):\n",
    "        if ~btsr[i]:\n",
    "            data[:,i] = data[:,i].mean()\n",
    "         \n",
    "    nsp = data.shape[0]\n",
    "    if iPSDsh is None:\n",
    "        iPSDsh = zeros(nsp)\n",
    "    mes = zeros((nsp,9))\n",
    "    me2 = zeros((nsp,11))\n",
    "    me3 = zeros((nsp,10))\n",
    "\n",
    "    iad = 2\n",
    "    vavg = zeros((int(t_stop/lb.h.dt)+iad,7))\n",
    "    vtracs = zeros((int(t_stop/lb.h.dt)+iad,nsp))\n",
    "    vtracs2 = zeros((int(t_stop/lb.h.dt)+iad,nsp))\n",
    "    Ctracs2 = zeros((int(t_stop/lb.h.dt)+iad,nsp))\n",
    "    Ctracs = zeros((int(t_stop/lb.h.dt)+iad,nsp))\n",
    "    vtracsD = zeros((int(t_stop/lb.h.dt)+iad,nsp))\n",
    "    vtracsS = zeros((int(t_stop/lb.h.dt)+iad,nsp))\n",
    "    for i in arange(nsp):\n",
    "        NC0.weight[0]  = data[i,0] *gtrA\n",
    "        NCN0.weight[0] = data[i,1] *gtrN\n",
    "        NC1.weight[0]  = data2[i,0] *gtrA\n",
    "        NCN1.weight[0] = data2[i,0] *gtrN\n",
    "        if silent == 'sp0':\n",
    "            NC0.weight[0] = 0\n",
    "            NCN0.weight[0] = 0\n",
    "        elif silent == 'sp1':\n",
    "            NC1.weight[0]  = 0\n",
    "            NCN1.weight[0] = 0\n",
    "        elif silent == 'both':\n",
    "            NC0.weight[0] = 0\n",
    "            NCN0.weight[0] = 0\n",
    "            NC1.weight[0]  = 0\n",
    "            NCN1.weight[0] = 0\n",
    "            \n",
    "        if inh == 'in':\n",
    "            NCG.weight[0] = data[i,2] *gtrG\n",
    "            NCG2.weight[0] = 0.0\n",
    "        elif inh =='out':\n",
    "            NCG.weight[0] = 0.0\n",
    "            NCG2.weight[0] = iPSDsh[i] *gtrG\n",
    "        else:\n",
    "            NCG.weight[0] = 0.0\n",
    "            NCG2.weight[0] = 0.0\n",
    "            \n",
    "            \n",
    "\n",
    "        neck0.L = data[i,7]  \n",
    "        Rneck0 = neck.Ra*neck0.L/(diam0)**2*0.04/pi\n",
    "        neck0.diam = diam0*sqrt(Rneck0/data[i,3])\n",
    "        \n",
    "        neck1.L = data2[i,2]  \n",
    "        Rneck1 = neck.Ra*neck1.L/(diam0)**2*0.04/pi\n",
    "        neck1.diam = diam0*sqrt(Rneck1/data2[i,1])\n",
    "        \n",
    "        posD = data[i,4]\n",
    "        \n",
    "        dendA1.L = posD-dshL/2\n",
    "        dendA2.L = dendsizeL-posD-dshL/2\n",
    "\n",
    "        \n",
    "        # A = pi*D**2\n",
    "        sp0.L = data[i,5]\n",
    "        sp0.diam = data[i,6]\n",
    "        sp0.cm = data[i,8]\n",
    "        \n",
    "        CaTcond = 1e-3# pS\n",
    "        sp0.pbar_caL13PS = VDCC[0]*CaTcond#/spineArea\n",
    "        sp0.pbar_caLPS = VDCC[1]*CaTcond#/spineArea\n",
    "        sp0.pbar_canPS = VDCC[2]*CaTcond#/spineArea\n",
    "        sp0.pcaqbar_caqPS = VDCC[3]*CaTcond#/spineArea\n",
    "        \n",
    "        \n",
    "        sp1.L = data2[i,2]\n",
    "        sp1.diam = data2[i,3]\n",
    "        sp1.cm = data2[i,5]\n",
    "        sp1.pbar_caL13PS = VDCC[0]*CaTcond#/spineArea\n",
    "        sp1.pbar_caLPS = VDCC[1]*CaTcond#/spineArea\n",
    "        sp1.pbar_canPS = VDCC[2]*CaTcond#/spineArea\n",
    "        sp1.pcaqbar_caqPS = VDCC[3]*CaTcond#/spineArea\n",
    "        \n",
    "        \n",
    "        NC0.delay = toffset+ton-50\n",
    "        NCN0.delay = toffset+ton-50\n",
    "        \n",
    "        NC1.delay = toffset+ton+dton2-50\n",
    "        NCN1.delay = toffset+ton+dton2-50\n",
    "        \n",
    "        NCG.delay = toffset+tG\n",
    "        NCG2.delay = toffset+tG\n",
    "\n",
    "        for il in range(10):\n",
    "            f = 1-7.5*il/dendA1.L\n",
    "            #f = 0.5\n",
    "            if f>=0:\n",
    "                vDendEL[il].record(dendA1(f)._ref_v)\n",
    "            else:\n",
    "                vDendEL[il].record(dendA1(0.0)._ref_v)\n",
    "        \n",
    "        for il in range(10):\n",
    "            f = 7.5*il/dendA2.L\n",
    "            #f = 0.5\n",
    "            if f<=1:\n",
    "                vDendEL2[il].record(dendA2(f)._ref_v)\n",
    "            else:\n",
    "                vDendEL2[il].record(dendA2(1.0)._ref_v)\n",
    "                \n",
    "        lb.h.finitialize(model.E_PAS)\n",
    "\n",
    "                    \n",
    "        lb.neuron.run(t_stop)\n",
    "        \n",
    "        \n",
    "        current = abs((array(vDendRec[0])-array(vrec[0]))/Rdendprox)\n",
    "        \n",
    "        vtracs[:,i] = array(vspneRec[0]) \n",
    "        vtracs2[:,i] = array(vspneRec[1]) \n",
    "        \n",
    "        if dendrec:\n",
    "            vtracsD[:,i] = array(vDendRec[1])\n",
    "        else:\n",
    "            vtracsD[:,i] = array(vDendEL[2])\n",
    "            \n",
    "        vtracsS[:,i] = array(vrec) \n",
    "\n",
    "        vavg[:,0] += array(vspneRec[0]) \n",
    "        vavg[:,1] += array(vspneRec[0])**2\n",
    "        vavg[:,2] += array(vDendRec[1]) \n",
    "        vavg[:,3] += array(vDendRec[1])**2\n",
    "        vavg[:,4] += array(vrec) \n",
    "        vavg[:,5] += array(vrec)**2\n",
    "        vavg[:,6] += 1\n",
    "            \n",
    "        cat = array(caRecn['sp0 Ca'])/1e-3\n",
    "        Ctracs[:,i] = cat-cat[0] \n",
    "        cat = array(caRecn['sp1 Ca'])/1e-3\n",
    "        Ctracs2[:,i] = cat-cat[0] \n",
    "        \n",
    "        if inh=='out':\n",
    "            aG = abs(array(currentGABA2)).argmax()\n",
    "            maxGABA = array(currentGABA2)[aG]\n",
    "        else:\n",
    "            aG = abs(array(currentGABA)).argmax()\n",
    "            maxGABA = array(currentGABA)[aG]\n",
    "\n",
    "            \n",
    "        aA = abs(array(currentAMPA)).argmax()\n",
    "        aN = abs(array(currentNMDA)).argmax()\n",
    "        \n",
    "        mes[i,:] = [data[i,3],max(vspneRec[0])-EL,\n",
    "                    max(vDendRec[3])-EL,max(vrec)-EL,\n",
    "                    max(cat)-cat[0],maxGABA,\n",
    "                    array(currentAMPA)[aA],max(abs(current)),\n",
    "                    array(currentNMDA)[aN]]\n",
    "        me2[i,0] = max(vDendRec[3])\n",
    "        me2[i,1:] = [max(vD) for vD in vDendEL]\n",
    "        me3[i,:] = [max(vD) for vD in vDendEL2]\n",
    "\n",
    "\n",
    "        \n",
    "    vavg[:,:5] = vavg[:,:5]/vavg[0,6]\n",
    "    vavg[:,1] = sqrt(vavg[:,1]-vavg[:,0]**2)#/sqrt(vavg[0,6])\n",
    "    vavg[:,3] = sqrt(vavg[:,3]-vavg[:,2]**2)#/sqrt(vavg[0,6])\n",
    "    vavg[:,5] = sqrt(vavg[:,5]-vavg[:,4]**2)#/sqrt(vavg[0,6])\n",
    "    return(vavg,mes,vtracs,vtracsD,vtracsS,\n",
    "           Ctracs,me2,me3,array(trec),vtracs2,Ctracs2)"
   ]
  },
  {
   "cell_type": "code",
   "execution_count": 24,
   "metadata": {},
   "outputs": [],
   "source": [
    "VDCCa =  array([0.04023183, 0.08000483, 0.03416801, 0.02747762] )\n",
    "EL0 = -70"
   ]
  },
  {
   "cell_type": "code",
   "execution_count": 25,
   "metadata": {
    "scrolled": true
   },
   "outputs": [],
   "source": [
    "#vavg0,mes0,vtracs0,vtracsD0,vtracsS0,Ctracs0,me20,me30, trec = simulateSet(model,dis,tG = 100,ton = 50,toffset = 100,t_stop = 500, EL = EL0,btsr = ones(9)==1,VDCC = VDCCa, dendrec=False)\n",
    "#plot(arange(vtracs0.shape[0])*lb.h.dt,vtracs0[:,0])"
   ]
  },
  {
   "cell_type": "code",
   "execution_count": 26,
   "metadata": {},
   "outputs": [],
   "source": [
    "from PS_tools import *\n",
    "from scipy.signal import find_peaks\n",
    "from bootstrap import  ShInhwpos,btShInhwpos"
   ]
  },
  {
   "cell_type": "markdown",
   "metadata": {},
   "source": [
    "# 2 spines conditions"
   ]
  },
  {
   "cell_type": "code",
   "execution_count": 27,
   "metadata": {},
   "outputs": [],
   "source": [
    "def getvpeaks(vtracs2b,vtracs2,vtracs2c, th = 0.5, plotose = False,):\n",
    "    vt = 1.0*vtracs2b\n",
    "    lpeaks = list(map(lambda x: (find_peaks(x-min(x),height=th)[1]['peak_heights'].max(), min(x)) , vt.transpose()))\n",
    "    apeaks = array(lpeaks)\n",
    "    apeaks[:,0] = apeaks[:,0]+apeaks[:,1]\n",
    "    if plotose:\n",
    "        hist(apeaks[:,0]+65,bins=51,label= 'baseline',alpha=0.7)\n",
    "    ap0 = apeaks[:,0]\n",
    "    vt = 1.0*vtracs2c\n",
    "    lpeaks = list(map(lambda x: (find_peaks(x-min(x),height=th)[1]['peak_heights'].max(), min(x)) , vt.transpose()))\n",
    "    apeaks = array(lpeaks)\n",
    "    apeaks[:,0] = apeaks[:,0]+apeaks[:,1]\n",
    "    if plotose:\n",
    "        hist(apeaks[:,0]+65,bins=51,label= 'SiS',alpha=0.7)\n",
    "    ap0 = column_stack((ap0,apeaks[:,0]))\n",
    "\n",
    "    vt = 1.0*vtracs2\n",
    "    lpeaks = list(map(lambda x: (find_peaks(x-min(x),height=th)[1]['peak_heights'].max(), min(x)) , vt.transpose()))\n",
    "    apeaks = array(lpeaks)\n",
    "    apeaks[:,0] = apeaks[:,0]+apeaks[:,1]\n",
    "    if plotose:\n",
    "        hist(apeaks[:,0]+65,bins=51,label= 'DiS',alpha=0.7)\n",
    "        legend()\n",
    "    ap0 = column_stack((ap0,apeaks[:,0]))\n",
    "    ap0 = ap0\n",
    "    return(ap0)"
   ]
  },
  {
   "cell_type": "code",
   "execution_count": 28,
   "metadata": {},
   "outputs": [],
   "source": [
    "iPSDsh = btShInh(size=500)\n"
   ]
  },
  {
   "cell_type": "code",
   "execution_count": 29,
   "metadata": {},
   "outputs": [
    {
     "name": "stderr",
     "output_type": "stream",
     "text": [
      "/export/home1/users/bssn/serna/environments/neuron/lib/python3.6/site-packages/ipykernel_launcher.py:200: RuntimeWarning: invalid value encountered in sqrt\n"
     ]
    },
    {
     "name": "stdout",
     "output_type": "stream",
     "text": [
      "0\n"
     ]
    },
    {
     "name": "stderr",
     "output_type": "stream",
     "text": [
      "/export/home1/users/bssn/serna/environments/neuron/lib/python3.6/site-packages/ipykernel_launcher.py:199: RuntimeWarning: invalid value encountered in sqrt\n"
     ]
    },
    {
     "name": "stdout",
     "output_type": "stream",
     "text": [
      "5\n",
      "10\n",
      "15\n",
      "20\n",
      "25\n",
      "30\n",
      "35\n",
      "40\n",
      "45\n"
     ]
    }
   ],
   "source": [
    "dis = btset_cd(cd='DiS',size=nsp)\n",
    "sps = btset_cd(cd='Sp',size=nsp)\n",
    "sis = btset_cd(cd='SiS',size=nsp)\n",
    "iPSDsh = btShInh(size=nsp)\n",
    "\n",
    "dendsizeL = max(max(concatenate((dis['Dss'],sps['Dss'])))+5,150)\n",
    "dendA1.L = dendsizeL-10\n",
    "dendA2.L = 8 -dendsh.L\n",
    "\n",
    "nsp = 500\n",
    "\n",
    "for i in range(50):\n",
    "    res = simulateSet2sp(model,dis,sps,tG = 0,\n",
    "                      ton = 50,dton2 = 0.0,toffset = 100,\n",
    "                      t_stop = 500, EL = -70,\n",
    "                      btsr = ones(9)==1,VDCC = VDCCa, \n",
    "                      inh = 'in',silent = 'sp0', iPSDsh = iPSDsh)\n",
    "    _,_,vtracs0,vtracsD0,vtracsS0,Ctracs0,_,_,_,vtracs2,Ctracs2 = res\n",
    "    res = simulateSet2sp(model,dis,sps,tG = 500,\n",
    "                      ton = 50,dton2 = 0.0,toffset = 100,\n",
    "                      t_stop = 500, EL = -70,\n",
    "                      btsr = ones(9)==1,VDCC = VDCCa, \n",
    "                      inh = 'in',silent = 'sp0', iPSDsh = iPSDsh)\n",
    "    _,_,vtracs0b,vtracsD0b,vtracsS0b,Ctracs0b,_,_,_,vtracs2b,Ctracs2b = res\n",
    "    res = simulateSet2sp(model,dis,sps,tG = 0,\n",
    "                      ton = 50,dton2 = 0.0,toffset = 100,\n",
    "                      t_stop = 500, EL = -70,\n",
    "                      btsr = ones(9)==1,VDCC = VDCCa, \n",
    "                      inh = 'out',silent = 'sp0', iPSDsh = iPSDsh)\n",
    "    _,_,vtracs0c,vtracsD0c,vtracsS0c,Ctracs0c,_,_,_,vtracs2c,Ctracs2c = res\n",
    "    \n",
    "    ap0 = getvpeaks(vtracs2b,vtracs2,vtracs2c, th = 0.5, plotose = False)\n",
    "    apS = getvpeaks(vtracsS0b,vtracsS0,vtracsS0c, th = 0.02, plotose = False)\n",
    "    apD = getvpeaks(vtracsD0b,vtracsD0,vtracsD0c, th = 0.02, plotose = False)\n",
    "    apC = getvpeaks(Ctracs2b,Ctracs2,Ctracs2c, th = 0., plotose = False)\n",
    "    \n",
    " \n",
    "\n",
    "    res = simulateSet2sp(model,dis,sps,tG = 0.0,ton = 50,\n",
    "                      dton2 = 0.0,toffset = 100,t_stop = 500, \n",
    "                      EL = -70,btsr = ones(9)==1,VDCC = VDCCa, \n",
    "                      inh = 'in',silent = 'sp1', iPSDsh = iPSDsh)\n",
    "    _,_,vtracs0,vtracsD0,vtracsS0,Ctracs0,_,_,_,vtracs2,Ctracs2  = res\n",
    "    res = simulateSet2sp(model,dis,sps,tG = 500,\n",
    "                      ton = 50,dton2 = 0.0,toffset = 100,\n",
    "                      t_stop = 500, EL = -70,\n",
    "                      btsr = ones(9)==1,VDCC = VDCCa, \n",
    "                      inh = 'in',silent = 'sp1', iPSDsh = iPSDsh)\n",
    "    _,_,vtracs0b,vtracsD0b,vtracsS0b,Ctracs0b,_,_,_,vtracs2b,Ctracs2b =  res\n",
    "    res = simulateSet2sp(model,dis,sps,tG = 0.0,ton = 50,\n",
    "                      dton2 = 0.0,toffset = 100,t_stop = 500, \n",
    "                      EL = -70,btsr = ones(9)==1,VDCC = VDCCa, \n",
    "                      inh = 'out',silent = 'sp1', iPSDsh = iPSDsh)\n",
    "    _,_,vtracs0c,vtracsD0c,vtracsS0c,Ctracs0c,_,_,_,vtracs2c,Ctracs2c  = res \n",
    "    \n",
    "    bp0 = getvpeaks(vtracs0b,vtracs0,vtracs0c, th = 0.5, plotose = False)\n",
    "    bpS = getvpeaks(vtracsS0b,vtracsS0,vtracsS0c, th = 0.02, plotose = False)\n",
    "    bpD = getvpeaks(vtracsD0b,vtracsD0,vtracsD0c, th = 0.02, plotose = False)\n",
    "    bpC = getvpeaks(Ctracs0b,Ctracs0,Ctracs0c, th = 0.00, plotose = False)\n",
    "    \n",
    "    ap0 = column_stack((ap0,bp0))\n",
    "    apS = column_stack((apS,bpS))\n",
    "    apD = column_stack((apD,bpD))\n",
    "    apC = column_stack((apC,bpC))\n",
    "    \n",
    "    datat = column_stack((dis['A1'],dis['A2'],sps['A1'],\n",
    "                          iPSDsh,dis['Rneck'],sps['Rneck'],dis['Dss'],sps['Dss']))\n",
    "    \n",
    "    if i == 0:\n",
    "        fap0 = ap0+70\n",
    "        fapS = apS+70\n",
    "        fapD = apD+70\n",
    "        fapC = apC*1.0\n",
    "        fdat = datat*1.0\n",
    "    else:\n",
    "        fap0 = row_stack((fap0,ap0+70))\n",
    "        fapS = row_stack((fapS,apS+70))\n",
    "        fapD = row_stack((fapD,apD+70))\n",
    "        fapC = row_stack((fapC,apC))\n",
    "        fdat = row_stack((fdat,datat))\n",
    "\n",
    "    \n",
    "    dis = btset_cd(cd='DiS',size=nsp)\n",
    "    sps = btset_cd(cd='Sp',size=nsp)\n",
    "    sis = btset_cd(cd='Sp',size=nsp)\n",
    "\n",
    "    iPSDsh = btShInh(size=nsp)\n",
    "    \n",
    "    dendsizeL = max(max(concatenate((dis['Dss'],sps['Dss'])))+5,150)\n",
    "    dendA1.L = dendsizeL-10\n",
    "    dendA2.L = 8 -dendsh.L\n",
    "\n",
    "    if i%5 == 0: \n",
    "        print(i)\n",
    "        with open(\"gatinginfov2_temp.pickle\",\"wb\") as f:\n",
    "            pickle.dump([fapS,fapD,fap0,fapC,fdat],f)\n",
    "\n",
    "\n",
    "with open(\"gatinginfov2_.pickle\",\"wb\") as f:\n",
    "    pickle.dump([fapS,fapD,fap0,fapC,fdat],f)\n"
   ]
  },
  {
   "cell_type": "code",
   "execution_count": null,
   "metadata": {},
   "outputs": [],
   "source": [
    "ap0 = getvpeaks(vtracs2b,vtracs2,vtracs2c, th = 0.5, plotose = False)\n",
    "apS = getvpeaks(vtracsS0b,vtracsS0,vtracsS0c, th = 0.02, plotose = False)\n",
    "apD = getvpeaks(vtracsD0b,vtracsD0,vtracsD0c, th = 0.02, plotose = False)\n",
    "apC = getvpeaks(Ctracs2b,Ctracs2,Ctracs2c, th = 0., plotose = False)\n"
   ]
  },
  {
   "cell_type": "code",
   "execution_count": null,
   "metadata": {},
   "outputs": [],
   "source": []
  }
 ],
 "metadata": {
  "kernelspec": {
   "display_name": "neuron",
   "language": "python",
   "name": "neuron"
  },
  "language_info": {
   "codemirror_mode": {
    "name": "ipython",
    "version": 3
   },
   "file_extension": ".py",
   "mimetype": "text/x-python",
   "name": "python",
   "nbconvert_exporter": "python",
   "pygments_lexer": "ipython3",
   "version": "3.6.5"
  }
 },
 "nbformat": 4,
 "nbformat_minor": 2
}
